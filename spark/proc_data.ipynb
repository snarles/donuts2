{
 "metadata": {
  "name": "",
  "signature": "sha256:8adc83671de60b9aad064716b11c309e2eedcaf499fe5c48711ea4b1262b17a2"
 },
 "nbformat": 3,
 "nbformat_minor": 0,
 "worksheets": []
}