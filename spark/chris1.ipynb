{
 "metadata": {
  "name": "",
  "signature": "sha256:9bb0555c4df02ad7a1fef581d61ab4718ce579df39b57d5b6955e64bd9f6978c"
 },
 "nbformat": 3,
 "nbformat_minor": 0,
 "worksheets": [
  {
   "cells": [
    {
     "cell_type": "markdown",
     "metadata": {},
     "source": [
      "# Analysis of CNI data (1)"
     ]
    },
    {
     "cell_type": "code",
     "collapsed": false,
     "input": [
      "import cvxopt as cvx\n",
      "import numpy as np\n",
      "import numpy.random as npr\n",
      "import scipy as sp\n",
      "import scipy.optimize as spo\n",
      "import matplotlib.pyplot as plt\n",
      "import subprocess"
     ],
     "language": "python",
     "metadata": {},
     "outputs": [],
     "prompt_number": 1
    },
    {
     "cell_type": "code",
     "collapsed": false,
     "input": [
      "sc"
     ],
     "language": "python",
     "metadata": {},
     "outputs": [
      {
       "metadata": {},
       "output_type": "pyout",
       "prompt_number": 2,
       "text": [
        "<pyspark.context.SparkContext at 0x7f9c4ba11550>"
       ]
      }
     ],
     "prompt_number": 2
    },
    {
     "cell_type": "code",
     "collapsed": false,
     "input": [
      "bvecs = np.loadtxt(\"/root/chris1_bvec\", delimiter = \" \")\n",
      "bvecs = reshape(bvecs, (3, -1)).T"
     ],
     "language": "python",
     "metadata": {},
     "outputs": [],
     "prompt_number": 3
    },
    {
     "cell_type": "code",
     "collapsed": false,
     "input": [
      "n_d = np.shape(bvecs)[0]\n",
      "n_d"
     ],
     "language": "python",
     "metadata": {},
     "outputs": [
      {
       "metadata": {},
       "output_type": "pyout",
       "prompt_number": 4,
       "text": [
        "150"
       ]
      }
     ],
     "prompt_number": 4
    },
    {
     "cell_type": "code",
     "collapsed": false,
     "input": [
      "inds_b0 = [i for i in range(2, n_d) if sum(bvecs[i, :]**2)==0]\n",
      "inds_b0"
     ],
     "language": "python",
     "metadata": {},
     "outputs": [
      {
       "metadata": {},
       "output_type": "pyout",
       "prompt_number": 5,
       "text": [
        "[16, 31, 46, 61, 75, 90, 105, 120, 135, 149]"
       ]
      }
     ],
     "prompt_number": 5
    },
    {
     "cell_type": "code",
     "collapsed": false,
     "input": [
      "partitions = 100\n",
      "raw = sc.textFile(\"part00,part01,part02,part03,part04,part05\", partitions)"
     ],
     "language": "python",
     "metadata": {},
     "outputs": [],
     "prompt_number": 12
    },
    {
     "cell_type": "code",
     "collapsed": false,
     "input": [
      "def coords2key(coords):\n",
      "    return coords[2] + coords[1]*200 + coords[0]*200*200\n",
      "\n",
      "def key2coords(key):\n",
      "    c3 = key % 200\n",
      "    c2 = ((key-c3)/200) % 200\n",
      "    c1 = (key - c3 - 200*c2)/(200*200)\n",
      "    return np.array([c1, c2, c3])\n",
      "\n",
      "def readVoxStr(stt):\n",
      "    vec = np.fromstring(stt.replace(',', ' '), dtype=np.float32, sep=' ')\n",
      "    coords = np.array(vec[0:3], dtype=int)\n",
      "    key=coords2key(coords)\n",
      "    return (key, vec[3:])"
     ],
     "language": "python",
     "metadata": {},
     "outputs": [],
     "prompt_number": 61
    },
    {
     "cell_type": "code",
     "collapsed": false,
     "input": [
      "pts = raw.map(readVoxStr).cache()"
     ],
     "language": "python",
     "metadata": {},
     "outputs": [],
     "prompt_number": 62
    },
    {
     "cell_type": "code",
     "collapsed": false,
     "input": [
      "coords = pts.map(lambda x: x[0]).map(key2coords)"
     ],
     "language": "python",
     "metadata": {},
     "outputs": [],
     "prompt_number": 63
    },
    {
     "cell_type": "code",
     "collapsed": false,
     "input": [
      "def max_red(x, y):\n",
      "    return np.array([max(x[0], y[0]), max(x[1], y[1]), max(x[2], y[2])])\n",
      "\n",
      "def min_red(x, y):\n",
      "    return np.array([min(x[0], y[0]), min(x[1], y[1]), min(x[2], y[2])])"
     ],
     "language": "python",
     "metadata": {},
     "outputs": [],
     "prompt_number": 64
    },
    {
     "cell_type": "code",
     "collapsed": false,
     "input": [
      "maxcoord = coords.reduce(max_red)\n",
      "mincoord = coords.reduce(min_red)\n",
      "maxcoord, mincoord"
     ],
     "language": "python",
     "metadata": {},
     "outputs": [
      {
       "metadata": {},
       "output_type": "pyout",
       "prompt_number": 65,
       "text": [
        "(array([27, 70, 23]), array([0, 0, 0]))"
       ]
      }
     ],
     "prompt_number": 65
    },
    {
     "cell_type": "code",
     "collapsed": false,
     "input": [
      "def lenrange(tup):\n",
      "    return np.array([len(tup[1]), len(tup[1])], dtype=int)\n",
      "\n",
      "def range_red(rng1, rng2):\n",
      "    return np.array([min(rng1[0], rng2[0]), max(rng1[1], rng1[1])], dtype=int)"
     ],
     "language": "python",
     "metadata": {},
     "outputs": [],
     "prompt_number": 66
    },
    {
     "cell_type": "code",
     "collapsed": false,
     "input": [
      "length_range = pts.map(lenrange).reduce(range_red)"
     ],
     "language": "python",
     "metadata": {},
     "outputs": [],
     "prompt_number": 27
    },
    {
     "cell_type": "code",
     "collapsed": false,
     "input": [
      "length_range"
     ],
     "language": "python",
     "metadata": {},
     "outputs": [
      {
       "metadata": {},
       "output_type": "pyout",
       "prompt_number": 28,
       "text": [
        "array([4800, 4800])"
       ]
      }
     ],
     "prompt_number": 28
    },
    {
     "cell_type": "code",
     "collapsed": false,
     "input": [
      "from operator import add\n",
      "pts.map(lambda x: x[0]).reduce(add)"
     ],
     "language": "python",
     "metadata": {},
     "outputs": [
      {
       "metadata": {},
       "output_type": "pyout",
       "prompt_number": 67,
       "text": [
        "3201668"
       ]
      }
     ],
     "prompt_number": 67
    },
    {
     "cell_type": "code",
     "collapsed": false,
     "input": [
      "nz = pts.filter(lambda x: x[0] != 0)"
     ],
     "language": "python",
     "metadata": {},
     "outputs": [],
     "prompt_number": 71
    },
    {
     "cell_type": "code",
     "collapsed": false,
     "input": [
      "st0 = raw.takeSample(False, 1)"
     ],
     "language": "python",
     "metadata": {},
     "outputs": [],
     "prompt_number": 75
    },
    {
     "cell_type": "code",
     "collapsed": false,
     "input": [
      "st0 = st0[0]\n",
      "nz = raw.filter(lambda x: x != st0)"
     ],
     "language": "python",
     "metadata": {},
     "outputs": [],
     "prompt_number": 79
    },
    {
     "cell_type": "code",
     "collapsed": false,
     "input": [
      "nzs = nz.takeSample(False, 10)"
     ],
     "language": "python",
     "metadata": {},
     "outputs": [],
     "prompt_number": 81
    },
    {
     "cell_type": "code",
     "collapsed": false,
     "input": [
      "len(nzs)"
     ],
     "language": "python",
     "metadata": {},
     "outputs": [
      {
       "metadata": {},
       "output_type": "pyout",
       "prompt_number": 82,
       "text": [
        "3"
       ]
      }
     ],
     "prompt_number": 82
    },
    {
     "cell_type": "code",
     "collapsed": false,
     "input": [],
     "language": "python",
     "metadata": {},
     "outputs": []
    }
   ],
   "metadata": {}
  }
 ]
}