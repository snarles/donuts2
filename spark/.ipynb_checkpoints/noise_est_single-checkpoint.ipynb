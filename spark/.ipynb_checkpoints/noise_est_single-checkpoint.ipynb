{
 "metadata": {
  "name": "",
  "signature": "sha256:9d9228fa8b24dce290fa48130af715b7da5dceb1d88e5261677cfe46971d960a"
 },
 "nbformat": 3,
 "nbformat_minor": 0,
 "worksheets": [
  {
   "cells": [
    {
     "cell_type": "heading",
     "level": 2,
     "metadata": {},
     "source": [
      "Looking at noise in real data"
     ]
    },
    {
     "cell_type": "code",
     "collapsed": false,
     "input": [
      "import cvxopt as cvx\n",
      "import numpy as np\n",
      "import numpy.random as npr\n",
      "import scipy as sp\n",
      "import scipy.optimize as spo\n",
      "import matplotlib.pyplot as plt\n",
      "import subprocess"
     ],
     "language": "python",
     "metadata": {},
     "outputs": [],
     "prompt_number": 1
    },
    {
     "cell_type": "code",
     "collapsed": false,
     "input": [
      "import pyspark.context"
     ],
     "language": "python",
     "metadata": {},
     "outputs": [],
     "prompt_number": 2
    },
    {
     "cell_type": "heading",
     "level": 2,
     "metadata": {},
     "source": [
      "Misc dependences"
     ]
    },
    {
     "cell_type": "code",
     "collapsed": false,
     "input": [
      "# Wensheng Wang\n",
      "# http://code.activestate.com/recipes/366178-a-fast-prime-number-list-generator/\n",
      "def primes(n): \n",
      "    if n==2: return [2]\n",
      "    elif n<2: return []\n",
      "    s=range(3,n+1,2)\n",
      "    mroot = n ** 0.5\n",
      "    half=(n+1)/2-1\n",
      "    i=0\n",
      "    m=3\n",
      "    while m <= mroot:\n",
      "        if s[i]:\n",
      "            j=(m*m-3)/2\n",
      "            s[j]=0\n",
      "            while j<half:\n",
      "                s[j]=0\n",
      "                j+=m\n",
      "        i=i+1\n",
      "        m=2*i+3\n",
      "    return [2]+[x for x in s if x]\n",
      "\n",
      "pms = primes(10000000)"
     ],
     "language": "python",
     "metadata": {},
     "outputs": [],
     "prompt_number": 3
    },
    {
     "cell_type": "code",
     "collapsed": false,
     "input": [
      "def coords2key(coords):\n",
      "    return coords[2] + coords[1]*76 + coords[0]*106*76\n",
      "\n",
      "def key2coords(key):\n",
      "    c3 = key % 76\n",
      "    c2 = ((key-c3)/76) % 106\n",
      "    c1 = (key - c3 - 76*c2)/(106*76)\n",
      "    return np.array([c1, c2, c3])"
     ],
     "language": "python",
     "metadata": {},
     "outputs": [],
     "prompt_number": 4
    },
    {
     "cell_type": "code",
     "collapsed": false,
     "input": [
      "print(pms[347354],pms[234287])"
     ],
     "language": "python",
     "metadata": {},
     "outputs": [
      {
       "output_type": "stream",
       "stream": "stdout",
       "text": [
        "(4982273, 3260597)\n"
       ]
      }
     ],
     "prompt_number": 5
    },
    {
     "cell_type": "code",
     "collapsed": false,
     "input": [
      "def lamehash(key):\n",
      "    return (4982273 * key + 329782398729348) % 3260597"
     ],
     "language": "python",
     "metadata": {},
     "outputs": [],
     "prompt_number": 6
    },
    {
     "cell_type": "heading",
     "level": 2,
     "metadata": {},
     "source": [
      "Crunch time"
     ]
    },
    {
     "cell_type": "code",
     "collapsed": false,
     "input": [
      "braindata = np.loadtxt('/root/all_b1000_1_data.csv', delimiter=',', usecols=range(15))"
     ],
     "language": "python",
     "metadata": {},
     "outputs": [],
     "prompt_number": 8
    },
    {
     "cell_type": "code",
     "collapsed": false,
     "input": [
      "nvox = np.shape(braindata)[0]"
     ],
     "language": "python",
     "metadata": {},
     "outputs": [],
     "prompt_number": 39
    },
    {
     "cell_type": "code",
     "collapsed": false,
     "input": [
      "means = np.array([np.mean(braindata[ii,5:15]) for ii in range(nvox)])"
     ],
     "language": "python",
     "metadata": {},
     "outputs": [],
     "prompt_number": 42
    },
    {
     "cell_type": "code",
     "collapsed": false,
     "input": [
      "plt.hist(means)\n",
      "plt.show()"
     ],
     "language": "python",
     "metadata": {},
     "outputs": [
      {
       "metadata": {},
       "output_type": "display_data",
       "png": "[encoded data removed]",
       "text": [
        "<matplotlib.figure.Figure at 0x7f6452117d10>"
       ]
      }
     ],
     "prompt_number": 43
    },
    {
     "cell_type": "code",
     "collapsed": false,
     "input": [
      "braindatalist = [(ii, braindata[ii,0:15]) for ii in range(nvox) if means[ii] > 500]\n",
      "len(braindatalist)"
     ],
     "language": "python",
     "metadata": {},
     "outputs": [
      {
       "metadata": {},
       "output_type": "pyout",
       "prompt_number": 48,
       "text": [
        "177672"
       ]
      }
     ],
     "prompt_number": 48
    },
    {
     "cell_type": "code",
     "collapsed": false,
     "input": [
      "partitions = 36\n",
      "nsubvox = len(braindatalist)\n",
      "brain_rdd = sc.parallelize(braindatalist[1:nsubvox], partitions)"
     ],
     "language": "python",
     "metadata": {},
     "outputs": [],
     "prompt_number": 64
    },
    {
     "cell_type": "code",
     "collapsed": false,
     "input": [
      "#data_text = 'data1_1.txt'\n",
      "#local_path = '/root/all_b1000_1_data.csv'\n",
      "#hadoop_path = '/root/ephemeral-hdfs/bin/hadoop'\n",
      "#subprocess.check_output('bash ' + hadoop_path + ' fs -copyFromLocal ' + \\\n",
      "#                        local_path + ' ' + data_text, shell=True)\n",
      "## got error last time...\n",
      "#brain_raw_rdd = sc.textFile(\"data1_1.txt\")"
     ],
     "language": "python",
     "metadata": {},
     "outputs": []
    },
    {
     "cell_type": "code",
     "collapsed": false,
     "input": [
      "max(braindata[:,2]), max(braindata[:,3]), max(braindata[:,4])"
     ],
     "language": "python",
     "metadata": {},
     "outputs": [
      {
       "metadata": {},
       "output_type": "pyout",
       "prompt_number": 11,
       "text": [
        "(81.0, 106.0, 76.0)"
       ]
      }
     ],
     "prompt_number": 11
    },
    {
     "cell_type": "code",
     "collapsed": false,
     "input": [
      "def process_noise_rdd(tup):\n",
      "    key = tup[0]\n",
      "    vec = tup[1]\n",
      "    coords = vec[2:5]\n",
      "    cv_ind = lamehash(key) % 10\n",
      "    y = vec[5:15]\n",
      "    return (key, {'y' : y, 'coords' : coords, 'cv_ind' : cv_ind})"
     ],
     "language": "python",
     "metadata": {},
     "outputs": [],
     "prompt_number": 50
    },
    {
     "cell_type": "code",
     "collapsed": false,
     "input": [
      "processed_rdd = brain_rdd.map(process_noise_rdd)"
     ],
     "language": "python",
     "metadata": {},
     "outputs": [],
     "prompt_number": 51
    },
    {
     "cell_type": "code",
     "collapsed": false,
     "input": [
      "from operator import add\n",
      "sum_rdd = processed_rdd.map(lambda x : x[1]['y']).reduce(add)"
     ],
     "language": "python",
     "metadata": {},
     "outputs": [],
     "prompt_number": 52
    },
    {
     "cell_type": "code",
     "collapsed": false,
     "input": [
      "tot_mean = sum_rdd/nsubvox\n",
      "tot_mean"
     ],
     "language": "python",
     "metadata": {},
     "outputs": [
      {
       "metadata": {},
       "output_type": "pyout",
       "prompt_number": 53,
       "text": [
        "array([ 1020.61,  1020.46,  1020.52,  1020.82,  1020.58,  1020.38,  1019.72,  1019.99,  1020.07,  1020.49])"
       ]
      }
     ],
     "prompt_number": 53
    },
    {
     "cell_type": "code",
     "collapsed": false,
     "input": [
      "def demean_rdd(tup): # demean by row\n",
      "    dc = tup[1]\n",
      "    dc['y'] = dc['y'] - np.mean(dc['y'])\n",
      "    return tup\n",
      "\n",
      "def calc_cov(tup):\n",
      "    key = tup[0]\n",
      "    dc = tup[1]\n",
      "    y = dc['y']\n",
      "    cc = np.outer(y, y)\n",
      "    return (key, cc)"
     ],
     "language": "python",
     "metadata": {},
     "outputs": [],
     "prompt_number": 54
    },
    {
     "cell_type": "code",
     "collapsed": false,
     "input": [
      "xtx_rdd = processed_rdd.map(demean_rdd).map(calc_cov).reduce(add)"
     ],
     "language": "python",
     "metadata": {},
     "outputs": [],
     "prompt_number": 55
    },
    {
     "cell_type": "code",
     "collapsed": false,
     "input": [
      "np.set_printoptions(precision=1)\n",
      "numpy.set_printoptions(linewidth=120)\n",
      "xtx_rdd[1]/max(xtx_rdd[1].ravel())"
     ],
     "language": "python",
     "metadata": {},
     "outputs": [
      {
       "metadata": {},
       "output_type": "pyout",
       "prompt_number": 60,
       "text": [
        "array([[  5.3e-01,   7.1e-01,   8.6e-02,  -4.9e-01,  -7.0e-03,   1.6e-02,   1.3e-01,  -1.5e-01,  -7.3e-01,  -1.0e-01],\n",
        "       [  7.1e-01,   9.6e-01,   1.2e-01,  -6.7e-01,  -9.4e-03,   2.2e-02,   1.8e-01,  -2.0e-01,  -9.8e-01,  -1.3e-01],\n",
        "       [  8.6e-02,   1.2e-01,   1.4e-02,  -8.0e-02,  -1.1e-03,   2.6e-03,   2.2e-02,  -2.4e-02,  -1.2e-01,  -1.6e-02],\n",
        "       [ -4.9e-01,  -6.7e-01,  -8.0e-02,   4.6e-01,   6.5e-03,  -1.5e-02,  -1.2e-01,   1.4e-01,   6.8e-01,   9.3e-02],\n",
        "       [ -7.0e-03,  -9.4e-03,  -1.1e-03,   6.5e-03,   9.2e-05,  -2.1e-04,  -1.7e-03,   1.9e-03,   9.6e-03,   1.3e-03],\n",
        "       [  1.6e-02,   2.2e-02,   2.6e-03,  -1.5e-02,  -2.1e-04,   5.0e-04,   4.1e-03,  -4.5e-03,  -2.2e-02,  -3.1e-03],\n",
        "       [  1.3e-01,   1.8e-01,   2.2e-02,  -1.2e-01,  -1.7e-03,   4.1e-03,   3.3e-02,  -3.7e-02,  -1.8e-01,  -2.5e-02],\n",
        "       [ -1.5e-01,  -2.0e-01,  -2.4e-02,   1.4e-01,   1.9e-03,  -4.5e-03,  -3.7e-02,   4.1e-02,   2.0e-01,   2.8e-02],\n",
        "       [ -7.3e-01,  -9.8e-01,  -1.2e-01,   6.8e-01,   9.6e-03,  -2.2e-02,  -1.8e-01,   2.0e-01,   1.0e+00,   1.4e-01],\n",
        "       [ -1.0e-01,  -1.3e-01,  -1.6e-02,   9.3e-02,   1.3e-03,  -3.1e-03,  -2.5e-02,   2.8e-02,   1.4e-01,   1.9e-02]])"
       ]
      }
     ],
     "prompt_number": 60
    },
    {
     "cell_type": "code",
     "collapsed": false,
     "input": [
      "covmat = xtx_rdd[1]/nsubvox\n",
      "plt.imshow(covmat)"
     ],
     "language": "python",
     "metadata": {},
     "outputs": [
      {
       "metadata": {},
       "output_type": "pyout",
       "prompt_number": 63,
       "text": [
        "<matplotlib.image.AxesImage at 0x7f64387d5f90>"
       ]
      },
      {
       "metadata": {},
       "output_type": "display_data",
       "png": "[encoded data removed]",
       "text": [
        "<matplotlib.figure.Figure at 0x7f64387c44d0>"
       ]
      }
     ],
     "prompt_number": 63
    },
    {
     "cell_type": "code",
     "collapsed": false,
     "input": [],
     "language": "python",
     "metadata": {},
     "outputs": []
    }
   ],
   "metadata": {}
  }
 ]
}