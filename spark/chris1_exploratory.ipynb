{
 "metadata": {
  "name": "",
  "signature": "sha256:d7aacd82d7fd8d647120acb3d9f7786cf2911174c4824f7091be49564197e170"
 },
 "nbformat": 3,
 "nbformat_minor": 0,
 "worksheets": [
  {
   "cells": [
    {
     "cell_type": "code",
     "collapsed": false,
     "input": [
      "sc"
     ],
     "language": "python",
     "metadata": {},
     "outputs": [
      {
       "metadata": {},
       "output_type": "pyout",
       "prompt_number": 1,
       "text": [
        "<pyspark.context.SparkContext at 0x7fbbf6979690>"
       ]
      }
     ],
     "prompt_number": 1
    },
    {
     "cell_type": "code",
     "collapsed": false,
     "input": [
      "f = open('/root/donuts/spark/sparkDonuts.py', 'r')\n",
      "exec(f.read())\n",
      "f.close()"
     ],
     "language": "python",
     "metadata": {},
     "outputs": [],
     "prompt_number": 5
    },
    {
     "cell_type": "code",
     "collapsed": false,
     "input": [
      "parts = 100\n",
      "raw = sc.textFile(\"B0.cff\", parts)"
     ],
     "language": "python",
     "metadata": {},
     "outputs": [],
     "prompt_number": 9
    },
    {
     "cell_type": "code",
     "collapsed": false,
     "input": [
      "arrs = raw.map(str2array).cache()"
     ],
     "language": "python",
     "metadata": {},
     "outputs": [],
     "prompt_number": 10
    },
    {
     "cell_type": "code",
     "collapsed": false,
     "input": [
      "smp = arrs.takeSample(False, 100)"
     ],
     "language": "python",
     "metadata": {},
     "outputs": [],
     "prompt_number": 36
    },
    {
     "cell_type": "code",
     "collapsed": false,
     "input": [
      "np.set_printoptions(linewidth = 120)\n",
      "smp[0]"
     ],
     "language": "python",
     "metadata": {},
     "outputs": [
      {
       "metadata": {},
       "output_type": "pyout",
       "prompt_number": 13,
       "text": [
        "array([[   71,    71,    71,    71,    71,    71,    71,    71,    71,    71,    71,    71,    71,    71,    71,    71,\n",
        "           71,    71,    71,    71,    71,    71,    71,    71,    71,    71,    71,    71,    71,    71,    71,    71],\n",
        "       [   75,    75,    75,    75,    75,    75,    75,    75,    75,    75,    75,    75,    75,    75,    75,    75,\n",
        "           75,    75,    75,    75,    75,    75,    75,    75,    75,    75,    75,    75,    75,    75,    75,    75],\n",
        "       [   52,    52,    52,    52,    52,    52,    52,    52,    52,    52,    52,    52,    52,    52,    52,    52,\n",
        "           52,    52,    52,    52,    52,    52,    52,    52,    52,    52,    52,    52,    52,    52,    52,    52],\n",
        "       [    1,     2,     3,     4,     5,     6,     7,     8,     9,    10,    11,    12,    13,    14,    15,    16,\n",
        "           17,    18,    19,    20,    21,    22,    23,    24,    25,    26,    27,    28,    29,    30,    31,    32],\n",
        "       [   43,  1371,  4877,  8642,   475,  2021,  3790, 12973, 21552,  7308,  1083,    44, 46007, 40692,  4631,    62,\n",
        "          836,  3225, 11626, 18231,   756,  2237,  1968, 13026,  4965,  1236,  2747,   409,  1828,  1944,  1241,   232],\n",
        "       [  247,  1187,  2213,  7255,    50,  1502,  3951, 11337, 22985,  9988,  1712,     6, 41193, 38217,  5286,    90,\n",
        "          932,  3839, 10232, 15782,   911,  1356,  1815,  9214,  3913,  1308,  1706,   540,   832,   595,   637,     6],\n",
        "       [   57,  1652,  4095, 11086,   157,  1729,  5453, 16178, 29241, 12398,  1504,    12, 58033, 53743,  5222,   307,\n",
        "          612,  3055, 11636, 20142,   850,  2011,  2134, 11733,  6903,  1638,  1415,   539,  2734,  2497,  1246,   256],\n",
        "       [   90,  1240,  3448,  8464,    78,  1366,  4371, 14751, 27810, 11045,  1442,    23, 54038, 44692,  5132,   105,\n",
        "          772,  3493, 10713, 17422,   838,   959,  1617, 10066,  4753,  1412,  1031,   309,  1974,  1649,  1059,    73],\n",
        "       [   49,   700,  1953,  4815,   302,  1582,  3634, 12360, 25279, 11699,  1546,     5, 38371, 38482,  4231,   102,\n",
        "          258,  2549,  4404,  8605,   205,   396,   249,  6188,  3053,   911,   645,   105,   677,   553,    84,   117],\n",
        "       [   58,  1211,  3563,  7768,    28,  1773,  3763, 13764, 27722,  8705,  1294,     9, 48441, 41611,  3481,   589,\n",
        "          530,  1978,  7509, 13598,   740,  1685,  3363, 10009,  6292,  1095,  1479,   506,  1450,  1685,   978,   210],\n",
        "       [  186,  2332,  3057,  9137,   129,   762,  4135, 13649, 30752, 12492,  1797,    60, 57312, 58337,  8113,   186,\n",
        "          970,  2829,  8476, 19693,   846,   942,  1585, 10991,  5525,   836,   667,   408,  1774,  1882,   599,   110],\n",
        "       [  238,  1304,  3718,  8901,    54,  1910,  3660, 13510, 24209,  9587,  1427,    25, 44165, 47457,  5363,   254,\n",
        "          616,  3397, 13421, 23140,   544,  1640,  2226, 11759,  5571,  1227,   814,   273,  1909,  1263,   639,    80],\n",
        "       [  221,  1352,  2589,  7029,    85,  1091,  2867, 13094, 24888, 10234,   788,     0, 44699, 43602,  4679,   259,\n",
        "          690,  2685,  6513, 11177,   481,   685,  1337,  9577,  3849,   235,   408,    32,  1792,   716,   484,   388],\n",
        "       [  104,   772,  3079,  7102,   229,  1755,  4854, 13385, 19840,  9521,   985,    16, 44111, 38800,  5126,   378,\n",
        "          823,  3356, 10441, 20312,   707,  1312,  1555, 11404,  6404,   921,  1456,   568,  2168,  1491,   290,   158]])"
       ]
      }
     ],
     "prompt_number": 13
    },
    {
     "cell_type": "code",
     "collapsed": false,
     "input": [
      "def align_check(smp):\n",
      "    ans = []\n",
      "    if (sum(smp[0,:] != smp[0,0]) + sum(smp[1,:] != smp[1,0]) + sum(smp[2,:] != smp[2,0])) > 0:\n",
      "        ans.append(smp)\n",
      "    return ans"
     ],
     "language": "python",
     "metadata": {},
     "outputs": [],
     "prompt_number": 22
    },
    {
     "cell_type": "code",
     "collapsed": false,
     "input": [
      "chk_align = arrs.flatMap(align_check)"
     ],
     "language": "python",
     "metadata": {},
     "outputs": [],
     "prompt_number": 25
    },
    {
     "cell_type": "code",
     "collapsed": true,
     "input": [
      "from operator import add\n",
      "chk_align.map(lambda x : 1).reduce(add)"
     ],
     "language": "python",
     "metadata": {},
     "outputs": [
      {
       "ename": "ValueError",
       "evalue": "Can not reduce() empty RDD",
       "output_type": "pyerr",
       "traceback": [
        "\u001b[1;31m---------------------------------------------------------------------------\u001b[0m\n\u001b[1;31mValueError\u001b[0m                                Traceback (most recent call last)",
        "\u001b[1;32m<ipython-input-26-886483f9d1e2>\u001b[0m in \u001b[0;36m<module>\u001b[1;34m()\u001b[0m\n\u001b[0;32m      1\u001b[0m \u001b[1;32mfrom\u001b[0m \u001b[0moperator\u001b[0m \u001b[1;32mimport\u001b[0m \u001b[0madd\u001b[0m\u001b[1;33m\u001b[0m\u001b[0m\n\u001b[1;32m----> 2\u001b[1;33m \u001b[0mchk_align\u001b[0m\u001b[1;33m.\u001b[0m\u001b[0mmap\u001b[0m\u001b[1;33m(\u001b[0m\u001b[1;32mlambda\u001b[0m \u001b[0mx\u001b[0m \u001b[1;33m:\u001b[0m \u001b[1;36m1\u001b[0m\u001b[1;33m)\u001b[0m\u001b[1;33m.\u001b[0m\u001b[0mreduce\u001b[0m\u001b[1;33m(\u001b[0m\u001b[0madd\u001b[0m\u001b[1;33m)\u001b[0m\u001b[1;33m\u001b[0m\u001b[0m\n\u001b[0m",
        "\u001b[1;32m/root/spark/python/pyspark/rdd.pyc\u001b[0m in \u001b[0;36mreduce\u001b[1;34m(self, f)\u001b[0m\n\u001b[0;32m    716\u001b[0m         \u001b[1;32mif\u001b[0m \u001b[0mvals\u001b[0m\u001b[1;33m:\u001b[0m\u001b[1;33m\u001b[0m\u001b[0m\n\u001b[0;32m    717\u001b[0m             \u001b[1;32mreturn\u001b[0m \u001b[0mreduce\u001b[0m\u001b[1;33m(\u001b[0m\u001b[0mf\u001b[0m\u001b[1;33m,\u001b[0m \u001b[0mvals\u001b[0m\u001b[1;33m)\u001b[0m\u001b[1;33m\u001b[0m\u001b[0m\n\u001b[1;32m--> 718\u001b[1;33m         \u001b[1;32mraise\u001b[0m \u001b[0mValueError\u001b[0m\u001b[1;33m(\u001b[0m\u001b[1;34m\"Can not reduce() empty RDD\"\u001b[0m\u001b[1;33m)\u001b[0m\u001b[1;33m\u001b[0m\u001b[0m\n\u001b[0m\u001b[0;32m    719\u001b[0m \u001b[1;33m\u001b[0m\u001b[0m\n\u001b[0;32m    720\u001b[0m     \u001b[1;32mdef\u001b[0m \u001b[0mfold\u001b[0m\u001b[1;33m(\u001b[0m\u001b[0mself\u001b[0m\u001b[1;33m,\u001b[0m \u001b[0mzeroValue\u001b[0m\u001b[1;33m,\u001b[0m \u001b[0mop\u001b[0m\u001b[1;33m)\u001b[0m\u001b[1;33m:\u001b[0m\u001b[1;33m\u001b[0m\u001b[0m\n",
        "\u001b[1;31mValueError\u001b[0m: Can not reduce() empty RDD"
       ]
      }
     ],
     "prompt_number": 26
    },
    {
     "cell_type": "code",
     "collapsed": false,
     "input": [
      "arr = smp[0]\n",
      "np.shape(arr)"
     ],
     "language": "python",
     "metadata": {},
     "outputs": [
      {
       "metadata": {},
       "output_type": "pyout",
       "prompt_number": 16,
       "text": [
        "(14, 32)"
       ]
      }
     ],
     "prompt_number": 16
    },
    {
     "cell_type": "code",
     "collapsed": false,
     "input": [
      "arr = arr[:, arr[3,:]-1]"
     ],
     "language": "python",
     "metadata": {},
     "outputs": [],
     "prompt_number": 20
    },
    {
     "cell_type": "code",
     "collapsed": false,
     "input": [
      "arr[4:,:]"
     ],
     "language": "python",
     "metadata": {},
     "outputs": [
      {
       "metadata": {},
       "output_type": "pyout",
       "prompt_number": 21,
       "text": [
        "array([[   43,  1371,  4877,  8642,   475,  2021,  3790, 12973, 21552,  7308,  1083,    44, 46007, 40692,  4631,    62,\n",
        "          836,  3225, 11626, 18231,   756,  2237,  1968, 13026,  4965,  1236,  2747,   409,  1828,  1944,  1241,   232],\n",
        "       [  247,  1187,  2213,  7255,    50,  1502,  3951, 11337, 22985,  9988,  1712,     6, 41193, 38217,  5286,    90,\n",
        "          932,  3839, 10232, 15782,   911,  1356,  1815,  9214,  3913,  1308,  1706,   540,   832,   595,   637,     6],\n",
        "       [   57,  1652,  4095, 11086,   157,  1729,  5453, 16178, 29241, 12398,  1504,    12, 58033, 53743,  5222,   307,\n",
        "          612,  3055, 11636, 20142,   850,  2011,  2134, 11733,  6903,  1638,  1415,   539,  2734,  2497,  1246,   256],\n",
        "       [   90,  1240,  3448,  8464,    78,  1366,  4371, 14751, 27810, 11045,  1442,    23, 54038, 44692,  5132,   105,\n",
        "          772,  3493, 10713, 17422,   838,   959,  1617, 10066,  4753,  1412,  1031,   309,  1974,  1649,  1059,    73],\n",
        "       [   49,   700,  1953,  4815,   302,  1582,  3634, 12360, 25279, 11699,  1546,     5, 38371, 38482,  4231,   102,\n",
        "          258,  2549,  4404,  8605,   205,   396,   249,  6188,  3053,   911,   645,   105,   677,   553,    84,   117],\n",
        "       [   58,  1211,  3563,  7768,    28,  1773,  3763, 13764, 27722,  8705,  1294,     9, 48441, 41611,  3481,   589,\n",
        "          530,  1978,  7509, 13598,   740,  1685,  3363, 10009,  6292,  1095,  1479,   506,  1450,  1685,   978,   210],\n",
        "       [  186,  2332,  3057,  9137,   129,   762,  4135, 13649, 30752, 12492,  1797,    60, 57312, 58337,  8113,   186,\n",
        "          970,  2829,  8476, 19693,   846,   942,  1585, 10991,  5525,   836,   667,   408,  1774,  1882,   599,   110],\n",
        "       [  238,  1304,  3718,  8901,    54,  1910,  3660, 13510, 24209,  9587,  1427,    25, 44165, 47457,  5363,   254,\n",
        "          616,  3397, 13421, 23140,   544,  1640,  2226, 11759,  5571,  1227,   814,   273,  1909,  1263,   639,    80],\n",
        "       [  221,  1352,  2589,  7029,    85,  1091,  2867, 13094, 24888, 10234,   788,     0, 44699, 43602,  4679,   259,\n",
        "          690,  2685,  6513, 11177,   481,   685,  1337,  9577,  3849,   235,   408,    32,  1792,   716,   484,   388],\n",
        "       [  104,   772,  3079,  7102,   229,  1755,  4854, 13385, 19840,  9521,   985,    16, 44111, 38800,  5126,   378,\n",
        "          823,  3356, 10441, 20312,   707,  1312,  1555, 11404,  6404,   921,  1456,   568,  2168,  1491,   290,   158]])"
       ]
      }
     ],
     "prompt_number": 21
    },
    {
     "cell_type": "code",
     "collapsed": false,
     "input": [
      "def varest1(arr):\n",
      "    subarr = np.array(arr[4:, ]/1000.0, dtype=float)\n",
      "    combs = np.sum(subarr, axis = 1)\n",
      "    var1 = np.var(combs, ddof = 1)\n",
      "    marvars = np.array([np.var(subarr[:,i], ddof=1) for i in range(32)])\n",
      "    var2 = np.sum(marvars)\n",
      "    coords = arr[0:3,0]\n",
      "    key = ints2str(coords)\n",
      "    #return (key, np.array([var1, var2]))\n",
      "    #return np.array([var1, var2])\n",
      "    return (1, np.array([var1, var2]))"
     ],
     "language": "python",
     "metadata": {},
     "outputs": [],
     "prompt_number": 64
    },
    {
     "cell_type": "code",
     "collapsed": false,
     "input": [
      "def redMean(x, y):\n",
      "    return (x[0] + y[0], (x[0]*x[1] + y[0]*y[1])/(x[0]+y[0]))"
     ],
     "language": "python",
     "metadata": {},
     "outputs": [],
     "prompt_number": 65
    },
    {
     "cell_type": "code",
     "collapsed": false,
     "input": [
      "varest1(smp[0])"
     ],
     "language": "python",
     "metadata": {},
     "outputs": [
      {
       "metadata": {},
       "output_type": "pyout",
       "prompt_number": 58,
       "text": [
        "('\\\\NT', array([ 1846.8228725 ,   276.46831459]))"
       ]
      }
     ],
     "prompt_number": 58
    },
    {
     "cell_type": "code",
     "collapsed": false,
     "input": [
      "smpR = sc.parallelize(smp, 2)"
     ],
     "language": "python",
     "metadata": {},
     "outputs": [],
     "prompt_number": 59
    },
    {
     "cell_type": "code",
     "collapsed": false,
     "input": [
      "smpR.map(varest1).reduce(redMean)"
     ],
     "language": "python",
     "metadata": {},
     "outputs": [
      {
       "metadata": {},
       "output_type": "pyout",
       "prompt_number": 66,
       "text": [
        "(100, array([ 1360.79829173,   567.80390616]))"
       ]
      }
     ],
     "prompt_number": 66
    },
    {
     "cell_type": "code",
     "collapsed": false,
     "input": [
      "arrs.map(varest1).reduce(redMean)"
     ],
     "language": "python",
     "metadata": {},
     "outputs": []
    },
    {
     "cell_type": "code",
     "collapsed": false,
     "input": [],
     "language": "python",
     "metadata": {},
     "outputs": []
    }
   ],
   "metadata": {}
  }
 ]
}