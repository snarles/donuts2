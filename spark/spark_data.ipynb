{
 "metadata": {
  "name": "",
  "signature": "sha256:30b315f442f9a7b9e5b95833ca784a496ffefe7272e602a928fbad40d0e473b3"
 },
 "nbformat": 3,
 "nbformat_minor": 0,
 "worksheets": [
  {
   "cells": [
    {
     "cell_type": "markdown",
     "metadata": {},
     "source": [
      "# Processing data uisng Spark"
     ]
    },
    {
     "cell_type": "code",
     "collapsed": false,
     "input": [
      "import donuts.spark.classes as dc\n",
      "import numpy as np"
     ],
     "language": "python",
     "metadata": {},
     "outputs": [],
     "prompt_number": 6
    },
    {
     "cell_type": "code",
     "collapsed": false,
     "input": [
      "textfiles = ['chris1/chris1_coil' + str(i) + '.cff' for i in range(1, 33)]"
     ],
     "language": "python",
     "metadata": {},
     "outputs": [],
     "prompt_number": 7
    },
    {
     "cell_type": "code",
     "collapsed": false,
     "input": [
      "sc"
     ],
     "language": "python",
     "metadata": {},
     "outputs": [
      {
       "metadata": {},
       "output_type": "pyout",
       "prompt_number": 8,
       "text": [
        "<pyspark.context.SparkContext at 0x7fb253f74690>"
       ]
      }
     ],
     "prompt_number": 8
    },
    {
     "cell_type": "code",
     "collapsed": false,
     "input": [],
     "language": "python",
     "metadata": {},
     "outputs": []
    },
    {
     "cell_type": "code",
     "collapsed": false,
     "input": [
      "def uni2vox(x):\n",
      "    try:\n",
      "        v = dc.Voxel(x)\n",
      "    except:\n",
      "        v = [\"ERROR MESSAGE:\", x]\n",
      "    return v\n",
      "def coil_coords_conv(v): # converts coil coords to regular coords, moving one coord over\n",
      "    try:\n",
      "        coords = v.getCoords()\n",
      "        data = v.getData()\n",
      "        newdata = np.hstack([coords, data])\n",
      "        newcoords = tuple(coords[:3])\n",
      "        newvox = dc.Voxel({'intRes': 4, 'floats': newdata, 'coords': newcoords})\n",
      "        return newvox\n",
      "    except:\n",
      "        ans= [\"ERROR\", v]\n",
      "    return ans\n",
      "\n",
      "def v2c(v):\n",
      "    floats = v.getFloats()\n",
      "    coords = np.array(floats[:3], dtype=int)\n",
      "    return dc.Voxel((dc.CffStr(coords), dc.CffStr(v)))\n",
      "def c2c(v1, v2):\n",
      "    v_comb = dc.CffStr(str(v1[1])+'~~'+str(v2[1]))\n",
      "    return dc.Voxel((v1[0], v_comb))\n",
      "def toS(v):\n",
      "    ans = str(v[0]) + '~' + str(v[1])\n",
      "    return ans"
     ],
     "language": "python",
     "metadata": {},
     "outputs": [],
     "prompt_number": 33
    },
    {
     "cell_type": "code",
     "collapsed": false,
     "input": [
      "raw_rdd.unpersist()"
     ],
     "language": "python",
     "metadata": {},
     "outputs": [
      {
       "metadata": {},
       "output_type": "pyout",
       "prompt_number": 34,
       "text": [
        "PythonRDD[56] at RDD at PythonRDD.scala:43"
       ]
      }
     ],
     "prompt_number": 34
    },
    {
     "cell_type": "code",
     "collapsed": false,
     "input": [
      "parts = 100\n",
      "\n",
      "raw_rdd = sc.textFile(','.join(textfiles[:2]), parts).map(uni2vox).map(coil_coords_conv).combineByKey(v2c, c2c, c2c).persist()"
     ],
     "language": "python",
     "metadata": {},
     "outputs": [],
     "prompt_number": 35
    },
    {
     "cell_type": "code",
     "collapsed": false,
     "input": [
      "raw_rdd.map(toS).saveAsTextFile('out5.txt')"
     ],
     "language": "python",
     "metadata": {},
     "outputs": [],
     "prompt_number": 36
    },
    {
     "cell_type": "code",
     "collapsed": false,
     "input": [
      "smp = sc.textFile('out4.txt', parts).takeSample(False, 10)"
     ],
     "language": "python",
     "metadata": {},
     "outputs": [],
     "prompt_number": 37
    },
    {
     "cell_type": "code",
     "collapsed": false,
     "input": [
      "smp"
     ],
     "language": "python",
     "metadata": {},
     "outputs": [
      {
       "metadata": {},
       "output_type": "pyout",
       "prompt_number": 30,
       "text": [
        "[u'\"{7]#~(\\'\"{7]#\\', \\'}~}\\')',\n",
        " u'e\"{,R~(\\'e\"{,R\\', \\'}~}\\')',\n",
        " u\"UQT~('UQT', '}~}')\",\n",
        " u'\"{\\'\"{$F~(\\'\"{\\\\\\'\"{$F\\', \\'}~}\\')',\n",
        " u'\"{%vc~(\\'\"{%vc\\', \\'}~}\\')',\n",
        " u\"70e~('70e', '}~}')\",\n",
        " u\"GET~('GET', '}~}')\",\n",
        " u\"LqG~('LqG', '}~}')\",\n",
        " u\"=KX~('=KX', '}~}')\",\n",
        " u\"r5T~('r5T', '}~}')\"]"
       ]
      }
     ],
     "prompt_number": 30
    },
    {
     "cell_type": "code",
     "collapsed": false,
     "input": [
      "dc.Voxel(smp[0]).getCoords()"
     ],
     "language": "python",
     "metadata": {},
     "outputs": [
      {
       "metadata": {},
       "output_type": "pyout",
       "prompt_number": 38,
       "text": [
        "(97, 78, 24)"
       ]
      }
     ],
     "prompt_number": 38
    },
    {
     "cell_type": "code",
     "collapsed": false,
     "input": [],
     "language": "python",
     "metadata": {},
     "outputs": [
      {
       "metadata": {},
       "output_type": "pyout",
       "prompt_number": 45,
       "text": [
        "1"
       ]
      }
     ],
     "prompt_number": 45
    },
    {
     "cell_type": "code",
     "collapsed": false,
     "input": [],
     "language": "python",
     "metadata": {},
     "outputs": []
    }
   ],
   "metadata": {}
  }
 ]
}