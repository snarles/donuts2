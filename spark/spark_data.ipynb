{
 "metadata": {
  "name": "",
  "signature": "sha256:5febf6c85b0d007b3bf9dee5e728811730754ae2212807541173ceef44b7d0b6"
 },
 "nbformat": 3,
 "nbformat_minor": 0,
 "worksheets": [
  {
   "cells": [
    {
     "cell_type": "markdown",
     "metadata": {},
     "source": [
      "# Processing data uisng Spark"
     ]
    },
    {
     "cell_type": "code",
     "collapsed": false,
     "input": [
      "import donuts.spark.classes as dc\n",
      "import numpy as np"
     ],
     "language": "python",
     "metadata": {},
     "outputs": [],
     "prompt_number": 12
    },
    {
     "cell_type": "code",
     "collapsed": false,
     "input": [
      "textfiles = ['chris1/chris1_coil' + str(i) + '.cff' for i in range(1, 33)]"
     ],
     "language": "python",
     "metadata": {},
     "outputs": [],
     "prompt_number": 3
    },
    {
     "cell_type": "code",
     "collapsed": false,
     "input": [
      "sc"
     ],
     "language": "python",
     "metadata": {},
     "outputs": [
      {
       "metadata": {},
       "output_type": "pyout",
       "prompt_number": 1,
       "text": [
        "<pyspark.context.SparkContext at 0x7f38f46b7690>"
       ]
      }
     ],
     "prompt_number": 1
    },
    {
     "cell_type": "code",
     "collapsed": false,
     "input": [
      "def uni2vox(x):\n",
      "    try:\n",
      "        v = dc.Voxel(x)\n",
      "    except:\n",
      "        v = [\"ERROR MESSAGE:\", x]\n",
      "    return v"
     ],
     "language": "python",
     "metadata": {},
     "outputs": [],
     "prompt_number": 18
    },
    {
     "cell_type": "code",
     "collapsed": false,
     "input": [
      "parts = 100\n",
      "\n",
      "raw_rdd = sc.textFile(','.join(textfiles[:2]), parts).map(uni2vox)"
     ],
     "language": "python",
     "metadata": {},
     "outputs": [],
     "prompt_number": 19
    },
    {
     "cell_type": "code",
     "collapsed": false,
     "input": [
      "smp = raw_rdd.takeSample(False, 10)"
     ],
     "language": "python",
     "metadata": {},
     "outputs": [],
     "prompt_number": 20
    },
    {
     "cell_type": "code",
     "collapsed": false,
     "input": [
      "smp[2].toCsvString()"
     ],
     "language": "python",
     "metadata": {},
     "outputs": [
      {
       "metadata": {},
       "output_type": "pyout",
       "prompt_number": 23,
       "text": [
        "'106.0,79.0,22.0,2.0,0.1824,0.0111,0.0541,0.0468,0.0442,0.0473,0.0251,-0.0221,0.0758,0.0861,-0.0713,0.0336,0.1204,0.0819,-0.034,0.0345,0.0653,0.0541,0.0532,-0.0186,0.0307,0.0846,0.0555,0.0135,0.0183,-0.0881,0.0184,0.0994,-0.0161,0.005,-0.0046,0.0175,-0.0378,0.0602,-0.0246,0.0645,0.082,0.085,-0.0143,0.0547,0.0152,0.0612,-0.0344,0.0537,0.0519,0.0661,-0.0159,0.0927,0.1108,-0.0168,0.1003,0.0472,-0.006,0.049,-0.0184,-0.0437,0.0146,0.0494,0.0776,0.0405,0.0238,0.0334,0.1278,0.0393,-0.0144,0.0362,-0.0213,-0.0448,-0.1085,0.0215,0.0809,0.1018,0.0676,0.056,-0.0365,0.0738,0.0732,0.0274,0.0285,0.0608,0.0545,0.0839,0.038,-0.0098,0.0636,0.0907,0.1005,0.0045,0.041,0.1132,0.0072,0.0452,0.1137,0.0567,0.0726,0.0513,-0.02,0.14,-0.0232,-0.0029,0.0514,0.0107,0.0468,0.0025,-0.0687,-0.0108,0.0746,0.0741,0.0166,0.0162,0.0356,0.0425,-0.0174,-0.0065,0.0224,-0.0222,-0.023,-0.0232,0.1096,0.0704,-0.0566,0.0181,0.0583,0.0355,0.0858,0.0372,0.0002,0.0029,0.0975,-0.0545,0.0033,-0.0225,-0.0097,0.1043,0.0093,-0.029,0.0374,0.0034,-0.005,-0.0001,0.0377,-0.0645,-0.012,0.0672,0.0044,0.1532,0.0553,-0.0021,0.0652,0.0276'"
       ]
      }
     ],
     "prompt_number": 23
    },
    {
     "cell_type": "code",
     "collapsed": false,
     "input": [
      "smp[2][0].getInts()"
     ],
     "language": "python",
     "metadata": {},
     "outputs": [
      {
       "metadata": {},
       "output_type": "pyout",
       "prompt_number": 24,
       "text": [
        "[106, 79, 22, 2]"
       ]
      }
     ],
     "prompt_number": 24
    },
    {
     "cell_type": "code",
     "collapsed": false,
     "input": [
      "def coil_coords_conv(v): # converts coil coords to regular coords, moving one coord over\n",
      "    try:\n",
      "        coords = v.getCoords()\n",
      "        data = v.getData()\n",
      "        newdata = np.hstack([coords[3],data])\n",
      "        newcoords = tuple(coords[:3])\n",
      "        newvox = dc.Voxel({'intRes': 4, 'floats': newdata, 'coords': newcoords})\n",
      "        return newvox\n",
      "    except:\n",
      "        ans= [\"ERROR\", v]\n",
      "    return ans"
     ],
     "language": "python",
     "metadata": {},
     "outputs": [],
     "prompt_number": 13
    },
    {
     "cell_type": "code",
     "collapsed": false,
     "input": [
      "vn = coil_coords_conv(smp[0])"
     ],
     "language": "python",
     "metadata": {},
     "outputs": [],
     "prompt_number": 14
    },
    {
     "cell_type": "code",
     "collapsed": false,
     "input": [
      "multi_rdd = sc.textFile(','.join(textfiles[:2]), parts).map(uni2vox).map(coil_coords_conv)"
     ],
     "language": "python",
     "metadata": {},
     "outputs": [],
     "prompt_number": 25
    },
    {
     "cell_type": "code",
     "collapsed": false,
     "input": [
      "smp = multi_rdd.takeSample(False, 10)"
     ],
     "language": "python",
     "metadata": {},
     "outputs": [],
     "prompt_number": 26
    },
    {
     "cell_type": "code",
     "collapsed": false,
     "input": [
      "def v2c(v):\n",
      "    return str(v)\n",
      "def c2c(v):\n",
      "    return str(c)+'~~'+str(c)"
     ],
     "language": "python",
     "metadata": {},
     "outputs": [],
     "prompt_number": 32
    },
    {
     "cell_type": "code",
     "collapsed": false,
     "input": [
      "fused_rdd = multi_rdd.combineByKey(v2c, c2c, c2c)"
     ],
     "language": "python",
     "metadata": {},
     "outputs": [],
     "prompt_number": 33
    },
    {
     "cell_type": "code",
     "collapsed": false,
     "input": [
      "smp = fused_rdd.takeSample(False, 10)"
     ],
     "language": "python",
     "metadata": {},
     "outputs": []
    },
    {
     "cell_type": "code",
     "collapsed": false,
     "input": [],
     "language": "python",
     "metadata": {},
     "outputs": []
    }
   ],
   "metadata": {}
  }
 ]
}