{
 "metadata": {
  "name": "",
  "signature": "sha256:cd90fce9050b5c97b589ef1f4259b2ae19f556834e8701f5029e7ec42103c83b"
 },
 "nbformat": 3,
 "nbformat_minor": 0,
 "worksheets": [
  {
   "cells": [
    {
     "cell_type": "markdown",
     "metadata": {},
     "source": [
      "# Processing data uisng Spark"
     ]
    },
    {
     "cell_type": "code",
     "collapsed": false,
     "input": [
      "import donuts.spark.classes as dc"
     ],
     "language": "python",
     "metadata": {},
     "outputs": [],
     "prompt_number": 1
    },
    {
     "cell_type": "code",
     "collapsed": false,
     "input": [
      "textfiles = ['chris1/chris1_coil' + str(i) + '.cff' for i in range(1, 33)]"
     ],
     "language": "python",
     "metadata": {},
     "outputs": [],
     "prompt_number": 9
    },
    {
     "cell_type": "code",
     "collapsed": false,
     "input": [
      "textfiles"
     ],
     "language": "python",
     "metadata": {},
     "outputs": [
      {
       "metadata": {},
       "output_type": "pyout",
       "prompt_number": 3,
       "text": [
        "'chris1/chris1_coil1.cff,chris1/chris1_coil2.cff,chris1/chris1_coil3.cff,chris1/chris1_coil4.cff,chris1/chris1_coil5.cff,chris1/chris1_coil6.cff,chris1/chris1_coil7.cff,chris1/chris1_coil8.cff,chris1/chris1_coil9.cff,chris1/chris1_coil10.cff,chris1/chris1_coil11.cff,chris1/chris1_coil12.cff,chris1/chris1_coil13.cff,chris1/chris1_coil14.cff,chris1/chris1_coil15.cff,chris1/chris1_coil16.cff,chris1/chris1_coil17.cff,chris1/chris1_coil18.cff,chris1/chris1_coil19.cff,chris1/chris1_coil20.cff,chris1/chris1_coil21.cff,chris1/chris1_coil22.cff,chris1/chris1_coil23.cff,chris1/chris1_coil24.cff,chris1/chris1_coil25.cff,chris1/chris1_coil26.cff,chris1/chris1_coil27.cff,chris1/chris1_coil28.cff,chris1/chris1_coil29.cff,chris1/chris1_coil30.cff,chris1/chris1_coil31.cff,chris1/chris1_coil32.cff'"
       ]
      }
     ],
     "prompt_number": 3
    },
    {
     "cell_type": "code",
     "collapsed": false,
     "input": [
      "sc"
     ],
     "language": "python",
     "metadata": {},
     "outputs": [
      {
       "metadata": {},
       "output_type": "pyout",
       "prompt_number": 4,
       "text": [
        "<pyspark.context.SparkContext at 0x7f48a9162690>"
       ]
      }
     ],
     "prompt_number": 4
    },
    {
     "cell_type": "code",
     "collapsed": false,
     "input": [
      "def f(x):\n",
      "    try:\n",
      "        v = dc.Voxel(x)\n",
      "    except:\n",
      "        v = [\"ERROR MESSAGE:\", x]\n",
      "    return v"
     ],
     "language": "python",
     "metadata": {},
     "outputs": [],
     "prompt_number": 21
    },
    {
     "cell_type": "code",
     "collapsed": false,
     "input": [
      "parts = 100\n",
      "\n",
      "raw_rdd = sc.textFile(textfiles[0], parts).map(f)"
     ],
     "language": "python",
     "metadata": {},
     "outputs": [],
     "prompt_number": 22
    },
    {
     "cell_type": "code",
     "collapsed": false,
     "input": [
      "smp = raw_rdd.takeSample(False, 10)"
     ],
     "language": "python",
     "metadata": {},
     "outputs": [],
     "prompt_number": 23
    },
    {
     "cell_type": "code",
     "collapsed": false,
     "input": [
      "str(smp[0][1])"
     ],
     "language": "python",
     "metadata": {},
     "outputs": [
      {
       "metadata": {},
       "output_type": "pyout",
       "prompt_number": 29,
       "text": [
        "'CD!\"~%}.{x2{(#{J*{1\"{C*{u|2{-H#{k,{O*{P%{L3{r|\\'{g1{F2{I9{4({B\\'{F\"{A|.{^+{f3{B3{o|0{>|%{C,{Z6{T9&{\"|${@F{k%{:|\\'{?|\\'{Y*{L.{5-{I|#{i,{/|#{K,{.|,{3|\"{q.{=){6,{x|\\'{N&{e|.{T,{E|\"{m#{\"2{tG|2&{%/{q|#{`|${%*{!/{*|${T({I3{g|${E|C0{,#{8.{G.{c0{:|\\'{)0{02{e>{V|({h|){`:^0{G${g\"{I7{V,{F@{$|:${P6{!|T/{;0{x,{b,{G2{5|#{l${t8{O+{T5{#|\\'{s/{?|${v|%{^2{rC{?&{(|){@-{D&{*|${@&{L.{s.{F&{f7{+<{z2{o|){#\"{N*{<z|1{j*{K|&{m|*{&,\"{h-{31{1&{a*{?|&{l/{Y*{/5{X-{H|\"{%?{s|&{p${y|){+*{-#{E3{=|\"{C|${i\"{!.{@.{@'"
       ]
      }
     ],
     "prompt_number": 29
    },
    {
     "cell_type": "code",
     "collapsed": false,
     "input": [],
     "language": "python",
     "metadata": {},
     "outputs": []
    }
   ],
   "metadata": {}
  }
 ]
}