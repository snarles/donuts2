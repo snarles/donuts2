{
 "metadata": {
  "name": "",
  "signature": "sha256:0712513f2d21d3c7e6e297c9a8f46a6ed4697fdbe5c1dc1606336ff38ea0eb4e"
 },
 "nbformat": 3,
 "nbformat_minor": 0,
 "worksheets": [
  {
   "cells": [
    {
     "cell_type": "markdown",
     "metadata": {},
     "source": [
      "# Processing data uisng Spark"
     ]
    },
    {
     "cell_type": "code",
     "collapsed": false,
     "input": [
      "import donuts.spark.classes as dc\n",
      "import numpy as np\n",
      "from operator import add"
     ],
     "language": "python",
     "metadata": {},
     "outputs": [],
     "prompt_number": 1
    },
    {
     "cell_type": "code",
     "collapsed": false,
     "input": [
      "parts = 300\n",
      "textfiles = ['chris1/chris1_coil' + str(i) + '.cff' for i in range(1, 33)]"
     ],
     "language": "python",
     "metadata": {},
     "outputs": [],
     "prompt_number": 4
    },
    {
     "cell_type": "code",
     "collapsed": false,
     "input": [
      "sc"
     ],
     "language": "python",
     "metadata": {},
     "outputs": [
      {
       "metadata": {},
       "output_type": "pyout",
       "prompt_number": 5,
       "text": [
        "<pyspark.context.SparkContext at 0x7f531d0a2690>"
       ]
      }
     ],
     "prompt_number": 5
    },
    {
     "cell_type": "code",
     "collapsed": false,
     "input": [
      "\n",
      "# converts coil coords to regular coords, moving one coord over\n",
      "# and extract B0 values\n",
      "def coil_coords_conv(s): \n",
      "    inds_b0 = np.array([16, 31, 46, 61, 75, 90, 105, 120, 135, 149], dtype=int)\n",
      "    try:\n",
      "        ss = s.split('~')\n",
      "        coords = dc.str2ints(ss[0])\n",
      "        data = dc.CffStr(ss[1]).getFloats()\n",
      "        newdata = data[inds_b0]\n",
      "        newcoords = tuple(coords[:3])\n",
      "        ns0 = dc.CffStr(newcoords)\n",
      "        ns10 = dc.CffStr(coords)\n",
      "        ns1 = dc.CffStr({'intRes': 4, 'floats': newdata})\n",
      "        ans = (str(ns0), str(ns10)+'~'+str(ns1))\n",
      "    except:\n",
      "        ans= [\"ERROR\", s]\n",
      "    return ans\n",
      "def v2c(v):\n",
      "    return str(v)\n",
      "def c2c(v1, v2):\n",
      "    vt = v1.split('~~') + v2.split('~~')\n",
      "    vt = sorted(vt)\n",
      "    return '~~'.join(vt)\n",
      "def str2multiVox(s):\n",
      "    st = s.split('~~~')\n",
      "    st2 = st[1].split('~~')\n",
      "    vs = [dc.Voxel(st3) for st3 in st2]\n",
      "    return vs\n",
      "def toS(v):\n",
      "    return v[0]+'~~~'+v[1]\n",
      "\n",
      "def align_check(st):\n",
      "    ans = []\n",
      "    vs = str2multiVox(st)\n",
      "    coords = [tuple(v.getCoords()[:3]) for v in str2multiVox(smpl)]\n",
      "    return sum([coord != coords[0] for coord in coords])\n",
      "\n",
      "def combB0str(st):\n",
      "    key = st.split('~~~')[0]\n",
      "    vs = str2multiVox(st)\n",
      "    st = key+'~'+'~'.join([v[1] for v in vs])\n",
      "    return st"
     ],
     "language": "python",
     "metadata": {},
     "outputs": [],
     "prompt_number": 110
    },
    {
     "cell_type": "code",
     "collapsed": false,
     "input": [
      "smp = sc.textFile(textfiles[0], parts).takeSample(False, 10)\n",
      "coil_coords_conv(smp[0])"
     ],
     "language": "python",
     "metadata": {},
     "outputs": [
      {
       "metadata": {},
       "output_type": "pyout",
       "prompt_number": 67,
       "text": [
        "('\"{:\"{2#', 'HEAD\"{:\"{2#\"~%}T|\"{/|-{i\\'{:){&%{R*{/I${u3{X')"
       ]
      }
     ],
     "prompt_number": 67
    },
    {
     "cell_type": "code",
     "collapsed": false,
     "input": [
      "parts = 300\n",
      "combined_rdd = sc.textFile(','.join(textfiles), parts).map(coil_coords_conv).combineByKey(v2c, c2c, c2c)\n",
      "combined_rdd.map(toS).saveAsTextFile('out3.txt')"
     ],
     "language": "python",
     "metadata": {},
     "outputs": [],
     "prompt_number": 111
    },
    {
     "cell_type": "code",
     "collapsed": false,
     "input": [
      "#smp = sc.textFile('out3.txt', parts).takeSample(False, 10)"
     ],
     "language": "python",
     "metadata": {},
     "outputs": [],
     "prompt_number": 113
    },
    {
     "cell_type": "code",
     "collapsed": false,
     "input": [
      "sc.textFile('out3.txt', parts).map(align_check).reduce(add)"
     ],
     "language": "python",
     "metadata": {},
     "outputs": [
      {
       "metadata": {},
       "output_type": "pyout",
       "prompt_number": 127,
       "text": [
        "0"
       ]
      }
     ],
     "prompt_number": 127
    },
    {
     "cell_type": "code",
     "collapsed": false,
     "input": [
      "sc.textFile('out3.txt', parts).map(combB0str).saveAsTextFile('chris1_B0.cff')"
     ],
     "language": "python",
     "metadata": {},
     "outputs": [],
     "prompt_number": 136
    },
    {
     "cell_type": "code",
     "collapsed": false,
     "input": [],
     "language": "python",
     "metadata": {},
     "outputs": []
    }
   ],
   "metadata": {}
  }
 ]
}