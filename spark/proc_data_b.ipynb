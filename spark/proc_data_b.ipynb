{
 "metadata": {
  "name": "",
  "signature": "sha256:5117cbcf3a43a156e0be915308a45a1add5bbdf866cc76b107316a979bf51e45"
 },
 "nbformat": 3,
 "nbformat_minor": 0,
 "worksheets": [
  {
   "cells": [
    {
     "cell_type": "code",
     "collapsed": false,
     "input": [
      "sc"
     ],
     "language": "python",
     "metadata": {},
     "outputs": [
      {
       "metadata": {},
       "output_type": "pyout",
       "prompt_number": 1,
       "text": [
        "<pyspark.context.SparkContext at 0x7fbeaef79690>"
       ]
      }
     ],
     "prompt_number": 1
    },
    {
     "cell_type": "code",
     "collapsed": false,
     "input": [
      "cd /root/predator/8631_5_1_pfile/coil_images/"
     ],
     "language": "python",
     "metadata": {},
     "outputs": [
      {
       "output_type": "stream",
       "stream": "stdout",
       "text": [
        "/root/predator/8631_5_1_pfile/coil_images\n"
       ]
      }
     ],
     "prompt_number": 2
    },
    {
     "cell_type": "code",
     "collapsed": false,
     "input": [
      "\n",
      "import numpy as np\n",
      "import nibabel as nib\n",
      "from donuts.spark.classes import *\n",
      "ind = 16\n",
      "inname = '8631_5_coil' + str(ind) + '_ec.nii.gz'\n",
      "outname = 'chris1_coil' + str(ind) + '.pickle'\n",
      "rawdata = nib.load(inname).get_data()\n"
     ],
     "language": "python",
     "metadata": {},
     "outputs": [],
     "prompt_number": 3
    },
    {
     "cell_type": "code",
     "collapsed": false,
     "input": [
      "for j in range(10, 15):\n",
      "    outname = 'temp/temp' + str(j)\n",
      "    vp = VoxelPartition(cont = sc, arr = rawdata[:, :, :, range(j*10, j*10 + 10)], sz = (20, 20, 20), parts = 20)\n",
      "    vp.save_as_pickle_file(outname)\n",
      "    vp.rdd.unpersist()"
     ],
     "language": "python",
     "metadata": {},
     "outputs": []
    },
    {
     "cell_type": "code",
     "collapsed": false,
     "input": [
      "VoxelPartition(cont = sc, picklefs = ['temp/temp' + str(i) for i in range(15)]).save_as_pickle_file(outname)"
     ],
     "language": "python",
     "metadata": {},
     "outputs": [],
     "prompt_number": 12
    },
    {
     "cell_type": "code",
     "collapsed": false,
     "input": [],
     "language": "python",
     "metadata": {},
     "outputs": []
    },
    {
     "cell_type": "markdown",
     "metadata": {},
     "source": [
      "# Check the result"
     ]
    },
    {
     "cell_type": "code",
     "collapsed": false,
     "input": [
      "vp = VoxelPartition(cont = sc, picklef = outname)"
     ],
     "language": "python",
     "metadata": {},
     "outputs": [],
     "prompt_number": 13
    },
    {
     "cell_type": "code",
     "collapsed": false,
     "input": [
      "vp = VoxelPartition(cont = sc, picklef = 'temp/temp1')"
     ],
     "language": "python",
     "metadata": {},
     "outputs": [],
     "prompt_number": 19
    },
    {
     "cell_type": "code",
     "collapsed": false,
     "input": [
      "part = vp.rdd.takeSample(False, 1)"
     ],
     "language": "python",
     "metadata": {},
     "outputs": [],
     "prompt_number": 14
    },
    {
     "cell_type": "code",
     "collapsed": false,
     "input": [
      "coord = part[0][0]"
     ],
     "language": "python",
     "metadata": {},
     "outputs": [],
     "prompt_number": 15
    },
    {
     "cell_type": "code",
     "collapsed": false,
     "input": [
      "part[0][1][0, 0, 0, :]"
     ],
     "language": "python",
     "metadata": {},
     "outputs": [
      {
       "metadata": {},
       "output_type": "pyout",
       "prompt_number": 16,
       "text": [
        "array([ 0.04208374,  0.121521  ,  0.01023865,  0.02871704,  0.15039062,\n",
        "        0.04623413,  0.0186615 ,  0.0447998 , -0.01722717,  0.00820923,\n",
        "       -0.02742004,  0.11254883,  0.03921509,  0.04785156, -0.05142212,\n",
        "       -0.05029297, -0.0168457 ,  0.03109741, -0.05725098,  0.02322388,\n",
        "        0.05841064, -0.08740234,  0.14331055,  0.00862885,  0.0453186 ,\n",
        "        0.12646484,  0.05899048,  0.01541901,  0.04489136,  0.00782776,\n",
        "       -0.06756592,  0.12561035,  0.00968933,  0.03973389,  0.00489426,\n",
        "       -0.05056763, -0.0345459 , -0.00457382,  0.02093506, -0.00455475,\n",
        "       -0.04882812,  0.13415527,  0.05383301,  0.10321045, -0.04672241,\n",
        "        0.00724411,  0.05566406,  0.05032349, -0.00228691,  0.04095459,\n",
        "       -0.01908875, -0.02960205,  0.05661011,  0.02487183,  0.00484467,\n",
        "       -0.0259552 ,  0.04812622,  0.0307312 ,  0.04577637, -0.02938843,\n",
        "        0.1036377 ,  0.05752563,  0.06658936,  0.02671814,  0.01114655,\n",
        "       -0.03808594,  0.14855957, -0.03167725, -0.02626038,  0.05441284,\n",
        "        0.04788208,  0.04107666, -0.01502228,  0.02880859, -0.13195801,\n",
        "        0.03018188, -0.05050659,  0.00214767,  0.0871582 ,  0.15869141,\n",
        "        0.08343506,  0.09741211,  0.05014038, -0.01701355,  0.07623291,\n",
        "        0.02333069,  0.13830566,  0.04800415,  0.03848267,  0.07336426,\n",
        "        0.01384735,  0.01365662,  0.05569458,  0.06793213,  0.03186035,\n",
        "        0.18762207, -0.03320312, -0.07983398, -0.01989746,  0.00648499,\n",
        "       -0.01334381,  0.12573242,  0.0035553 , -0.08880615,  0.0557251 ,\n",
        "        0.02563477,  0.09918213,  0.06185913,  0.04992676,  0.02770996,\n",
        "        0.06561279,  0.11712646, -0.0458374 ,  0.00230598, -0.07623291,\n",
        "        0.05523682,  0.04647827, -0.02180481,  0.00870514,  0.02389526,\n",
        "        0.05380249,  0.01241302, -0.09405518,  0.08880615, -0.03207397,\n",
        "       -0.03738403, -0.00696945, -0.05908203,  0.09075928,  0.11358643,\n",
        "        0.03915405,  0.04748535, -0.02961731, -0.00103664,  0.02046204,\n",
        "        0.00409698, -0.00482559, -0.01278687,  0.09637451, -0.04660034,\n",
        "        0.03466797, -0.05307007,  0.06781006,  0.01559448, -0.00947571,\n",
        "        0.02542114,  0.0355835 ,  0.00998688, -0.02151489, -0.01705933], dtype=float16)"
       ]
      }
     ],
     "prompt_number": 16
    },
    {
     "cell_type": "code",
     "collapsed": false,
     "input": [
      "rawdata[coord[0], coord[1], coord[2], :]"
     ],
     "language": "python",
     "metadata": {},
     "outputs": [
      {
       "metadata": {},
       "output_type": "pyout",
       "prompt_number": 17,
       "text": [
        "array([ 0.06559461,  0.11711618, -0.04582674,  0.00230526, -0.07626192,\n",
        "        0.05524964,  0.04647218, -0.02180814,  0.00870487,  0.023891  ,\n",
        "       -0.04882874,  0.13415404,  0.05383528,  0.1031838 , -0.04673193,\n",
        "        0.00724417,  0.05565689,  0.05031023, -0.00228748,  0.04095413,\n",
        "        0.05381099,  0.01241191, -0.09404239,  0.08881828, -0.03206206,\n",
        "       -0.03739527, -0.00697124, -0.05906731,  0.09075754,  0.11361116,\n",
        "        0.04208199,  0.12150458,  0.01024166,  0.02872115,  0.15039155,\n",
        "        0.04622458,  0.01866656,  0.0447985 , -0.01722832,  0.00821267,\n",
        "       -0.02741442,  0.11256827,  0.03922629,  0.04783874, -0.05142277,\n",
        "       -0.05028138, -0.01684579,  0.03109292, -0.05723743,  0.0232199 ,\n",
        "       -0.06759036,  0.12555988,  0.00968582,  0.03972697,  0.00489251,\n",
        "       -0.05056086, -0.03453772, -0.00457406,  0.02094152, -0.00455506,\n",
        "        0.10365399,  0.0575349 ,  0.06661215,  0.02671446,  0.01114377,\n",
        "       -0.03809251,  0.14855097, -0.03169115, -0.02625949,  0.05441139,\n",
        "       -0.01334659,  0.12568019,  0.00355604, -0.08881681,  0.0557324 ,\n",
        "        0.02563792,  0.0992118 ,  0.06185666,  0.04992198,  0.02770787,\n",
        "        0.03466594, -0.05306199,  0.06780031,  0.01559626, -0.0094759 ,\n",
        "        0.02542624,  0.03558546,  0.0099832 , -0.02151313, -0.01705182,\n",
        "        0.03914631,  0.04747042, -0.02961682, -0.00103675,  0.02046791,\n",
        "        0.00409554, -0.00482446, -0.0127842 ,  0.09635898, -0.04659189,\n",
        "        0.04787031,  0.04107094, -0.01502561,  0.02881323, -0.13200824,\n",
        "        0.0301751 , -0.05049245,  0.00214693,  0.08714419,  0.15863986,\n",
        "        0.05840783, -0.08738746,  0.14328271,  0.00862612,  0.04531014,\n",
        "        0.12646015,  0.05900219,  0.0154207 ,  0.04489935,  0.00782651,\n",
        "        0.01384487,  0.01365734,  0.05569742,  0.06792472,  0.03185979,\n",
        "        0.18765521, -0.03320372, -0.07984085, -0.01990037,  0.00648618,\n",
        "        0.08343858,  0.09738735,  0.05015346, -0.01701921,  0.07626272,\n",
        "        0.02333642,  0.13836156,  0.04798942,  0.03848365,  0.07337175,\n",
        "       -0.01908343, -0.02960266,  0.05662177,  0.02487428,  0.00484645,\n",
        "       -0.0259545 ,  0.04812713,  0.03073288,  0.04577785, -0.02938146], dtype=float32)"
       ]
      }
     ],
     "prompt_number": 17
    },
    {
     "cell_type": "code",
     "collapsed": false,
     "input": [
      "import donuts.spark.classes as dc\n",
      "cont = sc\n",
      "picklefs = ['temp/temp' + str(i) for i in range(2)]\n",
      "parts = 20\n",
      "rdds = [cont.pickleFile(picklefs[ind], parts).map(lambda x : dc._aug_key(x, ind))\\\n",
      "        for ind in range(len(picklefs))]\n",
      "new_rdd = cont.union(rdds).\\\n",
      "                combineByKey(lambda x : x, lambda x, y : x + y, lambda x, y: x + y)"
     ],
     "language": "python",
     "metadata": {},
     "outputs": [],
     "prompt_number": 5
    },
    {
     "cell_type": "code",
     "collapsed": false,
     "input": [
      "part = new_rdd.takeSample(False, 1)"
     ],
     "language": "python",
     "metadata": {},
     "outputs": [],
     "prompt_number": 6
    },
    {
     "cell_type": "code",
     "collapsed": false,
     "input": [
      "coord = part[0][0]"
     ],
     "language": "python",
     "metadata": {},
     "outputs": [],
     "prompt_number": 8
    },
    {
     "cell_type": "code",
     "collapsed": false,
     "input": [
      "rawdata[coord[0], coord[1], coord[2], 0:10]"
     ],
     "language": "python",
     "metadata": {},
     "outputs": [
      {
       "metadata": {},
       "output_type": "pyout",
       "prompt_number": 9,
       "text": [
        "array([ 0.0480142 ,  0.15972467,  0.09562027, -0.02437114, -0.12645084,\n",
        "        0.10009219, -0.03899863, -0.04358435,  0.02382494,  0.13626079], dtype=float32)"
       ]
      }
     ],
     "prompt_number": 9
    },
    {
     "cell_type": "code",
     "collapsed": false,
     "input": [
      "len(part[0][1])"
     ],
     "language": "python",
     "metadata": {},
     "outputs": [
      {
       "metadata": {},
       "output_type": "pyout",
       "prompt_number": 10,
       "text": [
        "4"
       ]
      }
     ],
     "prompt_number": 10
    },
    {
     "cell_type": "code",
     "collapsed": false,
     "input": [
      "part[0][1][0]"
     ],
     "language": "python",
     "metadata": {},
     "outputs": [
      {
       "metadata": {},
       "output_type": "pyout",
       "prompt_number": 11,
       "text": [
        "1"
       ]
      }
     ],
     "prompt_number": 11
    },
    {
     "cell_type": "code",
     "collapsed": false,
     "input": [
      "part[0][1][2]"
     ],
     "language": "python",
     "metadata": {},
     "outputs": [
      {
       "metadata": {},
       "output_type": "pyout",
       "prompt_number": 12,
       "text": [
        "1"
       ]
      }
     ],
     "prompt_number": 12
    },
    {
     "cell_type": "code",
     "collapsed": false,
     "input": [],
     "language": "python",
     "metadata": {},
     "outputs": []
    }
   ],
   "metadata": {}
  }
 ]
}