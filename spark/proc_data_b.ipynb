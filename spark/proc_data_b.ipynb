{
 "metadata": {
  "name": "",
  "signature": "sha256:cf28d25f6a31a23fbbc28bcd526e6fc74c1d7b53e76ed1b2e8e9e0f77e9c6ce2"
 },
 "nbformat": 3,
 "nbformat_minor": 0,
 "worksheets": [
  {
   "cells": [
    {
     "cell_type": "code",
     "collapsed": false,
     "input": [
      "import sys\n",
      "ind = int(sys.argv[1])"
     ],
     "language": "python",
     "metadata": {},
     "outputs": [],
     "prompt_number": 53
    },
    {
     "cell_type": "code",
     "collapsed": false,
     "input": [
      "full_chris1 = ['/home/ubuntu/predator/8631_5_1_pfile/coil_images/'+ 'coil_comb_ec.nii.gz'] + \\\n",
      "        ['/home/ubuntu/predator/8631_5_1_pfile/coil_images/8631_5_coil' + str(i) + '_ec.nii.gz' for i in range(1,33)]\n",
      "outnames1 =   ['/home/ubuntu/chris1/chris1_comb.cff'] + \\\n",
      "        ['/home/ubuntu/chris1/chris1_coil' + str(i) + '.cff' for i in range(1,33)]\n",
      "\n",
      "full_chris2 = ['/home/ubuntu/predator/8631_11_1_pfile/coil_images/'+ 'coil_comb_ec.nii.gz'] + \\\n",
      "        ['/home/ubuntu/predator/8631_11_1_pfile/coil_images/8631_11_coil' + str(i) + '_ec.nii.gz' for i in range(1,33)]\n",
      "outnames2 =   ['/home/ubuntu/chris2/chris2_comb.cff'] + \\\n",
      "        ['/home/ubuntu/chris2/chris2_coil' + str(i) + '.cff' for i in range(1,33)]\n",
      "\n",
      "innames = full_chris1 + full_chris2\n",
      "outnames = outnames1 + outnames2\n",
      "\n",
      "def vox2str(ind, ii, rawdata):\n",
      "    dims = np.shape(rawdata)\n",
      "    dim0 = tuple(dims[:3])\n",
      "    coords = np.unravel_index(ii, dim0)\n",
      "    v = rawdata[coords[0], coords[1], coords[2], :]\n",
      "    return Voxel({'coords': list(coords) + [ind], 'intRes': 4, 'floats': v}).toString()\n",
      "\n",
      "import numpy as np\n",
      "import nibabel as nib\n",
      "from donuts.spark.classes import Voxel\n",
      "def csv2cff(ind):\n",
      "    inname = innames[ind]\n",
      "    outname = outnames[ind]\n",
      "    rawdata = nib.load(inname).get_data()\n",
      "    dims = np.shape(rawdata)\n",
      "    dim0 = tuple(dims[:3])\n",
      "    ndata = np.prod(dims[:3])\n",
      "    pdata = dims[3]\n",
      "    sts = [vox2str(ind, ii, rawdata) for ii in xrange(ndata)]\n",
      "    f = open(outname, 'w')\n",
      "    f.write('\\n'.join(sts))\n",
      "    f.close()"
     ],
     "language": "python",
     "metadata": {},
     "outputs": [],
     "prompt_number": 51
    },
    {
     "cell_type": "code",
     "collapsed": false,
     "input": [
      "csv2cff(ind)"
     ],
     "language": "python",
     "metadata": {},
     "outputs": [],
     "prompt_number": 52
    },
    {
     "cell_type": "code",
     "collapsed": false,
     "input": [
      "fstr = ['python proc_data_b.py '+str(i)+' &' for i in range(len(innames))]"
     ],
     "language": "python",
     "metadata": {},
     "outputs": [],
     "prompt_number": 60
    },
    {
     "cell_type": "code",
     "collapsed": false,
     "input": [
      "#print('\\n'.join(fstr))"
     ],
     "language": "python",
     "metadata": {},
     "outputs": [],
     "prompt_number": 1
    },
    {
     "cell_type": "code",
     "collapsed": false,
     "input": [],
     "language": "python",
     "metadata": {},
     "outputs": []
    }
   ],
   "metadata": {}
  }
 ]
}