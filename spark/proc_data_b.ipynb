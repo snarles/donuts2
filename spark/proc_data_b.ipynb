{
 "metadata": {
  "name": "",
  "signature": "sha256:24aa536ae93ec093f2021f764f039e787a30c12b6993af801abd58cd9389da43"
 },
 "nbformat": 3,
 "nbformat_minor": 0,
 "worksheets": [
  {
   "cells": [
    {
     "cell_type": "code",
     "collapsed": false,
     "input": [
      "import sys\n",
      "ind = int(sys.argv[1])"
     ],
     "language": "python",
     "metadata": {},
     "outputs": [],
     "prompt_number": 53
    },
    {
     "cell_type": "code",
     "collapsed": false,
     "input": [
      "full_chris1 = ['/home/ubuntu/predator/8631_5_1_pfile/coil_images/'+ 'coil_comb_ec.nii.gz'] + \\\n",
      "        ['/home/ubuntu/predator/8631_5_1_pfile/coil_images/8631_5_coil' + str(i) + '_ec.nii.gz' for i in range(1,33)]\n",
      "outnames1 =   ['/home/ubuntu/chris1/chris1_coil/chris1_comb.cff'] + \\\n",
      "        ['/home/ubuntu/chris1/chris1_coil' + str(i) + '.cff' for i in range(1,33)]\n",
      "\n",
      "full_chris2 = ['/home/ubuntu/predator/8631_11_1_pfile/coil_images/'+ 'coil_comb_ec.nii.gz'] + \\\n",
      "        ['/home/ubuntu/predator/8631_11_1_pfile/coil_images/8631_11_coil' + str(i) + '_ec.nii.gz' for i in range(1,33)]\n",
      "outnames2 =   ['/home/ubuntu/chris2/chris2_coil/chris2_comb.cff'] + \\\n",
      "        ['/home/ubuntu/chris2/chris2_coil' + str(i) + '.cff' for i in range(1,33)]\n",
      "\n",
      "innames = full_chris1 + full_chris2\n",
      "outnames = outnames1 + outnames2\n",
      "\n",
      "import numpy as np\n",
      "import nibabel as nib\n",
      "from donuts.spark.classes import Voxel\n",
      "def csv2cff(ind):\n",
      "    inname = innames[ind]\n",
      "    outname = outnames[ind]\n",
      "    rawdata = nib.load(inname).get_data()\n",
      "    dims = np.shape(rawdata)\n",
      "    dim0 = tuple(dims[:3])\n",
      "    ndata = np.prod(dims[:3])\n",
      "    pdata = dims[3]\n",
      "    newdata = rawdata.reshape((ndata, pdata))\n",
      "    assert(np.shape(newdata) == (ndata, pdata))\n",
      "    sts = [Voxel({'coords': list(np.unravel_index(ii, dim0)) + [ind], 'intRes': 4, 'floats': newdata[ii,:]}).toString() \\\n",
      "           for ii in xrange(ndata)]\n",
      "    f = open(outname, 'w')\n",
      "    f.write('\\n'.join(sts))\n",
      "    f.close()"
     ],
     "language": "python",
     "metadata": {},
     "outputs": [],
     "prompt_number": 51
    },
    {
     "cell_type": "code",
     "collapsed": false,
     "input": [
      "csv2cff(ind)"
     ],
     "language": "python",
     "metadata": {},
     "outputs": [],
     "prompt_number": 52
    },
    {
     "cell_type": "code",
     "collapsed": false,
     "input": [
      "fstr = ['python proc_data_b.py '+str(i)+' &' for i in range(len(innames))]"
     ],
     "language": "python",
     "metadata": {},
     "outputs": [],
     "prompt_number": 60
    },
    {
     "cell_type": "code",
     "collapsed": false,
     "input": [
      "print('\\n'.join(fstr))"
     ],
     "language": "python",
     "metadata": {},
     "outputs": [
      {
       "output_type": "stream",
       "stream": "stdout",
       "text": [
        "python proc_data_b.py 0 &\n",
        "python proc_data_b.py 1 &\n",
        "python proc_data_b.py 2 &\n",
        "python proc_data_b.py 3 &\n",
        "python proc_data_b.py 4 &\n",
        "python proc_data_b.py 5 &\n",
        "python proc_data_b.py 6 &\n",
        "python proc_data_b.py 7 &\n",
        "python proc_data_b.py 8 &\n",
        "python proc_data_b.py 9 &\n",
        "python proc_data_b.py 10 &\n",
        "python proc_data_b.py 11 &\n",
        "python proc_data_b.py 12 &\n",
        "python proc_data_b.py 13 &\n",
        "python proc_data_b.py 14 &\n",
        "python proc_data_b.py 15 &\n",
        "python proc_data_b.py 16 &\n",
        "python proc_data_b.py 17 &\n",
        "python proc_data_b.py 18 &\n",
        "python proc_data_b.py 19 &\n",
        "python proc_data_b.py 20 &\n",
        "python proc_data_b.py 21 &\n",
        "python proc_data_b.py 22 &\n",
        "python proc_data_b.py 23 &\n",
        "python proc_data_b.py 24 &\n",
        "python proc_data_b.py 25 &\n",
        "python proc_data_b.py 26 &\n",
        "python proc_data_b.py 27 &\n",
        "python proc_data_b.py 28 &\n",
        "python proc_data_b.py 29 &\n",
        "python proc_data_b.py 30 &\n",
        "python proc_data_b.py 31 &\n",
        "python proc_data_b.py 32 &\n",
        "python proc_data_b.py 33 &\n",
        "python proc_data_b.py 34 &\n",
        "python proc_data_b.py 35 &\n",
        "python proc_data_b.py 36 &\n",
        "python proc_data_b.py 37 &\n",
        "python proc_data_b.py 38 &\n",
        "python proc_data_b.py 39 &\n",
        "python proc_data_b.py 40 &\n",
        "python proc_data_b.py 41 &\n",
        "python proc_data_b.py 42 &\n",
        "python proc_data_b.py 43 &\n",
        "python proc_data_b.py 44 &\n",
        "python proc_data_b.py 45 &\n",
        "python proc_data_b.py 46 &\n",
        "python proc_data_b.py 47 &\n",
        "python proc_data_b.py 48 &\n",
        "python proc_data_b.py 49 &\n",
        "python proc_data_b.py 50 &\n",
        "python proc_data_b.py 51 &\n",
        "python proc_data_b.py 52 &\n",
        "python proc_data_b.py 53 &\n",
        "python proc_data_b.py 54 &\n",
        "python proc_data_b.py 55 &\n",
        "python proc_data_b.py 56 &\n",
        "python proc_data_b.py 57 &\n",
        "python proc_data_b.py 58 &\n",
        "python proc_data_b.py 59 &\n",
        "python proc_data_b.py 60 &\n",
        "python proc_data_b.py 61 &\n",
        "python proc_data_b.py 62 &\n",
        "python proc_data_b.py 63 &\n",
        "python proc_data_b.py 64 &\n",
        "python proc_data_b.py 65 &\n"
       ]
      }
     ],
     "prompt_number": 61
    },
    {
     "cell_type": "code",
     "collapsed": false,
     "input": [],
     "language": "python",
     "metadata": {},
     "outputs": []
    }
   ],
   "metadata": {}
  }
 ]
}