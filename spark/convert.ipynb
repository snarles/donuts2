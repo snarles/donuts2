{
 "metadata": {
  "name": "",
  "signature": "sha256:c56ccc7def5c09c52d1161a27a257473525d3288a5fa9927fd89758707d2b3f9"
 },
 "nbformat": 3,
 "nbformat_minor": 0,
 "worksheets": [
  {
   "cells": [
    {
     "cell_type": "code",
     "collapsed": false,
     "input": [
      "import os\n",
      "import subprocess"
     ],
     "language": "python",
     "metadata": {},
     "outputs": [],
     "prompt_number": 8
    },
    {
     "cell_type": "code",
     "collapsed": false,
     "input": [
      "files = os.listdir('.')\n",
      "ipynbs = [file for file in files if '.ipynb' in file and '_checkpoints' not in file]\n",
      "for ipynb in ipynbs:\n",
      "    subprocess.check_output('ipython nbconvert --to html '+ipynb, shell=True)\n",
      "subprocess.check_output('git add *.ipynb *.html', shell=True)\n",
      "subprocess.check_output('git commit -a -m \"Auto HTML Conversion\"', shell=True)"
     ],
     "language": "python",
     "metadata": {},
     "outputs": []
    },
    {
     "cell_type": "code",
     "collapsed": false,
     "input": [
      "ipynbs"
     ],
     "language": "python",
     "metadata": {},
     "outputs": [
      {
       "metadata": {},
       "output_type": "pyout",
       "prompt_number": 13,
       "text": [
        "['chrisSC.ipynb',\n",
        " 'noise_est_single.ipynb',\n",
        " 'chris1.ipynb',\n",
        " 'convert.ipynb',\n",
        " 'proc_data_b.ipynb',\n",
        " 'simulations.ipynb',\n",
        " 'chris2_exploratory.ipynb',\n",
        " 'sparkDonuts.ipynb',\n",
        " 'proc_data.ipynb',\n",
        " 'Untitled0.ipynb']"
       ]
      }
     ],
     "prompt_number": 13
    },
    {
     "cell_type": "code",
     "collapsed": false,
     "input": [],
     "language": "python",
     "metadata": {},
     "outputs": []
    }
   ],
   "metadata": {}
  }
 ]
}