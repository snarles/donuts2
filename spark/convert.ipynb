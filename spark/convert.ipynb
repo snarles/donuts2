{
 "metadata": {
  "name": "",
  "signature": "sha256:0ba07764c371a1887810b2c8da5d50756c1800dcbc519f08fa7f2917b536811d"
 },
 "nbformat": 3,
 "nbformat_minor": 0,
 "worksheets": [
  {
   "cells": [
    {
     "cell_type": "code",
     "collapsed": false,
     "input": [
      "import os\n",
      "import subprocess"
     ],
     "language": "python",
     "metadata": {},
     "outputs": [],
     "prompt_number": 8
    },
    {
     "cell_type": "code",
     "collapsed": false,
     "input": [
      "files = os.listdir('.')\n",
      "ipynbs = [file for file in files if '.ipynb' in file and '_checkpoints' not in file]\n",
      "for ipynb in ipynbs:\n",
      "    subprocess.check_output('ipython nbconvert --to html '+ipynb, shell=True)\n",
      "subprocess.check_output('git add *.ipynb *.html', shell=True)\n",
      "subprocess.check_output('git commit -a -m \"Auto HTML Conversion\"', shell=True)"
     ],
     "language": "python",
     "metadata": {},
     "outputs": [
      {
       "metadata": {},
       "output_type": "pyout",
       "prompt_number": 15,
       "text": [
        "'[master da1a63c] Auto HTML Conversion\\n 11 files changed, 34811 insertions(+)\\n create mode 100644 spark/Untitled0.html\\n create mode 100644 spark/chris1.html\\n create mode 100644 spark/chris2_exploratory.html\\n create mode 100644 spark/chrisSC.html\\n create mode 100644 spark/convert.html\\n create mode 100644 spark/convert.ipynb\\n create mode 100644 spark/noise_est_single.html\\n create mode 100644 spark/proc_data.html\\n create mode 100644 spark/proc_data_b.html\\n create mode 100644 spark/simulations.html\\n create mode 100644 spark/sparkDonuts.html\\n'"
       ]
      }
     ],
     "prompt_number": 15
    },
    {
     "cell_type": "code",
     "collapsed": false,
     "input": [],
     "language": "python",
     "metadata": {},
     "outputs": []
    }
   ],
   "metadata": {}
  }
 ]
}