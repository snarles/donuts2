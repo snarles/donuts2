{
 "metadata": {
  "name": "",
  "signature": "sha256:bca9b604649c7c29c40b93f7a6b4b2ed31c9fdb8a1084d72aad649df4e66e6bc"
 },
 "nbformat": 3,
 "nbformat_minor": 0,
 "worksheets": [
  {
   "cells": [
    {
     "cell_type": "code",
     "collapsed": false,
     "input": [
      "import os\n",
      "import numpy as np\n",
      "import numpy.random as npr\n",
      "import numpy.linalg as nla\n",
      "import scipy as sp\n",
      "import scipy.stats as spst\n",
      "import scipy.special as sps\n",
      "import matplotlib.pyplot as plt\n",
      "import numpy.random as npr\n",
      "import scipy.optimize as spo\n",
      "import matplotlib as mpl\n",
      "from mpl_toolkits.mplot3d import Axes3D\n",
      "from pyemd import emd"
     ],
     "language": "python",
     "metadata": {},
     "outputs": [],
     "prompt_number": 3
    },
    {
     "cell_type": "code",
     "collapsed": false,
     "input": [
      "def norms(x) :\n",
      "    \"\"\" computes the norms of the rows of x \"\"\"\n",
      "    nms = np.sum(np.abs(x)**2,axis=-1)**(1./2)\n",
      "    return nms\n",
      "\n",
      "def normalize_rows(x):\n",
      "    \"\"\" normalizes the rows of x \"\"\"\n",
      "    n = np.shape(x)[0]\n",
      "    p = np.shape(x)[1]\n",
      "    nms = norms(x).reshape(-1,1)\n",
      "    x = np.multiply(x, 1./np.tile(nms,(1,p)))\n",
      "    return x\n",
      "\n",
      "def arcdist(xx, yy):\n",
      "    \"\"\" Computes pairwise arc-distance matrix\"\"\"\n",
      "    dm = np.absolute(np.dot(xx,yy.T))\n",
      "    dm[dm > .99999999999999999] = .99999999999999999\n",
      "    dd = np.arccos(dm)\n",
      "    return dd\n",
      "\n",
      "def divsum(x):\n",
      "    return x/sum(x)\n",
      "\n",
      "def arc_emd(x1, w1, x2, w2):\n",
      "    x1 = x1[w1 > 0, :]\n",
      "    w1 = w1[w1 > 0]\n",
      "    x2 = x2[w2 > 0, :]\n",
      "    w2 = w2[w2 > 0]\n",
      "    w1 = divsum(w1)\n",
      "    w2 = divsum(w2)\n",
      "    arg1 = np.hstack([w1, 0*w2])\n",
      "    arg2 = np.hstack([0*w1, w2])\n",
      "    arg3 = arcdist(np.vstack([x1, x2]), np.vstack([x1, x2]))\n",
      "    return emd(arg1, arg2, arg3)"
     ],
     "language": "python",
     "metadata": {},
     "outputs": [],
     "prompt_number": 4
    },
    {
     "cell_type": "code",
     "collapsed": false,
     "input": [
      "def ste_tan_kappa(grid, bvecs):\n",
      "    \"\"\" Generates the Steksjal-Tanner signal\n",
      "        for fibers oriented with directions and kappa determined by\n",
      "        grid, when measure in directions specified by bvecs.\n",
      "        Note: kappa will be norm of the vector in grid squared.\n",
      "    \n",
      "    Parameters\n",
      "    ----------\n",
      "    grid: M x 3 numpy array of fiber directions with length\n",
      "      equal to square root of kappa\n",
      "    bvecs: N x 3 numpy array of unit vectors\n",
      "      corresponding to DWI measurement directions\n",
      "    \n",
      "    Returns\n",
      "    -------\n",
      "    x : N x M numpy array, columns are ST kernel signals\n",
      "    \"\"\"\n",
      "    x = np.exp(-np.dot(grid, bvecs.T)**2).T\n",
      "    return x\n",
      "\n",
      "def rand_ortho(k):\n",
      "    \"\"\" returns a random orthogonal matrix of size k x k \"\"\"\n",
      "    a = np.random.normal(0,1,(k,k))\n",
      "    u, s, v = nla.svd(a)\n",
      "    return u\n",
      "\n",
      "def ordered_partitions(n,k):\n",
      "    \"\"\" Forms all k-length nonnegative integer partitions of n (where ordering matters)\n",
      "\n",
      "    Parameters\n",
      "    ----------\n",
      "    n: integer > 0, total number of elements\n",
      "    k: integer > 0, max number of sets in partition\n",
      "\n",
      "    Returns\n",
      "    -------\n",
      "    ans: np array, ?? x k, each row is a partition\n",
      "\n",
      "    \"\"\"\n",
      "    if k==1:\n",
      "        return n*np.ones((1,1))\n",
      "    subparts = [0]*(n+1)\n",
      "    for ii in range(n+1):\n",
      "        temp = ordered_partitions(n-ii,k-1)\n",
      "        temp_p = np.shape(temp)[0]\n",
      "        subparts[ii] = np.hstack([ii*np.ones((temp_p,1)),temp])\n",
      "    return np.vstack(subparts)\n",
      "\n",
      "def geosphere(n):\n",
      "    \"\"\" returns a ??x3 spherical design\n",
      "\n",
      "    Parameters\n",
      "    ----------\n",
      "    n: number of subdivisions\n",
      "\n",
      "    Outputs\n",
      "    -------\n",
      "    ans: ?? x 3 numpy array consisting of unit vectors\n",
      "         symmetric about the z-axis\n",
      "\n",
      "    \"\"\"\n",
      "    # set up icosahedron\n",
      "    v = np.zeros((3,12))\n",
      "    v[:,0] = [0,0,1]\n",
      "    v[:,11] = [0,0,-1]\n",
      "    seq1 = 2.0*np.arange(1,6,1.0)*np.pi/5\n",
      "    seq2 = seq1 + np.pi/5\n",
      "    v[:,1:6] = 2.0/np.sqrt(5) * np.vstack([np.cos(seq1),np.sin(seq1),0.5*np.ones(5)])\n",
      "    v[:,6:11] = 2.0/np.sqrt(5) * np.vstack([np.cos(seq2),np.sin(seq2),-.5*np.ones(5)])\n",
      "    edges = [0]*30\n",
      "    for ii in range(5):\n",
      "        edges[ii] = (v[:,0],v[:,1+ii])\n",
      "        edges[2*(ii+1)+8] = (v[:,1+ii],v[:,6+ii])\n",
      "        edges[25+ii] = (v[:,11],v[:,6+ii])\n",
      "    for ii in range(4):\n",
      "        edges[ii+5] = (v[:,1+ii],v[:,2+ii])\n",
      "        edges[ii+20] = (v[:,6+ii],v[:,7+ii])\n",
      "        edges[2*(ii+1)+9] = (v[:,2+ii],v[:,6+ii])\n",
      "    edges[9] = (v[:,5],v[:,1])\n",
      "    edges[19] = (v[:,1],v[:,10])\n",
      "    edges[24] = (v[:,10],v[:,6])\n",
      "\n",
      "    faces = [0]*20\n",
      "    for ii in range(4):\n",
      "        faces[ii] = (v[:,0],v[:,1+ii],v[:,2+ii])\n",
      "        faces[15+ii] = (v[:,11],v[:,6+ii],v[:,7+ii])\n",
      "        faces[2*(ii+1)+3] = (v[:,1+ii],v[:,6+ii],v[:,2+ii])\n",
      "        faces[2*(ii+1)+4] = (v[:,6+ii],v[:,2+ii],v[:,7+ii])\n",
      "    faces[4] = (v[:,0],v[:,5],v[:,1])\n",
      "    faces[19] = (v[:,11],v[:,10],v[:,6])\n",
      "    faces[13] = (v[:,5],v[:,10],v[:,1])\n",
      "    faces[14] = (v[:,10],v[:,1],v[:,6])\n",
      "    # interpolate\n",
      "    v_final = [v]\n",
      "    pp = 12+30*(n-1)+10*(n-1)*(n-2)\n",
      "    if n > 1:\n",
      "        seq = np.arange(1,n,1.0)\n",
      "        mat = np.vstack([seq/n,1-(seq/n)])\n",
      "        v_edges = np.hstack([np.dot(np.vstack([x[0],x[1]]).T,mat) for x in edges])\n",
      "        v_final = v_final+[v_edges]\n",
      "    if n > 2:\n",
      "        mat2 = (1.0/n * (ordered_partitions(n-3,3)+1)).T\n",
      "        v_faces = np.hstack([np.dot(np.vstack([x[0],x[1],x[2]]).T,mat2) for x in faces])\n",
      "        v_final = v_final+[v_faces]\n",
      "    v_f = np.hstack(v_final)\n",
      "    v_norm = np.vstack([x/nla.norm(x) for x in v_f.T]).T\n",
      "    return v_norm.T\n",
      "\n",
      "def georandsphere(n,k):\n",
      "    temp = [0]*k\n",
      "    grid0 = geosphere(n)\n",
      "    for ii in range(k):\n",
      "        temp[ii] = np.dot(grid0,rand_ortho(3))\n",
      "    ans = np.vstack(temp)\n",
      "    return ans"
     ],
     "language": "python",
     "metadata": {},
     "outputs": [],
     "prompt_number": 8
    },
    {
     "cell_type": "code",
     "collapsed": false,
     "input": [
      "def rvs_ncx2(df,mu,sz=1,sigma = 1.0):\n",
      "    \"\"\" Generate noncentral chi-squared random variates with mu, sigma parameterization\n",
      "    i.e. the squared norm of a multivariate normal\n",
      "\n",
      "    Parameters\n",
      "    ----------\n",
      "    df : degrees of freedom\n",
      "    mu: the norm of the mean of the multivariate normal\n",
      "    sz: the number of variates to generate\n",
      "    sigma: the marginal standard deviation of the multivariate normal\n",
      "\n",
      "    Returns\n",
      "    -------\n",
      "    ans: np array\n",
      "    \"\"\"\n",
      "    mu = np.atleast_1d(mu)\n",
      "    if len(mu) ==1:\n",
      "        ans = (mu*np.ones(sz) + sigma*npr.normal(0,1,sz))**2 + (sigma**2)*spst.chi2.rvs(df-1,size=sz)\n",
      "        return ans\n",
      "    else:\n",
      "        ans = (np.squeeze(mu) + sigma*npr.normal(0,1,len(mu)))**2 + (sigma**2)*spst.chi2.rvs(df-1,size=len(mu))\n",
      "        return ans\n"
     ],
     "language": "python",
     "metadata": {},
     "outputs": [],
     "prompt_number": 24
    },
    {
     "cell_type": "code",
     "collapsed": false,
     "input": [
      "# base 90 encoding\n",
      "def int2str(z):\n",
      "    if (z < 90):\n",
      "        return chr(z+33)\n",
      "    else:\n",
      "        resid = int(z % 90)\n",
      "        z = int(z-resid)/90\n",
      "        return int2str(z)+chr(90+33)+chr(resid+33)\n",
      "    \n",
      "def ints2str(zs):\n",
      "    return ''.join(int2str(z) for z in zs)\n",
      "\n",
      "def str2ints(st):\n",
      "    os = [ord(c)-33 for c in st]\n",
      "    zs = []\n",
      "    counter = 0\n",
      "    while counter < len(os):\n",
      "        if os[counter] == 90:\n",
      "            zs[-1] = zs[-1] * 90 + os[counter + 1]\n",
      "            counter = counter + 1\n",
      "        else:\n",
      "            zs.append(os[counter])\n",
      "        counter = counter + 1\n",
      "    return zs\n",
      "\n",
      "def str2array(st):\n",
      "    pts = st.split('|')\n",
      "    arr = np.array([str2ints(pt) for pt in pts]).T\n",
      "    return arr"
     ],
     "language": "python",
     "metadata": {},
     "outputs": []
    },
    {
     "cell_type": "code",
     "collapsed": false,
     "input": [
      "ncases = 10\n",
      "k = 3\n",
      "emd_test_cases = [(ii, {'x1': normalize_rows(npr.normal(0, 1, (k, 3))), 'w1': divsum(npr.exponential(1, k)), \\\n",
      "               'x2': normalize_rows(npr.normal(0, 1, (k, 3))), 'w2': divsum(npr.exponential(1, k))}) for ii in range(ncases)]"
     ],
     "language": "python",
     "metadata": {},
     "outputs": [],
     "prompt_number": 14
    },
    {
     "cell_type": "code",
     "collapsed": false,
     "input": [
      "[arc_emd(**case[1]) for case in emd_test_cases]"
     ],
     "language": "python",
     "metadata": {},
     "outputs": [
      {
       "metadata": {},
       "output_type": "pyout",
       "prompt_number": 15,
       "text": [
        "[0.6366259277352533,\n",
        " 1.1950166059307314,\n",
        " 0.777436465803505,\n",
        " 1.2242976684956821,\n",
        " 0.9532264696867724,\n",
        " 0.8874622723741605,\n",
        " 1.3121754098084508,\n",
        " 0.8582621694873742,\n",
        " 0.9517166874727092,\n",
        " 0.5699499663233378]"
       ]
      }
     ],
     "prompt_number": 15
    },
    {
     "cell_type": "code",
     "collapsed": false,
     "input": [
      "sgrid = geosphere(5)\n",
      "sgrid = sgrid[sgrid[:,2] >0, :]\n",
      "np.shape(sgrid)"
     ],
     "language": "python",
     "metadata": {},
     "outputs": [
      {
       "metadata": {},
       "output_type": "pyout",
       "prompt_number": 11,
       "text": [
        "(126, 3)"
       ]
      }
     ],
     "prompt_number": 11
    },
    {
     "cell_type": "code",
     "collapsed": false,
     "input": [
      "sgrid0 = np.dot(sgrid, rand_ortho(3))\n",
      "bvecs = geosphere(4)"
     ],
     "language": "python",
     "metadata": {},
     "outputs": [],
     "prompt_number": 18
    },
    {
     "cell_type": "code",
     "collapsed": false,
     "input": [
      "kappa0 = 2.0\n",
      "kappa = kappa0"
     ],
     "language": "python",
     "metadata": {},
     "outputs": [],
     "prompt_number": 67
    },
    {
     "cell_type": "code",
     "collapsed": false,
     "input": [
      "amat0 = ste_tan_kappa(np.sqrt(kappa)*sgrid0, bvecs)\n",
      "pp0 = np.shape(amat0)[1]\n",
      "amat = ste_tan_kappa(np.sqrt(kappa)*sgrid, bvecs)\n",
      "pp = np.shape(amat)[1]"
     ],
     "language": "python",
     "metadata": {},
     "outputs": [],
     "prompt_number": 68
    },
    {
     "cell_type": "code",
     "collapsed": false,
     "input": [
      "k0 = 3\n",
      "df = 64\n",
      "sigma0 = 0.2/np.sqrt(df)\n",
      "w0 = np.zeros(pp0)\n",
      "w0[npr.randint(0, pp0, k0)] = 1.0/k0\n",
      "mu = np.squeeze(np.dot(amat0, w0))\n",
      "y = rvs_ncx2(df, mu, sigma = sigma0)"
     ],
     "language": "python",
     "metadata": {},
     "outputs": [],
     "prompt_number": 77
    },
    {
     "cell_type": "code",
     "collapsed": false,
     "input": [
      "bt_nnls = spo.nnls(amat, np.sqrt(y))[0]\n",
      "arc_emd(sgrid0, w0, sgrid, bt_nnls)"
     ],
     "language": "python",
     "metadata": {},
     "outputs": [
      {
       "metadata": {},
       "output_type": "pyout",
       "prompt_number": 78,
       "text": [
        "0.21830931414648141"
       ]
      }
     ],
     "prompt_number": 78
    },
    {
     "cell_type": "code",
     "collapsed": false,
     "input": [
      "bt_nnls2 = spo.nnls(amat, np.sqrt(y- df*(sigma0**2)))[0]\n",
      "arc_emd(sgrid0, w0, sgrid, bt_nnls2)"
     ],
     "language": "python",
     "metadata": {},
     "outputs": [
      {
       "metadata": {},
       "output_type": "pyout",
       "prompt_number": 79,
       "text": [
        "0.1523791396238938"
       ]
      }
     ],
     "prompt_number": 79
    },
    {
     "cell_type": "code",
     "collapsed": false,
     "input": [
      "#plt.scatter(mu, np.sqrt(y))"
     ],
     "language": "python",
     "metadata": {},
     "outputs": [],
     "prompt_number": 82
    },
    {
     "cell_type": "code",
     "collapsed": false,
     "input": [
      "#plt.scatter(mu, np.sqrt(y - df*(sigma0**2)))"
     ],
     "language": "python",
     "metadata": {},
     "outputs": [],
     "prompt_number": 83
    },
    {
     "cell_type": "code",
     "collapsed": false,
     "input": [],
     "language": "python",
     "metadata": {},
     "outputs": []
    }
   ],
   "metadata": {}
  }
 ]
}