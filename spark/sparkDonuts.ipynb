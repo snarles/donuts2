{
 "metadata": {
  "name": "",
  "signature": "sha256:58c607917fb36e441d3ad65e0413b43d6c27e80b62a7dc9f10b57eff655660ff"
 },
 "nbformat": 3,
 "nbformat_minor": 0,
 "worksheets": [
  {
   "cells": [
    {
     "cell_type": "code",
     "collapsed": false,
     "input": [
      "def norms(x) :\n",
      "    \"\"\" computes the norms of the rows of x \"\"\"\n",
      "    nms = np.sum(np.abs(x)**2,axis=-1)**(1./2)\n",
      "    return nms\n",
      "\n",
      "def normalize_rows(x):\n",
      "    \"\"\" normalizes the rows of x \"\"\"\n",
      "    n = np.shape(x)[0]\n",
      "    p = np.shape(x)[1]\n",
      "    nms = norms(x).reshape(-1,1)\n",
      "    x = np.multiply(x, 1./np.tile(nms,(1,p)))\n",
      "    return x\n",
      "\n",
      "def arcdist(xx, yy):\n",
      "    \"\"\" Computes pairwise arc-distance matrix\"\"\"\n",
      "    dm = np.absolute(np.dot(xx,yy.T))\n",
      "    dm[dm > .99999999999999999] = .99999999999999999\n",
      "    dd = np.arccos(dm)\n",
      "    return dd\n",
      "\n",
      "def divsum(x):\n",
      "    return x/sum(x)\n",
      "\n",
      "def arc_emd(x1, w1, x2, w2):\n",
      "    x1 = x1[w1 > 0, :]\n",
      "    w1 = w1[w1 > 0]\n",
      "    x2 = x2[w2 > 0, :]\n",
      "    w2 = w2[w2 > 0]\n",
      "    w1 = divsum(w1)\n",
      "    w2 = divsum(w2)\n",
      "    arg1 = np.hstack([w1, 0*w2])\n",
      "    arg2 = np.hstack([0*w1, w2])\n",
      "    arg3 = arcdist(np.vstack([x1, x2]), np.vstack([x1, x2]))\n",
      "    return emd(arg1, arg2, arg3)"
     ],
     "language": "python",
     "metadata": {},
     "outputs": []
    },
    {
     "cell_type": "code",
     "collapsed": false,
     "input": [],
     "language": "python",
     "metadata": {},
     "outputs": []
    }
   ],
   "metadata": {}
  }
 ]
}