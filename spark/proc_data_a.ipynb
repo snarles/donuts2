{
 "metadata": {
  "name": "",
  "signature": "sha256:36e49fae7eaaa88dd9559f3a1840d48ed57509f07613d5605e9112efeb1f3e0f"
 },
 "nbformat": 3,
 "nbformat_minor": 0,
 "worksheets": [
  {
   "cells": [
    {
     "cell_type": "code",
     "collapsed": false,
     "input": [
      "import os\n",
      "import numpy as np\n",
      "import numpy.random as npr\n",
      "import subprocess\n",
      "import donuts.spark.classes as dc\n",
      "import nibabel as nib\n",
      "import time"
     ],
     "language": "python",
     "metadata": {},
     "outputs": [],
     "prompt_number": 1
    },
    {
     "cell_type": "code",
     "collapsed": false,
     "input": [
      "os.chdir('/root/ephemeral-hdfs/bin')\n",
      "sz = (20, 20, 20)\n",
      "parts = 30"
     ],
     "language": "python",
     "metadata": {},
     "outputs": [],
     "prompt_number": 2
    },
    {
     "cell_type": "code",
     "collapsed": false,
     "input": [
      "s3names = ['s3://rawpredator/chris1/8631_5_coil' + str(i) + '_ec.nii.gz' for i in range(0, 33)] + \\\n",
      "          ['s3://rawpredator/chris2/8631_11_coil' + str(i) + '_ec.nii.gz' for i in range(0, 33)]\n",
      "innames = ['8631_5_coil' + str(i) + '_ec.nii.gz' for i in range(0, 33)] + \\\n",
      "          ['8631_11_coil' + str(i) + '_ec.nii.gz' for i in range(0, 33)]\n",
      "tempnames = ['temp1_coil' + str(i) + '.txt' for i in range(0, 33)] + \\\n",
      "            ['temp2_coil' + str(i) + '.txt' for i in range(0, 33)]\n",
      "outnames = ['chris1_coil' + str(i) + '.pickle' for i in range(0, 33)] + \\\n",
      "           ['chris2_coil' + str(i) + '.pickle' for i in range(0, 33)]\n",
      "s3outnames = ['s3://chris1data/chris1_coil' + str(i) + '.pickle' for i in range(0, 33)] + \\\n",
      "             ['s3://chris2data/chris2_coil' + str(i) + '.pickle' for i in range(0, 33)]"
     ],
     "language": "python",
     "metadata": {},
     "outputs": [],
     "prompt_number": 3
    },
    {
     "cell_type": "code",
     "collapsed": false,
     "input": [
      "ind = 0\n",
      "s3name = s3names[ind]\n",
      "inname = innames[ind]\n",
      "tempname = tempnames[ind]\n",
      "outname = outnames[ind]\n",
      "s3outname = s3outnames[ind]\n",
      "print inname, outname"
     ],
     "language": "python",
     "metadata": {},
     "outputs": [
      {
       "output_type": "stream",
       "stream": "stdout",
       "text": [
        "8631_5_coil0_ec.nii.gz chris1_coil0.pickle\n"
       ]
      }
     ],
     "prompt_number": 4
    },
    {
     "cell_type": "code",
     "collapsed": false,
     "input": [
      "print('Downloading...')\n",
      "t1 = time.time()\n",
      "os.system('aws s3 cp '+s3name + ' .')\n",
      "td = time.time() - t1\n",
      "print(td)"
     ],
     "language": "python",
     "metadata": {},
     "outputs": [
      {
       "output_type": "stream",
       "stream": "stdout",
       "text": [
        "Downloading...\n",
        "5.59779906273"
       ]
      },
      {
       "output_type": "stream",
       "stream": "stdout",
       "text": [
        "\n"
       ]
      }
     ],
     "prompt_number": 6
    },
    {
     "cell_type": "code",
     "collapsed": false,
     "input": [
      "print('Loading into python...')\n",
      "t1 = time.time()\n",
      "rawdata = nib.load(inname).get_data()\n",
      "tl = time.time() - t1\n",
      "print(tl)"
     ],
     "language": "python",
     "metadata": {},
     "outputs": [
      {
       "output_type": "stream",
       "stream": "stdout",
       "text": [
        "Loading into python...\n",
        "8.32722496986"
       ]
      },
      {
       "output_type": "stream",
       "stream": "stdout",
       "text": [
        "\n"
       ]
      }
     ],
     "prompt_number": 7
    },
    {
     "cell_type": "code",
     "collapsed": false,
     "input": [
      "print('Converting to flat file...')\n",
      "t1 = time.time()\n",
      "dc.convscript(rawdata, tempname, (10, 10, 10))\n",
      "tc = time.time() - t1\n",
      "print(tc)"
     ],
     "language": "python",
     "metadata": {},
     "outputs": [
      {
       "output_type": "stream",
       "stream": "stdout",
       "text": [
        "Converting to flat file...\n",
        "Wrote to file..."
       ]
      },
      {
       "output_type": "stream",
       "stream": "stdout",
       "text": [
        "\n",
        "Copied to hadoop... temp/temp1_coil0.txt"
       ]
      },
      {
       "output_type": "stream",
       "stream": "stdout",
       "text": [
        "\n",
        "Cleaning up..."
       ]
      },
      {
       "output_type": "stream",
       "stream": "stdout",
       "text": [
        "\n",
        "210.891757011"
       ]
      },
      {
       "output_type": "stream",
       "stream": "stdout",
       "text": [
        "\n"
       ]
      }
     ],
     "prompt_number": 8
    },
    {
     "cell_type": "code",
     "collapsed": false,
     "input": [
      "print('Pickling...')\n",
      "t1 = time.time()\n",
      "dc.VoxelPartition(textf = 'temp/'+tempname, cont = sc, parts = parts).save_as_pickle_file(outname)\n",
      "ts = time.time() - t1\n",
      "print(ts)"
     ],
     "language": "python",
     "metadata": {},
     "outputs": [
      {
       "output_type": "stream",
       "stream": "stdout",
       "text": [
        "Pickling...\n",
        "153.128750086"
       ]
      },
      {
       "output_type": "stream",
       "stream": "stdout",
       "text": [
        "\n"
       ]
      }
     ],
     "prompt_number": 9
    },
    {
     "cell_type": "code",
     "collapsed": false,
     "input": [
      "print('Transferring...')\n",
      "t1 = time.time()\n",
      "os.system('./hadoop fs -get ' + outname + ' ' + outname)\n",
      "os.system('aws s3 cp --recursive ' + outname + ' ' + s3outname)\n",
      "tt = time.time() - t1\n",
      "print(tt)"
     ],
     "language": "python",
     "metadata": {},
     "outputs": [
      {
       "output_type": "stream",
       "stream": "stdout",
       "text": [
        "Transferring...\n",
        "7.02462387085"
       ]
      },
      {
       "output_type": "stream",
       "stream": "stdout",
       "text": [
        "\n"
       ]
      }
     ],
     "prompt_number": 13
    },
    {
     "cell_type": "code",
     "collapsed": false,
     "input": [
      "print('Cleaning up...')\n",
      "t1 = time.clock()\n",
      "os.system('rm ' + inname)\n",
      "os.system('rm ' + tempname)\n",
      "os.system('rm -r ' + outname)\n",
      "os.system('./hadoop fs -rmr ' + tempname)\n",
      "os.system('./hadoop fs -rmr temp/' + tempname)\n",
      "os.system('./hadoop fs -rmr '+outname)\n",
      "tu = time.clock() - t1\n",
      "print(tu)"
     ],
     "language": "python",
     "metadata": {},
     "outputs": [
      {
       "output_type": "stream",
       "stream": "stdout",
       "text": [
        "Cleaning up...\n",
        "0.58"
       ]
      },
      {
       "output_type": "stream",
       "stream": "stdout",
       "text": [
        "\n"
       ]
      }
     ],
     "prompt_number": 14
    },
    {
     "cell_type": "markdown",
     "metadata": {},
     "source": [
      "# Checking the result"
     ]
    },
    {
     "cell_type": "code",
     "collapsed": false,
     "input": [
      "ind = npr.randint(0, 66)\n",
      "s3name = s3names[ind]\n",
      "inname = innames[ind]\n",
      "tempname = tempnames[ind]\n",
      "outname = outnames[ind]\n",
      "s3outname = s3outnames[ind]"
     ],
     "language": "python",
     "metadata": {},
     "outputs": [
      {
       "output_type": "stream",
       "stream": "stdout",
       "text": [
        "8631_11_coil22_ec.nii.gz chris2_coil22.pickle\n"
       ]
      }
     ],
     "prompt_number": 22
    },
    {
     "cell_type": "code",
     "collapsed": false,
     "input": [
      "print inname, outname\n",
      "os.system('aws s3 cp ' + s3name + ' ' + inname)\n",
      "t1 = time.time()\n",
      "os.system('aws s3 cp --recursive ' + s3outname + ' ' + outname)\n",
      "os.system('./hadoop fs -mkdir ' + outname)\n",
      "os.system('./hadoop fs -put ' + outname + '/* ' + outname + '/')\n",
      "print(time.time() - t1)\n",
      "rawdata = nib.load(inname).get_data()"
     ],
     "language": "python",
     "metadata": {},
     "outputs": [
      {
       "output_type": "stream",
       "stream": "stdout",
       "text": [
        "7.60544514656\n"
       ]
      }
     ],
     "prompt_number": 11
    },
    {
     "cell_type": "code",
     "collapsed": false,
     "input": [
      "t1 = time.time()\n",
      "tups = dc.VoxelPartition(picklef = outname, cont=sc).rdd.takeSample(False, 5)\n",
      "print(time.time() - t1)"
     ],
     "language": "python",
     "metadata": {},
     "outputs": [
      {
       "output_type": "stream",
       "stream": "stdout",
       "text": [
        "3.66230893135\n"
       ]
      }
     ],
     "prompt_number": 12
    },
    {
     "cell_type": "code",
     "collapsed": false,
     "input": [
      "for tup in tups:\n",
      "    dims = np.shape(tup[1])\n",
      "    x0 = npr.randint(0, dims[0])\n",
      "    x1 = npr.randint(0, dims[1])\n",
      "    x2 = npr.randint(0, dims[2])\n",
      "    coords = tup[0]\n",
      "    inds = npr.randint(0, 150, 10)\n",
      "    print(coords)\n",
      "    print(zip(rawdata[coords[0]+x0, coords[1]+x1, coords[2]+x2, inds],tup[1][x0, x1, x2, inds]))"
     ],
     "language": "python",
     "metadata": {},
     "outputs": [
      {
       "output_type": "stream",
       "stream": "stdout",
       "text": [
        "(60, 20, 20)\n",
        "[(0.6768285, 0.67676), (0.87980491, 0.87988), (0.71758568, 0.71777), (0.70602375, 0.70605), (0.69754267, 0.69775), (0.56752139, 0.56738), (0.65407282, 0.6543), (1.2776331, 1.2773), (0.79057264, 0.79053), (1.8217716, 1.8213)]\n",
        "(80, 0, 40)\n",
        "[(0.40794775, 0.40796), (0.51400071, 0.51416), (0.50792915, 0.50781), (0.55661494, 0.55664), (0.45164883, 0.45166), (0.44984168, 0.44995), (0.66701722, 0.66699), (0.46970704, 0.46973), (0.55682003, 0.55664), (0.53826493, 0.53809)]\n",
        "(100, 0, 0)\n",
        "[(0.39065871, 0.39062), (0.32688323, 0.3269), (0.41088822, 0.41089), (0.42792785, 0.42798), (0.38797721, 0.38794), (0.50285441, 0.50293), (0.42013773, 0.42017), (0.42832246, 0.42822), (0.43048403, 0.43042), (0.47979614, 0.47974)]\n",
        "(60, 60, 60)\n",
        "[(0.40942541, 0.40942), (0.48160049, 0.48169), (0.60075563, 0.60059), (0.98844814, 0.98828), (0.39641222, 0.39648), (0.5739826, 0.57422), (0.50791746, 0.50781), (1.0493406, 1.0498), (1.2623806, 1.2627), (0.52434015, 0.52441)]\n",
        "(60, 100, 20)\n",
        "[(0.46359003, 0.46362), (0.48723188, 0.4873), (3.130914, 3.1309), (2.7382114, 2.7383), (0.6531049, 0.65332), (0.58853626, 0.58838), (0.41484222, 0.41479), (0.55699533, 0.55713), (0.46605211, 0.46606), (0.54403067, 0.54395)]\n"
       ]
      }
     ],
     "prompt_number": 13
    },
    {
     "cell_type": "markdown",
     "metadata": {},
     "source": [
      "# Automate it"
     ]
    },
    {
     "cell_type": "code",
     "collapsed": false,
     "input": [
      "for ind in range(0, 66):\n",
      "    s3name = s3names[ind]\n",
      "    inname = innames[ind]\n",
      "    tempname = tempnames[ind]\n",
      "    outname = outnames[ind]\n",
      "    s3outname = s3outnames[ind]\n",
      "    print inname, outname\n",
      "\n",
      "    print('Downloading...')\n",
      "    t1 = time.time()\n",
      "    os.system('aws s3 cp '+s3name + ' .')\n",
      "    td = time.time() - t1\n",
      "    print(td)\n",
      "\n",
      "    print('Loading into python...')\n",
      "    t1 = time.time()\n",
      "    rawdata = nib.load(inname).get_data()\n",
      "    tl = time.time() - t1\n",
      "    print(tl)\n",
      "\n",
      "    print('Converting to flat file...')\n",
      "    t1 = time.time()\n",
      "    dc.convscript(rawdata, tempname, (10, 10, 10))\n",
      "    tc = time.time() - t1\n",
      "    print(tc)\n",
      "\n",
      "    print('Pickling...')\n",
      "    t1 = time.time()\n",
      "    dc.VoxelPartition(textf = 'temp/'+tempname, cont = sc, parts = parts).save_as_pickle_file(outname)\n",
      "    ts = time.time() - t1\n",
      "    print(ts)\n",
      "\n",
      "    print('Transferring...')\n",
      "    t1 = time.time()\n",
      "    os.system('./hadoop fs -get ' + outname + ' ' + outname)\n",
      "    os.system('aws s3 cp --recursive ' + outname + ' ' + s3outname)\n",
      "    tt = time.time() - t1\n",
      "    print(tt)\n",
      "\n",
      "    print('Cleaning up...')\n",
      "    t1 = time.clock()\n",
      "    os.system('rm ' + inname)\n",
      "    os.system('rm ' + tempname)\n",
      "    os.system('rm -r ' + outname)\n",
      "    os.system('./hadoop fs -rmr ' + tempname)\n",
      "    os.system('./hadoop fs -rmr temp/' + tempname)\n",
      "    os.system('./hadoop fs -rmr '+outname)\n",
      "    tu = time.clock() - t1\n",
      "    print(tu)"
     ],
     "language": "python",
     "metadata": {},
     "outputs": [
      {
       "output_type": "stream",
       "stream": "stdout",
       "text": [
        "8631_5_coil0_ec.nii.gz chris1_coil0.pickle\n",
        "Downloading...\n",
        "4.82283115387"
       ]
      },
      {
       "output_type": "stream",
       "stream": "stdout",
       "text": [
        "\n",
        "Loading into python...\n",
        "8.49957609177"
       ]
      }
     ]
    },
    {
     "cell_type": "code",
     "collapsed": false,
     "input": [],
     "language": "python",
     "metadata": {},
     "outputs": []
    }
   ],
   "metadata": {}
  }
 ]
}