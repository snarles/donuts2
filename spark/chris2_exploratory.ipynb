{
 "metadata": {
  "name": "",
  "signature": "sha256:ee3557a5f12ed27bb19e0935171b1fb636e8a3cfc68c731c11b4d74f9bd6a913"
 },
 "nbformat": 3,
 "nbformat_minor": 0,
 "worksheets": [
  {
   "cells": [
    {
     "cell_type": "code",
     "collapsed": false,
     "input": [
      "sc"
     ],
     "language": "python",
     "metadata": {},
     "outputs": [
      {
       "metadata": {},
       "output_type": "pyout",
       "prompt_number": 1,
       "text": [
        "<pyspark.context.SparkContext at 0x7f1180aaa690>"
       ]
      }
     ],
     "prompt_number": 1
    },
    {
     "cell_type": "code",
     "collapsed": false,
     "input": [
      "f = open('/root/donuts/spark/sparkDonuts.py', 'r')\n",
      "exec(f.read())\n",
      "f.close()"
     ],
     "language": "python",
     "metadata": {},
     "outputs": [],
     "prompt_number": 2
    },
    {
     "cell_type": "code",
     "collapsed": false,
     "input": [
      "def redMean(x, y):\n",
      "    return (x[0] + y[0], (x[0]*x[1] + y[0]*y[1])/(x[0]+y[0]))\n",
      "\n",
      "# estimate noncentral chi squared params using method of moments (df known)\n",
      "def ncx_mm_est(df, mu, var):\n",
      "    lambdas = mu * np.arange(0, 1, 0.01)\n",
      "    sigma2s = (mu - lambdas)/df\n",
      "    varis = sigma2s*(4*lambdas + 2*df*sigma2s)\n",
      "    scores = np.absolute(varis-vari)\n",
      "    ind = np.where(scores == min(scores))[0][0]\n",
      "    return lambdas[ind], sigma2s[ind]\n",
      "\n",
      "np.set_printoptions(linewidth = 120, precision = 1)"
     ],
     "language": "python",
     "metadata": {},
     "outputs": [],
     "prompt_number": 68
    },
    {
     "cell_type": "code",
     "collapsed": false,
     "input": [
      "parts = 100\n",
      "raw = sc.textFile(\"data/data2\", parts)"
     ],
     "language": "python",
     "metadata": {},
     "outputs": [],
     "prompt_number": 19
    },
    {
     "cell_type": "code",
     "collapsed": false,
     "input": [
      "arrs = raw.map(str2array).cache()"
     ],
     "language": "python",
     "metadata": {},
     "outputs": [],
     "prompt_number": 20
    },
    {
     "cell_type": "code",
     "collapsed": false,
     "input": [
      "smp = arrs.takeSample(False, 100)"
     ],
     "language": "python",
     "metadata": {},
     "outputs": [],
     "prompt_number": 5
    },
    {
     "cell_type": "code",
     "collapsed": false,
     "input": [
      "\n",
      "#smp[0]"
     ],
     "language": "python",
     "metadata": {},
     "outputs": [],
     "prompt_number": 6
    },
    {
     "cell_type": "code",
     "collapsed": false,
     "input": [
      "def align_check(smp):\n",
      "    ans = []\n",
      "    if (sum(smp[0,:] != smp[0,0]) + sum(smp[1,:] != smp[1,0]) + sum(smp[2,:] != smp[2,0])) > 0:\n",
      "        ans.append(smp)\n",
      "    return ans"
     ],
     "language": "python",
     "metadata": {},
     "outputs": [],
     "prompt_number": 21
    },
    {
     "cell_type": "code",
     "collapsed": false,
     "input": [
      "chk_align = arrs.flatMap(align_check)"
     ],
     "language": "python",
     "metadata": {},
     "outputs": [],
     "prompt_number": 22
    },
    {
     "cell_type": "code",
     "collapsed": false,
     "input": [
      "from operator import add\n",
      "chk_align.map(lambda x : 1).reduce(add)"
     ],
     "language": "python",
     "metadata": {},
     "outputs": [
      {
       "ename": "ValueError",
       "evalue": "Can not reduce() empty RDD",
       "output_type": "pyerr",
       "traceback": [
        "\u001b[1;31m---------------------------------------------------------------------------\u001b[0m\n\u001b[1;31mValueError\u001b[0m                                Traceback (most recent call last)",
        "\u001b[1;32m<ipython-input-23-886483f9d1e2>\u001b[0m in \u001b[0;36m<module>\u001b[1;34m()\u001b[0m\n\u001b[0;32m      1\u001b[0m \u001b[1;32mfrom\u001b[0m \u001b[0moperator\u001b[0m \u001b[1;32mimport\u001b[0m \u001b[0madd\u001b[0m\u001b[1;33m\u001b[0m\u001b[0m\n\u001b[1;32m----> 2\u001b[1;33m \u001b[0mchk_align\u001b[0m\u001b[1;33m.\u001b[0m\u001b[0mmap\u001b[0m\u001b[1;33m(\u001b[0m\u001b[1;32mlambda\u001b[0m \u001b[0mx\u001b[0m \u001b[1;33m:\u001b[0m \u001b[1;36m1\u001b[0m\u001b[1;33m)\u001b[0m\u001b[1;33m.\u001b[0m\u001b[0mreduce\u001b[0m\u001b[1;33m(\u001b[0m\u001b[0madd\u001b[0m\u001b[1;33m)\u001b[0m\u001b[1;33m\u001b[0m\u001b[0m\n\u001b[0m",
        "\u001b[1;32m/root/spark/python/pyspark/rdd.pyc\u001b[0m in \u001b[0;36mreduce\u001b[1;34m(self, f)\u001b[0m\n\u001b[0;32m    716\u001b[0m         \u001b[1;32mif\u001b[0m \u001b[0mvals\u001b[0m\u001b[1;33m:\u001b[0m\u001b[1;33m\u001b[0m\u001b[0m\n\u001b[0;32m    717\u001b[0m             \u001b[1;32mreturn\u001b[0m \u001b[0mreduce\u001b[0m\u001b[1;33m(\u001b[0m\u001b[0mf\u001b[0m\u001b[1;33m,\u001b[0m \u001b[0mvals\u001b[0m\u001b[1;33m)\u001b[0m\u001b[1;33m\u001b[0m\u001b[0m\n\u001b[1;32m--> 718\u001b[1;33m         \u001b[1;32mraise\u001b[0m \u001b[0mValueError\u001b[0m\u001b[1;33m(\u001b[0m\u001b[1;34m\"Can not reduce() empty RDD\"\u001b[0m\u001b[1;33m)\u001b[0m\u001b[1;33m\u001b[0m\u001b[0m\n\u001b[0m\u001b[0;32m    719\u001b[0m \u001b[1;33m\u001b[0m\u001b[0m\n\u001b[0;32m    720\u001b[0m     \u001b[1;32mdef\u001b[0m \u001b[0mfold\u001b[0m\u001b[1;33m(\u001b[0m\u001b[0mself\u001b[0m\u001b[1;33m,\u001b[0m \u001b[0mzeroValue\u001b[0m\u001b[1;33m,\u001b[0m \u001b[0mop\u001b[0m\u001b[1;33m)\u001b[0m\u001b[1;33m:\u001b[0m\u001b[1;33m\u001b[0m\u001b[0m\n",
        "\u001b[1;31mValueError\u001b[0m: Can not reduce() empty RDD"
       ]
      }
     ],
     "prompt_number": 23
    },
    {
     "cell_type": "code",
     "collapsed": false,
     "input": [
      "arr = smp[0]\n",
      "np.shape(arr)"
     ],
     "language": "python",
     "metadata": {},
     "outputs": [
      {
       "metadata": {},
       "output_type": "pyout",
       "prompt_number": 16,
       "text": [
        "(14, 32)"
       ]
      }
     ],
     "prompt_number": 16
    },
    {
     "cell_type": "code",
     "collapsed": false,
     "input": [
      "arr = arr[:, arr[3,:]-1]"
     ],
     "language": "python",
     "metadata": {},
     "outputs": [],
     "prompt_number": 20
    },
    {
     "cell_type": "code",
     "collapsed": false,
     "input": [
      "#arr[4:,:]"
     ],
     "language": "python",
     "metadata": {},
     "outputs": [],
     "prompt_number": 7
    },
    {
     "cell_type": "code",
     "collapsed": false,
     "input": [
      "def varest1(arr):\n",
      "    subarr = np.array(arr[4:, ]/1000.0, dtype=float)\n",
      "    combs = np.sum(subarr, axis = 1)\n",
      "    var1 = np.var(combs, ddof = 1)\n",
      "    marvars = np.array([np.var(subarr[:,i], ddof=1) for i in range(32)])\n",
      "    var2 = np.sum(marvars)\n",
      "    coords = arr[0:3,0]\n",
      "    key = ints2str(coords)\n",
      "    #return (key, np.array([var1, var2]))\n",
      "    #return np.array([var1, var2])\n",
      "    return (1, np.array([var1, var2]))"
     ],
     "language": "python",
     "metadata": {},
     "outputs": [],
     "prompt_number": 64
    },
    {
     "cell_type": "code",
     "collapsed": false,
     "input": [
      "varest1(smp[0])"
     ],
     "language": "python",
     "metadata": {},
     "outputs": [
      {
       "metadata": {},
       "output_type": "pyout",
       "prompt_number": 58,
       "text": [
        "('\\\\NT', array([ 1846.8228725 ,   276.46831459]))"
       ]
      }
     ],
     "prompt_number": 58
    },
    {
     "cell_type": "code",
     "collapsed": false,
     "input": [
      "smpR = sc.parallelize(smp, 2)"
     ],
     "language": "python",
     "metadata": {},
     "outputs": [],
     "prompt_number": 59
    },
    {
     "cell_type": "code",
     "collapsed": false,
     "input": [
      "smpR.map(varest1).reduce(redMean)"
     ],
     "language": "python",
     "metadata": {},
     "outputs": [
      {
       "metadata": {},
       "output_type": "pyout",
       "prompt_number": 66,
       "text": [
        "(100, array([ 1360.79829173,   567.80390616]))"
       ]
      }
     ],
     "prompt_number": 66
    },
    {
     "cell_type": "code",
     "collapsed": false,
     "input": [
      "res1 = arrs.map(varest1).reduce(redMean)"
     ],
     "language": "python",
     "metadata": {},
     "outputs": [
      {
       "metadata": {},
       "output_type": "pyout",
       "prompt_number": 67,
       "text": [
        "(993600, array([ 38535.56003223,  20968.65408016]))"
       ]
      }
     ],
     "prompt_number": 67
    },
    {
     "cell_type": "code",
     "collapsed": false,
     "input": [
      "mu_var = res1[1]"
     ],
     "language": "python",
     "metadata": {},
     "outputs": [],
     "prompt_number": 70
    },
    {
     "cell_type": "code",
     "collapsed": false,
     "input": [
      "mu_var"
     ],
     "language": "python",
     "metadata": {},
     "outputs": [
      {
       "metadata": {},
       "output_type": "pyout",
       "prompt_number": 71,
       "text": [
        "array([ 38535.56003223,  20968.65408016])"
       ]
      }
     ],
     "prompt_number": 71
    },
    {
     "cell_type": "code",
     "collapsed": false,
     "input": [
      "corr_factr = mu_var[0]/mu_var[1]"
     ],
     "language": "python",
     "metadata": {},
     "outputs": [],
     "prompt_number": 73
    },
    {
     "cell_type": "code",
     "collapsed": false,
     "input": [
      "corr_factr"
     ],
     "language": "python",
     "metadata": {},
     "outputs": [
      {
       "metadata": {},
       "output_type": "pyout",
       "prompt_number": 74,
       "text": [
        "1.8377698389660286"
       ]
      }
     ],
     "prompt_number": 74
    },
    {
     "cell_type": "markdown",
     "metadata": {},
     "source": [
      "## Try out our separate-coil estimation tech"
     ]
    },
    {
     "cell_type": "code",
     "collapsed": false,
     "input": [
      "def cv_varest1(arr):\n",
      "    corr_factr =1.8377\n",
      "    cv_inds = [1,2,5]\n",
      "    tr_inds = list(set(range(10))-set(cv_inds))\n",
      "    subarr = np.array(arr[4:, ]/1000.0, dtype=float)\n",
      "    cvarr = subarr[cv_inds, :]\n",
      "    trarr = subarr[tr_inds, :]\n",
      "    cvcombs = np.sum(cvarr, axis = 1)\n",
      "    trcombs = np.sum(trarr, axis = 1)\n",
      "    # ground truth for CV\n",
      "    var0 = np.var(cvcombs, ddof = 1)\n",
      "    trvar1 = np.var(trcombs, ddof = 1)\n",
      "    marvars = np.array([np.var(trarr[:,i], ddof=1) for i in range(32)])\n",
      "    trvar2 = corr_factr * np.sum(marvars)\n",
      "    trvar3 = sum(np.cov(trarr, ddof=1).ravel())\n",
      "    cve1 = (trvar1-var0)**2\n",
      "    cve2 = (trvar2-var0)**2\n",
      "    cve3 = (trvar3-var0)**2\n",
      "    coords = arr[0:3,0]\n",
      "    key = ints2str(coords)\n",
      "    #return (key, np.array([var1, var2]))\n",
      "    #return np.array([var1, var2])\n",
      "    return (1, np.array([cve1, cve2, cve3]))"
     ],
     "language": "python",
     "metadata": {},
     "outputs": [],
     "prompt_number": 24
    },
    {
     "cell_type": "code",
     "collapsed": false,
     "input": [
      "cv_res01 = arrs.map(cv_varest1).reduce(redMean)"
     ],
     "language": "python",
     "metadata": {},
     "outputs": [],
     "prompt_number": 25
    },
    {
     "cell_type": "code",
     "collapsed": false,
     "input": [
      "cv_res01"
     ],
     "language": "python",
     "metadata": {},
     "outputs": [
      {
       "metadata": {},
       "output_type": "pyout",
       "prompt_number": 26,
       "text": [
        "(993600, array([  1.8e+10,   1.8e+10,   1.9e+11]))"
       ]
      }
     ],
     "prompt_number": 26
    },
    {
     "cell_type": "markdown",
     "metadata": {},
     "source": [
      "## Check S0 correlations"
     ]
    },
    {
     "cell_type": "code",
     "collapsed": false,
     "input": [
      "def combs(arr):\n",
      "    subarr = np.array(arr[4:, ]/1000.0, dtype=float)\n",
      "    combs = np.sum(subarr, axis = 1)\n",
      "    return (1, combs)"
     ],
     "language": "python",
     "metadata": {},
     "outputs": [],
     "prompt_number": 27
    },
    {
     "cell_type": "code",
     "collapsed": false,
     "input": [
      "mu_s0 = arrs.map(combs).reduce(redMean)\n",
      "mu_s0 = mu_s0[1]"
     ],
     "language": "python",
     "metadata": {},
     "outputs": [],
     "prompt_number": 84
    },
    {
     "cell_type": "code",
     "collapsed": false,
     "input": [
      "mu_s0"
     ],
     "language": "python",
     "metadata": {},
     "outputs": [
      {
       "metadata": {},
       "output_type": "pyout",
       "prompt_number": 85,
       "text": [
        "array([ 90.8,  90.6,  90.3,  89.9,  90.1,  92. ,  91.2,  90.2,  90.4,  90.5])"
       ]
      }
     ],
     "prompt_number": 85
    },
    {
     "cell_type": "code",
     "collapsed": false,
     "input": [
      "def covs(v):\n",
      "    return (1, np.outer(v[1]-np.mean(v[1]), v[1]-np.mean(v[1])).ravel())"
     ],
     "language": "python",
     "metadata": {},
     "outputs": [],
     "prompt_number": 30
    },
    {
     "cell_type": "code",
     "collapsed": false,
     "input": [
      "cov_s0 = arrs.map(combs).map(covs).reduce(redMean)"
     ],
     "language": "python",
     "metadata": {},
     "outputs": [],
     "prompt_number": 31
    },
    {
     "cell_type": "code",
     "collapsed": false,
     "input": [
      "cov_s0= np.reshape(cov_s0[1], (10,10))"
     ],
     "language": "python",
     "metadata": {},
     "outputs": [],
     "prompt_number": 32
    },
    {
     "cell_type": "code",
     "collapsed": false,
     "input": [
      "np.set_printoptions(precision = 1)\n",
      "cov_s0"
     ],
     "language": "python",
     "metadata": {},
     "outputs": [
      {
       "metadata": {},
       "output_type": "pyout",
       "prompt_number": 33,
       "text": [
        "array([[ 4927.5,  2278. ,  1412.5,  1175.6,   -32.6, -3264. ,   197.2,  -848.6, -2719.5, -3126.2],\n",
        "       [ 2278. ,  2964.1,  1334.7,   950.8,  -121.5, -1959.7,   181.3,  -877. , -2195.3, -2555.4],\n",
        "       [ 1412.5,  1334.7,  2557.4,   584.4,   376.3,  -885.6, -1066.2,  -919.7, -1596.1, -1797.8],\n",
        "       [ 1175.6,   950.8,   584.4,  2794.8,  -653. ,  -674.9,  -205.9,  -991.7, -1046.1, -1934.1],\n",
        "       [  -32.6,  -121.5,   376.3,  -653. ,  1976.6,   368.1, -1172.7,  -331.9,  -325.9,   -83.3],\n",
        "       [-3264. , -1959.7,  -885.6,  -674.9,   368.1,  5842.6, -1709.9,  -804.7,  1790.1,  1298.1],\n",
        "       [  197.2,   181.3, -1066.2,  -205.9, -1172.7, -1709.9,  5130.2,   329.2,  -472.2, -1210.9],\n",
        "       [ -848.6,  -877. ,  -919.7,  -991.7,  -331.9,  -804.7,   329.2,  2090.5,   699.7,  1654.2],\n",
        "       [-2719.5, -2195.3, -1596.1, -1046.1,  -325.9,  1790.1,  -472.2,   699.7,  3440.9,  2424.4],\n",
        "       [-3126.2, -2555.4, -1797.8, -1934.1,   -83.3,  1298.1, -1210.9,  1654.2,  2424.4,  5331. ]])"
       ]
      }
     ],
     "prompt_number": 33
    },
    {
     "cell_type": "code",
     "collapsed": false,
     "input": [
      "plt.imshow(cov_s0)"
     ],
     "language": "python",
     "metadata": {},
     "outputs": [
      {
       "metadata": {},
       "output_type": "pyout",
       "prompt_number": 34,
       "text": [
        "<matplotlib.image.AxesImage at 0x7f116d205d10>"
       ]
      },
      {
       "metadata": {},
       "output_type": "display_data",
       "png": "[encoded data removed]",
       "text": [
        "<matplotlib.figure.Figure at 0x7f116d1f9d90>"
       ]
      }
     ],
     "prompt_number": 34
    },
    {
     "cell_type": "code",
     "collapsed": false,
     "input": [
      "zip(np.arange(0, 10, 1, dtype=int), np.diag(cov_s0))"
     ],
     "language": "python",
     "metadata": {},
     "outputs": [
      {
       "metadata": {},
       "output_type": "pyout",
       "prompt_number": 88,
       "text": [
        "[(0, 4927.503987896338),\n",
        " (1, 2964.1314800958639),\n",
        " (2, 2557.4105439168052),\n",
        " (3, 2794.8249117069658),\n",
        " (4, 1976.5849029659867),\n",
        " (5, 5842.6137964595291),\n",
        " (6, 5130.1964907470028),\n",
        " (7, 2090.4848968839692),\n",
        " (8, 3440.904646345708),\n",
        " (9, 5331.0102087137302)]"
       ]
      }
     ],
     "prompt_number": 88
    },
    {
     "cell_type": "code",
     "collapsed": false,
     "input": [
      "keep_inds = [1,2,3,4,7]"
     ],
     "language": "python",
     "metadata": {},
     "outputs": [],
     "prompt_number": 89
    },
    {
     "cell_type": "code",
     "collapsed": false,
     "input": [],
     "language": "python",
     "metadata": {},
     "outputs": []
    },
    {
     "cell_type": "markdown",
     "metadata": {},
     "source": [
      "## Estimate sigma2 parameter"
     ]
    },
    {
     "cell_type": "code",
     "collapsed": false,
     "input": [
      "def meanArray(x, y):\n",
      "    z = np.zeros(np.shape(x))\n",
      "    z[0,:] = x[0,:] + y[0,:]\n",
      "    for ii in range(1,3):\n",
      "        z[ii,:] = (x[0,:]*x[ii,:] + y[0,:]*y[ii,:])/(x[0,:] + y[0,:])\n",
      "    return z\n",
      "    \n",
      "def mu_var(arr):\n",
      "    #keep_inds = range(10)\n",
      "    keep_inds = [1,2,3,4,7]\n",
      "    subarr = np.array(arr[4:, ]/1000.0, dtype=float)\n",
      "    subarr = subarr[keep_inds, :]\n",
      "    mus = np.mean(subarr, axis = 0)\n",
      "    varis = np.var(subarr, axis = 0, ddof=1)\n",
      "    return np.vstack([np.ones((1,32)), mus, varis])\n",
      "\n",
      "def estParams(moments):\n",
      "    return np.array([np.array(ncx_mm_est(2, mu, var)) for (mu, var) in zip(moments[1,:], moments[2,:])])"
     ],
     "language": "python",
     "metadata": {},
     "outputs": [],
     "prompt_number": 90
    },
    {
     "cell_type": "code",
     "collapsed": false,
     "input": [
      "moments = arrs.map(mu_var).reduce(meanArray)"
     ],
     "language": "python",
     "metadata": {},
     "outputs": [],
     "prompt_number": 91
    },
    {
     "cell_type": "code",
     "collapsed": false,
     "input": [
      "ests = np.array([np.array(ncx_mm_est(2, mu, var)) for (mu, var) in zip(moments[1,:], moments[2,:])])\n",
      "vstack([moments[1:,:], ests.T]).T\n",
      "# mean should be lambda+2*sigma2, variance should be sigma2(4*lambda + 4*sigma2)"
     ],
     "language": "python",
     "metadata": {},
     "outputs": [
      {
       "metadata": {},
       "output_type": "pyout",
       "prompt_number": 92,
       "text": [
        "array([[   1.5,    6.3,    0. ,    0.7],\n",
        "       [   4.7,   21.9,    0. ,    2.3],\n",
        "       [   4.2,   18.5,    0. ,    2.1],\n",
        "       [   2.3,    6.4,    0. ,    1.2],\n",
        "       [   1.5,    3.4,    0. ,    0.7],\n",
        "       [   5.3,   37.6,    0. ,    2.7],\n",
        "       [   3.4,   14.9,    0. ,    1.7],\n",
        "       [   2.8,    7.4,    0. ,    1.4],\n",
        "       [   2.3,    7. ,    0. ,    1.1],\n",
        "       [   2.7,    8.2,    0. ,    1.4],\n",
        "       [   3.9,   16.3,    0. ,    2. ],\n",
        "       [   1.3,    2.1,    0. ,    0.6],\n",
        "       [   2.2,    8.8,    0. ,    1.1],\n",
        "       [   3.6,   13.3,    0. ,    1.8],\n",
        "       [   3.9,   11.1,    0. ,    1.9],\n",
        "       [   1.5,    4.8,    0. ,    0.7],\n",
        "       [   1.7,    8.4,    0. ,    0.8],\n",
        "       [   4.5,   58.3,    0. ,    2.3],\n",
        "       [   4.3,   28. ,    0. ,    2.1],\n",
        "       [   2.2,    8.8,    0. ,    1.1],\n",
        "       [   3. ,  199.5,    0. ,    1.5],\n",
        "       [   4.1,   57.3,    0. ,    2. ],\n",
        "       [   2.2,   15.2,    0. ,    1.1],\n",
        "       [   1.7,    6.7,    0. ,    0.9],\n",
        "       [   1.5,    6.5,    0. ,    0.7],\n",
        "       [   1.9,   13.3,    0. ,    1. ],\n",
        "       [   3.2,   33.9,    0. ,    1.6],\n",
        "       [   2.7,  133.6,    0. ,    1.3],\n",
        "       [   2. ,   10.3,    0. ,    1. ],\n",
        "       [   4. ,   33.1,    0. ,    2. ],\n",
        "       [   3.5,   39.8,    0. ,    1.7],\n",
        "       [   1. ,    3.3,    0. ,    0.5]])"
       ]
      }
     ],
     "prompt_number": 92
    },
    {
     "cell_type": "code",
     "collapsed": false,
     "input": [
      "smp = arrs.map(mu_var).takeSample(False, 10)"
     ],
     "language": "python",
     "metadata": {},
     "outputs": [],
     "prompt_number": 73
    },
    {
     "cell_type": "code",
     "collapsed": false,
     "input": [
      "np.hstack([smp[4].T,estParams(smp[4])])"
     ],
     "language": "python",
     "metadata": {},
     "outputs": [
      {
       "metadata": {},
       "output_type": "pyout",
       "prompt_number": 82,
       "text": [
        "array([[  1.0e+00,   2.3e-02,   5.5e-04,   0.0e+00,   1.2e-02],\n",
        "       [  1.0e+00,   2.2e-02,   4.7e-04,   0.0e+00,   1.1e-02],\n",
        "       [  1.0e+00,   7.1e-03,   4.5e-05,   0.0e+00,   3.6e-03],\n",
        "       [  1.0e+00,   1.5e-02,   2.9e-04,   0.0e+00,   7.3e-03],\n",
        "       [  1.0e+00,   2.6e-02,   9.1e-04,   0.0e+00,   1.3e-02],\n",
        "       [  1.0e+00,   3.0e-02,   4.3e-04,   0.0e+00,   1.5e-02],\n",
        "       [  1.0e+00,   2.6e-02,   8.8e-04,   0.0e+00,   1.3e-02],\n",
        "       [  1.0e+00,   3.0e-02,   1.4e-03,   0.0e+00,   1.5e-02],\n",
        "       [  1.0e+00,   2.4e-02,   1.2e-03,   0.0e+00,   1.2e-02],\n",
        "       [  1.0e+00,   3.1e-02,   2.2e-03,   0.0e+00,   1.6e-02],\n",
        "       [  1.0e+00,   1.6e-02,   6.7e-04,   0.0e+00,   8.0e-03],\n",
        "       [  1.0e+00,   1.6e-02,   6.8e-04,   0.0e+00,   7.8e-03],\n",
        "       [  1.0e+00,   1.3e-02,   2.1e-04,   0.0e+00,   6.7e-03],\n",
        "       [  1.0e+00,   1.1e-02,   3.2e-04,   0.0e+00,   5.5e-03],\n",
        "       [  1.0e+00,   1.4e-02,   4.2e-04,   0.0e+00,   7.2e-03],\n",
        "       [  1.0e+00,   2.6e-02,   7.7e-04,   0.0e+00,   1.3e-02],\n",
        "       [  1.0e+00,   3.0e-02,   2.8e-03,   0.0e+00,   1.5e-02],\n",
        "       [  1.0e+00,   5.7e-03,   3.5e-05,   0.0e+00,   2.9e-03],\n",
        "       [  1.0e+00,   1.1e-02,   1.8e-04,   0.0e+00,   5.3e-03],\n",
        "       [  1.0e+00,   1.6e-02,   7.7e-05,   0.0e+00,   7.8e-03],\n",
        "       [  1.0e+00,   3.5e-02,   2.5e-03,   0.0e+00,   1.7e-02],\n",
        "       [  1.0e+00,   2.4e-02,   9.5e-04,   0.0e+00,   1.2e-02],\n",
        "       [  1.0e+00,   1.7e-02,   5.8e-04,   0.0e+00,   8.3e-03],\n",
        "       [  1.0e+00,   1.1e-02,   1.6e-04,   0.0e+00,   5.6e-03],\n",
        "       [  1.0e+00,   1.3e-02,   3.2e-04,   0.0e+00,   6.3e-03],\n",
        "       [  1.0e+00,   2.4e-02,   1.6e-03,   0.0e+00,   1.2e-02],\n",
        "       [  1.0e+00,   2.2e-02,   8.8e-04,   0.0e+00,   1.1e-02],\n",
        "       [  1.0e+00,   1.7e-02,   1.7e-04,   0.0e+00,   8.7e-03],\n",
        "       [  1.0e+00,   1.9e-02,   8.2e-04,   0.0e+00,   9.7e-03],\n",
        "       [  1.0e+00,   2.5e-02,   1.2e-03,   0.0e+00,   1.3e-02],\n",
        "       [  1.0e+00,   2.7e-02,   8.0e-04,   0.0e+00,   1.3e-02],\n",
        "       [  1.0e+00,   2.6e-02,   1.2e-03,   0.0e+00,   1.3e-02]])"
       ]
      }
     ],
     "prompt_number": 82
    },
    {
     "cell_type": "code",
     "collapsed": false,
     "input": [
      "mu = 10; sigma = 4.0\n",
      "lala = rvs_ncx2(2, mu, 1000, sigma)\n",
      "#np.mean(lala), mu**2 + 64*sigma**2, np.var(lala), sigma**2*(4*mu**2 + 128*sigma**2)\n",
      "sigma2hat = np.var(lala, ddof = 1)/np.mean(lala) * .5\n",
      "lmbdahat = np.mean(lala) - 2 * sigma2hat\n",
      "sigma2hat, lmbdahat"
     ],
     "language": "python",
     "metadata": {},
     "outputs": [
      {
       "metadata": {},
       "output_type": "pyout",
       "prompt_number": 59,
       "text": [
        "(26.70000877279233, 73.309466705543471)"
       ]
      }
     ],
     "prompt_number": 59
    },
    {
     "cell_type": "markdown",
     "metadata": {},
     "source": [
      "$$\n",
      "\\frac{Var}{Mean} = \\frac{\\sigma^2 (4\\lambda + 2 df \\sigma^2)}{\\lambda + df \\sigma^2}\\approx 2\\sigma^2\n",
      "$$"
     ]
    },
    {
     "cell_type": "code",
     "collapsed": false,
     "input": [],
     "language": "python",
     "metadata": {},
     "outputs": []
    },
    {
     "cell_type": "code",
     "collapsed": false,
     "input": [
      "np.var(lala)/np.mean(lala), 2*sigma**2"
     ],
     "language": "python",
     "metadata": {},
     "outputs": [
      {
       "metadata": {},
       "output_type": "pyout",
       "prompt_number": 102,
       "text": [
        "(34.854593819541869, 32.0)"
       ]
      }
     ],
     "prompt_number": 102
    },
    {
     "cell_type": "code",
     "collapsed": false,
     "input": [
      "sigma2 = moments[1]/moments[0] * 0.5\n",
      "lmb = moments[0] - 2*sigma2"
     ],
     "language": "python",
     "metadata": {},
     "outputs": [],
     "prompt_number": 158
    },
    {
     "cell_type": "code",
     "collapsed": false,
     "input": [
      "lmb"
     ],
     "language": "python",
     "metadata": {},
     "outputs": [
      {
       "metadata": {},
       "output_type": "pyout",
       "prompt_number": 159,
       "text": [
        "52.641705481189348"
       ]
      }
     ],
     "prompt_number": 159
    },
    {
     "cell_type": "code",
     "collapsed": false,
     "input": [],
     "language": "python",
     "metadata": {},
     "outputs": []
    }
   ],
   "metadata": {}
  }
 ]
}