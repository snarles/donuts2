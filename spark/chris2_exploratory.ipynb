{
 "metadata": {
  "name": "",
  "signature": "sha256:e7060816c89516915ef39615b2679a037ee791216bf2dc2840af5085f264d698"
 },
 "nbformat": 3,
 "nbformat_minor": 0,
 "worksheets": [
  {
   "cells": [
    {
     "cell_type": "code",
     "collapsed": false,
     "input": [
      "sc"
     ],
     "language": "python",
     "metadata": {},
     "outputs": [
      {
       "metadata": {},
       "output_type": "pyout",
       "prompt_number": 1,
       "text": [
        "<pyspark.context.SparkContext at 0x7f1180aaa690>"
       ]
      }
     ],
     "prompt_number": 1
    },
    {
     "cell_type": "code",
     "collapsed": false,
     "input": [
      "f = open('/root/donuts/spark/sparkDonuts.py', 'r')\n",
      "exec(f.read())\n",
      "f.close()"
     ],
     "language": "python",
     "metadata": {},
     "outputs": [],
     "prompt_number": 2
    },
    {
     "cell_type": "code",
     "collapsed": false,
     "input": [
      "def redMean(x, y):\n",
      "    return (x[0] + y[0], (x[0]*x[1] + y[0]*y[1])/(x[0]+y[0]))\n",
      "\n",
      "np.set_printoptions(linewidth = 120, precision = 1)"
     ],
     "language": "python",
     "metadata": {},
     "outputs": [],
     "prompt_number": 18
    },
    {
     "cell_type": "code",
     "collapsed": false,
     "input": [
      "parts = 100\n",
      "raw = sc.textFile(\"data/data2\", parts)"
     ],
     "language": "python",
     "metadata": {},
     "outputs": [],
     "prompt_number": 19
    },
    {
     "cell_type": "code",
     "collapsed": false,
     "input": [
      "arrs = raw.map(str2array).cache()"
     ],
     "language": "python",
     "metadata": {},
     "outputs": [],
     "prompt_number": 20
    },
    {
     "cell_type": "code",
     "collapsed": false,
     "input": [
      "smp = arrs.takeSample(False, 100)"
     ],
     "language": "python",
     "metadata": {},
     "outputs": [],
     "prompt_number": 5
    },
    {
     "cell_type": "code",
     "collapsed": false,
     "input": [
      "\n",
      "#smp[0]"
     ],
     "language": "python",
     "metadata": {},
     "outputs": [],
     "prompt_number": 6
    },
    {
     "cell_type": "code",
     "collapsed": false,
     "input": [
      "def align_check(smp):\n",
      "    ans = []\n",
      "    if (sum(smp[0,:] != smp[0,0]) + sum(smp[1,:] != smp[1,0]) + sum(smp[2,:] != smp[2,0])) > 0:\n",
      "        ans.append(smp)\n",
      "    return ans"
     ],
     "language": "python",
     "metadata": {},
     "outputs": [],
     "prompt_number": 21
    },
    {
     "cell_type": "code",
     "collapsed": false,
     "input": [
      "chk_align = arrs.flatMap(align_check)"
     ],
     "language": "python",
     "metadata": {},
     "outputs": [],
     "prompt_number": 22
    },
    {
     "cell_type": "code",
     "collapsed": false,
     "input": [
      "from operator import add\n",
      "chk_align.map(lambda x : 1).reduce(add)"
     ],
     "language": "python",
     "metadata": {},
     "outputs": [
      {
       "ename": "ValueError",
       "evalue": "Can not reduce() empty RDD",
       "output_type": "pyerr",
       "traceback": [
        "\u001b[1;31m---------------------------------------------------------------------------\u001b[0m\n\u001b[1;31mValueError\u001b[0m                                Traceback (most recent call last)",
        "\u001b[1;32m<ipython-input-23-886483f9d1e2>\u001b[0m in \u001b[0;36m<module>\u001b[1;34m()\u001b[0m\n\u001b[0;32m      1\u001b[0m \u001b[1;32mfrom\u001b[0m \u001b[0moperator\u001b[0m \u001b[1;32mimport\u001b[0m \u001b[0madd\u001b[0m\u001b[1;33m\u001b[0m\u001b[0m\n\u001b[1;32m----> 2\u001b[1;33m \u001b[0mchk_align\u001b[0m\u001b[1;33m.\u001b[0m\u001b[0mmap\u001b[0m\u001b[1;33m(\u001b[0m\u001b[1;32mlambda\u001b[0m \u001b[0mx\u001b[0m \u001b[1;33m:\u001b[0m \u001b[1;36m1\u001b[0m\u001b[1;33m)\u001b[0m\u001b[1;33m.\u001b[0m\u001b[0mreduce\u001b[0m\u001b[1;33m(\u001b[0m\u001b[0madd\u001b[0m\u001b[1;33m)\u001b[0m\u001b[1;33m\u001b[0m\u001b[0m\n\u001b[0m",
        "\u001b[1;32m/root/spark/python/pyspark/rdd.pyc\u001b[0m in \u001b[0;36mreduce\u001b[1;34m(self, f)\u001b[0m\n\u001b[0;32m    716\u001b[0m         \u001b[1;32mif\u001b[0m \u001b[0mvals\u001b[0m\u001b[1;33m:\u001b[0m\u001b[1;33m\u001b[0m\u001b[0m\n\u001b[0;32m    717\u001b[0m             \u001b[1;32mreturn\u001b[0m \u001b[0mreduce\u001b[0m\u001b[1;33m(\u001b[0m\u001b[0mf\u001b[0m\u001b[1;33m,\u001b[0m \u001b[0mvals\u001b[0m\u001b[1;33m)\u001b[0m\u001b[1;33m\u001b[0m\u001b[0m\n\u001b[1;32m--> 718\u001b[1;33m         \u001b[1;32mraise\u001b[0m \u001b[0mValueError\u001b[0m\u001b[1;33m(\u001b[0m\u001b[1;34m\"Can not reduce() empty RDD\"\u001b[0m\u001b[1;33m)\u001b[0m\u001b[1;33m\u001b[0m\u001b[0m\n\u001b[0m\u001b[0;32m    719\u001b[0m \u001b[1;33m\u001b[0m\u001b[0m\n\u001b[0;32m    720\u001b[0m     \u001b[1;32mdef\u001b[0m \u001b[0mfold\u001b[0m\u001b[1;33m(\u001b[0m\u001b[0mself\u001b[0m\u001b[1;33m,\u001b[0m \u001b[0mzeroValue\u001b[0m\u001b[1;33m,\u001b[0m \u001b[0mop\u001b[0m\u001b[1;33m)\u001b[0m\u001b[1;33m:\u001b[0m\u001b[1;33m\u001b[0m\u001b[0m\n",
        "\u001b[1;31mValueError\u001b[0m: Can not reduce() empty RDD"
       ]
      }
     ],
     "prompt_number": 23
    },
    {
     "cell_type": "code",
     "collapsed": false,
     "input": [
      "arr = smp[0]\n",
      "np.shape(arr)"
     ],
     "language": "python",
     "metadata": {},
     "outputs": [
      {
       "metadata": {},
       "output_type": "pyout",
       "prompt_number": 16,
       "text": [
        "(14, 32)"
       ]
      }
     ],
     "prompt_number": 16
    },
    {
     "cell_type": "code",
     "collapsed": false,
     "input": [
      "arr = arr[:, arr[3,:]-1]"
     ],
     "language": "python",
     "metadata": {},
     "outputs": [],
     "prompt_number": 20
    },
    {
     "cell_type": "code",
     "collapsed": false,
     "input": [
      "#arr[4:,:]"
     ],
     "language": "python",
     "metadata": {},
     "outputs": [],
     "prompt_number": 7
    },
    {
     "cell_type": "code",
     "collapsed": false,
     "input": [
      "def varest1(arr):\n",
      "    subarr = np.array(arr[4:, ]/1000.0, dtype=float)\n",
      "    combs = np.sum(subarr, axis = 1)\n",
      "    var1 = np.var(combs, ddof = 1)\n",
      "    marvars = np.array([np.var(subarr[:,i], ddof=1) for i in range(32)])\n",
      "    var2 = np.sum(marvars)\n",
      "    coords = arr[0:3,0]\n",
      "    key = ints2str(coords)\n",
      "    #return (key, np.array([var1, var2]))\n",
      "    #return np.array([var1, var2])\n",
      "    return (1, np.array([var1, var2]))"
     ],
     "language": "python",
     "metadata": {},
     "outputs": [],
     "prompt_number": 64
    },
    {
     "cell_type": "code",
     "collapsed": false,
     "input": [
      "varest1(smp[0])"
     ],
     "language": "python",
     "metadata": {},
     "outputs": [
      {
       "metadata": {},
       "output_type": "pyout",
       "prompt_number": 58,
       "text": [
        "('\\\\NT', array([ 1846.8228725 ,   276.46831459]))"
       ]
      }
     ],
     "prompt_number": 58
    },
    {
     "cell_type": "code",
     "collapsed": false,
     "input": [
      "smpR = sc.parallelize(smp, 2)"
     ],
     "language": "python",
     "metadata": {},
     "outputs": [],
     "prompt_number": 59
    },
    {
     "cell_type": "code",
     "collapsed": false,
     "input": [
      "smpR.map(varest1).reduce(redMean)"
     ],
     "language": "python",
     "metadata": {},
     "outputs": [
      {
       "metadata": {},
       "output_type": "pyout",
       "prompt_number": 66,
       "text": [
        "(100, array([ 1360.79829173,   567.80390616]))"
       ]
      }
     ],
     "prompt_number": 66
    },
    {
     "cell_type": "code",
     "collapsed": false,
     "input": [
      "res1 = arrs.map(varest1).reduce(redMean)"
     ],
     "language": "python",
     "metadata": {},
     "outputs": [
      {
       "metadata": {},
       "output_type": "pyout",
       "prompt_number": 67,
       "text": [
        "(993600, array([ 38535.56003223,  20968.65408016]))"
       ]
      }
     ],
     "prompt_number": 67
    },
    {
     "cell_type": "code",
     "collapsed": false,
     "input": [
      "mu_var = res1[1]"
     ],
     "language": "python",
     "metadata": {},
     "outputs": [],
     "prompt_number": 70
    },
    {
     "cell_type": "code",
     "collapsed": false,
     "input": [
      "mu_var"
     ],
     "language": "python",
     "metadata": {},
     "outputs": [
      {
       "metadata": {},
       "output_type": "pyout",
       "prompt_number": 71,
       "text": [
        "array([ 38535.56003223,  20968.65408016])"
       ]
      }
     ],
     "prompt_number": 71
    },
    {
     "cell_type": "code",
     "collapsed": false,
     "input": [
      "corr_factr = mu_var[0]/mu_var[1]"
     ],
     "language": "python",
     "metadata": {},
     "outputs": [],
     "prompt_number": 73
    },
    {
     "cell_type": "code",
     "collapsed": false,
     "input": [
      "corr_factr"
     ],
     "language": "python",
     "metadata": {},
     "outputs": [
      {
       "metadata": {},
       "output_type": "pyout",
       "prompt_number": 74,
       "text": [
        "1.8377698389660286"
       ]
      }
     ],
     "prompt_number": 74
    },
    {
     "cell_type": "markdown",
     "metadata": {},
     "source": [
      "## Try out our separate-coil estimation tech"
     ]
    },
    {
     "cell_type": "code",
     "collapsed": false,
     "input": [
      "def cv_varest1(arr):\n",
      "    corr_factr =1.8377\n",
      "    cv_inds = [1,2,5]\n",
      "    tr_inds = list(set(range(10))-set(cv_inds))\n",
      "    subarr = np.array(arr[4:, ]/1000.0, dtype=float)\n",
      "    cvarr = subarr[cv_inds, :]\n",
      "    trarr = subarr[tr_inds, :]\n",
      "    cvcombs = np.sum(cvarr, axis = 1)\n",
      "    trcombs = np.sum(trarr, axis = 1)\n",
      "    # ground truth for CV\n",
      "    var0 = np.var(cvcombs, ddof = 1)\n",
      "    trvar1 = np.var(trcombs, ddof = 1)\n",
      "    marvars = np.array([np.var(trarr[:,i], ddof=1) for i in range(32)])\n",
      "    trvar2 = corr_factr * np.sum(marvars)\n",
      "    trvar3 = sum(np.cov(trarr, ddof=1).ravel())\n",
      "    cve1 = (trvar1-var0)**2\n",
      "    cve2 = (trvar2-var0)**2\n",
      "    cve3 = (trvar3-var0)**2\n",
      "    coords = arr[0:3,0]\n",
      "    key = ints2str(coords)\n",
      "    #return (key, np.array([var1, var2]))\n",
      "    #return np.array([var1, var2])\n",
      "    return (1, np.array([cve1, cve2, cve3]))"
     ],
     "language": "python",
     "metadata": {},
     "outputs": [],
     "prompt_number": 24
    },
    {
     "cell_type": "code",
     "collapsed": false,
     "input": [
      "cv_res01 = arrs.map(cv_varest1).reduce(redMean)"
     ],
     "language": "python",
     "metadata": {},
     "outputs": [],
     "prompt_number": 25
    },
    {
     "cell_type": "code",
     "collapsed": false,
     "input": [
      "cv_res01"
     ],
     "language": "python",
     "metadata": {},
     "outputs": [
      {
       "metadata": {},
       "output_type": "pyout",
       "prompt_number": 26,
       "text": [
        "(993600, array([  1.8e+10,   1.8e+10,   1.9e+11]))"
       ]
      }
     ],
     "prompt_number": 26
    },
    {
     "cell_type": "markdown",
     "metadata": {},
     "source": [
      "## Check S0 correlations"
     ]
    },
    {
     "cell_type": "code",
     "collapsed": false,
     "input": [
      "def combs(arr):\n",
      "    subarr = np.array(arr[4:, ]/1000.0, dtype=float)\n",
      "    combs = np.sum(subarr, axis = 1)\n",
      "    return (1, combs)"
     ],
     "language": "python",
     "metadata": {},
     "outputs": [],
     "prompt_number": 27
    },
    {
     "cell_type": "code",
     "collapsed": false,
     "input": [
      "mu_s0 = arrs.map(combs).reduce(redMean)"
     ],
     "language": "python",
     "metadata": {},
     "outputs": [],
     "prompt_number": 28
    },
    {
     "cell_type": "code",
     "collapsed": false,
     "input": [
      "mu_s0 = mu_s0[1]"
     ],
     "language": "python",
     "metadata": {},
     "outputs": [],
     "prompt_number": 29
    },
    {
     "cell_type": "code",
     "collapsed": false,
     "input": [
      "def covs(v):\n",
      "    return (1, np.outer(v[1]-np.mean(v[1]), v[1]-np.mean(v[1])).ravel())"
     ],
     "language": "python",
     "metadata": {},
     "outputs": [],
     "prompt_number": 30
    },
    {
     "cell_type": "code",
     "collapsed": false,
     "input": [
      "cov_s0 = arrs.map(combs).map(covs).reduce(redMean)"
     ],
     "language": "python",
     "metadata": {},
     "outputs": [],
     "prompt_number": 31
    },
    {
     "cell_type": "code",
     "collapsed": false,
     "input": [
      "cov_s0= np.reshape(cov_s0[1], (10,10))"
     ],
     "language": "python",
     "metadata": {},
     "outputs": [],
     "prompt_number": 142
    },
    {
     "cell_type": "code",
     "collapsed": false,
     "input": [
      "np.set_printoptions(precision = 1)\n",
      "cov_s0"
     ],
     "language": "python",
     "metadata": {},
     "outputs": [
      {
       "metadata": {},
       "output_type": "pyout",
       "prompt_number": 143,
       "text": [
        "array([[  13417.8,   10302.7,   11068.5,   10649.9,    7050.2,    8083.6,    7609.5,   -7779. ,  -27407.6,  -32995.6],\n",
        "       [  10302.7,   12387.3,    9596.9,    9682. ,    7426. ,    7364.8,    7716.3,   -6887.8,  -25793.4,  -31794.9],\n",
        "       [  11068.5,    9596.9,   13060.5,   11012.1,    6784.7,    8298.5,    8382. ,   -7983.6,  -27333. ,  -32886.5],\n",
        "       [  10649.9,    9682. ,   11012.1,   11816.8,    6956.4,    8222.5,    8151.3,   -6791.3,  -27053.6,  -32646.1],\n",
        "       [   7050.2,    7426. ,    6784.7,    6956.4,   11114.6,    6801.4,    7600.1,   -2294.9,  -21728.6,  -29709.9],\n",
        "       [   8083.6,    7364.8,    8298.5,    8222.5,    6801.4,   10066.8,    7381.2,   -4899.4,  -22334.4,  -28985.1],\n",
        "       [   7609.5,    7716.3,    8382. ,    8151.3,    7600.1,    7381.2,   10591.9,   -3104.1,  -23649.6,  -30678.6],\n",
        "       [  -7779. ,   -6887.8,   -7983.6,   -6791.3,   -2294.9,   -4899.4,   -3104.1,   31163.8,   17195.2,   -8618.8],\n",
        "       [ -27407.6,  -25793.4,  -27333. ,  -27053.6,  -21728.6,  -22334.4,  -23649.6,   17195.2,   81495. ,   76610.1],\n",
        "       [ -32995.6,  -31794.9,  -32886.5,  -32646.1,  -29709.9,  -28985.1,  -30678.6,   -8618.8,   76610.1,  151705.5]])"
       ]
      }
     ],
     "prompt_number": 143
    },
    {
     "cell_type": "code",
     "collapsed": false,
     "input": [
      "plt.imshow(cov_s0)"
     ],
     "language": "python",
     "metadata": {},
     "outputs": [
      {
       "metadata": {},
       "output_type": "pyout",
       "prompt_number": 144,
       "text": [
        "<matplotlib.image.AxesImage at 0x7fbbe317b350>"
       ]
      },
      {
       "metadata": {},
       "output_type": "display_data",
       "png": "[encoded data removed]",
       "text": [
        "<matplotlib.figure.Figure at 0x7fbbe31f5f50>"
       ]
      }
     ],
     "prompt_number": 144
    },
    {
     "cell_type": "code",
     "collapsed": false,
     "input": [
      "def covs(v):\n",
      "    return (1, np.outer(v[1]-np.mean(v[1]), v[1]-np.mean(v[1])).ravel())\n",
      "\n",
      "def combs7(arr):\n",
      "    subarr = np.array(arr[4:, ]/1000.0, dtype=float)\n",
      "    combs = np.sum(subarr, axis = 1)\n",
      "    return (1, combs[:7])"
     ],
     "language": "python",
     "metadata": {},
     "outputs": [],
     "prompt_number": 11
    },
    {
     "cell_type": "code",
     "collapsed": false,
     "input": [
      "cov_s0 = arrs.map(combs7).map(covs).reduce(redMean)"
     ],
     "language": "python",
     "metadata": {},
     "outputs": [],
     "prompt_number": 12
    },
    {
     "cell_type": "code",
     "collapsed": false,
     "input": [
      "cov_s0= np.reshape(cov_s0[1], (7,7))"
     ],
     "language": "python",
     "metadata": {},
     "outputs": [],
     "prompt_number": 16
    },
    {
     "cell_type": "code",
     "collapsed": false,
     "input": [],
     "language": "python",
     "metadata": {},
     "outputs": []
    },
    {
     "cell_type": "code",
     "collapsed": false,
     "input": [
      "plt.imshow(cov_s0)"
     ],
     "language": "python",
     "metadata": {},
     "outputs": [
      {
       "metadata": {},
       "output_type": "pyout",
       "prompt_number": 17,
       "text": [
        "<matplotlib.image.AxesImage at 0x7f116d19a2d0>"
       ]
      },
      {
       "metadata": {},
       "output_type": "display_data",
       "png": "[encoded data removed]",
       "text": [
        "<matplotlib.figure.Figure at 0x7f116d3160d0>"
       ]
      }
     ],
     "prompt_number": 17
    },
    {
     "cell_type": "markdown",
     "metadata": {},
     "source": [
      "## Estimate sigma2 parameter"
     ]
    },
    {
     "cell_type": "code",
     "collapsed": false,
     "input": [
      "def mu_var(arr):\n",
      "    subarr = np.array(arr[4:, ]/1000.0, dtype=float)\n",
      "    combs = np.sum(subarr, axis = 1)\n",
      "    #return (1, np.array([np.mean(combs), np.var(combs, ddof = 1)]))\n",
      "    return (1, np.array([np.mean(combs[:7]), np.var(combs[:7], ddof = 1)]))\n"
     ],
     "language": "python",
     "metadata": {},
     "outputs": [],
     "prompt_number": 147
    },
    {
     "cell_type": "code",
     "collapsed": false,
     "input": [
      "moments = arrs.map(mu_var).reduce(redMean)"
     ],
     "language": "python",
     "metadata": {},
     "outputs": [],
     "prompt_number": 148
    },
    {
     "cell_type": "code",
     "collapsed": false,
     "input": [
      "moments = moments[1]"
     ],
     "language": "python",
     "metadata": {},
     "outputs": [],
     "prompt_number": 149
    },
    {
     "cell_type": "code",
     "collapsed": false,
     "input": [
      "moments # mean should be lambda+64*sigma2, variance should be sigma2(4*lambda + 128*sigma2)"
     ],
     "language": "python",
     "metadata": {},
     "outputs": [
      {
       "metadata": {},
       "output_type": "pyout",
       "prompt_number": 150,
       "text": [
        "array([   90.2,  3391.7])"
       ]
      }
     ],
     "prompt_number": 150
    },
    {
     "cell_type": "code",
     "collapsed": false,
     "input": [
      "mu = 10; sigma = 4.0\n",
      "lala = rvs_ncx2(64, mu, 1000, sigma)\n",
      "np.mean(lala), mu**2 + 64*sigma**2, np.var(lala), sigma**2*(4*mu**2 + 128*sigma**2)"
     ],
     "language": "python",
     "metadata": {},
     "outputs": [
      {
       "metadata": {},
       "output_type": "pyout",
       "prompt_number": 151,
       "text": [
        "(1120.436265728013, 1124.0, 38332.937116441608, 39168.0)"
       ]
      }
     ],
     "prompt_number": 151
    },
    {
     "cell_type": "markdown",
     "metadata": {},
     "source": [
      "$$\n",
      "\\frac{Var}{Mean} = \\frac{\\sigma^2 (4\\lambda + 2 df \\sigma^2)}{\\lambda + df \\sigma^2}\\approx 2\\sigma^2\n",
      "$$"
     ]
    },
    {
     "cell_type": "code",
     "collapsed": false,
     "input": [
      "np.var(lala)/np.mean(lala), 2*sigma**2"
     ],
     "language": "python",
     "metadata": {},
     "outputs": [
      {
       "metadata": {},
       "output_type": "pyout",
       "prompt_number": 102,
       "text": [
        "(34.854593819541869, 32.0)"
       ]
      }
     ],
     "prompt_number": 102
    },
    {
     "cell_type": "code",
     "collapsed": false,
     "input": [
      "sigma2 = moments[1]/moments[0] * 0.5\n",
      "lmb = moments[0] - 2*sigma2"
     ],
     "language": "python",
     "metadata": {},
     "outputs": [],
     "prompt_number": 158
    },
    {
     "cell_type": "code",
     "collapsed": false,
     "input": [
      "lmb"
     ],
     "language": "python",
     "metadata": {},
     "outputs": [
      {
       "metadata": {},
       "output_type": "pyout",
       "prompt_number": 159,
       "text": [
        "52.641705481189348"
       ]
      }
     ],
     "prompt_number": 159
    },
    {
     "cell_type": "code",
     "collapsed": false,
     "input": [],
     "language": "python",
     "metadata": {},
     "outputs": []
    }
   ],
   "metadata": {}
  }
 ]
}