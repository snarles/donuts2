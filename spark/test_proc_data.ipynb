{
 "metadata": {
  "name": "",
  "signature": "sha256:8a4e7a93cf25047e51592357825b3930a9082b53ccd9cc41c3d7a04fc0ec6b53"
 },
 "nbformat": 3,
 "nbformat_minor": 0,
 "worksheets": [
  {
   "cells": [
    {
     "cell_type": "markdown",
     "metadata": {},
     "source": [
      "# Check that the data was converted correctly"
     ]
    },
    {
     "cell_type": "code",
     "collapsed": false,
     "input": [
      "full_chris1 = ['/home/ubuntu/predator/8631_5_1_pfile/coil_images/'+ 'coil_comb_ec.nii.gz'] + \\\n",
      "        ['/home/ubuntu/predator/8631_5_1_pfile/coil_images/8631_5_coil' + str(i) + '_ec.nii.gz' for i in range(1,33)]\n",
      "outnames1 =   ['/home/ubuntu/chris1/chris1_comb.cff'] + \\\n",
      "        ['/home/ubuntu/chris1/chris1_coil' + str(i) + '.cff' for i in range(1,33)]\n",
      "\n",
      "full_chris2 = ['/home/ubuntu/predator/8631_11_1_pfile/coil_images/'+ 'coil_comb_ec.nii.gz'] + \\\n",
      "        ['/home/ubuntu/predator/8631_11_1_pfile/coil_images/8631_11_coil' + str(i) + '_ec.nii.gz' for i in range(1,33)]\n",
      "outnames2 =   ['/home/ubuntu/chris2/chris2_comb.cff'] + \\\n",
      "        ['/home/ubuntu/chris2/chris2_coil' + str(i) + '.cff' for i in range(1,33)]\n",
      "\n",
      "innames = full_chris1 + full_chris2\n",
      "outnames = outnames1 + outnames2\n",
      "from donuts.spark.classes import Voxel\n",
      "from donuts.spark.classes import CffStr\n",
      "import numpy.random as npr\n",
      "import numpy as np\n",
      "import nibabel as nib\n",
      "np.set_printoptions(precision = 4, linewidth=120)"
     ],
     "language": "python",
     "metadata": {},
     "outputs": [],
     "prompt_number": 2
    },
    {
     "cell_type": "code",
     "collapsed": false,
     "input": [
      "#ind = npr.randint(0, len(outnames))\n",
      "ind = npr.randint(8, 14)\n",
      "#ind = 0\n",
      "outname = outnames[ind]\n",
      "inname = innames[ind]\n",
      "print(outname, inname)\n",
      "f = open(outname, 'r')\n",
      "lines = f.read().strip().split('\\n')\n",
      "f.close()\n",
      "rawdata = nib.load(inname).get_data()"
     ],
     "language": "python",
     "metadata": {},
     "outputs": [
      {
       "output_type": "stream",
       "stream": "stdout",
       "text": [
        "('/home/ubuntu/chris1/chris1_coil9.cff', '/home/ubuntu/predator/8631_5_1_pfile/coil_images/8631_5_coil9_ec.nii.gz')\n"
       ]
      }
     ],
     "prompt_number": 90
    },
    {
     "cell_type": "code",
     "collapsed": false,
     "input": [
      "ii = npr.randint(0, nvox)\n",
      "nvox = len(lines)\n",
      "print(\"Voxels: \" + str(nvox))\n",
      "v = Voxel(lines[ii])\n",
      "coords = v.getCoords()\n",
      "print(coords)\n",
      "print(\"\")\n",
      "print(rawdata[coords[0], coords[1], coords[2], :])\n",
      "print(\"\")\n",
      "print(v.getData())"
     ],
     "language": "python",
     "metadata": {},
     "outputs": [
      {
       "output_type": "stream",
       "stream": "stdout",
       "text": [
        "Voxels: 993600\n",
        "(86, 90.0, 53, 9)\n",
        "\n",
        "[ 0.4763  0.5476  0.0868  0.2206  0.1368  0.1122  0.1674 -0.0299  0.1444 -0.001   0.1378  0.0492  0.0703  0.1557 -0.0516\n",
        "  0.0625  0.2273  0.0269  0.0167  0.164   0.0634  0.0441  0.0493  0.0728  0.191   0.0754  0.1325  0.1574  0.1175 -0.1209\n",
        "  0.055   0.5511 -0.0017  0.0911  0.1006  0.1054 -0.0949  0.0785 -0.0354  0.0816 -0.0755  0.0896  0.045   0.0982  0.173\n",
        " -0.008   0.3429  0.0673 -0.0319 -0.0093  0.1672  0.1746 -0.0281  0.0111  0.0103  0.1212  0.0267  0.0181  0.0931  0.0834\n",
        " -0.0257  0.3313 -0.0057  0.0537  0.1095  0.1408  0.0522  0.0174  0.0678  0.1715 -0.0643  0.1633  0.0992  0.0627  0.0491\n",
        "  0.2966  0.0135  0.0939  0.0487 -0.0522  0.0763  0.021   0.1062  0.0113  0.0661  0.0118  0.0318  0.0891  0.0183  0.1147\n",
        "  0.2933  0.0381 -0.0261 -0.0597  0.0881 -0.005  -0.0068 -0.0191  0.0217  0.1294  0.0654  0.0951  0.001  -0.0137  0.0139\n",
        "  0.4876  0.033   0.0701 -0.1153 -0.0534 -0.0928  0.0651 -0.0647  0.0153  0.0054  0.0259  0.023   0.131   0.0984  0.1196\n",
        "  0.2901  0.1357  0.0701 -0.02    0.1021  0.0909  0.0508  0.0984 -0.0454  0.028   0.0441  0.0984  0.1083  0.0564  0.1308\n",
        "  0.4356 -0.0189 -0.066   0.1463 -0.0118 -0.0801 -0.0751  0.0814  0.0573 -0.0316  0.0639  0.0197  0.0857 -0.0143  0.3626]\n",
        "\n",
        "[ 0.4763  0.5476  0.0867  0.2205  0.1368  0.1121  0.1674 -0.0299  0.1444 -0.0009  0.1377  0.0491  0.0702  0.1557 -0.0515\n",
        "  0.0624  0.2273  0.0268  0.0166  0.164   0.0634  0.0441  0.0493  0.0728  0.1909  0.0754  0.1325  0.1574  0.1175 -0.1209\n",
        "  0.055   0.551  -0.0016  0.0911  0.1006  0.1053 -0.0948  0.0784 -0.0354  0.0815 -0.0755  0.0896  0.0449  0.0982  0.173\n",
        " -0.0079  0.3429  0.0673 -0.0318 -0.0093  0.1672  0.1746 -0.028   0.0111  0.0103  0.1212  0.0267  0.0181  0.0931  0.0834\n",
        " -0.0256  0.3313 -0.0057  0.0537  0.1095  0.1408  0.0521  0.0173  0.0678  0.1715 -0.0642  0.1633  0.0992  0.0627  0.0491\n",
        "  0.2965  0.0135  0.0939  0.0487 -0.0522  0.0762  0.021   0.1062  0.0112  0.0661  0.0118  0.0318  0.0891  0.0183  0.1146\n",
        "  0.2933  0.0381 -0.026  -0.0597  0.088  -0.0049 -0.0067 -0.0191  0.0217  0.1293  0.0653  0.0951  0.001  -0.0137  0.0139\n",
        "  0.4875  0.033   0.07   -0.1152 -0.0533 -0.0928  0.0651 -0.0647  0.0152  0.0053  0.0258  0.023   0.131   0.0984  0.1196\n",
        "  0.29    0.1357  0.0701 -0.02    0.102   0.0908  0.0508  0.0984 -0.0453  0.028   0.0441  0.0984  0.1082  0.0564  0.1308\n",
        "  0.4356 -0.0189 -0.066   0.1463 -0.0117 -0.0801 -0.075   0.0813  0.0572 -0.0315  0.0638  0.0197  0.0856 -0.0142  0.3626]\n"
       ]
      }
     ],
     "prompt_number": 91
    },
    {
     "cell_type": "code",
     "collapsed": false,
     "input": [
      "def vox2str(ind, ii, rawdata):\n",
      "    dims = np.shape(rawdata)\n",
      "    dim0 = tuple(dims[:3])\n",
      "    coords = np.unravel_index(ii, dim0)\n",
      "    v = rawdata[coords[0], coords[1], coords[2], :]\n",
      "    return Voxel({'coords': list(coords) + [ind], 'intRes': 4, 'floats': v}).toString()"
     ],
     "language": "python",
     "metadata": {},
     "outputs": [],
     "prompt_number": 61
    },
    {
     "cell_type": "code",
     "collapsed": false,
     "input": [],
     "language": "python",
     "metadata": {},
     "outputs": []
    }
   ],
   "metadata": {}
  }
 ]
}