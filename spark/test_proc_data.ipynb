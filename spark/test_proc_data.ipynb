{
 "metadata": {
  "name": "",
  "signature": "sha256:677c54c6bad787a6cce65c5fb8421d626eeee0ba2e11803f2e89cf7eeeb35107"
 },
 "nbformat": 3,
 "nbformat_minor": 0,
 "worksheets": [
  {
   "cells": [
    {
     "cell_type": "markdown",
     "metadata": {},
     "source": [
      "# Check that the data was converted correctly"
     ]
    },
    {
     "cell_type": "code",
     "collapsed": false,
     "input": [
      "full_chris1 = ['/home/ubuntu/predator/8631_5_1_pfile/coil_images/'+ 'coil_comb_ec.nii.gz'] + \\\n",
      "        ['/home/ubuntu/predator/8631_5_1_pfile/coil_images/8631_5_coil' + str(i) + '_ec.nii.gz' for i in range(1,33)]\n",
      "outnames1 =   ['/home/ubuntu/chris1/chris1_comb.cff'] + \\\n",
      "        ['/home/ubuntu/chris1/chris1_coil' + str(i) + '.cff' for i in range(1,33)]\n",
      "\n",
      "full_chris2 = ['/home/ubuntu/predator/8631_11_1_pfile/coil_images/'+ 'coil_comb_ec.nii.gz'] + \\\n",
      "        ['/home/ubuntu/predator/8631_11_1_pfile/coil_images/8631_11_coil' + str(i) + '_ec.nii.gz' for i in range(1,33)]\n",
      "outnames2 =   ['/home/ubuntu/chris2/chris2_comb.cff'] + \\\n",
      "        ['/home/ubuntu/chris2/chris2_coil' + str(i) + '.cff' for i in range(1,33)]\n",
      "\n",
      "innames = full_chris1 + full_chris2\n",
      "outnames = outnames1 + outnames2\n",
      "from donuts.spark.classes import Voxel\n",
      "from donuts.spark.classes import CffStr\n",
      "import numpy.random as npr\n",
      "import numpy as np\n",
      "import nibabel as nib\n",
      "np.set_printoptions(precision = 4, linewidth=120)"
     ],
     "language": "python",
     "metadata": {},
     "outputs": [],
     "prompt_number": 2
    },
    {
     "cell_type": "code",
     "collapsed": false,
     "input": [
      "#ind = npr.randint(0, len(outnames))\n",
      "#ind = npr.randint(0, 7)\n",
      "ind = 0\n",
      "outname = outnames[ind]\n",
      "inname = innames[ind]\n",
      "print(outname, inname)\n",
      "f = open(outname, 'r')\n",
      "lines = f.read().strip().split('\\n')\n",
      "f.close()\n",
      "rawdata = nib.load(inname).get_data()"
     ],
     "language": "python",
     "metadata": {},
     "outputs": [
      {
       "output_type": "stream",
       "stream": "stdout",
       "text": [
        "('/home/ubuntu/chris1/chris1_comb.cff', '/home/ubuntu/predator/8631_5_1_pfile/coil_images/coil_comb_ec.nii.gz')\n"
       ]
      }
     ],
     "prompt_number": 82
    },
    {
     "cell_type": "code",
     "collapsed": false,
     "input": [
      "ii = npr.randint(0, nvox)\n",
      "nvox = len(lines)\n",
      "print(\"Voxels: \" + str(nvox))\n",
      "v = Voxel(lines[ii])\n",
      "coords = v.getCoords()\n",
      "print(coords)\n",
      "print(\"\")\n",
      "print(rawdata[coords[0], coords[1], coords[2], :])\n",
      "print(\"\")\n",
      "print(v.getData())"
     ],
     "language": "python",
     "metadata": {},
     "outputs": [
      {
       "output_type": "stream",
       "stream": "stdout",
       "text": [
        "Voxels: 993600\n",
        "(69, 56, 36, 0)\n",
        "\n",
        "[ 3.6021  2.9704  0.8897  0.6933  0.786   1.6582  1.2154  0.8295  1.358   0.3461  0.483   0.5311  0.7939  2.0741  1.3856\n",
        "  2.0067  3.6408  0.9947  0.466   0.4827  1.3533  0.7748  0.4746  0.5318  0.5276  0.702   0.7457  0.5882  0.7845  1.0937\n",
        "  1.05    3.4112  1.5037  1.5286  0.738   0.7243  1.0391  0.4971  0.463   0.6078  1.4035  1.2956  1.6445  0.507   1.4879\n",
        "  0.9597  3.5065  0.6682  1.7724  0.8788  0.4918  0.6275  0.7039  0.785   0.998   1.2969  0.4776  0.8422  1.0501  0.686\n",
        "  0.6304  3.1431  1.2634  0.8265  0.6867  0.7972  1.1076  0.3875  0.8818  0.7423  1.4028  2.0967  1.5364  1.4993  0.9893\n",
        "  4.1934  1.7794  1.6445  0.9076  1.6624  0.6964  1.4321  0.5607  1.9292  1.313   1.4775  0.6737  0.5935  1.7786  2.1999\n",
        "  3.5288  0.7139  0.5121  0.3333  1.1939  0.7125  0.666   1.2506  0.535   0.9329  1.1213  1.0187  1.3425  1.1979  0.8615\n",
        "  3.452   1.0702  1.0553  0.413   0.6203  0.5995  0.3657  1.2213  1.7246  0.6045  0.5897  0.7014  0.4862  1.5647  0.6135\n",
        "  3.0286  1.2046  0.5272  1.264   0.753   0.9061  2.2787  0.4654  0.7002  1.0158  0.5114  1.6717  0.811   0.9788  1.1051\n",
        "  3.3738  0.5992  0.4828  1.8699  1.1738  0.9107  0.5104  1.5929  1.6003  1.6599  0.9023  0.9748  1.0593  1.3545  3.7352]\n",
        "\n",
        "[ 3.6021  2.9704  0.8896  0.6933  0.786   1.6581  1.2153  0.8295  1.3579  0.346   0.483   0.531   0.7939  2.0741  1.3856\n",
        "  2.0067  3.6408  0.9947  0.466   0.4826  1.3533  0.7747  0.4745  0.5317  0.5275  0.702   0.7456  0.5881  0.7844  1.0936\n",
        "  1.0499  3.4112  1.5036  1.5286  0.7379  0.7242  1.0391  0.497   0.463   0.6078  1.4035  1.2955  1.6445  0.5069  1.4879\n",
        "  0.9597  3.5065  0.6681  1.7724  0.8787  0.4917  0.6274  0.7039  0.785   0.9979  1.2968  0.4776  0.8421  1.05    0.6859\n",
        "  0.6304  3.143   1.2633  0.8265  0.6866  0.7972  1.1076  0.3875  0.8818  0.7422  1.4027  2.0966  1.5363  1.4992  0.9893\n",
        "  4.1933  1.7793  1.6445  0.9075  1.6624  0.6963  1.432   0.5607  1.9292  1.313   1.4775  0.6736  0.5934  1.7785  2.1998\n",
        "  3.5288  0.7139  0.512   0.3333  1.1939  0.7124  0.666   1.2505  0.5349  0.9329  1.1213  1.0186  1.3425  1.1979  0.8614\n",
        "  3.4519  1.0701  1.0552  0.4129  0.6202  0.5995  0.3656  1.2213  1.7245  0.6044  0.5897  0.7013  0.4861  1.5646  0.6134\n",
        "  3.0285  1.2045  0.5271  1.2639  0.753   0.9061  2.2786  0.4653  0.7002  1.0157  0.5114  1.6717  0.811   0.9787  1.105\n",
        "  3.3738  0.5992  0.4828  1.8699  1.1737  0.9106  0.5104  1.5929  1.6003  1.6598  0.9023  0.9748  1.0593  1.3545  3.7351]\n"
       ]
      }
     ],
     "prompt_number": 83
    },
    {
     "cell_type": "code",
     "collapsed": false,
     "input": [
      "def vox2str(ind, ii, rawdata):\n",
      "    dims = np.shape(rawdata)\n",
      "    dim0 = tuple(dims[:3])\n",
      "    coords = np.unravel_index(ii, dim0)\n",
      "    v = rawdata[coords[0], coords[1], coords[2], :]\n",
      "    return Voxel({'coords': list(coords) + [ind], 'intRes': 4, 'floats': v}).toString()"
     ],
     "language": "python",
     "metadata": {},
     "outputs": [],
     "prompt_number": 61
    },
    {
     "cell_type": "code",
     "collapsed": false,
     "input": [],
     "language": "python",
     "metadata": {},
     "outputs": []
    }
   ],
   "metadata": {}
  }
 ]
}