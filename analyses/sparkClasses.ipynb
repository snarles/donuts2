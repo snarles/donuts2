{
 "metadata": {
  "name": "",
  "signature": "sha256:babf9efc92eef1dc9863af84eac33d82d883a4da7a56a659be8806981c6172ff"
 },
 "nbformat": 3,
 "nbformat_minor": 0,
 "worksheets": [
  {
   "cells": [
    {
     "cell_type": "markdown",
     "metadata": {},
     "source": [
      "# Development of classes for Spark data analysis"
     ]
    },
    {
     "cell_type": "code",
     "collapsed": false,
     "input": [
      "# Load some numpy data"
     ],
     "language": "python",
     "metadata": {},
     "outputs": [],
     "prompt_number": 1
    },
    {
     "cell_type": "code",
     "collapsed": false,
     "input": [
      "def readN(filename, n):\n",
      "    with open(filename, 'r') as myfile:\n",
      "        head = [next(myfile).strip() for x in xrange(n)]\n",
      "    return head\n",
      "\n",
      "def csvrow2array(st):\n",
      "    return np.array([float(s) for s in st.replace(',',' ').replace('  ',' ').split(' ')])\n",
      "\n",
      "def int2str(z):\n",
      "    if (z < 90):\n",
      "        return chr(z+33)\n",
      "    else:\n",
      "        resid = int(z % 90)\n",
      "        z = int(z-resid)/90\n",
      "        return int2str(z)+chr(90+33)+chr(resid+33)\n",
      "    \n",
      "def ints2str(zs):\n",
      "    return ''.join(int2str(z) for z in zs)\n",
      "\n",
      "def str2ints(st):\n",
      "    os = [ord(c)-33 for c in st]\n",
      "    zs = []\n",
      "    counter = 0\n",
      "    while counter < len(os):\n",
      "        if os[counter] == 90:\n",
      "            zs[-1] = zs[-1] * 90 + os[counter + 1]\n",
      "            counter = counter + 1\n",
      "        else:\n",
      "            zs.append(os[counter])\n",
      "        counter = counter + 1\n",
      "    return zs\n",
      "\n",
      "def str2array(st):\n",
      "    pts = st.split('|')\n",
      "    arr = np.array([str2ints(pt) for pt in pts]).T\n",
      "    return arr"
     ],
     "language": "python",
     "metadata": {},
     "outputs": [],
     "prompt_number": 24
    },
    {
     "cell_type": "code",
     "collapsed": false,
     "input": [
      "csv1 = readN('/root/data/old_data.csv', 1000)"
     ],
     "language": "python",
     "metadata": {},
     "outputs": [],
     "prompt_number": 35
    },
    {
     "cell_type": "code",
     "collapsed": false,
     "input": [
      "cff1 = readN('/root/data/chris2_comb.cff', 1000)"
     ],
     "language": "python",
     "metadata": {},
     "outputs": [],
     "prompt_number": 26
    },
    {
     "cell_type": "markdown",
     "metadata": {},
     "source": [
      "# Define a voxel class"
     ]
    },
    {
     "cell_type": "code",
     "collapsed": false,
     "input": [
      "import numpy as np\n",
      "\n",
      "def int2str(z):\n",
      "    if (z < 90):\n",
      "        return chr(z+33)\n",
      "    else:\n",
      "        resid = int(z % 90)\n",
      "        z = int(z-resid)/90\n",
      "        return int2str(z)+chr(90+33)+chr(resid+33)\n",
      "    \n",
      "def ints2str(zs):\n",
      "    return ''.join(int2str(z) for z in zs)\n",
      "\n",
      "def str2ints(st):\n",
      "    os = [ord(c)-33 for c in st]\n",
      "    zs = []\n",
      "    counter = 0\n",
      "    while counter < len(os):\n",
      "        if os[counter] == 90:\n",
      "            zs[-1] = zs[-1] * 90 + os[counter + 1]\n",
      "            counter = counter + 1\n",
      "        else:\n",
      "            zs.append(os[counter])\n",
      "        counter = counter + 1\n",
      "    return zs\n",
      "\n",
      "def csvrow2array(st):\n",
      "    return np.array([float(s) for s in st.replace(',',' ').replace('  ',' ').split(' ')])\n",
      "\n",
      "def str2array(st):\n",
      "    pts = st.split('|')\n",
      "    arr = np.array([str2ints(pt) for pt in pts]).T\n",
      "    return arr\n",
      "\n",
      "class Voxel:\n",
      "    'A class representing a single 3-dimensional voxel.  \\\n",
      "    Attributes are coordinates (key) and data. Optionally: cached data.\\\n",
      "    Internally, it uses characters to compress integer-valued data.'\n",
      "    cached = 0.0\n",
      "    dataString = ''\n",
      "    key = ''\n",
      "    intRes = 10000\n",
      "    \n",
      "    def convertInts(self, ints):\n",
      "        self.dataString = ints2str(ints)\n",
      "    \n",
      "    def __init__(self, floats=None, string=None, ints=None, csvInts=None, csvFloats=None, intRes=10000):\n",
      "        self.intRes = intRes\n",
      "        if (csvFloats is not None):\n",
      "            floats = csvrow2array(csvFloats)\n",
      "        if (csvInts is not None):\n",
      "            ints = np.array(csvrow2array(csvInts), dtype=int)\n",
      "        if (floats is not None):\n",
      "            self.convertInts(np.hstack([floats[0:3], np.array(floats[3:] * self.intRes)]))\n",
      "        if (ints is not None):\n",
      "            self.convertInts(ints)\n",
      "        if (string is not None):\n",
      "            self.dataString = string\n",
      "        ints = str2ints(self.dataString)\n",
      "        coords = (ints[0], ints[1], ints[2])\n",
      "        self.key = ints2str(coords)\n",
      "        \n",
      "    def getCoords(self):\n",
      "        ints = str2ints(self.key)\n",
      "        coords = (ints[0], ints[1], ints[2])\n",
      "        return coords\n",
      "    \n",
      "    def getKey(self):\n",
      "        return self.key\n",
      "    \n",
      "    def toString(self):\n",
      "        return self.dataString\n",
      "    \n",
      "    def getIntData(self):\n",
      "        return np.array(str2ints(self.dataString), dtype=int)\n",
      "    \n",
      "    def getFloatData(self):\n",
      "        ints = np.array(str2ints(self.dataString), dtype=int)\n",
      "        return np.hstack([ints[0:3], np.array(ints[3:]/float(self.intRes))])\n",
      "    \n",
      "    def getArrayData(self):\n",
      "        return str2Array(self.dataString)\n",
      "    \n",
      "    def setCache(self, val):\n",
      "        self.cached = val\n",
      "        \n",
      "    def getCache(self):\n",
      "        return self.cached"
     ],
     "language": "python",
     "metadata": {},
     "outputs": [],
     "prompt_number": 102
    },
    {
     "cell_type": "markdown",
     "metadata": {},
     "source": [
      "## subclasses"
     ]
    },
    {
     "cell_type": "code",
     "collapsed": false,
     "input": [],
     "language": "python",
     "metadata": {},
     "outputs": []
    },
    {
     "cell_type": "code",
     "collapsed": false,
     "input": [
      "#vox = Voxel(csvInts = csv1[500])\n",
      "vox = Voxel(string = cff1[500])"
     ],
     "language": "python",
     "metadata": {},
     "outputs": [],
     "prompt_number": 75
    },
    {
     "cell_type": "code",
     "collapsed": false,
     "input": [
      "vox.getCoords()"
     ],
     "language": "python",
     "metadata": {},
     "outputs": [
      {
       "metadata": {},
       "output_type": "pyout",
       "prompt_number": 76,
       "text": [
        "(0, 7, 17)"
       ]
      }
     ],
     "prompt_number": 76
    },
    {
     "cell_type": "code",
     "collapsed": false,
     "input": [
      "vox.getIntData()"
     ],
     "language": "python",
     "metadata": {},
     "outputs": [
      {
       "metadata": {},
       "output_type": "pyout",
       "prompt_number": 77,
       "text": [
        "array([   0,    7,   17,    1, 4046, 5710,  409, 1079,  922,  833, 1242,\n",
        "       1001, 1522,  844,  700,  955, 2173,  888, 1202,  966, 1167,  881,\n",
        "        392, 1126,  856, 1125,  779,  632,  729, 1108, 1877, 1632,  930,\n",
        "       1844,  762,  933, 1366,  599, 1395,  929,  984,  939,  854,  695,\n",
        "        836,  640, 1387,  856,  610,  563,  756, 1130, 2061, 1580,  802,\n",
        "       1037, 1582,  996,  986,  562,  617, 1686, 1068, 1275,  915,  813,\n",
        "        926,  884, 1330,  817, 1494,  575, 1080,  869, 1616,  732, 1648,\n",
        "        823,  639,  760, 1276, 1331,  899,  756,  759, 1658, 1058, 1592,\n",
        "        571,  858,  849,  867, 1329, 1274,  530,  814, 1013, 1414,  647,\n",
        "       1087,  509, 1255, 1708,  673, 1344, 1090,  465,  531,  704, 2220,\n",
        "       1323, 1219,  961, 1122, 1508,  903,  606,  880,  953, 1090,  620,\n",
        "        899,  656,  662,  770,  442, 3337, 1285,  769,  914, 1290, 1163,\n",
        "        795, 2086, 2051,  757, 1961,  885,  651, 1388, 1425, 1188,  469,\n",
        "       1286, 1162, 1462, 2285,  879,  534, 1259,  881,  908, 1141,  645])"
       ]
      }
     ],
     "prompt_number": 77
    },
    {
     "cell_type": "code",
     "collapsed": false,
     "input": [
      "vox.toString()"
     ],
     "language": "python",
     "metadata": {},
     "outputs": [
      {
       "metadata": {},
       "output_type": "pyout",
       "prompt_number": 78,
       "text": [
        "'!(2\"M{w`{I%{R,{z+{7*{8.{i,{,1{s*{C({g+{X9{.*{o.{A+{c-{x*{h%{A-{O*{O-{N){\\\\({#){*-{=5{n3{-+{?5{M){K+{B0{1\\'{\\\\0{N+{>+{u+{H*{M({b*{;({+0{F*{O\\'{g\\'{8){E-{S7{r2{S){s,{P2{U,{\\'+{w\\'{7\\'{n3{c,{o/{0+{0*{$+{;*{k/{g*{(1{W\\'{D-{!*{\\\\2{w){-3{=*{.({*){I/{1/{h*{z){E){H3{G,{e2{_\\'{@*{Q*{H*{Z/{f/{/&{q*{%,{80{a({2-{(&{\\\\.{v3{y({L/{u-{+&{0&{r({k9{]/{`.{R+{^-{K1{e+{$\\'{c*{g+{V-{+\\'{q*{z({;({A){S%{sF{(/{:){R+{//{?-{t){l8{17{h){F6{h*{l({60{G0{l.{3&{4/{;-{s1{7:{D*{f&{u.{z*{h+{)-{^({0'"
       ]
      }
     ],
     "prompt_number": 78
    },
    {
     "cell_type": "code",
     "collapsed": false,
     "input": [],
     "language": "python",
     "metadata": {},
     "outputs": [],
     "prompt_number": 78
    },
    {
     "cell_type": "code",
     "collapsed": false,
     "input": [],
     "language": "python",
     "metadata": {},
     "outputs": [],
     "prompt_number": 78
    },
    {
     "cell_type": "code",
     "collapsed": false,
     "input": [],
     "language": "python",
     "metadata": {},
     "outputs": [],
     "prompt_number": 78
    },
    {
     "cell_type": "code",
     "collapsed": false,
     "input": [],
     "language": "python",
     "metadata": {},
     "outputs": [],
     "prompt_number": 78
    },
    {
     "cell_type": "code",
     "collapsed": false,
     "input": [],
     "language": "python",
     "metadata": {},
     "outputs": [],
     "prompt_number": 78
    },
    {
     "cell_type": "code",
     "collapsed": false,
     "input": [],
     "language": "python",
     "metadata": {},
     "outputs": [],
     "prompt_number": 78
    },
    {
     "cell_type": "code",
     "collapsed": false,
     "input": [],
     "language": "python",
     "metadata": {},
     "outputs": [],
     "prompt_number": 78
    },
    {
     "cell_type": "code",
     "collapsed": false,
     "input": [],
     "language": "python",
     "metadata": {},
     "outputs": [],
     "prompt_number": 78
    },
    {
     "cell_type": "code",
     "collapsed": false,
     "input": [],
     "language": "python",
     "metadata": {},
     "outputs": [],
     "prompt_number": 78
    },
    {
     "cell_type": "code",
     "collapsed": false,
     "input": [],
     "language": "python",
     "metadata": {},
     "outputs": [],
     "prompt_number": 78
    },
    {
     "cell_type": "code",
     "collapsed": false,
     "input": [],
     "language": "python",
     "metadata": {},
     "outputs": [],
     "prompt_number": 78
    },
    {
     "cell_type": "markdown",
     "metadata": {},
     "source": [
      "# Surrogate for SparkContext /RDD"
     ]
    },
    {
     "cell_type": "code",
     "collapsed": false,
     "input": [
      "class FakeRDD:\n",
      "    partitions = []\n",
      "    def __init__(self, partitions):\n",
      "        self.partitions = partitions\n",
      "        \n",
      "    def map(self, func):\n",
      "        newpartitions = []\n",
      "        for partition in self.partitions:\n",
      "            newpartition = [func(element) for element in partition]\n",
      "            newpartitions.append(newpartition)\n",
      "        return FakeRDD(newpartitions)\n",
      "    \n",
      "    def flatMap(self, func):\n",
      "        newpartitions = []\n",
      "        for partition in self.partitions:\n",
      "            newpartition = []\n",
      "            for element in partition:\n",
      "                newpartition = newpartition + func(element)\n",
      "            newpartitions.append(newpartition)\n",
      "        return FakeRDD(newpartitions)        \n",
      "    \n",
      "    def mapPartitions(self, func):\n",
      "        newpartitions = []\n",
      "        for partition in self.partitions:\n",
      "            newpartitions.append(func(iter(partition)))\n",
      "        return FakeRDD(newpartitions)   \n",
      "    \n",
      "    def reduce(self, func):\n",
      "        a_list = self.collect()\n",
      "        n_items = len(a_list)\n",
      "        if n_items < 2:\n",
      "            return []\n",
      "        ans = func(a_list[0], a_list[1])\n",
      "        for ind in range(2, n_items):\n",
      "            ans = func(ans, a_list[ind])\n",
      "        return ans\n",
      "    \n",
      "    def collect(self):\n",
      "        ans = []\n",
      "        for partition in self.partitions:\n",
      "            ans = ans + partition\n",
      "        return ans\n",
      "    \n",
      "    def cache(self):\n",
      "        return\n",
      "    \n",
      "class FakeSparkContext:\n",
      "    name = ''\n",
      "    def __init__(self, name = 'FakeContext'):\n",
      "        self.name = name\n",
      "        \n",
      "    def textFile(self, tf, n_parts):\n",
      "        ff = open(tf, 'r')\n",
      "        a_list = ff.read().split('\\n')\n",
      "        ff.close()\n",
      "        return self.parallelize(a_list, n_parts)\n",
      "    \n",
      "    def parallellize(self, a_list, n_parts):\n",
      "        n_items = len(a_list)\n",
      "        sz_part = n_items/n_parts + 1\n",
      "        count = 0\n",
      "        partitions = []\n",
      "        for ind in range(n_parts):\n",
      "            newcount = min(count + sz_part, n_items)\n",
      "            newpartition = a_list[count:newcount]\n",
      "            partitions.append(newpartition)\n",
      "            count = newcount\n",
      "        return FakeRDD(partitions)"
     ],
     "language": "python",
     "metadata": {},
     "outputs": [],
     "prompt_number": 97
    },
    {
     "cell_type": "code",
     "collapsed": false,
     "input": [
      "a_list = [1,5,4,6,8,8]\n",
      "sc = FakeSparkContext()\n",
      "rdd = sc.parallellize(a_list, 3)\n",
      "from operator import add\n",
      "rdd.reduce(add)"
     ],
     "language": "python",
     "metadata": {},
     "outputs": [
      {
       "metadata": {},
       "output_type": "pyout",
       "prompt_number": 98,
       "text": [
        "32"
       ]
      }
     ],
     "prompt_number": 98
    },
    {
     "cell_type": "code",
     "collapsed": false,
     "input": [
      "rdd.collect()"
     ],
     "language": "python",
     "metadata": {},
     "outputs": [
      {
       "metadata": {},
       "output_type": "pyout",
       "prompt_number": 99,
       "text": [
        "[1, 5, 4, 6, 8, 8]"
       ]
      }
     ],
     "prompt_number": 99
    },
    {
     "cell_type": "code",
     "collapsed": false,
     "input": [
      "iter([1,2,3])"
     ],
     "language": "python",
     "metadata": {},
     "outputs": [
      {
       "metadata": {},
       "output_type": "pyout",
       "prompt_number": 100,
       "text": [
        "<listiterator at 0x7f193ef48050>"
       ]
      }
     ],
     "prompt_number": 100
    },
    {
     "cell_type": "code",
     "collapsed": false,
     "input": [],
     "language": "python",
     "metadata": {},
     "outputs": [],
     "prompt_number": 100
    },
    {
     "cell_type": "code",
     "collapsed": false,
     "input": [],
     "language": "python",
     "metadata": {},
     "outputs": [],
     "prompt_number": 100
    },
    {
     "cell_type": "code",
     "collapsed": false,
     "input": [],
     "language": "python",
     "metadata": {},
     "outputs": [],
     "prompt_number": 100
    },
    {
     "cell_type": "code",
     "collapsed": false,
     "input": [],
     "language": "python",
     "metadata": {},
     "outputs": [],
     "prompt_number": 100
    },
    {
     "cell_type": "code",
     "collapsed": false,
     "input": [],
     "language": "python",
     "metadata": {},
     "outputs": [],
     "prompt_number": 100
    },
    {
     "cell_type": "code",
     "collapsed": false,
     "input": [],
     "language": "python",
     "metadata": {},
     "outputs": [],
     "prompt_number": 100
    },
    {
     "cell_type": "code",
     "collapsed": false,
     "input": [],
     "language": "python",
     "metadata": {},
     "outputs": [],
     "prompt_number": 100
    },
    {
     "cell_type": "code",
     "collapsed": false,
     "input": [],
     "language": "python",
     "metadata": {},
     "outputs": []
    }
   ],
   "metadata": {}
  }
 ]
}