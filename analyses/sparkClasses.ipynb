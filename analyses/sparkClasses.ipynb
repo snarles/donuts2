{
 "metadata": {
  "name": "",
  "signature": "sha256:63316ac74fc853d428048b753c690b6c8b8c636d22732d9984efeeb14c6e8d26"
 },
 "nbformat": 3,
 "nbformat_minor": 0,
 "worksheets": [
  {
   "cells": [
    {
     "cell_type": "markdown",
     "metadata": {},
     "source": [
      "# Development of classes for Spark data analysis"
     ]
    },
    {
     "cell_type": "code",
     "collapsed": false,
     "input": [
      "import donuts.spark.classes as ds"
     ],
     "language": "python",
     "metadata": {},
     "outputs": [],
     "prompt_number": 1
    },
    {
     "cell_type": "code",
     "collapsed": false,
     "input": [
      "# Load some numpy data"
     ],
     "language": "python",
     "metadata": {},
     "outputs": [],
     "prompt_number": 2
    },
    {
     "cell_type": "code",
     "collapsed": false,
     "input": [
      "def readN(filename, n):\n",
      "    with open(filename, 'r') as myfile:\n",
      "        head = [next(myfile).strip() for x in xrange(n)]\n",
      "    return head\n",
      "\n",
      "def csvrow2array(st):\n",
      "    return np.array([float(s) for s in st.replace(',',' ').replace('  ',' ').split(' ')])\n",
      "\n",
      "def int2str(z):\n",
      "    if (z < 90):\n",
      "        return chr(z+33)\n",
      "    else:\n",
      "        resid = int(z % 90)\n",
      "        z = int(z-resid)/90\n",
      "        return int2str(z)+chr(90+33)+chr(resid+33)\n",
      "    \n",
      "def ints2str(zs):\n",
      "    return ''.join(int2str(z) for z in zs)\n",
      "\n",
      "def str2ints(st):\n",
      "    os = [ord(c)-33 for c in st]\n",
      "    zs = []\n",
      "    counter = 0\n",
      "    while counter < len(os):\n",
      "        if os[counter] == 90:\n",
      "            zs[-1] = zs[-1] * 90 + os[counter + 1]\n",
      "            counter = counter + 1\n",
      "        else:\n",
      "            zs.append(os[counter])\n",
      "        counter = counter + 1\n",
      "    return zs\n",
      "\n",
      "def str2array(st):\n",
      "    pts = st.split('|')\n",
      "    arr = np.array([str2ints(pt) for pt in pts]).T\n",
      "    return arr"
     ],
     "language": "python",
     "metadata": {},
     "outputs": [],
     "prompt_number": 2
    },
    {
     "cell_type": "code",
     "collapsed": false,
     "input": [
      "csv1 = readN('/root/data/old_data.csv', 1000)"
     ],
     "language": "python",
     "metadata": {},
     "outputs": [],
     "prompt_number": 3
    },
    {
     "cell_type": "code",
     "collapsed": false,
     "input": [
      "cff1 = readN('/root/data/chris2_comb.cff', 1000)"
     ],
     "language": "python",
     "metadata": {},
     "outputs": [],
     "prompt_number": 4
    },
    {
     "cell_type": "code",
     "collapsed": false,
     "input": [
      "def f(x):\n",
      "    return ds.Voxel(x)"
     ],
     "language": "python",
     "metadata": {},
     "outputs": [],
     "prompt_number": 5
    },
    {
     "cell_type": "code",
     "collapsed": false,
     "input": [
      "voxes = sc.parallelize(cff1[:10],2).map(f).collect()"
     ],
     "language": "python",
     "metadata": {},
     "outputs": [
      {
       "ename": "TypeError",
       "evalue": "ord() expected a character, but string of length 3 found",
       "output_type": "pyerr",
       "traceback": [
        "\u001b[1;31m---------------------------------------------------------------------------\u001b[0m\n\u001b[1;31mTypeError\u001b[0m                                 Traceback (most recent call last)",
        "\u001b[1;32m<ipython-input-6-79a78f4f2182>\u001b[0m in \u001b[0;36m<module>\u001b[1;34m()\u001b[0m\n\u001b[1;32m----> 1\u001b[1;33m \u001b[0mvoxes\u001b[0m \u001b[1;33m=\u001b[0m \u001b[0msc\u001b[0m\u001b[1;33m.\u001b[0m\u001b[0mparallelize\u001b[0m\u001b[1;33m(\u001b[0m\u001b[0mcff1\u001b[0m\u001b[1;33m[\u001b[0m\u001b[1;33m:\u001b[0m\u001b[1;36m10\u001b[0m\u001b[1;33m]\u001b[0m\u001b[1;33m,\u001b[0m\u001b[1;36m2\u001b[0m\u001b[1;33m)\u001b[0m\u001b[1;33m.\u001b[0m\u001b[0mmap\u001b[0m\u001b[1;33m(\u001b[0m\u001b[0mf\u001b[0m\u001b[1;33m)\u001b[0m\u001b[1;33m.\u001b[0m\u001b[0mcollect\u001b[0m\u001b[1;33m(\u001b[0m\u001b[1;33m)\u001b[0m\u001b[1;33m\u001b[0m\u001b[0m\n\u001b[0m",
        "\u001b[1;32m/root/spark/python/pyspark/rdd.pyc\u001b[0m in \u001b[0;36mcollect\u001b[1;34m(self)\u001b[0m\n\u001b[0;32m    675\u001b[0m         \u001b[1;32mwith\u001b[0m \u001b[0mSCCallSiteSync\u001b[0m\u001b[1;33m(\u001b[0m\u001b[0mself\u001b[0m\u001b[1;33m.\u001b[0m\u001b[0mcontext\u001b[0m\u001b[1;33m)\u001b[0m \u001b[1;32mas\u001b[0m \u001b[0mcss\u001b[0m\u001b[1;33m:\u001b[0m\u001b[1;33m\u001b[0m\u001b[0m\n\u001b[0;32m    676\u001b[0m             \u001b[0mbytesInJava\u001b[0m \u001b[1;33m=\u001b[0m \u001b[0mself\u001b[0m\u001b[1;33m.\u001b[0m\u001b[0m_jrdd\u001b[0m\u001b[1;33m.\u001b[0m\u001b[0mcollect\u001b[0m\u001b[1;33m(\u001b[0m\u001b[1;33m)\u001b[0m\u001b[1;33m.\u001b[0m\u001b[0miterator\u001b[0m\u001b[1;33m(\u001b[0m\u001b[1;33m)\u001b[0m\u001b[1;33m\u001b[0m\u001b[0m\n\u001b[1;32m--> 677\u001b[1;33m         \u001b[1;32mreturn\u001b[0m \u001b[0mlist\u001b[0m\u001b[1;33m(\u001b[0m\u001b[0mself\u001b[0m\u001b[1;33m.\u001b[0m\u001b[0m_collect_iterator_through_file\u001b[0m\u001b[1;33m(\u001b[0m\u001b[0mbytesInJava\u001b[0m\u001b[1;33m)\u001b[0m\u001b[1;33m)\u001b[0m\u001b[1;33m\u001b[0m\u001b[0m\n\u001b[0m\u001b[0;32m    678\u001b[0m \u001b[1;33m\u001b[0m\u001b[0m\n\u001b[0;32m    679\u001b[0m     \u001b[1;32mdef\u001b[0m \u001b[0m_collect_iterator_through_file\u001b[0m\u001b[1;33m(\u001b[0m\u001b[0mself\u001b[0m\u001b[1;33m,\u001b[0m \u001b[0miterator\u001b[0m\u001b[1;33m)\u001b[0m\u001b[1;33m:\u001b[0m\u001b[1;33m\u001b[0m\u001b[0m\n",
        "\u001b[1;32m/root/spark/python/pyspark/rdd.pyc\u001b[0m in \u001b[0;36m_collect_iterator_through_file\u001b[1;34m(self, iterator)\u001b[0m\n\u001b[0;32m    686\u001b[0m         \u001b[1;31m# Read the data into Python and deserialize it:\u001b[0m\u001b[1;33m\u001b[0m\u001b[1;33m\u001b[0m\u001b[0m\n\u001b[0;32m    687\u001b[0m         \u001b[1;32mwith\u001b[0m \u001b[0mopen\u001b[0m\u001b[1;33m(\u001b[0m\u001b[0mtempFile\u001b[0m\u001b[1;33m.\u001b[0m\u001b[0mname\u001b[0m\u001b[1;33m,\u001b[0m \u001b[1;34m'rb'\u001b[0m\u001b[1;33m)\u001b[0m \u001b[1;32mas\u001b[0m \u001b[0mtempFile\u001b[0m\u001b[1;33m:\u001b[0m\u001b[1;33m\u001b[0m\u001b[0m\n\u001b[1;32m--> 688\u001b[1;33m             \u001b[1;32mfor\u001b[0m \u001b[0mitem\u001b[0m \u001b[1;32min\u001b[0m \u001b[0mself\u001b[0m\u001b[1;33m.\u001b[0m\u001b[0m_jrdd_deserializer\u001b[0m\u001b[1;33m.\u001b[0m\u001b[0mload_stream\u001b[0m\u001b[1;33m(\u001b[0m\u001b[0mtempFile\u001b[0m\u001b[1;33m)\u001b[0m\u001b[1;33m:\u001b[0m\u001b[1;33m\u001b[0m\u001b[0m\n\u001b[0m\u001b[0;32m    689\u001b[0m                 \u001b[1;32myield\u001b[0m \u001b[0mitem\u001b[0m\u001b[1;33m\u001b[0m\u001b[0m\n\u001b[0;32m    690\u001b[0m         \u001b[0mos\u001b[0m\u001b[1;33m.\u001b[0m\u001b[0munlink\u001b[0m\u001b[1;33m(\u001b[0m\u001b[0mtempFile\u001b[0m\u001b[1;33m.\u001b[0m\u001b[0mname\u001b[0m\u001b[1;33m)\u001b[0m\u001b[1;33m\u001b[0m\u001b[0m\n",
        "\u001b[1;32m/root/spark/python/pyspark/serializers.pyc\u001b[0m in \u001b[0;36mload_stream\u001b[1;34m(self, stream)\u001b[0m\n\u001b[0;32m    128\u001b[0m         \u001b[1;32mwhile\u001b[0m \u001b[0mTrue\u001b[0m\u001b[1;33m:\u001b[0m\u001b[1;33m\u001b[0m\u001b[0m\n\u001b[0;32m    129\u001b[0m             \u001b[1;32mtry\u001b[0m\u001b[1;33m:\u001b[0m\u001b[1;33m\u001b[0m\u001b[0m\n\u001b[1;32m--> 130\u001b[1;33m                 \u001b[1;32myield\u001b[0m \u001b[0mself\u001b[0m\u001b[1;33m.\u001b[0m\u001b[0m_read_with_length\u001b[0m\u001b[1;33m(\u001b[0m\u001b[0mstream\u001b[0m\u001b[1;33m)\u001b[0m\u001b[1;33m\u001b[0m\u001b[0m\n\u001b[0m\u001b[0;32m    131\u001b[0m             \u001b[1;32mexcept\u001b[0m \u001b[0mEOFError\u001b[0m\u001b[1;33m:\u001b[0m\u001b[1;33m\u001b[0m\u001b[0m\n\u001b[0;32m    132\u001b[0m                 \u001b[1;32mreturn\u001b[0m\u001b[1;33m\u001b[0m\u001b[0m\n",
        "\u001b[1;32m/root/spark/python/pyspark/serializers.pyc\u001b[0m in \u001b[0;36m_read_with_length\u001b[1;34m(self, stream)\u001b[0m\n\u001b[0;32m    149\u001b[0m         \u001b[1;32mif\u001b[0m \u001b[0mobj\u001b[0m \u001b[1;33m==\u001b[0m \u001b[1;34m\"\"\u001b[0m\u001b[1;33m:\u001b[0m\u001b[1;33m\u001b[0m\u001b[0m\n\u001b[0;32m    150\u001b[0m             \u001b[1;32mraise\u001b[0m \u001b[0mEOFError\u001b[0m\u001b[1;33m\u001b[0m\u001b[0m\n\u001b[1;32m--> 151\u001b[1;33m         \u001b[1;32mreturn\u001b[0m \u001b[0mself\u001b[0m\u001b[1;33m.\u001b[0m\u001b[0mloads\u001b[0m\u001b[1;33m(\u001b[0m\u001b[0mobj\u001b[0m\u001b[1;33m)\u001b[0m\u001b[1;33m\u001b[0m\u001b[0m\n\u001b[0m\u001b[0;32m    152\u001b[0m \u001b[1;33m\u001b[0m\u001b[0m\n\u001b[0;32m    153\u001b[0m     \u001b[1;32mdef\u001b[0m \u001b[0mdumps\u001b[0m\u001b[1;33m(\u001b[0m\u001b[0mself\u001b[0m\u001b[1;33m,\u001b[0m \u001b[0mobj\u001b[0m\u001b[1;33m)\u001b[0m\u001b[1;33m:\u001b[0m\u001b[1;33m\u001b[0m\u001b[0m\n",
        "\u001b[1;32m/root/spark/python/pyspark/serializers.pyc\u001b[0m in \u001b[0;36mloads\u001b[1;34m(self, obj)\u001b[0m\n\u001b[0;32m    394\u001b[0m \u001b[1;33m\u001b[0m\u001b[0m\n\u001b[0;32m    395\u001b[0m     \u001b[1;32mdef\u001b[0m \u001b[0mloads\u001b[0m\u001b[1;33m(\u001b[0m\u001b[0mself\u001b[0m\u001b[1;33m,\u001b[0m \u001b[0mobj\u001b[0m\u001b[1;33m)\u001b[0m\u001b[1;33m:\u001b[0m\u001b[1;33m\u001b[0m\u001b[0m\n\u001b[1;32m--> 396\u001b[1;33m         \u001b[1;32mreturn\u001b[0m \u001b[0mcPickle\u001b[0m\u001b[1;33m.\u001b[0m\u001b[0mloads\u001b[0m\u001b[1;33m(\u001b[0m\u001b[0mobj\u001b[0m\u001b[1;33m)\u001b[0m\u001b[1;33m\u001b[0m\u001b[0m\n\u001b[0m\u001b[0;32m    397\u001b[0m \u001b[1;33m\u001b[0m\u001b[0m\n\u001b[0;32m    398\u001b[0m \u001b[1;33m\u001b[0m\u001b[0m\n",
        "\u001b[1;32m/usr/lib64/python2.7/site-packages/donuts/spark/classes.pyc\u001b[0m in \u001b[0;36m__new__\u001b[1;34m(cls, initString)\u001b[0m\n\u001b[0;32m     73\u001b[0m     \u001b[1;32mdef\u001b[0m \u001b[0m__new__\u001b[0m\u001b[1;33m(\u001b[0m\u001b[0mcls\u001b[0m\u001b[1;33m,\u001b[0m \u001b[0minitString\u001b[0m\u001b[1;33m)\u001b[0m\u001b[1;33m:\u001b[0m\u001b[1;33m\u001b[0m\u001b[0m\n\u001b[0;32m     74\u001b[0m         \u001b[0mnc\u001b[0m \u001b[1;33m=\u001b[0m \u001b[1;36m3\u001b[0m \u001b[1;31m# edit this when changing the number of coords\u001b[0m\u001b[1;33m\u001b[0m\u001b[0m\n\u001b[1;32m---> 75\u001b[1;33m         \u001b[0mints\u001b[0m \u001b[1;33m=\u001b[0m \u001b[0mstr2ints\u001b[0m\u001b[1;33m(\u001b[0m\u001b[0minitString\u001b[0m\u001b[1;33m)\u001b[0m\u001b[1;33m\u001b[0m\u001b[0m\n\u001b[0m\u001b[0;32m     76\u001b[0m         \u001b[0mcoords\u001b[0m \u001b[1;33m=\u001b[0m \u001b[0mtuple\u001b[0m\u001b[1;33m(\u001b[0m\u001b[0mints\u001b[0m\u001b[1;33m[\u001b[0m\u001b[1;33m:\u001b[0m\u001b[0mnc\u001b[0m\u001b[1;33m]\u001b[0m\u001b[1;33m)\u001b[0m\u001b[1;33m\u001b[0m\u001b[0m\n\u001b[0;32m     77\u001b[0m         \u001b[0mkey\u001b[0m \u001b[1;33m=\u001b[0m \u001b[0mints2str\u001b[0m\u001b[1;33m(\u001b[0m\u001b[0mcoords\u001b[0m\u001b[1;33m)\u001b[0m\u001b[1;33m\u001b[0m\u001b[0m\n",
        "\u001b[1;32m/usr/lib64/python2.7/site-packages/donuts/spark/classes.pyc\u001b[0m in \u001b[0;36mstr2ints\u001b[1;34m(st)\u001b[0m\n\u001b[0;32m     43\u001b[0m \u001b[1;32mdef\u001b[0m \u001b[0mstr2ints\u001b[0m\u001b[1;33m(\u001b[0m\u001b[0mst\u001b[0m\u001b[1;33m)\u001b[0m\u001b[1;33m:\u001b[0m\u001b[1;33m\u001b[0m\u001b[0m\n\u001b[0;32m     44\u001b[0m     \u001b[0mst\u001b[0m \u001b[1;33m=\u001b[0m \u001b[0mlist\u001b[0m\u001b[1;33m(\u001b[0m\u001b[1;33m[\u001b[0m\u001b[0mst\u001b[0m\u001b[1;33m]\u001b[0m\u001b[1;33m)\u001b[0m\u001b[1;33m[\u001b[0m\u001b[1;36m0\u001b[0m\u001b[1;33m]\u001b[0m \u001b[1;31m# somehow got a list here\u001b[0m\u001b[1;33m\u001b[0m\u001b[0m\n\u001b[1;32m---> 45\u001b[1;33m     \u001b[0mos\u001b[0m \u001b[1;33m=\u001b[0m \u001b[1;33m[\u001b[0m\u001b[0mord\u001b[0m\u001b[1;33m(\u001b[0m\u001b[0mc\u001b[0m\u001b[1;33m)\u001b[0m\u001b[1;33m-\u001b[0m\u001b[1;36m33\u001b[0m \u001b[1;32mfor\u001b[0m \u001b[0mc\u001b[0m \u001b[1;32min\u001b[0m \u001b[0mst\u001b[0m\u001b[1;33m]\u001b[0m\u001b[1;33m\u001b[0m\u001b[0m\n\u001b[0m\u001b[0;32m     46\u001b[0m     \u001b[0mzs\u001b[0m \u001b[1;33m=\u001b[0m \u001b[1;33m[\u001b[0m\u001b[1;33m]\u001b[0m\u001b[1;33m\u001b[0m\u001b[0m\n\u001b[0;32m     47\u001b[0m     \u001b[0mcounter\u001b[0m \u001b[1;33m=\u001b[0m \u001b[1;36m0\u001b[0m\u001b[1;33m\u001b[0m\u001b[0m\n",
        "\u001b[1;31mTypeError\u001b[0m: ord() expected a character, but string of length 3 found"
       ]
      }
     ],
     "prompt_number": 6
    },
    {
     "cell_type": "code",
     "collapsed": false,
     "input": [
      "voxes[1].getCoords()"
     ],
     "language": "python",
     "metadata": {},
     "outputs": [
      {
       "metadata": {},
       "output_type": "pyout",
       "prompt_number": 9,
       "text": [
        "(0,)"
       ]
      }
     ],
     "prompt_number": 9
    },
    {
     "cell_type": "code",
     "collapsed": false,
     "input": [
      "ds.Voxel(cff1[10])"
     ],
     "language": "python",
     "metadata": {},
     "outputs": [
      {
       "metadata": {},
       "output_type": "pyout",
       "prompt_number": 20,
       "text": [
        "('!!+',\n",
        " '!!+\"V{FP{f&{`,{O){j){q\\'{4*{Z${Y\\'{b%{%-{9,{o&{8&{:*{Y({A+{(){6&{6#{Y\\'{e${`&{%%{P\\'{t+{1${w){x&{!({p){Z\\'{#&{;%{$-{C%{w({.\\'{8){f%{O+{m){9){F({<({*+{?%{a&{\\\\,{Z+{r){a&{Z+{&({w){[({,({5\\'{P){/*{S,{s&{[&{5&{+,{Z){N&{e){#({F){n({b({6){k*{+){w${q,{1*{*${n-{&&{E3{^&{G&{*){M&{u*{B*{;\\'{6*{6\\'{##{*({,&{b({x+{2*{@*{K({h\\'{s({i\\'{v\\'{)\\'{Q({++{i({`-{J\\'{n0{B){T({@.{n({[-{q+{F,{v${`&{-({[${5*{O({k){/){.\\'{D%{z+{0+{&){4*{5){i,{k){L({b*{>${y#{V-{c({E({.({D){`%{=&{d){O({4&{x1{w')"
       ]
      }
     ],
     "prompt_number": 20
    },
    {
     "cell_type": "code",
     "collapsed": false,
     "input": [
      "list(['a','b'])"
     ],
     "language": "python",
     "metadata": {},
     "outputs": [
      {
       "metadata": {},
       "output_type": "pyout",
       "prompt_number": 16,
       "text": [
        "['a', 'b']"
       ]
      }
     ],
     "prompt_number": 16
    },
    {
     "cell_type": "code",
     "collapsed": false,
     "input": [
      "[c for c in list(['aa'])[0]]"
     ],
     "language": "python",
     "metadata": {},
     "outputs": [
      {
       "metadata": {},
       "output_type": "pyout",
       "prompt_number": 26,
       "text": [
        "['a', 'a']"
       ]
      }
     ],
     "prompt_number": 26
    },
    {
     "cell_type": "markdown",
     "metadata": {},
     "source": [
      "# Surrogate for SparkContext /RDD"
     ]
    },
    {
     "cell_type": "code",
     "collapsed": false,
     "input": [
      "class FakeRDD:\n",
      "    partitions = []\n",
      "    def __init__(self, partitions):\n",
      "        self.partitions = partitions\n",
      "        \n",
      "    def map(self, func):\n",
      "        newpartitions = []\n",
      "        for partition in self.partitions:\n",
      "            newpartition = [func(element) for element in partition]\n",
      "            newpartitions.append(newpartition)\n",
      "        return FakeRDD(newpartitions)\n",
      "    \n",
      "    def flatMap(self, func):\n",
      "        newpartitions = []\n",
      "        for partition in self.partitions:\n",
      "            newpartition = []\n",
      "            for element in partition:\n",
      "                newpartition = newpartition + func(element)\n",
      "            newpartitions.append(newpartition)\n",
      "        return FakeRDD(newpartitions)        \n",
      "    \n",
      "    def mapPartitions(self, func):\n",
      "        newpartitions = []\n",
      "        for partition in self.partitions:\n",
      "            newpartitions.append(func(iter(partition)))\n",
      "        return FakeRDD(newpartitions)   \n",
      "    \n",
      "    def reduce(self, func):\n",
      "        a_list = self.collect()\n",
      "        n_items = len(a_list)\n",
      "        if n_items < 2:\n",
      "            return []\n",
      "        ans = func(a_list[0], a_list[1])\n",
      "        for ind in range(2, n_items):\n",
      "            ans = func(ans, a_list[ind])\n",
      "        return ans\n",
      "    \n",
      "    def collect(self):\n",
      "        ans = []\n",
      "        for partition in self.partitions:\n",
      "            ans = ans + partition\n",
      "        return ans\n",
      "    \n",
      "    def cache(self):\n",
      "        return\n",
      "    \n",
      "class FakeSparkContext:\n",
      "    name = ''\n",
      "    def __init__(self, name = 'FakeContext'):\n",
      "        self.name = name\n",
      "        \n",
      "    def textFile(self, tf, n_parts):\n",
      "        ff = open(tf, 'r')\n",
      "        a_list = ff.read().split('\\n')\n",
      "        ff.close()\n",
      "        return self.parallelize(a_list, n_parts)\n",
      "    \n",
      "    def parallelize(self, a_list, n_parts):\n",
      "        n_items = len(a_list)\n",
      "        sz_part = n_items/n_parts + 1\n",
      "        count = 0\n",
      "        partitions = []\n",
      "        for ind in range(n_parts):\n",
      "            newcount = min(count + sz_part, n_items)\n",
      "            newpartition = a_list[count:newcount]\n",
      "            partitions.append(newpartition)\n",
      "            count = newcount\n",
      "        return FakeRDD(partitions)"
     ],
     "language": "python",
     "metadata": {},
     "outputs": [],
     "prompt_number": 119
    },
    {
     "cell_type": "code",
     "collapsed": false,
     "input": [
      "a_list = [1,5,4,6,8,8]\n",
      "sc = FakeSparkContext()\n",
      "rdd = sc.parallellize(a_list, 3)\n",
      "from operator import add\n",
      "rdd.reduce(add)"
     ],
     "language": "python",
     "metadata": {},
     "outputs": [
      {
       "metadata": {},
       "output_type": "pyout",
       "prompt_number": 98,
       "text": [
        "32"
       ]
      }
     ],
     "prompt_number": 98
    },
    {
     "cell_type": "code",
     "collapsed": false,
     "input": [
      "rdd.collect()"
     ],
     "language": "python",
     "metadata": {},
     "outputs": [
      {
       "metadata": {},
       "output_type": "pyout",
       "prompt_number": 99,
       "text": [
        "[1, 5, 4, 6, 8, 8]"
       ]
      }
     ],
     "prompt_number": 99
    },
    {
     "cell_type": "code",
     "collapsed": false,
     "input": [
      "iter([1,2,3])"
     ],
     "language": "python",
     "metadata": {},
     "outputs": [
      {
       "metadata": {},
       "output_type": "pyout",
       "prompt_number": 100,
       "text": [
        "<listiterator at 0x7f193ef48050>"
       ]
      }
     ],
     "prompt_number": 100
    },
    {
     "cell_type": "code",
     "collapsed": false,
     "input": [
      "sc0 = FakeSparkContext()"
     ],
     "language": "python",
     "metadata": {},
     "outputs": [],
     "prompt_number": 121
    },
    {
     "cell_type": "code",
     "collapsed": false,
     "input": [],
     "language": "python",
     "metadata": {},
     "outputs": [],
     "prompt_number": 100
    },
    {
     "cell_type": "code",
     "collapsed": false,
     "input": [],
     "language": "python",
     "metadata": {},
     "outputs": [],
     "prompt_number": 100
    },
    {
     "cell_type": "code",
     "collapsed": false,
     "input": [],
     "language": "python",
     "metadata": {},
     "outputs": [],
     "prompt_number": 100
    },
    {
     "cell_type": "code",
     "collapsed": false,
     "input": [],
     "language": "python",
     "metadata": {},
     "outputs": [],
     "prompt_number": 100
    },
    {
     "cell_type": "code",
     "collapsed": false,
     "input": [],
     "language": "python",
     "metadata": {},
     "outputs": [],
     "prompt_number": 100
    },
    {
     "cell_type": "code",
     "collapsed": false,
     "input": [],
     "language": "python",
     "metadata": {},
     "outputs": [],
     "prompt_number": 100
    },
    {
     "cell_type": "markdown",
     "metadata": {},
     "source": [
      "# Test Spark stuff"
     ]
    },
    {
     "cell_type": "code",
     "collapsed": false,
     "input": [
      "import donuts.deconv.utils as du\n",
      "import numpy.random as npr"
     ],
     "language": "python",
     "metadata": {},
     "outputs": [],
     "prompt_number": 5
    },
    {
     "cell_type": "code",
     "collapsed": false,
     "input": [
      "sc"
     ],
     "language": "python",
     "metadata": {},
     "outputs": [
      {
       "metadata": {},
       "output_type": "pyout",
       "prompt_number": 3,
       "text": [
        "<pyspark.context.SparkContext at 0x7fafbde5b710>"
       ]
      }
     ],
     "prompt_number": 3
    },
    {
     "cell_type": "code",
     "collapsed": false,
     "input": [
      "cases = [du.normalize_rows(npr.randn(10,3)) for x in range(10)]"
     ],
     "language": "python",
     "metadata": {},
     "outputs": [],
     "prompt_number": 6
    },
    {
     "cell_type": "code",
     "collapsed": false,
     "input": [
      "rdd0 = sc0.parallellize(cases, 2).map(lambda x: du.ste_tan_kappa(x, x))"
     ],
     "language": "python",
     "metadata": {},
     "outputs": [],
     "prompt_number": 15
    },
    {
     "cell_type": "code",
     "collapsed": false,
     "input": [
      "rdd = sc.parallelize(cases, 2).map(lambda x: du.ste_tan_kappa(x, x))"
     ],
     "language": "python",
     "metadata": {},
     "outputs": [],
     "prompt_number": 16
    },
    {
     "cell_type": "code",
     "collapsed": false,
     "input": [
      "rdd.collect()[0]"
     ],
     "language": "python",
     "metadata": {},
     "outputs": [
      {
       "metadata": {},
       "output_type": "pyout",
       "prompt_number": 17,
       "text": [
        "array([[ 0.36787944,  0.9220597 ,  0.42023547,  0.86981823,  0.51428469,\n",
        "         0.42608844,  0.89881574,  0.87901051,  0.88224398,  0.98963234],\n",
        "       [ 0.9220597 ,  0.36787944,  0.93278811,  0.79399703,  0.86159716,\n",
        "         0.71741442,  0.79072312,  0.88374067,  0.37000393,  0.53715933],\n",
        "       [ 0.42023547,  0.93278811,  0.36787944,  0.69521459,  0.73395319,\n",
        "         0.5387862 ,  0.99844791,  0.64608497,  0.90237063,  0.90645939],\n",
        "       [ 0.86981823,  0.79399703,  0.69521459,  0.36787944,  0.96767174,\n",
        "         0.99997191,  0.99971651,  0.69784032,  0.81325076,  0.99926624],\n",
        "       [ 0.51428469,  0.86159716,  0.73395319,  0.96767174,  0.36787944,\n",
        "         0.43131725,  0.71870223,  0.97346605,  0.81655872,  0.98461942],\n",
        "       [ 0.42608844,  0.71741442,  0.5387862 ,  0.99997191,  0.43131725,\n",
        "         0.36787944,  0.93907625,  0.94536409,  0.66679864,  0.94739188],\n",
        "       [ 0.89881574,  0.79072312,  0.99844791,  0.99971651,  0.71870223,\n",
        "         0.93907625,  0.36787944,  0.61941432,  0.82934109,  0.45921656],\n",
        "       [ 0.87901051,  0.88374067,  0.64608497,  0.69784032,  0.97346605,\n",
        "         0.94536409,  0.61941432,  0.36787944,  0.88378034,  0.54245679],\n",
        "       [ 0.88224398,  0.37000393,  0.90237063,  0.81325076,  0.81655872,\n",
        "         0.66679864,  0.82934109,  0.88378034,  0.36787944,  0.5577123 ],\n",
        "       [ 0.98963234,  0.53715933,  0.90645939,  0.99926624,  0.98461942,\n",
        "         0.94739188,  0.45921656,  0.54245679,  0.5577123 ,  0.36787944]])"
       ]
      }
     ],
     "prompt_number": 17
    },
    {
     "cell_type": "code",
     "collapsed": false,
     "input": [],
     "language": "python",
     "metadata": {},
     "outputs": [],
     "prompt_number": 17
    },
    {
     "cell_type": "code",
     "collapsed": false,
     "input": [],
     "language": "python",
     "metadata": {},
     "outputs": [],
     "prompt_number": 17
    },
    {
     "cell_type": "code",
     "collapsed": false,
     "input": [
      "itt = iter([1,2,3])\n",
      "next(itt)"
     ],
     "language": "python",
     "metadata": {},
     "outputs": [
      {
       "metadata": {},
       "output_type": "pyout",
       "prompt_number": 18,
       "text": [
        "1"
       ]
      }
     ],
     "prompt_number": 18
    },
    {
     "cell_type": "code",
     "collapsed": false,
     "input": [
      "('','')"
     ],
     "language": "python",
     "metadata": {},
     "outputs": []
    },
    {
     "cell_type": "code",
     "collapsed": false,
     "input": [
      "class customTuple(tuple):\n",
      "    \n",
      "    def __new__(typ, dat):\n",
      "        seq = (dat[0:3], dat)\n",
      "        return tuple.__new__(typ, seq)\n",
      "    \n",
      "    def getKey():\n",
      "        return self[0]"
     ],
     "language": "python",
     "metadata": {},
     "outputs": [],
     "prompt_number": 37
    },
    {
     "cell_type": "code",
     "collapsed": false,
     "input": [
      "customTuple('ahaha')"
     ],
     "language": "python",
     "metadata": {},
     "outputs": [
      {
       "metadata": {},
       "output_type": "pyout",
       "prompt_number": 38,
       "text": [
        "('aha', 'ahaha')"
       ]
      }
     ],
     "prompt_number": 38
    },
    {
     "cell_type": "code",
     "collapsed": false,
     "input": [
      "class MyTuple(tuple):\n",
      "    \n",
      "    def __new__(typ, itr):\n",
      "        return tuple.__new__(typ, itr)"
     ],
     "language": "python",
     "metadata": {},
     "outputs": [],
     "prompt_number": 32
    },
    {
     "cell_type": "code",
     "collapsed": false,
     "input": [
      "MyTuple((1,2))"
     ],
     "language": "python",
     "metadata": {},
     "outputs": [
      {
       "metadata": {},
       "output_type": "pyout",
       "prompt_number": 34,
       "text": [
        "(1, 2)"
       ]
      }
     ],
     "prompt_number": 34
    },
    {
     "cell_type": "code",
     "collapsed": false,
     "input": [],
     "language": "python",
     "metadata": {},
     "outputs": [],
     "prompt_number": 39
    },
    {
     "cell_type": "code",
     "collapsed": false,
     "input": [],
     "language": "python",
     "metadata": {},
     "outputs": [],
     "prompt_number": 39
    },
    {
     "cell_type": "code",
     "collapsed": false,
     "input": [],
     "language": "python",
     "metadata": {},
     "outputs": [],
     "prompt_number": 39
    },
    {
     "cell_type": "code",
     "collapsed": false,
     "input": [],
     "language": "python",
     "metadata": {},
     "outputs": [],
     "prompt_number": 39
    },
    {
     "cell_type": "code",
     "collapsed": false,
     "input": [],
     "language": "python",
     "metadata": {},
     "outputs": [],
     "prompt_number": 39
    },
    {
     "cell_type": "code",
     "collapsed": false,
     "input": [],
     "language": "python",
     "metadata": {},
     "outputs": [],
     "prompt_number": 39
    },
    {
     "cell_type": "code",
     "collapsed": false,
     "input": [
      "class Foo(tuple):\n",
      "\n",
      "    def __new__ (cls, a, b):\n",
      "        b2 = [b[0][0:2], b[1][0:2]]\n",
      "        return super(Foo, cls).__new__(cls, tuple(b2))\n",
      "\n",
      "    def __init__(self, a, b):\n",
      "        if a=='11':\n",
      "            super(Foo, self).__init__(a,'caa')\n",
      "        else:\n",
      "            super(Foo, self).__init__(a,b)\n",
      "        self.a=a\n",
      "        self.b=b\n",
      "        \n",
      "    def el1(self):\n",
      "        return self[1]"
     ],
     "language": "python",
     "metadata": {},
     "outputs": [],
     "prompt_number": 82
    },
    {
     "cell_type": "code",
     "collapsed": false,
     "input": [
      "foo = Foo('11', ['aaaa','bab'])\n",
      "#foo = Foo()\n",
      "print foo\n",
      "print foo.a\n",
      "print foo.el1()"
     ],
     "language": "python",
     "metadata": {},
     "outputs": [
      {
       "output_type": "stream",
       "stream": "stdout",
       "text": [
        "('aa', 'ba')\n",
        "11\n",
        "ba\n"
       ]
      }
     ],
     "prompt_number": 83
    },
    {
     "cell_type": "code",
     "collapsed": false,
     "input": [
      "str(np.array([range(4)]))"
     ],
     "language": "python",
     "metadata": {},
     "outputs": [
      {
       "metadata": {},
       "output_type": "pyout",
       "prompt_number": 60,
       "text": [
        "'[[0 1 2 3]]'"
       ]
      }
     ],
     "prompt_number": 60
    },
    {
     "cell_type": "code",
     "collapsed": false,
     "input": [
      "class Voxel(tuple):\n",
      "    'A class representing a single 3-dimensional voxel.  \\\n",
      "    Attributes are coordinates (key) and data. Optionally: cached data.\\\n",
      "    Internally, it uses characters to compress integer-valued data. \\\n",
      "    Initialize with a compressed string of CFF format.'\n",
      "    intRes = 10000\n",
      "    offset = 0\n",
      "    ncoords = 3\n",
      "    \n",
      "    def __new__(cls, ncoords, initString):\n",
      "        ints = str2ints(initString)\n",
      "        coords = tuple(ints[0:ncoords]) # edit this when changing the number of coords\n",
      "        key = ints2str(coords)\n",
      "        kv = (key, initString)\n",
      "        return super(Voxel, cls).__new__(cls, tuple(kv))\n",
      "    \n",
      "    def __init__(self, ncoords, initString):\n",
      "        super(Voxel, self).__init__(ncoords, initString)\n",
      "        self.ncoords = ncoords\n",
      "        \n",
      "    def convertInts(self, ints):\n",
      "        newDataString = key + ints2str(ints)\n",
      "        return Voxel(newDataString)\n",
      "    \n",
      "    def convertFloats(self, floats):\n",
      "        ints = np.hstack([floats[range(ncoords)], np.array(floats[3:] * self.intRes)])\n",
      "        return self.convertInts(ints)\n",
      "        \n",
      "    def getCoords(self):\n",
      "        ints = str2ints(self.key)\n",
      "        coords = tuple(ints[range(ncoords)])\n",
      "        return coords\n",
      "\n",
      "    def getIntData(self):\n",
      "        return np.array(str2ints(self[1]), dtype=int)\n",
      "    \n",
      "    def getFloatData(self):\n",
      "        ints = np.array(str2ints(self[1]), dtype=int)\n",
      "        return np.hstack([ints[0:3], np.array(ints[3:]/float(self.intRes))])-offset\n",
      "    \n",
      "    def setConversion(self, intRes=None, offset=None, ncoords=None):\n",
      "        if intRes is not None:\n",
      "            self.intRes = intRes\n",
      "        if offset is not None:\n",
      "            self.offset = offset\n",
      "        if ncoords is not None:\n",
      "            self.ncoords = ncoords"
     ],
     "language": "python",
     "metadata": {},
     "outputs": [],
     "prompt_number": 111
    },
    {
     "cell_type": "code",
     "collapsed": false,
     "input": [
      "vox = Voxel(3, cff1[60])"
     ],
     "language": "python",
     "metadata": {},
     "outputs": [],
     "prompt_number": 112
    },
    {
     "cell_type": "code",
     "collapsed": false,
     "input": [
      "vox"
     ],
     "language": "python",
     "metadata": {},
     "outputs": [
      {
       "metadata": {},
       "output_type": "pyout",
       "prompt_number": 113,
       "text": [
        "('!!]',\n",
        " '!!]\"d{bO{>#{P${M%{?${n,{s\\'{>&{T){*\\'{X\\'{@\\'{$\\'{g*{^&{F({!\\'{f*{*\\'{b({+&{P({Y%{%({<&{j\\'{@({F#{J*{X){7&{h({I${j&{<){K&{\"({&&{$${O&{e${u&{>${9${b&{]\\'{m&{!${L&{c){X${]*{<+{w${Y${u&{A%{>&{@*{R({\\'\\'{)-{&&{A+{u${U){)({Z({)&{q+{T%{n${o%{?&{v){7({\\\\({(({\"${U%{;,{!-{^\\'{s){u,{C&{G\\'{M&{X\\'{&%{]%{x,{!({m#{h${V\\'{Q%{\"%{$){3&{?&{C({S&{%*{H%{;({.){C){*&{!+{l\\'{2%{`\\'{Q${N\\'{2\\'{L){Z({G*{4%{h${O%{o\\'{g${G({0({w({G({x){.({q+{#\\'{N${z&{F({f&{,){l){q#{w%{x({<({8({*+{\"\\'{4({s&{X&{F\\'{=')"
       ]
      }
     ],
     "prompt_number": 113
    },
    {
     "cell_type": "code",
     "collapsed": false,
     "input": [
      "rdd = sc.parallelize(cff1, 2).map(lambda x : Voxel(3, x))"
     ],
     "language": "python",
     "metadata": {},
     "outputs": [],
     "prompt_number": 124
    },
    {
     "cell_type": "code",
     "collapsed": true,
     "input": [
      "voxs = rdd.collect()"
     ],
     "language": "python",
     "metadata": {},
     "outputs": []
    },
    {
     "cell_type": "code",
     "collapsed": false,
     "input": [
      "strs = sc0.parallelize(cff1, 2).map(lambda x : Voxel(3, x))"
     ],
     "language": "python",
     "metadata": {},
     "outputs": [],
     "prompt_number": 123
    },
    {
     "cell_type": "code",
     "collapsed": false,
     "input": [
      "class Foo(tuple):\n",
      "\n",
      "    def __new__ (cls, a, b):\n",
      "        return super(Foo, cls).__new__(cls, tuple(b))\n",
      "\n",
      "    def __init__(self, a, b):\n",
      "        super(Foo, self).__init__(a,b)\n",
      "        self.a=a\n",
      "        self.b=b\n",
      "        \n",
      "    def iteritems(self):\n",
      "        return iter([(1, self.a), (1,self.b)])"
     ],
     "language": "python",
     "metadata": {},
     "outputs": [],
     "prompt_number": 155
    },
    {
     "cell_type": "code",
     "collapsed": false,
     "input": [
      "Foo(5, (3,4))"
     ],
     "language": "python",
     "metadata": {},
     "outputs": [
      {
       "metadata": {},
       "output_type": "pyout",
       "prompt_number": 156,
       "text": [
        "(3, 4)"
       ]
      }
     ],
     "prompt_number": 156
    },
    {
     "cell_type": "code",
     "collapsed": false,
     "input": [
      "lts = [\"aaaaa\",\"aaababaab\",\"cdlksfjlk\",\"zsdlfjkah\"]"
     ],
     "language": "python",
     "metadata": {},
     "outputs": [],
     "prompt_number": 1
    },
    {
     "cell_type": "code",
     "collapsed": false,
     "input": [
      "import donuts.deconv.utils as du"
     ],
     "language": "python",
     "metadata": {},
     "outputs": [],
     "prompt_number": 2
    },
    {
     "cell_type": "code",
     "collapsed": false,
     "input": [
      "import donuts.spark.classes as ds"
     ],
     "language": "python",
     "metadata": {},
     "outputs": [],
     "prompt_number": 3
    },
    {
     "cell_type": "code",
     "collapsed": false,
     "input": [
      "def f(x):\n",
      "    return ds.Foo(x)"
     ],
     "language": "python",
     "metadata": {},
     "outputs": [],
     "prompt_number": 4
    },
    {
     "cell_type": "code",
     "collapsed": false,
     "input": [
      "f(lts[1]).a"
     ],
     "language": "python",
     "metadata": {},
     "outputs": [
      {
       "metadata": {},
       "output_type": "pyout",
       "prompt_number": 8,
       "text": [
        "'aaababaab'"
       ]
      }
     ],
     "prompt_number": 8
    },
    {
     "cell_type": "code",
     "collapsed": false,
     "input": [
      "cols = sc.parallelize(lts, 2).map(f).collect()"
     ],
     "language": "python",
     "metadata": {},
     "outputs": [],
     "prompt_number": 6
    },
    {
     "cell_type": "code",
     "collapsed": false,
     "input": [
      "cols[0].a"
     ],
     "language": "python",
     "metadata": {},
     "outputs": [
      {
       "metadata": {},
       "output_type": "pyout",
       "prompt_number": 9,
       "text": [
        "'aaaaa'"
       ]
      }
     ],
     "prompt_number": 9
    },
    {
     "cell_type": "code",
     "collapsed": false,
     "input": [
      "ff = Foo(5, lts[0])"
     ],
     "language": "python",
     "metadata": {},
     "outputs": [],
     "prompt_number": 158
    },
    {
     "cell_type": "code",
     "collapsed": false,
     "input": [
      "str(ff)"
     ],
     "language": "python",
     "metadata": {},
     "outputs": [
      {
       "metadata": {},
       "output_type": "pyout",
       "prompt_number": 133,
       "text": [
        "'(1, 2)'"
       ]
      }
     ],
     "prompt_number": 133
    },
    {
     "cell_type": "code",
     "collapsed": false,
     "input": [
      "import pickle\n"
     ],
     "language": "python",
     "metadata": {},
     "outputs": [],
     "prompt_number": 136
    },
    {
     "cell_type": "code",
     "collapsed": false,
     "input": [
      "si = StringIO()"
     ],
     "language": "python",
     "metadata": {},
     "outputs": [],
     "prompt_number": 137
    },
    {
     "cell_type": "code",
     "collapsed": false,
     "input": [
      "pickle.dump(ff, si)"
     ],
     "language": "python",
     "metadata": {},
     "outputs": [],
     "prompt_number": 138
    },
    {
     "cell_type": "code",
     "collapsed": false,
     "input": [
      "si.getvalue()"
     ],
     "language": "python",
     "metadata": {},
     "outputs": [
      {
       "metadata": {},
       "output_type": "pyout",
       "prompt_number": 143,
       "text": [
        "\"ccopy_reg\\n_reconstructor\\np0\\n(c__main__\\nFoo\\np1\\nc__builtin__\\ntuple\\np2\\n(I1\\nI2\\ntp3\\ntp4\\nRp5\\n(dp6\\nS'a'\\np7\\nI5\\nsS'b'\\np8\\n(I1\\nI2\\ntp9\\nsb.\""
       ]
      }
     ],
     "prompt_number": 143
    },
    {
     "cell_type": "code",
     "collapsed": false,
     "input": [
      "pickler = pickle.Pickler(si)"
     ],
     "language": "python",
     "metadata": {},
     "outputs": [],
     "prompt_number": 144
    },
    {
     "cell_type": "code",
     "collapsed": false,
     "input": [
      "pickler.save_dict(ff)"
     ],
     "language": "python",
     "metadata": {},
     "outputs": [],
     "prompt_number": 159
    },
    {
     "cell_type": "code",
     "collapsed": false,
     "input": [
      "ff.iteritems()"
     ],
     "language": "python",
     "metadata": {},
     "outputs": [
      {
       "metadata": {},
       "output_type": "pyout",
       "prompt_number": 154,
       "text": [
        "<listiterator at 0x7fafa5d88e90>"
       ]
      }
     ],
     "prompt_number": 154
    },
    {
     "cell_type": "code",
     "collapsed": false,
     "input": [
      "def f(x):\n",
      "    return ds.TestClass(x)"
     ],
     "language": "python",
     "metadata": {},
     "outputs": [],
     "prompt_number": 7
    },
    {
     "cell_type": "code",
     "collapsed": false,
     "input": [
      "sc.parallelize([1,2,3]).map(f).collect()"
     ],
     "language": "python",
     "metadata": {},
     "outputs": [
      {
       "metadata": {},
       "output_type": "pyout",
       "prompt_number": 8,
       "text": [
        "[<donuts.spark.classes.TestClass at 0x7f6d1e59b850>,\n",
        " <donuts.spark.classes.TestClass at 0x7f6d1e57df90>,\n",
        " <donuts.spark.classes.TestClass at 0x7f6d1e57dfd0>]"
       ]
      }
     ],
     "prompt_number": 8
    },
    {
     "cell_type": "code",
     "collapsed": false,
     "input": [],
     "language": "python",
     "metadata": {},
     "outputs": [],
     "prompt_number": 169
    },
    {
     "cell_type": "code",
     "collapsed": false,
     "input": [],
     "language": "python",
     "metadata": {},
     "outputs": [],
     "prompt_number": 135
    },
    {
     "cell_type": "code",
     "collapsed": false,
     "input": [],
     "language": "python",
     "metadata": {},
     "outputs": []
    }
   ],
   "metadata": {}
  }
 ]
}