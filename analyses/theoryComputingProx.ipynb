{
 "metadata": {
  "name": "",
  "signature": "sha256:886bb23caaf45f79cf798e080b62cb60da5b2134603eea5d4e5d96ab5f76100d"
 },
 "nbformat": 3,
 "nbformat_minor": 0,
 "worksheets": [
  {
   "cells": [
    {
     "cell_type": "heading",
     "level": 1,
     "metadata": {},
     "source": [
      "Computing the realistic noise model fits"
     ]
    },
    {
     "cell_type": "code",
     "collapsed": false,
     "input": [
      "import os\n",
      "import numpy as np\n",
      "import numpy.random as npr\n",
      "import numpy.linalg as nla\n",
      "import scipy as sp\n",
      "import scipy.stats as spst\n",
      "import scipy.special as sps\n",
      "import matplotlib.pyplot as plt\n",
      "import numpy.random as npr\n",
      "import scipy.optimize as spo\n",
      "import matplotlib as mpl\n",
      "from mpl_toolkits.mplot3d import Axes3D\n",
      "os.chdir(\"..\")\n",
      "import donuts.deconv.utils as du\n",
      "import donuts.deconv.ncx as ncx"
     ],
     "language": "python",
     "metadata": {},
     "outputs": [],
     "prompt_number": 1
    },
    {
     "cell_type": "code",
     "collapsed": false,
     "input": [
      "def bfgssolve(amat,ls,x0,lb=0.0,nd = True): # use LBFS-G to solve, lb = lower bound, nd = numerical derivative\n",
      "    if nd:\n",
      "        def f(x0):\n",
      "            yh = np.dot(amat,x0)\n",
      "            return sum(np.array([ls[i](yh[i]) for i in range(len(yh))]))\n",
      "        def fprime(x0):\n",
      "            yh = np.dot(amat,x0)\n",
      "            rawg= np.array([numderiv(ls[i],yh[i],1e-3) for i in range(len(yh))])\n",
      "            return np.dot(rawg.T,amat)\n",
      "    else:\n",
      "        def f(x0):\n",
      "            yh = np.dot(amat,x0)\n",
      "            return sum(np.array([ls[i](yh[i])[0] for i in range(len(yh))]))\n",
      "        def fprime(x0):\n",
      "            yh = np.dot(amat,x0)\n",
      "            rawg= np.array([ls[i](yh[i])[1] for i in range(len(yh))])\n",
      "            return np.dot(rawg.T,amat)\n",
      "    bounds = [(lb,100.0)] * len(x0)\n",
      "    res = spo.fmin_l_bfgs_b(f,np.squeeze(x0),fprime=fprime,bounds=bounds)\n",
      "    return res\n",
      "\n",
      "def tncsolve(amat,ls,x0,lb=0.0,nd = True): # use TNC to solve, lb = lower bound, nd = numerical derivative\n",
      "    if nd:\n",
      "        def f(x0):\n",
      "            yh = np.dot(amat,x0)\n",
      "            return sum(np.array([ls[i](yh[i]) for i in range(len(yh))]))\n",
      "        def fprime(x0):\n",
      "            yh = np.dot(amat,x0)\n",
      "            rawg= np.array([numderiv(ls[i],yh[i],1e-3) for i in range(len(yh))])\n",
      "            return np.dot(rawg.T,amat)\n",
      "    else:\n",
      "        def f(x0):\n",
      "            yh = np.dot(amat,x0)\n",
      "            return sum(np.array([ls[i](yh[i])[0] for i in range(len(yh))]))\n",
      "        def fprime(x0):\n",
      "            yh = np.dot(amat,x0)\n",
      "            rawg= np.array([ls[i](yh[i])[1] for i in range(len(yh))])\n",
      "            return np.dot(rawg.T,amat)\n",
      "    bounds = [(lb,100.0)] * len(x0)\n",
      "    res = spo.fmin_tnc(f,np.squeeze(x0),fprime=fprime,bounds=bounds)\n",
      "    return res\n",
      "\n",
      "def likelihood_func(ls,amat,true_sigma):\n",
      "    def lk(x0):\n",
      "        yh = np.dot(amat,np.reshape(x0,(-1,1)))/true_sigma\n",
      "        return sum([ls[ii](yh[ii])[0] for ii in range(len(ls))])\n",
      "    return lk"
     ],
     "language": "python",
     "metadata": {},
     "outputs": [],
     "prompt_number": 2
    },
    {
     "cell_type": "markdown",
     "metadata": {},
     "source": [
      "Generate the data"
     ]
    },
    {
     "cell_type": "code",
     "collapsed": false,
     "input": [
      "# setting up measurement vectors and fitting vectors\n",
      "res_bv = 4\n",
      "kappa = 2.5\n",
      "bvecs = np.sqrt(kappa) * du.geosphere(res_bv)\n",
      "n = np.shape(bvecs)[0]\n",
      "print(\"Number of measurement directions is \"+str(n))\n",
      "sgrid = du.geosphere(8)\n",
      "sgrid = sgrid[sgrid[:,2] >= 0,:]\n",
      "pp = np.shape(sgrid)[0]\n",
      "print(\"Number of candidate directions is \"+str(pp))\n",
      "# do you want plots?\n",
      "plotsignal = True"
     ],
     "language": "python",
     "metadata": {},
     "outputs": [
      {
       "output_type": "stream",
       "stream": "stdout",
       "text": [
        "Number of measurement directions is 162\n",
        "Number of candidate directions is 341\n"
       ]
      }
     ],
     "prompt_number": 3
    },
    {
     "cell_type": "code",
     "collapsed": false,
     "input": [
      "# randomly generate parameters\n",
      "amat = du.ste_tan_kappa(sgrid,bvecs)\n",
      "true_sigma = 0.12\n",
      "bt0 = np.absolute(npr.normal(0,1,pp)) * npr.binomial(1,3.0/pp,pp)\n",
      "df = 10\n",
      "mu = np.dot(amat,bt0)\n",
      "musq = (mu/true_sigma)**2\n",
      "ysq = spst.ncx2.rvs(df,musq)\n",
      "ysq2s = [spst.ncx2.rvs(df,musq) for ii in range(100)]# used for validation error\n",
      "ysq2 = musq+df\n",
      "y = np.sqrt(ysq)*true_sigma\n",
      "# plot the noiseless signal\n",
      "if plotsignal:\n",
      "    zz = np.squeeze(y)\n",
      "    fig = plt.figure()\n",
      "    ax = fig.gca(projection='3d')\n",
      "    ax.scatter(zz*bvecs[:,0],zz*bvecs[:,1],zz*bvecs[:,2])\n",
      "    plt.show()"
     ],
     "language": "python",
     "metadata": {},
     "outputs": [],
     "prompt_number": 4
    },
    {
     "cell_type": "code",
     "collapsed": false,
     "input": [
      "# get the NNLS solution\n",
      "df = 10\n",
      "ls_gauss = [ncx.ncxloss_gauss(y,df) for y in ysq]\n",
      "ls_mean = [ncx.ncxloss_mean(y,df) for y in ysq]\n",
      "ls_true = [ncx.ncxloss_true(y,df) for y in ysq]\n",
      "bt = np.squeeze(spo.nnls(amat,np.squeeze(np.sqrt(ysq)))[0])\n",
      "yh_nnls = np.dot(amat,bt)\n",
      "sigma2_nnls = nla.norm(du.column(np.sqrt(ysq)) - du.column(yh_nnls))**2/n\n",
      "yhsq_nnls = du.column(yh_nnls**2) + sigma2_nnls\n",
      "lk_gauss = likelihood_func(ls_gauss,amat,true_sigma)\n",
      "lk_mean = likelihood_func(ls_mean,amat,true_sigma)\n",
      "lk_true = likelihood_func(ls_true,amat,true_sigma)"
     ],
     "language": "python",
     "metadata": {},
     "outputs": [],
     "prompt_number": 23
    },
    {
     "cell_type": "code",
     "collapsed": false,
     "input": [
      "# get the nonlinear Gaussian approximation\n",
      "res_gauss =tncsolve(amat,ls_gauss,np.array(bt/true_sigma),0.0,False)\n",
      "bt_gauss= res_gauss[0]*true_sigma\n",
      "res_gauss_cht =tncsolve(amat,ls_gauss,np.array(bt0/true_sigma),0.0,False)\n",
      "bt_gauss_cht= res_gauss_cht[0]*true_sigma"
     ],
     "language": "python",
     "metadata": {},
     "outputs": [],
     "prompt_number": 6
    },
    {
     "cell_type": "code",
     "collapsed": false,
     "input": [
      "#res_true =tncsolve(amat,ls_true,np.array(bt_gauss/true_sigma),0.0,False)\n",
      "#bt_true= res_true[0]*true_sigma"
     ],
     "language": "python",
     "metadata": {},
     "outputs": [],
     "prompt_number": 71
    },
    {
     "cell_type": "code",
     "collapsed": false,
     "input": [
      "def loss_emd(x0):\n",
      "    return du.arc_emd(sgrid,ncx.column(bt0),sgrid,ncx.column(x0))\n",
      "def loss_mse(x0):\n",
      "    yhsq = np.squeeze((np.dot(amat,ncx.column(x0))/true_sigma)**2) + df\n",
      "    return np.mean(np.array([nla.norm(yhsq-np.squeeze(ysq2))**2/n for ysq2 in ysq2s]))\n",
      "#def loss_mse(x0):\n",
      "#    yh = np.squeeze(np.dot(amat,ncx.column(x0)))\n",
      "#    return nla.norm(yh-mu)**2/n\n",
      "loss_emd(bt0),loss_emd(bt),loss_emd(bt_gauss),loss_emd(bt_gauss_cht)#,loss_emd(bt_true)\n",
      "loss_mse(bt0),nla.norm(yhsq_nnls-du.column(ysq))**2,loss_mse(bt_gauss),loss_mse(bt_gauss_cht)"
     ],
     "language": "python",
     "metadata": {},
     "outputs": [
      {
       "metadata": {},
       "output_type": "pyout",
       "prompt_number": 24,
       "text": [
        "(113.16517096805579,\n",
        " 13227.109536938118,\n",
        " 114.98042656102687,\n",
        " 113.52960620883439)"
       ]
      }
     ],
     "prompt_number": 24
    },
    {
     "cell_type": "code",
     "collapsed": false,
     "input": [],
     "language": "python",
     "metadata": {},
     "outputs": []
    },
    {
     "cell_type": "code",
     "collapsed": false,
     "input": [
      "lk_true(bt0),lk_true(bt_gauss)"
     ],
     "language": "python",
     "metadata": {},
     "outputs": [
      {
       "metadata": {},
       "output_type": "pyout",
       "prompt_number": 65,
       "text": [
        "(-inf, -inf)"
       ]
      }
     ],
     "prompt_number": 65
    },
    {
     "cell_type": "code",
     "collapsed": false,
     "input": [
      "lk_gauss(bt0),lk_gauss(bt),lk_gauss(bt_gauss),lk_gauss(bt_gauss_cht)"
     ],
     "language": "python",
     "metadata": {},
     "outputs": [
      {
       "metadata": {},
       "output_type": "pyout",
       "prompt_number": 66,
       "text": [
        "(array([ 1710.56062366]), array([  1.04919383e+09]), array([ 1700.87255365]))"
       ]
      }
     ],
     "prompt_number": 66
    },
    {
     "cell_type": "code",
     "collapsed": false,
     "input": [
      "np.mean(ysq),np.mean(musq)+df"
     ],
     "language": "python",
     "metadata": {},
     "outputs": [
      {
       "metadata": {},
       "output_type": "pyout",
       "prompt_number": 99,
       "text": [
        "(762.12492780897207, 761.1374130776361)"
       ]
      }
     ],
     "prompt_number": 99
    },
    {
     "cell_type": "code",
     "collapsed": false,
     "input": [
      "zip(np.dot(amat,bt0),mu)\n",
      "yh = np.dot(amat,ncx.column(bt_gauss))\n",
      "#zip(np.dot(amat,bt0),mu,yh)"
     ],
     "language": "python",
     "metadata": {},
     "outputs": [
      {
       "metadata": {},
       "output_type": "pyout",
       "prompt_number": 117,
       "text": [
        "5.7501178575358542"
       ]
      }
     ],
     "prompt_number": 117
    },
    {
     "cell_type": "code",
     "collapsed": false,
     "input": [],
     "language": "python",
     "metadata": {},
     "outputs": []
    },
    {
     "cell_type": "code",
     "collapsed": false,
     "input": [
      "# developing Gauss-newton\n",
      "def gauss_newton(amat,x0,df,sigma):\n",
      "    "
     ],
     "language": "python",
     "metadata": {},
     "outputs": []
    }
   ],
   "metadata": {}
  }
 ]
}