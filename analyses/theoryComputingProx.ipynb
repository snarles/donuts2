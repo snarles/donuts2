{
 "metadata": {
  "name": "",
  "signature": "sha256:29bf686a96f2f7b5d987bb2379cc2ba06643c8849719cf965c41a8cc9493e74f"
 },
 "nbformat": 3,
 "nbformat_minor": 0,
 "worksheets": [
  {
   "cells": [
    {
     "cell_type": "heading",
     "level": 1,
     "metadata": {},
     "source": [
      "Computing the realistic noise model fits"
     ]
    },
    {
     "cell_type": "code",
     "collapsed": false,
     "input": [
      "import os\n",
      "import numpy as np\n",
      "import numpy.random as npr\n",
      "import numpy.linalg as nla\n",
      "import scipy as sp\n",
      "import scipy.stats as spst\n",
      "import scipy.special as sps\n",
      "import matplotlib.pyplot as plt\n",
      "import numpy.random as npr\n",
      "import scipy.optimize as spo\n",
      "import matplotlib as mpl\n",
      "from mpl_toolkits.mplot3d import Axes3D\n",
      "os.chdir(\"..\")\n",
      "import donuts.deconv.utils as du\n",
      "import donuts.deconv.ncx as ncx"
     ],
     "language": "python",
     "metadata": {},
     "outputs": [],
     "prompt_number": 1
    },
    {
     "cell_type": "code",
     "collapsed": false,
     "input": [
      "\n",
      "def tncsolve(amat,ls,x0,lb=0.0,ft = 1e-3): # use TNC to solve, lb = lower bound\n",
      "    def f(x0):\n",
      "        yh = np.dot(amat,x0)\n",
      "        return sum(np.array([ls[i](yh[i])[0] for i in range(len(yh))]))\n",
      "    def fprime(x0):\n",
      "        yh = np.dot(amat,x0)\n",
      "        rawg= np.array([ls[i](yh[i])[1] for i in range(len(yh))])\n",
      "        return np.dot(rawg.T,amat)\n",
      "    bounds = [(lb,100.0)] * len(x0)\n",
      "    res = spo.fmin_tnc(f,np.squeeze(x0),fprime=fprime,bounds=bounds,ftol=ft)\n",
      "    return res[0]\n",
      "\n",
      "def likelihood_func(ls,amat):\n",
      "    def lk(x0):\n",
      "        yh = np.dot(amat,np.reshape(x0,(-1,1)))\n",
      "        return sum([ls[ii](yh[ii])[0] for ii in range(len(ls))])\n",
      "    return lk\n"
     ],
     "language": "python",
     "metadata": {},
     "outputs": [],
     "prompt_number": 130
    },
    {
     "cell_type": "code",
     "collapsed": false,
     "input": [
      "def gd_solve_it(amat,ls,x0,eps): # iteration of gradient descent\n",
      "    yh = np.squeeze(np.dot(amat,x0))\n",
      "    def lks(mu):\n",
      "        res = [ls[ii](mu[ii]) for ii in range(len(ls))]\n",
      "        vals = np.array([v[0] for v in res])\n",
      "        lk0 = sum(vals)\n",
      "        ds = np.array([v[1] for v in res])\n",
      "        d2s = np.array([v[2] for v in res])\n",
      "        return lk0,ds,d2s\n",
      "    lk0,ds,d2s = lks(yh)\n",
      "    grad = np.dot(amat.T, ds)\n",
      "    x1 = x0 - eps*grad\n",
      "    x1[x1 < 0] = 0\n",
      "    return x1\n",
      "\n",
      "def gd_activeset(amat,ls,x0,eps,nits=10,asnits=5):\n",
      "    x0 = np.array(bt_cnnls) + 0.01 * npr.normal(0,1,pp)\n",
      "    for ii in range(nits):\n",
      "        x1 = gd_solve_it(amat,ls_gauss,x0,eps/(ii+1))\n",
      "        s = (x1 > 0)\n",
      "        x1s = x1[s]\n",
      "        for jj in range(asnits):\n",
      "            #x2s = nnnr_solve_it(amat[:,s],ls_gauss,x1s,eps/(ii+1))\n",
      "            x2s = tncsolve(amat[:,s],ls_gauss,x1s)\n",
      "            x1s = np.array(x2s)\n",
      "        x1[s] = x2s\n",
      "        #print lk_gauss(x1), sum(x1 > 0), loss_mse(x1),loss_emd(x1)\n",
      "        x0 = np.array(x1)\n",
      "    return x1"
     ],
     "language": "python",
     "metadata": {},
     "outputs": [],
     "prompt_number": 122
    },
    {
     "cell_type": "code",
     "collapsed": false,
     "input": [
      "def s_nnnr_solve_it(amat,ls,x0,eps): # iteration of non-negative Newton-Raphson (Stochastic hessian)\n",
      "    pp = np.shape(amat)[1]\n",
      "    yh = np.squeeze(np.dot(amat,x0))\n",
      "    def lks(mu):\n",
      "        res = [ls[ii](mu[ii]) for ii in range(len(ls))]\n",
      "        vals = np.array([v[0] for v in res])\n",
      "        lk0 = sum(vals)\n",
      "        ds = np.array([v[1] for v in res])\n",
      "        d2s = np.array([v[2] for v in res])\n",
      "        return lk0,ds,d2s\n",
      "    lk0,ds,d2s = lks(yh)\n",
      "    inds = npr.permutation(n)[:100]\n",
      "    grad = np.dot(amat[inds,:].T, ds[inds])\n",
      "    hess = np.dot(np.dot(amat[inds,:].T, np.diag(d2s[inds])),amat[inds,:])\n",
      "    mod_hess = eps*hess + np.eye(pp)\n",
      "    mod_grad = eps*grad - np.dot(mod_hess,x0)\n",
      "    x1 = spo.nnls(mod_hess,-mod_grad)[0]\n",
      "    return x1"
     ],
     "language": "python",
     "metadata": {},
     "outputs": [],
     "prompt_number": 15
    },
    {
     "cell_type": "code",
     "collapsed": false,
     "input": [
      "def nnnr_lazy_it(amat,ls,x0,eps,nits=10,hnits = 5): # updates the hessian lazily\n",
      "    pp = np.shape(amat)[1]\n",
      "    yh = np.squeeze(np.dot(amat,x0))\n",
      "    def lks(mu):\n",
      "        res = [ls[ii](mu[ii]) for ii in range(len(ls))]\n",
      "        vals = np.array([v[0] for v in res])\n",
      "        lk0 = sum(vals)\n",
      "        ds = np.array([v[1] for v in res])\n",
      "        d2s = np.array([v[2] for v in res])\n",
      "        return lk0,ds,d2s\n",
      "    lk0,ds,d2s = lks(yh)\n",
      "    hess = np.dot(np.dot(amat.T, np.diag(d2s)),amat)\n",
      "    for j in range(hnits):\n",
      "        grad = np.dot(amat.T, ds)\n",
      "        mod_hess = eps*hess + np.eye(pp)\n",
      "        mod_grad = eps*grad - np.dot(mod_hess,x0)\n",
      "        x0 = spo.nnls(mod_hess,-mod_grad)[0]\n",
      "    return x0"
     ],
     "language": "python",
     "metadata": {},
     "outputs": [],
     "prompt_number": 53
    },
    {
     "cell_type": "code",
     "collapsed": false,
     "input": [
      "def nnnr_solve_it(amat,ls,x0,eps): # iteration of non-negative Newton-Raphson\n",
      "    pp = np.shape(amat)[1]\n",
      "    yh = np.squeeze(np.dot(amat,x0))\n",
      "    def lks(mu):\n",
      "        res = [ls[ii](mu[ii]) for ii in range(len(ls))]\n",
      "        vals = np.array([v[0] for v in res])\n",
      "        lk0 = sum(vals)\n",
      "        ds = np.array([v[1] for v in res])\n",
      "        d2s = np.array([v[2] for v in res])\n",
      "        return lk0,ds,d2s\n",
      "    lk0,ds,d2s = lks(yh)\n",
      "    grad = np.dot(amat.T, ds)\n",
      "    hess = np.dot(np.dot(amat.T, np.diag(d2s)),amat)\n",
      "    mod_hess = eps*hess + np.eye(pp)\n",
      "    mod_grad = eps*grad - np.dot(mod_hess,x0)\n",
      "    x1 = spo.nnls(mod_hess,-mod_grad)[0]\n",
      "    return x1\n",
      "\n",
      "def nnnr_activeset(amat,ls,x0,eps,nits=10,asnits=5):\n",
      "    x0 = np.array(bt_cnnls) + 0.01 * npr.normal(0,1,pp)\n",
      "    for ii in range(nits):\n",
      "        x1 = nnnr_solve_it(amat,ls_gauss,x0,eps)\n",
      "        s = (x1 > 0)\n",
      "        x1s = x1[s]\n",
      "        for jj in range(asnits):\n",
      "            #x2s = nnnr_solve_it(amat[:,s],ls_gauss,x1s,eps/(ii+1))\n",
      "            x2s = tncsolve(amat[:,s],ls_gauss,x1s,1e-3)\n",
      "            x1s = np.array(x2s)\n",
      "        x1[s] = x2s\n",
      "        #print lk_gauss(x1), sum(x1 > 0), loss_mse(x1),loss_emd(x1)\n",
      "        x0 = np.array(x1)\n",
      "    return x1"
     ],
     "language": "python",
     "metadata": {},
     "outputs": [],
     "prompt_number": 139
    },
    {
     "cell_type": "code",
     "collapsed": false,
     "input": [
      "bt_nnnr = nnnr_activeset(amat,ls_gauss,np.array(bt_cnnls),1e-2,nits=3,asnits=1)\n",
      "lk_gauss(bt_nnnr)"
     ],
     "language": "python",
     "metadata": {},
     "outputs": [
      {
       "metadata": {},
       "output_type": "pyout",
       "prompt_number": 69,
       "text": [
        "array([ 19.51236333])"
       ]
      }
     ],
     "prompt_number": 69
    },
    {
     "cell_type": "code",
     "collapsed": false,
     "input": [
      "eps = 1e-8\n",
      "x0 = np.array(x1)\n",
      "ls=ls_gauss\n",
      "yh = np.squeeze(np.dot(amat,x0))\n",
      "def lks(mu):\n",
      "    res = [ls[ii](mu[ii]) for ii in range(len(ls))]\n",
      "    vals = np.array([v[0] for v in res])\n",
      "    lk0 = sum(vals)\n",
      "    ds = np.array([v[1] for v in res])\n",
      "    d2s = np.array([v[2] for v in res])\n",
      "    return lk0,ds,d2s\n",
      "lk0,ds,d2s = lks(yh)\n",
      "grad = np.dot(amat.T, ds)\n",
      "hess = np.dot(np.dot(amat.T, np.diag(d2s)),amat)\n",
      "mod_hess = eps*hess + np.eye(pp)\n",
      "mod_grad = eps*grad - np.dot(mod_hess,x0)\n",
      "x1 = spo.nnls(mod_hess,-mod_grad)[0]\n",
      "dx = x1-x0"
     ],
     "language": "python",
     "metadata": {},
     "outputs": [],
     "prompt_number": 106
    },
    {
     "cell_type": "code",
     "collapsed": false,
     "input": [
      "lks(yh)[0]"
     ],
     "language": "python",
     "metadata": {},
     "outputs": [
      {
       "metadata": {},
       "output_type": "pyout",
       "prompt_number": 102,
       "text": [
        "46.987405582441397"
       ]
      }
     ],
     "prompt_number": 102
    },
    {
     "cell_type": "code",
     "collapsed": false,
     "input": [
      "lks(yh -1e-8*np.dot(amat,grad))[0]"
     ],
     "language": "python",
     "metadata": {},
     "outputs": [
      {
       "metadata": {},
       "output_type": "pyout",
       "prompt_number": 104,
       "text": [
        "46.987373385203384"
       ]
      }
     ],
     "prompt_number": 104
    },
    {
     "cell_type": "code",
     "collapsed": false,
     "input": [
      "lks(yh +np.dot(amat,dx))[0]"
     ],
     "language": "python",
     "metadata": {},
     "outputs": [
      {
       "metadata": {},
       "output_type": "pyout",
       "prompt_number": 110,
       "text": [
        "46.987405544350175"
       ]
      }
     ],
     "prompt_number": 110
    },
    {
     "cell_type": "code",
     "collapsed": false,
     "input": [
      "x1 = nnnr_solve_it(amat,ls_gauss,x0,eps)\n",
      "lk_gauss(x1)"
     ],
     "language": "python",
     "metadata": {},
     "outputs": [
      {
       "metadata": {},
       "output_type": "pyout",
       "prompt_number": 111,
       "text": [
        "array([ 46.98740554])"
       ]
      }
     ],
     "prompt_number": 111
    },
    {
     "cell_type": "code",
     "collapsed": false,
     "input": [],
     "language": "python",
     "metadata": {},
     "outputs": []
    },
    {
     "cell_type": "code",
     "collapsed": false,
     "input": [
      "# try active set\n",
      "nits = 10\n",
      "asnits = 1\n",
      "eps = 1e-8\n",
      "x0 = np.array(bt_cnnls)\n",
      "for ii in range(nits):\n",
      "    x1 = gd_solve_it(amat,ls_gauss,x0,eps)\n",
      "    #print \"m\",lk_gauss(x1), sum(x1 > 0), loss_mse(x1),loss_emd(x1)\n",
      "    s = (x1 > 0)\n",
      "    x1s = x1[s]\n",
      "    for jj in range(asnits):\n",
      "        #x2s = nnnr_solve_it(amat[:,s],ls_gauss,x1s,eps/(ii+1))\n",
      "        x2s = tncsolve(amat[:,s],ls_gauss,x1s)\n",
      "        x1s = np.array(x2s)\n",
      "    x1[s] = x2s\n",
      "    print lk_gauss(x1), sum(x1 > 0), loss_mse(x1),loss_emd(x1)\n",
      "    x0 = np.array(x1)"
     ],
     "language": "python",
     "metadata": {},
     "outputs": [
      {
       "output_type": "stream",
       "stream": "stdout",
       "text": [
        "[ 46.98721088] 23 3.07988235677 0.202696114779\n",
        "[ 46.96863133]"
       ]
      },
      {
       "output_type": "stream",
       "stream": "stdout",
       "text": [
        " 25 3.09649396532 0.202358990908\n",
        "[ 46.96855275]"
       ]
      },
      {
       "output_type": "stream",
       "stream": "stdout",
       "text": [
        " 25 3.09607331104 0.202333286405\n",
        "[ 46.96752867]"
       ]
      },
      {
       "output_type": "stream",
       "stream": "stdout",
       "text": [
        " 24 3.0846791999 0.20237711072\n",
        "[ 46.96673109]"
       ]
      },
      {
       "output_type": "stream",
       "stream": "stdout",
       "text": [
        " 23 3.08996199623 0.202317878604\n",
        "[ 46.96637153]"
       ]
      },
      {
       "output_type": "stream",
       "stream": "stdout",
       "text": [
        " 23 3.09559056082 0.202324479818\n",
        "[ 46.96620242]"
       ]
      },
      {
       "output_type": "stream",
       "stream": "stdout",
       "text": [
        " 23 3.09065772691 0.202274039388\n",
        "[ 46.96605614]"
       ]
      },
      {
       "output_type": "stream",
       "stream": "stdout",
       "text": [
        " 23 3.09359531399 0.202146321535\n",
        "[ 46.96596451]"
       ]
      },
      {
       "output_type": "stream",
       "stream": "stdout",
       "text": [
        " 23 3.09327360985 0.202161982656\n",
        "[ 46.96563717]"
       ]
      },
      {
       "output_type": "stream",
       "stream": "stdout",
       "text": [
        " 23 3.09780857855 0.201969578862\n"
       ]
      }
     ],
     "prompt_number": 121
    },
    {
     "cell_type": "code",
     "collapsed": false,
     "input": [
      "x0 = np.array(bt_cnnls) + 0.01 * npr.normal(0,1,pp)\n",
      "eps = 1e-2\n",
      "for ii in range(100):\n",
      "    x1 = nnnr_solve_it(amat,ls_gauss,x0,eps/(1+ii))\n",
      "    if ii % 10 ==0:\n",
      "        print lk_gauss(x1), sum(x1 > 0), loss_mse(x1),loss_emd(x1)\n",
      "    x0 = x1"
     ],
     "language": "python",
     "metadata": {},
     "outputs": [
      {
       "output_type": "stream",
       "stream": "stdout",
       "text": [
        "[ 22.10697054] 34 3.74759526168 0.255875140429\n",
        "[ 19.77791027]"
       ]
      },
      {
       "output_type": "stream",
       "stream": "stdout",
       "text": [
        " 37 3.84387891872 0.263551384211\n",
        "[ 19.71538304]"
       ]
      },
      {
       "output_type": "stream",
       "stream": "stdout",
       "text": [
        " 35 3.83535509803 0.263953536749\n",
        "[ 19.68348046]"
       ]
      },
      {
       "output_type": "stream",
       "stream": "stdout",
       "text": [
        " 35 3.8315877614 0.264234632254\n",
        "[ 19.66219743]"
       ]
      },
      {
       "output_type": "stream",
       "stream": "stdout",
       "text": [
        " 35 3.8291124686 0.264441847801\n",
        "[ 19.64679605]"
       ]
      },
      {
       "output_type": "stream",
       "stream": "stdout",
       "text": [
        " 35 3.82737001563 0.264603316784\n",
        "[ 19.63500705]"
       ]
      },
      {
       "output_type": "stream",
       "stream": "stdout",
       "text": [
        " 35 3.82607206945 0.264733612537\n",
        "[ 19.62560553]"
       ]
      },
      {
       "output_type": "stream",
       "stream": "stdout",
       "text": [
        " 35 3.82505860232 0.264841616154\n",
        "[ 19.61787327]"
       ]
      },
      {
       "output_type": "stream",
       "stream": "stdout",
       "text": [
        " 34 3.82432993155 0.264935553074\n",
        "[ 19.6114046]"
       ]
      },
      {
       "output_type": "stream",
       "stream": "stdout",
       "text": [
        " 33 3.82552164738 0.265049934387\n"
       ]
      }
     ],
     "prompt_number": 56
    },
    {
     "cell_type": "code",
     "collapsed": false,
     "input": [
      "x0 = np.array(bt_cnnls)\n",
      "yh = np.squeeze(np.dot(amat,x0))\n",
      "def lks(mu):\n",
      "    res = [ls[ii](mu[ii]) for ii in range(len(ls))]\n",
      "    vals = np.array([v[0] for v in res])\n",
      "    lk0 = sum(vals)\n",
      "    ds = np.array([v[1] for v in res])\n",
      "    d2s = np.array([v[2] for v in res])\n",
      "    return lk0,ds,d2s\n",
      "lk0,ds,d2s = lks(yh)\n",
      "0"
     ],
     "language": "python",
     "metadata": {},
     "outputs": [
      {
       "metadata": {},
       "output_type": "pyout",
       "prompt_number": 123,
       "text": [
        "0"
       ]
      }
     ],
     "prompt_number": 123
    },
    {
     "cell_type": "markdown",
     "metadata": {},
     "source": [
      "Generate the data"
     ]
    },
    {
     "cell_type": "code",
     "collapsed": false,
     "input": [
      "# setting up measurement vectors and fitting vectors\n",
      "res_bv = 4\n",
      "kappa = 4.0\n",
      "true_kappa = 3.0\n",
      "bvecs = np.sqrt(kappa) * du.geosphere(res_bv)\n",
      "bvecs0 = np.sqrt(true_kappa) * du.geosphere(res_bv)\n",
      "n = np.shape(bvecs)[0]\n",
      "print(\"Number of measurement directions is \"+str(n))\n",
      "sgrid = du.geosphere(12)\n",
      "sgrid = sgrid[sgrid[:,2] >= 0,:]\n",
      "pp = np.shape(sgrid)[0]\n",
      "print(\"Number of candidate directions is \"+str(pp))\n",
      "# do you want plots?\n",
      "plotsignal = True"
     ],
     "language": "python",
     "metadata": {},
     "outputs": [
      {
       "output_type": "stream",
       "stream": "stdout",
       "text": [
        "Number of measurement directions is 162\n",
        "Number of candidate directions is 731\n"
       ]
      }
     ],
     "prompt_number": 142
    },
    {
     "cell_type": "code",
     "collapsed": false,
     "input": [
      "# randomly generate parameters\n",
      "true_k = 3\n",
      "amat0 = du.ste_tan_kappa(sgrid,bvecs0)\n",
      "amat = du.ste_tan_kappa(sgrid,bvecs)\n",
      "true_sigma = 0.1\n",
      "#bt0 = np.absolute(npr.normal(0,1,pp)) * npr.binomial(1,3.0/pp,pp)\n",
      "bt0 = np.zeros(pp)\n",
      "bt0[npr.randint(0,pp-1,true_k)]=1.0\n",
      "df = 30\n",
      "c0 = df*true_sigma**2\n",
      "mu = np.dot(amat0,bt0)\n",
      "y0 = mu**2 + true_sigma**2*df\n",
      "y = ncx.rvs_ncx2(df,mu,0,true_sigma)\n",
      "def loss_emd(x0):\n",
      "    return du.arc_emd(sgrid,ncx.column(bt0),sgrid,ncx.column(x0))\n",
      "def loss_mse(x0):\n",
      "    yh = np.squeeze(np.dot(amat,ncx.column(x0))**2) + true_sigma**2 * df\n",
      "    return nla.norm(np.squeeze(y0)-np.squeeze(yh))**2\n",
      "#y = y0\n",
      "# plot the noiseless signal\n",
      "if plotsignal:\n",
      "    zz = np.squeeze(y0)\n",
      "    #zz = np.ones(n)\n",
      "    fig = plt.figure()\n",
      "    ax = fig.gca(projection='3d')\n",
      "    ax.scatter(zz*bvecs[:,0],zz*bvecs[:,1],zz*bvecs[:,2])\n",
      "    plt.show()\n",
      "    print c0"
     ],
     "language": "python",
     "metadata": {},
     "outputs": [
      {
       "output_type": "stream",
       "stream": "stdout",
       "text": [
        "0.3\n"
       ]
      }
     ],
     "prompt_number": 143
    },
    {
     "cell_type": "code",
     "collapsed": false,
     "input": [
      "# penalized NNLS solution with constant term\n",
      "yp = np.hstack([np.squeeze(y),0.0])\n",
      "l1p = 0.0\n",
      "amatc = np.hstack([np.ones((n+1,1)),np.vstack([amat,l1p * np.ones((1,pp))])])\n",
      "cbt_cnnls = np.squeeze(spo.nnls(amatc,np.squeeze(np.sqrt(yp)))[0])\n",
      "bt_cnnls = cbt_cnnls[1:]\n",
      "c_cnnls = cbt_cnnls[0]\n",
      "mu_cnnls = np.dot(amat,bt_cnnls)+c_cnnls\n",
      "sigma2_cnnls = nla.norm(du.column(np.sqrt(y)) - du.column(mu_cnnls))**2/n\n",
      "yh_cnnls = du.column(mu_cnnls**2) + sigma2_cnnls\n",
      "mse_cnnls = nla.norm(np.squeeze(y0) - np.squeeze(yh_cnnls))**2\n",
      "print mse_cnnls, loss_emd(bt_cnnls), c_cnnls"
     ],
     "language": "python",
     "metadata": {},
     "outputs": [
      {
       "output_type": "stream",
       "stream": "stdout",
       "text": [
        "1.47272293996 0.261630684137 0.0\n"
       ]
      }
     ],
     "prompt_number": 144
    },
    {
     "cell_type": "code",
     "collapsed": false,
     "input": [
      "# get the nonlinear Gaussian approximation\n",
      "est_sigma = 0.1\n",
      "ls_gauss = [ncx.ncxloss_gauss(yy,df,est_sigma) for yy in y]\n",
      "lk_gauss = likelihood_func(ls_gauss,amat)\n",
      "bt_gauss =tncsolve(amat,ls_gauss,np.array(bt_cnnls),0.0,1e-5)\n",
      "mu_gauss = np.dot(amat,bt_gauss)\n",
      "yh_gauss = mu_gauss**2 + c0\n",
      "mse_gauss =  nla.norm(np.squeeze(y0) - np.squeeze(yh_gauss))**2\n",
      "print loss_mse(bt_gauss), loss_emd(bt_gauss), lk_gauss(bt_gauss), sum(bt_gauss > 0)"
     ],
     "language": "python",
     "metadata": {},
     "outputs": [
      {
       "output_type": "stream",
       "stream": "stdout",
       "text": [
        "1.12076800424 0.20382630825 [ 19.71330841] 25\n"
       ]
      }
     ],
     "prompt_number": 152
    },
    {
     "cell_type": "code",
     "collapsed": false,
     "input": [
      "% timeit tncsolve(amat,ls_gauss,np.array(bt_cnnls),0.0,1e-5)"
     ],
     "language": "python",
     "metadata": {},
     "outputs": [
      {
       "output_type": "stream",
       "stream": "stdout",
       "text": [
        "1 loops, best of 3: 20.8 s per loop\n"
       ]
      }
     ],
     "prompt_number": 153
    },
    {
     "cell_type": "code",
     "collapsed": false,
     "input": [
      "# use nnnr active set\n",
      "bt_nnnr = nnnr_activeset(amat,ls_gauss,np.array(bt_cnnls),1e-8,nits=10,asnits=1)\n",
      "print loss_mse(bt_nnnr), loss_emd(bt_nnnr),lk_gauss(bt_nnnr), sum(bt_nnnr > 0)"
     ],
     "language": "python",
     "metadata": {},
     "outputs": [
      {
       "output_type": "stream",
       "stream": "stdout",
       "text": [
        "1.14283597235 0.195285573602 [ 25.56100362] 485\n"
       ]
      }
     ],
     "prompt_number": 147
    },
    {
     "cell_type": "code",
     "collapsed": false,
     "input": [
      "% timeit nnnr_activeset(amat,ls_gauss,np.array(bt_cnnls),1e-8,nits=6,asnits=1)"
     ],
     "language": "python",
     "metadata": {},
     "outputs": [
      {
       "output_type": "stream",
       "stream": "stdout",
       "text": [
        "1 loops, best of 3: 3.93 s per loop\n"
       ]
      }
     ],
     "prompt_number": 133
    },
    {
     "cell_type": "heading",
     "level": 2,
     "metadata": {},
     "source": [
      "Plots of the solutions"
     ]
    },
    {
     "cell_type": "code",
     "collapsed": false,
     "input": [
      "plt.scatter(y0,yh_nnls)\n",
      "plt.scatter(y0,yh_nngn,color=\"red\")\n",
      "#plt.scatter(y0,yh_pnnls,color=\"purple\")\n",
      "#plt.scatter(y0,yh_pnngn,color=\"orange\")\n",
      "plt.show()"
     ],
     "language": "python",
     "metadata": {},
     "outputs": [],
     "prompt_number": 132
    },
    {
     "cell_type": "code",
     "collapsed": false,
     "input": [
      "print (sigma2_nnls,true_sigma**2 * df)\n",
      "print (c_nngn, true_sigma**2 * df)"
     ],
     "language": "python",
     "metadata": {},
     "outputs": [
      {
       "output_type": "stream",
       "stream": "stdout",
       "text": [
        "(9.2836852703981321e-05, 0.001)\n",
        "(0.0, 0.001)\n"
       ]
      }
     ],
     "prompt_number": 71
    },
    {
     "cell_type": "code",
     "collapsed": false,
     "input": [
      "bt = np.squeeze(spo.nnls(amat,np.squeeze(mu))[0])\n",
      "muh = np.dot(amat,bt)\n",
      "plt.scatter(mu,muh); plt.show()"
     ],
     "language": "python",
     "metadata": {},
     "outputs": [],
     "prompt_number": 55
    },
    {
     "cell_type": "code",
     "collapsed": false,
     "input": [
      "#res_true =tncsolve(amat,ls_true,np.array(bt_gauss/true_sigma),0.0,False)\n",
      "#bt_true= res_true[0]*true_sigma"
     ],
     "language": "python",
     "metadata": {},
     "outputs": []
    },
    {
     "cell_type": "code",
     "collapsed": false,
     "input": [
      "def loss_emd(x0):\n",
      "    return du.arc_emd(sgrid,ncx.column(bt0),sgrid,ncx.column(x0))\n",
      "def loss_mse(x0):\n",
      "    yh = np.squeeze(np.dot(amat,ncx.column(x0))**2) + sigma**2 * df\n",
      "    return nla.norm(np.squeeze(y0)-np.squeeze(yh))**2\n",
      "#def loss_mse(x0):\n",
      "#    yh = np.squeeze(np.dot(amat,ncx.column(x0)))\n",
      "#    return nla.norm(yh-mu)**2/n\n",
      "loss_emd(bt0),loss_emd(bt),loss_emd(bt_gauss),loss_emd(bt_gauss_cht)#,loss_emd(bt_true)\n",
      "loss_mse(bt0),nla.norm(yhsq_nnls-du.column(ysq))**2,loss_mse(bt_gauss),loss_mse(bt_gauss_cht)"
     ],
     "language": "python",
     "metadata": {},
     "outputs": []
    },
    {
     "cell_type": "code",
     "collapsed": false,
     "input": [],
     "language": "python",
     "metadata": {},
     "outputs": []
    },
    {
     "cell_type": "code",
     "collapsed": false,
     "input": [
      "lk_true(bt0),lk_true(bt_gauss)"
     ],
     "language": "python",
     "metadata": {},
     "outputs": []
    },
    {
     "cell_type": "code",
     "collapsed": false,
     "input": [
      "lk_gauss(bt0),lk_gauss(bt),lk_gauss(bt_gauss),lk_gauss(bt_gauss_cht)"
     ],
     "language": "python",
     "metadata": {},
     "outputs": []
    },
    {
     "cell_type": "code",
     "collapsed": false,
     "input": [
      "np.mean(ysq),np.mean(musq)+df"
     ],
     "language": "python",
     "metadata": {},
     "outputs": []
    },
    {
     "cell_type": "code",
     "collapsed": false,
     "input": [
      "zip(np.dot(amat,bt0),mu)\n",
      "yh = np.dot(amat,ncx.column(bt_gauss))\n",
      "#zip(np.dot(amat,bt0),mu,yh)"
     ],
     "language": "python",
     "metadata": {},
     "outputs": []
    },
    {
     "cell_type": "code",
     "collapsed": false,
     "input": [],
     "language": "python",
     "metadata": {},
     "outputs": []
    },
    {
     "cell_type": "code",
     "collapsed": false,
     "input": [
      "# developing Gauss-newton\n",
      "def gauss_newton(amat,x0,df,sigma):\n",
      "    "
     ],
     "language": "python",
     "metadata": {},
     "outputs": []
    }
   ],
   "metadata": {}
  }
 ]
}