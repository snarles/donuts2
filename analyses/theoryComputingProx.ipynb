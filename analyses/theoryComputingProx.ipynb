{
 "metadata": {
  "name": "",
  "signature": "sha256:886bb23caaf45f79cf798e080b62cb60da5b2134603eea5d4e5d96ab5f76100d"
 },
 "nbformat": 3,
 "nbformat_minor": 0,
 "worksheets": [
  {
   "cells": [
    {
     "cell_type": "heading",
     "level": 1,
     "metadata": {},
     "source": [
      "Computing the realistic noise model fits"
     ]
    },
    {
     "cell_type": "code",
     "collapsed": false,
     "input": [
      "import os\n",
      "import numpy as np\n",
      "import numpy.random as npr\n",
      "import numpy.linalg as nla\n",
      "import scipy as sp\n",
      "import scipy.stats as spst\n",
      "import scipy.special as sps\n",
      "import matplotlib.pyplot as plt\n",
      "import numpy.random as npr\n",
      "import scipy.optimize as spo\n",
      "import matplotlib as mpl\n",
      "from mpl_toolkits.mplot3d import Axes3D\n",
      "os.chdir(\"..\")\n",
      "import donuts.deconv.utils as du\n",
      "import donuts.deconv.ncx as ncx"
     ],
     "language": "python",
     "metadata": {},
     "outputs": [],
     "prompt_number": 1
    },
    {
     "cell_type": "code",
     "collapsed": false,
     "input": [
      "def bfgssolve(amat,ls,x0,lb=0.0,nd = True): # use LBFS-G to solve, lb = lower bound, nd = numerical derivative\n",
      "    if nd:\n",
      "        def f(x0):\n",
      "            yh = np.dot(amat,x0)\n",
      "            return sum(np.array([ls[i](yh[i]) for i in range(len(yh))]))\n",
      "        def fprime(x0):\n",
      "            yh = np.dot(amat,x0)\n",
      "            rawg= np.array([numderiv(ls[i],yh[i],1e-3) for i in range(len(yh))])\n",
      "            return np.dot(rawg.T,amat)\n",
      "    else:\n",
      "        def f(x0):\n",
      "            yh = np.dot(amat,x0)\n",
      "            return sum(np.array([ls[i](yh[i])[0] for i in range(len(yh))]))\n",
      "        def fprime(x0):\n",
      "            yh = np.dot(amat,x0)\n",
      "            rawg= np.array([ls[i](yh[i])[1] for i in range(len(yh))])\n",
      "            return np.dot(rawg.T,amat)\n",
      "    bounds = [(lb,100.0)] * len(x0)\n",
      "    res = spo.fmin_l_bfgs_b(f,np.squeeze(x0),fprime=fprime,bounds=bounds)\n",
      "    return res\n",
      "\n",
      "def tncsolve(amat,ls,x0,lb=0.0,nd = True): # use TNC to solve, lb = lower bound, nd = numerical derivative\n",
      "    if nd:\n",
      "        def f(x0):\n",
      "            yh = np.dot(amat,x0)\n",
      "            return sum(np.array([ls[i](yh[i]) for i in range(len(yh))]))\n",
      "        def fprime(x0):\n",
      "            yh = np.dot(amat,x0)\n",
      "            rawg= np.array([numderiv(ls[i],yh[i],1e-3) for i in range(len(yh))])\n",
      "            return np.dot(rawg.T,amat)\n",
      "    else:\n",
      "        def f(x0):\n",
      "            yh = np.dot(amat,x0)\n",
      "            return sum(np.array([ls[i](yh[i])[0] for i in range(len(yh))]))\n",
      "        def fprime(x0):\n",
      "            yh = np.dot(amat,x0)\n",
      "            rawg= np.array([ls[i](yh[i])[1] for i in range(len(yh))])\n",
      "            return np.dot(rawg.T,amat)\n",
      "    bounds = [(lb,100.0)] * len(x0)\n",
      "    res = spo.fmin_tnc(f,np.squeeze(x0),fprime=fprime,bounds=bounds)\n",
      "    return res\n",
      "\n",
      "def likelihood_func(ls,amat,true_sigma):\n",
      "    def lk(x0):\n",
      "        yh = np.dot(amat,np.reshape(x0,(-1,1)))/true_sigma\n",
      "        return sum([ls[ii](yh[ii])[0] for ii in range(len(ls))])\n",
      "    return lk\n",
      "\n",
      "def cpgauss_newton_it(y,amat,ex0):\n",
      "    n = len(y)\n",
      "    yh = np.squeeze(np.dot(amat,ex0[1:]))\n",
      "    r = y-yh**2-ex0[0]\n",
      "    j = np.hstack([np.ones((n,1)),2*np.dot(np.diag(yh),amat)])\n",
      "    y2 = r + np.squeeze(np.dot(j,ex0))\n",
      "    ex1 = spo.nnls(j,y2)[0]\n",
      "    return ex1\n",
      "\n",
      "def cpgauss_newton(y,amat,x0,nits):\n",
      "    for ii in range(nits):\n",
      "        x0 = cpgauss_newton_it(y,amat,np.array(x0))\n",
      "    return x0"
     ],
     "language": "python",
     "metadata": {},
     "outputs": [],
     "prompt_number": 2
    },
    {
     "cell_type": "markdown",
     "metadata": {},
     "source": [
      "Generate the data"
     ]
    },
    {
     "cell_type": "code",
     "collapsed": false,
     "input": [
      "# setting up measurement vectors and fitting vectors\n",
      "res_bv = 4\n",
      "kappa = 4.0\n",
      "true_kappa = 3.0\n",
      "bvecs = np.sqrt(kappa) * du.geosphere(res_bv)\n",
      "bvecs0 = np.sqrt(true_kappa) * du.geosphere(res_bv)\n",
      "n = np.shape(bvecs)[0]\n",
      "print(\"Number of measurement directions is \"+str(n))\n",
      "sgrid = du.geosphere(10)\n",
      "sgrid = sgrid[sgrid[:,2] >= 0,:]\n",
      "pp = np.shape(sgrid)[0]\n",
      "print(\"Number of candidate directions is \"+str(pp))\n",
      "# do you want plots?\n",
      "plotsignal = True"
     ],
     "language": "python",
     "metadata": {},
     "outputs": [
      {
       "output_type": "stream",
       "stream": "stdout",
       "text": [
        "Number of measurement directions is 162\n",
        "Number of candidate directions is 511\n"
       ]
      }
     ],
     "prompt_number": 32
    },
    {
     "cell_type": "code",
     "collapsed": false,
     "input": [
      "# randomly generate parameters\n",
      "true_k = 3\n",
      "amat0 = du.ste_tan_kappa(sgrid,bvecs0)\n",
      "amat = du.ste_tan_kappa(sgrid,bvecs)\n",
      "true_sigma = 0.1\n",
      "#bt0 = np.absolute(npr.normal(0,1,pp)) * npr.binomial(1,3.0/pp,pp)\n",
      "bt0 = np.zeros(pp)\n",
      "bt0[npr.randint(0,pp-1,true_k)]=1.0\n",
      "df = 10\n",
      "c0 = df*true_sigma**2\n",
      "mu = np.dot(amat0,bt0)\n",
      "y0 = mu**2 + true_sigma**2*df\n",
      "y = ncx.rvs_ncx2(df,mu,0,true_sigma)\n",
      "#y = y0\n",
      "# plot the noiseless signal\n",
      "if plotsignal:\n",
      "    zz = np.squeeze(y0)\n",
      "    #zz = np.ones(n)\n",
      "    fig = plt.figure()\n",
      "    ax = fig.gca(projection='3d')\n",
      "    ax.scatter(zz*bvecs[:,0],zz*bvecs[:,1],zz*bvecs[:,2])\n",
      "    plt.show()\n",
      "    print c0"
     ],
     "language": "python",
     "metadata": {},
     "outputs": [
      {
       "output_type": "stream",
       "stream": "stdout",
       "text": [
        "0.1\n"
       ]
      }
     ],
     "prompt_number": 39
    },
    {
     "cell_type": "code",
     "collapsed": false,
     "input": [
      "# get the NNLS solution\n",
      "ls_gauss = [ncx.ncxloss_gauss(yy,df) for yy in y]\n",
      "#ls_true = [ncx.ncxloss_true(y,df) for y in ysq]\n",
      "bt_nnls = np.squeeze(spo.nnls(amat,np.squeeze(np.sqrt(y)))[0])\n",
      "mu_nnls = np.dot(amat,bt_nnls)\n",
      "sigma2_nnls = nla.norm(du.column(np.sqrt(y)) - du.column(mu_nnls))**2/n\n",
      "yh_nnls = du.column(mu_nnls**2) + sigma2_nnls\n",
      "mse_nnls = nla.norm(np.squeeze(y0) - np.squeeze(yh_nnls))**2\n",
      "lk_gauss = likelihood_func(ls_gauss,amat,true_sigma)\n",
      "print mse_nnls\n",
      "#lk_true = likelihood_func(ls_true,amat,true_sigma)"
     ],
     "language": "python",
     "metadata": {},
     "outputs": [
      {
       "output_type": "stream",
       "stream": "stdout",
       "text": [
        "2.18765487533\n"
       ]
      }
     ],
     "prompt_number": 40
    },
    {
     "cell_type": "code",
     "collapsed": false,
     "input": [
      "# get the NNGN solution\n",
      "cbt = cpgauss_newton(y,amat,np.hstack([1.0,bt_nnls]),10)\n",
      "c_nngn = cbt[0]\n",
      "bt_nngn = cbt[1:]\n",
      "mu_nngn = np.dot(amat,bt_nngn)\n",
      "yh_nngn = mu_nngn**2 + c_nngn\n",
      "mse_nngn = nla.norm(np.squeeze(y0) - np.squeeze(yh_nngn))**2\n",
      "print mse_nngn,c_nngn"
     ],
     "language": "python",
     "metadata": {},
     "outputs": [
      {
       "output_type": "stream",
       "stream": "stdout",
       "text": [
        "2.25739234373 0.0\n"
       ]
      }
     ],
     "prompt_number": 41
    },
    {
     "cell_type": "code",
     "collapsed": false,
     "input": [
      "# penalized NNLS solution\n",
      "yp = np.hstack([np.squeeze(y),0.0])\n",
      "l1p = 0.20\n",
      "amatp = np.vstack([amat,l1p * np.ones((1,pp))])\n",
      "bt_pnnls = np.squeeze(spo.nnls(amatp,np.squeeze(np.sqrt(yp)))[0])\n",
      "mu_pnnls = np.dot(amat,bt_pnnls)\n",
      "sigma2_pnnls = nla.norm(du.column(np.sqrt(y)) - du.column(mu_pnnls))**2/n\n",
      "yh_pnnls = du.column(mu_pnnls**2) + sigma2_pnnls\n",
      "mse_pnnls = nla.norm(np.squeeze(y0) - np.squeeze(yh_pnnls))**2\n",
      "print mse_pnnls"
     ],
     "language": "python",
     "metadata": {},
     "outputs": [
      {
       "output_type": "stream",
       "stream": "stdout",
       "text": [
        "2.10443401733\n"
       ]
      }
     ],
     "prompt_number": 42
    },
    {
     "cell_type": "code",
     "collapsed": false,
     "input": [
      "# penalized NNGN solution\n",
      "yp = np.hstack([np.squeeze(y),0.0])\n",
      "l1p = 0.6\n",
      "amatp = np.vstack([amat,l1p * np.ones((1,pp))])\n",
      "cbtp = cpgauss_newton(yp,amatp,np.hstack([1.0,bt_nnls]),10)\n",
      "c_pnngn = cbtp[0]\n",
      "bt_pnngn = cbtp[1:]\n",
      "mu_pnngn = np.dot(amat,bt_pnngn)\n",
      "yh_pnngn = mu_pnngn**2 + c_pnngn\n",
      "mse_pnngn = nla.norm(np.squeeze(y0) - np.squeeze(yh_pnngn))**2\n",
      "print mse_pnngn,c_pnngn"
     ],
     "language": "python",
     "metadata": {},
     "outputs": [
      {
       "output_type": "stream",
       "stream": "stdout",
       "text": [
        "1.75747700085 0.691321448628\n"
       ]
      }
     ],
     "prompt_number": 44
    },
    {
     "cell_type": "code",
     "collapsed": false,
     "input": [
      "def loss_emd(x0):\n",
      "    return du.arc_emd(sgrid,ncx.column(bt0),sgrid,ncx.column(x0))\n",
      "loss_emd(bt_nnls),loss_emd(bt_nngn),loss_emd(bt_pnnls),loss_emd(bt_pnngn)"
     ],
     "language": "python",
     "metadata": {},
     "outputs": [
      {
       "metadata": {},
       "output_type": "pyout",
       "prompt_number": 45,
       "text": [
        "(0.22772033512592316,\n",
        " 0.22996853291988373,\n",
        " 0.2270982265472412,\n",
        " 0.04781309515237808)"
       ]
      }
     ],
     "prompt_number": 45
    },
    {
     "cell_type": "code",
     "collapsed": false,
     "input": [
      "print (sigma2_nnls,true_sigma**2 * df)\n",
      "print (c_nngn, true_sigma**2 * df)"
     ],
     "language": "python",
     "metadata": {},
     "outputs": [
      {
       "output_type": "stream",
       "stream": "stdout",
       "text": [
        "(9.2836852703981321e-05, 0.001)\n",
        "(0.0, 0.001)\n"
       ]
      }
     ],
     "prompt_number": 71
    },
    {
     "cell_type": "code",
     "collapsed": false,
     "input": [
      "bt = np.squeeze(spo.nnls(amat,np.squeeze(mu))[0])\n",
      "muh = np.dot(amat,bt)\n",
      "plt.scatter(mu,muh); plt.show()"
     ],
     "language": "python",
     "metadata": {},
     "outputs": [],
     "prompt_number": 55
    },
    {
     "cell_type": "code",
     "collapsed": false,
     "input": [
      "# get the nonlinear Gaussian approximation\n",
      "res_gauss =tncsolve(amat,ls_gauss,np.array(bt/true_sigma),0.0,False)\n",
      "bt_gauss= res_gauss[0]*true_sigma\n",
      "res_gauss_cht =tncsolve(amat,ls_gauss,np.array(bt0/true_sigma),0.0,False)\n",
      "bt_gauss_cht= res_gauss_cht[0]*true_sigma"
     ],
     "language": "python",
     "metadata": {},
     "outputs": []
    },
    {
     "cell_type": "code",
     "collapsed": false,
     "input": [
      "#res_true =tncsolve(amat,ls_true,np.array(bt_gauss/true_sigma),0.0,False)\n",
      "#bt_true= res_true[0]*true_sigma"
     ],
     "language": "python",
     "metadata": {},
     "outputs": []
    },
    {
     "cell_type": "code",
     "collapsed": false,
     "input": [
      "def loss_emd(x0):\n",
      "    return du.arc_emd(sgrid,ncx.column(bt0),sgrid,ncx.column(x0))\n",
      "def loss_mse(x0):\n",
      "    yhsq = np.squeeze((np.dot(amat,ncx.column(x0))/true_sigma)**2) + df\n",
      "    return np.mean(np.array([nla.norm(yhsq-np.squeeze(ysq2))**2/n for ysq2 in ysq2s]))\n",
      "#def loss_mse(x0):\n",
      "#    yh = np.squeeze(np.dot(amat,ncx.column(x0)))\n",
      "#    return nla.norm(yh-mu)**2/n\n",
      "loss_emd(bt0),loss_emd(bt),loss_emd(bt_gauss),loss_emd(bt_gauss_cht)#,loss_emd(bt_true)\n",
      "loss_mse(bt0),nla.norm(yhsq_nnls-du.column(ysq))**2,loss_mse(bt_gauss),loss_mse(bt_gauss_cht)"
     ],
     "language": "python",
     "metadata": {},
     "outputs": []
    },
    {
     "cell_type": "code",
     "collapsed": false,
     "input": [],
     "language": "python",
     "metadata": {},
     "outputs": []
    },
    {
     "cell_type": "code",
     "collapsed": false,
     "input": [
      "lk_true(bt0),lk_true(bt_gauss)"
     ],
     "language": "python",
     "metadata": {},
     "outputs": []
    },
    {
     "cell_type": "code",
     "collapsed": false,
     "input": [
      "lk_gauss(bt0),lk_gauss(bt),lk_gauss(bt_gauss),lk_gauss(bt_gauss_cht)"
     ],
     "language": "python",
     "metadata": {},
     "outputs": []
    },
    {
     "cell_type": "code",
     "collapsed": false,
     "input": [
      "np.mean(ysq),np.mean(musq)+df"
     ],
     "language": "python",
     "metadata": {},
     "outputs": []
    },
    {
     "cell_type": "code",
     "collapsed": false,
     "input": [
      "zip(np.dot(amat,bt0),mu)\n",
      "yh = np.dot(amat,ncx.column(bt_gauss))\n",
      "#zip(np.dot(amat,bt0),mu,yh)"
     ],
     "language": "python",
     "metadata": {},
     "outputs": []
    },
    {
     "cell_type": "code",
     "collapsed": false,
     "input": [],
     "language": "python",
     "metadata": {},
     "outputs": []
    },
    {
     "cell_type": "code",
     "collapsed": false,
     "input": [
      "# developing Gauss-newton\n",
      "def gauss_newton(amat,x0,df,sigma):\n",
      "    "
     ],
     "language": "python",
     "metadata": {},
     "outputs": []
    }
   ],
   "metadata": {}
  }
 ]
}