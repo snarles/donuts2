{
 "metadata": {
  "name": "",
  "signature": "sha256:025cafe3f5ad9332cf7ca48dca9f53079a474b2d431f3617d95268e08df317ec"
 },
 "nbformat": 3,
 "nbformat_minor": 0,
 "worksheets": [
  {
   "cells": [
    {
     "cell_type": "heading",
     "level": 1,
     "metadata": {},
     "source": [
      "Computing the realistic noise model fits"
     ]
    },
    {
     "cell_type": "code",
     "collapsed": false,
     "input": [
      "import os\n",
      "import numpy as np\n",
      "import numpy.random as npr\n",
      "import numpy.linalg as nla\n",
      "import scipy as sp\n",
      "import scipy.stats as spst\n",
      "import scipy.special as sps\n",
      "import matplotlib.pyplot as plt\n",
      "import numpy.random as npr\n",
      "import scipy.optimize as spo\n",
      "import matplotlib as mpl\n",
      "from mpl_toolkits.mplot3d import Axes3D\n",
      "os.chdir(\"..\")\n",
      "import donuts.deconv.utils as du\n",
      "import donuts.deconv.ncx as ncx"
     ],
     "language": "python",
     "metadata": {},
     "outputs": [],
     "prompt_number": 1
    },
    {
     "cell_type": "code",
     "collapsed": false,
     "input": [
      "\n",
      "def tncsolve(amat,ls,x0,lb=0.0,nd = True): # use TNC to solve, lb = lower bound, nd = numerical derivative\n",
      "    if nd:\n",
      "        def f(x0):\n",
      "            yh = np.dot(amat,x0)\n",
      "            return sum(np.array([ls[i](yh[i]) for i in range(len(yh))]))\n",
      "        def fprime(x0):\n",
      "            yh = np.dot(amat,x0)\n",
      "            rawg= np.array([numderiv(ls[i],yh[i],1e-3) for i in range(len(yh))])\n",
      "            return np.dot(rawg.T,amat)\n",
      "    else:\n",
      "        def f(x0):\n",
      "            yh = np.dot(amat,x0)\n",
      "            return sum(np.array([ls[i](yh[i])[0] for i in range(len(yh))]))\n",
      "        def fprime(x0):\n",
      "            yh = np.dot(amat,x0)\n",
      "            rawg= np.array([ls[i](yh[i])[1] for i in range(len(yh))])\n",
      "            return np.dot(rawg.T,amat)\n",
      "    bounds = [(lb,100.0)] * len(x0)\n",
      "    res = spo.fmin_tnc(f,np.squeeze(x0),fprime=fprime,bounds=bounds)\n",
      "    return res\n",
      "\n",
      "def likelihood_func(ls,amat):\n",
      "    def lk(x0):\n",
      "        yh = np.dot(amat,np.reshape(x0,(-1,1)))\n",
      "        return sum([ls[ii](yh[ii])[0] for ii in range(len(ls))])\n",
      "    return lk\n"
     ],
     "language": "python",
     "metadata": {},
     "outputs": [],
     "prompt_number": 15
    },
    {
     "cell_type": "code",
     "collapsed": false,
     "input": [
      "def nnnr_solve_it(amat,ls,x0,eps): # iteration of nononegative Newton-Raphson\n",
      "    yh = np.squeeze(np.dot(amat,x0))\n",
      "    res = [ls[ii](yh[ii]) for ii in range(len(ls))]\n",
      "    vals = np.array([v[0] for v in res])\n",
      "    lk0 = sum(vals)\n",
      "    ds = np.array([v[1] for v in res])\n",
      "    d2s = np.array([v[2] for v in res])\n",
      "    grad = np.dot(amat.T, ds)\n",
      "    hess = np.dot(np.dot(amat.T, np.diag(d2s)),amat)\n",
      "    mod_hess = eps*hess + np.eye(pp)\n",
      "    mod_grad = eps*grad - np.dot(mod_hess,x0)\n",
      "    x1 = spo.nnls(mod_hess,-mod_grad)[0]\n",
      "    return x1\n",
      "    "
     ],
     "language": "python",
     "metadata": {},
     "outputs": [],
     "prompt_number": 58
    },
    {
     "cell_type": "code",
     "collapsed": false,
     "input": [
      "x0 = np.array(bt_nnls)\n",
      "eps = 1e-3\n",
      "for ii in range(10):\n",
      "    x1 = nnnr_solve_it(amat,ls,x0,eps)\n",
      "    print lk_gauss(x1)\n",
      "    x0 = x1"
     ],
     "language": "python",
     "metadata": {},
     "outputs": [
      {
       "output_type": "stream",
       "stream": "stdout",
       "text": [
        "[ 22.0550188]\n",
        "[ 18.30614614]"
       ]
      },
      {
       "output_type": "stream",
       "stream": "stdout",
       "text": [
        "\n",
        "[ 18.35047541]"
       ]
      },
      {
       "output_type": "stream",
       "stream": "stdout",
       "text": [
        "\n",
        "[ 18.35233137]"
       ]
      },
      {
       "output_type": "stream",
       "stream": "stdout",
       "text": [
        "\n",
        "[ 18.32559598]"
       ]
      },
      {
       "output_type": "stream",
       "stream": "stdout",
       "text": [
        "\n",
        "[ 18.29104619]"
       ]
      },
      {
       "output_type": "stream",
       "stream": "stdout",
       "text": [
        "\n",
        "[ 18.25235112]"
       ]
      },
      {
       "output_type": "stream",
       "stream": "stdout",
       "text": [
        "\n",
        "[ 18.21924436]"
       ]
      },
      {
       "output_type": "stream",
       "stream": "stdout",
       "text": [
        "\n",
        "[ 18.18960863]"
       ]
      },
      {
       "output_type": "stream",
       "stream": "stdout",
       "text": [
        "\n",
        "[ 18.15991038]"
       ]
      },
      {
       "output_type": "stream",
       "stream": "stdout",
       "text": [
        "\n"
       ]
      }
     ],
     "prompt_number": 60
    },
    {
     "cell_type": "code",
     "collapsed": false,
     "input": [
      "x0 = np.array(bt_nnls)\n",
      "ls = ls_gauss\n",
      "yh = np.squeeze(np.dot(amat,x0))\n",
      "res = [ls[ii](yh[ii]) for ii in range(len(ls))]\n",
      "vals = np.array([v[0] for v in res])\n",
      "lk0 = sum(vals)\n",
      "ds = np.array([v[1] for v in res])\n",
      "d2s = np.array([v[2] for v in res])\n",
      "grad = np.dot(amat.T, ds)\n",
      "hess = np.dot(np.dot(amat.T, np.diag(d2s)),amat)\n",
      "#lk_gauss = likelihood_func(ls_gauss,amat)\n",
      "#lk0,lk_gauss(x0)\n",
      "#pert = 1e-5*npr.normal(0,1,pp)\n",
      "#lk0 + np.dot(grad.T,pert) + .5*np.dot(np.dot(pert.T, hess),pert), lk_gauss(x0+pert)\n",
      "eps = 1.0\n",
      "mod_hess = eps*hess + np.eye(pp)\n",
      "mod_grad = eps*grad - np.dot(mod_hess,x0)\n",
      "x1 = spo.nnls(mod_hess,-mod_grad)[0]\n",
      "lk_gauss(x0),lk_gauss(x1)"
     ],
     "language": "python",
     "metadata": {},
     "outputs": [
      {
       "metadata": {},
       "output_type": "pyout",
       "prompt_number": 55,
       "text": [
        "(array([ 119.73994732]), array([ 24.91778084]))"
       ]
      }
     ],
     "prompt_number": 55
    },
    {
     "cell_type": "markdown",
     "metadata": {},
     "source": [
      "Generate the data"
     ]
    },
    {
     "cell_type": "code",
     "collapsed": false,
     "input": [
      "# setting up measurement vectors and fitting vectors\n",
      "res_bv = 4\n",
      "kappa = 4.0\n",
      "true_kappa = 3.0\n",
      "bvecs = np.sqrt(kappa) * du.geosphere(res_bv)\n",
      "bvecs0 = np.sqrt(true_kappa) * du.geosphere(res_bv)\n",
      "n = np.shape(bvecs)[0]\n",
      "print(\"Number of measurement directions is \"+str(n))\n",
      "sgrid = du.geosphere(12)\n",
      "sgrid = sgrid[sgrid[:,2] >= 0,:]\n",
      "pp = np.shape(sgrid)[0]\n",
      "print(\"Number of candidate directions is \"+str(pp))\n",
      "# do you want plots?\n",
      "plotsignal = True"
     ],
     "language": "python",
     "metadata": {},
     "outputs": [
      {
       "output_type": "stream",
       "stream": "stdout",
       "text": [
        "Number of measurement directions is 162\n",
        "Number of candidate directions is 731\n"
       ]
      }
     ],
     "prompt_number": 16
    },
    {
     "cell_type": "code",
     "collapsed": false,
     "input": [
      "# randomly generate parameters\n",
      "true_k = 3\n",
      "amat0 = du.ste_tan_kappa(sgrid,bvecs0)\n",
      "amat = du.ste_tan_kappa(sgrid,bvecs)\n",
      "true_sigma = 0.1\n",
      "#bt0 = np.absolute(npr.normal(0,1,pp)) * npr.binomial(1,3.0/pp,pp)\n",
      "bt0 = np.zeros(pp)\n",
      "bt0[npr.randint(0,pp-1,true_k)]=1.0\n",
      "df = 30\n",
      "c0 = df*true_sigma**2\n",
      "mu = np.dot(amat0,bt0)\n",
      "y0 = mu**2 + true_sigma**2*df\n",
      "y = ncx.rvs_ncx2(df,mu,0,true_sigma)\n",
      "def loss_emd(x0):\n",
      "    return du.arc_emd(sgrid,ncx.column(bt0),sgrid,ncx.column(x0))\n",
      "#y = y0\n",
      "# plot the noiseless signal\n",
      "if plotsignal:\n",
      "    zz = np.squeeze(y0)\n",
      "    #zz = np.ones(n)\n",
      "    fig = plt.figure()\n",
      "    ax = fig.gca(projection='3d')\n",
      "    ax.scatter(zz*bvecs[:,0],zz*bvecs[:,1],zz*bvecs[:,2])\n",
      "    plt.show()\n",
      "    print c0"
     ],
     "language": "python",
     "metadata": {},
     "outputs": [
      {
       "output_type": "stream",
       "stream": "stdout",
       "text": [
        "0.3\n"
       ]
      }
     ],
     "prompt_number": 17
    },
    {
     "cell_type": "code",
     "collapsed": false,
     "input": [
      "# penalized NNLS solution with constant term\n",
      "yp = np.hstack([np.squeeze(y),0.0])\n",
      "l1p = 0.0\n",
      "amatc = np.hstack([np.ones((n+1,1)),np.vstack([amat,l1p * np.ones((1,pp))])])\n",
      "cbt_cnnls = np.squeeze(spo.nnls(amatc,np.squeeze(np.sqrt(yp)))[0])\n",
      "bt_cnnls = cbt_cnnls[1:]\n",
      "c_cnnls = cbt_cnnls[0]\n",
      "mu_cnnls = np.dot(amat,bt_cnnls)+c_cnnls\n",
      "sigma2_cnnls = nla.norm(du.column(np.sqrt(y)) - du.column(mu_cnnls))**2/n\n",
      "yh_cnnls = du.column(mu_cnnls**2) + sigma2_cnnls\n",
      "mse_cnnls = nla.norm(np.squeeze(y0) - np.squeeze(yh_cnnls))**2\n",
      "print mse_cnnls, loss_emd(bt_cnnls), c_cnnls"
     ],
     "language": "python",
     "metadata": {},
     "outputs": [
      {
       "output_type": "stream",
       "stream": "stdout",
       "text": [
        "1.77596972815 0.351278543472 0.0\n"
       ]
      }
     ],
     "prompt_number": 22
    },
    {
     "cell_type": "code",
     "collapsed": false,
     "input": [
      "# get the nonlinear Gaussian approximation\n",
      "est_sigma = 0.1\n",
      "ls_gauss = [ncx.ncxloss_gauss(yy,df,est_sigma) for yy in y]\n",
      "lk_gauss = likelihood_func(ls_gauss,amat)\n",
      "res_gauss =tncsolve(amat,ls_gauss,np.array(bt_cnnls),0.0,False)\n",
      "bt_gauss= res_gauss[0]\n",
      "mu_gauss = np.dot(amat,bt_gauss)\n",
      "yh_gauss = mu_gauss**2 + c0\n",
      "mse_gauss =  nla.norm(np.squeeze(y0) - np.squeeze(yh_gauss))**2\n",
      "print mse_gauss, loss_emd(bt_gauss), lk_gauss(bt_gauss)"
     ],
     "language": "python",
     "metadata": {},
     "outputs": []
    },
    {
     "cell_type": "code",
     "collapsed": false,
     "input": [],
     "language": "python",
     "metadata": {},
     "outputs": []
    },
    {
     "cell_type": "heading",
     "level": 2,
     "metadata": {},
     "source": [
      "Plots of the solutions"
     ]
    },
    {
     "cell_type": "code",
     "collapsed": false,
     "input": [
      "plt.scatter(y0,yh_nnls)\n",
      "plt.scatter(y0,yh_nngn,color=\"red\")\n",
      "#plt.scatter(y0,yh_pnnls,color=\"purple\")\n",
      "#plt.scatter(y0,yh_pnngn,color=\"orange\")\n",
      "plt.show()"
     ],
     "language": "python",
     "metadata": {},
     "outputs": [],
     "prompt_number": 132
    },
    {
     "cell_type": "code",
     "collapsed": false,
     "input": [
      "print (sigma2_nnls,true_sigma**2 * df)\n",
      "print (c_nngn, true_sigma**2 * df)"
     ],
     "language": "python",
     "metadata": {},
     "outputs": [
      {
       "output_type": "stream",
       "stream": "stdout",
       "text": [
        "(9.2836852703981321e-05, 0.001)\n",
        "(0.0, 0.001)\n"
       ]
      }
     ],
     "prompt_number": 71
    },
    {
     "cell_type": "code",
     "collapsed": false,
     "input": [
      "bt = np.squeeze(spo.nnls(amat,np.squeeze(mu))[0])\n",
      "muh = np.dot(amat,bt)\n",
      "plt.scatter(mu,muh); plt.show()"
     ],
     "language": "python",
     "metadata": {},
     "outputs": [],
     "prompt_number": 55
    },
    {
     "cell_type": "code",
     "collapsed": false,
     "input": [
      "#res_true =tncsolve(amat,ls_true,np.array(bt_gauss/true_sigma),0.0,False)\n",
      "#bt_true= res_true[0]*true_sigma"
     ],
     "language": "python",
     "metadata": {},
     "outputs": []
    },
    {
     "cell_type": "code",
     "collapsed": false,
     "input": [
      "def loss_emd(x0):\n",
      "    return du.arc_emd(sgrid,ncx.column(bt0),sgrid,ncx.column(x0))\n",
      "def loss_mse(x0):\n",
      "    yhsq = np.squeeze((np.dot(amat,ncx.column(x0))/true_sigma)**2) + df\n",
      "    return np.mean(np.array([nla.norm(yhsq-np.squeeze(ysq2))**2/n for ysq2 in ysq2s]))\n",
      "#def loss_mse(x0):\n",
      "#    yh = np.squeeze(np.dot(amat,ncx.column(x0)))\n",
      "#    return nla.norm(yh-mu)**2/n\n",
      "loss_emd(bt0),loss_emd(bt),loss_emd(bt_gauss),loss_emd(bt_gauss_cht)#,loss_emd(bt_true)\n",
      "loss_mse(bt0),nla.norm(yhsq_nnls-du.column(ysq))**2,loss_mse(bt_gauss),loss_mse(bt_gauss_cht)"
     ],
     "language": "python",
     "metadata": {},
     "outputs": []
    },
    {
     "cell_type": "code",
     "collapsed": false,
     "input": [],
     "language": "python",
     "metadata": {},
     "outputs": []
    },
    {
     "cell_type": "code",
     "collapsed": false,
     "input": [
      "lk_true(bt0),lk_true(bt_gauss)"
     ],
     "language": "python",
     "metadata": {},
     "outputs": []
    },
    {
     "cell_type": "code",
     "collapsed": false,
     "input": [
      "lk_gauss(bt0),lk_gauss(bt),lk_gauss(bt_gauss),lk_gauss(bt_gauss_cht)"
     ],
     "language": "python",
     "metadata": {},
     "outputs": []
    },
    {
     "cell_type": "code",
     "collapsed": false,
     "input": [
      "np.mean(ysq),np.mean(musq)+df"
     ],
     "language": "python",
     "metadata": {},
     "outputs": []
    },
    {
     "cell_type": "code",
     "collapsed": false,
     "input": [
      "zip(np.dot(amat,bt0),mu)\n",
      "yh = np.dot(amat,ncx.column(bt_gauss))\n",
      "#zip(np.dot(amat,bt0),mu,yh)"
     ],
     "language": "python",
     "metadata": {},
     "outputs": []
    },
    {
     "cell_type": "code",
     "collapsed": false,
     "input": [],
     "language": "python",
     "metadata": {},
     "outputs": []
    },
    {
     "cell_type": "code",
     "collapsed": false,
     "input": [
      "# developing Gauss-newton\n",
      "def gauss_newton(amat,x0,df,sigma):\n",
      "    "
     ],
     "language": "python",
     "metadata": {},
     "outputs": []
    }
   ],
   "metadata": {}
  }
 ]
}