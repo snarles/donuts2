{
 "metadata": {
  "name": "",
  "signature": "sha256:46e78f7c96cd4feb2689e30d1555531f7d292d5e0b1cb85e20bcbc25ccd6ef10"
 },
 "nbformat": 3,
 "nbformat_minor": 0,
 "worksheets": [
  {
   "cells": [
    {
     "cell_type": "heading",
     "level": 2,
     "metadata": {},
     "source": [
      "Solving $$\\min ||y - (Ax)^2||^2$$"
     ]
    },
    {
     "cell_type": "code",
     "collapsed": false,
     "input": [
      "import os\n",
      "import numpy as np\n",
      "import numpy.random as npr\n",
      "import numpy.linalg as nla\n",
      "import scipy as sp\n",
      "import scipy.stats as spst\n",
      "import scipy.special as sps\n",
      "import matplotlib.pyplot as plt\n",
      "import numpy.random as npr\n",
      "import scipy.optimize as spo\n",
      "import matplotlib as mpl\n",
      "from mpl_toolkits.mplot3d import Axes3D\n",
      "os.chdir(\"..\")\n",
      "import donuts.deconv.utils as du\n",
      "import donuts.deconv.ncx as ncx"
     ],
     "language": "python",
     "metadata": {},
     "outputs": [],
     "prompt_number": 1
    },
    {
     "cell_type": "code",
     "collapsed": false,
     "input": [
      "# generate the data, a linear model\n",
      "n = 100\n",
      "p = 10\n",
      "sigma = 0.1\n",
      "amat = npr.normal(0,1,(n,p))\n",
      "bt0 = npr.normal(0,1,p)\n",
      "mu0 = np.squeeze(np.dot(amat,bt0))\n",
      "y = mu0**2 + sigma*npr.normal(0,1,n)"
     ],
     "language": "python",
     "metadata": {},
     "outputs": [],
     "prompt_number": 2
    },
    {
     "cell_type": "code",
     "collapsed": false,
     "input": [
      "# solve using scipy\n",
      "def f(bt):\n",
      "    yh = np.squeeze(np.dot(amat,bt))\n",
      "    return y - yh**2\n",
      "\n",
      "res = spo.leastsq(f,npr.normal(0,1,p))\n",
      "res[0],bt0"
     ],
     "language": "python",
     "metadata": {},
     "outputs": [
      {
       "metadata": {},
       "output_type": "pyout",
       "prompt_number": 3,
       "text": [
        "(array([-0.13989339, -0.37095447,  1.07290576, -2.0152234 , -0.16944098,\n",
        "         0.37050537, -0.43821162,  0.50825034,  0.07959911, -1.72941008]),\n",
        " array([-0.14055573, -0.37405343,  1.07335199, -2.01524983, -0.16841217,\n",
        "         0.37186173, -0.4421378 ,  0.50955644,  0.07961602, -1.7293152 ]))"
       ]
      }
     ],
     "prompt_number": 3
    },
    {
     "cell_type": "code",
     "collapsed": false,
     "input": [
      "# define our own function\n",
      "def gauss_newton_it(y,amat,x0):\n",
      "    yh = np.squeeze(np.dot(amat,x0))\n",
      "    r = y-yh**2\n",
      "    j = 2*np.dot(np.diag(yh),amat)\n",
      "    dx = nla.lstsq(j,r)[0]\n",
      "    x1 = x0 + dx\n",
      "    return x1\n",
      "\n",
      "def gauss_newton(y,amat,x0,nits):\n",
      "    for ii in range(nits):\n",
      "        x0 = gauss_newton_it(y,amat,np.array(x0))\n",
      "    return x0\n",
      "\n",
      "gauss_newton(y,amat,npr.normal(0,1,p),100),bt0"
     ],
     "language": "python",
     "metadata": {},
     "outputs": [
      {
       "metadata": {},
       "output_type": "pyout",
       "prompt_number": 10,
       "text": [
        "(array([-0.19270869, -0.07899578,  0.96046007, -0.42387723,  1.3141612 ,\n",
        "         3.02313946, -0.72212011, -1.35554165, -1.35691121, -1.36725985]),\n",
        " array([-0.19600593, -0.06909837,  0.94315796, -0.4189176 ,  1.30756347,\n",
        "         2.9947678 , -0.72225236, -1.34260555, -1.34023633, -1.35380493]))"
       ]
      }
     ],
     "prompt_number": 10
    },
    {
     "cell_type": "heading",
     "level": 2,
     "metadata": {},
     "source": [
      "Solving $$\\min ||y - (Ax)^2||^2, x \\geq 0$$"
     ]
    },
    {
     "cell_type": "code",
     "collapsed": false,
     "input": [
      "# generate the data, a linear model\n",
      "n = 10\n",
      "p = 20\n",
      "sigma = 0.00\n",
      "amat = np.absolute(npr.normal(0,1,(n,p)))\n",
      "bt0 = np.absolute(npr.normal(0,1,p)) * npr.binomial(1,3.0/p,p)\n",
      "mu0 = np.squeeze(np.dot(amat,bt0))\n",
      "y = mu0**2  + sigma*npr.normal(0,1,n)"
     ],
     "language": "python",
     "metadata": {},
     "outputs": [],
     "prompt_number": 5
    },
    {
     "cell_type": "code",
     "collapsed": false,
     "input": [
      "# solve using scipy.. fail!!\n",
      "def f(bt):\n",
      "    yh = np.squeeze(np.dot(amat,bt))\n",
      "    return y - yh**2\n",
      "\n",
      "res = spo.leastsq(f,np.absolute(npr.normal(0,1,p)))\n",
      "res[0],bt0"
     ],
     "language": "python",
     "metadata": {},
     "outputs": []
    },
    {
     "cell_type": "code",
     "collapsed": false,
     "input": [
      "# define out own function\n",
      "def pgauss_newton_it(y,amat,x0):\n",
      "    yh = np.squeeze(np.dot(amat,x0))\n",
      "    r = y-yh**2\n",
      "    j = 2*np.dot(np.diag(yh),amat)\n",
      "    y2 = r + np.squeeze(np.dot(j,x0))\n",
      "    x1 = spo.nnls(j,y2)[0]\n",
      "    return x1\n",
      "\n",
      "def pgauss_newton(y,amat,x0,nits):\n",
      "    for ii in range(nits):\n",
      "        x0 = pgauss_newton_it(y,amat,np.array(x0))\n",
      "    return x0\n",
      "\n",
      "pgauss_newton(y,amat,np.absolute(npr.normal(0,1,p)),100),bt0"
     ],
     "language": "python",
     "metadata": {},
     "outputs": [
      {
       "metadata": {},
       "output_type": "pyout",
       "prompt_number": 6,
       "text": [
        "(array([  1.16397109e-17,   0.00000000e+00,   0.00000000e+00,\n",
        "          5.64872088e-16,   0.00000000e+00,   0.00000000e+00,\n",
        "          0.00000000e+00,   5.25106298e-01,   0.00000000e+00,\n",
        "          0.00000000e+00,   0.00000000e+00,   0.00000000e+00,\n",
        "          0.00000000e+00,   0.00000000e+00,   9.75842713e-17,\n",
        "          0.00000000e+00,   4.48032099e-01,   0.00000000e+00,\n",
        "          0.00000000e+00,   5.65562928e-03]),\n",
        " array([ 0.        ,  0.        ,  0.        ,  0.        ,  0.        ,\n",
        "         0.        ,  0.        ,  0.5251063 ,  0.        ,  0.        ,\n",
        "         0.        ,  0.        ,  0.        ,  0.        ,  0.        ,\n",
        "         0.        ,  0.4480321 ,  0.        ,  0.        ,  0.00565563]))"
       ]
      }
     ],
     "prompt_number": 6
    },
    {
     "cell_type": "heading",
     "level": 2,
     "metadata": {},
     "source": [
      "Solving $$\\min ||y - ((Ax)^2 + c 1)||^2$$"
     ]
    },
    {
     "cell_type": "code",
     "collapsed": false,
     "input": [
      "n = 100\n",
      "p = 10\n",
      "amat = npr.normal(0,1,(n,p))\n",
      "bt0 = npr.normal(0,1,p)\n",
      "c0 = npr.normal(0,1)\n",
      "mu0 = np.dot(amat,bt0)\n",
      "y = (mu0**2 + c0)"
     ],
     "language": "python",
     "metadata": {},
     "outputs": [],
     "prompt_number": 7
    },
    {
     "cell_type": "code",
     "collapsed": false,
     "input": [
      "# solve using scipy\n",
      "def f(c_bt):\n",
      "    c = c_bt[0]\n",
      "    bt = c_bt[1:]\n",
      "    yh = np.squeeze(np.dot(amat,bt))\n",
      "    return y - yh**2 - c\n",
      "\n",
      "res = spo.leastsq(f,npr.normal(0,1,p+1))\n",
      "res[0],c0,bt0"
     ],
     "language": "python",
     "metadata": {},
     "outputs": [
      {
       "metadata": {},
       "output_type": "pyout",
       "prompt_number": 9,
       "text": [
        "(array([ 0.69734366, -0.19600593, -0.06909837,  0.94315796, -0.4189176 ,\n",
        "         1.30756347,  2.9947678 , -0.72225236, -1.34260555, -1.34023633,\n",
        "        -1.35380493]),\n",
        " 0.6973436640384478,\n",
        " array([-0.19600593, -0.06909837,  0.94315796, -0.4189176 ,  1.30756347,\n",
        "         2.9947678 , -0.72225236, -1.34260555, -1.34023633, -1.35380493]))"
       ]
      }
     ],
     "prompt_number": 9
    },
    {
     "cell_type": "code",
     "collapsed": false,
     "input": [
      "# define our own function\n",
      "def cgauss_newton_it(y,amat,ex0):\n",
      "    n = len(y)\n",
      "    e0 = ex0[0]\n",
      "    x0 = ex0[1:]\n",
      "    yh = np.squeeze(np.dot(amat,x0))\n",
      "    r = y-yh**2 - e0\n",
      "    j_x = 2*np.dot(np.diag(yh),amat)\n",
      "    j_c = np.ones((n,1))\n",
      "    j = np.hstack([j_c,j_x])\n",
      "    dex = nla.lstsq(j,r)[0]\n",
      "    ex1 = ex0 + dex\n",
      "    return ex1\n",
      "\n",
      "def cgauss_newton(y,amat,x0,nits):\n",
      "    for ii in range(nits):\n",
      "        x0 = cgauss_newton_it(y,amat,np.array(x0))\n",
      "    return x0\n",
      "\n",
      "cgauss_newton(y,amat,npr.normal(0,1,p+1),100),c0,bt0"
     ],
     "language": "python",
     "metadata": {},
     "outputs": [
      {
       "metadata": {},
       "output_type": "pyout",
       "prompt_number": 13,
       "text": [
        "(array([ 0.69734366,  0.19600593,  0.06909837, -0.94315796,  0.4189176 ,\n",
        "        -1.30756347, -2.9947678 ,  0.72225236,  1.34260555,  1.34023633,\n",
        "         1.35380493]),\n",
        " 0.6973436640384478,\n",
        " array([-0.19600593, -0.06909837,  0.94315796, -0.4189176 ,  1.30756347,\n",
        "         2.9947678 , -0.72225236, -1.34260555, -1.34023633, -1.35380493]))"
       ]
      }
     ],
     "prompt_number": 13
    },
    {
     "cell_type": "heading",
     "level": 2,
     "metadata": {},
     "source": [
      "Solving $$\\min ||y - ((Ax)^2 + c 1)||^2, x \\geq 1$$"
     ]
    },
    {
     "cell_type": "code",
     "collapsed": false,
     "input": [
      "# generate the data, a linear model\n",
      "n = 10\n",
      "p = 20\n",
      "sigma = 0.00\n",
      "amat = np.absolute(npr.normal(0,1,(n,p)))\n",
      "bt0 = np.absolute(npr.normal(0,1,p)) * npr.binomial(1,3.0/p,p)\n",
      "c0 = np.absolute(npr.normal(0,1))\n",
      "mu0 = np.squeeze(np.dot(amat,bt0))\n",
      "y = mu0**2  + c0 + sigma*npr.normal(0,1,n)"
     ],
     "language": "python",
     "metadata": {},
     "outputs": [],
     "prompt_number": 17
    },
    {
     "cell_type": "code",
     "collapsed": false,
     "input": [
      "# define out own function\n",
      "def cpgauss_newton_it(y,amat,ex0):\n",
      "    yh = np.squeeze(np.dot(amat,ex0[1:]))\n",
      "    r = y-yh**2-ex0[0]\n",
      "    j = np.hstack([np.ones((n,1)),2*np.dot(np.diag(yh),amat)])\n",
      "    y2 = r + np.squeeze(np.dot(j,ex0))\n",
      "    ex1 = spo.nnls(j,y2)[0]\n",
      "    return ex1\n",
      "\n",
      "def cpgauss_newton(y,amat,x0,nits):\n",
      "    for ii in range(nits):\n",
      "        x0 = cpgauss_newton_it(y,amat,np.array(x0))\n",
      "    return x0\n",
      "\n",
      "zip(cpgauss_newton(y,amat,np.absolute(npr.normal(0,1,p+1)),100),np.hstack([c0,bt0]))"
     ],
     "language": "python",
     "metadata": {},
     "outputs": [
      {
       "metadata": {},
       "output_type": "pyout",
       "prompt_number": 21,
       "text": [
        "[(0.024279799212130981, 0.024279799212131786),\n",
        " (0.0, 0.0),\n",
        " (0.0, 0.0),\n",
        " (0.0, 0.0),\n",
        " (0.50206097335974142, 0.50206097335974165),\n",
        " (0.0, 0.0),\n",
        " (0.0, 0.0),\n",
        " (4.737985371789056e-16, 0.0),\n",
        " (0.0, 0.0),\n",
        " (1.1595945805747778e-16, 0.0),\n",
        " (2.40177770187189e-16, 0.0),\n",
        " (0.0, 0.0),\n",
        " (0.7878270136689125, 0.78782701366891261),\n",
        " (0.0, 0.0),\n",
        " (0.0, 0.0),\n",
        " (0.0, 0.0),\n",
        " (0.0, 0.0),\n",
        " (1.3501297242712915e-16, 0.0),\n",
        " (0.0, 0.0),\n",
        " (1.1603645035799665e-16, 0.0),\n",
        " (0.0, 0.0)]"
       ]
      }
     ],
     "prompt_number": 21
    },
    {
     "cell_type": "code",
     "collapsed": false,
     "input": [],
     "language": "python",
     "metadata": {},
     "outputs": []
    }
   ],
   "metadata": {}
  }
 ]
}