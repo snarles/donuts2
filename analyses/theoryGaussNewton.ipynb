{
 "metadata": {
  "name": "",
  "signature": "sha256:256adadb3440b815b72b64ec3a26e3629517968ef0564821c0dc78fb7f75526c"
 },
 "nbformat": 3,
 "nbformat_minor": 0,
 "worksheets": [
  {
   "cells": [
    {
     "cell_type": "heading",
     "level": 2,
     "metadata": {},
     "source": [
      "Solving $$\\min ||y - (Ax)^2||^2$$"
     ]
    },
    {
     "cell_type": "code",
     "collapsed": false,
     "input": [
      "import os\n",
      "import numpy as np\n",
      "import numpy.random as npr\n",
      "import numpy.linalg as nla\n",
      "import scipy as sp\n",
      "import scipy.stats as spst\n",
      "import scipy.special as sps\n",
      "import matplotlib.pyplot as plt\n",
      "import numpy.random as npr\n",
      "import scipy.optimize as spo\n",
      "import matplotlib as mpl\n",
      "from mpl_toolkits.mplot3d import Axes3D\n",
      "os.chdir(\"..\")\n",
      "import donuts.deconv.utils as du\n",
      "import donuts.deconv.ncx as ncx"
     ],
     "language": "python",
     "metadata": {},
     "outputs": [],
     "prompt_number": 1
    },
    {
     "cell_type": "code",
     "collapsed": false,
     "input": [
      "# generate the data, a linear model\n",
      "n = 100\n",
      "p = 10\n",
      "sigma = 0.1\n",
      "amat = npr.normal(0,1,(n,p))\n",
      "bt0 = npr.normal(0,1,p)\n",
      "mu0 = np.squeeze(np.dot(amat,bt0))\n",
      "y = mu0**2 + sigma*npr.normal(0,1,n)"
     ],
     "language": "python",
     "metadata": {},
     "outputs": [],
     "prompt_number": 32
    },
    {
     "cell_type": "code",
     "collapsed": false,
     "input": [
      "# solve using scipy\n",
      "def f(bt):\n",
      "    yh = np.squeeze(np.dot(amat,bt))\n",
      "    return y - yh**2\n",
      "\n",
      "res = spo.leastsq(f,npr.normal(0,1,p))\n",
      "res[0],bt0"
     ],
     "language": "python",
     "metadata": {},
     "outputs": [
      {
       "metadata": {},
       "output_type": "pyout",
       "prompt_number": 136,
       "text": [
        "(array([ 1.00626969,  1.63445238, -0.21204471,  0.45550404, -0.99391571,\n",
        "        -0.02874619, -0.27547893, -0.54277132, -0.39733889,  0.43607597]),\n",
        " array([ 1.00559669,  1.63635857, -0.20932826,  0.45337079, -0.99505557,\n",
        "        -0.02758778, -0.27652989, -0.54326824, -0.39848515,  0.43784514]))"
       ]
      }
     ],
     "prompt_number": 136
    },
    {
     "cell_type": "code",
     "collapsed": false,
     "input": [
      "# define out own function\n",
      "def gauss_newton_it(y,amat,x0):\n",
      "    yh = np.squeeze(np.dot(amat,x0))\n",
      "    r = y-yh**2\n",
      "    j = 2*np.dot(np.diag(yh),amat)\n",
      "    dx = nla.lstsq(-j,r)[0]\n",
      "    x1 = x0 - dx\n",
      "    return x1\n",
      "\n",
      "def gauss_newton(y,amat,x0,nits):\n",
      "    for ii in range(nits):\n",
      "        x0 = gauss_newton_it(y,amat,np.array(x0))\n",
      "    return x0\n",
      "\n",
      "gauss_newton(y,amat,npr.normal(0,1,p),100),bt0"
     ],
     "language": "python",
     "metadata": {},
     "outputs": [
      {
       "metadata": {},
       "output_type": "pyout",
       "prompt_number": 139,
       "text": [
        "(array([-1.00626969, -1.63445238,  0.21204471, -0.45550404,  0.99391571,\n",
        "         0.02874619,  0.27547893,  0.54277132,  0.39733889, -0.43607597]),\n",
        " array([ 1.00559669,  1.63635857, -0.20932826,  0.45337079, -0.99505557,\n",
        "        -0.02758778, -0.27652989, -0.54326824, -0.39848515,  0.43784514]))"
       ]
      }
     ],
     "prompt_number": 139
    },
    {
     "cell_type": "heading",
     "level": 2,
     "metadata": {},
     "source": [
      "Solving $$\\min ||y - (Ax)^2||^2, x \\geq 0$$"
     ]
    },
    {
     "cell_type": "code",
     "collapsed": false,
     "input": [
      "# generate the data, a linear model\n",
      "n = 10\n",
      "p = 20\n",
      "sigma = 0.00\n",
      "amat = np.absolute(npr.normal(0,1,(n,p)))\n",
      "bt0 = np.absolute(npr.normal(0,1,p)) * npr.binomial(1,3.0/p,p)\n",
      "mu0 = np.squeeze(np.dot(amat,bt0))\n",
      "y = mu0**2  + sigma*npr.normal(0,1,n)"
     ],
     "language": "python",
     "metadata": {},
     "outputs": [],
     "prompt_number": 153
    },
    {
     "cell_type": "code",
     "collapsed": false,
     "input": [
      "# solve using scipy.. fail!!\n",
      "def f(bt):\n",
      "    yh = np.squeeze(np.dot(amat,bt))\n",
      "    return y - yh**2\n",
      "\n",
      "res = spo.leastsq(f,np.absolute(npr.normal(0,1,p)))\n",
      "res[0],bt0"
     ],
     "language": "python",
     "metadata": {},
     "outputs": []
    },
    {
     "cell_type": "code",
     "collapsed": false,
     "input": [
      "# define out own function\n",
      "def pgauss_newton_it(y,amat,x0):\n",
      "    yh = np.squeeze(np.dot(amat,x0))\n",
      "    r = y-yh**2\n",
      "    j = 2*np.dot(np.diag(yh),amat)\n",
      "    dx = spo.nnls(j,r)[0]\n",
      "    x1 = x0 + dx\n",
      "    return x1\n",
      "\n",
      "def pgauss_newton(y,amat,x0,nits):\n",
      "    for ii in range(nits):\n",
      "        x0 = pgauss_newton_it(y,amat,np.array(x0))\n",
      "    return x0\n",
      "\n",
      "pgauss_newton(y,amat,np.absolute(npr.normal(0,1,p)),100),bt0"
     ],
     "language": "python",
     "metadata": {},
     "outputs": [
      {
       "metadata": {},
       "output_type": "pyout",
       "prompt_number": 154,
       "text": [
        "(array([ 0.72954931,  0.29901528,  1.07118638,  0.90634129,  0.06463861,\n",
        "         1.79642266,  1.56664759,  0.71916811,  0.41054786,  0.2948983 ,\n",
        "         0.09528503,  0.13226849,  0.28241428,  0.70115333,  0.22402934,\n",
        "         0.91150847,  0.56746331,  1.07286378,  0.92958992,  1.65721756]),\n",
        " array([ 0.        ,  0.        ,  0.        ,  0.        ,  0.21905511,\n",
        "         0.        ,  0.        ,  0.        ,  0.        ,  0.        ,\n",
        "         0.        ,  0.        ,  0.        ,  0.        ,  0.        ,\n",
        "         1.96422083,  0.        ,  0.        ,  0.        ,  0.        ]))"
       ]
      }
     ],
     "prompt_number": 154
    },
    {
     "cell_type": "heading",
     "level": 2,
     "metadata": {},
     "source": [
      "Solving $$\\min ||y - ((Ax)^2 + c 1)||^2$$"
     ]
    },
    {
     "cell_type": "code",
     "collapsed": false,
     "input": [
      "n = 100\n",
      "p = 10\n",
      "amat = npr.normal(0,1,(n,p))\n",
      "bt0 = npr.normal(0,1,p)\n",
      "c0 = npr.normal(0,1)\n",
      "mu0 = np.dot(amat,bt0)\n",
      "y = (mu0**2 + c0)"
     ],
     "language": "python",
     "metadata": {},
     "outputs": []
    }
   ],
   "metadata": {}
  }
 ]
}