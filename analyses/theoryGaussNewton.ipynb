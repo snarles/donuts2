{
 "metadata": {
  "name": "",
  "signature": "sha256:69df33f39e24e8ddfbc9c6f7345bcaf64e2a243879033b9d20d39d313cd15056"
 },
 "nbformat": 3,
 "nbformat_minor": 0,
 "worksheets": [
  {
   "cells": [
    {
     "cell_type": "heading",
     "level": 2,
     "metadata": {},
     "source": [
      "Solving $$\\min ||y - (Ax)^2||^2$$"
     ]
    },
    {
     "cell_type": "code",
     "collapsed": false,
     "input": [
      "import os\n",
      "import numpy as np\n",
      "import numpy.random as npr\n",
      "import numpy.linalg as nla\n",
      "import scipy as sp\n",
      "import scipy.stats as spst\n",
      "import scipy.special as sps\n",
      "import matplotlib.pyplot as plt\n",
      "import numpy.random as npr\n",
      "import scipy.optimize as spo\n",
      "import matplotlib as mpl\n",
      "from mpl_toolkits.mplot3d import Axes3D\n",
      "os.chdir(\"..\")\n",
      "import donuts.deconv.utils as du\n",
      "import donuts.deconv.ncx as ncx"
     ],
     "language": "python",
     "metadata": {},
     "outputs": [],
     "prompt_number": 1
    },
    {
     "cell_type": "code",
     "collapsed": false,
     "input": [
      "# generate the data, a linear model\n",
      "n = 100\n",
      "p = 10\n",
      "sigma = 0.1\n",
      "amat = npr.normal(0,1,(n,p))\n",
      "bt0 = npr.normal(0,1,p)\n",
      "mu0 = np.squeeze(np.dot(amat,bt0))\n",
      "y = mu0**2 + sigma*npr.normal(0,1,n)"
     ],
     "language": "python",
     "metadata": {},
     "outputs": [],
     "prompt_number": 2
    },
    {
     "cell_type": "code",
     "collapsed": false,
     "input": [
      "# solve using scipy\n",
      "def f(bt):\n",
      "    yh = np.squeeze(np.dot(amat,bt))\n",
      "    return y - yh**2\n",
      "\n",
      "res = spo.leastsq(f,npr.normal(0,1,p))\n",
      "res[0],bt0"
     ],
     "language": "python",
     "metadata": {},
     "outputs": [
      {
       "metadata": {},
       "output_type": "pyout",
       "prompt_number": 3,
       "text": [
        "(array([-0.13989339, -0.37095447,  1.07290576, -2.0152234 , -0.16944098,\n",
        "         0.37050537, -0.43821162,  0.50825034,  0.07959911, -1.72941008]),\n",
        " array([-0.14055573, -0.37405343,  1.07335199, -2.01524983, -0.16841217,\n",
        "         0.37186173, -0.4421378 ,  0.50955644,  0.07961602, -1.7293152 ]))"
       ]
      }
     ],
     "prompt_number": 3
    },
    {
     "cell_type": "code",
     "collapsed": false,
     "input": [
      "# define out own function\n",
      "def gauss_newton_it(y,amat,x0):\n",
      "    yh = np.squeeze(np.dot(amat,x0))\n",
      "    r = y-yh**2\n",
      "    j = 2*np.dot(np.diag(yh),amat)\n",
      "    dx = nla.lstsq(-j,r)[0]\n",
      "    x1 = x0 - dx\n",
      "    return x1\n",
      "\n",
      "def gauss_newton(y,amat,x0,nits):\n",
      "    for ii in range(nits):\n",
      "        x0 = gauss_newton_it(y,amat,np.array(x0))\n",
      "    return x0\n",
      "\n",
      "gauss_newton(y,amat,npr.normal(0,1,p),100),bt0"
     ],
     "language": "python",
     "metadata": {},
     "outputs": [
      {
       "metadata": {},
       "output_type": "pyout",
       "prompt_number": 4,
       "text": [
        "(array([-0.13989339, -0.37095447,  1.07290576, -2.0152234 , -0.16944098,\n",
        "         0.37050537, -0.43821162,  0.50825034,  0.07959911, -1.72941008]),\n",
        " array([-0.14055573, -0.37405343,  1.07335199, -2.01524983, -0.16841217,\n",
        "         0.37186173, -0.4421378 ,  0.50955644,  0.07961602, -1.7293152 ]))"
       ]
      }
     ],
     "prompt_number": 4
    },
    {
     "cell_type": "heading",
     "level": 2,
     "metadata": {},
     "source": [
      "Solving $$\\min ||y - (Ax)^2||^2, x \\geq 0$$"
     ]
    },
    {
     "cell_type": "code",
     "collapsed": false,
     "input": [
      "# generate the data, a linear model\n",
      "n = 10\n",
      "p = 20\n",
      "sigma = 0.00\n",
      "amat = np.absolute(npr.normal(0,1,(n,p)))\n",
      "bt0 = np.absolute(npr.normal(0,1,p)) * npr.binomial(1,3.0/p,p)\n",
      "mu0 = np.squeeze(np.dot(amat,bt0))\n",
      "y = mu0**2  + sigma*npr.normal(0,1,n)"
     ],
     "language": "python",
     "metadata": {},
     "outputs": [],
     "prompt_number": 5
    },
    {
     "cell_type": "code",
     "collapsed": false,
     "input": [
      "# solve using scipy.. fail!!\n",
      "def f(bt):\n",
      "    yh = np.squeeze(np.dot(amat,bt))\n",
      "    return y - yh**2\n",
      "\n",
      "res = spo.leastsq(f,np.absolute(npr.normal(0,1,p)))\n",
      "res[0],bt0"
     ],
     "language": "python",
     "metadata": {},
     "outputs": []
    },
    {
     "cell_type": "code",
     "collapsed": false,
     "input": [
      "# define out own function\n",
      "def pgauss_newton_it(y,amat,x0):\n",
      "    yh = np.squeeze(np.dot(amat,x0))\n",
      "    r = y-yh**2\n",
      "    j = 2*np.dot(np.diag(yh),amat)\n",
      "    y2 = r + np.squeeze(np.dot(j,x0))\n",
      "    x1 = spo.nnls(j,y2)[0]\n",
      "    return x1\n",
      "\n",
      "def pgauss_newton(y,amat,x0,nits):\n",
      "    for ii in range(nits):\n",
      "        x0 = pgauss_newton_it(y,amat,np.array(x0))\n",
      "    return x0\n",
      "\n",
      "pgauss_newton(y,amat,np.absolute(npr.normal(0,1,p)),100),bt0"
     ],
     "language": "python",
     "metadata": {},
     "outputs": [
      {
       "metadata": {},
       "output_type": "pyout",
       "prompt_number": 6,
       "text": [
        "(array([  1.16397109e-17,   0.00000000e+00,   0.00000000e+00,\n",
        "          5.64872088e-16,   0.00000000e+00,   0.00000000e+00,\n",
        "          0.00000000e+00,   5.25106298e-01,   0.00000000e+00,\n",
        "          0.00000000e+00,   0.00000000e+00,   0.00000000e+00,\n",
        "          0.00000000e+00,   0.00000000e+00,   9.75842713e-17,\n",
        "          0.00000000e+00,   4.48032099e-01,   0.00000000e+00,\n",
        "          0.00000000e+00,   5.65562928e-03]),\n",
        " array([ 0.        ,  0.        ,  0.        ,  0.        ,  0.        ,\n",
        "         0.        ,  0.        ,  0.5251063 ,  0.        ,  0.        ,\n",
        "         0.        ,  0.        ,  0.        ,  0.        ,  0.        ,\n",
        "         0.        ,  0.4480321 ,  0.        ,  0.        ,  0.00565563]))"
       ]
      }
     ],
     "prompt_number": 6
    },
    {
     "cell_type": "heading",
     "level": 2,
     "metadata": {},
     "source": [
      "Solving $$\\min ||y - ((Ax)^2 + c 1)||^2$$"
     ]
    },
    {
     "cell_type": "code",
     "collapsed": false,
     "input": [
      "n = 100\n",
      "p = 10\n",
      "amat = npr.normal(0,1,(n,p))\n",
      "bt0 = npr.normal(0,1,p)\n",
      "c0 = npr.normal(0,1)\n",
      "mu0 = np.dot(amat,bt0)\n",
      "y = (mu0**2 + c0)"
     ],
     "language": "python",
     "metadata": {},
     "outputs": []
    }
   ],
   "metadata": {}
  }
 ]
}