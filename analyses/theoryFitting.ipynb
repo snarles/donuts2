{
 "metadata": {
  "name": "",
  "signature": "sha256:af31bb35b6a936e426719e1d8c6cdbb03ea17b5f991392dc785f82a8d32ade0f"
 },
 "nbformat": 3,
 "nbformat_minor": 0,
 "worksheets": [
  {
   "cells": [
    {
     "cell_type": "heading",
     "level": 1,
     "metadata": {},
     "source": [
      "Comparing the model fits, NNLS vs gaussian prox"
     ]
    },
    {
     "cell_type": "code",
     "collapsed": false,
     "input": [
      "import os\n",
      "import numpy as np\n",
      "import numpy.random as npr\n",
      "import numpy.linalg as nla\n",
      "import scipy as sp\n",
      "import scipy.stats as spst\n",
      "import scipy.special as sps\n",
      "import matplotlib.pyplot as plt\n",
      "import numpy.random as npr\n",
      "import scipy.optimize as spo\n",
      "import matplotlib as mpl\n",
      "from mpl_toolkits.mplot3d import Axes3D\n",
      "os.chdir(\"..\")\n",
      "import donuts.deconv.utils as du\n",
      "import donuts.deconv.ncx as ncx"
     ],
     "language": "python",
     "metadata": {},
     "outputs": [],
     "prompt_number": 1
    },
    {
     "cell_type": "code",
     "collapsed": false,
     "input": [
      "\n",
      "def tncsolve(amat,ls,x0,lb=0.0,ft = 1e-3): # use TNC to solve, lb = lower bound\n",
      "    def f(x0):\n",
      "        yh = np.dot(amat,x0)\n",
      "        return sum(np.array([ls[i](yh[i])[0] for i in range(len(yh))]))\n",
      "    def fprime(x0):\n",
      "        yh = np.dot(amat,x0)\n",
      "        rawg= np.array([ls[i](yh[i])[1] for i in range(len(yh))])\n",
      "        return np.dot(rawg.T,amat)\n",
      "    bounds = [(lb,100.0)] * len(x0)\n",
      "    res = spo.fmin_tnc(f,np.squeeze(x0),fprime=fprime,bounds=bounds,ftol=ft)\n",
      "    return res[0]\n",
      "\n",
      "def likelihood_func(ls,amat):\n",
      "    def lk(x0):\n",
      "        yh = np.dot(amat,np.reshape(x0,(-1,1)))\n",
      "        return sum([ls[ii](yh[ii])[0] for ii in range(len(ls))])\n",
      "    return lk\n"
     ],
     "language": "python",
     "metadata": {},
     "outputs": [],
     "prompt_number": 2
    },
    {
     "cell_type": "markdown",
     "metadata": {},
     "source": [
      "Generate the data"
     ]
    },
    {
     "cell_type": "code",
     "collapsed": false,
     "input": [
      "# setting up measurement vectors and fitting vectors\n",
      "res_bv = 2\n",
      "true_kappa = 1.0\n",
      "kappa = 1.0\n",
      "bvecs = np.sqrt(kappa) * du.geosphere(res_bv)\n",
      "bvecs0 = np.sqrt(true_kappa) * du.geosphere(res_bv)\n",
      "n = np.shape(bvecs)[0]\n",
      "print(\"Number of measurement directions is \"+str(n))\n",
      "sgrid = du.geosphere(5)\n",
      "sgrid = sgrid[sgrid[:,2] >= 0,:]\n",
      "pp = np.shape(sgrid)[0]\n",
      "print(\"Number of candidate directions is \"+str(pp))\n",
      "def plotb(zz=np.ones(pp)):\n",
      "    fig = plt.figure()\n",
      "    ax = fig.gca(projection='3d')\n",
      "    ax.scatter(sgrid[:,0],sgrid[:,1],sgrid[:,2])\n",
      "    ax.scatter(zz*sgrid[:,0],zz*sgrid[:,1],zz*sgrid[:,2],color=\"red\")\n",
      "    plt.show()\n",
      "\n",
      "# do you want plots?\n",
      "plotsignal = False\n",
      "# randomize parameters outside of loop?\n",
      "randoutside = True\n",
      "\n",
      "amat0 = du.ste_tan_kappa(sgrid,bvecs0)\n",
      "amat = du.ste_tan_kappa(sgrid,bvecs)"
     ],
     "language": "python",
     "metadata": {},
     "outputs": [
      {
       "output_type": "stream",
       "stream": "stdout",
       "text": [
        "Number of measurement directions is 42\n",
        "Number of candidate directions is 126\n"
       ]
      }
     ],
     "prompt_number": 31
    },
    {
     "cell_type": "code",
     "collapsed": false,
     "input": [
      "true_k = 3\n",
      "# randomly generate parameters\n",
      "if randoutside:\n",
      "    bt0 = np.zeros(pp)\n",
      "    bt0[npr.randint(0,pp-1,true_k)]=1.0/true_k\n",
      "    if plotsignal:\n",
      "        plotb(bt0)"
     ],
     "language": "python",
     "metadata": {},
     "outputs": [],
     "prompt_number": 32
    },
    {
     "cell_type": "code",
     "collapsed": false,
     "input": [
      "\n",
      "\n",
      "total_sigma = 0.1\n",
      "df = 10\n",
      "true_sigma = total_sigma/np.sqrt(df)\n",
      "est_sigma = true_sigma\n",
      "\n",
      "nreps = 100\n",
      "mses_cnnls = np.zeros(nreps); emds_cnnls = np.zeros(nreps);\n",
      "mses_fnnls = np.zeros(nreps); emds_fnnls = np.zeros(nreps);\n",
      "mses_gauss = np.zeros(nreps); emds_gauss = np.zeros(nreps)\n",
      "\n",
      "for iii in range(nreps):\n",
      "    if not randoutside:\n",
      "        bt0 = np.zeros(pp)\n",
      "        bt0[npr.randint(0,pp-1,true_k)]=1.0\n",
      "\n",
      "    c0 = df*true_sigma**2\n",
      "    mu = np.dot(amat0,bt0)\n",
      "    y0 = mu**2 + true_sigma**2*df\n",
      "    y = ncx.rvs_ncx2(df,mu,0,true_sigma)\n",
      "    def loss_emd(x0):\n",
      "        return du.arc_emd(sgrid,ncx.column(bt0),sgrid,ncx.column(x0))\n",
      "    def loss_mse(x0):\n",
      "        yh = np.squeeze(np.dot(amat,ncx.column(x0))**2) + true_sigma**2 * df\n",
      "        return nla.norm(np.squeeze(y0)-np.squeeze(yh))**2\n",
      "    #y = y0\n",
      "    # plot the noiseless params\n",
      "    if plotsignal:\n",
      "        plotb(bt0)\n",
      "\n",
      "    # penalized NNLS solution with constant term\n",
      "    yp = np.hstack([np.squeeze(y),0.0])\n",
      "    l1p = 0.0\n",
      "    amatc = np.hstack([np.ones((n+1,1)),np.vstack([amat,l1p * np.ones((1,pp))])])\n",
      "    cbt_cnnls = np.squeeze(spo.nnls(amatc,np.squeeze(np.sqrt(yp)))[0])\n",
      "    bt_cnnls = cbt_cnnls[1:]\n",
      "    c_cnnls = cbt_cnnls[0]\n",
      "    mu_cnnls = np.dot(amat,bt_cnnls)+c_cnnls\n",
      "    sigma2_cnnls = nla.norm(du.column(np.sqrt(y)) - du.column(mu_cnnls))**2/n\n",
      "    yh_cnnls = du.column(mu_cnnls**2) + sigma2_cnnls\n",
      "    mse_cnnls = nla.norm(np.squeeze(y0) - np.squeeze(yh_cnnls))**2\n",
      "    if plotsignal:\n",
      "        print mse_cnnls, loss_emd(bt_cnnls), c_cnnls\n",
      "        \n",
      "    # NNLS after removing noise floor\n",
      "    yflo = y - est_sigma**2*df; yflo[yflo < 0] = 0\n",
      "    bt_fnnls = np.squeeze(spo.nnls(amat,np.squeeze(np.sqrt(yflo)))[0])\n",
      "    mu_fnnls = np.dot(amat,bt_fnnls)\n",
      "    yh_fnnls = du.column(mu_fnnls**2) + est_sigma**2*df\n",
      "    mse_fnnls = nla.norm(np.squeeze(y0) - np.squeeze(yh_fnnls))**2\n",
      "    if plotsignal:\n",
      "        print mse_fnnls, loss_emd(bt_fnnls)\n",
      "\n",
      "    # get the nonlinear Gaussian approximation\n",
      "\n",
      "    ls_gauss = [ncx.ncxloss_gauss(yy,df,est_sigma) for yy in y]\n",
      "    lk_gauss = likelihood_func(ls_gauss,amat)\n",
      "    bt_gauss =tncsolve(amat,ls_gauss,np.array(bt_fnnls),0.0,1e-5)\n",
      "    mu_gauss = np.dot(amat,bt_gauss)\n",
      "    yh_gauss = mu_gauss**2 + c0\n",
      "    mse_gauss =  nla.norm(np.squeeze(y0) - np.squeeze(yh_gauss))**2\n",
      "    if plotsignal:\n",
      "        print loss_mse(bt_gauss), loss_emd(bt_gauss), lk_gauss(bt_gauss), sum(bt_gauss > 0)\n",
      "        \n",
      "    # record results\n",
      "    mses_cnnls[iii] = mse_cnnls\n",
      "    emds_cnnls[iii] = loss_emd(bt_cnnls)\n",
      "    mses_fnnls[iii] = mse_fnnls\n",
      "    emds_fnnls[iii] = loss_emd(bt_fnnls)\n",
      "    mses_gauss[iii] = loss_mse(bt_gauss)\n",
      "    emds_gauss[iii] = loss_emd(bt_gauss)\n",
      "\n",
      "(np.mean(mses_cnnls),np.mean(emds_cnnls)),(np.mean(mses_fnnls),np.mean(emds_fnnls)),(np.mean(mses_gauss),np.mean(emds_gauss)) "
     ],
     "language": "python",
     "metadata": {},
     "outputs": [
      {
       "metadata": {},
       "output_type": "pyout",
       "prompt_number": 34,
       "text": [
        "((0.021470852633318334, 0.27275184657424689),\n",
        " (0.021394545914035657, 0.2697282426059246),\n",
        " (0.021501995185060539, 0.27030843902379276))"
       ]
      }
     ],
     "prompt_number": 34
    },
    {
     "cell_type": "markdown",
     "metadata": {},
     "source": [
      "((0.00025949582037454683, 0.045025046421214937),\n",
      " (0.00024499683395171512, 0.032382597802206876),\n",
      " (0.0002450328055529921, 0.032384660330135373))"
     ]
    },
    {
     "cell_type": "code",
     "collapsed": false,
     "input": [],
     "language": "python",
     "metadata": {},
     "outputs": [],
     "prompt_number": 13
    },
    {
     "cell_type": "code",
     "collapsed": false,
     "input": [],
     "language": "python",
     "metadata": {},
     "outputs": [],
     "prompt_number": 13
    },
    {
     "cell_type": "heading",
     "level": 2,
     "metadata": {},
     "source": [
      "Selecting sigma"
     ]
    },
    {
     "cell_type": "code",
     "collapsed": false,
     "input": [
      "total_sigma = 0.1\n",
      "df = 10\n",
      "true_sigma = total_sigma/np.sqrt(df)\n",
      "est_sigmas = true_sigma * np.array([0.0,1.0,1.1])\n",
      "nsigs = len(est_sigmas)\n",
      "\n",
      "nreps = 100\n",
      "mses_cnnls = np.zeros((nreps,nsigs)); emds_cnnls = np.zeros((nreps,nsigs));\n",
      "mses_fnnls = np.zeros((nreps,nsigs)); emds_fnnls = np.zeros((nreps,nsigs));\n",
      "mses_gauss = np.zeros((nreps,nsigs)); emds_gauss = np.zeros((nreps,nsigs))\n",
      "\n",
      "for iii in range(nreps):\n",
      "    c0 = df*true_sigma**2\n",
      "    mu = np.dot(amat0,bt0)\n",
      "    y0 = mu**2 + true_sigma**2*df\n",
      "    y = ncx.rvs_ncx2(df,mu,0,true_sigma)\n",
      "    def loss_emd(x0):\n",
      "        return du.arc_emd(sgrid,ncx.column(bt0),sgrid,ncx.column(x0))\n",
      "    def loss_mse(x0):\n",
      "        yh = np.squeeze(np.dot(amat,ncx.column(x0))**2) + true_sigma**2 * df\n",
      "        return nla.norm(np.squeeze(y0)-np.squeeze(yh))**2\n",
      "    if not randoutside:\n",
      "        bt0 = np.zeros(pp)\n",
      "        bt0[npr.randint(0,pp-1,true_k)]=1.0\n",
      "    for jj in range(len(est_sigmas)):\n",
      "        est_sigma = est_sigmas[jj]\n",
      "\n",
      "        # penalized NNLS solution with constant term\n",
      "        yp = np.hstack([np.squeeze(y),0.0])\n",
      "        l1p = 0.0\n",
      "        amatc = np.hstack([np.ones((n+1,1)),np.vstack([amat,l1p * np.ones((1,pp))])])\n",
      "        cbt_cnnls = np.squeeze(spo.nnls(amatc,np.squeeze(np.sqrt(yp)))[0])\n",
      "        bt_cnnls = cbt_cnnls[1:]\n",
      "        c_cnnls = cbt_cnnls[0]\n",
      "        mu_cnnls = np.dot(amat,bt_cnnls)+c_cnnls\n",
      "        sigma2_cnnls = nla.norm(du.column(np.sqrt(y)) - du.column(mu_cnnls))**2/n\n",
      "        yh_cnnls = du.column(mu_cnnls**2) + sigma2_cnnls\n",
      "        mse_cnnls = nla.norm(np.squeeze(y0) - np.squeeze(yh_cnnls))**2\n",
      "        \n",
      "        # NNLS after removing noise floor\n",
      "        yflo = y - est_sigma**2*df; yflo[yflo < 0] = 0\n",
      "        bt_fnnls = np.squeeze(spo.nnls(amat,np.squeeze(np.sqrt(yflo)))[0])\n",
      "        mu_fnnls = np.dot(amat,bt_fnnls)\n",
      "        yh_fnnls = du.column(mu_fnnls**2) + est_sigma**2*df\n",
      "        mse_fnnls = nla.norm(np.squeeze(y0) - np.squeeze(yh_fnnls))**2\n",
      "        \n",
      "        # get the nonlinear Gaussian approximation\n",
      "        ls_gauss = [ncx.ncxloss_gauss(yy,df,est_sigma) for yy in y]\n",
      "        lk_gauss = likelihood_func(ls_gauss,amat)\n",
      "        bt_gauss =tncsolve(amat,ls_gauss,np.array(bt_fnnls),0.0,1e-5)\n",
      "        mu_gauss = np.dot(amat,bt_gauss)\n",
      "        yh_gauss = mu_gauss**2 + c0\n",
      "        mse_gauss =  nla.norm(np.squeeze(y0) - np.squeeze(yh_gauss))**2\n",
      "        \n",
      "        # record results\n",
      "        mses_cnnls[iii,jj] = mse_cnnls\n",
      "        emds_cnnls[iii,jj] = loss_emd(bt_cnnls)\n",
      "        mses_fnnls[iii,jj] = mse_fnnls\n",
      "        emds_fnnls[iii,jj] = loss_emd(bt_fnnls)\n",
      "        mses_gauss[iii,jj] = loss_mse(bt_gauss)\n",
      "        emds_gauss[iii,jj] = loss_emd(bt_gauss)\n"
     ],
     "language": "python",
     "metadata": {},
     "outputs": [],
     "prompt_number": 47
    },
    {
     "cell_type": "code",
     "collapsed": false,
     "input": [
      "mses_cnnls.mean(axis=0),mses_fnnls.mean(axis=0),mses_gauss.mean(axis=0)"
     ],
     "language": "python",
     "metadata": {},
     "outputs": [
      {
       "metadata": {},
       "output_type": "pyout",
       "prompt_number": 46,
       "text": [
        "(array([ 0.01858098,  0.01858098,  0.01858098]),\n",
        " array([ 0.01864885,  0.01859295,  0.01858643]),\n",
        " array([ 0.02114164,  0.0190149 ,  0.01967004]))"
       ]
      }
     ],
     "prompt_number": 46
    },
    {
     "cell_type": "code",
     "collapsed": false,
     "input": [
      "mses_fnnls.mean(axis=0)"
     ],
     "language": "python",
     "metadata": {},
     "outputs": [
      {
       "metadata": {},
       "output_type": "pyout",
       "prompt_number": 45,
       "text": [
        "array([ 0.01864885,  0.01859295,  0.01858643])"
       ]
      }
     ],
     "prompt_number": 45
    },
    {
     "cell_type": "heading",
     "level": 2,
     "metadata": {},
     "source": [
      "Selecting kappa"
     ]
    },
    {
     "cell_type": "code",
     "collapsed": false,
     "input": [
      "# setting up measurement vectors and fitting vectors\n",
      "res_bv = 2\n",
      "true_kappa = 2.0\n",
      "kappas = true_kappa * np.array([0.8,0.9,1.0,1.1,1.2])\n",
      "bvecss = [np.sqrt(kappa) * du.geosphere(res_bv) for kappa in kappas]\n",
      "len_kappas = len(kappas)\n",
      "bvecs0 = np.sqrt(true_kappa) * du.geosphere(res_bv)\n",
      "n = np.shape(bvecs)[0]\n",
      "print(\"Number of measurement directions is \"+str(n))\n",
      "sgrid = du.geosphere(5)\n",
      "sgrid = sgrid[sgrid[:,2] >= 0,:]\n",
      "pp = np.shape(sgrid)[0]\n",
      "print(\"Number of candidate directions is \"+str(pp))\n",
      "def plotb(zz=np.ones(pp)):\n",
      "    fig = plt.figure()\n",
      "    ax = fig.gca(projection='3d')\n",
      "    ax.scatter(sgrid[:,0],sgrid[:,1],sgrid[:,2])\n",
      "    ax.scatter(zz*sgrid[:,0],zz*sgrid[:,1],zz*sgrid[:,2],color=\"red\")\n",
      "    plt.show()\n",
      "\n",
      "# do you want plots?\n",
      "plotsignal = False\n",
      "# randomize parameters outside of loop?\n",
      "randoutside = True\n",
      "\n",
      "amat0 = du.ste_tan_kappa(sgrid,bvecs0)\n",
      "amats = [du.ste_tan_kappa(sgrid,bvecs) for bvecs in bvecss]"
     ],
     "language": "python",
     "metadata": {},
     "outputs": [
      {
       "output_type": "stream",
       "stream": "stdout",
       "text": [
        "Number of measurement directions is 42\n",
        "Number of candidate directions is 126\n"
       ]
      }
     ],
     "prompt_number": 59
    },
    {
     "cell_type": "code",
     "collapsed": false,
     "input": [
      "true_k = 3\n",
      "# randomly generate parameters\n",
      "if randoutside:\n",
      "    bt0 = np.zeros(pp)\n",
      "    bt0[npr.randint(0,pp-1,true_k)]=1.0/true_k\n",
      "    if plotsignal:\n",
      "        plotb(bt0)"
     ],
     "language": "python",
     "metadata": {},
     "outputs": [],
     "prompt_number": 60
    },
    {
     "cell_type": "code",
     "collapsed": false,
     "input": [
      "total_sigma = 0.1\n",
      "df = 30\n",
      "true_sigma = total_sigma/np.sqrt(df)\n",
      "est_sigma = true_sigma\n",
      "\n",
      "nreps = 100\n",
      "mses_cnnls = np.zeros((nreps,len_kappas)); emds_cnnls = np.zeros((nreps,len_kappas));\n",
      "mses_fnnls = np.zeros((nreps,len_kappas)); emds_fnnls = np.zeros((nreps,len_kappas));\n",
      "mses_gauss = np.zeros((nreps,len_kappas)); emds_gauss = np.zeros((nreps,len_kappas));\n",
      "\n",
      "for iii in range(nreps):\n",
      "    if not randoutside:\n",
      "        bt0 = np.zeros(pp)\n",
      "        bt0[npr.randint(0,pp-1,true_k)]=1.0\n",
      "\n",
      "    c0 = df*true_sigma**2\n",
      "    mu = np.dot(amat0,bt0)\n",
      "    y0 = mu**2 + true_sigma**2*df\n",
      "    y = ncx.rvs_ncx2(df,mu,0,true_sigma)\n",
      "    def loss_emd(x0):\n",
      "        return du.arc_emd(sgrid,ncx.column(bt0),sgrid,ncx.column(x0))\n",
      "    def loss_mse(x0):\n",
      "        yh = np.squeeze(np.dot(amat,ncx.column(x0))**2) + true_sigma**2 * df\n",
      "        return nla.norm(np.squeeze(y0)-np.squeeze(yh))**2\n",
      "    #y = y0\n",
      "    for jj in range(len_kappas):\n",
      "        amat = amats[jj]\n",
      "        # penalized NNLS solution with constant term\n",
      "        yp = np.hstack([np.squeeze(y),0.0])\n",
      "        l1p = 0.0\n",
      "        amatc = np.hstack([np.ones((n+1,1)),np.vstack([amat,l1p * np.ones((1,pp))])])\n",
      "        cbt_cnnls = np.squeeze(spo.nnls(amatc,np.squeeze(np.sqrt(yp)))[0])\n",
      "        bt_cnnls = cbt_cnnls[1:]\n",
      "        c_cnnls = cbt_cnnls[0]\n",
      "        mu_cnnls = np.dot(amat,bt_cnnls)+c_cnnls\n",
      "        sigma2_cnnls = nla.norm(du.column(np.sqrt(y)) - du.column(mu_cnnls))**2/n\n",
      "        yh_cnnls = du.column(mu_cnnls**2) + sigma2_cnnls\n",
      "        mse_cnnls = nla.norm(np.squeeze(y0) - np.squeeze(yh_cnnls))**2\n",
      "        if plotsignal:\n",
      "            print mse_cnnls, loss_emd(bt_cnnls), c_cnnls\n",
      "\n",
      "        # NNLS after removing noise floor\n",
      "        yflo = y - est_sigma**2*df; yflo[yflo < 0] = 0\n",
      "        bt_fnnls = np.squeeze(spo.nnls(amat,np.squeeze(np.sqrt(yflo)))[0])\n",
      "        mu_fnnls = np.dot(amat,bt_fnnls)\n",
      "        yh_fnnls = du.column(mu_fnnls**2) + est_sigma**2*df\n",
      "        mse_fnnls = nla.norm(np.squeeze(y0) - np.squeeze(yh_fnnls))**2\n",
      "        if plotsignal:\n",
      "            print mse_fnnls, loss_emd(bt_fnnls)\n",
      "\n",
      "        # get the nonlinear Gaussian approximation\n",
      "\n",
      "        ls_gauss = [ncx.ncxloss_gauss(yy,df,est_sigma) for yy in y]\n",
      "        lk_gauss = likelihood_func(ls_gauss,amat)\n",
      "        bt_gauss =tncsolve(amat,ls_gauss,np.array(bt_fnnls),0.0,1e-5)\n",
      "        mu_gauss = np.dot(amat,bt_gauss)\n",
      "        yh_gauss = mu_gauss**2 + c0\n",
      "        mse_gauss =  nla.norm(np.squeeze(y0) - np.squeeze(yh_gauss))**2\n",
      "        if plotsignal:\n",
      "            print loss_mse(bt_gauss), loss_emd(bt_gauss), lk_gauss(bt_gauss), sum(bt_gauss > 0)\n",
      "\n",
      "        # record results\n",
      "        mses_cnnls[iii,jj] = mse_cnnls\n",
      "        emds_cnnls[iii,jj] = loss_emd(bt_cnnls)\n",
      "        mses_fnnls[iii,jj] = mse_fnnls\n",
      "        emds_fnnls[iii,jj] = loss_emd(bt_fnnls)\n",
      "        mses_gauss[iii,jj] = loss_mse(bt_gauss)\n",
      "        emds_gauss[iii,jj] = loss_emd(bt_gauss)\n",
      "\n",
      "mses_cnnls.mean(axis=0),mses_fnnls.mean(axis=0),mses_gauss.mean(axis=0)"
     ],
     "language": "python",
     "metadata": {},
     "outputs": []
    },
    {
     "cell_type": "code",
     "collapsed": false,
     "input": [],
     "language": "python",
     "metadata": {},
     "outputs": []
    }
   ],
   "metadata": {}
  }
 ]
}