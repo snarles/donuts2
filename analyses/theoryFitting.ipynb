{
 "metadata": {
  "name": "",
  "signature": "sha256:643d099b1f48f9f4fecafe54e2cca48d8af4bcb67d7b68bc322aa8a7b2355c84"
 },
 "nbformat": 3,
 "nbformat_minor": 0,
 "worksheets": [
  {
   "cells": [
    {
     "cell_type": "heading",
     "level": 1,
     "metadata": {},
     "source": [
      "Comparing the model fits, NNLS vs gaussian prox"
     ]
    },
    {
     "cell_type": "code",
     "collapsed": false,
     "input": [
      "import os\n",
      "import numpy as np\n",
      "import numpy.random as npr\n",
      "import numpy.linalg as nla\n",
      "import scipy as sp\n",
      "import scipy.stats as spst\n",
      "import scipy.special as sps\n",
      "import matplotlib.pyplot as plt\n",
      "import numpy.random as npr\n",
      "import scipy.optimize as spo\n",
      "import matplotlib as mpl\n",
      "from mpl_toolkits.mplot3d import Axes3D\n",
      "os.chdir(\"..\")\n",
      "import donuts.deconv.utils as du\n",
      "import donuts.deconv.ncx as ncx"
     ],
     "language": "python",
     "metadata": {},
     "outputs": [],
     "prompt_number": 1
    },
    {
     "cell_type": "code",
     "collapsed": false,
     "input": [
      "\n",
      "def tncsolve(amat,ls,x0,lb=0.0,ft = 1e-3): # use TNC to solve, lb = lower bound\n",
      "    def f(x0):\n",
      "        yh = np.dot(amat,x0)\n",
      "        return sum(np.array([ls[i](yh[i])[0] for i in range(len(yh))]))\n",
      "    def fprime(x0):\n",
      "        yh = np.dot(amat,x0)\n",
      "        rawg= np.array([ls[i](yh[i])[1] for i in range(len(yh))])\n",
      "        return np.dot(rawg.T,amat)\n",
      "    bounds = [(lb,100.0)] * len(x0)\n",
      "    res = spo.fmin_tnc(f,np.squeeze(x0),fprime=fprime,bounds=bounds,ftol=ft)\n",
      "    return res[0]\n",
      "\n",
      "def likelihood_func(ls,amat):\n",
      "    def lk(x0):\n",
      "        yh = np.dot(amat,np.reshape(x0,(-1,1)))\n",
      "        return sum([ls[ii](yh[ii])[0] for ii in range(len(ls))])\n",
      "    return lk\n"
     ],
     "language": "python",
     "metadata": {},
     "outputs": [],
     "prompt_number": 2
    },
    {
     "cell_type": "markdown",
     "metadata": {},
     "source": [
      "Generate the data"
     ]
    },
    {
     "cell_type": "code",
     "collapsed": false,
     "input": [
      "# setting up measurement vectors and fitting vectors\n",
      "res_bv = 5\n",
      "true_kappa = 4.0\n",
      "kappa = 4.0\n",
      "bvecs = np.sqrt(kappa) * du.geosphere(res_bv)\n",
      "bvecs0 = np.sqrt(true_kappa) * du.geosphere(res_bv)\n",
      "n = np.shape(bvecs)[0]\n",
      "print(\"Number of measurement directions is \"+str(n))\n",
      "sgrid = du.geosphere(5)\n",
      "sgrid = sgrid[sgrid[:,2] >= 0,:]\n",
      "pp = np.shape(sgrid)[0]\n",
      "print(\"Number of candidate directions is \"+str(pp))\n",
      "def plotb(zz=np.ones(pp)):\n",
      "    fig = plt.figure()\n",
      "    ax = fig.gca(projection='3d')\n",
      "    ax.scatter(sgrid[:,0],sgrid[:,1],sgrid[:,2])\n",
      "    ax.scatter(zz*sgrid[:,0],zz*sgrid[:,1],zz*sgrid[:,2],color=\"red\")\n",
      "    plt.show()\n",
      "\n",
      "# do you want plots?\n",
      "plotsignal = False\n",
      "# randomize parameters outside of loop?\n",
      "randoutside = True\n",
      "\n",
      "amat0 = du.ste_tan_kappa(sgrid,bvecs0)\n",
      "amat = du.ste_tan_kappa(sgrid,bvecs)"
     ],
     "language": "python",
     "metadata": {},
     "outputs": [
      {
       "output_type": "stream",
       "stream": "stdout",
       "text": [
        "Number of measurement directions is 252\n",
        "Number of candidate directions is 126\n"
       ]
      }
     ],
     "prompt_number": 67
    },
    {
     "cell_type": "code",
     "collapsed": false,
     "input": [
      "true_k = 3\n",
      "# randomly generate parameters\n",
      "if randoutside:\n",
      "    bt0 = np.zeros(pp)\n",
      "    bt0[npr.randint(0,pp-1,true_k)]=1.0/true_k\n",
      "    if plotsignal:\n",
      "        plotb(bt0)"
     ],
     "language": "python",
     "metadata": {},
     "outputs": [],
     "prompt_number": 68
    },
    {
     "cell_type": "code",
     "collapsed": false,
     "input": [
      "\n",
      "\n",
      "total_sigma = 0.5\n",
      "df = 100\n",
      "true_sigma = total_sigma/np.sqrt(df)\n",
      "est_sigma = true_sigma\n",
      "\n",
      "nreps = 10\n",
      "mses_cnnls = np.zeros(nreps); emds_cnnls = np.zeros(nreps);\n",
      "mses_fnnls = np.zeros(nreps); emds_fnnls = np.zeros(nreps);\n",
      "mses_gauss = np.zeros(nreps); emds_gauss = np.zeros(nreps)\n",
      "\n",
      "for iii in range(nreps):\n",
      "    if not randoutside:\n",
      "        bt0 = np.zeros(pp)\n",
      "        bt0[npr.randint(0,pp-1,true_k)]=1.0\n",
      "\n",
      "    c0 = df*true_sigma**2\n",
      "    mu = np.dot(amat0,bt0)\n",
      "    y0 = mu**2 + true_sigma**2*df\n",
      "    y = ncx.rvs_ncx2(df,mu,0,true_sigma)\n",
      "    def loss_emd(x0):\n",
      "        return du.arc_emd(sgrid,ncx.column(bt0),sgrid,ncx.column(x0))\n",
      "    def loss_mse(x0):\n",
      "        yh = np.squeeze(np.dot(amat,ncx.column(x0))**2) + true_sigma**2 * df\n",
      "        return nla.norm(np.squeeze(y0)-np.squeeze(yh))**2\n",
      "    #y = y0\n",
      "    # plot the noiseless params\n",
      "    if plotsignal:\n",
      "        plotb(bt0)\n",
      "\n",
      "    # penalized NNLS solution with constant term\n",
      "    yp = np.hstack([np.squeeze(y),0.0])\n",
      "    l1p = 0.0\n",
      "    amatc = np.hstack([np.ones((n+1,1)),np.vstack([amat,l1p * np.ones((1,pp))])])\n",
      "    cbt_cnnls = np.squeeze(spo.nnls(amatc,np.squeeze(np.sqrt(yp)))[0])\n",
      "    bt_cnnls = cbt_cnnls[1:]\n",
      "    c_cnnls = cbt_cnnls[0]\n",
      "    mu_cnnls = np.dot(amat,bt_cnnls)+c_cnnls\n",
      "    sigma2_cnnls = nla.norm(du.column(np.sqrt(y)) - du.column(mu_cnnls))**2/n\n",
      "    yh_cnnls = du.column(mu_cnnls**2) + sigma2_cnnls\n",
      "    mse_cnnls = nla.norm(np.squeeze(y0) - np.squeeze(yh_cnnls))**2\n",
      "    if plotsignal:\n",
      "        print mse_cnnls, loss_emd(bt_cnnls), c_cnnls\n",
      "        \n",
      "    # NNLS after removing noise floor\n",
      "    yflo = y - est_sigma**2*df; yflo[yflo < 0] = 0\n",
      "    bt_fnnls = np.squeeze(spo.nnls(amat,np.squeeze(np.sqrt(yflo)))[0])\n",
      "    mu_fnnls = np.dot(amat,bt_fnnls)\n",
      "    yh_fnnls = du.column(mu_fnnls**2) + est_sigma**2*df\n",
      "    mse_fnnls = nla.norm(np.squeeze(y0) - np.squeeze(yh_fnnls))**2\n",
      "    if plotsignal:\n",
      "        print mse_fnnls, loss_emd(bt_fnnls)\n",
      "\n",
      "    # get the nonlinear Gaussian approximation\n",
      "\n",
      "    ls_gauss = [ncx.ncxloss_gauss(yy,df,est_sigma) for yy in y]\n",
      "    lk_gauss = likelihood_func(ls_gauss,amat)\n",
      "    bt_gauss =tncsolve(amat,ls_gauss,np.array(bt_fnnls),0.0,1e-5)\n",
      "    mu_gauss = np.dot(amat,bt_gauss)\n",
      "    yh_gauss = mu_gauss**2 + c0\n",
      "    mse_gauss =  nla.norm(np.squeeze(y0) - np.squeeze(yh_gauss))**2\n",
      "    if plotsignal:\n",
      "        print loss_mse(bt_gauss), loss_emd(bt_gauss), lk_gauss(bt_gauss), sum(bt_gauss > 0)\n",
      "        \n",
      "    # record results\n",
      "    mses_cnnls[iii] = mse_cnnls\n",
      "    emds_cnnls[iii] = loss_emd(bt_cnnls)\n",
      "    mses_fnnls[iii] = mse_fnnls\n",
      "    emds_fnnls[iii] = loss_emd(bt_fnnls)\n",
      "    mses_gauss[iii] = loss_mse(bt_gauss)\n",
      "    emds_gauss[iii] = loss_emd(bt_gauss)\n",
      "\n",
      "(np.mean(mses_cnnls),np.mean(emds_cnnls)),(np.mean(mses_fnnls),np.mean(emds_fnnls)),(np.mean(mses_gauss),np.mean(emds_gauss)) "
     ],
     "language": "python",
     "metadata": {},
     "outputs": [
      {
       "metadata": {},
       "output_type": "pyout",
       "prompt_number": 69,
       "text": [
        "((0.10226040499606848, 0.37892142534255979),\n",
        " (0.055497475399740273, 0.045128092914819715),\n",
        " (0.053737102789729485, 0.068482029065489766))"
       ]
      }
     ],
     "prompt_number": 69
    },
    {
     "cell_type": "code",
     "collapsed": false,
     "input": [
      "(np.mean(mses_cnnls),np.mean(emds_cnnls)),(np.mean(mses_fnnls),np.mean(emds_fnnls)),(np.mean(mses_gauss),np.mean(emds_gauss)) "
     ],
     "language": "python",
     "metadata": {},
     "outputs": [
      {
       "metadata": {},
       "output_type": "pyout",
       "prompt_number": 50,
       "text": [
        "((0.23061344494515104, 0.40844458818435669),\n",
        " (0.20776874010145541, 0.25312340578064324),\n",
        " (0.19320988121772081, 0.26172760594636202))"
       ]
      }
     ],
     "prompt_number": 50
    },
    {
     "cell_type": "code",
     "collapsed": false,
     "input": [],
     "language": "python",
     "metadata": {},
     "outputs": [],
     "prompt_number": 13
    },
    {
     "cell_type": "code",
     "collapsed": false,
     "input": [],
     "language": "python",
     "metadata": {},
     "outputs": [],
     "prompt_number": 13
    },
    {
     "cell_type": "code",
     "collapsed": false,
     "input": [],
     "language": "python",
     "metadata": {},
     "outputs": []
    }
   ],
   "metadata": {}
  }
 ]
}