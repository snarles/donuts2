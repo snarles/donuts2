{
 "metadata": {
  "name": "",
  "signature": "sha256:6ec5959f2724c0a1ad61c3d71722f6d8f28acd77cc35c0e578465ffdf1e95649"
 },
 "nbformat": 3,
 "nbformat_minor": 0,
 "worksheets": [
  {
   "cells": [
    {
     "cell_type": "heading",
     "level": 1,
     "metadata": {},
     "source": [
      "Comparing the model fits, NNLS vs gaussian prox"
     ]
    },
    {
     "cell_type": "code",
     "collapsed": false,
     "input": [
      "import os\n",
      "import numpy as np\n",
      "import numpy.random as npr\n",
      "import numpy.linalg as nla\n",
      "import scipy as sp\n",
      "import scipy.stats as spst\n",
      "import scipy.special as sps\n",
      "import matplotlib.pyplot as plt\n",
      "import numpy.random as npr\n",
      "import scipy.optimize as spo\n",
      "import matplotlib as mpl\n",
      "from mpl_toolkits.mplot3d import Axes3D\n",
      "os.chdir(\"..\")\n",
      "import donuts.deconv.utils as du\n",
      "import donuts.deconv.ncx as ncx"
     ],
     "language": "python",
     "metadata": {},
     "outputs": [],
     "prompt_number": 1
    },
    {
     "cell_type": "code",
     "collapsed": false,
     "input": [
      "\n",
      "def tncsolve(amat,ls,x0,lb=0.0,ft = 1e-3): # use TNC to solve, lb = lower bound\n",
      "    def f(x0):\n",
      "        yh = np.dot(amat,x0)\n",
      "        return sum(np.array([ls[i](yh[i])[0] for i in range(len(yh))]))\n",
      "    def fprime(x0):\n",
      "        yh = np.dot(amat,x0)\n",
      "        rawg= np.array([ls[i](yh[i])[1] for i in range(len(yh))])\n",
      "        return np.dot(rawg.T,amat)\n",
      "    bounds = [(lb,100.0)] * len(x0)\n",
      "    res = spo.fmin_tnc(f,np.squeeze(x0),fprime=fprime,bounds=bounds,ftol=ft)\n",
      "    return res[0]\n",
      "\n",
      "def likelihood_func(ls,amat):\n",
      "    def lk(x0):\n",
      "        yh = np.dot(amat,np.reshape(x0,(-1,1)))\n",
      "        return sum([ls[ii](yh[ii])[0] for ii in range(len(ls))])\n",
      "    return lk\n"
     ],
     "language": "python",
     "metadata": {},
     "outputs": [],
     "prompt_number": 2
    },
    {
     "cell_type": "markdown",
     "metadata": {},
     "source": [
      "Generate the data"
     ]
    },
    {
     "cell_type": "code",
     "collapsed": false,
     "input": [
      "# setting up measurement vectors and fitting vectors\n",
      "res_bv = 3\n",
      "true_kappa = 3.0\n",
      "kappa = 3.0\n",
      "bvecs = np.sqrt(kappa) * du.geosphere(res_bv)\n",
      "bvecs0 = np.sqrt(true_kappa) * du.geosphere(res_bv)\n",
      "n = np.shape(bvecs)[0]\n",
      "print(\"Number of measurement directions is \"+str(n))\n",
      "sgrid = du.geosphere(12)\n",
      "sgrid = sgrid[sgrid[:,2] >= 0,:]\n",
      "pp = np.shape(sgrid)[0]\n",
      "print(\"Number of candidate directions is \"+str(pp))\n",
      "def plotb(zz=np.ones(pp)):\n",
      "    fig = plt.figure()\n",
      "    ax = fig.gca(projection='3d')\n",
      "    ax.scatter(sgrid[:,0],sgrid[:,1],sgrid[:,2])\n",
      "    ax.scatter(zz*sgrid[:,0],zz*sgrid[:,1],zz*sgrid[:,2],color=\"red\")\n",
      "    plt.show()\n",
      "\n",
      "# do you want plots?\n",
      "plotsignal = False\n",
      "# randomize parameters outside of loop?\n",
      "randoutside = True"
     ],
     "language": "python",
     "metadata": {},
     "outputs": [
      {
       "output_type": "stream",
       "stream": "stdout",
       "text": [
        "Number of measurement directions is 92\n",
        "Number of candidate directions is 731\n"
       ]
      }
     ],
     "prompt_number": 3
    },
    {
     "cell_type": "code",
     "collapsed": false,
     "input": [
      "# randomly generate parameters\n",
      "true_k = 3\n",
      "amat0 = du.ste_tan_kappa(sgrid,bvecs0)\n",
      "amat = du.ste_tan_kappa(sgrid,bvecs)\n",
      "#bt0 = np.absolute(npr.normal(0,1,pp)) * npr.binomial(1,3.0/pp,pp)\n",
      "nreps = 100\n",
      "mses_cnnls = np.zeros(nreps); emds_cnnls = np.zeros(nreps); mses_gauss = np.zeros(nreps); emds_gauss = np.zeros(nreps)\n",
      "if randoutside:\n",
      "    bt0 = np.zeros(pp)\n",
      "    bt0[npr.randint(0,pp-1,true_k)]=1.0\n",
      "    if plotsignal:\n",
      "        plotb(bt0)"
     ],
     "language": "python",
     "metadata": {},
     "outputs": [],
     "prompt_number": 4
    },
    {
     "cell_type": "code",
     "collapsed": false,
     "input": [
      "\n",
      "\n",
      "total_sigma = 0.2\n",
      "df = 2\n",
      "true_sigma = total_sigma/np.sqrt(df)\n",
      "est_sigma = true_sigma\n",
      "\n",
      "for iii in range(nreps):\n",
      "    if not randoutside:\n",
      "        bt0 = np.zeros(pp)\n",
      "        bt0[npr.randint(0,pp-1,true_k)]=1.0\n",
      "\n",
      "    c0 = df*true_sigma**2\n",
      "    mu = np.dot(amat0,bt0)\n",
      "    y0 = mu**2 + true_sigma**2*df\n",
      "    y = ncx.rvs_ncx2(df,mu,0,true_sigma)\n",
      "    def loss_emd(x0):\n",
      "        return du.arc_emd(sgrid,ncx.column(bt0),sgrid,ncx.column(x0))\n",
      "    def loss_mse(x0):\n",
      "        yh = np.squeeze(np.dot(amat,ncx.column(x0))**2) + true_sigma**2 * df\n",
      "        return nla.norm(np.squeeze(y0)-np.squeeze(yh))**2\n",
      "    #y = y0\n",
      "    # plot the noiseless params\n",
      "    if plotsignal:\n",
      "        plotb(bt0)\n",
      "\n",
      "    # penalized NNLS solution with constant term\n",
      "    yp = np.hstack([np.squeeze(y),0.0])\n",
      "    l1p = 0.0\n",
      "    amatc = np.hstack([np.ones((n+1,1)),np.vstack([amat,l1p * np.ones((1,pp))])])\n",
      "    cbt_cnnls = np.squeeze(spo.nnls(amatc,np.squeeze(np.sqrt(yp)))[0])\n",
      "    bt_cnnls = cbt_cnnls[1:]\n",
      "    c_cnnls = cbt_cnnls[0]\n",
      "    mu_cnnls = np.dot(amat,bt_cnnls)+c_cnnls\n",
      "    sigma2_cnnls = nla.norm(du.column(np.sqrt(y)) - du.column(mu_cnnls))**2/n\n",
      "    yh_cnnls = du.column(mu_cnnls**2) + sigma2_cnnls\n",
      "    mse_cnnls = nla.norm(np.squeeze(y0) - np.squeeze(yh_cnnls))**2\n",
      "    if plotsignal:\n",
      "        print mse_cnnls, loss_emd(bt_cnnls), c_cnnls\n",
      "\n",
      "    # get the nonlinear Gaussian approximation\n",
      "\n",
      "    ls_gauss = [ncx.ncxloss_gauss(yy,df,est_sigma) for yy in y]\n",
      "    lk_gauss = likelihood_func(ls_gauss,amat)\n",
      "    bt_gauss =tncsolve(amat,ls_gauss,np.array(bt_cnnls),0.0,1e-5)\n",
      "    mu_gauss = np.dot(amat,bt_gauss)\n",
      "    yh_gauss = mu_gauss**2 + c0\n",
      "    mse_gauss =  nla.norm(np.squeeze(y0) - np.squeeze(yh_gauss))**2\n",
      "    if plotsignal:\n",
      "        print loss_mse(bt_gauss), loss_emd(bt_gauss), lk_gauss(bt_gauss), sum(bt_gauss > 0)\n",
      "        \n",
      "    # record results\n",
      "    mses_cnnls[iii] = mse_cnnls\n",
      "    emds_cnnls[iii] = loss_emd(bt_cnnls)\n",
      "    mses_gauss[iii] = loss_mse(bt_gauss)\n",
      "    emds_gauss[iii] = loss_emd(bt_gauss)\n",
      "\n",
      "(np.mean(mses_cnnls),np.mean(emds_cnnls)),(np.mean(mses_gauss),np.mean(emds_gauss)) "
     ],
     "language": "python",
     "metadata": {},
     "outputs": [
      {
       "metadata": {},
       "output_type": "pyout",
       "prompt_number": 5,
       "text": [
        "((2.5175754433264452, 0.1148835041001439),\n",
        " (2.5755022227911133, 0.11016337741166353))"
       ]
      }
     ],
     "prompt_number": 5
    },
    {
     "cell_type": "code",
     "collapsed": false,
     "input": [
      "plotb(1.1*bt0)"
     ],
     "language": "python",
     "metadata": {},
     "outputs": [],
     "prompt_number": 54
    },
    {
     "cell_type": "code",
     "collapsed": false,
     "input": [],
     "language": "python",
     "metadata": {},
     "outputs": [
      {
       "output_type": "stream",
       "stream": "stdout",
       "text": [
        "1.12076800424 0.20382630825 [ 19.71330841] 25\n"
       ]
      }
     ],
     "prompt_number": 152
    },
    {
     "cell_type": "code",
     "collapsed": false,
     "input": [
      "% timeit tncsolve(amat,ls_gauss,np.array(bt_cnnls),0.0,1e-5)"
     ],
     "language": "python",
     "metadata": {},
     "outputs": [
      {
       "output_type": "stream",
       "stream": "stdout",
       "text": [
        "1 loops, best of 3: 20.8 s per loop\n"
       ]
      }
     ],
     "prompt_number": 153
    },
    {
     "cell_type": "code",
     "collapsed": false,
     "input": [
      "# use nnnr active set\n",
      "bt_nnnr = nnnr_activeset(amat,ls_gauss,np.array(bt_cnnls),1e-8,nits=10,asnits=1)\n",
      "print loss_mse(bt_nnnr), loss_emd(bt_nnnr),lk_gauss(bt_nnnr), sum(bt_nnnr > 0)"
     ],
     "language": "python",
     "metadata": {},
     "outputs": [
      {
       "output_type": "stream",
       "stream": "stdout",
       "text": [
        "1.14283597235 0.195285573602 [ 25.56100362] 485\n"
       ]
      }
     ],
     "prompt_number": 147
    },
    {
     "cell_type": "code",
     "collapsed": false,
     "input": [
      "% timeit nnnr_activeset(amat,ls_gauss,np.array(bt_cnnls),1e-8,nits=6,asnits=1)"
     ],
     "language": "python",
     "metadata": {},
     "outputs": [
      {
       "output_type": "stream",
       "stream": "stdout",
       "text": [
        "1 loops, best of 3: 3.93 s per loop\n"
       ]
      }
     ],
     "prompt_number": 133
    },
    {
     "cell_type": "heading",
     "level": 2,
     "metadata": {},
     "source": [
      "Plots of the solutions"
     ]
    },
    {
     "cell_type": "code",
     "collapsed": false,
     "input": [
      "plt.scatter(y0,yh_nnls)\n",
      "plt.scatter(y0,yh_nngn,color=\"red\")\n",
      "#plt.scatter(y0,yh_pnnls,color=\"purple\")\n",
      "#plt.scatter(y0,yh_pnngn,color=\"orange\")\n",
      "plt.show()"
     ],
     "language": "python",
     "metadata": {},
     "outputs": [],
     "prompt_number": 132
    },
    {
     "cell_type": "code",
     "collapsed": false,
     "input": [
      "print (sigma2_nnls,true_sigma**2 * df)\n",
      "print (c_nngn, true_sigma**2 * df)"
     ],
     "language": "python",
     "metadata": {},
     "outputs": [
      {
       "output_type": "stream",
       "stream": "stdout",
       "text": [
        "(9.2836852703981321e-05, 0.001)\n",
        "(0.0, 0.001)\n"
       ]
      }
     ],
     "prompt_number": 71
    },
    {
     "cell_type": "code",
     "collapsed": false,
     "input": [
      "bt = np.squeeze(spo.nnls(amat,np.squeeze(mu))[0])\n",
      "muh = np.dot(amat,bt)\n",
      "plt.scatter(mu,muh); plt.show()"
     ],
     "language": "python",
     "metadata": {},
     "outputs": [],
     "prompt_number": 55
    },
    {
     "cell_type": "code",
     "collapsed": false,
     "input": [
      "#res_true =tncsolve(amat,ls_true,np.array(bt_gauss/true_sigma),0.0,False)\n",
      "#bt_true= res_true[0]*true_sigma"
     ],
     "language": "python",
     "metadata": {},
     "outputs": []
    },
    {
     "cell_type": "code",
     "collapsed": false,
     "input": [
      "def loss_emd(x0):\n",
      "    return du.arc_emd(sgrid,ncx.column(bt0),sgrid,ncx.column(x0))\n",
      "def loss_mse(x0):\n",
      "    yh = np.squeeze(np.dot(amat,ncx.column(x0))**2) + sigma**2 * df\n",
      "    return nla.norm(np.squeeze(y0)-np.squeeze(yh))**2\n",
      "#def loss_mse(x0):\n",
      "#    yh = np.squeeze(np.dot(amat,ncx.column(x0)))\n",
      "#    return nla.norm(yh-mu)**2/n\n",
      "loss_emd(bt0),loss_emd(bt),loss_emd(bt_gauss),loss_emd(bt_gauss_cht)#,loss_emd(bt_true)\n",
      "loss_mse(bt0),nla.norm(yhsq_nnls-du.column(ysq))**2,loss_mse(bt_gauss),loss_mse(bt_gauss_cht)"
     ],
     "language": "python",
     "metadata": {},
     "outputs": []
    },
    {
     "cell_type": "code",
     "collapsed": false,
     "input": [],
     "language": "python",
     "metadata": {},
     "outputs": []
    },
    {
     "cell_type": "code",
     "collapsed": false,
     "input": [
      "lk_true(bt0),lk_true(bt_gauss)"
     ],
     "language": "python",
     "metadata": {},
     "outputs": []
    },
    {
     "cell_type": "code",
     "collapsed": false,
     "input": [
      "lk_gauss(bt0),lk_gauss(bt),lk_gauss(bt_gauss),lk_gauss(bt_gauss_cht)"
     ],
     "language": "python",
     "metadata": {},
     "outputs": []
    },
    {
     "cell_type": "code",
     "collapsed": false,
     "input": [
      "np.mean(ysq),np.mean(musq)+df"
     ],
     "language": "python",
     "metadata": {},
     "outputs": []
    },
    {
     "cell_type": "code",
     "collapsed": false,
     "input": [
      "zip(np.dot(amat,bt0),mu)\n",
      "yh = np.dot(amat,ncx.column(bt_gauss))\n",
      "#zip(np.dot(amat,bt0),mu,yh)"
     ],
     "language": "python",
     "metadata": {},
     "outputs": []
    },
    {
     "cell_type": "code",
     "collapsed": false,
     "input": [],
     "language": "python",
     "metadata": {},
     "outputs": []
    },
    {
     "cell_type": "code",
     "collapsed": false,
     "input": [
      "# developing Gauss-newton\n",
      "def gauss_newton(amat,x0,df,sigma):\n",
      "    "
     ],
     "language": "python",
     "metadata": {},
     "outputs": []
    }
   ],
   "metadata": {}
  }
 ]
}