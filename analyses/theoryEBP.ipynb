{
 "metadata": {
  "name": "",
  "signature": "sha256:87a57c0a4f918e0e3e35c55acbdce6d72cea357cbe1b3744911bef1bcfe12093"
 },
 "nbformat": 3,
 "nbformat_minor": 0,
 "worksheets": [
  {
   "cells": [
    {
     "cell_type": "markdown",
     "metadata": {},
     "source": [
      "Elastic basis pursuit"
     ]
    },
    {
     "cell_type": "code",
     "collapsed": false,
     "input": [
      "import os\n",
      "import numpy as np\n",
      "import scipy as sp\n",
      "import scipy.stats as spst\n",
      "import scipy.special as sps\n",
      "import numpy.random as npr\n",
      "import matplotlib.pyplot as plt\n",
      "import numpy.random as npr\n",
      "import scipy.optimize as spo\n",
      "\n",
      "os.chdir(\"..\")\n",
      "import donuts.deconv.splines as spl"
     ],
     "language": "python",
     "metadata": {},
     "outputs": [
      {
       "output_type": "stream",
       "stream": "stderr",
       "text": [
        "/usr/local/lib/python2.7/dist-packages/setuptools-7.0-py2.7.egg/pkg_resources.py:1045: UserWarning: /home/snarles/.python-eggs is writable by group/others and vulnerable to attack when used with get_resource_filename. Consider a more secure location (set with .set_extraction_path or the PYTHON_EGG_CACHE environment variable).\n",
        "  warnings.warn(msg, UserWarning)\n"
       ]
      }
     ],
     "prompt_number": 39
    },
    {
     "cell_type": "code",
     "collapsed": false,
     "input": [
      "#ncx code\n",
      "\n",
      "def numderiv2(f,x,delta):\n",
      "    return (f(x+delta)+f(x-delta)-2*f(x))/(delta**2)\n",
      "\n",
      "def numderiv(f,x,delta):\n",
      "    return (f(x+delta)-f(x))/delta\n",
      "\n",
      "def logivy(v,y):\n",
      "    y = np.atleast_1d(y)\n",
      "    ans = np.array(y)\n",
      "    ans[y < 500] = np.log(sps.iv(v,y[y < 500]))\n",
      "    ans[y >= 500] = y[y >= 500] - np.log(2*np.pi*y[y >= 500])\n",
      "    return ans\n",
      "\n",
      "def logncx2pdf_x(x,df,nc): #only x varies\n",
      "    if nc==0:\n",
      "        return spst.chi2.logpdf(x,df)\n",
      "    else:\n",
      "        return -np.log(2.0) -(x+nc)/2.0 + (df/4 - .5)*np.log(x/nc) + logivy((df/2-1),np.sqrt(nc*x))\n",
      "\n",
      "def logncx2pdf_nc(x,df,nc0): #only nc varies\n",
      "    nc0 =np.atleast_1d(nc0) \n",
      "    nc = np.array(nc0)\n",
      "    nc[nc0 < 1e-5] = 1e-5\n",
      "    ans= -np.log(2.0) -(x+nc)/2.0 + (df/4 - .5)*np.log(x/nc) + logivy((df/2-1),np.sqrt(nc*x))\n",
      "    return ans\n",
      "\n",
      "def convex_nc_loss(x,df):\n",
      "    def ff(mu):\n",
      "        return -logncx2pdf_nc(x,df,mu**2)\n",
      "    def f2(mu):\n",
      "        return numderiv2(ff,mu,1e-3) - 1e-2\n",
      "    mugrid = np.arange(0.0,2*df,df*0.01)\n",
      "    res = np.where(f2(mugrid) < 1e-2)[0]\n",
      "    if len(res) > 0:\n",
      "        imin = np.where(f2(mugrid) < 1e-2)[0][-1]\n",
      "        muinf = mugrid[imin]\n",
      "    else:\n",
      "        muinf = 0.0\n",
      "    val = ff(muinf)\n",
      "    dval = numderiv(ff,muinf,1e-3)\n",
      "    d2val = 1e-2\n",
      "    #print(muinf)\n",
      "    def cff(mu):\n",
      "        mu = np.atleast_1d(mu)\n",
      "        ans = np.array(mu)\n",
      "        ans[mu > muinf] = -logncx2pdf_nc(x,df,mu[mu > muinf]**2)\n",
      "        ans[mu <= muinf] = val + (mu[mu <= muinf]-muinf)*dval + .5*d2val*(mu[mu <= muinf]-muinf)**2\n",
      "        return ans\n",
      "    return cff"
     ],
     "language": "python",
     "metadata": {},
     "outputs": [],
     "prompt_number": 128
    },
    {
     "cell_type": "code",
     "collapsed": false,
     "input": [
      "def pruneroutine(v1,v2):\n",
      "    # finds the minimum convex combination of v1 and v2 so that exactly one element is nonpositive (zero)\n",
      "    # v1 is nonnegative\n",
      "    v1 = np.atleast_1d(v1)\n",
      "    v2 = np.atleast_1d(v2)\n",
      "    assert min(v1)>=0\n",
      "    if min(v2) >=0:\n",
      "        return v2,-1\n",
      "    else:\n",
      "        mina = np.array(v2)*0\n",
      "        mina[v1 != v2]= -v1[v1 != v2]/(v2[v1 != v2]-v1[v1 != v2])\n",
      "        ans = (1-mina)*v1 + mina*v2\n",
      "        assert min(ans) >= -1e-15\n",
      "        mina[v2 >= 0] = 1e99\n",
      "        mina[v2==v1] = 1e99\n",
      "        a = min(mina)\n",
      "        assert a <= 1\n",
      "        assert a >= 0\n",
      "        o = np.where(mina == a)[0][0]\n",
      "        ans = (1-a)*v1 + a*v2\n",
      "        assert min(ans) >= -1e-15\n",
      "        ans[ans <0] =0\n",
      "        return ans,o\n",
      "\n",
      "def subrefitting(amat,ls,x0,newind): # refit x0 so that grad(x0)=0 where x0 positive\n",
      "    oldx0 = np.array(x0)\n",
      "    s = np.zeros(p,dtype=bool)\n",
      "    s[np.squeeze(x0) > 1e-20] = True\n",
      "    s[newind] = True\n",
      "    amat2 = amat[:,s]\n",
      "    x02 = np.array(x0[s])\n",
      "    x02 = bfgssolve(amat2,ls,np.array(x02),-1.0)[0]\n",
      "    oldx02 = np.array(x02)\n",
      "    x0[~s] = 0.0\n",
      "    x0[s]=x02\n",
      "    flag = min(x0) < 0\n",
      "    x0 = pruneroutine(oldx0,np.array(x0))[0]\n",
      "    while flag:\n",
      "        oldx0 = np.array(x0)\n",
      "        s = np.zeros(p,dtype=bool)\n",
      "        s[np.squeeze(x0) > 1e-20] = True\n",
      "        amat2 = amat[:,s]\n",
      "        x02 = np.array(x0[s])\n",
      "        x02 = bfgssolve(amat2,ls,np.array(x02),-1.0)[0]\n",
      "        x0[~s] = 0.0\n",
      "        x0[s]=x02\n",
      "        flag = min(x0) < 0\n",
      "        x0new = np.array(x0)\n",
      "        #print(min(x0))\n",
      "        x0 = pruneroutine(oldx0,np.array(x0))[0]\n",
      "    return x0\n",
      "\n",
      "def ebp(amat,ls,x0): # ls is a list of loss functions, x0 is initial guess\n",
      "    x0seq = [np.array(x0)]\n",
      "    newind = np.where(x0==max(x0))[0]\n",
      "    p = np.shape(amat)[1]\n",
      "    flag = True\n",
      "    count = 0\n",
      "    while flag:\n",
      "        count = count + 1\n",
      "        # **** refitting step ****\n",
      "        x0 = subrefitting(amat,ls,np.array(x0),newind)\n",
      "        # next candidate step\n",
      "        yh = np.dot(amat,x0)\n",
      "        rawg = np.array([ls[i](yh[i])[1] for i in range(n)])\n",
      "        g = np.dot(rawg.T,amat)\n",
      "        if min(g) > -1e-5:\n",
      "            flag=False\n",
      "        else:\n",
      "            newind = np.where(g==min(g))[0][0]\n",
      "        if count > 1000:\n",
      "            flag = False\n",
      "        x0seq = x0seq + [np.array(x0)]\n",
      "    return x0,x0seq\n",
      "\n",
      "def bfgssolve(amat,ls,x0,lb=0.0): # use LBFS-G to solve\n",
      "    def f(x0):\n",
      "        yh = np.dot(amat,x0)\n",
      "        return sum(np.array([ls[i](yh[i])[0] for i in range(len(yh))]))\n",
      "    def fprime(x0):\n",
      "        yh = np.dot(amat,x0)\n",
      "        rawg= np.array([ls[i](yh[i])[1] for i in range(len(yh))])\n",
      "        return np.dot(rawg.T,amat)\n",
      "    bounds = [(lb,100.0)] * len(x0)\n",
      "    res = spo.fmin_l_bfgs_b(f,np.squeeze(x0),fprime=fprime,bounds=bounds)\n",
      "    return res\n",
      "    \n",
      "\n",
      "def ncxlosses(df,y):\n",
      "    n = len(y)\n",
      "    ans = [0.] * n\n",
      "    for ii in range(n):\n",
      "        x = y[ii]\n",
      "        mmax = np.sqrt(x)*3\n",
      "        mugrid = np.arange(0,mmax,mmax/100)\n",
      "        clos = convex_nc_loss(n,x)\n",
      "        pts = clos(mugrid)\n",
      "        f = spl.convspline(mugrid,pts)\n",
      "        ans[ii]=f\n",
      "    return ans"
     ],
     "language": "python",
     "metadata": {},
     "outputs": [],
     "prompt_number": 463
    },
    {
     "cell_type": "code",
     "collapsed": false,
     "input": [
      "n = 20\n",
      "p = 500\n",
      "amat = np.absolute(npr.normal(0,1,(n,p)))\n",
      "bt0 = np.zeros((p,1))\n",
      "bt0[:2] = 1\n",
      "df = 10\n",
      "mu = np.dot(amat,bt0)\n",
      "ysq = spst.ncx2.rvs(df,mu**2)\n",
      "ls = ncxlosses(df,ysq)\n",
      "\n",
      "def f(x0):\n",
      "    yh = np.dot(amat,x0)\n",
      "    return sum(np.array([ls[i](yh[i])[0] for i in range(len(yh))]))\n",
      "def fprime(x0):\n",
      "    yh = np.dot(amat,x0)\n",
      "    rawg= np.array([ls[i](yh[i])[1] for i in range(len(yh))])\n",
      "    return np.dot(rawg.T,amat)"
     ],
     "language": "python",
     "metadata": {},
     "outputs": [],
     "prompt_number": 63
    },
    {
     "cell_type": "code",
     "collapsed": false,
     "input": [
      "bt = spo.nnls(amat,np.squeeze(np.sqrt(ysq)))[0]\n",
      "#print(f(bt))\n",
      "res = bfgssolve(amat,ls,np.array(bt),0.0)\n",
      "x0 = res[0]\n",
      "(f(x0),sum(x0 > 0))"
     ],
     "language": "python",
     "metadata": {},
     "outputs": [
      {
       "metadata": {},
       "output_type": "pyout",
       "prompt_number": 478,
       "text": [
        "(59.093333593462773, 32)"
       ]
      }
     ],
     "prompt_number": 478
    },
    {
     "cell_type": "code",
     "collapsed": false,
     "input": [
      "resebp = ebp(amat,ls,np.array(bt))\n",
      "x0 = resebp[0]\n",
      "(f(x0),sum(x0 > 0))"
     ],
     "language": "python",
     "metadata": {},
     "outputs": [
      {
       "metadata": {},
       "output_type": "pyout",
       "prompt_number": 526,
       "text": [
        "(59.090007466075789, 19)"
       ]
      }
     ],
     "prompt_number": 526
    },
    {
     "cell_type": "code",
     "collapsed": false,
     "input": [],
     "language": "python",
     "metadata": {},
     "outputs": []
    },
    {
     "cell_type": "markdown",
     "metadata": {},
     "source": [
      "Testing EBP"
     ]
    },
    {
     "cell_type": "code",
     "collapsed": false,
     "input": [
      "x0 = np.array(bt)\n",
      "x0seq = [np.array(x0)]\n",
      "newind = np.where(x0==max(x0))[0]\n",
      "newinds = [newind]\n",
      "p = np.shape(amat)[1]\n",
      "flag = True\n",
      "count = 0\n",
      "f(x0)"
     ],
     "language": "python",
     "metadata": {},
     "outputs": [
      {
       "metadata": {},
       "output_type": "pyout",
       "prompt_number": 479,
       "text": [
        "74.579729607938319"
       ]
      }
     ],
     "prompt_number": 479
    },
    {
     "cell_type": "code",
     "collapsed": false,
     "input": [
      "count = count + 1\n",
      "# **** refitting step ****\n",
      "x0 = subrefitting(amat,ls,np.array(x0),newind)\n",
      "# next candidate step\n",
      "yh = np.dot(amat,x0)\n",
      "rawg = np.array([ls[i](yh[i])[1] for i in range(n)])\n",
      "g = np.dot(rawg.T,amat)\n",
      "if min(g) > -1e-5:\n",
      "    flag=False\n",
      "else:\n",
      "    newind = np.where(g==min(g))[0][0]\n",
      "    newinds = newinds + [newind]\n",
      "if count > 1000:\n",
      "    flag = False\n",
      "x0seq = x0seq + [np.array(x0)]\n",
      "(f(x0),sum(x0 > 0),min(g),count,flag)"
     ],
     "language": "python",
     "metadata": {},
     "outputs": [
      {
       "metadata": {},
       "output_type": "pyout",
       "prompt_number": 525,
       "text": [
        "(59.090007454007385, 19, 9.7016050047575832e-05, 46, False)"
       ]
      }
     ],
     "prompt_number": 525
    },
    {
     "cell_type": "code",
     "collapsed": false,
     "input": [
      "(f(x0seq[33]),newinds[33])"
     ],
     "language": "python",
     "metadata": {},
     "outputs": [
      {
       "metadata": {},
       "output_type": "pyout",
       "prompt_number": 412,
       "text": [
        "(59.767210298716819, 42)"
       ]
      }
     ],
     "prompt_number": 412
    },
    {
     "cell_type": "code",
     "collapsed": false,
     "input": [
      "indark = 33\n",
      "x0ark = x0seq[indark]\n",
      "newindark = newinds[indark]"
     ],
     "language": "python",
     "metadata": {},
     "outputs": [],
     "prompt_number": 415
    },
    {
     "cell_type": "code",
     "collapsed": false,
     "input": [
      "(f(x0ark),min(x0ark))"
     ],
     "language": "python",
     "metadata": {},
     "outputs": [
      {
       "metadata": {},
       "output_type": "pyout",
       "prompt_number": 416,
       "text": [
        "(59.767210298716819, -7.161243359447845e-34)"
       ]
      }
     ],
     "prompt_number": 416
    },
    {
     "cell_type": "code",
     "collapsed": false,
     "input": [
      "x0 = np.array(x0ark)\n",
      "newind = newindark"
     ],
     "language": "python",
     "metadata": {},
     "outputs": [],
     "prompt_number": 298
    },
    {
     "cell_type": "markdown",
     "metadata": {},
     "source": [
      "Testing subroutine"
     ]
    },
    {
     "cell_type": "code",
     "collapsed": false,
     "input": [
      "#x0 = np.array(x0ark)\n",
      "#newind = newindark\n",
      "\n",
      "x0 = np.array(bt)\n",
      "print(f(x0))\n",
      "newind = np.where(x0==max(x0))[0]\n",
      "oldx0 = np.array(x0)\n",
      "s = np.zeros(p,dtype=bool)\n",
      "s[np.squeeze(x0) > 1e-20] = True\n",
      "s[newind] = True\n",
      "amat2 = amat[:,s]\n",
      "x02 = np.array(x0[s])\n",
      "x02 = bfgssolve(amat2,ls,np.array(x02),-1.0)[0]\n",
      "oldx02 = np.array(x02)\n",
      "x0[~s] = 0.0\n",
      "x0[s]=x02\n",
      "flag = min(x0) < 0\n",
      "x0 = pruneroutine(oldx0,np.array(x0))[0]\n",
      "(f(x0),flag)"
     ],
     "language": "python",
     "metadata": {},
     "outputs": [
      {
       "output_type": "stream",
       "stream": "stdout",
       "text": [
        "74.5797296079\n"
       ]
      },
      {
       "metadata": {},
       "output_type": "pyout",
       "prompt_number": 420,
       "text": [
        "(74.026986542777422, True)"
       ]
      }
     ],
     "prompt_number": 420
    },
    {
     "cell_type": "code",
     "collapsed": false,
     "input": [
      "oldx0 = np.array(x0)\n",
      "s = np.zeros(p,dtype=bool)\n",
      "s[np.squeeze(x0) > 1e-20] = True\n",
      "amat2 = amat[:,s]\n",
      "x02 = np.array(x0[s])\n",
      "x02 = bfgssolve(amat2,ls,np.array(x02),-1.0)[0]\n",
      "x0[~s] = 0.0\n",
      "x0[s]=x02\n",
      "flag = min(x0) < 0\n",
      "x0new = np.array(x0)\n",
      "print(min(x0))\n",
      "x0 = pruneroutine(oldx0,np.array(x0))[0]\n",
      "(f(x0),flag)"
     ],
     "language": "python",
     "metadata": {},
     "outputs": [
      {
       "output_type": "stream",
       "stream": "stdout",
       "text": [
        "-1.0\n"
       ]
      },
      {
       "metadata": {},
       "output_type": "pyout",
       "prompt_number": 423,
       "text": [
        "(66.159118489625186, True)"
       ]
      }
     ],
     "prompt_number": 423
    },
    {
     "cell_type": "code",
     "collapsed": false,
     "input": [
      "x0new[s]"
     ],
     "language": "python",
     "metadata": {},
     "outputs": [
      {
       "metadata": {},
       "output_type": "pyout",
       "prompt_number": 362,
       "text": [
        "array([-0.10506345,  0.5501807 ,  0.11715688, -0.08283377,  0.17583834,\n",
        "       -0.29381685, -0.50938756,  0.84747827, -0.30582553,  0.29435681,\n",
        "       -0.29329957,  1.85197973,  0.19563369, -0.81881465,  0.04033095,\n",
        "        0.39345424, -1.        ,  0.23736429,  0.29460637,  1.07917614])"
       ]
      }
     ],
     "prompt_number": 362
    },
    {
     "cell_type": "code",
     "collapsed": false,
     "input": [
      "x0[s]"
     ],
     "language": "python",
     "metadata": {},
     "outputs": [
      {
       "metadata": {},
       "output_type": "pyout",
       "prompt_number": 363,
       "text": [
        "array([  3.09443836e-001,   3.39179106e-002,   2.22691967e-003,\n",
        "         1.14636390e-001,   8.97754569e-002,   2.72756942e-001,\n",
        "         1.56464762e-001,   9.05035198e-002,   2.73976169e-194,\n",
        "         6.66546422e-003,   1.25249114e-001,   1.36328466e-001,\n",
        "         2.32809080e-002,   4.82349166e-001,   8.38789646e-002,\n",
        "         3.35434493e-002,   6.21468144e-001,   1.39023728e-001,\n",
        "         5.44056749e-001,   4.71546615e-001])"
       ]
      }
     ],
     "prompt_number": 363
    },
    {
     "cell_type": "code",
     "collapsed": false,
     "input": [
      "resebp = ebp(amat,ls,np.array(bt))\n",
      "x0 = resebp[0]\n",
      "f(x0)"
     ],
     "language": "python",
     "metadata": {},
     "outputs": []
    },
    {
     "cell_type": "code",
     "collapsed": false,
     "input": [
      "[sum(resebp[0] > 0),sum(res[0] > 0)]"
     ],
     "language": "python",
     "metadata": {},
     "outputs": [
      {
       "metadata": {},
       "output_type": "pyout",
       "prompt_number": 49,
       "text": [
        "[17, 18]"
       ]
      }
     ],
     "prompt_number": 49
    },
    {
     "cell_type": "code",
     "collapsed": false,
     "input": [
      "fprime(x02)[x02 > 0]"
     ],
     "language": "python",
     "metadata": {},
     "outputs": [
      {
       "metadata": {},
       "output_type": "pyout",
       "prompt_number": 354,
       "text": [
        "array([  2.31243524e-05,   1.79270371e-05,   1.53864876e-06,\n",
        "         1.12106956e-05])"
       ]
      }
     ],
     "prompt_number": 354
    },
    {
     "cell_type": "code",
     "collapsed": false,
     "input": [
      "fprime(res[0])"
     ],
     "language": "python",
     "metadata": {},
     "outputs": [
      {
       "metadata": {},
       "output_type": "pyout",
       "prompt_number": 345,
       "text": [
        "array([  3.99364630e-01,  -3.09226073e-04,   7.73182357e-01,\n",
        "         1.74471296e+00,   1.03643085e+00,   2.10586148e-05,\n",
        "         1.13097663e+00,   3.56040954e+00,   1.53363885e+00,\n",
        "         6.88656365e-01,   5.70117040e-02,   2.44839121e+00,\n",
        "         1.93246482e+00,   1.28812489e+00,   3.75937363e-01,\n",
        "         2.50614167e+00,   7.14514672e-01,   7.18007471e-05,\n",
        "         7.80825760e-01,   1.80548021e+00,   1.06478627e+00,\n",
        "         9.90569691e-01,   1.33522849e+00,   1.02688863e+00,\n",
        "         1.41995241e+00,   3.50632248e-01,   1.88792772e-01,\n",
        "         1.21341736e+00,   9.43430087e-01,   9.44738604e-01,\n",
        "         1.35952557e+00,   9.23825914e-01,   1.63315541e+00,\n",
        "         1.41722389e+00,   7.24538326e-01,   1.42027495e+00,\n",
        "         1.37027386e+00,   2.34512129e+00,   1.26214092e+00,\n",
        "         4.32565809e-01,   1.61736499e+00,   1.96060367e+00,\n",
        "         1.86992715e+00,   1.39756294e+00,  -1.00155566e-04,\n",
        "        -1.28536442e-04,   1.10912127e-01,   7.07345295e-01,\n",
        "         7.80844747e-01,   1.72308676e-01])"
       ]
      }
     ],
     "prompt_number": 345
    },
    {
     "cell_type": "code",
     "collapsed": false,
     "input": [
      "resebp[1]"
     ],
     "language": "python",
     "metadata": {},
     "outputs": [
      {
       "metadata": {},
       "output_type": "pyout",
       "prompt_number": 319,
       "text": [
        "[array([ 0.        ,  1.0664185 ,  2.16817493,  0.        ,  0.86690074,\n",
        "         0.29303668,  0.        ,  0.        ,  0.15695727,  0.        ]),\n",
        " array([ 0.        ,  1.0664185 ,  2.16817493,  0.        ,  0.86690074,\n",
        "         0.29303668,  0.        ,  0.        ,  0.15695727,  0.        ])]"
       ]
      }
     ],
     "prompt_number": 319
    },
    {
     "cell_type": "code",
     "collapsed": false,
     "input": [
      "x0 = np.array(bt)\n",
      "p = np.shape(amat)[1]\n",
      "flag = True\n",
      "s = np.zeros(p,dtype=bool)\n",
      "s[np.squeeze(x0) > 1e-20] = True\n",
      "x0seq = [np.array(x0)]"
     ],
     "language": "python",
     "metadata": {},
     "outputs": [],
     "prompt_number": 322
    },
    {
     "cell_type": "code",
     "collapsed": false,
     "input": [
      "amat2 = amat[:,s]\n",
      "x02 = np.array(x0[s])\n",
      "res02 = bfgssolve(amat2,ls,x02,0.0)\n",
      "x02 =res02[0]\n",
      "x0[s]=x02\n",
      "\n",
      "yh = np.dot(amat,x0)\n",
      "rawg = np.array([ls[i](yh[i])[1] for i in range(n)])\n",
      "\n",
      "g = np.dot(rawg.T,amat)\n",
      "print([loss(x0),min(g),x0])\n",
      "\n",
      "if min(g) > -1e-5:\n",
      "    flag=False\n",
      "else:\n",
      "    ind = np.where(g==min(g))[0][0]\n",
      "    s[ind]=True\n",
      "    if x0[ind] < 1e-20:\n",
      "        x0[ind]=1e-5\n",
      "x0seq = x0seq + [np.array(x0)]\n"
     ],
     "language": "python",
     "metadata": {},
     "outputs": [
      {
       "output_type": "stream",
       "stream": "stdout",
       "text": [
        "[13.761844147550029, -1.8228589925418447e-05, array([  1.34832349e-05,   5.44153734e-01,   1.29704312e+00,\n",
        "         0.00000000e+00,   2.76881515e-07,   8.91047117e-01,\n",
        "         0.00000000e+00,   0.00000000e+00,   3.29950258e-01,\n",
        "         9.82124967e-01])]\n"
       ]
      }
     ],
     "prompt_number": 327
    },
    {
     "cell_type": "code",
     "collapsed": false,
     "input": [
      "[13.415306944768647, -0.0051969849982899143]"
     ],
     "language": "python",
     "metadata": {},
     "outputs": []
    },
    {
     "cell_type": "code",
     "collapsed": false,
     "input": [
      "x0a = np.array(x0)"
     ],
     "language": "python",
     "metadata": {},
     "outputs": [],
     "prompt_number": 297
    },
    {
     "cell_type": "code",
     "collapsed": false,
     "input": [
      "x02"
     ],
     "language": "python",
     "metadata": {},
     "outputs": [
      {
       "metadata": {},
       "output_type": "pyout",
       "prompt_number": 130,
       "text": [
        "array([ 1.02209522,  0.98257249,  2.16381201,  0.47245812])"
       ]
      }
     ],
     "prompt_number": 130
    },
    {
     "cell_type": "code",
     "collapsed": false,
     "input": [
      "pruneroutine(x02old,x02)"
     ],
     "language": "python",
     "metadata": {},
     "outputs": [
      {
       "metadata": {},
       "output_type": "pyout",
       "prompt_number": 131,
       "text": [
        "(array([ 1.01623394,  0.97027142,  2.15458253,  0.47730043]), 0)"
       ]
      }
     ],
     "prompt_number": 131
    },
    {
     "cell_type": "code",
     "collapsed": false,
     "input": [
      "amat2"
     ],
     "language": "python",
     "metadata": {},
     "outputs": [
      {
       "metadata": {},
       "output_type": "pyout",
       "prompt_number": 77,
       "text": [
        "array([[ 0.78704991,  0.72717056,  0.34022448],\n",
        "       [ 0.57777142,  0.66648198,  0.58797243],\n",
        "       [ 0.95991539,  0.03975101,  0.27871945],\n",
        "       [ 1.2130095 ,  1.02209947,  0.21570625],\n",
        "       [ 0.34107076,  0.596097  ,  1.29039437]])"
       ]
      }
     ],
     "prompt_number": 77
    },
    {
     "cell_type": "code",
     "collapsed": false,
     "input": [
      "amat2 = amat[:,s]\n",
      "x02 = x0[s]\n",
      "x02old = x02\n",
      "x02,ls0 = gd(amat2,ls,x02)\n",
      "x02,ls1 = gd(amat2,ls,x02)\n",
      "while (ls0 - ls1) > 1e-3:\n",
      "    ls0 = ls1\n",
      "    x02,ls1 = gd(amat2,ls,x02)"
     ],
     "language": "python",
     "metadata": {},
     "outputs": [],
     "prompt_number": 236
    },
    {
     "cell_type": "code",
     "collapsed": false,
     "input": [
      "x0seq"
     ],
     "language": "python",
     "metadata": {},
     "outputs": [
      {
       "metadata": {},
       "output_type": "pyout",
       "prompt_number": 52,
       "text": [
        "[array([ 2.89851685,  0.42807301,  0.        ,  1.24165962,  0.        ,\n",
        "         0.16532922,  0.        ,  0.        ,  0.        ,  0.        ]),\n",
        " array([  2.78929675e+00,   3.60419061e-01,   0.00000000e+00,\n",
        "          1.27441727e+00,   0.00000000e+00,   2.77555756e-17,\n",
        "          0.00000000e+00,   0.00000000e+00,   0.00000000e+00,\n",
        "          0.00000000e+00]),\n",
        " array([ 2.78929675,  0.36041906,  0.        ,  1.27441727,  0.        ,\n",
        "         0.        ,  0.        ,  0.        ,  0.        ,  0.        ])]"
       ]
      }
     ],
     "prompt_number": 52
    },
    {
     "cell_type": "code",
     "collapsed": false,
     "input": [
      "bt"
     ],
     "language": "python",
     "metadata": {},
     "outputs": [
      {
       "metadata": {},
       "output_type": "pyout",
       "prompt_number": 47,
       "text": [
        "array([ 2.89851685,  0.42807301,  0.        ,  1.24165962,  0.        ,\n",
        "        0.16532922,  0.        ,  0.        ,  0.        ,  0.        ])"
       ]
      }
     ],
     "prompt_number": 47
    },
    {
     "cell_type": "code",
     "collapsed": false,
     "input": [
      "x0"
     ],
     "language": "python",
     "metadata": {},
     "outputs": [
      {
       "metadata": {},
       "output_type": "pyout",
       "prompt_number": 48,
       "text": [
        "array([  2.78929675e+00,   3.60419061e-01,   0.00000000e+00,\n",
        "         1.27441727e+00,   0.00000000e+00,   2.77555756e-17,\n",
        "         0.00000000e+00,   0.00000000e+00,   0.00000000e+00,\n",
        "         0.00000000e+00])"
       ]
      }
     ],
     "prompt_number": 48
    },
    {
     "cell_type": "code",
     "collapsed": false,
     "input": [
      "mugrid=np.arange(0,3,.1)\n",
      "mkmk = [ls[0](x)[0] for x in mugrid]\n",
      "plt.scatter(mugrid,mkmk)\n",
      "plt.show()"
     ],
     "language": "python",
     "metadata": {},
     "outputs": [],
     "prompt_number": 95
    },
    {
     "cell_type": "code",
     "collapsed": false,
     "input": [
      "x0 = bt\n",
      "def f(x0):\n",
      "    yh = np.dot(amat,x0)\n",
      "    return sum(np.array([ls[i](yh[i])[0] for i in range(len(yh))]))\n",
      "def fprime(x0):\n",
      "    yh = np.dot(amat,x0)\n",
      "    rawg= np.array([ls[i](yh[i])[1] for i in range(len(yh))])\n",
      "    return np.dot(rawg.T,amat)\n",
      "bounds = [(0.0,100.0)] * len(x0)\n",
      "res = spo.fmin_l_bfgs_b(f,np.squeeze(x0),fprime=fprime,bounds=bounds)\n"
     ],
     "language": "python",
     "metadata": {},
     "outputs": [],
     "prompt_number": 120
    },
    {
     "cell_type": "code",
     "collapsed": false,
     "input": [
      "res"
     ],
     "language": "python",
     "metadata": {},
     "outputs": [
      {
       "metadata": {},
       "output_type": "pyout",
       "prompt_number": 121,
       "text": [
        "(array([ 2.0186227 ,  0.        ,  0.        ,  0.        ,  0.        ,\n",
        "         0.61353646,  3.08337257,  0.16916887,  0.        ,  0.        ]),\n",
        " 14.400339341247355,\n",
        " {'funcalls': 32,\n",
        "  'grad': array([  2.03732614e-05,   5.04307039e-02,   7.85928734e-03,\n",
        "           3.29657294e-02,   3.78908633e-02,   2.39820571e-05,\n",
        "          -9.32518397e-06,   1.63477234e-05,   4.22533748e-02,\n",
        "           1.17631994e-02]),\n",
        "  'nit': 28,\n",
        "  'task': 'CONVERGENCE: REL_REDUCTION_OF_F_<=_FACTR*EPSMCH',\n",
        "  'warnflag': 0})"
       ]
      }
     ],
     "prompt_number": 121
    },
    {
     "cell_type": "code",
     "collapsed": false,
     "input": [
      "len(x0)"
     ],
     "language": "python",
     "metadata": {},
     "outputs": [
      {
       "metadata": {},
       "output_type": "pyout",
       "prompt_number": 101,
       "text": [
        "10"
       ]
      }
     ],
     "prompt_number": 101
    },
    {
     "cell_type": "code",
     "collapsed": false,
     "input": [
      "x0 = bt\n",
      "fprime(x0)"
     ],
     "language": "python",
     "metadata": {},
     "outputs": [
      {
       "metadata": {},
       "output_type": "pyout",
       "prompt_number": 109,
       "text": [
        "array([ 1.91295272,  1.52233617,  1.37382692])"
       ]
      }
     ],
     "prompt_number": 109
    },
    {
     "cell_type": "code",
     "collapsed": false,
     "input": [
      "x0"
     ],
     "language": "python",
     "metadata": {},
     "outputs": [
      {
       "metadata": {},
       "output_type": "pyout",
       "prompt_number": 122,
       "text": [
        "array([ 0.        ,  0.        ,  1.26448505,  0.        ,  0.        ,\n",
        "        1.16071484,  2.2498373 ,  0.46709332,  0.        ,  0.0745338 ])"
       ]
      }
     ],
     "prompt_number": 122
    },
    {
     "cell_type": "code",
     "collapsed": false,
     "input": [
      "n = 5\n",
      "p = 3\n",
      "amat = np.absolute(npr.normal(0,1,(n,p)))\n",
      "bt0 = np.zeros((p,1))\n",
      "bt0[:2] = 1\n",
      "mu = np.dot(amat,bt0)\n",
      "ysq = spst.ncx2.rvs(10,mu**2)\n",
      "ls = ncxlosses(10,ysq)\n",
      "bt = spo.nnls(amat,np.squeeze(np.sqrt(ysq)))[0]\n",
      "x0 = np.array(bt)\n",
      "def loss(x0):\n",
      "    yh = np.dot(amat,x0)\n",
      "    return sum(np.array([ls[i](yh[i])[0] for i in range(len(yh))]))\n",
      "res = bfgssolve(amat,ls,bt,0.0)"
     ],
     "language": "python",
     "metadata": {},
     "outputs": [],
     "prompt_number": 136
    },
    {
     "cell_type": "code",
     "collapsed": false,
     "input": [
      "res"
     ],
     "language": "python",
     "metadata": {},
     "outputs": [
      {
       "metadata": {},
       "output_type": "pyout",
       "prompt_number": 137,
       "text": [
        "(array([ 1.48059861,  0.99021978,  1.55658785]),\n",
        " 14.223414168898945,\n",
        " {'funcalls': 8,\n",
        "  'grad': array([ -1.67004136e-06,  -3.28501209e-07,  -6.84309889e-07]),\n",
        "  'nit': 6,\n",
        "  'task': 'CONVERGENCE: NORM_OF_PROJECTED_GRADIENT_<=_PGTOL',\n",
        "  'warnflag': 0})"
       ]
      }
     ],
     "prompt_number": 137
    },
    {
     "cell_type": "code",
     "collapsed": false,
     "input": [
      "gd(amat,ls,bt,20)"
     ],
     "language": "python",
     "metadata": {},
     "outputs": [
      {
       "metadata": {},
       "output_type": "pyout",
       "prompt_number": 141,
       "text": [
        "(array([ 1.47878171,  0.99154165,  1.55778628]), 14.223420933408791)"
       ]
      }
     ],
     "prompt_number": 141
    },
    {
     "cell_type": "code",
     "collapsed": false,
     "input": [],
     "language": "python",
     "metadata": {},
     "outputs": []
    }
   ],
   "metadata": {}
  }
 ]
}