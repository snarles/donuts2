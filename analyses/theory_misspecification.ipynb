{
 "metadata": {
  "name": "",
  "signature": "sha256:840b597d328886970e0fb6ecd6bee3e76244ac313532c061833445f379fba1c0"
 },
 "nbformat": 3,
 "nbformat_minor": 0,
 "worksheets": [
  {
   "cells": [
    {
     "cell_type": "heading",
     "level": 2,
     "metadata": {},
     "source": [
      "What happens when you choose the wrong $$\\kappa$$"
     ]
    },
    {
     "cell_type": "code",
     "collapsed": false,
     "input": [
      "import os\n",
      "import numpy as np\n",
      "import numpy.random as npr\n",
      "import numpy.linalg as nla\n",
      "import scipy as sp\n",
      "import scipy.stats as spst\n",
      "import scipy.special as sps\n",
      "import matplotlib.pyplot as plt\n",
      "import numpy.random as npr\n",
      "import scipy.optimize as spo\n",
      "import matplotlib as mpl\n",
      "from mpl_toolkits.mplot3d import Axes3D\n",
      "os.chdir(\"..\")\n",
      "import donuts.deconv.utils as du\n",
      "import donuts.deconv.ncx as ncx"
     ],
     "language": "python",
     "metadata": {},
     "outputs": [],
     "prompt_number": 1
    },
    {
     "cell_type": "code",
     "collapsed": false,
     "input": [
      "bvecs = du.georandsphere(6,20)\n",
      "n = np.shape(bvecs)[0]\n",
      "\n",
      "#rsh = du.rsh_basis(bvecs,6)\n",
      "#psh = np.shape(rsh)[1]\n",
      "\n",
      "perm = npr.permutation(n)\n",
      "pbvecs = bvecs[perm[:psh],:]\n",
      "xs = du.ste_tan_kappa(2.0*pbvecs,bvecs)\n",
      "def plotz(zz=np.ones(n)):\n",
      "    fig = plt.figure()\n",
      "    ax = fig.gca(projection='3d')\n",
      "    ax.scatter(zz*bvecs[:,0],zz*bvecs[:,1],zz*bvecs[:,2])\n",
      "    plt.show()"
     ],
     "language": "python",
     "metadata": {},
     "outputs": [],
     "prompt_number": 39
    },
    {
     "cell_type": "code",
     "collapsed": false,
     "input": [
      "def histomean(breaks,x,y):\n",
      "    mdpts = (breaks[1:] + breaks[:-1])/2.0\n",
      "    k = len(mdpts)\n",
      "    ans = np.zeros(k)\n",
      "    for ii in range(k):\n",
      "        ans[ii] = np.mean(y[np.logical_and(x >= breaks[ii], x < breaks[ii+1])])\n",
      "    return mdpts,ans"
     ],
     "language": "python",
     "metadata": {},
     "outputs": [],
     "prompt_number": 24
    },
    {
     "cell_type": "code",
     "collapsed": false,
     "input": [
      "true_kappa = 3.5\n",
      "kappa = 4.0\n",
      "xs0 = du.ste_tan_kappa(np.sqrt(true_kappa)*np.eye(3),bvecs)\n",
      "xs = du.ste_tan_kappa(np.sqrt(kappa)*bvecs,bvecs)\n",
      "y0 = xs0[:,0]\n",
      "plotz(y0)"
     ],
     "language": "python",
     "metadata": {},
     "outputs": [],
     "prompt_number": 87
    },
    {
     "cell_type": "code",
     "collapsed": false,
     "input": [
      "\n",
      "xgrid = np.arange(0,1.01,0.01)\n",
      "thetagrid = np.arange(-np.pi,np.pi,np.pi/100.0)\n",
      "def g(x):\n",
      "    return np.exp(-true_kappa * x**2)\n",
      "def f(t,x):\n",
      "    xd = np.tile(du.column(x),(1,len(thetagrid)))\n",
      "    mxd = np.tile(du.column(np.sqrt(1-x**2)),(1,len(thetagrid)))\n",
      "    cthetad = np.tile(du.column(np.cos(thetagrid)).T,(len(x),1))\n",
      "    td = t*np.ones((len(x),len(thetagrid)))\n",
      "    mtd = np.sqrt(1-t**2)*np.ones((len(x),len(thetagrid)))\n",
      "    exponent = -kappa*(xd*td + mtd*mxd*cthetad)**2\n",
      "    return np.exp(exponent).mean(axis=1)"
     ],
     "language": "python",
     "metadata": {},
     "outputs": [],
     "prompt_number": 88
    },
    {
     "cell_type": "heading",
     "level": 5,
     "metadata": {},
     "source": [
      "Various checks"
     ]
    },
    {
     "cell_type": "code",
     "collapsed": false,
     "input": [
      "% matplotlib inline"
     ],
     "language": "python",
     "metadata": {},
     "outputs": [],
     "prompt_number": 7
    },
    {
     "cell_type": "code",
     "collapsed": false,
     "input": [
      "plt.scatter(xgrid,g(xgrid));plt.show()"
     ],
     "language": "python",
     "metadata": {},
     "outputs": [],
     "prompt_number": 20
    },
    {
     "cell_type": "code",
     "collapsed": false,
     "input": [
      "plt.scatter(xgrid,f(1.0,xgrid),color=\"red\")\n",
      "plt.scatter(xgrid,np.exp(-kappa * xgrid**2))\n",
      "plt.show()"
     ],
     "language": "python",
     "metadata": {},
     "outputs": [],
     "prompt_number": 21
    },
    {
     "cell_type": "code",
     "collapsed": false,
     "input": [
      "# check the marginals\n",
      "plt.scatter(np.absolute(bvecs[:,0]), np.squeeze(y0))\n",
      "plt.scatter(xgrid,g(xgrid),color=\"red\")\n",
      "plt.show()"
     ],
     "language": "python",
     "metadata": {},
     "outputs": [],
     "prompt_number": 42
    },
    {
     "cell_type": "code",
     "collapsed": false,
     "input": [
      "# check the marginals\n",
      "ind = 73\n",
      "y = xs[:,ind]\n",
      "xpar = np.absolute(bvecs[ind,0])\n",
      "mdpts, hm = histomean(np.arange(0,1.01,.1),np.absolute(bvecs[:,0]), np.squeeze(y))\n",
      "plt.scatter(np.absolute(bvecs[:,0]), np.squeeze(y),color=\"gray\")\n",
      "plt.scatter(xgrid,f(xpar,xgrid),color=\"blue\")\n",
      "plt.scatter(mdpts,hm,color=\"red\")\n",
      "plt.show()"
     ],
     "language": "python",
     "metadata": {},
     "outputs": [],
     "prompt_number": 57
    },
    {
     "cell_type": "heading",
     "level": 5,
     "metadata": {},
     "source": [
      "Fit!"
     ]
    },
    {
     "cell_type": "code",
     "collapsed": false,
     "input": [
      "# fit!\n",
      "ygrid = np.arange(0,1 + 1e-10,0.0001)\n",
      "xgrid = np.arange(0,1.001,0.02)\n",
      "b = g(ygrid)\n",
      "amat = np.vstack([f(x,ygrid) for x in xgrid]).T"
     ],
     "language": "python",
     "metadata": {},
     "outputs": [],
     "prompt_number": 89
    },
    {
     "cell_type": "code",
     "collapsed": false,
     "input": [
      "coefs = spo.nnls(amat,b)[0]\n",
      "bhat = np.squeeze(np.dot(amat,coefs))\n",
      "plt.scatter(xgrid,coefs); plt.show()\n",
      "nla.norm(b-bhat),nla.norm(b-bhat,np.inf)"
     ],
     "language": "python",
     "metadata": {},
     "outputs": [
      {
       "metadata": {},
       "output_type": "pyout",
       "prompt_number": 90,
       "text": [
        "(4.9963565804689526e-07, 9.8128147274501032e-09)"
       ]
      }
     ],
     "prompt_number": 90
    },
    {
     "cell_type": "heading",
     "level": 2,
     "metadata": {},
     "source": [
      "Fitting the spherical harmonics model (gaussian case)"
     ]
    },
    {
     "cell_type": "code",
     "collapsed": false,
     "input": [
      "def constrained_ls(y,xs,q,nits=100): #fits y = xs *b, subject to on q*b >= 0, where q is orthogonal\n",
      "    n = len(y)\n",
      "    pp = np.shape(xs)[1]\n",
      "    nc = np.shape(q)[0]\n",
      "    x0 = np.zeros(n)\n",
      "    for ii in range(nits):"
     ],
     "language": "python",
     "metadata": {},
     "outputs": []
    },
    {
     "cell_type": "code",
     "collapsed": false,
     "input": [
      "res_bv = 4\n",
      "kappa = 4.0\n",
      "true_kappa = 3.0\n",
      "bvecs = np.sqrt(kappa) * du.geosphere(res_bv)\n",
      "bvecs0 = np.sqrt(true_kappa) * du.geosphere(res_bv)\n",
      "n = np.shape(bvecs)[0]\n",
      "print(\"Number of measurement directions is \"+str(n))\n",
      "sgrid = du.geosphere(12)\n",
      "sgrid = sgrid[sgrid[:,2] >= 0,:]\n",
      "pp = np.shape(sgrid)[0]\n",
      "print(\"Number of candidate directions is \"+str(pp))\n",
      "amat0 = du.ste_tan_kappa(sgrid,bvecs0)\n",
      "amat = du.ste_tan_kappa(sgrid,bvecs)\n",
      "rsh = du.rsh_basis(sgrid,6)\n",
      "q_sh,r = nla.qr(rsh)\n",
      "pprsh = np.shape(rsh)[1]\n",
      "xs_sh = np.dot(amat,q_sh)\n",
      "print(\"Number of spherical harmonics is \"+str(pprsh))"
     ],
     "language": "python",
     "metadata": {},
     "outputs": [
      {
       "output_type": "stream",
       "stream": "stdout",
       "text": [
        "Number of measurement directions is 162\n",
        "Number of candidate directions is 731\n",
        "Number of spherical harmonics is 49"
       ]
      },
      {
       "output_type": "stream",
       "stream": "stdout",
       "text": [
        "\n"
       ]
      }
     ],
     "prompt_number": 24
    },
    {
     "cell_type": "code",
     "collapsed": false,
     "input": [
      "# randomly generate parameters, GAUSSIAN case\n",
      "true_k = 3\n",
      "\n",
      "true_sigma = 0.0\n",
      "#bt0 = np.absolute(npr.normal(0,1,pp)) * npr.binomial(1,3.0/pp,pp)\n",
      "bt0 = np.zeros(pp)\n",
      "bt0[npr.randint(0,pp-1,true_k)]=1.0\n",
      "y0 = np.dot(amat0,bt0)\n",
      "y = y0 + true_sigma * npr.normal(0,1,n)\n",
      "def loss_emd(x0):\n",
      "    return du.arc_emd(sgrid,ncx.column(bt0),sgrid,ncx.column(x0))\n",
      "def loss_mse(x0):\n",
      "    yh = np.squeeze(np.dot(amat,ncx.column(x0)))\n",
      "    return nla.norm(np.squeeze(y0)-np.squeeze(yh))**2"
     ],
     "language": "python",
     "metadata": {},
     "outputs": [],
     "prompt_number": 25
    },
    {
     "cell_type": "code",
     "collapsed": false,
     "input": [
      "# NNLS solution\n",
      "bt_nnls = np.squeeze(spo.nnls(amat,np.squeeze(y))[0])\n",
      "yh_nnls = np.dot(amat,bt_nnls)\n",
      "print loss_mse(bt_nnls), loss_emd(bt_nnls)"
     ],
     "language": "python",
     "metadata": {},
     "outputs": [
      {
       "output_type": "stream",
       "stream": "stdout",
       "text": [
        "4.57428391463e-28 0.224979832768\n"
       ]
      }
     ],
     "prompt_number": 26
    },
    {
     "cell_type": "code",
     "collapsed": false,
     "input": [
      "# UNRESTRICTED rsh solution\n",
      "gam_ush = nla.lstsq(xs_sh,y)[0]\n",
      "bt_ush = np.dot(q_sh,gam_ush)\n",
      "yh_ush = np.dot(xs_sh,gam_ush)\n",
      "yh_ush_check = np.dot(amat,bt_ush)"
     ],
     "language": "python",
     "metadata": {},
     "outputs": [],
     "prompt_number": 35
    },
    {
     "cell_type": "code",
     "collapsed": false,
     "input": [
      "plt.scatter(bt_ush,bt_nnls);plt.show()"
     ],
     "language": "python",
     "metadata": {},
     "outputs": [],
     "prompt_number": 38
    },
    {
     "cell_type": "code",
     "collapsed": false,
     "input": [
      "xs = xs_sh; q = q_sh"
     ],
     "language": "python",
     "metadata": {},
     "outputs": [],
     "prompt_number": 39
    },
    {
     "cell_type": "code",
     "collapsed": false,
     "input": [
      "n = len(y)\n",
      "pp = np.shape(xs)[1]\n",
      "nc = np.shape(q)[0]\n",
      "x0 = np.zeros(pp)"
     ],
     "language": "python",
     "metadata": {},
     "outputs": [],
     "prompt_number": 60
    },
    {
     "cell_type": "code",
     "collapsed": false,
     "input": [],
     "language": "python",
     "metadata": {},
     "outputs": []
    },
    {
     "cell_type": "code",
     "collapsed": false,
     "input": [
      "yh = np.dot(xs,x0)\n",
      "r = y-yh\n",
      "hess = np.dot(xs.T,xs)\n",
      "grad = np.dot(xs.T,-r)\n",
      "newton_dir = nla.lstsq(hess,grad)[0]\n",
      "eps = .1"
     ],
     "language": "python",
     "metadata": {},
     "outputs": [],
     "prompt_number": 61
    },
    {
     "cell_type": "code",
     "collapsed": false,
     "input": [
      "def loss_f(x0):\n",
      "    yh = np.dot(xs,x0)\n",
      "    return nla.norm(y-yh)**2"
     ],
     "language": "python",
     "metadata": {},
     "outputs": [],
     "prompt_number": 52
    },
    {
     "cell_type": "code",
     "collapsed": false,
     "input": [
      "x1 = x0 - eps * newton_dir\n",
      "ch = np.dot(q,x1)\n"
     ],
     "language": "python",
     "metadata": {},
     "outputs": [],
     "prompt_number": 63
    },
    {
     "cell_type": "code",
     "collapsed": false,
     "input": [
      "sum(ch < 0)"
     ],
     "language": "python",
     "metadata": {},
     "outputs": [
      {
       "metadata": {},
       "output_type": "pyout",
       "prompt_number": 64,
       "text": [
        "282"
       ]
      }
     ],
     "prompt_number": 64
    },
    {
     "cell_type": "code",
     "collapsed": false,
     "input": [
      "ch2 = np.array(ch)\n",
      "ch2[ch2 < 0] = 0\n",
      "x2 = np.dot(q.T,ch2)\n",
      "ch2 = np.dot(q,x2)\n",
      "sum(ch2 < 0)"
     ],
     "language": "python",
     "metadata": {},
     "outputs": [
      {
       "metadata": {},
       "output_type": "pyout",
       "prompt_number": 67,
       "text": [
        "185"
       ]
      }
     ],
     "prompt_number": 67
    },
    {
     "cell_type": "code",
     "collapsed": false,
     "input": [
      "ch2 = np.array(ch2)\n",
      "ch2[ch2 < 0] = 0\n",
      "x2 = np.dot(q.T,ch2)\n",
      "ch2 = np.dot(q,x2)\n",
      "sum(ch2 < 0)"
     ],
     "language": "python",
     "metadata": {},
     "outputs": [
      {
       "metadata": {},
       "output_type": "pyout",
       "prompt_number": 88,
       "text": [
        "27"
       ]
      }
     ],
     "prompt_number": 88
    },
    {
     "cell_type": "code",
     "collapsed": false,
     "input": [],
     "language": "python",
     "metadata": {},
     "outputs": []
    }
   ],
   "metadata": {}
  }
 ]
}