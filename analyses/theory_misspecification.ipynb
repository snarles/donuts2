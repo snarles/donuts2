{
 "metadata": {
  "name": "",
  "signature": "sha256:6a0d957c9b9af210a57b447d34051a49a9c2eadf4adab26b6335fd99b09ab9bf"
 },
 "nbformat": 3,
 "nbformat_minor": 0,
 "worksheets": [
  {
   "cells": [
    {
     "cell_type": "heading",
     "level": 2,
     "metadata": {},
     "source": [
      "What happens when you choose the wrong $$\\kappa$$"
     ]
    },
    {
     "cell_type": "code",
     "collapsed": false,
     "input": [
      "import os\n",
      "import numpy as np\n",
      "import numpy.random as npr\n",
      "import numpy.linalg as nla\n",
      "import scipy as sp\n",
      "import scipy.stats as spst\n",
      "import scipy.special as sps\n",
      "import matplotlib.pyplot as plt\n",
      "import numpy.random as npr\n",
      "import scipy.optimize as spo\n",
      "import matplotlib as mpl\n",
      "from mpl_toolkits.mplot3d import Axes3D\n",
      "os.chdir(\"..\")\n",
      "import donuts.deconv.utils as du\n",
      "import donuts.deconv.ncx as ncx"
     ],
     "language": "python",
     "metadata": {},
     "outputs": [],
     "prompt_number": 1
    },
    {
     "cell_type": "code",
     "collapsed": false,
     "input": [
      "bvecs = du.georandsphere(5,4)\n",
      "n = np.shape(bvecs)[0]\n",
      "\n",
      "rsh = du.rsh_basis(bvecs,6)\n",
      "psh = np.shape(rsh)[1]\n",
      "\n",
      "perm = npr.permutation(n)\n",
      "pbvecs = bvecs[perm[:psh],:]\n",
      "xs = du.ste_tan_kappa(2.0*pbvecs,bvecs)\n",
      "def plotz(zz=np.ones(n)):\n",
      "    fig = plt.figure()\n",
      "    ax = fig.gca(projection='3d')\n",
      "    ax.scatter(zz*bvecs[:,0],zz*bvecs[:,1],zz*bvecs[:,2])\n",
      "    plt.show()"
     ],
     "language": "python",
     "metadata": {},
     "outputs": [],
     "prompt_number": 37
    },
    {
     "cell_type": "code",
     "collapsed": false,
     "input": [
      "true_kappa = 2.0\n",
      "xs0 = du.ste_tan_kappa(np.sqrt(true_kappa)*np.eye(3),bvecs)\n",
      "y0 = xs0[:,0]\n",
      "plotz(y0)"
     ],
     "language": "python",
     "metadata": {},
     "outputs": [],
     "prompt_number": 38
    },
    {
     "cell_type": "code",
     "collapsed": false,
     "input": [
      "q_sh,r = nla.qr(rsh)\n",
      "seq_sh = np.dot(q_sh.T,y0)\n",
      "q_xs,r = nla.qr(xs)\n",
      "seq_xs = np.dot(q_xs.T,y0)"
     ],
     "language": "python",
     "metadata": {},
     "outputs": [],
     "prompt_number": 39
    },
    {
     "cell_type": "code",
     "collapsed": false,
     "input": [
      "plt.scatter(range(len(seq_sh)),sum(y0**2)-np.cumsum(seq_sh**2))\n",
      "plt.scatter(range(len(seq_xs)),sum(y0**2)-np.cumsum(seq_xs**2),color=\"red\")\n",
      "plt.show()"
     ],
     "language": "python",
     "metadata": {},
     "outputs": [],
     "prompt_number": 44
    },
    {
     "cell_type": "code",
     "collapsed": false,
     "input": [
      "plt.scatter(q_sh[:,5],rsh[:,5]);plt.show()"
     ],
     "language": "python",
     "metadata": {},
     "outputs": [],
     "prompt_number": 32
    },
    {
     "cell_type": "code",
     "collapsed": false,
     "input": [],
     "language": "python",
     "metadata": {},
     "outputs": []
    }
   ],
   "metadata": {}
  }
 ]
}