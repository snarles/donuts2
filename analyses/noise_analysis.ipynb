{
 "metadata": {
  "name": "",
  "signature": "sha256:d9aeb4c62d0290441771645d45affe477e47d52eebad48f207f6e2437ea11f71"
 },
 "nbformat": 3,
 "nbformat_minor": 0,
 "worksheets": [
  {
   "cells": [
    {
     "cell_type": "code",
     "collapsed": false,
     "input": [
      "import os\n",
      "import subprocess\n",
      "import donuts.deconv.utils as du\n",
      "import nibabel as nib\n",
      "import numpy as np\n",
      "import numpy.random as npr\n",
      "import scipy.optimize as spo\n",
      "os.chdir('/root/data')\n"
     ],
     "language": "python",
     "metadata": {},
     "outputs": [],
     "prompt_number": 5
    },
    {
     "cell_type": "code",
     "collapsed": false,
     "input": [
      "subprocess.check_output('aws s3 cp s3://rawpredator/chris1/8631_5_coil8_ec.nii.gz 8631_5_coil8_ec.nii.gz', shell=True)\n",
      "0"
     ],
     "language": "python",
     "metadata": {},
     "outputs": []
    },
    {
     "cell_type": "code",
     "collapsed": false,
     "input": [
      "subprocess.check_output('aws s3 cp s3://chris1data/chris1_bvec.csv .', shell=True)"
     ],
     "language": "python",
     "metadata": {},
     "outputs": [
      {
       "metadata": {},
       "output_type": "pyout",
       "prompt_number": 4,
       "text": [
        "'download: s3://chris1data/chris1_bvec.csv to ./chris1_bvec.csv\\n'"
       ]
      }
     ],
     "prompt_number": 4
    },
    {
     "cell_type": "code",
     "collapsed": false,
     "input": [
      "coil_data = nib.load('/root/data/8631_5_coil8_ec.nii.gz').get_data()"
     ],
     "language": "python",
     "metadata": {},
     "outputs": [],
     "prompt_number": 6
    },
    {
     "cell_type": "code",
     "collapsed": false,
     "input": [
      "bvecs = np.loadtxt('/root/data/chris1_bvec.csv').T"
     ],
     "language": "python",
     "metadata": {},
     "outputs": [],
     "prompt_number": 7
    },
    {
     "cell_type": "code",
     "collapsed": false,
     "input": [
      "b0_inds = np.where(sum(bvecs**2, 1) == 0)[0]\n",
      "b0_inds = b0_inds[2:]\n",
      "b0_inds"
     ],
     "language": "python",
     "metadata": {},
     "outputs": [
      {
       "metadata": {},
       "output_type": "pyout",
       "prompt_number": 11,
       "text": [
        "array([ 16,  31,  46,  61,  75,  90, 105, 120, 135, 149])"
       ]
      }
     ],
     "prompt_number": 11
    },
    {
     "cell_type": "code",
     "collapsed": false,
     "input": [
      "b0_data = coil_data[:, :, :, b0_inds]"
     ],
     "language": "python",
     "metadata": {},
     "outputs": [],
     "prompt_number": 12
    },
    {
     "cell_type": "code",
     "collapsed": false,
     "input": [
      "np.shape(b0_data)"
     ],
     "language": "python",
     "metadata": {},
     "outputs": [
      {
       "metadata": {},
       "output_type": "pyout",
       "prompt_number": 14,
       "text": [
        "(120, 120, 69, 10)"
       ]
      }
     ],
     "prompt_number": 14
    },
    {
     "cell_type": "code",
     "collapsed": false,
     "input": [
      "b0_sum = np.squeeze(apply_over_axes(sum, np.absolute(b0_data), 3))"
     ],
     "language": "python",
     "metadata": {},
     "outputs": [],
     "prompt_number": 28
    },
    {
     "cell_type": "code",
     "collapsed": false,
     "input": [
      "np.shape(b0_sum)"
     ],
     "language": "python",
     "metadata": {},
     "outputs": [
      {
       "metadata": {},
       "output_type": "pyout",
       "prompt_number": 29,
       "text": [
        "(120, 120, 69)"
       ]
      }
     ],
     "prompt_number": 29
    },
    {
     "cell_type": "code",
     "collapsed": false,
     "input": [
      "import matplotlib.pyplot as plt"
     ],
     "language": "python",
     "metadata": {},
     "outputs": [],
     "prompt_number": 20
    },
    {
     "cell_type": "code",
     "collapsed": false,
     "input": [
      "plt.hist(b0_sum.ravel())"
     ],
     "language": "python",
     "metadata": {},
     "outputs": [
      {
       "metadata": {},
       "output_type": "pyout",
       "prompt_number": 30,
       "text": [
        "(array([  9.56445000e+05,   2.71440000e+04,   6.52800000e+03,\n",
        "          1.89300000e+03,   8.38000000e+02,   4.13000000e+02,\n",
        "          1.88000000e+02,   9.40000000e+01,   4.30000000e+01,\n",
        "          1.40000000e+01]),\n",
        " array([  7.09532760e-04,   1.14228874e+01,   2.28450653e+01,\n",
        "          3.42672432e+01,   4.56894211e+01,   5.71115990e+01,\n",
        "          6.85337769e+01,   7.99559547e+01,   9.13781326e+01,\n",
        "          1.02800311e+02,   1.14222488e+02]),\n",
        " <a list of 10 Patch objects>)"
       ]
      },
      {
       "metadata": {},
       "output_type": "display_data",
       "png": "[encoded data removed]",
       "text": [
        "<matplotlib.figure.Figure at 0x7ff376e7bdd0>"
       ]
      }
     ],
     "prompt_number": 30
    },
    {
     "cell_type": "code",
     "collapsed": false,
     "input": [
      "mask = b0_sum > 10"
     ],
     "language": "python",
     "metadata": {},
     "outputs": [],
     "prompt_number": 37
    },
    {
     "cell_type": "code",
     "collapsed": false,
     "input": [
      "np.shape(mask), np.sum(mask.ravel())"
     ],
     "language": "python",
     "metadata": {},
     "outputs": [
      {
       "metadata": {},
       "output_type": "pyout",
       "prompt_number": 38,
       "text": [
        "((120, 120, 69), 45353)"
       ]
      }
     ],
     "prompt_number": 38
    },
    {
     "cell_type": "code",
     "collapsed": false,
     "input": [
      "temp_map = mask\n",
      "z_inds = [10, 20, 30, 40, 50]\n",
      "f_c1, axarr = plt.subplots(1, len(z_inds), sharex=True, sharey=True, figsize = (15, 3))\n",
      "for j in range(len(z_inds)):\n",
      "    z_ind = z_inds[j]\n",
      "    axarr[j].imshow(temp_map[:, :, z_ind], cmap='bone', vmin = -0.2, vmax = 1.0)"
     ],
     "language": "python",
     "metadata": {},
     "outputs": [
      {
       "metadata": {},
       "output_type": "display_data",
       "png": "[encoded data removed]",
       "text": [
        "<matplotlib.figure.Figure at 0x7ff376bb9a90>"
       ]
      }
     ],
     "prompt_number": 39
    },
    {
     "cell_type": "code",
     "collapsed": false,
     "input": [],
     "language": "python",
     "metadata": {},
     "outputs": []
    }
   ],
   "metadata": {}
  }
 ]
}