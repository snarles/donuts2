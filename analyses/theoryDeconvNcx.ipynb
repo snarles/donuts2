{
 "metadata": {
  "name": "",
  "signature": "sha256:a5cb4315800e9ee34bc4e477947bd9ef86436426a19b3e8d8db771ba631907d4"
 },
 "nbformat": 3,
 "nbformat_minor": 0,
 "worksheets": [
  {
   "cells": [
    {
     "cell_type": "markdown",
     "metadata": {},
     "source": [
      "Does the correct loss function improve estimation of directions or kappa parameter?"
     ]
    },
    {
     "cell_type": "code",
     "collapsed": false,
     "input": [
      "import os\n",
      "import numpy as np\n",
      "import scipy.optimize as spo\n",
      "import scipy.stats as spst\n",
      "import numpy.random as npr\n",
      "import matplotlib.pyplot as plt\n",
      "import matplotlib as mpl\n",
      "from mpl_toolkits.mplot3d import Axes3D\n",
      "\n",
      "os.chdir(\"..\")\n",
      "import donuts.deconv.utils as du\n",
      "import donuts.deconv.ncx as nc\n",
      "import donuts.deconv.splines as spl"
     ],
     "language": "python",
     "metadata": {},
     "outputs": [
      {
       "output_type": "stream",
       "stream": "stderr",
       "text": [
        "/usr/local/lib/python2.7/dist-packages/setuptools-7.0-py2.7.egg/pkg_resources.py:1045: UserWarning: /home/snarles/.python-eggs is writable by group/others and vulnerable to attack when used with get_resource_filename. Consider a more secure location (set with .set_extraction_path or the PYTHON_EGG_CACHE environment variable).\n",
        "  warnings.warn(msg, UserWarning)\n"
       ]
      }
     ],
     "prompt_number": 1
    },
    {
     "cell_type": "code",
     "collapsed": false,
     "input": [
      "reload(spl)\n",
      "reload(nc)\n",
      "reload(du)"
     ],
     "language": "python",
     "metadata": {},
     "outputs": [
      {
       "metadata": {},
       "output_type": "pyout",
       "prompt_number": 71,
       "text": [
        "<module 'donuts.deconv.utils' from 'donuts/deconv/utils.pyc'>"
       ]
      }
     ],
     "prompt_number": 71
    },
    {
     "cell_type": "markdown",
     "metadata": {},
     "source": [
      "Generate the signal"
     ]
    },
    {
     "cell_type": "code",
     "collapsed": false,
     "input": [
      "# setting up measurement vectors and fitting vectors\n",
      "kappa = 1.5\n",
      "bvecs = np.sqrt(kappa) * du.geosphere(5)\n",
      "n = np.shape(bvecs)[0]\n",
      "print(\"Number of measurement directions is \"+str(n))\n",
      "sgrid = du.geosphere(8)\n",
      "sgrid = sgrid[sgrid[:,2] >= 0,:]\n",
      "pp = np.shape(sgrid)[0]\n",
      "print(\"Number of candidate directions is \"+str(pp))\n",
      "# do you want plots?\n",
      "plotsignal = True"
     ],
     "language": "python",
     "metadata": {},
     "outputs": [
      {
       "output_type": "stream",
       "stream": "stdout",
       "text": [
        "Number of measurement directions is 252\n",
        "Number of candidate directions is 341\n"
       ]
      }
     ],
     "prompt_number": 24
    },
    {
     "cell_type": "code",
     "collapsed": false,
     "input": [
      "# randomly generate parameters\n",
      "true_k = 2\n",
      "true_vs = du.normalize_rows(npr.normal(0,1,(true_k,3)))\n",
      "true_vs[:,2] = np.absolute(true_vs[:,2])\n",
      "true_ws = 0.5*np.ones((true_k,1))/true_k\n",
      "true_sigma = 1.0\n",
      "df = 10\n",
      "y0,y1 = du.simulate_signal_kappa(true_vs,true_ws,bvecs,true_sigma,df)\n",
      "# plot the noiseless signal\n",
      "if plotsignal:\n",
      "    zz = np.squeeze(y1)\n",
      "    fig = plt.figure()\n",
      "    ax = fig.gca(projection='3d')\n",
      "    ax.scatter(zz*bvecs[:,0],zz*bvecs[:,1],zz*bvecs[:,2])\n",
      "    plt.show()"
     ],
     "language": "python",
     "metadata": {},
     "outputs": [],
     "prompt_number": 154
    },
    {
     "cell_type": "markdown",
     "metadata": {},
     "source": [
      "Fit the signal, knwoing the true kappa and sigma"
     ]
    },
    {
     "cell_type": "code",
     "collapsed": false,
     "input": [
      "xs = du.ste_tan_kappa(sgrid,bvecs)\n",
      "assert np.shape(xs)==(n,pp)\n",
      "bt_nnls = spo.nnls(xs,np.squeeze(y1))[0]\n",
      "y1sq = (y1/true_sigma)**2\n",
      "ls = nc.ncxlosses(df,y1sq)\n",
      "bt_rician = nc.bfgssolve(xs,ls,bt_nnls/true_sigma)[0]"
     ],
     "language": "python",
     "metadata": {},
     "outputs": [],
     "prompt_number": 155
    },
    {
     "cell_type": "code",
     "collapsed": false,
     "input": [
      "yh[ii][0]"
     ],
     "language": "python",
     "metadata": {},
     "outputs": [
      {
       "metadata": {},
       "output_type": "pyout",
       "prompt_number": 139,
       "text": [
        "0.031514958900447455"
       ]
      }
     ],
     "prompt_number": 139
    },
    {
     "cell_type": "code",
     "collapsed": false,
     "input": [
      "ii=1\n",
      "ls[ii](yh[ii])"
     ],
     "language": "python",
     "metadata": {},
     "outputs": [
      {
       "metadata": {},
       "output_type": "pyout",
       "prompt_number": 138,
       "text": [
        "(array([ 2.97697276]), array([ 0.01652466]), 0.04939097894971281)"
       ]
      }
     ],
     "prompt_number": 138
    },
    {
     "cell_type": "code",
     "collapsed": false,
     "input": [
      "ls[ii](0.14720411)"
     ],
     "language": "python",
     "metadata": {},
     "outputs": [
      {
       "metadata": {},
       "output_type": "pyout",
       "prompt_number": 136,
       "text": [
        "(3.8231838894472125, -0.68037099160249359, 0.27739427727240562)"
       ]
      }
     ],
     "prompt_number": 136
    },
    {
     "cell_type": "code",
     "collapsed": false,
     "input": [
      "def likelihood(yh):\n",
      "    return sum([ls[ii](yh[ii])[0] for ii in range(len(ls))])\n",
      "likelihood(10*np.squeeze(y0/true_sigma)**2)"
     ],
     "language": "python",
     "metadata": {},
     "outputs": [
      {
       "metadata": {},
       "output_type": "pyout",
       "prompt_number": 153,
       "text": [
        "735.26349554358615"
       ]
      }
     ],
     "prompt_number": 153
    },
    {
     "cell_type": "code",
     "collapsed": false,
     "input": [],
     "language": "python",
     "metadata": {},
     "outputs": [
      {
       "metadata": {},
       "output_type": "pyout",
       "prompt_number": 13,
       "text": [
        "1.6184449800648406"
       ]
      }
     ],
     "prompt_number": 13
    },
    {
     "cell_type": "code",
     "collapsed": false,
     "input": [
      "n = 20\n",
      "p = 500\n",
      "amat = np.absolute(npr.normal(0,1,(n,p)))\n",
      "bt0 = np.zeros((p,1))\n",
      "bt0[:2] = 1\n",
      "df = 10\n",
      "mu = np.dot(amat,bt0)\n",
      "ysq = spst.ncx2.rvs(df,mu**2)\n",
      "ls = nc.ncxlosses(df,ysq)\n",
      "\n",
      "def f(x0):\n",
      "    yh = np.dot(amat,x0)\n",
      "    return sum(np.array([ls[i](yh[i])[0] for i in range(len(yh))]))\n",
      "def fprime(x0):\n",
      "    yh = np.dot(amat,x0)\n",
      "    rawg= np.array([ls[i](yh[i])[1] for i in range(len(yh))])\n",
      "    return np.dot(rawg.T,amat)"
     ],
     "language": "python",
     "metadata": {},
     "outputs": [],
     "prompt_number": 6
    },
    {
     "cell_type": "code",
     "collapsed": false,
     "input": [
      "bt = spo.nnls(amat,np.squeeze(np.sqrt(ysq)))[0]\n",
      "#print(f(bt))\n",
      "res = nc.bfgssolve(amat,ls,np.array(bt),0.0)\n",
      "x0 = res[0]\n",
      "(f(x0),sum(x0 > 0))"
     ],
     "language": "python",
     "metadata": {},
     "outputs": [
      {
       "metadata": {},
       "output_type": "pyout",
       "prompt_number": 7,
       "text": [
        "(64.041474329709757, 16)"
       ]
      }
     ],
     "prompt_number": 7
    },
    {
     "cell_type": "heading",
     "level": 2,
     "metadata": {},
     "source": [
      "Development of NCX loss"
     ]
    },
    {
     "cell_type": "code",
     "collapsed": false,
     "input": [
      "# test written\n",
      "def ncxloss_gauss(x,df,sigma=1.0): \n",
      "    \"\"\"gaussian approximation to -ncx log likelihood\n",
      "    \n",
      "    Parameters:\n",
      "    -----------\n",
      "    x: observed value of X in data, a noncentral chi squared variable\n",
      "    df: known degrees of freedom of X\n",
      "    sigma: noise level\n",
      "\n",
      "    Output:\n",
      "    -------\n",
      "    ff : function with one argument\n",
      "         Inputs: mu, square root of noncentrality\n",
      "         Outputs: val, negative log likelihood of mu\n",
      "                  der, derivative with respect to mu\n",
      "    \"\"\"\n",
      "    s2 = sigma**2\n",
      "    s4 = sigma**4\n",
      "    def ff(mu):\n",
      "        nc = mu**2\n",
      "        vv = 2*s4*df+4*s2*nc\n",
      "        numer = nc+s2*df-x\n",
      "        val= .5*np.log(2*np.pi*(vv)) + (numer)**2/(2*vv)\n",
      "        ncx2der= 2*s2/vv + numer/vv - 2*s2*(numer/vv)**2\n",
      "        der = 2*mu*ncx2der\n",
      "        return val,der\n",
      "    return ff\n"
     ],
     "language": "python",
     "metadata": {},
     "outputs": [],
     "prompt_number": 11
    },
    {
     "cell_type": "code",
     "collapsed": false,
     "input": [
      "ncxloss_gauss(5.5,10,1.0)(2.3),ncxloss_gauss(2.3,4,.1)(.2)"
     ],
     "language": "python",
     "metadata": {},
     "outputs": [
      {
       "metadata": {},
       "output_type": "pyout",
       "prompt_number": 12,
       "text": [
        "((3.9419589177449339, 0.7971603621318025),\n",
        " (1024.6527952623899, -7211.666666666661))"
       ]
      }
     ],
     "prompt_number": 12
    },
    {
     "cell_type": "code",
     "collapsed": false,
     "input": [
      "ncxloss_gauss(5.5,10,1.0)(2.3),ncxloss_gauss(2.3,4,.1)(.2)"
     ],
     "language": "python",
     "metadata": {},
     "outputs": [
      {
       "metadata": {},
       "output_type": "pyout",
       "prompt_number": 9,
       "text": [
        "((3.9419589177449339, 0.7971603621318025),\n",
        " (1024.6527952623899, -684536.6666666659))"
       ]
      }
     ],
     "prompt_number": 9
    },
    {
     "cell_type": "code",
     "collapsed": false,
     "input": [
      "\n",
      "ncxloss_gauss(2.3,4,.1)(.2)"
     ],
     "language": "python",
     "metadata": {},
     "outputs": [],
     "prompt_number": 1
    },
    {
     "cell_type": "code",
     "collapsed": false,
     "input": [
      "# test derivatives\n",
      "df = npr.randint(5,10)\n",
      "x = npr.uniform(70,100)\n",
      "mus = np.arange(30,70,1.0)\n",
      "sigma = npr.uniform(.5,2.0)\n",
      "f = ncxloss_gauss(x,df,sigma)\n",
      "def fval(x):\n",
      "    return f(x)[0]\n",
      "zip(f(mus)[1],nc.numderiv(fval,mus,1e-3))"
     ],
     "language": "python",
     "metadata": {},
     "outputs": [
      {
       "metadata": {},
       "output_type": "pyout",
       "prompt_number": 16,
       "text": [
        "[(3.0331251580395437, 3.033176073337529),\n",
        " (3.13485450678056, 3.134905323790349),\n",
        " (3.2364041699183783, 3.2364549049788138),\n",
        " (3.3378037297816725, 3.3378543962356844),\n",
        " (3.4390774850826369, 3.4391280939800595),\n",
        " (3.5402454909838279, 3.540296051419034),\n",
        " (3.6413243747975144, 3.641374894357341),\n",
        " (3.7423279798812787, 3.7423784648638048),\n",
        " (3.8432678770377997, 3.8433183327271081),\n",
        " (3.9441537730413927, 3.9442042038757563),\n",
        " (4.0449938387787849, 4.04504424854224),\n",
        " (4.1457949741938718, 4.1458453660112582),\n",
        " (4.246563023263449, 4.2466133998573241),\n",
        " (4.3473029492456652, 4.3473533129230191),\n",
        " (4.4480189781788582, 4.4480693308344144),\n",
        " (4.5487147168803093, 4.5487650601927498),\n",
        " (4.6493932503672504, 4.6494435857908911),\n",
        " (4.7500572225972428, 4.7501075513167734),\n",
        " (4.8507089036286475, 4.8507592266986421),\n",
        " (4.9513502456799685, 4.9514005640673986),\n",
        " (5.0519829300785517, 5.0520332444961014),\n",
        " (5.1526084067041218, 5.1526587178329919),\n",
        " (5.2532279272273072, 5.2532782356706775),\n",
        " (5.3538425732003825, 5.3538928794694129),\n",
        " (5.45445327986313, 5.4545035843602818),\n",
        " (5.5550608563707691, 5.5551111595093516),\n",
        " (5.6556660030251047, 5.6557163051422776),\n",
        " (5.75626932598834, 5.75631962729517),\n",
        " (5.8568713498763039, 5.8569216506327848),\n",
        " (5.9574725285605377, 5.9575228290214),\n",
        " (6.0580732544534905, 6.0581235547658707),\n",
        " (6.1586738665059686, 6.1587241667382386),\n",
        " (6.2592746571086648, 6.2593249575968457),\n",
        " (6.3598758780588804, 6.3599261787885553),\n",
        " (6.4604777457281495, 6.4605280468867932),\n",
        " (6.5610804455452127, 6.5611307471158398),\n",
        " (6.6616841358912708, 6.6617344380119903),\n",
        " (6.7622889514896949, 6.7623392542088823),\n",
        " (6.8628950063600271, 6.8629453097628357),\n",
        " (6.9635023963958211, 6.963552700483433)]"
       ]
      }
     ],
     "prompt_number": 16
    },
    {
     "cell_type": "code",
     "collapsed": false,
     "input": [],
     "language": "python",
     "metadata": {},
     "outputs": [],
     "prompt_number": 1
    },
    {
     "cell_type": "code",
     "collapsed": false,
     "input": [],
     "language": "python",
     "metadata": {},
     "outputs": [],
     "prompt_number": 1
    },
    {
     "cell_type": "code",
     "collapsed": false,
     "input": [],
     "language": "python",
     "metadata": {},
     "outputs": [],
     "prompt_number": 1
    },
    {
     "cell_type": "code",
     "collapsed": false,
     "input": [],
     "language": "python",
     "metadata": {},
     "outputs": [],
     "prompt_number": 1
    },
    {
     "cell_type": "code",
     "collapsed": false,
     "input": [],
     "language": "python",
     "metadata": {},
     "outputs": []
    }
   ],
   "metadata": {}
  }
 ]
}