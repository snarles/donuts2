{
 "metadata": {
  "name": "",
  "signature": "sha256:a274799c457071f0454deaf611f12439e5f6ad6b5971594f02da604156e50aaf"
 },
 "nbformat": 3,
 "nbformat_minor": 0,
 "worksheets": [
  {
   "cells": [
    {
     "cell_type": "markdown",
     "metadata": {},
     "source": [
      "Does the correct loss function improve estimation of directions or kappa parameter?"
     ]
    },
    {
     "cell_type": "code",
     "collapsed": false,
     "input": [
      "import os\n",
      "import numpy as np\n",
      "import scipy.optimize as spo\n",
      "import scipy.stats as spst\n",
      "import numpy.random as npr\n",
      "import matplotlib.pyplot as plt\n",
      "import matplotlib as mpl\n",
      "from mpl_toolkits.mplot3d import Axes3D\n",
      "\n",
      "os.chdir(\"..\")\n",
      "import donuts.deconv.utils as du\n",
      "import donuts.deconv.ncx as nc\n",
      "import donuts.deconv.splines as spl"
     ],
     "language": "python",
     "metadata": {},
     "outputs": [
      {
       "output_type": "stream",
       "stream": "stderr",
       "text": [
        "/usr/local/lib/python2.7/dist-packages/setuptools-7.0-py2.7.egg/pkg_resources.py:1045: UserWarning: /home/snarles/.python-eggs is writable by group/others and vulnerable to attack when used with get_resource_filename. Consider a more secure location (set with .set_extraction_path or the PYTHON_EGG_CACHE environment variable).\n",
        "  warnings.warn(msg, UserWarning)\n"
       ]
      }
     ],
     "prompt_number": 1
    },
    {
     "cell_type": "code",
     "collapsed": false,
     "input": [
      "reload(spl)\n",
      "reload(nc)\n",
      "reload(du)"
     ],
     "language": "python",
     "metadata": {},
     "outputs": [
      {
       "metadata": {},
       "output_type": "pyout",
       "prompt_number": 71,
       "text": [
        "<module 'donuts.deconv.utils' from 'donuts/deconv/utils.pyc'>"
       ]
      }
     ],
     "prompt_number": 71
    },
    {
     "cell_type": "markdown",
     "metadata": {},
     "source": [
      "Generate the signal"
     ]
    },
    {
     "cell_type": "code",
     "collapsed": false,
     "input": [
      "# setting up measurement vectors and fitting vectors\n",
      "kappa = 1.5\n",
      "bvecs = np.sqrt(kappa) * du.geosphere(5)\n",
      "n = np.shape(bvecs)[0]\n",
      "print(\"Number of measurement directions is \"+str(n))\n",
      "sgrid = du.geosphere(8)\n",
      "sgrid = sgrid[sgrid[:,2] >= 0,:]\n",
      "pp = np.shape(sgrid)[0]\n",
      "print(\"Number of candidate directions is \"+str(pp))\n",
      "# do you want plots?\n",
      "plotsignal = True"
     ],
     "language": "python",
     "metadata": {},
     "outputs": [
      {
       "output_type": "stream",
       "stream": "stdout",
       "text": [
        "Number of measurement directions is 252\n",
        "Number of candidate directions is 341\n"
       ]
      }
     ],
     "prompt_number": 24
    },
    {
     "cell_type": "code",
     "collapsed": false,
     "input": [
      "# randomly generate parameters\n",
      "true_k = 2\n",
      "true_vs = du.normalize_rows(npr.normal(0,1,(true_k,3)))\n",
      "true_vs[:,2] = np.absolute(true_vs[:,2])\n",
      "true_ws = 0.5*np.ones((true_k,1))/true_k\n",
      "true_sigma = 1.0\n",
      "df = 10\n",
      "y0,y1 = du.simulate_signal_kappa(true_vs,true_ws,bvecs,true_sigma,df)\n",
      "# plot the noiseless signal\n",
      "if plotsignal:\n",
      "    zz = np.squeeze(y1)\n",
      "    fig = plt.figure()\n",
      "    ax = fig.gca(projection='3d')\n",
      "    ax.scatter(zz*bvecs[:,0],zz*bvecs[:,1],zz*bvecs[:,2])\n",
      "    plt.show()"
     ],
     "language": "python",
     "metadata": {},
     "outputs": [],
     "prompt_number": 154
    },
    {
     "cell_type": "markdown",
     "metadata": {},
     "source": [
      "Fit the signal, knwoing the true kappa and sigma"
     ]
    },
    {
     "cell_type": "code",
     "collapsed": false,
     "input": [
      "xs = du.ste_tan_kappa(sgrid,bvecs)\n",
      "assert np.shape(xs)==(n,pp)\n",
      "bt_nnls = spo.nnls(xs,np.squeeze(y1))[0]\n",
      "y1sq = (y1/true_sigma)**2\n",
      "ls = nc.ncxlosses(df,y1sq)\n",
      "bt_rician = nc.bfgssolve(xs,ls,bt_nnls/true_sigma)[0]"
     ],
     "language": "python",
     "metadata": {},
     "outputs": [],
     "prompt_number": 155
    },
    {
     "cell_type": "code",
     "collapsed": false,
     "input": [
      "yh[ii][0]"
     ],
     "language": "python",
     "metadata": {},
     "outputs": [
      {
       "metadata": {},
       "output_type": "pyout",
       "prompt_number": 139,
       "text": [
        "0.031514958900447455"
       ]
      }
     ],
     "prompt_number": 139
    },
    {
     "cell_type": "code",
     "collapsed": false,
     "input": [
      "ii=1\n",
      "ls[ii](yh[ii])"
     ],
     "language": "python",
     "metadata": {},
     "outputs": [
      {
       "metadata": {},
       "output_type": "pyout",
       "prompt_number": 138,
       "text": [
        "(array([ 2.97697276]), array([ 0.01652466]), 0.04939097894971281)"
       ]
      }
     ],
     "prompt_number": 138
    },
    {
     "cell_type": "code",
     "collapsed": false,
     "input": [
      "ls[ii](0.14720411)"
     ],
     "language": "python",
     "metadata": {},
     "outputs": [
      {
       "metadata": {},
       "output_type": "pyout",
       "prompt_number": 136,
       "text": [
        "(3.8231838894472125, -0.68037099160249359, 0.27739427727240562)"
       ]
      }
     ],
     "prompt_number": 136
    },
    {
     "cell_type": "code",
     "collapsed": false,
     "input": [
      "def likelihood(yh):\n",
      "    return sum([ls[ii](yh[ii])[0] for ii in range(len(ls))])\n",
      "likelihood(10*np.squeeze(y0/true_sigma)**2)"
     ],
     "language": "python",
     "metadata": {},
     "outputs": [
      {
       "metadata": {},
       "output_type": "pyout",
       "prompt_number": 153,
       "text": [
        "735.26349554358615"
       ]
      }
     ],
     "prompt_number": 153
    },
    {
     "cell_type": "code",
     "collapsed": false,
     "input": [],
     "language": "python",
     "metadata": {},
     "outputs": [
      {
       "metadata": {},
       "output_type": "pyout",
       "prompt_number": 13,
       "text": [
        "1.6184449800648406"
       ]
      }
     ],
     "prompt_number": 13
    },
    {
     "cell_type": "code",
     "collapsed": false,
     "input": [
      "n = 20\n",
      "p = 500\n",
      "amat = np.absolute(npr.normal(0,1,(n,p)))\n",
      "bt0 = np.zeros((p,1))\n",
      "bt0[:2] = 1\n",
      "df = 10\n",
      "mu = np.dot(amat,bt0)\n",
      "ysq = spst.ncx2.rvs(df,mu**2)\n",
      "ls = nc.ncxlosses(df,ysq)\n",
      "\n",
      "def f(x0):\n",
      "    yh = np.dot(amat,x0)\n",
      "    return sum(np.array([ls[i](yh[i])[0] for i in range(len(yh))]))\n",
      "def fprime(x0):\n",
      "    yh = np.dot(amat,x0)\n",
      "    rawg= np.array([ls[i](yh[i])[1] for i in range(len(yh))])\n",
      "    return np.dot(rawg.T,amat)"
     ],
     "language": "python",
     "metadata": {},
     "outputs": [],
     "prompt_number": 6
    },
    {
     "cell_type": "code",
     "collapsed": false,
     "input": [
      "bt = spo.nnls(amat,np.squeeze(np.sqrt(ysq)))[0]\n",
      "#print(f(bt))\n",
      "res = nc.bfgssolve(amat,ls,np.array(bt),0.0)\n",
      "x0 = res[0]\n",
      "(f(x0),sum(x0 > 0))"
     ],
     "language": "python",
     "metadata": {},
     "outputs": [
      {
       "metadata": {},
       "output_type": "pyout",
       "prompt_number": 7,
       "text": [
        "(64.041474329709757, 16)"
       ]
      }
     ],
     "prompt_number": 7
    },
    {
     "cell_type": "heading",
     "level": 2,
     "metadata": {},
     "source": [
      "Development of NCX loss"
     ]
    },
    {
     "cell_type": "code",
     "collapsed": false,
     "input": [
      "\n",
      "# test written\n",
      "def ncxloss_gauss(x,df,sigma=1.0): \n",
      "    \"\"\"gaussian approximation to -ncx log likelihood\n",
      "    \n",
      "    Parameters:\n",
      "    -----------\n",
      "    x: observed value of X in data, a noncentral chi squared variable\n",
      "    df: known degrees of freedom of X\n",
      "    sigma: noise level\n",
      "\n",
      "    Output:\n",
      "    -------\n",
      "    ff : function with one argument\n",
      "         Inputs: mu, square root of noncentrality\n",
      "         Outputs: val, negative log likelihood of mu\n",
      "                  der, derivative with respect to mu\n",
      "    \"\"\"\n",
      "    s2 = sigma**2\n",
      "    s4 = sigma**4\n",
      "    def ff(mu):\n",
      "        nc = mu**2\n",
      "        vv = 2*s4*df+4*s2*nc\n",
      "        numer = nc+s2*df-x\n",
      "        val= .5*np.log(2*np.pi*(vv)) + (numer)**2/(2*vv)\n",
      "        ncx2der= 2*s2/vv + numer/vv - 2*s2*(numer/vv)**2\n",
      "        der = 2*mu*ncx2der\n",
      "        ncx2der2 = -8*s4/(vv**2) - 4*s2*numer/(vv**2) + 1/vv - 4*s2*numer/(vv**2) + 16*s4*(numer)**2/(vv**3)\n",
      "        der2 = 2*ncx2der + ncx2der2 * (2*mu)**2\n",
      "        return val,der,der2\n",
      "    return ff\n"
     ],
     "language": "python",
     "metadata": {},
     "outputs": [],
     "prompt_number": 57
    },
    {
     "cell_type": "code",
     "collapsed": false,
     "input": [
      "ncxloss_gauss(5.5,10,1.0)(2.3),ncxloss_gauss(2.3,4,.1)(.2)"
     ],
     "language": "python",
     "metadata": {},
     "outputs": [
      {
       "metadata": {},
       "output_type": "pyout",
       "prompt_number": 12,
       "text": [
        "((3.9419589177449339, 0.7971603621318025),\n",
        " (1024.6527952623899, -7211.666666666661))"
       ]
      }
     ],
     "prompt_number": 12
    },
    {
     "cell_type": "code",
     "collapsed": false,
     "input": [
      "ncxloss_gauss(5.5,10,1.0)(2.3),ncxloss_gauss(2.3,4,.1)(.2)"
     ],
     "language": "python",
     "metadata": {},
     "outputs": [
      {
       "metadata": {},
       "output_type": "pyout",
       "prompt_number": 9,
       "text": [
        "((3.9419589177449339, 0.7971603621318025),\n",
        " (1024.6527952623899, -684536.6666666659))"
       ]
      }
     ],
     "prompt_number": 9
    },
    {
     "cell_type": "code",
     "collapsed": false,
     "input": [
      "\n",
      "ncxloss_gauss(2.3,4,.1)(.2)"
     ],
     "language": "python",
     "metadata": {},
     "outputs": [],
     "prompt_number": 1
    },
    {
     "cell_type": "code",
     "collapsed": false,
     "input": [],
     "language": "python",
     "metadata": {},
     "outputs": []
    },
    {
     "cell_type": "code",
     "collapsed": false,
     "input": [
      "# test derivatives\n",
      "df = npr.randint(5,10)\n",
      "x = npr.uniform(70,100)\n",
      "mus = np.arange(30,70,1.0)\n",
      "ncs = mus**2\n",
      "sigma = 1.0 #npr.uniform(.5,2.0)\n",
      "f = ncxloss_gauss(x,df,sigma)\n",
      "def fval(x):\n",
      "    return f(x)[0]\n",
      "zip(f(mus)[2],nc.numderiv2(fval,mus,1e-4))\n",
      "0"
     ],
     "language": "python",
     "metadata": {},
     "outputs": [
      {
       "metadata": {},
       "output_type": "pyout",
       "prompt_number": 59,
       "text": [
        "0"
       ]
      }
     ],
     "prompt_number": 59
    },
    {
     "cell_type": "code",
     "collapsed": false,
     "input": [],
     "language": "python",
     "metadata": {},
     "outputs": [],
     "prompt_number": 1
    },
    {
     "cell_type": "code",
     "collapsed": false,
     "input": [],
     "language": "python",
     "metadata": {},
     "outputs": [],
     "prompt_number": 1
    },
    {
     "cell_type": "code",
     "collapsed": false,
     "input": [],
     "language": "python",
     "metadata": {},
     "outputs": [],
     "prompt_number": 1
    },
    {
     "cell_type": "code",
     "collapsed": false,
     "input": [],
     "language": "python",
     "metadata": {},
     "outputs": [],
     "prompt_number": 1
    },
    {
     "cell_type": "code",
     "collapsed": false,
     "input": [],
     "language": "python",
     "metadata": {},
     "outputs": []
    }
   ],
   "metadata": {}
  }
 ]
}