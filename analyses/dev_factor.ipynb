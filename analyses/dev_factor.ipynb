{
 "metadata": {
  "name": "",
  "signature": "sha256:fd6d681f6d37cc8921e5cd2f8116b144669e0fcf3bb49b167b85a42dbcf31774"
 },
 "nbformat": 3,
 "nbformat_minor": 0,
 "worksheets": [
  {
   "cells": [
    {
     "cell_type": "markdown",
     "metadata": {},
     "source": [
      "# Removing physiological noise via factor analysis"
     ]
    },
    {
     "cell_type": "code",
     "collapsed": false,
     "input": [
      "import os\n",
      "import subprocess\n",
      "import donuts.deconv.utils as du\n",
      "import donuts.deconv.ncx as dn"
     ],
     "language": "python",
     "metadata": {},
     "outputs": [],
     "prompt_number": 11
    },
    {
     "cell_type": "code",
     "collapsed": false,
     "input": [
      "import nibabel as nib\n",
      "import numpy as np\n",
      "import numpy.random as npr\n",
      "import scipy.optimize as spo"
     ],
     "language": "python",
     "metadata": {},
     "outputs": [],
     "prompt_number": 3
    },
    {
     "cell_type": "code",
     "collapsed": false,
     "input": [
      "def sdot(a, b):\n",
      "    return np.squeeze(np.dot(a, b))"
     ],
     "language": "python",
     "metadata": {},
     "outputs": [],
     "prompt_number": 25
    },
    {
     "cell_type": "code",
     "collapsed": false,
     "input": [
      "subprocess.check_output('aws s3 cp s3://chris1data/chris1_bvec.csv /root/data/chris1_bvec.csv', shell=True)"
     ],
     "language": "python",
     "metadata": {},
     "outputs": [
      {
       "metadata": {},
       "output_type": "pyout",
       "prompt_number": 2,
       "text": [
        "'download: s3://chris1data/chris1_bvec.csv to ../../data/chris1_bvec.csv\\n'"
       ]
      }
     ],
     "prompt_number": 2
    },
    {
     "cell_type": "code",
     "collapsed": false,
     "input": [
      "bvecs = np.loadtxt('/root/data/chris1_bvec.csv').T\n",
      "diff_inds = np.where(sum(bvecs**2, 1) > 0)[0]\n",
      "bvecs = bvecs[diff_inds, :]"
     ],
     "language": "python",
     "metadata": {},
     "outputs": [],
     "prompt_number": 4
    },
    {
     "cell_type": "code",
     "collapsed": false,
     "input": [
      "n = np.shape(bvecs)[0]\n",
      "n"
     ],
     "language": "python",
     "metadata": {},
     "outputs": [
      {
       "metadata": {},
       "output_type": "pyout",
       "prompt_number": 13,
       "text": [
        "138"
       ]
      }
     ],
     "prompt_number": 13
    },
    {
     "cell_type": "code",
     "collapsed": false,
     "input": [
      "ggrid = du.georandsphere(4, 5)\n",
      "pp = np.shape(ggrid)[0]\n",
      "pp"
     ],
     "language": "python",
     "metadata": {},
     "outputs": [
      {
       "metadata": {},
       "output_type": "pyout",
       "prompt_number": 16,
       "text": [
        "810"
       ]
      }
     ],
     "prompt_number": 16
    },
    {
     "cell_type": "code",
     "collapsed": false,
     "input": [
      "np.shape(ggrid)"
     ],
     "language": "python",
     "metadata": {},
     "outputs": [
      {
       "metadata": {},
       "output_type": "pyout",
       "prompt_number": 9,
       "text": [
        "(810, 3)"
       ]
      }
     ],
     "prompt_number": 9
    },
    {
     "cell_type": "markdown",
     "metadata": {},
     "source": [
      "# generating true signals and noisy signals"
     ]
    },
    {
     "cell_type": "code",
     "collapsed": false,
     "input": [
      "?dn.rvs_ncx2"
     ],
     "language": "python",
     "metadata": {},
     "outputs": [],
     "prompt_number": 12
    },
    {
     "cell_type": "code",
     "collapsed": false,
     "input": [
      "?du.ste_tan_kappa"
     ],
     "language": "python",
     "metadata": {},
     "outputs": [],
     "prompt_number": 21
    },
    {
     "cell_type": "code",
     "collapsed": false,
     "input": [
      "nvox = 1000\n",
      "y0s = np.zeros((nvox, n))\n",
      "# factor loadings\n",
      "fls = 0.1 * npr.randn(nvox)\n",
      "# factor\n",
      "fact = npr.randn(n)\n",
      "ys = np.zeros((nvox, n))"
     ],
     "language": "python",
     "metadata": {},
     "outputs": [],
     "prompt_number": 31
    },
    {
     "cell_type": "code",
     "collapsed": false,
     "input": [
      "amat = du.ste_tan_kappa(ggrid, bvecs)\n",
      "np.shape(amat)"
     ],
     "language": "python",
     "metadata": {},
     "outputs": [
      {
       "metadata": {},
       "output_type": "pyout",
       "prompt_number": 24,
       "text": [
        "(138, 810)"
       ]
      }
     ],
     "prompt_number": 24
    },
    {
     "cell_type": "code",
     "collapsed": false,
     "input": [
      "for i in range(nvox):\n",
      "    bt = np.zeros(pp)\n",
      "    inds_bt = npr.randint(0, pp, 2)\n",
      "    bt[inds_bt] = npr.rand(2)\n",
      "    bt = bt/sum(bt)\n",
      "    y0 = sdot(amat, bt)\n",
      "    y = dn.rvs_ncx2(2, y0, sigma = 0.1) + fls[i] * fact\n",
      "    y0s[i, :] = y0\n",
      "    ys[i, :] = y"
     ],
     "language": "python",
     "metadata": {},
     "outputs": [],
     "prompt_number": 32
    },
    {
     "cell_type": "code",
     "collapsed": false,
     "input": [
      "cdata = np.hstack([ys, y0s])"
     ],
     "language": "python",
     "metadata": {},
     "outputs": [],
     "prompt_number": 35
    },
    {
     "cell_type": "code",
     "collapsed": false,
     "input": [
      "np.savetxt('/root/data/sim.txt', cdata, fmt = '%.9e')"
     ],
     "language": "python",
     "metadata": {},
     "outputs": [],
     "prompt_number": 36
    },
    {
     "cell_type": "code",
     "collapsed": false,
     "input": [
      "os.chdir('/root/ephemeral-hdfs/bin')\n",
      "os.system('./hadoop fs -put /root/data/sim.txt sim.txt')"
     ],
     "language": "python",
     "metadata": {},
     "outputs": [
      {
       "metadata": {},
       "output_type": "pyout",
       "prompt_number": 37,
       "text": [
        "0"
       ]
      }
     ],
     "prompt_number": 37
    },
    {
     "cell_type": "code",
     "collapsed": false,
     "input": [
      "parts = 48\n",
      "rawrdd = sc.textFile('sim.txt', parts)"
     ],
     "language": "python",
     "metadata": {},
     "outputs": [],
     "prompt_number": 38
    },
    {
     "cell_type": "code",
     "collapsed": false,
     "input": [
      "rawrdd.first()"
     ],
     "language": "python",
     "metadata": {},
     "outputs": [
      {
       "metadata": {},
       "output_type": "pyout",
       "prompt_number": 39,
       "text": [
        "u'8.436711237e-01 1.072438877e+00 6.936577681e-01 5.406509793e-01 1.314434617e+00 7.956445870e-02 1.001028363e+00 1.328028555e+00 1.226229729e+00 3.031560620e-01 6.971319440e-01 3.684557700e-01 8.300149111e-02 3.531549547e-01 1.122300085e+00 7.701375521e-01 6.515860203e-01 4.051365010e-01 2.449164704e-01 1.903816115e-01 6.053755122e-01 7.445019783e-01 8.333097738e-01 1.107224749e+00 2.769220750e-01 5.123567626e-01 2.363884607e-01 9.653605095e-01 4.258202005e-01 8.650633791e-01 1.277790763e+00 7.615438081e-01 2.673497797e-01 2.452727186e-01 1.049488308e-01 7.848977714e-01 8.714962893e-01 7.601406197e-01 6.177116806e-01 -1.072018038e-02 3.410205468e-01 1.257444150e+00 8.131031369e-01 5.421531004e-01 8.090476293e-01 2.618224880e-01 4.919695852e-01 1.243256450e-01 2.934756977e-01 7.717824865e-01 6.506502480e-01 9.512453195e-01 8.820939069e-01 2.551368719e-01 4.192421213e-01 6.797029669e-01 2.898976005e-01 1.635220069e-01 5.905096322e-01 5.111338610e-01 9.412377509e-01 1.201983333e+00 7.210794594e-01 3.772296473e-01 5.237412311e-01 7.570133418e-01 1.243017152e+00 3.769182079e-01 3.252700712e-01 7.448864019e-01 3.715235319e-01 1.174251924e+00 5.324243438e-01 3.225578342e-01 1.011240325e+00 9.993154677e-01 2.564789161e-01 3.553899832e-01 1.043952371e+00 7.401946806e-01 1.017865447e+00 1.576744983e-01 6.651015035e-01 3.304777202e-01 8.020293902e-01 1.598095773e-01 1.043789421e+00 3.934812807e-01 9.599910192e-01 3.539911127e-01 1.686606802e-01 6.177302585e-01 3.198761350e-01 8.645219144e-01 1.223367811e-01 4.328020193e-01 6.256234600e-01 2.575204462e-01 1.178021991e+00 5.242867760e-01 1.038349067e+00 1.292055572e+00 5.375635562e-01 6.736788233e-01 4.412336333e-01 9.149844124e-01 5.298570929e-01 4.979920867e-01 5.711067760e-01 7.764130346e-01 3.435083215e-01 1.136431710e+00 9.975898944e-01 9.282281463e-01 5.834236182e-01 4.261758233e-01 6.984135197e-01 1.042752543e+00 3.929663455e-01 2.143826608e-01 4.138139153e-01 4.026285484e-01 1.044213487e+00 3.225240151e-01 2.785651110e-02 1.090430985e+00 8.583030812e-01 9.411328984e-01 6.949787608e-01 1.027610092e+00 2.487781697e-01 2.773877633e-01 5.288018268e-01 1.000743516e+00 5.517050095e-01 6.363816763e-01 2.802204085e-01 3.737795946e-01 8.963521604e-01 9.835743192e-01 7.232548931e-01 6.929716484e-01 9.897894738e-01 4.468548254e-01 9.872937674e-01 9.793233878e-01 8.999940368e-01 4.519718673e-01 6.254828175e-01 5.371843132e-01 4.632721167e-01 6.982617475e-01 9.515428527e-01 7.988818563e-01 8.729661050e-01 6.299514727e-01 6.532553774e-01 3.936916992e-01 7.587746396e-01 7.393525902e-01 9.018171548e-01 9.322056841e-01 4.578893351e-01 7.477078005e-01 4.235394168e-01 8.487709696e-01 5.652270006e-01 7.764321045e-01 9.779167243e-01 9.117138030e-01 4.919242566e-01 5.960051010e-01 5.167363349e-01 9.943042102e-01 9.546518371e-01 9.049374489e-01 8.357626599e-01 4.183986539e-01 6.628404248e-01 9.762236375e-01 9.864267562e-01 8.222381476e-01 8.544389744e-01 4.319154622e-01 6.229894601e-01 3.843551347e-01 5.010877377e-01 9.555817850e-01 9.521753140e-01 9.704076120e-01 8.871363337e-01 4.134716591e-01 5.786989983e-01 8.651845456e-01 4.538032291e-01 5.368510065e-01 8.475518309e-01 8.528218261e-01 9.105709811e-01 9.588049951e-01 8.726119749e-01 5.105401321e-01 7.427721697e-01 6.874569051e-01 8.626132619e-01 6.609474984e-01 5.635662145e-01 9.414247959e-01 5.626990615e-01 9.860745401e-01 6.893078440e-01 6.127038632e-01 9.856362450e-01 9.933445763e-01 5.373840908e-01 4.326926046e-01 9.483131993e-01 8.629776581e-01 9.573763905e-01 5.040787778e-01 8.207972848e-01 4.222022113e-01 9.190538710e-01 5.019374992e-01 9.982903675e-01 6.589770519e-01 9.768467761e-01 6.402024189e-01 4.002089711e-01 9.154152563e-01 6.025605653e-01 9.740952216e-01 4.711599885e-01 7.873676046e-01 7.637213042e-01 4.748442068e-01 9.784810259e-01 8.841944444e-01 9.701909735e-01 9.431707915e-01 7.261211166e-01 5.821759809e-01 5.739487729e-01 9.800046468e-01 7.720553226e-01 7.966897072e-01 7.511607041e-01 7.104886530e-01 6.202210348e-01 9.349085743e-01 9.651070971e-01 9.913527717e-01 6.214261627e-01 9.425012062e-01 8.274846457e-01 9.769217658e-01 8.092327978e-01 4.043973847e-01 6.984882575e-01 7.204317140e-01 9.982966603e-01 5.351426449e-01 3.905862025e-01 9.931764090e-01 8.570134227e-01 9.195819087e-01 7.861445223e-01 9.131764900e-01 5.613070823e-01 4.757497000e-01 7.754427584e-01 9.665876941e-01 6.504691142e-01 8.090156817e-01 5.115303695e-01 7.046346014e-01'"
       ]
      }
     ],
     "prompt_number": 39
    },
    {
     "cell_type": "markdown",
     "metadata": {},
     "source": [
      "# Cleanup"
     ]
    },
    {
     "cell_type": "code",
     "collapsed": false,
     "input": [
      "os.system('./hadoop fs -rm sim.txt')"
     ],
     "language": "python",
     "metadata": {},
     "outputs": []
    }
   ],
   "metadata": {}
  }
 ]
}