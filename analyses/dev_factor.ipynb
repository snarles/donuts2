{
 "metadata": {
  "name": "",
  "signature": "sha256:71ff9e82c2331e5d02bc0f910d25aa309469dd548fb82a867fdf762fbff7e0ea"
 },
 "nbformat": 3,
 "nbformat_minor": 0,
 "worksheets": [
  {
   "cells": [
    {
     "cell_type": "markdown",
     "metadata": {},
     "source": [
      "# Removing physiological noise via factor analysis"
     ]
    },
    {
     "cell_type": "code",
     "collapsed": false,
     "input": [
      "import os\n",
      "import subprocess\n",
      "import donuts.deconv.utils as du\n",
      "import donuts.deconv.ncx as dn"
     ],
     "language": "python",
     "metadata": {},
     "outputs": [],
     "prompt_number": 11
    },
    {
     "cell_type": "code",
     "collapsed": false,
     "input": [
      "import nibabel as nib\n",
      "import numpy as np\n",
      "import numpy.random as npr\n",
      "import scipy.optimize as spo\n",
      "import numpy.linalg as nla"
     ],
     "language": "python",
     "metadata": {},
     "outputs": [],
     "prompt_number": 124
    },
    {
     "cell_type": "code",
     "collapsed": false,
     "input": [
      "def sdot(a, b):\n",
      "    return np.squeeze(np.dot(a, b))\n",
      "\n",
      "def par(st):\n",
      "    return np.array([float(v) for v in str(st).split(' ')])\n",
      "\n",
      "def depar(x):\n",
      "    return ' '.join(str(xx) for xx in x)\n",
      "\n",
      "def arr_red(x, y):\n",
      "    return np.vstack([x, y])\n",
      "\n",
      "def array_to_rdd(a, parts = 48, rm = False, fn = 0):\n",
      "    if fn == 0:\n",
      "        fn = 'temp' + str(npr.randint(0, 999999)) + '.txt'\n",
      "    os.chdir('/root/ephemeral-hdfs/bin')\n",
      "    np.savetxt(fn, a, fmt = '%.9e')\n",
      "    os.system('./hadoop fs -put ' + fn + ' ' + fn)\n",
      "    rawrdd = sc.textFile(fn, parts).map(par).cache()\n",
      "    rawrdd.count()\n",
      "    if rm:\n",
      "        os.system('rm ' + fn)\n",
      "    return rawrdd\n",
      "\n",
      "def rdd_to_array(rawrdd, parts = 48, rm = False, fn = 0):\n",
      "    if fn == 0:\n",
      "        fn = 'temp' + str(npr.randint(0, 999999)) + '.txt'\n",
      "    os.chdir('/root/ephemeral-hdfs/bin')\n",
      "    rawrdd.map(depar).saveAsTextFile(fn)\n",
      "    os.system('./hadoop fs -getmerge ' + fn + ' ' + fn)\n",
      "    a = np.loadtxt(fn)\n",
      "    # cleanup\n",
      "    os.system('rm ' + fn)\n",
      "    os.system('./hadoop fs -rmr ' + fn)\n",
      "    return a\n",
      "\n",
      "def rank1_approx(a):\n",
      "    u, s, v = nla.svd(a, False)\n",
      "    return s[0] * np.outer(u[:, 0], v[0, :])"
     ],
     "language": "python",
     "metadata": {},
     "outputs": [],
     "prompt_number": 153
    },
    {
     "cell_type": "code",
     "collapsed": false,
     "input": [
      "subprocess.check_output('aws s3 cp s3://chris1data/chris1_bvec.csv /root/data/chris1_bvec.csv', shell=True)"
     ],
     "language": "python",
     "metadata": {},
     "outputs": [
      {
       "metadata": {},
       "output_type": "pyout",
       "prompt_number": 2,
       "text": [
        "'download: s3://chris1data/chris1_bvec.csv to ../../data/chris1_bvec.csv\\n'"
       ]
      }
     ],
     "prompt_number": 2
    },
    {
     "cell_type": "code",
     "collapsed": false,
     "input": [
      "bvecs = np.loadtxt('/root/data/chris1_bvec.csv').T\n",
      "diff_inds = np.where(sum(bvecs**2, 1) > 0)[0]\n",
      "bvecs = bvecs[diff_inds, :]"
     ],
     "language": "python",
     "metadata": {},
     "outputs": [],
     "prompt_number": 4
    },
    {
     "cell_type": "code",
     "collapsed": false,
     "input": [
      "n = np.shape(bvecs)[0]\n",
      "n"
     ],
     "language": "python",
     "metadata": {},
     "outputs": [
      {
       "metadata": {},
       "output_type": "pyout",
       "prompt_number": 13,
       "text": [
        "138"
       ]
      }
     ],
     "prompt_number": 13
    },
    {
     "cell_type": "code",
     "collapsed": false,
     "input": [
      "ggrid = du.georandsphere(4, 5)\n",
      "pp = np.shape(ggrid)[0]\n",
      "pp"
     ],
     "language": "python",
     "metadata": {},
     "outputs": [
      {
       "metadata": {},
       "output_type": "pyout",
       "prompt_number": 16,
       "text": [
        "810"
       ]
      }
     ],
     "prompt_number": 16
    },
    {
     "cell_type": "code",
     "collapsed": false,
     "input": [
      "np.shape(ggrid)"
     ],
     "language": "python",
     "metadata": {},
     "outputs": [
      {
       "metadata": {},
       "output_type": "pyout",
       "prompt_number": 9,
       "text": [
        "(810, 3)"
       ]
      }
     ],
     "prompt_number": 9
    },
    {
     "cell_type": "markdown",
     "metadata": {},
     "source": [
      "# generating true signals and noisy signals"
     ]
    },
    {
     "cell_type": "code",
     "collapsed": false,
     "input": [
      "nvox = 96\n",
      "y0s = np.zeros((nvox, n))\n",
      "# factor loadings\n",
      "fls = 0.1 * npr.randn(nvox)\n",
      "# factor\n",
      "fact = npr.randn(n)\n",
      "pnoise = np.outer(fls, fact)\n",
      "ys = np.zeros((nvox, n))\n",
      "amat = du.ste_tan_kappa(ggrid, bvecs)"
     ],
     "language": "python",
     "metadata": {},
     "outputs": [],
     "prompt_number": 101
    },
    {
     "cell_type": "code",
     "collapsed": false,
     "input": [
      "for i in range(nvox):\n",
      "    bt = np.zeros(pp)\n",
      "    inds_bt = npr.randint(0, pp, 2)\n",
      "    bt[inds_bt] = npr.rand(2)\n",
      "    bt = bt/sum(bt)\n",
      "    y0 = sdot(amat, bt)\n",
      "    y = dn.rvs_ncx2(2, y0, sigma = 0.1) + pnoise[i, :]\n",
      "    y0s[i, :] = y0\n",
      "    ys[i, :] = y"
     ],
     "language": "python",
     "metadata": {},
     "outputs": [],
     "prompt_number": 102
    },
    {
     "cell_type": "code",
     "collapsed": false,
     "input": [
      "cdata = np.hstack([ys, y0s])"
     ],
     "language": "python",
     "metadata": {},
     "outputs": [],
     "prompt_number": 103
    },
    {
     "cell_type": "code",
     "collapsed": false,
     "input": [
      "cdata_rdd = array_to_rdd(cdata)"
     ],
     "language": "python",
     "metadata": {},
     "outputs": [],
     "prompt_number": 104
    },
    {
     "cell_type": "markdown",
     "metadata": {},
     "source": [
      "## baseline emd"
     ]
    },
    {
     "cell_type": "code",
     "collapsed": false,
     "input": [
      "def proc(x):\n",
      "    y = x[:138]\n",
      "    y0 = x[138:]\n",
      "    return y, y0\n",
      "\n",
      "def base_emd(x):\n",
      "    y, y0 = proc(x)\n",
      "    bt = spo.nnls(amat, y)[0]\n",
      "    bt0 = spo.nnls(amat, y0)[0]\n",
      "    return du.arc_emd(ggrid, bt, ggrid, bt0)"
     ],
     "language": "python",
     "metadata": {},
     "outputs": [],
     "prompt_number": 115
    },
    {
     "cell_type": "code",
     "collapsed": false,
     "input": [
      "res = cdata_rdd.map(base_emd).collect()"
     ],
     "language": "python",
     "metadata": {},
     "outputs": [],
     "prompt_number": 118
    },
    {
     "cell_type": "code",
     "collapsed": false,
     "input": [
      "np.mean(res)"
     ],
     "language": "python",
     "metadata": {},
     "outputs": [
      {
       "metadata": {},
       "output_type": "pyout",
       "prompt_number": 119,
       "text": [
        "0.26152742155439529"
       ]
      }
     ],
     "prompt_number": 119
    },
    {
     "cell_type": "markdown",
     "metadata": {},
     "source": [
      "##get first set of residuals"
     ]
    },
    {
     "cell_type": "code",
     "collapsed": false,
     "input": [
      "def resid(x):\n",
      "    y, y0 = proc(x)\n",
      "    bt = spo.nnls(amat, y)[0]\n",
      "    yh = sdot(amat, bt)\n",
      "    resid = y - yh\n",
      "    return resid"
     ],
     "language": "python",
     "metadata": {},
     "outputs": [],
     "prompt_number": 120
    },
    {
     "cell_type": "code",
     "collapsed": false,
     "input": [
      "resids = rdd_to_array(cdata_rdd.map(resid))"
     ],
     "language": "python",
     "metadata": {},
     "outputs": [],
     "prompt_number": 121
    },
    {
     "cell_type": "code",
     "collapsed": false,
     "input": [
      "np.shape(resids)"
     ],
     "language": "python",
     "metadata": {},
     "outputs": [
      {
       "metadata": {},
       "output_type": "pyout",
       "prompt_number": 122,
       "text": [
        "(96, 138)"
       ]
      }
     ],
     "prompt_number": 122
    },
    {
     "cell_type": "code",
     "collapsed": false,
     "input": [
      "plt.scatter(pnoise.ravel(), resids.ravel())"
     ],
     "language": "python",
     "metadata": {},
     "outputs": [
      {
       "metadata": {},
       "output_type": "pyout",
       "prompt_number": 150,
       "text": [
        "<matplotlib.collections.PathCollection at 0x7ff9ea027d10>"
       ]
      },
      {
       "metadata": {},
       "output_type": "display_data",
       "png": "[encoded data removed]",
       "text": [
        "<matplotlib.figure.Figure at 0x7ff9ea0bd6d0>"
       ]
      }
     ],
     "prompt_number": 150
    },
    {
     "cell_type": "code",
     "collapsed": false,
     "input": [
      "plt.scatter(pnoise.ravel(), rank1_approx(resids).ravel())"
     ],
     "language": "python",
     "metadata": {},
     "outputs": [
      {
       "metadata": {},
       "output_type": "pyout",
       "prompt_number": 152,
       "text": [
        "<matplotlib.collections.PathCollection at 0x7ff9e9f9b210>"
       ]
      },
      {
       "metadata": {},
       "output_type": "display_data",
       "png": "[encoded data removed]",
       "text": [
        "<matplotlib.figure.Figure at 0x7ff9ea097e90>"
       ]
      }
     ],
     "prompt_number": 152
    },
    {
     "cell_type": "code",
     "collapsed": false,
     "input": [
      "rdata = array_to_rdd(rank1_approx(resids))"
     ],
     "language": "python",
     "metadata": {},
     "outputs": [],
     "prompt_number": 154
    },
    {
     "cell_type": "code",
     "collapsed": false,
     "input": [
      "def sub00(tup):\n",
      "    x = tup[0]\n",
      "    y, y0 = proc(x)\n",
      "    yn = y - tup[1]\n",
      "    return np.hstack([yn, y0])"
     ],
     "language": "python",
     "metadata": {},
     "outputs": [],
     "prompt_number": 159
    },
    {
     "cell_type": "code",
     "collapsed": false,
     "input": [
      "cdata_new = cdata_rdd.zip(rdata).map(sub00)"
     ],
     "language": "python",
     "metadata": {},
     "outputs": [],
     "prompt_number": 160
    },
    {
     "cell_type": "code",
     "collapsed": false,
     "input": [
      "res = cdata_new.map(base_emd).collect()"
     ],
     "language": "python",
     "metadata": {},
     "outputs": [],
     "prompt_number": 161
    },
    {
     "cell_type": "code",
     "collapsed": false,
     "input": [
      "np.mean(res)"
     ],
     "language": "python",
     "metadata": {},
     "outputs": [
      {
       "metadata": {},
       "output_type": "pyout",
       "prompt_number": 162,
       "text": [
        "0.25021453767355223"
       ]
      }
     ],
     "prompt_number": 162
    },
    {
     "cell_type": "code",
     "collapsed": false,
     "input": [
      "resids2 = rdd_to_array(cdata_new.map(resid))\n",
      "resids = resids + resids2\n",
      "rdata = array_to_rdd(rank1_approx(resids))\n",
      "cdata_new = cdata_rdd.zip(rdata).map(sub00)\n",
      "res = cdata_new.map(base_emd).collect()\n",
      "np.mean(res)"
     ],
     "language": "python",
     "metadata": {},
     "outputs": []
    },
    {
     "cell_type": "markdown",
     "metadata": {},
     "source": [
      "# Cleanup"
     ]
    },
    {
     "cell_type": "code",
     "collapsed": false,
     "input": [
      "os.system('./hadoop fs -rm sim.txt')"
     ],
     "language": "python",
     "metadata": {},
     "outputs": [
      {
       "metadata": {},
       "output_type": "pyout",
       "prompt_number": 41,
       "text": [
        "0"
       ]
      }
     ],
     "prompt_number": 41
    },
    {
     "cell_type": "code",
     "collapsed": false,
     "input": [],
     "language": "python",
     "metadata": {},
     "outputs": []
    }
   ],
   "metadata": {}
  }
 ]
}