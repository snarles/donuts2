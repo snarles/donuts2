{
 "metadata": {
  "name": "",
  "signature": "sha256:ebf22643540cfe12b30a8fd0a513176c90c4740360c34c80f37cce5505878b58"
 },
 "nbformat": 3,
 "nbformat_minor": 0,
 "worksheets": [
  {
   "cells": [
    {
     "cell_type": "markdown",
     "metadata": {},
     "source": [
      "# Removing physiological noise via factor analysis"
     ]
    },
    {
     "cell_type": "code",
     "collapsed": false,
     "input": [
      "import os\n",
      "import subprocess\n",
      "import donuts.deconv.utils as du\n",
      "import donuts.deconv.ncx as dn"
     ],
     "language": "python",
     "metadata": {},
     "outputs": [],
     "prompt_number": 1
    },
    {
     "cell_type": "code",
     "collapsed": false,
     "input": [
      "import nibabel as nib\n",
      "import numpy as np\n",
      "import numpy.random as npr\n",
      "import scipy.optimize as spo\n",
      "import numpy.linalg as nla"
     ],
     "language": "python",
     "metadata": {},
     "outputs": [],
     "prompt_number": 2
    },
    {
     "cell_type": "code",
     "collapsed": false,
     "input": [
      "def sdot(a, b):\n",
      "    return np.squeeze(np.dot(a, b))\n",
      "\n",
      "def par(st):\n",
      "    return np.array([float(v) for v in str(st).split(' ')])\n",
      "\n",
      "def depar(x):\n",
      "    return ' '.join(str(xx) for xx in x)\n",
      "\n",
      "def arr_red(x, y):\n",
      "    return np.vstack([x, y])\n",
      "\n",
      "def array_to_rdd(a, parts = 48, rm = False, fn = 0):\n",
      "    if fn == 0:\n",
      "        fn = 'temp' + str(npr.randint(0, 999999)) + '.txt'\n",
      "    os.chdir('/root/ephemeral-hdfs/bin')\n",
      "    np.savetxt(fn, a, fmt = '%.9e')\n",
      "    os.system('./hadoop fs -put ' + fn + ' ' + fn)\n",
      "    rawrdd = sc.textFile(fn, parts).map(par).cache()\n",
      "    rawrdd.count()\n",
      "    if rm:\n",
      "        os.system('rm ' + fn)\n",
      "    return rawrdd\n",
      "\n",
      "def rdd_to_array(rawrdd, parts = 48, rm = False, fn = 0):\n",
      "    if fn == 0:\n",
      "        fn = 'temp' + str(npr.randint(0, 999999)) + '.txt'\n",
      "    os.chdir('/root/ephemeral-hdfs/bin')\n",
      "    rawrdd.map(depar).saveAsTextFile(fn)\n",
      "    os.system('./hadoop fs -getmerge ' + fn + ' ' + fn)\n",
      "    a = np.loadtxt(fn)\n",
      "    # cleanup\n",
      "    os.system('rm ' + fn)\n",
      "    os.system('./hadoop fs -rmr ' + fn)\n",
      "    return a\n",
      "\n",
      "def rank1_approx(a):\n",
      "    u, s, v = nla.svd(a, False)\n",
      "    return s[0] * np.outer(u[:, 0], v[0, :])"
     ],
     "language": "python",
     "metadata": {},
     "outputs": [],
     "prompt_number": 3
    },
    {
     "cell_type": "code",
     "collapsed": false,
     "input": [
      "subprocess.check_output('aws s3 cp s3://chris1data/chris1_bvec.csv /root/data/chris1_bvec.csv', shell=True)"
     ],
     "language": "python",
     "metadata": {},
     "outputs": [
      {
       "metadata": {},
       "output_type": "pyout",
       "prompt_number": 2,
       "text": [
        "'download: s3://chris1data/chris1_bvec.csv to ../../data/chris1_bvec.csv\\n'"
       ]
      }
     ],
     "prompt_number": 2
    },
    {
     "cell_type": "code",
     "collapsed": false,
     "input": [
      "bvecs = np.loadtxt('/root/data/chris1_bvec.csv').T\n",
      "diff_inds = np.where(sum(bvecs**2, 1) > 0)[0]\n",
      "bvecs = bvecs[diff_inds, :]\n",
      "n = np.shape(bvecs)[0]\n",
      "n"
     ],
     "language": "python",
     "metadata": {},
     "outputs": [
      {
       "metadata": {},
       "output_type": "pyout",
       "prompt_number": 5,
       "text": [
        "138"
       ]
      }
     ],
     "prompt_number": 5
    },
    {
     "cell_type": "code",
     "collapsed": false,
     "input": [
      "ggrid = du.georandsphere(4, 5)\n",
      "pp = np.shape(ggrid)[0]\n",
      "pp"
     ],
     "language": "python",
     "metadata": {},
     "outputs": [
      {
       "metadata": {},
       "output_type": "pyout",
       "prompt_number": 6,
       "text": [
        "810"
       ]
      }
     ],
     "prompt_number": 6
    },
    {
     "cell_type": "markdown",
     "metadata": {},
     "source": [
      "# generating true signals and noisy signals"
     ]
    },
    {
     "cell_type": "code",
     "collapsed": false,
     "input": [
      "nvox = 96\n",
      "y0s = np.zeros((nvox, n))\n",
      "# factor loadings\n",
      "fls = 0.5 * npr.randn(nvox)\n",
      "# factor\n",
      "fact = npr.randn(n)\n",
      "pnoise = np.outer(fls, fact)\n",
      "ys = np.zeros((nvox, n))\n",
      "amat = du.ste_tan_kappa(ggrid, bvecs)"
     ],
     "language": "python",
     "metadata": {},
     "outputs": [],
     "prompt_number": 54
    },
    {
     "cell_type": "code",
     "collapsed": false,
     "input": [
      "for i in range(nvox):\n",
      "    bt = np.zeros(pp)\n",
      "    inds_bt = npr.randint(0, pp, 2)\n",
      "    bt[inds_bt] = npr.rand(2)\n",
      "    bt = bt/sum(bt)\n",
      "    y0 = sdot(amat, bt)\n",
      "    y = np.sqrt(dn.rvs_ncx2(2, y0, sigma = 0.1)) + pnoise[i, :]\n",
      "    y0s[i, :] = y0\n",
      "    ys[i, :] = y"
     ],
     "language": "python",
     "metadata": {},
     "outputs": [],
     "prompt_number": 72
    },
    {
     "cell_type": "code",
     "collapsed": false,
     "input": [
      "cdata_rdd = array_to_rdd(np.hstack([ys, y0s]))"
     ],
     "language": "python",
     "metadata": {},
     "outputs": [],
     "prompt_number": 73
    },
    {
     "cell_type": "markdown",
     "metadata": {},
     "source": [
      "## baseline emd"
     ]
    },
    {
     "cell_type": "code",
     "collapsed": false,
     "input": [
      "def proc(x):\n",
      "    y = x[:138]\n",
      "    y0 = x[138:]\n",
      "    return y, y0\n",
      "\n",
      "def base_emd(x):\n",
      "    y, y0 = proc(x)\n",
      "    bt = spo.nnls(amat, y)[0]\n",
      "    bt0 = spo.nnls(amat, y0)[0]\n",
      "    return du.arc_emd(ggrid, bt, ggrid, bt0)"
     ],
     "language": "python",
     "metadata": {},
     "outputs": [],
     "prompt_number": 74
    },
    {
     "cell_type": "code",
     "collapsed": false,
     "input": [
      "from operator import add\n",
      "cdata_rdd.map(base_emd).reduce(add)"
     ],
     "language": "python",
     "metadata": {},
     "outputs": [
      {
       "metadata": {},
       "output_type": "pyout",
       "prompt_number": 75,
       "text": [
        "28.919706407934427"
       ]
      }
     ],
     "prompt_number": 75
    },
    {
     "cell_type": "markdown",
     "metadata": {},
     "source": [
      "## maximum improvement"
     ]
    },
    {
     "cell_type": "code",
     "collapsed": false,
     "input": [
      "cdata_new = array_to_rdd(np.hstack([ys - pnoise, y0s]))\n",
      "cdata_new.map(base_emd).reduce(add)"
     ],
     "language": "python",
     "metadata": {},
     "outputs": [
      {
       "metadata": {},
       "output_type": "pyout",
       "prompt_number": 76,
       "text": [
        "19.470344975590706"
       ]
      }
     ],
     "prompt_number": 76
    },
    {
     "cell_type": "markdown",
     "metadata": {},
     "source": [
      "##get first set of residuals"
     ]
    },
    {
     "cell_type": "code",
     "collapsed": false,
     "input": [
      "def resid(x):\n",
      "    y, y0 = proc(x)\n",
      "    bt = spo.nnls(amat, y)[0]\n",
      "    yh = sdot(amat, bt)\n",
      "    resid = y - yh\n",
      "    return resid"
     ],
     "language": "python",
     "metadata": {},
     "outputs": [],
     "prompt_number": 77
    },
    {
     "cell_type": "code",
     "collapsed": false,
     "input": [
      "resids = rdd_to_array(cdata_rdd.map(resid, True))"
     ],
     "language": "python",
     "metadata": {},
     "outputs": [],
     "prompt_number": 78
    },
    {
     "cell_type": "code",
     "collapsed": false,
     "input": [
      "plt.scatter(pnoise.ravel(), resids.ravel())"
     ],
     "language": "python",
     "metadata": {},
     "outputs": [
      {
       "metadata": {},
       "output_type": "pyout",
       "prompt_number": 79,
       "text": [
        "<matplotlib.collections.PathCollection at 0x7fda59ab8290>"
       ]
      },
      {
       "metadata": {},
       "output_type": "display_data",
       "png": "[encoded data removed]",
       "text": [
        "<matplotlib.figure.Figure at 0x7fda59cfaa90>"
       ]
      }
     ],
     "prompt_number": 79
    },
    {
     "cell_type": "code",
     "collapsed": false,
     "input": [
      "plt.scatter(pnoise.ravel(), rank1_approx(resids).ravel())"
     ],
     "language": "python",
     "metadata": {},
     "outputs": [
      {
       "metadata": {},
       "output_type": "pyout",
       "prompt_number": 80,
       "text": [
        "<matplotlib.collections.PathCollection at 0x7fda599f8e90>"
       ]
      },
      {
       "metadata": {},
       "output_type": "display_data",
       "png": "[encoded data removed]",
       "text": [
        "<matplotlib.figure.Figure at 0x7fda59a07850>"
       ]
      }
     ],
     "prompt_number": 80
    },
    {
     "cell_type": "code",
     "collapsed": false,
     "input": [
      "cdata_new = array_to_rdd(np.hstack([ys - rank1_approx(resids), y0s]))"
     ],
     "language": "python",
     "metadata": {},
     "outputs": [],
     "prompt_number": 81
    },
    {
     "cell_type": "code",
     "collapsed": false,
     "input": [
      "cdata_new.map(base_emd).reduce(add)"
     ],
     "language": "python",
     "metadata": {},
     "outputs": [
      {
       "metadata": {},
       "output_type": "pyout",
       "prompt_number": 82,
       "text": [
        "24.40572950989008"
       ]
      }
     ],
     "prompt_number": 82
    },
    {
     "cell_type": "code",
     "collapsed": false,
     "input": [
      "resids2 = rdd_to_array(cdata_new.map(resid))"
     ],
     "language": "python",
     "metadata": {},
     "outputs": [],
     "prompt_number": 83
    },
    {
     "cell_type": "code",
     "collapsed": false,
     "input": [
      "resids2 = resids2 + resids\n",
      "plt.scatter(pnoise.ravel(), resids.ravel())"
     ],
     "language": "python",
     "metadata": {},
     "outputs": [
      {
       "metadata": {},
       "output_type": "pyout",
       "prompt_number": 84,
       "text": [
        "<matplotlib.collections.PathCollection at 0x7fda598cbc90>"
       ]
      },
      {
       "metadata": {},
       "output_type": "display_data",
       "png": "[encoded data removed]",
       "text": [
        "<matplotlib.figure.Figure at 0x7fda5994aa10>"
       ]
      }
     ],
     "prompt_number": 84
    },
    {
     "cell_type": "code",
     "collapsed": false,
     "input": [
      "plt.scatter(pnoise.ravel(), rank1_approx(resids).ravel())"
     ],
     "language": "python",
     "metadata": {},
     "outputs": [
      {
       "metadata": {},
       "output_type": "pyout",
       "prompt_number": 85,
       "text": [
        "<matplotlib.collections.PathCollection at 0x7fda5980cb50>"
       ]
      },
      {
       "metadata": {},
       "output_type": "display_data",
       "png": "[encoded data removed]",
       "text": [
        "<matplotlib.figure.Figure at 0x7fda598a7250>"
       ]
      }
     ],
     "prompt_number": 85
    },
    {
     "cell_type": "code",
     "collapsed": false,
     "input": [
      "cdata_new = array_to_rdd(np.hstack([ys - rank1_approx(resids), y0s]))"
     ],
     "language": "python",
     "metadata": {},
     "outputs": [],
     "prompt_number": 86
    },
    {
     "cell_type": "code",
     "collapsed": false,
     "input": [
      "cdata_new.map(base_emd).reduce(add)"
     ],
     "language": "python",
     "metadata": {},
     "outputs": [
      {
       "metadata": {},
       "output_type": "pyout",
       "prompt_number": 87,
       "text": [
        "24.40572950989008"
       ]
      }
     ],
     "prompt_number": 87
    },
    {
     "cell_type": "markdown",
     "metadata": {},
     "source": [
      "# Cleanup"
     ]
    },
    {
     "cell_type": "code",
     "collapsed": false,
     "input": [
      "os.system('./hadoop fs -rm sim.txt')"
     ],
     "language": "python",
     "metadata": {},
     "outputs": [
      {
       "metadata": {},
       "output_type": "pyout",
       "prompt_number": 41,
       "text": [
        "0"
       ]
      }
     ],
     "prompt_number": 41
    },
    {
     "cell_type": "code",
     "collapsed": false,
     "input": [],
     "language": "python",
     "metadata": {},
     "outputs": []
    }
   ],
   "metadata": {}
  }
 ]
}