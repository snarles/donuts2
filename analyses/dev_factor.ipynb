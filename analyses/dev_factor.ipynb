{
 "metadata": {
  "name": "",
  "signature": "sha256:f83549e5c17dc7c0febd36938e1eecfa060305a6b5a556ba0065eefd8dff6454"
 },
 "nbformat": 3,
 "nbformat_minor": 0,
 "worksheets": [
  {
   "cells": [
    {
     "cell_type": "markdown",
     "metadata": {},
     "source": [
      "# Removing physiological noise via factor analysis"
     ]
    },
    {
     "cell_type": "code",
     "collapsed": false,
     "input": [
      "import os\n",
      "import subprocess\n",
      "import donuts.deconv.utils as du\n",
      "import donuts.deconv.ncx as dn"
     ],
     "language": "python",
     "metadata": {},
     "outputs": [],
     "prompt_number": 1
    },
    {
     "cell_type": "code",
     "collapsed": false,
     "input": [
      "import nibabel as nib\n",
      "import numpy as np\n",
      "import numpy.random as npr\n",
      "import scipy.optimize as spo\n",
      "import numpy.linalg as nla"
     ],
     "language": "python",
     "metadata": {},
     "outputs": [],
     "prompt_number": 2
    },
    {
     "cell_type": "code",
     "collapsed": false,
     "input": [
      "def sdot(a, b):\n",
      "    return np.squeeze(np.dot(a, b))\n",
      "\n",
      "def par(st):\n",
      "    return np.array([float(v) for v in str(st).split(' ')])\n",
      "\n",
      "def depar(x):\n",
      "    return ' '.join(str(xx) for xx in x)\n",
      "\n",
      "def arr_red(x, y):\n",
      "    return np.vstack([x, y])\n",
      "\n",
      "def array_to_rdd(a, parts = 48, rm = False, fn = 0):\n",
      "    if fn == 0:\n",
      "        fn = 'temp' + str(npr.randint(0, 999999)) + '.txt'\n",
      "    os.chdir('/root/ephemeral-hdfs/bin')\n",
      "    np.savetxt(fn, a, fmt = '%.9e')\n",
      "    os.system('./hadoop fs -put ' + fn + ' ' + fn)\n",
      "    rawrdd = sc.textFile(fn, parts).map(par).cache()\n",
      "    rawrdd.count()\n",
      "    if rm:\n",
      "        os.system('rm ' + fn)\n",
      "    return rawrdd\n",
      "\n",
      "def rdd_to_array(rawrdd, parts = 48, rm = False, fn = 0):\n",
      "    if fn == 0:\n",
      "        fn = 'temp' + str(npr.randint(0, 999999)) + '.txt'\n",
      "    os.chdir('/root/ephemeral-hdfs/bin')\n",
      "    rawrdd.map(depar).saveAsTextFile(fn)\n",
      "    os.system('./hadoop fs -getmerge ' + fn + ' ' + fn)\n",
      "    a = np.loadtxt(fn)\n",
      "    # cleanup\n",
      "    os.system('rm ' + fn)\n",
      "    os.system('./hadoop fs -rmr ' + fn)\n",
      "    return a\n",
      "\n",
      "def rank1_approx(a):\n",
      "    u, s, v = nla.svd(a, False)\n",
      "    return s[0] * np.outer(u[:, 0], v[0, :])"
     ],
     "language": "python",
     "metadata": {},
     "outputs": [],
     "prompt_number": 3
    },
    {
     "cell_type": "code",
     "collapsed": false,
     "input": [
      "subprocess.check_output('aws s3 cp s3://chris1data/chris1_bvec.csv /root/data/chris1_bvec.csv', shell=True)"
     ],
     "language": "python",
     "metadata": {},
     "outputs": [
      {
       "metadata": {},
       "output_type": "pyout",
       "prompt_number": 4,
       "text": [
        "'download: s3://chris1data/chris1_bvec.csv to ../../data/chris1_bvec.csv\\n'"
       ]
      }
     ],
     "prompt_number": 4
    },
    {
     "cell_type": "code",
     "collapsed": false,
     "input": [
      "bvecs = np.loadtxt('/root/data/chris1_bvec.csv').T\n",
      "diff_inds = np.where(sum(bvecs**2, 1) > 0)[0]\n",
      "bvecs = bvecs[diff_inds, :]\n",
      "n = np.shape(bvecs)[0]\n",
      "n"
     ],
     "language": "python",
     "metadata": {},
     "outputs": [
      {
       "metadata": {},
       "output_type": "pyout",
       "prompt_number": 5,
       "text": [
        "138"
       ]
      }
     ],
     "prompt_number": 5
    },
    {
     "cell_type": "code",
     "collapsed": false,
     "input": [
      "ggrid = du.georandsphere(4, 5)\n",
      "pp = np.shape(ggrid)[0]\n",
      "pp"
     ],
     "language": "python",
     "metadata": {},
     "outputs": [
      {
       "metadata": {},
       "output_type": "pyout",
       "prompt_number": 6,
       "text": [
        "810"
       ]
      }
     ],
     "prompt_number": 6
    },
    {
     "cell_type": "markdown",
     "metadata": {},
     "source": [
      "# generating true signals and noisy signals"
     ]
    },
    {
     "cell_type": "code",
     "collapsed": false,
     "input": [
      "nvox = 1000\n",
      "y0s = np.zeros((nvox, n))\n",
      "# factor loadings\n",
      "fls = 0.5 * npr.randn(nvox)\n",
      "# factor\n",
      "fact = npr.randn(n)\n",
      "pnoise = np.outer(fls, fact)\n",
      "ys = np.zeros((nvox, n))\n",
      "amat = du.ste_tan_kappa(ggrid, bvecs)"
     ],
     "language": "python",
     "metadata": {},
     "outputs": [],
     "prompt_number": 7
    },
    {
     "cell_type": "code",
     "collapsed": false,
     "input": [
      "for i in range(nvox):\n",
      "    bt = np.zeros(pp)\n",
      "    inds_bt = npr.randint(0, pp, 2)\n",
      "    bt[inds_bt] = npr.rand(2)\n",
      "    bt = bt/sum(bt)\n",
      "    y0 = sdot(amat, bt)\n",
      "    y = np.sqrt(dn.rvs_ncx2(2, y0, sigma = 0.1)) + pnoise[i, :]\n",
      "    y0s[i, :] = y0\n",
      "    ys[i, :] = y"
     ],
     "language": "python",
     "metadata": {},
     "outputs": [],
     "prompt_number": 8
    },
    {
     "cell_type": "code",
     "collapsed": false,
     "input": [
      "cdata_rdd = array_to_rdd(np.hstack([ys, y0s]))"
     ],
     "language": "python",
     "metadata": {},
     "outputs": [],
     "prompt_number": 9
    },
    {
     "cell_type": "markdown",
     "metadata": {},
     "source": [
      "## baseline emd"
     ]
    },
    {
     "cell_type": "code",
     "collapsed": false,
     "input": [
      "def proc(x):\n",
      "    y = x[:138]\n",
      "    y0 = x[138:]\n",
      "    return y, y0\n",
      "\n",
      "def base_emd(x):\n",
      "    y, y0 = proc(x)\n",
      "    bt = spo.nnls(amat, y)[0]\n",
      "    bt0 = spo.nnls(amat, y0)[0]\n",
      "    return du.arc_emd(ggrid, bt, ggrid, bt0)"
     ],
     "language": "python",
     "metadata": {},
     "outputs": [],
     "prompt_number": 10
    },
    {
     "cell_type": "code",
     "collapsed": false,
     "input": [
      "from operator import add\n",
      "cdata_rdd.map(base_emd).reduce(add)"
     ],
     "language": "python",
     "metadata": {},
     "outputs": [
      {
       "metadata": {},
       "output_type": "pyout",
       "prompt_number": 11,
       "text": [
        "389.58813141286373"
       ]
      }
     ],
     "prompt_number": 11
    },
    {
     "cell_type": "markdown",
     "metadata": {},
     "source": [
      "## maximum improvement"
     ]
    },
    {
     "cell_type": "code",
     "collapsed": false,
     "input": [
      "cdata_new = array_to_rdd(np.hstack([ys - pnoise, y0s]))\n",
      "cdata_new.map(base_emd).reduce(add)"
     ],
     "language": "python",
     "metadata": {},
     "outputs": [
      {
       "metadata": {},
       "output_type": "pyout",
       "prompt_number": 12,
       "text": [
        "205.92582872137427"
       ]
      }
     ],
     "prompt_number": 12
    },
    {
     "cell_type": "markdown",
     "metadata": {},
     "source": [
      "##get first set of residuals"
     ]
    },
    {
     "cell_type": "code",
     "collapsed": false,
     "input": [
      "def resid(x):\n",
      "    y, y0 = proc(x)\n",
      "    bt = spo.nnls(amat, y)[0]\n",
      "    yh = sdot(amat, bt)\n",
      "    resid = y - yh\n",
      "    return resid"
     ],
     "language": "python",
     "metadata": {},
     "outputs": [],
     "prompt_number": 13
    },
    {
     "cell_type": "code",
     "collapsed": false,
     "input": [
      "resids = rdd_to_array(cdata_rdd.map(resid, True))"
     ],
     "language": "python",
     "metadata": {},
     "outputs": [],
     "prompt_number": 14
    },
    {
     "cell_type": "code",
     "collapsed": false,
     "input": [
      "plt.scatter(pnoise.ravel(), resids.ravel())"
     ],
     "language": "python",
     "metadata": {},
     "outputs": [
      {
       "metadata": {},
       "output_type": "pyout",
       "prompt_number": 15,
       "text": [
        "<matplotlib.collections.PathCollection at 0x7f928bda1350>"
       ]
      },
      {
       "metadata": {},
       "output_type": "display_data",
       "png": "[encoded data removed]",
       "text": [
        "<matplotlib.figure.Figure at 0x7f92901c0350>"
       ]
      }
     ],
     "prompt_number": 15
    },
    {
     "cell_type": "code",
     "collapsed": false,
     "input": [
      "plt.scatter(pnoise.ravel(), rank1_approx(resids).ravel())"
     ],
     "language": "python",
     "metadata": {},
     "outputs": [
      {
       "metadata": {},
       "output_type": "pyout",
       "prompt_number": 16,
       "text": [
        "<matplotlib.collections.PathCollection at 0x7f928bc803d0>"
       ]
      },
      {
       "metadata": {},
       "output_type": "display_data",
       "png": "[encoded data removed]",
       "text": [
        "<matplotlib.figure.Figure at 0x7f928bd506d0>"
       ]
      }
     ],
     "prompt_number": 16
    },
    {
     "cell_type": "code",
     "collapsed": false,
     "input": [
      "cdata_new = array_to_rdd(np.hstack([ys - rank1_approx(resids), y0s]))"
     ],
     "language": "python",
     "metadata": {},
     "outputs": [],
     "prompt_number": 17
    },
    {
     "cell_type": "code",
     "collapsed": false,
     "input": [
      "cdata_new.map(base_emd).reduce(add)"
     ],
     "language": "python",
     "metadata": {},
     "outputs": [
      {
       "metadata": {},
       "output_type": "pyout",
       "prompt_number": 18,
       "text": [
        "301.6636677980423"
       ]
      }
     ],
     "prompt_number": 18
    },
    {
     "cell_type": "code",
     "collapsed": false,
     "input": [
      "resids2 = rdd_to_array(cdata_new.map(resid))"
     ],
     "language": "python",
     "metadata": {},
     "outputs": [],
     "prompt_number": 19
    },
    {
     "cell_type": "code",
     "collapsed": false,
     "input": [
      "resids2 = resids2 + resids\n",
      "plt.scatter(pnoise.ravel(), resids2.ravel())"
     ],
     "language": "python",
     "metadata": {},
     "outputs": [
      {
       "metadata": {},
       "output_type": "pyout",
       "prompt_number": 20,
       "text": [
        "<matplotlib.collections.PathCollection at 0x7f928bbbbd10>"
       ]
      },
      {
       "metadata": {},
       "output_type": "display_data",
       "png": "[encoded data removed]",
       "text": [
        "<matplotlib.figure.Figure at 0x7f928bbe9ed0>"
       ]
      }
     ],
     "prompt_number": 20
    },
    {
     "cell_type": "code",
     "collapsed": false,
     "input": [
      "plt.scatter(pnoise.ravel(), rank1_approx(resids2).ravel())"
     ],
     "language": "python",
     "metadata": {},
     "outputs": [
      {
       "metadata": {},
       "output_type": "pyout",
       "prompt_number": 21,
       "text": [
        "<matplotlib.collections.PathCollection at 0x7f928bae4390>"
       ]
      },
      {
       "metadata": {},
       "output_type": "display_data",
       "png": "[encoded data removed]",
       "text": [
        "<matplotlib.figure.Figure at 0x7f928bc01850>"
       ]
      }
     ],
     "prompt_number": 21
    },
    {
     "cell_type": "code",
     "collapsed": false,
     "input": [
      "cdata_new = array_to_rdd(np.hstack([ys - rank1_approx(resids2), y0s]))"
     ],
     "language": "python",
     "metadata": {},
     "outputs": [],
     "prompt_number": 22
    },
    {
     "cell_type": "code",
     "collapsed": false,
     "input": [
      "cdata_new.map(base_emd).reduce(add)"
     ],
     "language": "python",
     "metadata": {},
     "outputs": [
      {
       "metadata": {},
       "output_type": "pyout",
       "prompt_number": 23,
       "text": [
        "267.6664843549952"
       ]
      }
     ],
     "prompt_number": 23
    },
    {
     "cell_type": "code",
     "collapsed": false,
     "input": [
      "resids3 = rdd_to_array(cdata_new.map(resid)) + resids2\n",
      "cdata_new = array_to_rdd(np.hstack([ys - rank1_approx(resids3), y0s]))\n",
      "cdata_new.map(base_emd).reduce(add)"
     ],
     "language": "python",
     "metadata": {},
     "outputs": [
      {
       "metadata": {},
       "output_type": "pyout",
       "prompt_number": 24,
       "text": [
        "247.35357943549752"
       ]
      }
     ],
     "prompt_number": 24
    },
    {
     "cell_type": "code",
     "collapsed": false,
     "input": [
      "resids4 = rdd_to_array(cdata_new.map(resid)) + resids3\n",
      "cdata_new = array_to_rdd(np.hstack([ys - rank1_approx(resids4), y0s]))\n",
      "cdata_new.map(base_emd).reduce(add)"
     ],
     "language": "python",
     "metadata": {},
     "outputs": [
      {
       "metadata": {},
       "output_type": "pyout",
       "prompt_number": 25,
       "text": [
        "234.7263179421425"
       ]
      }
     ],
     "prompt_number": 25
    },
    {
     "cell_type": "code",
     "collapsed": false,
     "input": [
      "resids5 = rdd_to_array(cdata_new.map(resid)) + resids4\n",
      "cdata_new = array_to_rdd(np.hstack([ys - rank1_approx(resids5), y0s]))\n",
      "cdata_new.map(base_emd).reduce(add)"
     ],
     "language": "python",
     "metadata": {},
     "outputs": [
      {
       "metadata": {},
       "output_type": "pyout",
       "prompt_number": 26,
       "text": [
        "226.88681436143816"
       ]
      }
     ],
     "prompt_number": 26
    },
    {
     "cell_type": "code",
     "collapsed": false,
     "input": [
      "resids6 = rdd_to_array(cdata_new.map(resid)) + resids5\n",
      "cdata_new = array_to_rdd(np.hstack([ys - rank1_approx(resids6), y0s]))\n",
      "cdata_new.map(base_emd).reduce(add)"
     ],
     "language": "python",
     "metadata": {},
     "outputs": [
      {
       "metadata": {},
       "output_type": "pyout",
       "prompt_number": 27,
       "text": [
        "221.4734312593937"
       ]
      }
     ],
     "prompt_number": 27
    },
    {
     "cell_type": "code",
     "collapsed": false,
     "input": [
      "resids7 = rdd_to_array(cdata_new.map(resid)) + resids6\n",
      "cdata_new = array_to_rdd(np.hstack([ys - rank1_approx(resids7), y0s]))\n",
      "cdata_new.map(base_emd).reduce(add)"
     ],
     "language": "python",
     "metadata": {},
     "outputs": [
      {
       "metadata": {},
       "output_type": "pyout",
       "prompt_number": 28,
       "text": [
        "217.8423880143091"
       ]
      }
     ],
     "prompt_number": 28
    },
    {
     "cell_type": "markdown",
     "metadata": {},
     "source": [
      "# Cleanup"
     ]
    },
    {
     "cell_type": "code",
     "collapsed": false,
     "input": [
      "os.system('./hadoop fs -rm sim.txt')"
     ],
     "language": "python",
     "metadata": {},
     "outputs": [
      {
       "metadata": {},
       "output_type": "pyout",
       "prompt_number": 41,
       "text": [
        "0"
       ]
      }
     ],
     "prompt_number": 41
    },
    {
     "cell_type": "code",
     "collapsed": false,
     "input": [],
     "language": "python",
     "metadata": {},
     "outputs": []
    }
   ],
   "metadata": {}
  }
 ]
}