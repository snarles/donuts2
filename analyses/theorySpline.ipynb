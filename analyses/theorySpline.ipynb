{
 "metadata": {
  "name": "",
  "signature": "sha256:bfea767733cb9e99c7b1589e7b4efa86503b6902af6ff695cb416ae0490d6403"
 },
 "nbformat": 3,
 "nbformat_minor": 0,
 "worksheets": [
  {
   "cells": [
    {
     "cell_type": "code",
     "collapsed": false,
     "input": [
      "import numpy as np\n",
      "import scipy as sp\n",
      "import scipy.stats as spst\n",
      "import scipy.special as sps\n",
      "import numpy.random as npr\n",
      "import matplotlib.pyplot as plt"
     ],
     "language": "python",
     "metadata": {},
     "outputs": [],
     "prompt_number": 1
    },
    {
     "cell_type": "code",
     "collapsed": false,
     "input": [
      "def simplebs(i,k,x):\n",
      "    if k==1:\n",
      "        return np.array((x >= i) & (x < (i+1)),dtype = float)\n",
      "    else:\n",
      "        return (x-i)*simplebs(i,k-1,x) + (i+k-x)*simplebs(i+1,k-1,x)\n",
      "    \n",
      "def bs3(i,x):\n",
      "    i1 = np.array((x >= i) & (x < (i+1)),dtype = float)\n",
      "    i2 = np.array((x >= (i+1)) & (x < (i+2)),dtype = float)\n",
      "    i3 = np.array((x >= (i+2)) & (x < (i+3)),dtype = float)\n",
      "    return i1 * (x-i)**2 + i2 * ((x-i)*(i+2-x)+(i+3-x)*(x-i-1)) + i3*(i+3-x)**2\n",
      "\n",
      "def bs4alt(i,x):\n",
      "    i1 = np.array((x >= i) & (x < (i+1)),dtype = float)\n",
      "    i2 = np.array((x >= (i+1)) & (x < (i+2)),dtype = float)\n",
      "    i3 = np.array((x >= (i+2)) & (x < (i+3)),dtype = float)\n",
      "    i4 = np.array((x >= (i+3)) & (x < (i+4)),dtype = float)\n",
      "    c1 = (x-i)**3\n",
      "    c2 = (x-i)*((x-i)*(i+2-x)+(i+3-x)*(x-i-1)) + (i+4-x)*(x-i-1)**2\n",
      "    c3 = (x-i)*(i+3-x)**2 + (i+4-x)*((x-i-1)*(i+3-x) + (i+4-x)*(x-i-2))\n",
      "    c4 = (i+4-x)**3\n",
      "    return i1*c1+i2*c2+i3*c3+i4*c4\n",
      "\n",
      "def bs4(i,x):\n",
      "    z = x-i\n",
      "    i1 = np.array((z >= 0) & (z < 1),dtype = float)\n",
      "    i2 = np.array((z >= 1) & (z < 2),dtype = float)\n",
      "    i3 = np.array((z >= 2) & (z < 3),dtype = float)\n",
      "    i4 = np.array((z >= 3) & (z < 4),dtype = float)\n",
      "    c1 = z**3\n",
      "    c2 = \n",
      "    c3 = (x-i)*(i+3-x)**2 + (i+4-x)*((x-i-1)*(i+3-x) + (i+4-x)*(x-i-2))\n",
      "    c4 = (i+4-x)**3\n",
      "    return i1*c1+i2*c2+i3*c3+i4*c4\n"
     ],
     "language": "python",
     "metadata": {},
     "outputs": [],
     "prompt_number": 50
    },
    {
     "cell_type": "code",
     "collapsed": false,
     "input": [
      "simplebs(0,1,np.array([.5,1.5]))"
     ],
     "language": "python",
     "metadata": {},
     "outputs": [
      {
       "metadata": {},
       "output_type": "pyout",
       "prompt_number": 24,
       "text": [
        "array([ 1.,  0.])"
       ]
      }
     ],
     "prompt_number": 24
    },
    {
     "cell_type": "code",
     "collapsed": false,
     "input": [
      "x = np.array([.5,1.5])"
     ],
     "language": "python",
     "metadata": {},
     "outputs": [],
     "prompt_number": 13
    },
    {
     "cell_type": "code",
     "collapsed": false,
     "input": [
      "np.array((x >= 1) & (x <= 0),dtype=float)"
     ],
     "language": "python",
     "metadata": {},
     "outputs": [
      {
       "metadata": {},
       "output_type": "pyout",
       "prompt_number": 20,
       "text": [
        "array([ 0.,  0.])"
       ]
      }
     ],
     "prompt_number": 20
    },
    {
     "cell_type": "code",
     "collapsed": false,
     "input": [
      "x = np.arange(0,10,0.02)\n",
      "y = simplebs(4,4,x)\n",
      "y2 = bs4(4,x)\n",
      "plt.scatter(x,y-y2)\n",
      "plt.show()\n"
     ],
     "language": "python",
     "metadata": {},
     "outputs": [],
     "prompt_number": 49
    },
    {
     "cell_type": "code",
     "collapsed": false,
     "input": [
      "i = 2.0\n",
      "z = x-i\n",
      "c2 = (x-i)*((x-i)*(i+2-x)+(i+3-x)*(x-i-1)) + (i+4-x)*(x-i-1)**2\n",
      "c2a = -3*z**3 + 12*z**2 - 12*z + 4\n",
      "plt.scatter(x,c2-c2a)\n",
      "plt.show()"
     ],
     "language": "python",
     "metadata": {},
     "outputs": [],
     "prompt_number": 52
    },
    {
     "cell_type": "code",
     "collapsed": false,
     "input": [],
     "language": "python",
     "metadata": {},
     "outputs": []
    }
   ],
   "metadata": {}
  }
 ]
}