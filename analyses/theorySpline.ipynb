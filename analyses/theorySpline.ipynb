{
 "metadata": {
  "name": "",
  "signature": "sha256:a178a0cf9e205907101d98a687f94ec77688c629680d34bc2cf5b765bf99c1d6"
 },
 "nbformat": 3,
 "nbformat_minor": 0,
 "worksheets": [
  {
   "cells": [
    {
     "cell_type": "code",
     "collapsed": false,
     "input": [
      "import numpy as np\n",
      "import numpy.linalg as npl\n",
      "import scipy as sp\n",
      "import scipy.stats as spst\n",
      "import scipy.special as sps\n",
      "import numpy.random as npr\n",
      "import matplotlib.pyplot as plt"
     ],
     "language": "python",
     "metadata": {},
     "outputs": [],
     "prompt_number": 78
    },
    {
     "cell_type": "code",
     "collapsed": false,
     "input": [
      "def simplebs(i,k,x):\n",
      "    if k==1:\n",
      "        return np.array((x >= i) & (x < (i+1)),dtype = float)\n",
      "    else:\n",
      "        return (x-i)*simplebs(i,k-1,x) + (i+k-x)*simplebs(i+1,k-1,x)\n",
      "    \n",
      "def bs3(i,x):\n",
      "    i1 = np.array((x >= i) & (x < (i+1)),dtype = float)\n",
      "    i2 = np.array((x >= (i+1)) & (x < (i+2)),dtype = float)\n",
      "    i3 = np.array((x >= (i+2)) & (x < (i+3)),dtype = float)\n",
      "    return i1 * (x-i)**2 + i2 * ((x-i)*(i+2-x)+(i+3-x)*(x-i-1)) + i3*(i+3-x)**2\n",
      "\n",
      "def bs4alt(i,x):\n",
      "    i1 = np.array((x >= i) & (x < (i+1)),dtype = float)\n",
      "    i2 = np.array((x >= (i+1)) & (x < (i+2)),dtype = float)\n",
      "    i3 = np.array((x >= (i+2)) & (x < (i+3)),dtype = float)\n",
      "    i4 = np.array((x >= (i+3)) & (x < (i+4)),dtype = float)\n",
      "    c1 = (x-i)**3\n",
      "    c2 = (x-i)*((x-i)*(i+2-x)+(i+3-x)*(x-i-1)) + (i+4-x)*(x-i-1)**2\n",
      "    c3 = (x-i)*(i+3-x)**2 + (i+4-x)*((x-i-1)*(i+3-x) + (i+4-x)*(x-i-2))\n",
      "    c4 = (i+4-x)**3\n",
      "    return i1*c1+i2*c2+i3*c3+i4*c4\n",
      "\n",
      "def bs4(i,x):\n",
      "    z = x-i\n",
      "    i1 = np.array((z >= 0) & (z < 1),dtype = float)\n",
      "    i2 = np.array((z >= 1) & (z < 2),dtype = float)\n",
      "    i3 = np.array((z >= 2) & (z < 3),dtype = float)\n",
      "    i4 = np.array((z >= 3) & (z < 4),dtype = float)\n",
      "    c1 = z**3\n",
      "    c2 = -3*z**3 + 12*z**2 - 12*z + 4\n",
      "    c3 = 3*(z**3) - 24*(z**2) + 60*z - 44\n",
      "    c4 = (4-z)**3\n",
      "    return i1*c1+i2*c2+i3*c3+i4*c4\n",
      "\n",
      "def bs4e(z): # standard basis function\n",
      "    i1 = np.array((z >= 0) & (z < 1),dtype = float)\n",
      "    i2 = np.array((z >= 1) & (z < 2),dtype = float)\n",
      "    i3 = np.array((z >= 2) & (z < 3),dtype = float)\n",
      "    i4 = np.array((z >= 3) & (z < 4),dtype = float)\n",
      "    c1 = z**3\n",
      "    c2 = -3*z**3 + 12*z**2 - 12*z + 4\n",
      "    c3 = 3*(z**3) - 24*(z**2) + 60*z - 44\n",
      "    c4 = (4-z)**3\n",
      "    return i1*c1+i2*c2+i3*c3+i4*c4\n",
      "\n",
      "def bs4d(z): # standard basis function with derivatives\n",
      "    i1 = np.array((z >= 0) & (z < 1),dtype = float)\n",
      "    i2 = np.array((z >= 1) & (z < 2),dtype = float)\n",
      "    i3 = np.array((z >= 2) & (z < 3),dtype = float)\n",
      "    i4 = np.array((z >= 3) & (z < 4),dtype = float)\n",
      "    c1 = z**3\n",
      "    d1 = 3*z**2\n",
      "    e1 = 6*z\n",
      "    c2 = -3*z**3 + 12*z**2 - 12*z + 4\n",
      "    d2 = -9*z**2 + 24*z - 12\n",
      "    e2 = -18*z + 24\n",
      "    c3 = 3*(z**3) - 24*(z**2) + 60*z - 44\n",
      "    d3 = 9*(z**2) - 48*z + 60\n",
      "    e3 = 18*z - 48\n",
      "    c4 = (4-z)**3\n",
      "    d4 = -3*(z-4)**2\n",
      "    e4 = -6*(z-4)\n",
      "    val0= i1*c1+i2*c2+i3*c3+i4*c4\n",
      "    val1= i1*d1+i2*d2+i3*d3+i4*d4\n",
      "    val2= i1*e1+i2*e2+i3*e3+i4*e4\n",
      "    return val0,val1,val2\n",
      "\n",
      "def genspline(bt,scale,shift): # generates a spline from coefficients\n",
      "    def f(x): # only evaluates at a single point\n",
      "        z = scale*(x + shift) + 3\n",
      "        h = np.floor(z)\n",
      "        val0 = 0.0\n",
      "        val1 = 0.0\n",
      "        val2 = 0.0\n",
      "        zr = z-h\n",
      "        for j in range(-4,1):\n",
      "            if (h+j) >=0 and (h+j) < len(bt):\n",
      "                cf = bt[h+j]\n",
      "                e0,e1,e2 = bs4d(zr-j)\n",
      "                val0 += cf*e0\n",
      "                val1 += cf*e1\n",
      "                val2 += cf*e2\n",
      "        return val0,val1,val2\n",
      "    return f\n",
      "\n",
      "def autospline(x,y): # generates a spline from uniform data\n",
      "    mmax = max(x)\n",
      "    mmin = min(x)\n",
      "    nn = len(x)\n",
      "    scale = (nn-1)/(mmax-mmin)\n",
      "    shift = -mmin\n",
      "    bt = np.dot(splinecoef(nn),y)\n",
      "    return genspline(bt,scale,shift)\n",
      "\n",
      "def numderiv(f,x,delta):\n",
      "    return (f(x+delta)-f(x))/delta\n",
      "\n",
      "def numderiv2(f,x,delta):\n",
      "    return (f(x+delta)+f(x-delta)-2*f(x))/(delta**2)"
     ],
     "language": "python",
     "metadata": {},
     "outputs": [],
     "prompt_number": 167
    },
    {
     "cell_type": "code",
     "collapsed": false,
     "input": [
      "def splinemat(m):\n",
      "    n = m+1\n",
      "    mat= np.diag(1.* np.ones(n+2)) + np.diag(4.*np.ones(n+1),1) + np.diag(1.* np.ones(n),2)\n",
      "    return mat[:(n-1),:(n+1)]\n",
      "\n",
      "def splinemat2(m):\n",
      "    n = m+1\n",
      "    mat= np.diag(6.* np.ones(n+2)) + np.diag(-12.*np.ones(n+1),1) + np.diag(6.* np.ones(n),2)\n",
      "    return mat[:(n-1),:(n+1)]\n",
      "\n",
      "def splinecoef(m):\n",
      "    return npl.pinv(splinemat(m))"
     ],
     "language": "python",
     "metadata": {},
     "outputs": [],
     "prompt_number": 102
    },
    {
     "cell_type": "code",
     "collapsed": false,
     "input": [
      "x = np.arange(-3,10,0.1)\n",
      "f = genspline(np.array([1.0,0,0,0,0,2.0]),1.0,0.0)\n",
      "y = np.array([f(u)[0] for u in x])\n",
      "plt.scatter(x,y)\n",
      "plt.show()"
     ],
     "language": "python",
     "metadata": {},
     "outputs": [],
     "prompt_number": 154
    },
    {
     "cell_type": "code",
     "collapsed": false,
     "input": [
      "a = np.array([1.1,2.2,3.3,4.4])\n",
      "a[np.floor(3.5)]"
     ],
     "language": "python",
     "metadata": {},
     "outputs": [
      {
       "metadata": {},
       "output_type": "pyout",
       "prompt_number": 127,
       "text": [
        "4.4000000000000004"
       ]
      }
     ],
     "prompt_number": 127
    },
    {
     "cell_type": "code",
     "collapsed": false,
     "input": [
      "m=0\n",
      "x = np.arange(0,2,2.0/m)+1e-20\n",
      "y = x**2\n",
      "f = autospline(x,y)\n",
      "y2 = np.array([f(u)[0] for u in x])\n",
      "plt.scatter(x,y)\n",
      "plt.scatter(x,y2)\n",
      "plt.show()"
     ],
     "language": "python",
     "metadata": {},
     "outputs": [],
     "prompt_number": 168
    },
    {
     "cell_type": "code",
     "collapsed": false,
     "input": [
      "m=20\n",
      "x = np.arange(0,2,2.0/m)+1e-20\n",
      "y = x**2\n",
      "y = np.log(spst.ncx2.pdf(x=20.0,nc=y,df=3)) + 0.01*x**2\n",
      "#np.dot(np.dot(splinemat(m),splinecoef(m)),splinemat(m))\n",
      "bt = np.dot(splinecoef(m),y)\n",
      "sd = np.dot(splinemat2(m),bt)\n",
      "plt.scatter(x,sd)\n",
      "plt.show()\n",
      "np.where(sd < 0)"
     ],
     "language": "python",
     "metadata": {},
     "outputs": [
      {
       "metadata": {},
       "output_type": "pyout",
       "prompt_number": 164,
       "text": [
        "(array([1, 3, 6, 8]),)"
       ]
      }
     ],
     "prompt_number": 164
    },
    {
     "cell_type": "code",
     "collapsed": false,
     "input": [
      "simplebs(0,1,np.array([.5,1.5]))"
     ],
     "language": "python",
     "metadata": {},
     "outputs": [
      {
       "metadata": {},
       "output_type": "pyout",
       "prompt_number": 24,
       "text": [
        "array([ 1.,  0.])"
       ]
      }
     ],
     "prompt_number": 24
    },
    {
     "cell_type": "code",
     "collapsed": false,
     "input": [
      "x = np.array([.5,1.5])"
     ],
     "language": "python",
     "metadata": {},
     "outputs": [],
     "prompt_number": 13
    },
    {
     "cell_type": "code",
     "collapsed": false,
     "input": [
      "np.array((x >= 1) & (x <= 0),dtype=float)"
     ],
     "language": "python",
     "metadata": {},
     "outputs": [
      {
       "metadata": {},
       "output_type": "pyout",
       "prompt_number": 20,
       "text": [
        "array([ 0.,  0.])"
       ]
      }
     ],
     "prompt_number": 20
    },
    {
     "cell_type": "code",
     "collapsed": false,
     "input": [
      "x = np.arange(0,10,0.02)\n",
      "y = simplebs(4,4,x)\n",
      "y2 = bs4(4,x)\n",
      "plt.scatter(x,y-y2)\n",
      "plt.show()\n"
     ],
     "language": "python",
     "metadata": {},
     "outputs": [],
     "prompt_number": 55
    },
    {
     "cell_type": "code",
     "collapsed": false,
     "input": [
      "i = 2.0\n",
      "z = x-i\n",
      "c3 = (x-i)*(i+3-x)**2 + (i+4-x)*((x-i-1)*(i+3-x) + (i+4-x)*(x-i-2))\n",
      "c3a = 3*(z**3) - 24*(z**2) + 60*z - 44\n",
      "plt.scatter(x,c3-c3a)\n",
      "plt.show()"
     ],
     "language": "python",
     "metadata": {},
     "outputs": [],
     "prompt_number": 53
    },
    {
     "cell_type": "code",
     "collapsed": false,
     "input": [
      "z = np.arange(0,4,0.02)\n",
      "d2 = numderiv2(bs4e, z, 0.001)\n",
      "d2a = bs4d(z)[2]\n",
      "plt.scatter(z,d2a-d2)\n",
      "plt.show()\n"
     ],
     "language": "python",
     "metadata": {},
     "outputs": [],
     "prompt_number": 96
    },
    {
     "cell_type": "code",
     "collapsed": false,
     "input": [
      "bs4e(np.array([0,1,2,3,4],dtype=float))"
     ],
     "language": "python",
     "metadata": {},
     "outputs": [
      {
       "metadata": {},
       "output_type": "pyout",
       "prompt_number": 60,
       "text": [
        "array([ 0.,  1.,  4.,  1.,  0.])"
       ]
      }
     ],
     "prompt_number": 60
    },
    {
     "cell_type": "code",
     "collapsed": false,
     "input": [],
     "language": "python",
     "metadata": {},
     "outputs": []
    }
   ],
   "metadata": {}
  }
 ]
}