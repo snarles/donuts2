{
 "metadata": {
  "name": "chris_factor_02home",
  "signature": "sha256:11cbbb12fb25894e4e75098efec06b7fc0ebced6f7e68eed2bba7bee1604e403"
 },
 "nbformat": 3,
 "nbformat_minor": 0,
 "worksheets": [
  {
   "cells": [
    {
     "cell_type": "markdown",
     "metadata": {},
     "source": [
      "# only do to the clustering"
     ]
    },
    {
     "cell_type": "code",
     "collapsed": false,
     "input": [
      "import os\n",
      "import subprocess\n",
      "import nibabel as nib\n",
      "import numpy as np\n",
      "import numpy.random as npr\n",
      "import scipy.optimize as spo\n",
      "import numpy.linalg as nla\n",
      "from operator import add\n",
      "import matplotlib.pyplot as plt\n",
      "from scipy.ndimage.filters import gaussian_filter"
     ],
     "language": "python",
     "metadata": {},
     "outputs": [],
     "prompt_number": 1
    },
    {
     "cell_type": "code",
     "collapsed": false,
     "input": [
      "def standardize(x):\n",
      "    return (x - np.mean(x))/np.std(x)\n",
      "\n",
      "def sdot(a, b):\n",
      "    return np.squeeze(np.dot(a, b))\n",
      "\n",
      "def par(st):\n",
      "    return np.array([float(v) for v in str(st).split(' ')])\n",
      "\n",
      "def depar(x):\n",
      "    return ' '.join(str(xx) for xx in x)\n",
      "\n",
      "def rank1_approx(a):\n",
      "    u, s, v = nla.svd(a, False)\n",
      "    return s[0] * np.outer(u[:, 0], v[0, :])\n",
      "\n",
      "def rank2_approx(a):\n",
      "    u, s, v = nla.svd(a, False)\n",
      "    return s[0] * np.outer(u[:, 0], v[0, :]) + s[1] * np.outer(u[:, 1], v[1, :])"
     ],
     "language": "python",
     "metadata": {},
     "outputs": [],
     "prompt_number": 2
    },
    {
     "cell_type": "code",
     "collapsed": false,
     "input": [
      "# load bvecs\n",
      "bvecs1 = np.loadtxt('/home/snarles/chris1_bvec.csv').T\n",
      "bvecs2 = np.loadtxt('/home/snarles/chris2_bvec.csv').T\n",
      "b0_inds = np.where(sum(bvecs1**2, 1) == 0)[0]\n",
      "b0_inds = b0_inds[2:]\n",
      "diff_inds = np.where(sum(bvecs1**2, 1) > 0)[0]\n",
      "# load data\n",
      "wm_mask = nib.load('/celadon/scr1/arokem/predator/8907_2_1_wm_mask_to_8907_7.nii.gz').get_data()\n",
      "b0_data1 = nib.load('/celadon/scr1/arokem/predator/8907_7_1_pfile/b0_corrected.nii.gz').get_data()\n",
      "b0_data2 = nib.load('/celadon/scr1/arokem/predator/8907_5_1_pfile/b0_corrected_to_8907_7.nii.gz').get_data()\n",
      "diff_data1 = nib.load('/celadon/scr1/arokem/predator/8631_5_1_pfile/coil_images/8631_5_ec_to_8907_7.nii.gz').get_data()\n",
      "diff_data2 = nib.load('/celadon/scr1/arokem/predator/8631_11_1_pfile/coil_images/8631_11_ec_to_8907_7.nii.gz').get_data()\n",
      "wm_mask = wm_mask.reshape((120, 120, 69, 1))"
     ],
     "language": "python",
     "metadata": {},
     "outputs": [],
     "prompt_number": 5
    },
    {
     "cell_type": "code",
     "collapsed": false,
     "input": [
      "print np.shape(b0_data1) #(120, 120, 69, 46)\n",
      "print np.shape(b0_data2) #(120, 120, 69, 46)\n",
      "print np.shape(diff_data1) #(120, 120, 69, 150)\n",
      "print np.shape(diff_data2) #(120, 120, 69, 150)\n",
      "print np.shape(wm_mask) #(120, 120, 69)"
     ],
     "language": "python",
     "metadata": {},
     "outputs": [
      {
       "output_type": "stream",
       "stream": "stdout",
       "text": [
        "(120, 120, 69, 46)\n",
        "(120, 120, 69, 46)\n",
        "(120, 120, 69, 150)\n",
        "(120, 120, 69, 150)\n",
        "(120, 120, 69, 1)\n"
       ]
      }
     ],
     "prompt_number": 6
    },
    {
     "cell_type": "code",
     "collapsed": false,
     "input": [
      "def proot(x):\n",
      "    x[x < 0] = 0\n",
      "    return np.sqrt(x)"
     ],
     "language": "python",
     "metadata": {},
     "outputs": [],
     "prompt_number": 7
    },
    {
     "cell_type": "code",
     "collapsed": false,
     "input": [
      "alldata = np.concatenate((wm_mask, proot(diff_data1), proot(diff_data2), proot(b0_data1), proot(b0_data2)), axis = 3)\n",
      "np.shape(alldata) # (120, 120, 69, 393)"
     ],
     "language": "python",
     "metadata": {},
     "outputs": [
      {
       "output_type": "pyout",
       "prompt_number": 8,
       "text": [
        "(120, 120, 69, 393)"
       ]
      }
     ],
     "prompt_number": 8
    },
    {
     "cell_type": "code",
     "collapsed": false,
     "input": [
      "b0_inds_1 = list(1 + np.array(b0_inds))\n",
      "b0_inds_1 = list(151 + np.array(b0_inds))\n",
      "b0_inds_3 = list(301 + np.arange(2, 46))\n",
      "b0_inds_4 = list(347 + np.arange(2, 46))\n",
      "diff_inds_1 = list(1 + np.array(diff_inds))\n",
      "diff_inds_2 = list(151 + np.array(diff_inds))"
     ],
     "language": "python",
     "metadata": {},
     "outputs": [],
     "prompt_number": 9
    },
    {
     "cell_type": "code",
     "collapsed": false,
     "input": [
      "mu_s0 = np.mean(proot(b0_data1[:, :, :, 2:]), axis = 3)"
     ],
     "language": "python",
     "metadata": {},
     "outputs": [],
     "prompt_number": 10
    },
    {
     "cell_type": "code",
     "collapsed": false,
     "input": [
      "all_coords = np.array(np.unravel_index(range(120 * 120 * 69), (120, 120, 69))).T\n",
      "flatdata = np.hstack([all_coords, alldata[all_coords[:, 0], all_coords[:, 1], all_coords[:, 2], :]])\n",
      "np.shape(flatdata) # (993600, 396)"
     ],
     "language": "python",
     "metadata": {},
     "outputs": [
      {
       "output_type": "pyout",
       "prompt_number": 11,
       "text": [
        "(993600, 396)"
       ]
      }
     ],
     "prompt_number": 11
    },
    {
     "cell_type": "code",
     "collapsed": false,
     "input": [
      "def par2(st):\n",
      "    x = np.array([float(v) for v in str(st).split(' ')])\n",
      "    coords = np.array(x[:3], dtype = int)\n",
      "    rest = x[3:]\n",
      "    return (tuple(coords), rest)\n",
      "\n",
      "def depar2(x):\n",
      "    coords = x[0]\n",
      "    rest = x[1]\n",
      "    x2 = np.hstack([coords, rest])\n",
      "    return ' '.join(str(xx) for xx in x2)"
     ],
     "language": "python",
     "metadata": {},
     "outputs": [],
     "prompt_number": 12
    },
    {
     "cell_type": "code",
     "collapsed": false,
     "input": [
      "def wm_vari(v):\n",
      "    return np.mean(v[1][b0_inds_3]) > 0.7 and np.var(v[1][b0_inds_3]) > 0.01\n",
      "\n",
      "def wm_skull(v):\n",
      "    return np.mean(v[1][b0_inds_3]) > 0.7"
     ],
     "language": "python",
     "metadata": {},
     "outputs": [],
     "prompt_number": 13
    },
    {
     "cell_type": "code",
     "collapsed": false,
     "input": [
      "def kv(v):\n",
      "    return (v[:3], v[3:])"
     ],
     "language": "python",
     "metadata": {},
     "outputs": [],
     "prompt_number": 16
    },
    {
     "cell_type": "code",
     "collapsed": false,
     "input": [
      "vox = [kv(v) for v in flatdata]"
     ],
     "language": "python",
     "metadata": {},
     "outputs": [],
     "prompt_number": 17
    },
    {
     "cell_type": "code",
     "collapsed": false,
     "input": [
      "fdf = [v for v in vox if wm_skull(v)]\n",
      "len(fdf)"
     ],
     "language": "python",
     "metadata": {},
     "outputs": [
      {
       "output_type": "pyout",
       "prompt_number": 22,
       "text": [
        "391245"
       ]
      }
     ],
     "prompt_number": 22
    },
    {
     "cell_type": "code",
     "collapsed": false,
     "input": [
      "#filtered_coords"
     ],
     "language": "python",
     "metadata": {},
     "outputs": []
    },
    {
     "cell_type": "markdown",
     "metadata": {},
     "source": [
      "# cluster by B0 3"
     ]
    },
    {
     "cell_type": "code",
     "collapsed": false,
     "input": [
      "def extract_b03(v):\n",
      "    x = v[1][b0_inds_3]\n",
      "    x = x - np.mean(x)\n",
      "    x = x /np.std(x)\n",
      "    scoord = 0 * (np.array(v[0]) - np.array([60, 60, 34.5]))/np.array([60, 60, 34.5])\n",
      "    return np.hstack([scoord, x])"
     ],
     "language": "python",
     "metadata": {},
     "outputs": [],
     "prompt_number": 23
    },
    {
     "cell_type": "code",
     "collapsed": false,
     "input": [
      "filt_rdd = [v for v in fdf if wm_vari(v)]"
     ],
     "language": "python",
     "metadata": {},
     "outputs": [],
     "prompt_number": 24
    },
    {
     "cell_type": "code",
     "collapsed": false,
     "input": [
      "b03data = np.vstack([extract_b03(v) for v in filt_rdd])"
     ],
     "language": "python",
     "metadata": {},
     "outputs": [],
     "prompt_number": 25
    },
    {
     "cell_type": "code",
     "collapsed": false,
     "input": [
      "np.shape(b03data)"
     ],
     "language": "python",
     "metadata": {},
     "outputs": [
      {
       "output_type": "pyout",
       "prompt_number": 26,
       "text": [
        "(126105, 47)"
       ]
      }
     ],
     "prompt_number": 26
    },
    {
     "cell_type": "code",
     "collapsed": false,
     "input": [
      "from scipy.cluster.vq import kmeans\n",
      "from sklearn.cluster import KMeans"
     ],
     "language": "python",
     "metadata": {},
     "outputs": [],
     "prompt_number": 30
    },
    {
     "cell_type": "code",
     "collapsed": false,
     "input": [
      "km = KMeans(200, max_iter = 20, n_jobs = 10, n_init = 1)\n",
      "z = km.fit_predict(b03data)"
     ],
     "language": "python",
     "metadata": {},
     "outputs": [],
     "prompt_number": 31
    },
    {
     "cell_type": "code",
     "collapsed": false,
     "input": [
      "cluster_rdd = zip(z, filt_rdd)"
     ],
     "language": "python",
     "metadata": {},
     "outputs": [],
     "prompt_number": 36
    },
    {
     "cell_type": "code",
     "collapsed": false,
     "input": [
      "cluster_rdd2 = [[v[1][0] for v in cluster_rdd if v[0]==k] for k in range(200)]"
     ],
     "language": "python",
     "metadata": {},
     "outputs": [],
     "prompt_number": 41
    },
    {
     "cell_type": "code",
     "collapsed": false,
     "input": [],
     "language": "python",
     "metadata": {},
     "outputs": []
    },
    {
     "cell_type": "code",
     "collapsed": false,
     "input": [
      "cluster_rdd2 = [np.vstack(v) for v in cluster_rdd2]"
     ],
     "language": "python",
     "metadata": {},
     "outputs": [],
     "prompt_number": 45
    },
    {
     "cell_type": "markdown",
     "metadata": {},
     "source": [
      "# Develop cluster filtering"
     ]
    },
    {
     "cell_type": "code",
     "collapsed": false,
     "input": [
      "def cluster_filt(v):\n",
      "    cds = np.array(v, dtype = int)\n",
      "    temp_map = np.zeros((120, 120, 69))\n",
      "    temp_map[cds[:, 0], cds[:, 1], cds[:, 2]] = 1\n",
      "    temp_map = gaussian_filter(temp_map, [3, 3, 1.5])\n",
      "    return max(temp_map.ravel() > 0.1)"
     ],
     "language": "python",
     "metadata": {},
     "outputs": [],
     "prompt_number": 51
    },
    {
     "cell_type": "code",
     "collapsed": false,
     "input": [
      "filt_cluster_rdd = [v for v in cluster_rdd2 if cluster_filt(v)]"
     ],
     "language": "python",
     "metadata": {},
     "outputs": [],
     "prompt_number": 54
    },
    {
     "cell_type": "code",
     "collapsed": false,
     "input": [
      "len(filt_cluster_rdd)"
     ],
     "language": "python",
     "metadata": {},
     "outputs": [
      {
       "output_type": "pyout",
       "prompt_number": 55,
       "text": [
        "47"
       ]
      }
     ],
     "prompt_number": 55
    },
    {
     "cell_type": "code",
     "collapsed": false,
     "input": [
      "filt_cluster_rdd[0]"
     ],
     "language": "python",
     "metadata": {},
     "outputs": [
      {
       "output_type": "pyout",
       "prompt_number": 56,
       "text": [
        "array([[ 20.,  59.,  44.],\n",
        "       [ 20.,  71.,  18.],\n",
        "       [ 20.,  71.,  34.],\n",
        "       ..., \n",
        "       [ 93.,  50.,   2.],\n",
        "       [ 93.,  66.,  45.],\n",
        "       [ 99.,  76.,  21.]])"
       ]
      }
     ],
     "prompt_number": 56
    },
    {
     "cell_type": "markdown",
     "metadata": {},
     "source": [
      "# from valid clusters"
     ]
    },
    {
     "cell_type": "code",
     "collapsed": false,
     "input": [
      "def cluster_ex(i):\n",
      "    cds = np.array(filt_cluster_rdd[i], dtype = int)\n",
      "    nc = np.shape(cds)[0]\n",
      "    temp_map = alldata[cds[:, 0], cds[:, 1], cds[:, 2], :]\n",
      "    ans = np.hstack([i * np.ones((nc, 1)), cds, temp_map])\n",
      "    return ans"
     ],
     "language": "python",
     "metadata": {},
     "outputs": [],
     "prompt_number": 61
    },
    {
     "cell_type": "code",
     "collapsed": false,
     "input": [
      "clusters = [cluster_ex(i) for i in range(len(filt_cluster_rdd))]"
     ],
     "language": "python",
     "metadata": {},
     "outputs": [],
     "prompt_number": 62
    },
    {
     "cell_type": "code",
     "collapsed": false,
     "input": [],
     "language": "python",
     "metadata": {},
     "outputs": []
    },
    {
     "cell_type": "code",
     "collapsed": false,
     "input": [
      "len(clusters)"
     ],
     "language": "python",
     "metadata": {},
     "outputs": [
      {
       "output_type": "pyout",
       "prompt_number": 63,
       "text": [
        "47"
       ]
      }
     ],
     "prompt_number": 63
    },
    {
     "cell_type": "code",
     "collapsed": false,
     "input": [
      "clusters_arr = np.vstack(clusters)"
     ],
     "language": "python",
     "metadata": {},
     "outputs": [],
     "prompt_number": 64
    },
    {
     "cell_type": "code",
     "collapsed": false,
     "input": [
      "np.shape(clusters_arr)"
     ],
     "language": "python",
     "metadata": {},
     "outputs": [
      {
       "output_type": "pyout",
       "prompt_number": 65,
       "text": [
        "(27507, 397)"
       ]
      }
     ],
     "prompt_number": 65
    },
    {
     "cell_type": "code",
     "collapsed": false,
     "input": [
      "?np.savetxt"
     ],
     "language": "python",
     "metadata": {},
     "outputs": [],
     "prompt_number": 65
    },
    {
     "cell_type": "code",
     "collapsed": false,
     "input": [
      "np.savetxt('/home/snarles/clusters.csv', clusters_arr)"
     ],
     "language": "python",
     "metadata": {},
     "outputs": [],
     "prompt_number": 66
    }
   ],
   "metadata": {}
  }
 ]
}