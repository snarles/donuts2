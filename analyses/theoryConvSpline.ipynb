{
 "metadata": {
  "name": "",
  "signature": "sha256:0e026f739ade15ec61f0091b43a1e91133f48ab1c5c632834032815802920166"
 },
 "nbformat": 3,
 "nbformat_minor": 0,
 "worksheets": [
  {
   "cells": [
    {
     "cell_type": "code",
     "collapsed": false,
     "input": [],
     "language": "python",
     "metadata": {},
     "outputs": []
    }
   ],
   "metadata": {}
  }
 ]
}