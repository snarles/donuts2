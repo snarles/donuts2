{
 "metadata": {
  "name": "",
  "signature": "sha256:69ccff46f6c9c18ee9e3d4d512cdebe9c43a547c9a59fb0cfce6567833a6a86c"
 },
 "nbformat": 3,
 "nbformat_minor": 0,
 "worksheets": [
  {
   "cells": [
    {
     "cell_type": "code",
     "collapsed": false,
     "input": [
      "import numpy as np\n",
      "import numpy.linalg as npl\n",
      "import scipy as sp\n",
      "import scipy.stats as spst\n",
      "import scipy.special as sps\n",
      "import numpy.random as npr\n",
      "import matplotlib.pyplot as plt\n",
      "import cvxopt as cvx"
     ],
     "language": "python",
     "metadata": {},
     "outputs": [
      {
       "output_type": "stream",
       "stream": "stderr",
       "text": [
        "/usr/local/lib/python2.7/dist-packages/setuptools-7.0-py2.7.egg/pkg_resources.py:1045: UserWarning: /home/snarles/.python-eggs is writable by group/others and vulnerable to attack when used with get_resource_filename. Consider a more secure location (set with .set_extraction_path or the PYTHON_EGG_CACHE environment variable).\n",
        "  warnings.warn(msg, UserWarning)\n"
       ]
      }
     ],
     "prompt_number": 1
    },
    {
     "cell_type": "code",
     "collapsed": false,
     "input": [],
     "language": "python",
     "metadata": {},
     "outputs": []
    },
    {
     "cell_type": "code",
     "collapsed": false,
     "input": [
      "def bs4d(z): # standard basis function with derivatives\n",
      "    i1 = np.array((z >= 0) & (z < 1),dtype = float)\n",
      "    i2 = np.array((z >= 1) & (z < 2),dtype = float)\n",
      "    i3 = np.array((z >= 2) & (z < 3),dtype = float)\n",
      "    i4 = np.array((z >= 3) & (z < 4),dtype = float)\n",
      "    c1 = z**3\n",
      "    d1 = 3*z**2\n",
      "    e1 = 6*z\n",
      "    c2 = -3*z**3 + 12*z**2 - 12*z + 4\n",
      "    d2 = -9*z**2 + 24*z - 12\n",
      "    e2 = -18*z + 24\n",
      "    c3 = 3*(z**3) - 24*(z**2) + 60*z - 44\n",
      "    d3 = 9*(z**2) - 48*z + 60\n",
      "    e3 = 18*z - 48\n",
      "    c4 = (4-z)**3\n",
      "    d4 = -3*(z-4)**2\n",
      "    e4 = -6*(z-4)\n",
      "    val0= i1*c1+i2*c2+i3*c3+i4*c4\n",
      "    val1= i1*d1+i2*d2+i3*d3+i4*d4\n",
      "    val2= i1*e1+i2*e2+i3*e3+i4*e4\n",
      "    return val0,val1,val2\n",
      "\n",
      "def genspline(bt,scale,shift): # generates a spline from coefficients, extrapolating at endpoints\n",
      "    nmax = len(bt)\n",
      "    def f(x): # only evaluates at a single point\n",
      "        z1 = scale*(x + shift) + 3\n",
      "        z = z1\n",
      "        if z1 < 0:\n",
      "            z = 0\n",
      "        if z > nmax:\n",
      "            z = nmax\n",
      "        h = np.floor(z)\n",
      "        val0 = 0.0\n",
      "        val1 = 0.0\n",
      "        val2 = 0.0\n",
      "        zr = z-h\n",
      "        for j in range(-4,1):\n",
      "            if (h+j) >=0 and (h+j) < len(bt):\n",
      "                cf = bt[h+j]\n",
      "                e0,e1,e2 = bs4d(zr-j)\n",
      "                val0 += cf*e0\n",
      "                val1 += cf*e1\n",
      "                val2 += cf*e2\n",
      "        ex0 = val0 + val1*(z1-z) + .5*(z1-z)**2\n",
      "        ex1 = val1 + val2*(z1-z)\n",
      "        ex2 = val2\n",
      "        return ex0,ex1,ex2\n",
      "    return f\n",
      "\n",
      "def autospline(x,y): # generates a spline from uniform data\n",
      "    mmax = max(x)\n",
      "    mmin = min(x)\n",
      "    nn = len(x)\n",
      "    scale = (nn-1)/(mmax-mmin)\n",
      "    shift = -mmin\n",
      "    bt = np.dot(splinecoef(nn),y)\n",
      "    return genspline(bt,scale,shift)\n",
      "\n",
      "def convspline(x,y): # generates a convex spline\n",
      "    m=len(x)\n",
      "    mmax = max(x)\n",
      "    mmin = min(x)\n",
      "    scale = (m-1)/(mmax-mmin)\n",
      "    shift = -mmin\n",
      "    atamat = cvx.matrix(np.dot(splinemat(m).T,splinemat(m))+ 1e-3 * np.diag(np.ones(m+2)))\n",
      "    ytamat = cvx.matrix(-np.dot(y.T,splinemat(m)))\n",
      "    hmat = cvx.matrix(-splinemat2(m))\n",
      "    zerovec = cvx.matrix(np.zeros((m,1)))\n",
      "    sol = cvx.solvers.qp(atamat,ytamat,hmat,zerovec)\n",
      "    bt = np.squeeze(sol['x'])\n",
      "    return genspline(bt,scale,shift)\n",
      "\n",
      "def splinemat(m):\n",
      "    n = m+1\n",
      "    mat= np.diag(1.* np.ones(n+2)) + np.diag(4.*np.ones(n+1),1) + np.diag(1.* np.ones(n),2)\n",
      "    return mat[:(n-1),:(n+1)]\n",
      "\n",
      "def splinemat2(m):\n",
      "    n = m+1\n",
      "    mat= np.diag(6.* np.ones(n+2)) + np.diag(-12.*np.ones(n+1),1) + np.diag(6.* np.ones(n),2)\n",
      "    return mat[:(n-1),:(n+1)]\n",
      "\n",
      "def splinecoef(m):\n",
      "    return npl.pinv(splinemat(m))"
     ],
     "language": "python",
     "metadata": {},
     "outputs": [],
     "prompt_number": 5
    },
    {
     "cell_type": "code",
     "collapsed": false,
     "input": [],
     "language": "python",
     "metadata": {},
     "outputs": []
    },
    {
     "cell_type": "code",
     "collapsed": false,
     "input": [
      "x = np.arange(-0.5,1,0.1)\n",
      "x2 = np.arange(-2,2,0.1)\n",
      "m=len(x)\n",
      "#y = -np.log(spst.ncx2.pdf(x=200.0,nc=x,df=3)) + 0.01*x**2\n",
      "y = x**3\n",
      "y20 = x2**3\n",
      "f = convspline(x,y)\n",
      "y2 = np.array([f(u)[0] for u in x2])\n",
      "plt.scatter(x2,y20)\n",
      "plt.scatter(x2,y2,color='red')\n",
      "plt.show()"
     ],
     "language": "python",
     "metadata": {},
     "outputs": [
      {
       "output_type": "stream",
       "stream": "stdout",
       "text": [
        "     pcost       dcost       gap    pres   dres\n",
        " 0: -4.9893e-01 -6.4302e-01  2e+01  4e+00  2e+00\n",
        " 1: -2.7225e-01 -9.5127e-01  1e+00  1e-01  8e-02\n",
        " 2: -4.4868e-01 -6.0740e-01  2e-01  4e-16  3e-15\n",
        " 3: -4.8716e-01 -5.0753e-01  2e-02  2e-16  8e-15\n",
        " 4: -4.9550e-01 -5.0078e-01  5e-03  2e-16  1e-15\n",
        " 5: -4.9705e-01 -4.9748e-01  4e-04  3e-16  7e-16\n",
        " 6: -4.9732e-01 -4.9735e-01  3e-05  2e-16  3e-16\n",
        " 7: -4.9733e-01 -4.9733e-01  4e-06  2e-16  8e-16\n",
        " 8: -4.9733e-01 -4.9733e-01  1e-07  1e-16  1e-15\n",
        "Optimal solution found.\n"
       ]
      }
     ],
     "prompt_number": 6
    },
    {
     "cell_type": "code",
     "collapsed": false,
     "input": [
      "atamat = cvx.matrix(np.dot(splinemat(m).T,splinemat(m))+ 1e-3 * np.diag(np.ones(m+2)))\n",
      "ytamat = cvx.matrix(-np.dot(y.T,splinemat(m)))\n",
      "hmat = cvx.matrix(-splinemat2(m))\n",
      "zerovec = cvx.matrix(np.zeros((m,1)))"
     ],
     "language": "python",
     "metadata": {},
     "outputs": [],
     "prompt_number": 68
    },
    {
     "cell_type": "code",
     "collapsed": false,
     "input": [
      "sol = cvx.solvers.qp(atamat,ytamat,hmat,zerovec)\n",
      "#sol = cvx.solvers.qp(atamat,ytamat)"
     ],
     "language": "python",
     "metadata": {},
     "outputs": [
      {
       "output_type": "stream",
       "stream": "stdout",
       "text": [
        "     pcost       dcost       gap    pres   dres\n",
        " 0: -4.9893e-01 -6.4302e-01  2e+01  4e+00  2e+00\n",
        " 1: -2.7225e-01 -9.5127e-01  1e+00  1e-01  8e-02\n",
        " 2: -4.4868e-01 -6.0740e-01  2e-01  4e-16  3e-15\n",
        " 3: -4.8716e-01 -5.0753e-01  2e-02  2e-16  8e-15\n",
        " 4: -4.9550e-01 -5.0078e-01  5e-03  2e-16  1e-15\n",
        " 5: -4.9705e-01 -4.9748e-01  4e-04  3e-16  7e-16\n",
        " 6: -4.9732e-01 -4.9735e-01  3e-05  2e-16  3e-16\n",
        " 7: -4.9733e-01 -4.9733e-01  4e-06  2e-16  8e-16\n",
        " 8: -4.9733e-01 -4.9733e-01  1e-07  1e-16  1e-15\n",
        "Optimal solution found.\n"
       ]
      }
     ],
     "prompt_number": 69
    },
    {
     "cell_type": "code",
     "collapsed": false,
     "input": [
      "bt = np.squeeze(sol['x'])\n",
      "np.dot(hmat,bt)"
     ],
     "language": "python",
     "metadata": {},
     "outputs": [
      {
       "metadata": {},
       "output_type": "pyout",
       "prompt_number": 72,
       "text": [
        "array([ -7.19106850e-07,  -1.24153021e-07,  -6.45262862e-08,\n",
        "        -5.27204145e-08,  -5.69906775e-08,  -8.11511864e-08,\n",
        "        -1.67455792e-07,  -5.95155314e-07,  -6.92799369e-06,\n",
        "        -5.39314354e-02,  -1.77918280e-02,  -4.12015725e-02,\n",
        "        -3.69288986e-02,  -6.24839294e-02,  -5.16079712e-04])"
       ]
      }
     ],
     "prompt_number": 72
    },
    {
     "cell_type": "code",
     "collapsed": false,
     "input": [
      "mmax = max(x)\n",
      "mmin = min(x)\n",
      "nn = len(x)\n",
      "scale = (nn-1)/(mmax-mmin)\n",
      "shift = -mmin\n",
      "f = genspline(bt,scale,shift)\n",
      "y2 = np.array([f(u)[0] for u in x])\n",
      "plt.scatter(x,y)\n",
      "plt.scatter(x,y2,color='red')\n",
      "plt.show()"
     ],
     "language": "python",
     "metadata": {},
     "outputs": [],
     "prompt_number": 74
    },
    {
     "cell_type": "code",
     "collapsed": false,
     "input": [],
     "language": "python",
     "metadata": {},
     "outputs": []
    }
   ],
   "metadata": {}
  }
 ]
}