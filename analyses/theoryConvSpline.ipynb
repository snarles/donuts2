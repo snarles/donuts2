{
 "metadata": {
  "name": "",
  "signature": "sha256:73b848a315d3102b9157c53ef8ca0f3f61a8d889a8043f1b1e8b62fe8329891e"
 },
 "nbformat": 3,
 "nbformat_minor": 0,
 "worksheets": [
  {
   "cells": [
    {
     "cell_type": "code",
     "collapsed": false,
     "input": [
      "import numpy as np\n",
      "import numpy.linalg as npl\n",
      "import scipy as sp\n",
      "import scipy.stats as spst\n",
      "import scipy.special as sps\n",
      "import numpy.random as npr\n",
      "import matplotlib.pyplot as plt\n",
      "import cvxopt as cvx"
     ],
     "language": "python",
     "metadata": {},
     "outputs": [
      {
       "output_type": "stream",
       "stream": "stderr",
       "text": [
        "/usr/local/lib/python2.7/dist-packages/setuptools-7.0-py2.7.egg/pkg_resources.py:1045: UserWarning: /home/snarles/.python-eggs is writable by group/others and vulnerable to attack when used with get_resource_filename. Consider a more secure location (set with .set_extraction_path or the PYTHON_EGG_CACHE environment variable).\n",
        "  warnings.warn(msg, UserWarning)\n"
       ]
      }
     ],
     "prompt_number": 1
    },
    {
     "cell_type": "code",
     "collapsed": false,
     "input": [],
     "language": "python",
     "metadata": {},
     "outputs": []
    },
    {
     "cell_type": "code",
     "collapsed": false,
     "input": [
      "def bs4d(z): # standard basis function with derivatives\n",
      "    i1 = np.array((z >= 0) & (z < 1),dtype = float)\n",
      "    i2 = np.array((z >= 1) & (z < 2),dtype = float)\n",
      "    i3 = np.array((z >= 2) & (z < 3),dtype = float)\n",
      "    i4 = np.array((z >= 3) & (z < 4),dtype = float)\n",
      "    c1 = z**3\n",
      "    d1 = 3*z**2\n",
      "    e1 = 6*z\n",
      "    c2 = -3*z**3 + 12*z**2 - 12*z + 4\n",
      "    d2 = -9*z**2 + 24*z - 12\n",
      "    e2 = -18*z + 24\n",
      "    c3 = 3*(z**3) - 24*(z**2) + 60*z - 44\n",
      "    d3 = 9*(z**2) - 48*z + 60\n",
      "    e3 = 18*z - 48\n",
      "    c4 = (4-z)**3\n",
      "    d4 = -3*(z-4)**2\n",
      "    e4 = -6*(z-4)\n",
      "    val0= i1*c1+i2*c2+i3*c3+i4*c4\n",
      "    val1= i1*d1+i2*d2+i3*d3+i4*d4\n",
      "    val2= i1*e1+i2*e2+i3*e3+i4*e4\n",
      "    return val0,val1,val2\n",
      "\n",
      "def genspline(bt,scale,shift): # generates a spline from coefficients, extrapolating at endpoints\n",
      "    nmax = len(bt)\n",
      "    def f(x): # only evaluates at a single point\n",
      "        z1 = scale*(x + shift) + 3\n",
      "        z = z1\n",
      "        if z1 < 3.5:\n",
      "            z = 3.5\n",
      "        if z1 > nmax:\n",
      "            z = nmax\n",
      "        h = np.floor(z)\n",
      "        val0 = 0.0\n",
      "        val1 = 0.0\n",
      "        val2 = 0.0\n",
      "        zr = z-h\n",
      "        for j in range(-4,1):\n",
      "            if (h+j) >=0 and (h+j) < len(bt):\n",
      "                cf = bt[h+j]\n",
      "                e0,e1,e2 = bs4d(zr-j)\n",
      "                val0 += cf*e0\n",
      "                val1 += cf*e1\n",
      "                val2 += cf*e2\n",
      "        ex0 = val0 + val1*(z1-z) + .5*(z1-z)**2\n",
      "        ex1 = val1 + val2*(z1-z)\n",
      "        ex2 = val2\n",
      "        return ex0,ex1*scale,ex2*(scale**2)\n",
      "    return f\n",
      "\n",
      "def autospline(x,y): # generates a spline from uniform data\n",
      "    mmax = max(x)\n",
      "    mmin = min(x)\n",
      "    nn = len(x)\n",
      "    scale = (nn-1)/(mmax-mmin)\n",
      "    shift = -mmin\n",
      "    bt = np.dot(splinecoef(nn),y)\n",
      "    return genspline(bt,scale,shift)\n",
      "\n",
      "def convspline(x,y): # generates a convex spline\n",
      "    m=len(x)\n",
      "    mmax = max(x)\n",
      "    mmin = min(x)\n",
      "    scale = (m-1)/(mmax-mmin)\n",
      "    shift = -mmin\n",
      "    atamat = cvx.matrix(np.dot(splinemat(m).T,splinemat(m))+ 1e-3 * np.diag(np.ones(m+2)))\n",
      "    ytamat = cvx.matrix(-np.dot(y.T,splinemat(m)))\n",
      "    hmat = cvx.matrix(-splinemat2(m))\n",
      "    zerovec = cvx.matrix(np.zeros((m,1)))\n",
      "    sol = cvx.solvers.qp(atamat,ytamat,hmat,zerovec)\n",
      "    bt = np.squeeze(sol['x'])\n",
      "    return genspline(bt,scale,shift)\n",
      "\n",
      "def splinemat(m):\n",
      "    n = m+1\n",
      "    mat= np.diag(1.* np.ones(n+2)) + np.diag(4.*np.ones(n+1),1) + np.diag(1.* np.ones(n),2)\n",
      "    return mat[:(n-1),:(n+1)]\n",
      "\n",
      "def splinemat2(m):\n",
      "    n = m+1\n",
      "    mat= np.diag(6.* np.ones(n+2)) + np.diag(-12.*np.ones(n+1),1) + np.diag(6.* np.ones(n),2)\n",
      "    return mat[:(n-1),:(n+1)]\n",
      "\n",
      "def splinecoef(m):\n",
      "    return npl.pinv(splinemat(m))\n",
      "\n",
      "def quadinterp(x,y,dy,d2y): # an interpolating curve from points, first derivs and second derivs\n",
      "    # x must be sorted\n",
      "    def ff(z):\n",
      "        if z < min(x):\n",
      "            return y[0] + (z-x[0])*dy[0]+0.5*(z-x[0])**2*d2y[0],dy[0]+(z-x[0])*d2y[0],d2y[0]\n",
      "        if z > max(x):\n",
      "            return y[-1] + (z-x[-1])*dy[-1]+0.5*(z-x[-1])**2*d2y[-1],dy[-1]+(z-x[-1])*d2y[-1],d2y[-1]            \n",
      "        ii = np.argwhere(x==z)\n",
      "        if len(ii) > 0:\n",
      "            ind = ii[0][0]\n",
      "            return y[ind],dy[ind],d2y[ind]\n",
      "        ii1 = np.argwhere(x < z)[-1][0]\n",
      "        ii2 = np.argwhere(x > z)[0][0]\n",
      "        x1 = x[ii1]\n",
      "        y1 = y[ii1]\n",
      "        dy1 = dy[ii1]\n",
      "        d2y1=d2y[ii1]\n",
      "        x2 = x[ii2]\n",
      "        y2 = y[ii2]\n",
      "        dy2 = dy[ii2]\n",
      "        d2y2 = d2y[ii2]\n",
      "        t = (z-x1)/(x2-x1)\n",
      "        y3 = t*y2 + (1-t)*y1\n",
      "        dy3 = t*dy2 + (1-t)*dy1 + (y2-y1)/(x2-x1)\n",
      "        d2y3 = t*d2y2 + (1-t)*d2y1 + 2*(dy2-dy1)/(x2-x1)\n",
      "        return y3,dy3,d2y3\n",
      "    return ff"
     ],
     "language": "python",
     "metadata": {},
     "outputs": [],
     "prompt_number": 27
    },
    {
     "cell_type": "code",
     "collapsed": false,
     "input": [
      "def polyfunc(x,a,b,c):\n",
      "    y = a*(x**3) + b*(x**2) + c*x\n",
      "    dy = 3*a*(x**2) + 2*b*x + c\n",
      "    d2y = 6*a*x + 2*b\n",
      "    return y,dy,d2y"
     ],
     "language": "python",
     "metadata": {},
     "outputs": [],
     "prompt_number": 29
    },
    {
     "cell_type": "code",
     "collapsed": false,
     "input": [
      "az = npr.normal(0,1,20)\n",
      "bz = npr.normal(0,1,20)\n",
      "cz = npr.normal(0,1,20)\n",
      "ls = [0]*20\n",
      "xgrid = np.arange(0,1,0.01)\n",
      "for ii in range(20):\n",
      "    y,dy,d2y = polyfunc(xgrid,az[ii],bz[ii],cz[ii])\n",
      "    ls[ii] = quadinterp(xgrid,y,dy,d2y)\n"
     ],
     "language": "python",
     "metadata": {},
     "outputs": [],
     "prompt_number": 33
    },
    {
     "cell_type": "code",
     "collapsed": false,
     "input": [
      "x = np.arange(0,1,0.1)\n",
      "a = 4.0\n",
      "b = 2.0\n",
      "c = 1.0\n",
      "y = a*(x**3) + b*(x**2) + c*x\n",
      "dy = 3*a*(x**2) + 2*b*x + c\n",
      "d2y = 6*a*x + 2*b\n",
      "ff = quadinterp(x,y,dy,d2y)\n",
      "z = np.arange(-1,2,0.01)\n",
      "plt.scatter(z,a*(z**3)+b*(z**2)+c*z)\n",
      "plt.scatter(z,np.array([ff(zz)[0] for zz in z]),color='red')\n",
      "plt.show()"
     ],
     "language": "python",
     "metadata": {},
     "outputs": [],
     "prompt_number": 28
    },
    {
     "cell_type": "code",
     "collapsed": false,
     "input": [
      "x = np.arange(-0.5,1,0.1)\n",
      "x2 = np.arange(-2,2,0.1)\n",
      "m=len(x)\n",
      "#y = -np.log(spst.ncx2.pdf(x=200.0,nc=x,df=3)) + 0.01*x**2\n",
      "y = x**3\n",
      "y20 = x2**3\n",
      "f = convspline(x,y)\n",
      "y2 = np.array([f(u)[2] for u in x2])\n",
      "#plt.scatter(x2,y20)\n",
      "plt.scatter(x2,y2,color='red')\n",
      "plt.show()"
     ],
     "language": "python",
     "metadata": {},
     "outputs": [
      {
       "output_type": "stream",
       "stream": "stdout",
       "text": [
        "     pcost       dcost       gap    pres   dres\n",
        " 0: -4.9893e-01 -6.4302e-01  2e+01  4e+00  2e+00\n",
        " 1: -2.7225e-01 -9.5127e-01  1e+00  1e-01  8e-02\n",
        " 2: -4.4868e-01 -6.0740e-01  2e-01  4e-16  3e-15\n",
        " 3: -4.8716e-01 -5.0753e-01  2e-02  2e-16  8e-15\n",
        " 4: -4.9550e-01 -5.0078e-01  5e-03  2e-16  1e-15\n",
        " 5: -4.9705e-01 -4.9748e-01  4e-04  3e-16  7e-16\n",
        " 6: -4.9732e-01 -4.9735e-01  3e-05  2e-16  3e-16\n",
        " 7: -4.9733e-01 -4.9733e-01  4e-06  2e-16  8e-16\n",
        " 8: -4.9733e-01 -4.9733e-01  1e-07  1e-16  1e-15\n",
        "Optimal solution found.\n"
       ]
      }
     ],
     "prompt_number": 3
    },
    {
     "cell_type": "code",
     "collapsed": false,
     "input": [
      "m=len(x)\n",
      "mmax = max(x)\n",
      "mmin = min(x)\n",
      "scale = (m-1)/(mmax-mmin)\n",
      "shift = -mmin\n",
      "atamat = cvx.matrix(np.dot(splinemat(m).T,splinemat(m))+ 1e-3 * np.diag(np.ones(m+2)))\n",
      "ytamat = cvx.matrix(-np.dot(y.T,splinemat(m)))\n",
      "hmat = cvx.matrix(-splinemat2(m))\n",
      "zerovec = cvx.matrix(np.zeros((m,1)))\n",
      "sol = cvx.solvers.qp(atamat,ytamat,hmat,zerovec)\n",
      "bt = np.squeeze(sol['x'])"
     ],
     "language": "python",
     "metadata": {},
     "outputs": [
      {
       "output_type": "stream",
       "stream": "stdout",
       "text": [
        "     pcost       dcost       gap    pres   dres\n",
        " 0: -4.9893e-01 -6.4302e-01  2e+01  4e+00  2e+00\n",
        " 1: -2.7225e-01 -9.5127e-01  1e+00  1e-01  8e-02\n",
        " 2: -4.4868e-01 -6.0740e-01  2e-01  4e-16  3e-15\n",
        " 3: -4.8716e-01 -5.0753e-01  2e-02  2e-16  8e-15\n",
        " 4: -4.9550e-01 -5.0078e-01  5e-03  2e-16  1e-15\n",
        " 5: -4.9705e-01 -4.9748e-01  4e-04  3e-16  7e-16\n",
        " 6: -4.9732e-01 -4.9735e-01  3e-05  2e-16  3e-16\n",
        " 7: -4.9733e-01 -4.9733e-01  4e-06  2e-16  8e-16\n",
        " 8: -4.9733e-01 -4.9733e-01  1e-07  1e-16  1e-15\n",
        "Optimal solution found.\n"
       ]
      }
     ],
     "prompt_number": 24
    },
    {
     "cell_type": "code",
     "collapsed": false,
     "input": [
      "nmax = len(bt)\n",
      "def f(x): # only evaluates at a single point\n",
      "    z1 = scale*(x + shift) + 3\n",
      "    z = z1\n",
      "    if z1 < 0.5:\n",
      "        z = 0.5\n",
      "    if z1 > nmax-.5:\n",
      "        z = nmax-.5\n",
      "    h = np.floor(z)\n",
      "    val0 = 0.0\n",
      "    val1 = 0.0\n",
      "    val2 = 0.0\n",
      "    zr = z-h\n",
      "    for j in range(-4,1):\n",
      "        if (h+j) >=0 and (h+j) < len(bt):\n",
      "            cf = bt[h+j]\n",
      "            e0,e1,e2 = bs4d(zr-j)\n",
      "            val0 += cf*e0\n",
      "            val1 += cf*e1\n",
      "            val2 += cf*e2\n",
      "    ex0 = val0 + val1*(z1-z) + .5*(z1-z)**2\n",
      "    ex1 = val1 + val2*(z1-z)\n",
      "    ex2 = val2\n",
      "    return ex0,ex1*scale,ex2*(scale**2)\n",
      "#return f"
     ],
     "language": "python",
     "metadata": {},
     "outputs": [
      {
       "ename": "SyntaxError",
       "evalue": "'return' outside function (<ipython-input-25-9bcbee23bf58>, line 25)",
       "output_type": "pyerr",
       "traceback": [
        "\u001b[1;36m  File \u001b[1;32m\"<ipython-input-25-9bcbee23bf58>\"\u001b[1;36m, line \u001b[1;32m25\u001b[0m\n\u001b[1;33m    return f\u001b[0m\n\u001b[1;31mSyntaxError\u001b[0m\u001b[1;31m:\u001b[0m 'return' outside function\n"
       ]
      }
     ],
     "prompt_number": 25
    },
    {
     "cell_type": "code",
     "collapsed": false,
     "input": [
      "z1 = scale*(x + shift) + 3"
     ],
     "language": "python",
     "metadata": {},
     "outputs": [],
     "prompt_number": 26
    },
    {
     "cell_type": "code",
     "collapsed": false,
     "input": [
      "z1"
     ],
     "language": "python",
     "metadata": {},
     "outputs": [
      {
       "metadata": {},
       "output_type": "pyout",
       "prompt_number": 27,
       "text": [
        "array([  3.,   4.,   5.,   6.,   7.,   8.,   9.,  10.,  11.,  12.,  13.,\n",
        "        14.,  15.,  16.,  17.])"
       ]
      }
     ],
     "prompt_number": 27
    },
    {
     "cell_type": "code",
     "collapsed": false,
     "input": [],
     "language": "python",
     "metadata": {},
     "outputs": []
    }
   ],
   "metadata": {}
  }
 ]
}