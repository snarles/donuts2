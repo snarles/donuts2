{
 "metadata": {
  "name": "",
  "signature": "sha256:ccf669aa1e8c17eed9d82e0ec0b20bb733154363fce278e2226d3ec87c235064"
 },
 "nbformat": 3,
 "nbformat_minor": 0,
 "worksheets": [
  {
   "cells": [
    {
     "cell_type": "code",
     "collapsed": false,
     "input": [
      "# get files\n"
     ],
     "language": "python",
     "metadata": {},
     "outputs": [],
     "prompt_number": 1
    },
    {
     "cell_type": "code",
     "collapsed": false,
     "input": [
      "import os\n",
      "import subprocess\n",
      "import donuts.deconv.utils as du"
     ],
     "language": "python",
     "metadata": {},
     "outputs": [],
     "prompt_number": 1
    },
    {
     "cell_type": "code",
     "collapsed": false,
     "input": [
      "os.chdir('/root/')\n",
      "#os.system('mkdir data')\n",
      "os.chdir('data')"
     ],
     "language": "python",
     "metadata": {},
     "outputs": [],
     "prompt_number": 2
    },
    {
     "cell_type": "code",
     "collapsed": false,
     "input": [
      "subprocess.check_output('aws s3 cp s3://rawpredator/8631_2_1_wm_mask.nii.gz .', shell=True)"
     ],
     "language": "python",
     "metadata": {},
     "outputs": [
      {
       "metadata": {},
       "output_type": "pyout",
       "prompt_number": 3,
       "text": [
        "'download: s3://rawpredator/8631_2_1_wm_mask.nii.gz to ./8631_2_1_wm_mask.nii.gz\\n'"
       ]
      }
     ],
     "prompt_number": 3
    },
    {
     "cell_type": "code",
     "collapsed": false,
     "input": [
      "subprocess.check_output('aws s3 cp s3://rawpredator/chris1/coil_comb_ec.nii.gz coil_comb_ec1.nii.gz', shell=True)\n",
      "subprocess.check_output('aws s3 cp s3://rawpredator/chris1/coil_comb_ec.nii.gz coil_comb_ec2.nii.gz', shell=True)"
     ],
     "language": "python",
     "metadata": {},
     "outputs": [
      {
       "metadata": {},
       "output_type": "pyout",
       "prompt_number": 5,
       "text": [
        "'Completed 1 of 71 part(s) with 1 file(s) remaining\\rCompleted 2 of 71 part(s) with 1 file(s) remaining\\rCompleted 3 of 71 part(s) with 1 file(s) remaining\\rCompleted 4 of 71 part(s) with 1 file(s) remaining\\rCompleted 5 of 71 part(s) with 1 file(s) remaining\\rCompleted 6 of 71 part(s) with 1 file(s) remaining\\rCompleted 7 of 71 part(s) with 1 file(s) remaining\\rCompleted 8 of 71 part(s) with 1 file(s) remaining\\rCompleted 9 of 71 part(s) with 1 file(s) remaining\\rCompleted 10 of 71 part(s) with 1 file(s) remaining\\rCompleted 11 of 71 part(s) with 1 file(s) remaining\\rCompleted 12 of 71 part(s) with 1 file(s) remaining\\rCompleted 13 of 71 part(s) with 1 file(s) remaining\\rCompleted 14 of 71 part(s) with 1 file(s) remaining\\rCompleted 15 of 71 part(s) with 1 file(s) remaining\\rCompleted 16 of 71 part(s) with 1 file(s) remaining\\rCompleted 17 of 71 part(s) with 1 file(s) remaining\\rCompleted 18 of 71 part(s) with 1 file(s) remaining\\rCompleted 19 of 71 part(s) with 1 file(s) remaining\\rCompleted 20 of 71 part(s) with 1 file(s) remaining\\rCompleted 21 of 71 part(s) with 1 file(s) remaining\\rCompleted 22 of 71 part(s) with 1 file(s) remaining\\rCompleted 23 of 71 part(s) with 1 file(s) remaining\\rCompleted 24 of 71 part(s) with 1 file(s) remaining\\rCompleted 25 of 71 part(s) with 1 file(s) remaining\\rCompleted 26 of 71 part(s) with 1 file(s) remaining\\rCompleted 27 of 71 part(s) with 1 file(s) remaining\\rCompleted 28 of 71 part(s) with 1 file(s) remaining\\rCompleted 29 of 71 part(s) with 1 file(s) remaining\\rCompleted 30 of 71 part(s) with 1 file(s) remaining\\rCompleted 31 of 71 part(s) with 1 file(s) remaining\\rCompleted 32 of 71 part(s) with 1 file(s) remaining\\rCompleted 33 of 71 part(s) with 1 file(s) remaining\\rCompleted 34 of 71 part(s) with 1 file(s) remaining\\rCompleted 35 of 71 part(s) with 1 file(s) remaining\\rCompleted 36 of 71 part(s) with 1 file(s) remaining\\rCompleted 37 of 71 part(s) with 1 file(s) remaining\\rCompleted 38 of 71 part(s) with 1 file(s) remaining\\rCompleted 39 of 71 part(s) with 1 file(s) remaining\\rCompleted 40 of 71 part(s) with 1 file(s) remaining\\rCompleted 41 of 71 part(s) with 1 file(s) remaining\\rCompleted 42 of 71 part(s) with 1 file(s) remaining\\rCompleted 43 of 71 part(s) with 1 file(s) remaining\\rCompleted 44 of 71 part(s) with 1 file(s) remaining\\rCompleted 45 of 71 part(s) with 1 file(s) remaining\\rCompleted 46 of 71 part(s) with 1 file(s) remaining\\rCompleted 47 of 71 part(s) with 1 file(s) remaining\\rCompleted 48 of 71 part(s) with 1 file(s) remaining\\rCompleted 49 of 71 part(s) with 1 file(s) remaining\\rCompleted 50 of 71 part(s) with 1 file(s) remaining\\rCompleted 51 of 71 part(s) with 1 file(s) remaining\\rCompleted 52 of 71 part(s) with 1 file(s) remaining\\rCompleted 53 of 71 part(s) with 1 file(s) remaining\\rCompleted 54 of 71 part(s) with 1 file(s) remaining\\rCompleted 55 of 71 part(s) with 1 file(s) remaining\\rCompleted 56 of 71 part(s) with 1 file(s) remaining\\rCompleted 57 of 71 part(s) with 1 file(s) remaining\\rCompleted 58 of 71 part(s) with 1 file(s) remaining\\rCompleted 59 of 71 part(s) with 1 file(s) remaining\\rCompleted 60 of 71 part(s) with 1 file(s) remaining\\rCompleted 61 of 71 part(s) with 1 file(s) remaining\\rCompleted 62 of 71 part(s) with 1 file(s) remaining\\rCompleted 63 of 71 part(s) with 1 file(s) remaining\\rCompleted 64 of 71 part(s) with 1 file(s) remaining\\rCompleted 65 of 71 part(s) with 1 file(s) remaining\\rCompleted 66 of 71 part(s) with 1 file(s) remaining\\rCompleted 67 of 71 part(s) with 1 file(s) remaining\\rCompleted 68 of 71 part(s) with 1 file(s) remaining\\rCompleted 69 of 71 part(s) with 1 file(s) remaining\\rCompleted 70 of 71 part(s) with 1 file(s) remaining\\rCompleted 71 of 71 part(s) with 1 file(s) remaining\\rdownload: s3://rawpredator/chris1/coil_comb_ec.nii.gz to ./coil_comb_ec2.nii.gz\\n'"
       ]
      }
     ],
     "prompt_number": 5
    },
    {
     "cell_type": "code",
     "collapsed": false,
     "input": [
      "subprocess.check_output('aws s3 cp s3://chris1data/chris1_bvec.csv .', shell=True)\n",
      "subprocess.check_output('aws s3 cp s3://chris2data/chris2_bvec.csv .', shell=True)"
     ],
     "language": "python",
     "metadata": {},
     "outputs": [
      {
       "metadata": {},
       "output_type": "pyout",
       "prompt_number": 6,
       "text": [
        "'download: s3://chris2data/chris2_bvec.csv to ./chris2_bvec.csv\\n'"
       ]
      }
     ],
     "prompt_number": 6
    },
    {
     "cell_type": "code",
     "collapsed": false,
     "input": [
      "import nibabel as nib\n",
      "import numpy as np\n",
      "import numpy.random as npr\n",
      "import scipy.optimize as spo"
     ],
     "language": "python",
     "metadata": {},
     "outputs": [],
     "prompt_number": 7
    },
    {
     "cell_type": "code",
     "collapsed": false,
     "input": [
      "comb_data1 = nib.load('/root/data/coil_comb_ec1.nii.gz').get_data()\n",
      "comb_data2 = nib.load('/root/data/coil_comb_ec2.nii.gz').get_data()"
     ],
     "language": "python",
     "metadata": {},
     "outputs": [],
     "prompt_number": 8
    },
    {
     "cell_type": "code",
     "collapsed": false,
     "input": [
      "wm_mask = nib.load('/root/data/8631_2_1_wm_mask.nii.gz').get_data()"
     ],
     "language": "python",
     "metadata": {},
     "outputs": [],
     "prompt_number": 9
    },
    {
     "cell_type": "code",
     "collapsed": false,
     "input": [
      "np.shape(comb_data1)"
     ],
     "language": "python",
     "metadata": {},
     "outputs": [
      {
       "metadata": {},
       "output_type": "pyout",
       "prompt_number": 10,
       "text": [
        "(120, 120, 69, 150)"
       ]
      }
     ],
     "prompt_number": 10
    },
    {
     "cell_type": "code",
     "collapsed": false,
     "input": [
      "wm_coords = np.array(np.unravel_index(np.where(wm_mask.ravel()==1)[0], np.shape(wm_mask))).T"
     ],
     "language": "python",
     "metadata": {},
     "outputs": [],
     "prompt_number": 11
    },
    {
     "cell_type": "code",
     "collapsed": false,
     "input": [
      "np.shape(wm_coords)"
     ],
     "language": "python",
     "metadata": {},
     "outputs": [
      {
       "metadata": {},
       "output_type": "pyout",
       "prompt_number": 12,
       "text": [
        "(55418, 3)"
       ]
      }
     ],
     "prompt_number": 12
    },
    {
     "cell_type": "code",
     "collapsed": false,
     "input": [
      "wm_vox1 = np.hstack([wm_coords, np.array([comb_data1[c[0], c[1], c[2], :] for c in wm_coords])])\n",
      "wm_vox2 = np.hstack([wm_coords, np.array([comb_data2[c[0], c[1], c[2], :] for c in wm_coords])])"
     ],
     "language": "python",
     "metadata": {},
     "outputs": [],
     "prompt_number": 14
    },
    {
     "cell_type": "code",
     "collapsed": false,
     "input": [
      "wm_vox = np.hstack([wm_vox1, wm_vox2])\n",
      "np.shape(wm_vox)"
     ],
     "language": "python",
     "metadata": {},
     "outputs": [
      {
       "metadata": {},
       "output_type": "pyout",
       "prompt_number": 16,
       "text": [
        "(55418, 306)"
       ]
      }
     ],
     "prompt_number": 16
    },
    {
     "cell_type": "code",
     "collapsed": false,
     "input": [
      "# free up disk space\n",
      "subprocess.check_output('rm *.nii.gz', shell=True)"
     ],
     "language": "python",
     "metadata": {},
     "outputs": [
      {
       "metadata": {},
       "output_type": "pyout",
       "prompt_number": 19,
       "text": [
        "''"
       ]
      }
     ],
     "prompt_number": 19
    },
    {
     "cell_type": "code",
     "collapsed": false,
     "input": [
      "np.savetxt('/root/data/flat.txt', wm_vox, fmt = '%.9e')"
     ],
     "language": "python",
     "metadata": {},
     "outputs": [],
     "prompt_number": 17
    },
    {
     "cell_type": "markdown",
     "metadata": {},
     "source": [
      "# load files into Hadoop"
     ]
    },
    {
     "cell_type": "code",
     "collapsed": false,
     "input": [
      "os.chdir('/root/ephemeral-hdfs/bin')"
     ],
     "language": "python",
     "metadata": {},
     "outputs": [],
     "prompt_number": 20
    },
    {
     "cell_type": "code",
     "collapsed": false,
     "input": [
      "os.system('./hadoop fs -put /root/data/flat.txt flat.txt')"
     ],
     "language": "python",
     "metadata": {},
     "outputs": [
      {
       "metadata": {},
       "output_type": "pyout",
       "prompt_number": 21,
       "text": [
        "0"
       ]
      }
     ],
     "prompt_number": 21
    },
    {
     "cell_type": "code",
     "collapsed": false,
     "input": [
      "subprocess.check_output('./hadoop fs -ls', shell=True)"
     ],
     "language": "python",
     "metadata": {},
     "outputs": [
      {
       "metadata": {},
       "output_type": "pyout",
       "prompt_number": 22,
       "text": [
        "'Found 1 items\\n-rw-r--r--   3 root supergroup  271326528 2015-03-10 17:01 /user/root/flat.txt\\n'"
       ]
      }
     ],
     "prompt_number": 22
    },
    {
     "cell_type": "code",
     "collapsed": false,
     "input": [
      "subprocess.check_output('./hadoop fs -rmr flat.txt', shell=True)"
     ],
     "language": "python",
     "metadata": {},
     "outputs": [
      {
       "metadata": {},
       "output_type": "pyout",
       "prompt_number": 10,
       "text": [
        "'Deleted hdfs://ec2-52-11-177-249.us-west-2.compute.amazonaws.com:9000/user/root/flat.txt\\n'"
       ]
      }
     ],
     "prompt_number": 10
    },
    {
     "cell_type": "markdown",
     "metadata": {},
     "source": [
      "# load bvecs"
     ]
    },
    {
     "cell_type": "code",
     "collapsed": false,
     "input": [
      "bvecs1 = np.loadtxt('/root/data/chris1_bvec.csv').T\n",
      "bvecs2 = np.loadtxt('/root/data/chris2_bvec.csv').T"
     ],
     "language": "python",
     "metadata": {},
     "outputs": [],
     "prompt_number": 23
    },
    {
     "cell_type": "code",
     "collapsed": false,
     "input": [
      "grid = du.georandsphere(4,3)\n",
      "amat1 = du.ste_tan_kappa(1.5 * grid, bvecs1)"
     ],
     "language": "python",
     "metadata": {},
     "outputs": [],
     "prompt_number": 24
    },
    {
     "cell_type": "code",
     "collapsed": false,
     "input": [
      "diff_inds = np.where(sum(bvecs1**2, 1) > 0)[0]\n",
      "perm = npr.permutation(len(diff_inds))\n",
      "tr_inds = diff_inds[perm[:120]]\n",
      "te_inds = diff_inds[perm[120:]]\n",
      "len(tr_inds), len(te_inds)"
     ],
     "language": "python",
     "metadata": {},
     "outputs": [
      {
       "metadata": {},
       "output_type": "pyout",
       "prompt_number": 25,
       "text": [
        "(120, 18)"
       ]
      }
     ],
     "prompt_number": 25
    },
    {
     "cell_type": "code",
     "collapsed": false,
     "input": [
      "tr_amat = amat1[tr_inds, :]\n",
      "te_amat = amat1[te_inds, :]"
     ],
     "language": "python",
     "metadata": {},
     "outputs": [],
     "prompt_number": 26
    },
    {
     "cell_type": "markdown",
     "metadata": {},
     "source": [
      "# Load data into spark"
     ]
    },
    {
     "cell_type": "code",
     "collapsed": false,
     "input": [
      "parts = 100\n",
      "rawrdd = sc.textFile('flat.txt', parts)"
     ],
     "language": "python",
     "metadata": {},
     "outputs": [],
     "prompt_number": 27
    },
    {
     "cell_type": "code",
     "collapsed": false,
     "input": [
      "smp = rawrdd.takeSample(True, 20)"
     ],
     "language": "python",
     "metadata": {},
     "outputs": [],
     "prompt_number": 28
    },
    {
     "cell_type": "code",
     "collapsed": false,
     "input": [
      "st = smp[0]"
     ],
     "language": "python",
     "metadata": {},
     "outputs": [],
     "prompt_number": 29
    },
    {
     "cell_type": "code",
     "collapsed": false,
     "input": [
      "def f00(st):\n",
      "    temp = np.array([float(v) for v in str(st).split(' ')])[:153]\n",
      "    coords = temp[:3]\n",
      "    errs = np.zeros(20)\n",
      "    for i in range(20):\n",
      "        const = float(i)/20\n",
      "        ys = np.sqrt(temp[3:])\n",
      "        temp2 = ys**2 - const\n",
      "        temp2[temp2 < 0] = 0\n",
      "        tr_y = np.sqrt(temp2)[tr_inds]\n",
      "        te_y = ys[te_inds]\n",
      "        bt = spo.nnls(tr_amat, tr_y)[0]\n",
      "        pr_y = np.squeeze(np.dot(te_amat, bt))\n",
      "        errs[i] = sum((te_y**2 - const - pr_y**2)**2)\n",
      "    res = np.hstack([coords, errs])\n",
      "    res_st = ' '.join(str(val) for val in res)\n",
      "    return res_st"
     ],
     "language": "python",
     "metadata": {},
     "outputs": [],
     "prompt_number": 32
    },
    {
     "cell_type": "code",
     "collapsed": false,
     "input": [
      "from operator import add"
     ],
     "language": "python",
     "metadata": {},
     "outputs": [],
     "prompt_number": 33
    },
    {
     "cell_type": "code",
     "collapsed": false,
     "input": [
      "f00(st)"
     ],
     "language": "python",
     "metadata": {},
     "outputs": [
      {
       "metadata": {},
       "output_type": "pyout",
       "prompt_number": 34,
       "text": [
        "'80.0 40.0 35.0 1.15511242767 1.16358953501 1.1710512126 1.18290167356 1.1767603982 1.18013629906 1.18623608839 1.17660903089 1.15978513508 1.15191442048 1.15609348076 1.22732846543 1.3212074053 1.44115972357 1.58451062289 1.74920592137 1.88572189034 2.07298904847 2.28206479441 2.50309205597'"
       ]
      }
     ],
     "prompt_number": 34
    },
    {
     "cell_type": "code",
     "collapsed": false,
     "input": [
      "rawrdd.map(f00).saveAsTextFile('c00.txt')"
     ],
     "language": "python",
     "metadata": {},
     "outputs": [],
     "prompt_number": 35
    },
    {
     "cell_type": "code",
     "collapsed": false,
     "input": [
      "os.chdir('/root/ephemeral-hdfs/bin')\n",
      "os.system('rm c00.txt')\n",
      "os.system('./hadoop fs -getmerge c00.txt c00.txt')\n",
      "os.system('./hadoop fs -rmr c00.txt')"
     ],
     "language": "python",
     "metadata": {},
     "outputs": [
      {
       "metadata": {},
       "output_type": "pyout",
       "prompt_number": 36,
       "text": [
        "0"
       ]
      }
     ],
     "prompt_number": 36
    },
    {
     "cell_type": "code",
     "collapsed": false,
     "input": [
      "res00 = np.loadtxt('/root/ephemeral-hdfs/bin/c00.txt')"
     ],
     "language": "python",
     "metadata": {},
     "outputs": [],
     "prompt_number": 37
    },
    {
     "cell_type": "code",
     "collapsed": false,
     "input": [
      "avgs = np.mean(res00, 0)[3:]"
     ],
     "language": "python",
     "metadata": {},
     "outputs": [],
     "prompt_number": 38
    },
    {
     "cell_type": "code",
     "collapsed": false,
     "input": [
      "plt.scatter(np.arange(len(avgs))/float(20), avgs)"
     ],
     "language": "python",
     "metadata": {},
     "outputs": [
      {
       "metadata": {},
       "output_type": "pyout",
       "prompt_number": 39,
       "text": [
        "<matplotlib.collections.PathCollection at 0x7f721d5ad350>"
       ]
      },
      {
       "metadata": {},
       "output_type": "display_data",
       "png": "[encoded data removed]",
       "text": [
        "<matplotlib.figure.Figure at 0x7f721e62a4d0>"
       ]
      }
     ],
     "prompt_number": 39
    },
    {
     "cell_type": "code",
     "collapsed": false,
     "input": [
      "rvals = res00[:, 3:]"
     ],
     "language": "python",
     "metadata": {},
     "outputs": [],
     "prompt_number": 40
    },
    {
     "cell_type": "code",
     "collapsed": false,
     "input": [
      "sighats = np.argmin(rvals, 1)/float(20)"
     ],
     "language": "python",
     "metadata": {},
     "outputs": [],
     "prompt_number": 41
    },
    {
     "cell_type": "code",
     "collapsed": false,
     "input": [
      "sighats[0:10]"
     ],
     "language": "python",
     "metadata": {},
     "outputs": [
      {
       "metadata": {},
       "output_type": "pyout",
       "prompt_number": 42,
       "text": [
        "array([ 0.95,  0.95,  0.65,  0.95,  0.95,  0.  ,  0.95,  0.9 ,  0.  ,  0.75])"
       ]
      }
     ],
     "prompt_number": 42
    },
    {
     "cell_type": "code",
     "collapsed": false,
     "input": [
      "temp_map = np.zeros((120, 120, 69)) - 1\n",
      "for i in range(len(res00)):\n",
      "    c = res00[i, :3]\n",
      "    temp_map[c[0], c[1], c[2]] = sighats[i]"
     ],
     "language": "python",
     "metadata": {},
     "outputs": [],
     "prompt_number": 43
    },
    {
     "cell_type": "code",
     "collapsed": false,
     "input": [
      "import matplotlib.pyplot as plt\n",
      "%matplotlib inline"
     ],
     "language": "python",
     "metadata": {},
     "outputs": [],
     "prompt_number": 44
    },
    {
     "cell_type": "code",
     "collapsed": false,
     "input": [
      "z_inds = [10, 20, 30, 40, 50]\n",
      "f_c1, axarr = plt.subplots(1, len(z_inds), sharex=True, sharey=True, figsize = (15, 3))\n",
      "for j in range(len(z_inds)):\n",
      "    z_ind = z_inds[j]\n",
      "    axarr[j].imshow(temp_map[:, :, z_ind], cmap='bone', vmin = -0.2, vmax = 1.0)"
     ],
     "language": "python",
     "metadata": {},
     "outputs": [
      {
       "metadata": {},
       "output_type": "display_data",
       "png": "[encoded data removed]",
       "text": [
        "<matplotlib.figure.Figure at 0x7f721e617cd0>"
       ]
      }
     ],
     "prompt_number": 45
    },
    {
     "cell_type": "code",
     "collapsed": false,
     "input": [
      "len(sighats)"
     ],
     "language": "python",
     "metadata": {},
     "outputs": [
      {
       "metadata": {},
       "output_type": "pyout",
       "prompt_number": 46,
       "text": [
        "55418"
       ]
      }
     ],
     "prompt_number": 46
    },
    {
     "cell_type": "markdown",
     "metadata": {},
     "source": [
      "# Use estimated sigmas on test data"
     ]
    },
    {
     "cell_type": "code",
     "collapsed": false,
     "input": [
      "wm_vox_sig = np.hstack([np.reshape(sighats, (-1, 1)), wm_vox2])"
     ],
     "language": "python",
     "metadata": {},
     "outputs": [],
     "prompt_number": 49
    },
    {
     "cell_type": "code",
     "collapsed": false,
     "input": [
      "np.savetxt('flat2.txt', wm_vox_sig, fmt = '%.9e')"
     ],
     "language": "python",
     "metadata": {},
     "outputs": [],
     "prompt_number": 50
    },
    {
     "cell_type": "code",
     "collapsed": false,
     "input": [
      "os.system('./hadoop fs -put flat2.txt flat2.txt')"
     ],
     "language": "python",
     "metadata": {},
     "outputs": [
      {
       "metadata": {},
       "output_type": "pyout",
       "prompt_number": 51,
       "text": [
        "0"
       ]
      }
     ],
     "prompt_number": 51
    },
    {
     "cell_type": "code",
     "collapsed": false,
     "input": [
      "rawrdd2 = sc.textFile('flat2.txt', parts)"
     ],
     "language": "python",
     "metadata": {},
     "outputs": [],
     "prompt_number": 54
    },
    {
     "cell_type": "code",
     "collapsed": false,
     "input": [
      "smp = rawrdd2.takeSample(True, 20)                        \n",
      "st = smp[0]"
     ],
     "language": "python",
     "metadata": {},
     "outputs": [],
     "prompt_number": 55
    },
    {
     "cell_type": "code",
     "collapsed": false,
     "input": [
      "def f01(st):\n",
      "    temp = np.array([float(v) for v in str(st).split(' ')])\n",
      "    sigs = [0.0, temp[:1]]\n",
      "    temp = temp[1:]\n",
      "    coords = temp[:3]\n",
      "    errs = np.zeros(2)\n",
      "    for i in range(2):\n",
      "        const = sigs[i]\n",
      "        ys = np.sqrt(temp[3:])\n",
      "        temp2 = ys**2 - const\n",
      "        temp2[temp2 < 0] = 0\n",
      "        tr_y = np.sqrt(temp2)[tr_inds]\n",
      "        te_y = ys[te_inds]\n",
      "        bt = spo.nnls(tr_amat, tr_y)[0]\n",
      "        pr_y = np.squeeze(np.dot(te_amat, bt))\n",
      "        errs[i] = sum((te_y**2 - const - pr_y**2)**2)\n",
      "    res = np.hstack([coords, errs])\n",
      "    res_st = ' '.join(str(val) for val in res)\n",
      "    return res_st"
     ],
     "language": "python",
     "metadata": {},
     "outputs": [],
     "prompt_number": 83
    },
    {
     "cell_type": "code",
     "collapsed": false,
     "input": [
      "f01(rawrdd2.first())"
     ],
     "language": "python",
     "metadata": {},
     "outputs": [
      {
       "metadata": {},
       "output_type": "pyout",
       "prompt_number": 90,
       "text": [
        "'26.0 70.0 22.0 2.52709976898 2.22990453486'"
       ]
      }
     ],
     "prompt_number": 90
    },
    {
     "cell_type": "code",
     "collapsed": false,
     "input": [
      "rawrdd2.map(f01).first()"
     ],
     "language": "python",
     "metadata": {},
     "outputs": [
      {
       "metadata": {},
       "output_type": "pyout",
       "prompt_number": 92,
       "text": [
        "'26.0 70.0 22.0 2.52709976898 2.22990453486'"
       ]
      }
     ],
     "prompt_number": 92
    },
    {
     "cell_type": "code",
     "collapsed": false,
     "input": [
      "rawrdd2.map(f01).saveAsTextFile('c01.txt')"
     ],
     "language": "python",
     "metadata": {},
     "outputs": [],
     "prompt_number": 93
    },
    {
     "cell_type": "code",
     "collapsed": false,
     "input": [
      "os.system('rm c01.txt')\n",
      "os.system('./hadoop fs -getmerge c01.txt c01.txt')\n",
      "os.system('./hadoop fs -rmr c01.txt')"
     ],
     "language": "python",
     "metadata": {},
     "outputs": [
      {
       "metadata": {},
       "output_type": "pyout",
       "prompt_number": 94,
       "text": [
        "0"
       ]
      }
     ],
     "prompt_number": 94
    },
    {
     "cell_type": "code",
     "collapsed": false,
     "input": [
      "res01 = np.loadtxt('/root/ephemeral-hdfs/bin/c01.txt')\n",
      "avgs = np.mean(res01, 0)[3:]"
     ],
     "language": "python",
     "metadata": {},
     "outputs": [],
     "prompt_number": 95
    },
    {
     "cell_type": "code",
     "collapsed": false,
     "input": [
      "res01[0, :]"
     ],
     "language": "python",
     "metadata": {},
     "outputs": [
      {
       "metadata": {},
       "output_type": "pyout",
       "prompt_number": 96,
       "text": [
        "array([ 26.        ,  70.        ,  22.        ,   2.52709977,   2.22990453])"
       ]
      }
     ],
     "prompt_number": 96
    },
    {
     "cell_type": "code",
     "collapsed": false,
     "input": [
      "avgs"
     ],
     "language": "python",
     "metadata": {},
     "outputs": [
      {
       "metadata": {},
       "output_type": "pyout",
       "prompt_number": 97,
       "text": [
        "array([ 1.31042239,  1.18983694])"
       ]
      }
     ],
     "prompt_number": 97
    },
    {
     "cell_type": "code",
     "collapsed": false,
     "input": [
      "plt.scatter(res01[:, 3], res01[:, 4])"
     ],
     "language": "python",
     "metadata": {},
     "outputs": [
      {
       "metadata": {},
       "output_type": "pyout",
       "prompt_number": 98,
       "text": [
        "<matplotlib.collections.PathCollection at 0x7f721d8e7cd0>"
       ]
      },
      {
       "metadata": {},
       "output_type": "display_data",
       "png": "[encoded data removed]",
       "text": [
        "<matplotlib.figure.Figure at 0x7f721d8e97d0>"
       ]
      }
     ],
     "prompt_number": 98
    },
    {
     "cell_type": "code",
     "collapsed": false,
     "input": [
      "sum(res01[:, 3] < res01[:, 4])"
     ],
     "language": "python",
     "metadata": {},
     "outputs": [
      {
       "metadata": {},
       "output_type": "pyout",
       "prompt_number": 99,
       "text": [
        "0"
       ]
      }
     ],
     "prompt_number": 99
    },
    {
     "cell_type": "code",
     "collapsed": false,
     "input": [],
     "language": "python",
     "metadata": {},
     "outputs": []
    }
   ],
   "metadata": {}
  }
 ]
}