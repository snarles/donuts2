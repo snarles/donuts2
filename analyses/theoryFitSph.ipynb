{
 "metadata": {
  "name": "",
  "signature": "sha256:5a874471b38ff80cea060df77f62841eeeef559d34ca3d4b16a89e9cceb1d7d7"
 },
 "nbformat": 3,
 "nbformat_minor": 0,
 "worksheets": [
  {
   "cells": [
    {
     "cell_type": "heading",
     "level": 3,
     "metadata": {},
     "source": [
      "Fitting Spherical Harmonics"
     ]
    },
    {
     "cell_type": "code",
     "collapsed": false,
     "input": [
      "import os\n",
      "import numpy as np\n",
      "import numpy.random as npr\n",
      "import numpy.linalg as nla\n",
      "import scipy as sp\n",
      "import scipy.stats as spst\n",
      "import scipy.special as sps\n",
      "import matplotlib.pyplot as plt\n",
      "import numpy.random as npr\n",
      "import scipy.optimize as spo\n",
      "import matplotlib as mpl\n",
      "from mpl_toolkits.mplot3d import Axes3D\n",
      "os.chdir(\"..\")\n",
      "import donuts.deconv.utils as du\n",
      "import donuts.deconv.ncx as ncx"
     ],
     "language": "python",
     "metadata": {},
     "outputs": [],
     "prompt_number": 1
    },
    {
     "cell_type": "code",
     "collapsed": false,
     "input": [
      "import cvxopt as cvx"
     ],
     "language": "python",
     "metadata": {},
     "outputs": [
      {
       "output_type": "stream",
       "stream": "stderr",
       "text": [
        "/usr/local/lib/python2.7/dist-packages/setuptools-7.0-py2.7.egg/pkg_resources.py:1045: UserWarning: /home/snarles/.python-eggs is writable by group/others and vulnerable to attack when used with get_resource_filename. Consider a more secure location (set with .set_extraction_path or the PYTHON_EGG_CACHE environment variable).\n",
        "  warnings.warn(msg, UserWarning)\n"
       ]
      }
     ],
     "prompt_number": 2
    },
    {
     "cell_type": "code",
     "collapsed": false,
     "input": [
      "bvecs = du.georandsphere(4,1)\n",
      "n = np.shape(bvecs)[0]\n",
      "sgrid = du.georandsphere(6,3)\n",
      "sgrid = sgrid[sgrid[:,2] > 0,:]\n",
      "pp = np.shape(sgrid)[0]\n",
      "rsh = du.rsh_basis(sgrid,7)\n",
      "pp_rsh = np.shape(rsh)[1]\n",
      "print((n,pp,pp_rsh))\n"
     ],
     "language": "python",
     "metadata": {},
     "outputs": [
      {
       "output_type": "stream",
       "stream": "stdout",
       "text": [
        "(162, 543, 64)\n"
       ]
      }
     ],
     "prompt_number": 42
    },
    {
     "cell_type": "code",
     "collapsed": false,
     "input": [
      "# setting up measurement vectors and fitting vectors\n",
      "true_kappa = 3.0\n",
      "kappa = 4.0\n",
      "def plotb(zz=np.ones(pp)):\n",
      "    fig = plt.figure()\n",
      "    ax = fig.gca(projection='3d')\n",
      "    ax.scatter(sgrid[:,0],sgrid[:,1],sgrid[:,2])\n",
      "    ax.scatter(zz*sgrid[:,0],zz*sgrid[:,1],zz*sgrid[:,2],color=\"red\")\n",
      "    plt.show()\n",
      "# do you want plots?\n",
      "plotsignal = True\n",
      "# randomize parameters outside of loop?\n",
      "randoutside = True\n",
      "\n",
      "amat0 = du.ste_tan_kappa(sgrid,np.sqrt(true_kappa) *bvecs)\n",
      "amat = du.ste_tan_kappa(sgrid,np.sqrt(kappa) *bvecs)\n",
      "amat_rsh = np.dot(amat, rsh)"
     ],
     "language": "python",
     "metadata": {},
     "outputs": [],
     "prompt_number": 51
    },
    {
     "cell_type": "code",
     "collapsed": false,
     "input": [
      "true_k = 3\n",
      "# randomly generate parameters\n",
      "if randoutside:\n",
      "    bt0 = np.zeros(pp)\n",
      "    bt0[npr.randint(0,pp-1,true_k)]=1.0/true_k\n",
      "    if plotsignal:\n",
      "        plotb(bt0)"
     ],
     "language": "python",
     "metadata": {},
     "outputs": [],
     "prompt_number": 52
    },
    {
     "cell_type": "code",
     "collapsed": false,
     "input": [
      "total_sigma = 0.1\n",
      "df = 10\n",
      "true_sigma = total_sigma/np.sqrt(df)\n",
      "est_sigma = true_sigma\n",
      "\n",
      "c0 = df*true_sigma**2\n",
      "mu = np.dot(amat0,bt0)\n",
      "y0 = mu**2 + true_sigma**2*df\n",
      "y = ncx.rvs_ncx2(df,mu,0,true_sigma)\n",
      "def loss_emd(x0):\n",
      "    return du.arc_emd(sgrid,ncx.column(bt0),sgrid,ncx.column(x0))\n",
      "def loss_mse(x0):\n",
      "    yh = np.squeeze(np.dot(amat,ncx.column(x0))**2) + true_sigma**2 * df\n",
      "    return nla.norm(np.squeeze(y0)-np.squeeze(yh))**2\n",
      "\n",
      "# NNLS after removing noise floor\n",
      "yflo = y - est_sigma**2*df; yflo[yflo < 0] = 0\n",
      "bt_fnnls = np.squeeze(spo.nnls(amat,np.squeeze(np.sqrt(yflo)))[0])\n",
      "mu_fnnls = np.dot(amat,bt_fnnls)\n",
      "yh_fnnls = du.column(mu_fnnls**2) + est_sigma**2*df\n",
      "mse_fnnls = nla.norm(np.squeeze(y0) - np.squeeze(yh_fnnls))**2\n",
      "if plotsignal:\n",
      "    print mse_fnnls, loss_emd(bt_fnnls)\n",
      "    #plotb(bt_fnnls)"
     ],
     "language": "python",
     "metadata": {},
     "outputs": [
      {
       "output_type": "stream",
       "stream": "stdout",
       "text": [
        "0.0462040335533 0.292074590921\n"
       ]
      }
     ],
     "prompt_number": 53
    },
    {
     "cell_type": "code",
     "collapsed": false,
     "input": [
      "# use cvxopt to solve nnls\n",
      "b = np.squeeze(np.sqrt(yflo))\n",
      "pmat = cvx.matrix(2.0*np.dot(amat.T,amat))\n",
      "qvec = cvx.matrix(-2.0*np.squeeze(np.dot(b.T,amat)))\n",
      "qmat = cvx.matrix(-np.eye(pp))\n",
      "hvec = cvx.matrix(np.zeros(pp))\n",
      "res = cvx.solvers.qp(pmat,qvec,qmat,hvec)\n",
      "bt_nnls = np.squeeze(np.array(res['x']))\n",
      "bt_nnls[bt_nnls < 1e-3] = 0\n",
      "mu_nnls = np.dot(amat,bt_nnls)\n",
      "yh_nnls = du.column(mu_nnls**2) + est_sigma**2*df\n",
      "mse_nnls = nla.norm(np.squeeze(y0) - np.squeeze(yh_nnls))**2\n",
      "if plotsignal:\n",
      "    print mse_nnls, loss_emd(bt_nnls)"
     ],
     "language": "python",
     "metadata": {},
     "outputs": [
      {
       "output_type": "stream",
       "stream": "stdout",
       "text": [
        "     pcost       dcost       gap    pres   dres\n",
        " 0: -4.8535e+01 -4.9686e+01  6e+02  2e+01  1e-02\n",
        " 1: -4.8518e+01 -4.9668e+01  9e+00  3e-01  2e-04"
       ]
      },
      {
       "output_type": "stream",
       "stream": "stdout",
       "text": [
        "\n",
        " 2: -4.8483e+01 -4.9080e+01  1e+00  2e-02  1e-05"
       ]
      },
      {
       "output_type": "stream",
       "stream": "stdout",
       "text": [
        "\n",
        " 3: -4.8488e+01 -4.8655e+01  2e-01  3e-03  2e-06"
       ]
      },
      {
       "output_type": "stream",
       "stream": "stdout",
       "text": [
        "\n",
        " 4: -4.8498e+01 -4.8598e+01  1e-01  1e-03  6e-07"
       ]
      },
      {
       "output_type": "stream",
       "stream": "stdout",
       "text": [
        "\n",
        " 5: -4.8508e+01 -4.8535e+01  3e-02  2e-04  1e-07"
       ]
      },
      {
       "output_type": "stream",
       "stream": "stdout",
       "text": [
        "\n",
        " 6: -4.8514e+01 -4.8525e+01  1e-02  1e-05  7e-09"
       ]
      },
      {
       "output_type": "stream",
       "stream": "stdout",
       "text": [
        "\n",
        " 7: -4.8517e+01 -4.8521e+01  4e-03  2e-06  1e-09"
       ]
      },
      {
       "output_type": "stream",
       "stream": "stdout",
       "text": [
        "\n",
        " 8: -4.8519e+01 -4.8520e+01  1e-03  2e-07  1e-10"
       ]
      },
      {
       "output_type": "stream",
       "stream": "stdout",
       "text": [
        "\n",
        " 9: -4.8519e+01 -4.8520e+01  7e-04  4e-08  2e-11"
       ]
      },
      {
       "output_type": "stream",
       "stream": "stdout",
       "text": [
        "\n",
        "10: -4.8519e+01 -4.8520e+01  1e-04  7e-09  4e-12"
       ]
      },
      {
       "output_type": "stream",
       "stream": "stdout",
       "text": [
        "\n",
        "11: -4.8519e+01 -4.8520e+01  3e-05  5e-10  3e-13"
       ]
      },
      {
       "output_type": "stream",
       "stream": "stdout",
       "text": [
        "\n",
        "Optimal solution found.\n",
        "0.0426049107862 0.292076289654\n"
       ]
      }
     ],
     "prompt_number": 54
    },
    {
     "cell_type": "code",
     "collapsed": false,
     "input": [
      "# use CVXopt to solve CSD\n",
      "b = np.squeeze(np.sqrt(yflo))\n",
      "pmat = cvx.matrix(2.0*np.dot(amat_rsh.T,amat_rsh))\n",
      "qvec = cvx.matrix(-2.0*np.squeeze(np.dot(b.T,amat_rsh)))\n",
      "qmat = cvx.matrix(-rsh)\n",
      "hvec = cvx.matrix(np.zeros(pp))\n",
      "res = cvx.solvers.qp(pmat,qvec,qmat,hvec)"
     ],
     "language": "python",
     "metadata": {},
     "outputs": [
      {
       "output_type": "stream",
       "stream": "stdout",
       "text": [
        "     pcost       dcost       gap    pres   dres\n",
        " 0: -4.8533e+01 -4.9687e+01  6e+02  2e+01  1e-02\n",
        " 1: -4.8517e+01 -4.9670e+01  9e+00  3e-01  2e-04\n",
        " 2: -4.8482e+01 -4.9080e+01  1e+00  2e-02  1e-05\n",
        " 3: -4.8476e+01 -4.8654e+01  2e-01  4e-03  2e-06\n",
        " 4: -4.8478e+01 -4.8545e+01  7e-02  8e-04  4e-07\n",
        " 5: -4.8484e+01 -4.8506e+01  2e-02  2e-04  1e-07\n",
        " 6: -4.8485e+01 -4.8493e+01  8e-03  5e-05  3e-08\n",
        " 7: -4.8486e+01 -4.8489e+01  3e-03  1e-05  9e-09\n",
        " 8: -4.8486e+01 -4.8487e+01  1e-03  4e-06  2e-09\n",
        " 9: -4.8486e+01 -4.8486e+01  4e-04  2e-07  1e-10\n",
        "10: -4.8486e+01 -4.8486e+01  1e-04  2e-08  1e-11\n",
        "11: -4.8486e+01 -4.8486e+01  2e-05  4e-09  2e-12\n",
        "Optimal solution found.\n"
       ]
      }
     ],
     "prompt_number": 55
    },
    {
     "cell_type": "code",
     "collapsed": false,
     "input": [
      "gamma_csd = np.squeeze(np.array(res['x']))\n",
      "bt_csd = np.squeeze(np.dot(rsh,gamma_csd))\n",
      "#bt_csd[bt_csd < 1e-3] = 0\n",
      "mu_csd = np.dot(amat_rsh,gamma_csd)\n",
      "#mu_csd = np.dot(amat,bt_csd)\n",
      "yh_csd = du.column(mu_csd**2) + est_sigma**2*df\n",
      "mse_csd = nla.norm(np.squeeze(y0) - np.squeeze(yh_csd))**2\n",
      "if plotsignal:\n",
      "    print mse_csd#, loss_emd(bt_csd)"
     ],
     "language": "python",
     "metadata": {},
     "outputs": [
      {
       "output_type": "stream",
       "stream": "stdout",
       "text": [
        "0.0172553496721\n"
       ]
      }
     ],
     "prompt_number": 60
    },
    {
     "cell_type": "code",
     "collapsed": false,
     "input": [
      "bt_csd"
     ],
     "language": "python",
     "metadata": {},
     "outputs": [
      {
       "metadata": {},
       "output_type": "pyout",
       "prompt_number": 61,
       "text": [
        "array([  3.75607946e-08,   5.58546248e-03,   1.58776367e-04,\n",
        "         4.01862035e-03,   2.88644566e-08,   1.35708942e-05,\n",
        "         9.86030505e-03,   1.49261356e-02,   1.58423322e-02,\n",
        "         9.76651766e-03,   2.60583389e-03,   1.04002355e-08,\n",
        "         1.43260675e-03,   5.73493220e-03,   7.16414799e-03,\n",
        "         2.90616321e-03,   1.33044749e-03,   1.25439740e-04,\n",
        "         2.47802826e-04,   3.81452613e-04,   1.39050303e-04,\n",
        "         5.94822868e-04,   9.71889910e-04,   7.66672131e-09,\n",
        "         1.34775814e-04,   2.28920032e-08,   5.09576130e-04,\n",
        "         2.43106545e-03,   4.59971116e-03,   1.83028381e-03,\n",
        "         5.83461337e-04,   7.12737264e-09,   7.38177041e-06,\n",
        "         2.37689625e-05,   6.90597594e-03,   5.11829011e-03,\n",
        "         2.18461144e-03,   6.46549150e-06,   5.78415772e-05,\n",
        "         2.22825445e-05,   1.76428465e-04,   2.07775084e-03,\n",
        "         3.46084633e-05,   1.51217856e-04,   3.41866877e-05,\n",
        "         4.26034652e-05,   2.44015354e-04,   2.69240821e-04,\n",
        "         5.36007743e-04,   3.63013133e-04,   3.94342665e-05,\n",
        "         8.73933725e-05,   7.25003731e-08,   1.94967820e-04,\n",
        "         1.17596902e-03,   2.79718671e-03,   3.82295794e-03,\n",
        "         7.05144552e-03,   8.75064890e-03,   8.80996013e-03,\n",
        "         6.12897906e-03,   4.67710278e-03,   9.65061762e-05,\n",
        "         5.61788831e-05,   1.02067663e-08,   3.60846589e-05,\n",
        "         1.03442745e-05,   1.59020691e-04,   4.89471869e-06,\n",
        "         6.92886663e-05,   2.28521451e-08,   2.36280978e-04,\n",
        "         1.36363294e-03,   3.22475958e-03,   3.24745385e-05,\n",
        "         1.94311951e-08,   7.27486959e-05,   7.31091001e-05,\n",
        "         6.93900864e-06,   8.86230018e-05,   1.10370599e-04,\n",
        "         4.05562709e-04,   2.42133589e-03,   6.72578440e-03,\n",
        "         1.02152547e-02,   5.26417015e-03,   1.21699887e-02,\n",
        "         1.70670505e-02,   1.27988410e-02,   1.81473201e-02,\n",
        "         1.07327495e-02,   8.28462076e-04,   4.84080766e-05,\n",
        "         7.18302022e-05,   9.47060037e-05,   1.19090671e-04,\n",
        "         2.14022446e-04,   1.41685794e-03,   7.37332517e-08,\n",
        "         2.59037941e-03,   1.06279368e-03,   8.89228480e-04,\n",
        "         1.55728638e-08,   5.73393837e-04,   1.95041591e-08,\n",
        "         8.41443295e-03,   2.23267009e-03,   4.73193324e-08,\n",
        "         7.88137624e-03,   4.35568730e-05,   1.07464178e-03,\n",
        "         3.87640954e-03,   2.16878147e-04,   2.48943354e-04,\n",
        "         3.11886775e-04,   1.40838362e-04,   2.70203715e-05,\n",
        "         4.84516531e-08,   1.30217735e-04,   2.45746665e-04,\n",
        "         1.68835464e-04,   6.93198656e-06,   4.47821578e-05,\n",
        "         6.67348999e-04,   3.09144115e-04,   3.92882402e-04,\n",
        "         1.64398100e-04,   2.41656003e-08,   1.68260407e-04,\n",
        "         4.43593531e-04,   1.60152513e-04,   3.05055007e-04,\n",
        "         4.79806048e-04,   2.62456942e-04,   1.55475870e-03,\n",
        "         5.46695698e-04,   4.03525964e-05,   1.88575167e-04,\n",
        "         1.33661451e-04,   3.09840198e-05,   3.75984499e-04,\n",
        "         4.15569778e-05,   1.98291648e-04,   5.97025742e-05,\n",
        "         1.06564248e-02,   4.96888194e-03,   1.46075975e-03,\n",
        "         1.84837038e-04,   6.91015665e-03,   9.94629716e-03,\n",
        "         1.05629759e-02,   6.82007563e-03,   7.52442864e-03,\n",
        "         2.02318785e-03,   4.59425824e-05,   9.29379452e-06,\n",
        "         3.79588696e-04,   2.03615600e-03,   9.09543357e-05,\n",
        "         1.02303400e-03,   3.43095790e-03,   1.67042009e-03,\n",
        "         5.09864118e-03,   4.60129314e-03,   6.34540901e-08,\n",
        "         4.93661784e-05,   6.10261229e-05,   2.39238412e-05,\n",
        "         1.30609701e-05,   2.12579431e-05,   1.69262155e-05,\n",
        "         1.99063066e-05,   4.06465019e-05,   3.22233539e-08,\n",
        "         2.49918360e-05,   5.88510300e-06,   1.08244815e-04,\n",
        "         1.31973202e-03,   6.12496592e-05,   1.97531522e-05,\n",
        "         1.42771500e-04,   3.30085089e-03,   7.00465856e-04,\n",
        "         5.08859704e-05,   1.29142942e-04,   7.98643915e-03,\n",
        "         4.17827515e-05,   8.72495480e-03,   6.42843024e-04,\n",
        "         2.53035617e-04,   1.35068673e-04,   1.02723084e-03,\n",
        "         2.41729782e-03,   2.00122077e-08,   2.04694381e-08,\n",
        "         5.38120708e-08,   2.15170655e-04,   1.44014234e-03,\n",
        "         2.87429863e-04,   2.54038541e-04,   4.22730289e-05,\n",
        "         5.63623577e-04,   2.03048879e-03,   6.10421196e-03,\n",
        "         6.76671788e-06,   3.40975412e-04,   2.74953488e-03,\n",
        "         4.95279628e-03,   2.45791397e-03,   1.40812622e-04,\n",
        "         2.81073736e-04,   3.67866876e-04,   1.08359884e-04,\n",
        "         2.32422316e-05,   2.20785093e-04,   2.79485550e-06,\n",
        "         2.91074353e-05,   3.48312526e-05,   7.66581199e-05,\n",
        "         9.00021662e-03,   8.03968873e-03,   4.11269469e-03,\n",
        "         4.84741120e-04,   4.83940300e-05,   1.24606474e-02,\n",
        "         1.27133547e-02,   7.16316674e-03,   1.87774109e-03,\n",
        "         1.26785275e-04,   6.19400370e-05,   1.22409673e-04,\n",
        "         1.74880869e-04,   2.83333236e-04,   2.51393881e-04,\n",
        "         8.09736255e-08,   2.13294687e-05,   1.48357617e-04,\n",
        "         8.43960561e-05,   3.86041369e-05,   3.28150948e-05,\n",
        "         9.10593040e-08,   2.82790393e-05,   3.42807425e-05,\n",
        "         3.17218589e-03,   2.64291108e-04,   1.99225124e-05,\n",
        "         2.58741853e-05,   9.35521141e-04,   4.12462986e-03,\n",
        "         7.67732936e-03,   1.94861403e-04,   1.96998605e-05,\n",
        "         3.10550282e-05,   6.27358116e-05,   5.76600841e-03,\n",
        "         7.28589168e-03,   9.64204913e-03,   9.45034022e-03,\n",
        "         1.25162070e-05,   5.15052842e-04,   2.94447097e-03,\n",
        "         5.47272138e-03,   4.42425903e-04,   1.21113159e-03,\n",
        "         3.43344200e-03,   6.68387310e-03,   2.42468781e-04,\n",
        "         1.27386104e-03,   8.98212509e-04,   6.02104027e-05,\n",
        "         5.60282925e-05,   4.37630225e-06,   1.49893533e-08,\n",
        "         6.15251826e-05,   3.91310522e-04,   1.02407585e-03,\n",
        "         5.15720718e-04,   3.72953391e-04,   5.92886649e-05,\n",
        "         7.38568656e-05,   4.14055897e-04,   2.38212887e-04,\n",
        "         7.33247418e-05,   2.85349092e-05,   4.96238028e-06,\n",
        "         3.80078932e-04,   5.24104649e-08,   2.29069430e-05,\n",
        "         5.12262749e-04,   2.80091917e-05,   4.28167250e-03,\n",
        "         7.64458413e-04,   2.85486911e-03,   1.38437429e-03,\n",
        "         6.32144539e-05,   1.39396769e-06,   5.59358450e-04,\n",
        "         3.31414755e-04,   1.47509163e-03,   2.75602841e-03,\n",
        "         9.57355020e-03,   1.72484269e-02,   1.66100171e-02,\n",
        "         8.91432822e-03,   1.64917126e-02,   1.62734112e-02,\n",
        "         9.34680605e-03,   9.37740175e-03,   2.26951608e-03,\n",
        "         1.25115197e-04,   2.02892610e-04,   1.10189054e-04,\n",
        "         9.53560194e-09,   1.93067304e-08,   1.12073131e-04,\n",
        "         6.53538974e-04,   1.71072662e-03,   4.00741431e-03,\n",
        "         7.54730874e-03,   2.81151557e-04,   4.84910498e-04,\n",
        "         2.71586969e-04,   8.47587352e-09,   4.05674796e-04,\n",
        "         2.88990591e-04,   8.60131980e-06,   3.07770945e-05,\n",
        "         6.73553563e-09,   1.95430763e-04,   1.57116047e-04,\n",
        "         2.84739232e-06,   6.96352590e-05,   2.80221749e-05,\n",
        "         1.54405573e-05,   3.36020015e-05,   1.71590610e-05,\n",
        "         2.74437120e-05,   6.10960320e-09,   3.91691078e-05,\n",
        "         3.30192699e-05,   1.03254476e-04,   4.96302661e-05,\n",
        "         2.77165518e-08,   3.24377159e-03,   6.75438339e-08,\n",
        "         4.51492726e-03,   2.05719352e-04,   1.33589663e-03,\n",
        "         3.93910176e-03,   6.25781889e-03,   2.39186336e-03,\n",
        "         5.92273706e-03,   8.46429739e-03,   7.18452329e-03,\n",
        "         1.07110122e-02,   9.06774997e-03,   5.14436492e-05,\n",
        "         6.65645670e-06,   4.91540492e-09,   1.66134768e-04,\n",
        "         5.81569549e-04,   1.91693673e-03,   3.63058237e-04,\n",
        "         2.75432284e-06,   1.67549985e-06,   1.10138218e-02,\n",
        "         4.72023273e-03,   1.19845237e-07,   3.24864664e-07,\n",
        "         6.29257160e-05,   6.96893767e-05,   1.91115072e-04,\n",
        "         4.75619521e-04,   6.50493410e-05,   6.34403804e-05,\n",
        "         1.74926330e-08,   1.40188653e-04,   3.75936648e-04,\n",
        "         3.35737102e-03,   5.50891626e-05,   2.25163886e-04,\n",
        "         7.00598191e-05,   6.32161813e-05,   1.39927180e-03,\n",
        "         6.73996612e-05,   4.43366055e-05,   1.31919387e-06,\n",
        "         8.09036016e-05,   1.94387888e-04,   5.46701648e-09,\n",
        "         2.66744556e-05,   3.79011775e-06,   2.13665079e-04,\n",
        "         9.07364844e-07,   3.07005284e-05,   5.68056987e-05,\n",
        "         1.04381229e-05,   5.71991473e-07,   7.06937192e-03,\n",
        "         3.02897391e-03,   7.17942175e-04,   5.63715862e-05,\n",
        "         1.40313487e-06,   3.51558864e-03,   2.40799665e-03,\n",
        "         2.79927357e-03,   5.19308389e-03,   8.48040432e-03,\n",
        "         3.34044641e-08,   6.64575376e-09,   2.40082681e-04,\n",
        "         1.24239906e-03,   2.97769096e-03,   8.49921729e-05,\n",
        "         1.00313620e-04,   2.90269234e-05,   1.03944953e-08,\n",
        "         4.26816923e-05,   3.48910192e-08,   4.10262149e-03,\n",
        "         1.50335804e-03,   2.17717697e-04,   4.58239464e-04,\n",
        "         3.20776407e-04,   3.28282711e-06,   2.43527705e-06,\n",
        "         8.76381600e-06,   6.99001395e-04,   2.04620383e-04,\n",
        "         6.49743281e-03,   1.57365818e-02,   1.64667791e-02,\n",
        "         3.88817166e-08,   1.97520787e-08,   4.78768189e-03,\n",
        "         1.50442846e-02,   1.69777109e-02,   1.78192863e-03,\n",
        "         7.69019498e-03,   1.05714443e-02,   8.37996804e-03,\n",
        "         7.58405745e-03,   7.35436452e-03,   1.83045605e-04,\n",
        "         4.00986965e-04,   3.54204777e-04,   7.65683530e-05,\n",
        "         2.56521433e-04,   5.07118916e-04,   3.22927295e-04,\n",
        "         2.73973230e-04,   3.05102823e-04,   4.67610940e-04,\n",
        "         9.81808679e-04,   6.74985739e-05,   1.08286250e-05,\n",
        "         3.23803576e-05,   9.25028808e-05,   2.80799512e-04,\n",
        "         1.07602297e-04,   2.33099943e-04,   5.44776950e-05,\n",
        "         4.14148352e-07,   6.45362266e-04,   3.11199673e-04,\n",
        "         6.51393508e-04,   1.73027583e-03,   1.09165788e-08,\n",
        "         4.92873394e-05,   1.05039406e-08,   1.48143050e-04,\n",
        "         2.42180159e-04,   2.77971721e-05,   1.23143886e-04,\n",
        "         3.96625261e-08,   5.48693011e-05,   5.12560124e-04,\n",
        "         8.21014690e-06,   4.54033046e-05,   1.62049116e-05,\n",
        "         3.39895802e-05,   3.77573995e-05,   1.51418847e-06,\n",
        "         7.19348919e-06,   7.10646037e-06,   2.41921299e-09,\n",
        "         7.53752065e-05,   3.41050869e-05,   7.26510691e-05,\n",
        "         2.04169062e-05,   8.17660341e-07,   3.23682665e-05,\n",
        "         1.15858416e-04,   3.37391105e-04,   2.27384875e-03,\n",
        "         8.34805240e-03,   4.82181571e-04,   2.64386554e-03,\n",
        "         5.06409694e-04,   2.50347790e-03,   2.36863738e-04,\n",
        "         1.68499233e-08,   5.40514555e-08,   6.09387991e-04,\n",
        "         5.93583782e-04,   1.11214434e-03,   1.77458790e-03,\n",
        "         9.27751317e-03,   1.12601973e-02,   9.71619066e-03,\n",
        "         2.55494581e-03,   1.99676329e-04,   5.06676445e-03,\n",
        "         3.38713632e-03,   2.21334857e-04,   1.25265460e-03,\n",
        "         3.49188563e-04,   7.87479893e-05,   9.44624615e-04,\n",
        "         6.11340716e-08,   8.31771377e-03,   1.83115614e-02,\n",
        "         1.16146337e-03,   3.78719100e-04,   9.32200934e-03,\n",
        "         6.51313958e-04,   4.01272206e-04,   5.11995133e-04,\n",
        "         6.58562174e-03,   7.89093168e-03,   4.76769014e-03,\n",
        "         6.99282367e-04,   5.31312418e-03,   6.31264236e-03,\n",
        "         2.87223837e-03,   7.67406644e-03,   9.70986689e-03,\n",
        "         1.28742608e-02,   1.03356753e-02,   8.96114630e-03,\n",
        "         1.20706787e-07,   1.22007975e-03,   4.23611013e-03])"
       ]
      }
     ],
     "prompt_number": 61
    },
    {
     "cell_type": "code",
     "collapsed": false,
     "input": [],
     "language": "python",
     "metadata": {},
     "outputs": []
    }
   ],
   "metadata": {}
  }
 ]
}