{
 "metadata": {
  "name": "",
  "signature": "sha256:aa13da7ae941e1e7d33a61325358dafbed17ef2c0b087218e753a95762474330"
 },
 "nbformat": 3,
 "nbformat_minor": 0,
 "worksheets": [
  {
   "cells": [
    {
     "cell_type": "heading",
     "level": 3,
     "metadata": {},
     "source": [
      "Fitting Spherical Harmonics"
     ]
    },
    {
     "cell_type": "code",
     "collapsed": false,
     "input": [
      "import os\n",
      "import numpy as np\n",
      "import numpy.random as npr\n",
      "import numpy.linalg as nla\n",
      "import scipy as sp\n",
      "import scipy.stats as spst\n",
      "import scipy.special as sps\n",
      "import matplotlib.pyplot as plt\n",
      "import numpy.random as npr\n",
      "import scipy.optimize as spo\n",
      "import matplotlib as mpl\n",
      "from mpl_toolkits.mplot3d import Axes3D\n",
      "os.chdir(\"..\")\n",
      "import donuts.deconv.utils as du\n",
      "import donuts.deconv.ncx as ncx"
     ],
     "language": "python",
     "metadata": {},
     "outputs": [],
     "prompt_number": 1
    },
    {
     "cell_type": "code",
     "collapsed": false,
     "input": [
      "import cvxopt as cvx"
     ],
     "language": "python",
     "metadata": {},
     "outputs": [
      {
       "output_type": "stream",
       "stream": "stderr",
       "text": [
        "/usr/local/lib/python2.7/dist-packages/setuptools-7.0-py2.7.egg/pkg_resources.py:1045: UserWarning: /home/snarles/.python-eggs is writable by group/others and vulnerable to attack when used with get_resource_filename. Consider a more secure location (set with .set_extraction_path or the PYTHON_EGG_CACHE environment variable).\n",
        "  warnings.warn(msg, UserWarning)\n"
       ]
      }
     ],
     "prompt_number": 2
    },
    {
     "cell_type": "code",
     "collapsed": false,
     "input": [
      "\n",
      "def tncsolve(amat,ls,x0,lb=0.0,ft = 1e-3): # use TNC to solve, lb = lower bound\n",
      "    def f(x0):\n",
      "        yh = np.dot(amat,x0)\n",
      "        return sum(np.array([ls[i](yh[i])[0] for i in range(len(yh))]))\n",
      "    def fprime(x0):\n",
      "        yh = np.dot(amat,x0)\n",
      "        rawg= np.array([ls[i](yh[i])[1] for i in range(len(yh))])\n",
      "        return np.dot(rawg.T,amat)\n",
      "    bounds = [(lb,100.0)] * len(x0)\n",
      "    res = spo.fmin_tnc(f,np.squeeze(x0),fprime=fprime,bounds=bounds,ftol=ft)\n",
      "    return res[0]\n",
      "\n",
      "def slsqpsolve(amat,ls,qmat,x0,ft = 1e-3): # use TNC to solve, lb = lower bound\n",
      "    def f(x0):\n",
      "        yh = np.dot(amat,x0)\n",
      "        return sum(np.array([ls[i](yh[i])[0] for i in range(len(yh))]))\n",
      "    def fprime(x0):\n",
      "        yh = np.dot(amat,x0)\n",
      "        rawg= np.array([ls[i](yh[i])[1] for i in range(len(yh))])\n",
      "        return np.dot(rawg.T,amat)\n",
      "    ieqcons = [lambda x, q=q: sum(q * x) for q in qmat]\n",
      "    ieqprime = [lambda q=q: q for q in qmat]\n",
      "    res = spo.fmin_slsqp(f,np.squeeze(x0),ieqcons=ieqcons,fprime=fprime,fprime_ieqcons = ieqprime,acc=ft)\n",
      "    return res\n",
      "\n",
      "def likelihood_func(ls,amat):\n",
      "    def lk(x0):\n",
      "        yh = np.dot(amat,np.reshape(x0,(-1,1)))\n",
      "        return sum([ls[ii](yh[ii])[0] for ii in range(len(ls))])\n",
      "    return lk\n"
     ],
     "language": "python",
     "metadata": {},
     "outputs": [],
     "prompt_number": 4
    },
    {
     "cell_type": "code",
     "collapsed": false,
     "input": [
      "bvecs = du.georandsphere(4,1)\n",
      "n = np.shape(bvecs)[0]\n",
      "sgrid0 = du.georandsphere(3,1)\n",
      "sgrid0 = sgrid0[sgrid0[:,2] > 0,:]\n",
      "sgrid = du.georandsphere(5,2)\n",
      "sgrid = sgrid[sgrid[:,2] > 0,:]\n",
      "pp0 = np.shape(sgrid0)[0]\n",
      "pp = np.shape(sgrid)[0]\n",
      "rsh = du.rsh_basis(sgrid,15)\n",
      "pp_rsh = np.shape(rsh)[1]\n",
      "print((n,pp,pp_rsh))\n"
     ],
     "language": "python",
     "metadata": {},
     "outputs": [
      {
       "output_type": "stream",
       "stream": "stdout",
       "text": [
        "(162, 252, 252)\n"
       ]
      }
     ],
     "prompt_number": 57
    },
    {
     "cell_type": "code",
     "collapsed": false,
     "input": [
      "# setting up measurement vectors and fitting vectors\n",
      "true_kappa = 4.0\n",
      "kappa = 4.0\n",
      "def plotb(zz=np.ones(pp)):\n",
      "    fig = plt.figure()\n",
      "    ax = fig.gca(projection='3d')\n",
      "    ax.scatter(sgrid[:,0],sgrid[:,1],sgrid[:,2])\n",
      "    ax.scatter(zz*sgrid[:,0],zz*sgrid[:,1],zz*sgrid[:,2],color=\"red\")\n",
      "    plt.show()\n",
      "# do you want plots?\n",
      "plotsignal = True\n",
      "# randomize parameters outside of loop?\n",
      "randoutside = True\n",
      "\n",
      "amat0 = du.ste_tan_kappa(sgrid0,np.sqrt(true_kappa) *bvecs)\n",
      "amat = du.ste_tan_kappa(sgrid,np.sqrt(kappa) *bvecs)\n",
      "amat_rsh = np.dot(amat, rsh)"
     ],
     "language": "python",
     "metadata": {},
     "outputs": [],
     "prompt_number": 58
    },
    {
     "cell_type": "code",
     "collapsed": false,
     "input": [
      "true_k = 1\n",
      "# randomly generate parameters\n",
      "if randoutside:\n",
      "    bt0 = np.zeros(pp0)\n",
      "    bt0[npr.randint(0,pp0-1,true_k)]=1.0/true_k"
     ],
     "language": "python",
     "metadata": {},
     "outputs": [],
     "prompt_number": 59
    },
    {
     "cell_type": "code",
     "collapsed": false,
     "input": [
      "total_sigma = 0.0\n",
      "df = 10\n",
      "true_sigma = total_sigma/np.sqrt(df)\n",
      "est_sigma = true_sigma\n",
      "\n",
      "c0 = df*true_sigma**2\n",
      "mu = np.dot(amat0,bt0)\n",
      "y0 = mu**2 + true_sigma**2*df\n",
      "y = ncx.rvs_ncx2(df,mu,0,true_sigma)\n",
      "def loss_emd(x0):\n",
      "    return du.arc_emd(sgrid0,ncx.column(bt0),sgrid,ncx.column(x0))\n",
      "def loss_mse(x0):\n",
      "    yh = np.squeeze(np.dot(amat,ncx.column(x0))**2) + true_sigma**2 * df\n",
      "    return nla.norm(np.squeeze(y0)-np.squeeze(yh))**2\n",
      "\n",
      "# NNLS after removing noise floor\n",
      "yflo = y - est_sigma**2*df; yflo[yflo < 0] = 0\n",
      "bt_fnnls = np.squeeze(spo.nnls(amat,np.squeeze(np.sqrt(yflo)))[0])\n",
      "mu_fnnls = np.dot(amat,bt_fnnls)\n",
      "yh_fnnls = du.column(mu_fnnls**2) + est_sigma**2*df\n",
      "mse_fnnls = nla.norm(np.squeeze(y0) - np.squeeze(yh_fnnls))**2\n",
      "if plotsignal:\n",
      "    print mse_fnnls, loss_emd(bt_fnnls)\n",
      "    #plotb(bt_fnnls)"
     ],
     "language": "python",
     "metadata": {},
     "outputs": [
      {
       "output_type": "stream",
       "stream": "stdout",
       "text": [
        "0.00862448907154 0.0679467022419\n"
       ]
      }
     ],
     "prompt_number": 60
    },
    {
     "cell_type": "code",
     "collapsed": false,
     "input": [
      "# use CVXopt to solve CSD\n",
      "b = np.squeeze(np.sqrt(yflo))\n",
      "pmat = cvx.matrix(2.0*np.dot(amat_rsh.T,amat_rsh))\n",
      "qvec = cvx.matrix(-2.0*np.squeeze(np.dot(b.T,amat_rsh)))\n",
      "qmat = cvx.matrix(-rsh)\n",
      "hvec = cvx.matrix(np.zeros(pp))\n",
      "res = cvx.solvers.qp(pmat,qvec,qmat,hvec)\n",
      "gamma_csd = np.squeeze(np.array(res['x']))\n",
      "bt_csd = np.squeeze(np.dot(rsh,gamma_csd))\n",
      "#bt_csd[bt_csd < 1e-3] = 0\n",
      "mu_csd = np.dot(amat_rsh,gamma_csd)\n",
      "#mu_csd = np.dot(amat,bt_csd)\n",
      "yh_csd = du.column(mu_csd**2) + est_sigma**2*df\n",
      "mse_csd = nla.norm(np.squeeze(y0) - np.squeeze(yh_csd))**2\n",
      "if plotsignal:\n",
      "    print mse_csd, loss_emd(bt_csd)"
     ],
     "language": "python",
     "metadata": {},
     "outputs": [
      {
       "output_type": "stream",
       "stream": "stdout",
       "text": [
        "     pcost       dcost       gap    pres   dres\n",
        " 0: -5.1307e+01 -5.2326e+01  3e+02  2e+01  2e-02\n",
        " 1: -5.1278e+01 -5.2164e+01  7e+00  3e-01  4e-04\n",
        " 2: -5.1227e+01 -5.1408e+01  1e+00  7e-02  7e-05\n",
        " 3: -5.1250e+01 -5.1401e+01  8e-01  3e-02  3e-05"
       ]
      },
      {
       "output_type": "stream",
       "stream": "stdout",
       "text": [
        "\n",
        " 4: -5.1276e+01 -5.1338e+01  2e-01  6e-03  6e-06\n",
        " 5: -5.1294e+01 -5.1319e+01  4e-02  9e-04  1e-06\n",
        " 6: -5.1306e+01 -5.1312e+01  6e-03  3e-16  1e-16\n",
        " 7: -5.1311e+01 -5.1311e+01  6e-04  5e-16  6e-17"
       ]
      },
      {
       "output_type": "stream",
       "stream": "stdout",
       "text": [
        "\n",
        " 8: -5.1311e+01 -5.1311e+01  2e-05  5e-16  1e-16\n",
        "Optimal solution found.\n",
        "0.00859681691218 0.0680714175105\n"
       ]
      }
     ],
     "prompt_number": 61
    },
    {
     "cell_type": "code",
     "collapsed": false,
     "input": [
      "# get the nonlinear Gaussian approximation\n",
      "\n",
      "ls_gauss = [ncx.ncxloss_gauss(yy,df,est_sigma) for yy in y]\n",
      "lk_gauss = likelihood_func(ls_gauss,amat)\n",
      "bt_gauss =tncsolve(amat,ls_gauss,np.array(bt_fnnls),0.0,1e-6)\n",
      "mu_gauss = np.dot(amat,bt_gauss)\n",
      "yh_gauss = mu_gauss**2 + c0\n",
      "mse_gauss =  nla.norm(np.squeeze(y0) - np.squeeze(yh_gauss))**2\n",
      "if plotsignal:\n",
      "    print loss_mse(bt_gauss), loss_emd(bt_gauss), lk_gauss(bt_gauss), sum(bt_gauss > 0)"
     ],
     "language": "python",
     "metadata": {},
     "outputs": [
      {
       "output_type": "stream",
       "stream": "stdout",
       "text": [
        "0.0647017839578 0.0359607078135 [-250.38031699] 5\n"
       ]
      }
     ],
     "prompt_number": 191
    },
    {
     "cell_type": "code",
     "collapsed": false,
     "input": [
      "# use slsqp to get the CSD\n",
      "qmat = rsh\n",
      "x0 = np.array(gamma_csd)\n",
      "ft = 1e-3\n",
      "ls = [ncx.ncxloss_gauss(yy,df,est_sigma) for yy in y]\n",
      "gamma_gcsd = slsqpsolve(amat_rsh,ls,qmat,x0,ft = 1e-4)\n",
      "bt_gcsd = np.squeeze(np.dot(rsh,gamma_gcsd))\n",
      "if plotsignal:\n",
      "    print loss_mse(bt_gcsd), loss_emd(bt_gcsd), lk_gauss(bt_gcsd), sum(bt_gcsd > 0), sum(bt_gcsd < 0)"
     ],
     "language": "python",
     "metadata": {},
     "outputs": [
      {
       "output_type": "stream",
       "stream": "stdout",
       "text": [
        "Optimization terminated successfully.    (Exit mode 0)\n",
        "            Current function value: -250.380334531\n",
        "            Iterations: 10\n",
        "            Function evaluations: 27\n",
        "            Gradient evaluations: 10\n",
        "0.0646978271824 0.0359539687634 [-250.38033453] 33 48\n"
       ]
      }
     ],
     "prompt_number": 192
    },
    {
     "cell_type": "code",
     "collapsed": false,
     "input": [
      "%timeit slsqpsolve(amat_rsh,ls,qmat,x0,ft = 1e-4)"
     ],
     "language": "python",
     "metadata": {},
     "outputs": [
      {
       "output_type": "stream",
       "stream": "stdout",
       "text": [
        "Optimization terminated successfully.    (Exit mode 0)\n",
        "            Current function value: -191.25889512\n",
        "            Iterations: 27\n",
        "            Function evaluations: 76\n",
        "            Gradient evaluations: 27\n",
        "Optimization terminated successfully.    (Exit mode 0)"
       ]
      },
      {
       "output_type": "stream",
       "stream": "stdout",
       "text": [
        "\n",
        "            Current function value: -191.25889512\n",
        "            Iterations: 27\n",
        "            Function evaluations: 76\n",
        "            Gradient evaluations: 27\n",
        "Optimization terminated successfully.    (Exit mode 0)"
       ]
      },
      {
       "output_type": "stream",
       "stream": "stdout",
       "text": [
        "\n",
        "            Current function value: -191.25889512\n",
        "            Iterations: 27\n",
        "            Function evaluations: 76\n",
        "            Gradient evaluations: 27\n",
        "Optimization terminated successfully.    (Exit mode 0)"
       ]
      },
      {
       "output_type": "stream",
       "stream": "stdout",
       "text": [
        "\n",
        "            Current function value: -191.25889512\n",
        "            Iterations: 27\n",
        "            Function evaluations: 76\n",
        "            Gradient evaluations: 27\n",
        "1 loops, best of 3: 9.85 s per loop\n"
       ]
      }
     ],
     "prompt_number": 162
    },
    {
     "cell_type": "code",
     "collapsed": false,
     "input": [
      "%timeit tncsolve(amat,ls_gauss,np.array(bt_fnnls),0.0,1e-5)"
     ],
     "language": "python",
     "metadata": {},
     "outputs": [
      {
       "output_type": "stream",
       "stream": "stdout",
       "text": [
        "1 loops, best of 3: 3.73 s per loop\n"
       ]
      }
     ],
     "prompt_number": 150
    },
    {
     "cell_type": "heading",
     "level": 5,
     "metadata": {},
     "source": [
      "try a new basis"
     ]
    },
    {
     "cell_type": "code",
     "collapsed": false,
     "input": [
      "np.shape(r)"
     ],
     "language": "python",
     "metadata": {},
     "outputs": [
      {
       "metadata": {},
       "output_type": "pyout",
       "prompt_number": 212,
       "text": [
        "(162, 181)"
       ]
      }
     ],
     "prompt_number": 212
    },
    {
     "cell_type": "code",
     "collapsed": false,
     "input": [
      "plt.scatter(np.array(range(n)),np.cumsum(np.array([nla.norm(rr) for rr in r])))\n",
      "plt.show()"
     ],
     "language": "python",
     "metadata": {},
     "outputs": [],
     "prompt_number": 223
    },
    {
     "cell_type": "code",
     "collapsed": false,
     "input": [
      "q,r = nla.qr(amat.T)\n",
      "qs = q[:,range(150)]\n",
      "amat_q = np.dot(amat,qs)\n",
      "qmat = qs\n",
      "b = np.squeeze(np.sqrt(yflo))\n",
      "pmat = cvx.matrix(2.0*np.dot(amat_q.T,amat_q))\n",
      "qvec = cvx.matrix(-2.0*np.squeeze(np.dot(b.T,amat_q)))\n",
      "qmat = cvx.matrix(-qs)\n",
      "hvec = cvx.matrix(np.zeros(pp))\n",
      "res = cvx.solvers.qp(pmat,qvec,qmat,hvec)\n",
      "gamma_qs = np.squeeze(np.array(res['x']))\n",
      "bt_qs = np.squeeze(np.dot(qs,gamma_qs))\n",
      "#bt_csd[bt_csd < 1e-3] = 0\n",
      "mu_qs = np.dot(amat_q,gamma_qs)\n",
      "#mu_csd = np.dot(amat,bt_csd)\n",
      "yh_qs = du.column(mu_qs**2) + est_sigma**2*df\n",
      "mse_qs = nla.norm(np.squeeze(y0) - np.squeeze(yh_qs))**2\n",
      "if plotsignal:\n",
      "    print mse_qs, loss_emd(bt_qs)"
     ],
     "language": "python",
     "metadata": {},
     "outputs": [
      {
       "output_type": "stream",
       "stream": "stdout",
       "text": [
        "     pcost       dcost       gap    pres   dres\n",
        " 0: -5.0595e+01 -5.1526e+01  2e+02  1e+01  2e-02\n",
        " 1: -5.0507e+01 -5.1280e+01  8e+00  5e-01  6e-04\n",
        " 2: -5.0372e+01 -5.0368e+01  1e+00  8e-02  1e-04\n",
        " 3: -5.0146e+01 -5.0023e+01  5e-01  3e-02  4e-05\n",
        " 4: -4.9984e+01 -4.9866e+01  3e-01  1e-02  2e-05\n",
        " 5: -4.9850e+01 -4.9784e+01  1e-01  5e-03  7e-06\n",
        " 6: -4.9751e+01 -4.9744e+01  5e-02  1e-03  1e-06\n",
        " 7: -4.9734e+01 -4.9738e+01  2e-02  3e-04  4e-07"
       ]
      },
      {
       "output_type": "stream",
       "stream": "stdout",
       "text": [
        "\n",
        " 8: -4.9732e+01 -4.9734e+01  4e-03  4e-05  5e-08\n",
        " 9: -4.9733e+01 -4.9734e+01  5e-04  4e-06  5e-09\n",
        "10: -4.9733e+01 -4.9733e+01  7e-06  5e-08  6e-11\n",
        "Optimal solution found.\n",
        "0.668907870554 0.245599776506\n"
       ]
      }
     ],
     "prompt_number": 233
    },
    {
     "cell_type": "code",
     "collapsed": false,
     "input": [
      "\n",
      "\n",
      "ft = 1e-3\n",
      "ls = [ncx.ncxloss_gauss(yy,df,est_sigma) for yy in y]\n",
      "gamma_gcsd = slsqpsolve(amat_rsh,ls,qmat,x0,ft = 1e-4)\n",
      "bt_gcsd = np.squeeze(np.dot(rsh,gamma_gcsd))\n",
      "if plotsignal:\n",
      "    print loss_mse(bt_gcsd), loss_emd(bt_gcsd), lk_gauss(bt_gcsd), sum(bt_gcsd > 0), sum(bt_gcsd < 0)"
     ],
     "language": "python",
     "metadata": {},
     "outputs": []
    }
   ],
   "metadata": {}
  }
 ]
}