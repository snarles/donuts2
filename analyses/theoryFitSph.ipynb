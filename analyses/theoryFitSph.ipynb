{
 "metadata": {
  "name": "",
  "signature": "sha256:495729e2531d96368ec66c05fedde9b56d73a103255117a2c927dd6fa8b9c5e7"
 },
 "nbformat": 3,
 "nbformat_minor": 0,
 "worksheets": [
  {
   "cells": [
    {
     "cell_type": "heading",
     "level": 3,
     "metadata": {},
     "source": [
      "Fitting Spherical Harmonics"
     ]
    },
    {
     "cell_type": "code",
     "collapsed": false,
     "input": [
      "import os\n",
      "import numpy as np\n",
      "import numpy.random as npr\n",
      "import numpy.linalg as nla\n",
      "import scipy as sp\n",
      "import scipy.stats as spst\n",
      "import scipy.special as sps\n",
      "import matplotlib.pyplot as plt\n",
      "import numpy.random as npr\n",
      "import scipy.optimize as spo\n",
      "import matplotlib as mpl\n",
      "from mpl_toolkits.mplot3d import Axes3D\n",
      "os.chdir(\"..\")\n",
      "import donuts.deconv.utils as du\n",
      "import donuts.deconv.ncx as ncx"
     ],
     "language": "python",
     "metadata": {},
     "outputs": [],
     "prompt_number": 1
    },
    {
     "cell_type": "code",
     "collapsed": false,
     "input": [
      "import cvxopt as cvx"
     ],
     "language": "python",
     "metadata": {},
     "outputs": [],
     "prompt_number": 87
    },
    {
     "cell_type": "code",
     "collapsed": false,
     "input": [
      "a = npr.normal(0,1,(4,5))"
     ],
     "language": "python",
     "metadata": {},
     "outputs": [],
     "prompt_number": 90
    },
    {
     "cell_type": "code",
     "collapsed": false,
     "input": [
      "sum(a[1,]*a[1,])"
     ],
     "language": "python",
     "metadata": {},
     "outputs": [
      {
       "metadata": {},
       "output_type": "pyout",
       "prompt_number": 103,
       "text": [
        "5.8243435012747993"
       ]
      }
     ],
     "prompt_number": 103
    },
    {
     "cell_type": "code",
     "collapsed": false,
     "input": [
      "[b for b in a][1]"
     ],
     "language": "python",
     "metadata": {},
     "outputs": [
      {
       "metadata": {},
       "output_type": "pyout",
       "prompt_number": 100,
       "text": [
        "array([-1.58338054,  0.0549229 , -0.14153157, -1.67649856, -0.69538077])"
       ]
      }
     ],
     "prompt_number": 100
    },
    {
     "cell_type": "code",
     "collapsed": false,
     "input": [
      "a"
     ],
     "language": "python",
     "metadata": {},
     "outputs": [
      {
       "metadata": {},
       "output_type": "pyout",
       "prompt_number": 105,
       "text": [
        "array([[-0.75977922, -1.57406243, -0.52618156,  0.26655793,  2.95099241],\n",
        "       [-1.58338054,  0.0549229 , -0.14153157, -1.67649856, -0.69538077],\n",
        "       [ 1.11180622, -0.49297227, -0.04030712, -0.23274988,  0.12355859],\n",
        "       [ 0.00743359, -0.25724051,  0.03218008, -0.4169576 ,  1.15442517]])"
       ]
      }
     ],
     "prompt_number": 105
    },
    {
     "cell_type": "code",
     "collapsed": false,
     "input": [
      "fa = [lambda x, b=b: sum(x*b) for b in a]\n",
      "fa[1](a[1,])"
     ],
     "language": "python",
     "metadata": {},
     "outputs": [
      {
       "metadata": {},
       "output_type": "pyout",
       "prompt_number": 113,
       "text": [
        "5.8243435012747993"
       ]
      }
     ],
     "prompt_number": 113
    },
    {
     "cell_type": "code",
     "collapsed": false,
     "input": [
      "\n",
      "def tncsolve(amat,ls,x0,lb=0.0,ft = 1e-3): # use TNC to solve, lb = lower bound\n",
      "    def f(x0):\n",
      "        yh = np.dot(amat,x0)\n",
      "        return sum(np.array([ls[i](yh[i])[0] for i in range(len(yh))]))\n",
      "    def fprime(x0):\n",
      "        yh = np.dot(amat,x0)\n",
      "        rawg= np.array([ls[i](yh[i])[1] for i in range(len(yh))])\n",
      "        return np.dot(rawg.T,amat)\n",
      "    bounds = [(lb,100.0)] * len(x0)\n",
      "    res = spo.fmin_tnc(f,np.squeeze(x0),fprime=fprime,bounds=bounds,ftol=ft)\n",
      "    return res[0]\n",
      "\n",
      "def slsqpsolve(amat,ls,qmat,x0,ft = 1e-3): # use TNC to solve, lb = lower bound\n",
      "    def f(x0):\n",
      "        yh = np.dot(amat,x0)\n",
      "        return sum(np.array([ls[i](yh[i])[0] for i in range(len(yh))]))\n",
      "    def fprime(x0):\n",
      "        yh = np.dot(amat,x0)\n",
      "        rawg= np.array([ls[i](yh[i])[1] for i in range(len(yh))])\n",
      "        return np.dot(rawg.T,amat)\n",
      "    ieqcons = [lambda x, q=q: sum(q * x) for q in qmat]\n",
      "    ieqprime = [lambda q=q: q for q in qmat]\n",
      "    res = spo.fmin_slsqp(f,np.squeeze(x0),ieqcons=ieqcons,fprime=fprime,fprime_ieqcons = ieqprime,acc=ft)\n",
      "    return res\n",
      "\n",
      "def likelihood_func(ls,amat):\n",
      "    def lk(x0):\n",
      "        yh = np.dot(amat,np.reshape(x0,(-1,1)))\n",
      "        return sum([ls[ii](yh[ii])[0] for ii in range(len(ls))])\n",
      "    return lk\n"
     ],
     "language": "python",
     "metadata": {},
     "outputs": [],
     "prompt_number": 132
    },
    {
     "cell_type": "code",
     "collapsed": false,
     "input": [
      "bvecs = du.georandsphere(4,1)\n",
      "n = np.shape(bvecs)[0]\n",
      "sgrid = du.georandsphere(5,3)\n",
      "sgrid = sgrid[sgrid[:,2] > 0,:]\n",
      "pp = np.shape(sgrid)[0]\n",
      "rsh = du.rsh_basis(sgrid,8)\n",
      "pp_rsh = np.shape(rsh)[1]\n",
      "print((n,pp,pp_rsh))\n"
     ],
     "language": "python",
     "metadata": {},
     "outputs": [
      {
       "output_type": "stream",
       "stream": "stdout",
       "text": [
        "(162, 378, 81)\n"
       ]
      }
     ],
     "prompt_number": 174
    },
    {
     "cell_type": "code",
     "collapsed": false,
     "input": [
      "# setting up measurement vectors and fitting vectors\n",
      "true_kappa = 3.0\n",
      "kappa = 4.0\n",
      "def plotb(zz=np.ones(pp)):\n",
      "    fig = plt.figure()\n",
      "    ax = fig.gca(projection='3d')\n",
      "    ax.scatter(sgrid[:,0],sgrid[:,1],sgrid[:,2])\n",
      "    ax.scatter(zz*sgrid[:,0],zz*sgrid[:,1],zz*sgrid[:,2],color=\"red\")\n",
      "    plt.show()\n",
      "# do you want plots?\n",
      "plotsignal = True\n",
      "# randomize parameters outside of loop?\n",
      "randoutside = True\n",
      "\n",
      "amat0 = du.ste_tan_kappa(sgrid,np.sqrt(true_kappa) *bvecs)\n",
      "amat = du.ste_tan_kappa(sgrid,np.sqrt(kappa) *bvecs)\n",
      "amat_rsh = np.dot(amat, rsh)"
     ],
     "language": "python",
     "metadata": {},
     "outputs": [],
     "prompt_number": 175
    },
    {
     "cell_type": "code",
     "collapsed": false,
     "input": [
      "true_k = 1\n",
      "# randomly generate parameters\n",
      "if randoutside:\n",
      "    bt0 = np.zeros(pp)\n",
      "    bt0[npr.randint(0,pp-1,true_k)]=1.0/true_k\n",
      "    if plotsignal:\n",
      "        plotb(bt0)"
     ],
     "language": "python",
     "metadata": {},
     "outputs": [],
     "prompt_number": 176
    },
    {
     "cell_type": "code",
     "collapsed": false,
     "input": [
      "total_sigma = 0.2\n",
      "df = 10\n",
      "true_sigma = total_sigma/np.sqrt(df)\n",
      "est_sigma = true_sigma\n",
      "\n",
      "c0 = df*true_sigma**2\n",
      "mu = np.dot(amat0,bt0)\n",
      "y0 = mu**2 + true_sigma**2*df\n",
      "y = ncx.rvs_ncx2(df,mu,0,true_sigma)\n",
      "def loss_emd(x0):\n",
      "    return du.arc_emd(sgrid,ncx.column(bt0),sgrid,ncx.column(x0))\n",
      "def loss_mse(x0):\n",
      "    yh = np.squeeze(np.dot(amat,ncx.column(x0))**2) + true_sigma**2 * df\n",
      "    return nla.norm(np.squeeze(y0)-np.squeeze(yh))**2\n",
      "\n",
      "# NNLS after removing noise floor\n",
      "yflo = y - est_sigma**2*df; yflo[yflo < 0] = 0\n",
      "bt_fnnls = np.squeeze(spo.nnls(amat,np.squeeze(np.sqrt(yflo)))[0])\n",
      "mu_fnnls = np.dot(amat,bt_fnnls)\n",
      "yh_fnnls = du.column(mu_fnnls**2) + est_sigma**2*df\n",
      "mse_fnnls = nla.norm(np.squeeze(y0) - np.squeeze(yh_fnnls))**2\n",
      "if plotsignal:\n",
      "    print mse_fnnls, loss_emd(bt_fnnls)\n",
      "    #plotb(bt_fnnls)"
     ],
     "language": "python",
     "metadata": {},
     "outputs": [
      {
       "output_type": "stream",
       "stream": "stdout",
       "text": [
        "0.0781881984056 0.215991824865\n"
       ]
      }
     ],
     "prompt_number": 177
    },
    {
     "cell_type": "code",
     "collapsed": false,
     "input": [
      "# use CVXopt to solve CSD\n",
      "b = np.squeeze(np.sqrt(yflo))\n",
      "pmat = cvx.matrix(2.0*np.dot(amat_rsh.T,amat_rsh))\n",
      "qvec = cvx.matrix(-2.0*np.squeeze(np.dot(b.T,amat_rsh)))\n",
      "qmat = cvx.matrix(-rsh)\n",
      "hvec = cvx.matrix(np.zeros(pp))\n",
      "res = cvx.solvers.qp(pmat,qvec,qmat,hvec)\n",
      "gamma_csd = np.squeeze(np.array(res['x']))\n",
      "bt_csd = np.squeeze(np.dot(rsh,gamma_csd))\n",
      "#bt_csd[bt_csd < 1e-3] = 0\n",
      "mu_csd = np.dot(amat_rsh,gamma_csd)\n",
      "#mu_csd = np.dot(amat,bt_csd)\n",
      "yh_csd = du.column(mu_csd**2) + est_sigma**2*df\n",
      "mse_csd = nla.norm(np.squeeze(y0) - np.squeeze(yh_csd))**2\n",
      "if plotsignal:\n",
      "    print mse_csd, loss_emd(bt_csd)"
     ],
     "language": "python",
     "metadata": {},
     "outputs": [
      {
       "output_type": "stream",
       "stream": "stdout",
       "text": [
        "     pcost       dcost       gap    pres   dres\n",
        " 0: -5.7296e+01 -5.8376e+01  4e+02  2e+01  1e-02\n",
        " 1: -5.7232e+01 -5.8274e+01  1e+01  5e-01  4e-04\n",
        " 2: -5.7127e+01 -5.7466e+01  1e+00  6e-02  4e-05\n",
        " 3: -5.7028e+01 -5.7164e+01  5e-01  2e-02  1e-05\n",
        " 4: -5.6967e+01 -5.7044e+01  2e-01  6e-03  4e-06\n",
        " 5: -5.6935e+01 -5.6992e+01  2e-01  3e-03  2e-06\n",
        " 6: -5.6899e+01 -5.6949e+01  1e-01  1e-03  9e-07\n",
        " 7: -5.6894e+01 -5.6911e+01  3e-02  3e-04  2e-07\n",
        " 8: -5.6893e+01 -5.6899e+01  9e-03  7e-05  5e-08\n",
        " 9: -5.6892e+01 -5.6895e+01  4e-03  2e-05  1e-08\n",
        "10: -5.6892e+01 -5.6894e+01  1e-03  5e-06  3e-09\n",
        "11: -5.6892e+01 -5.6893e+01  5e-04  1e-06  1e-09\n",
        "12: -5.6893e+01 -5.6893e+01  5e-05  1e-07  7e-11"
       ]
      },
      {
       "output_type": "stream",
       "stream": "stdout",
       "text": [
        "\n",
        "Optimal solution found.\n",
        "0.356739888454 0.316372305155\n"
       ]
      }
     ],
     "prompt_number": 178
    },
    {
     "cell_type": "code",
     "collapsed": false,
     "input": [
      "# get the nonlinear Gaussian approximation\n",
      "\n",
      "ls_gauss = [ncx.ncxloss_gauss(yy,df,est_sigma) for yy in y]\n",
      "lk_gauss = likelihood_func(ls_gauss,amat)\n",
      "bt_gauss =tncsolve(amat,ls_gauss,np.array(bt_fnnls),0.0,1e-6)\n",
      "mu_gauss = np.dot(amat,bt_gauss)\n",
      "yh_gauss = mu_gauss**2 + c0\n",
      "mse_gauss =  nla.norm(np.squeeze(y0) - np.squeeze(yh_gauss))**2\n",
      "if plotsignal:\n",
      "    print loss_mse(bt_gauss), loss_emd(bt_gauss), lk_gauss(bt_gauss), sum(bt_gauss > 0)"
     ],
     "language": "python",
     "metadata": {},
     "outputs": [
      {
       "output_type": "stream",
       "stream": "stdout",
       "text": [
        "0.0594564493482 0.249183952808 [-242.05116506] 13\n"
       ]
      }
     ],
     "prompt_number": 179
    },
    {
     "cell_type": "code",
     "collapsed": false,
     "input": [
      "# use slsqp to get the CSD\n",
      "qmat = rsh\n",
      "x0 = np.array(gamma_csd)\n",
      "ft = 1e-3\n",
      "ls = [ncx.ncxloss_gauss(yy,df,est_sigma) for yy in y]\n",
      "gamma_gcsd = slsqpsolve(amat_rsh,ls,qmat,x0,ft = 1e-4)\n",
      "bt_gcsd = np.squeeze(np.dot(rsh,gamma_gcsd))\n",
      "if plotsignal:\n",
      "    print loss_mse(bt_gcsd), loss_emd(bt_gcsd), lk_gauss(bt_gcsd), sum(bt_gcsd > 0), sum(bt_gcsd < 0)"
     ],
     "language": "python",
     "metadata": {},
     "outputs": [
      {
       "output_type": "stream",
       "stream": "stdout",
       "text": [
        "Optimization terminated successfully.    (Exit mode 0)\n",
        "            Current function value: -220.214096227\n",
        "            Iterations: 9\n",
        "            Function evaluations: 25\n",
        "            Gradient evaluations: 8\n",
        "0.236913550305 0.324921160936 [-220.21409623] 312 66\n"
       ]
      }
     ],
     "prompt_number": 180
    },
    {
     "cell_type": "code",
     "collapsed": false,
     "input": [
      "%timeit slsqpsolve(amat_rsh,ls,qmat,x0,ft = 1e-4)"
     ],
     "language": "python",
     "metadata": {},
     "outputs": [
      {
       "output_type": "stream",
       "stream": "stdout",
       "text": [
        "Optimization terminated successfully.    (Exit mode 0)\n",
        "            Current function value: -191.25889512\n",
        "            Iterations: 27\n",
        "            Function evaluations: 76\n",
        "            Gradient evaluations: 27\n",
        "Optimization terminated successfully.    (Exit mode 0)"
       ]
      },
      {
       "output_type": "stream",
       "stream": "stdout",
       "text": [
        "\n",
        "            Current function value: -191.25889512\n",
        "            Iterations: 27\n",
        "            Function evaluations: 76\n",
        "            Gradient evaluations: 27\n",
        "Optimization terminated successfully.    (Exit mode 0)"
       ]
      },
      {
       "output_type": "stream",
       "stream": "stdout",
       "text": [
        "\n",
        "            Current function value: -191.25889512\n",
        "            Iterations: 27\n",
        "            Function evaluations: 76\n",
        "            Gradient evaluations: 27\n",
        "Optimization terminated successfully.    (Exit mode 0)"
       ]
      },
      {
       "output_type": "stream",
       "stream": "stdout",
       "text": [
        "\n",
        "            Current function value: -191.25889512\n",
        "            Iterations: 27\n",
        "            Function evaluations: 76\n",
        "            Gradient evaluations: 27\n",
        "1 loops, best of 3: 9.85 s per loop\n"
       ]
      }
     ],
     "prompt_number": 162
    },
    {
     "cell_type": "code",
     "collapsed": false,
     "input": [
      "%timeit tncsolve(amat,ls_gauss,np.array(bt_fnnls),0.0,1e-5)"
     ],
     "language": "python",
     "metadata": {},
     "outputs": [
      {
       "output_type": "stream",
       "stream": "stdout",
       "text": [
        "1 loops, best of 3: 3.73 s per loop\n"
       ]
      }
     ],
     "prompt_number": 150
    },
    {
     "cell_type": "code",
     "collapsed": false,
     "input": [],
     "language": "python",
     "metadata": {},
     "outputs": []
    }
   ],
   "metadata": {}
  }
 ]
}