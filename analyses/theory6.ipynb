{
 "metadata": {
  "name": "",
  "signature": "sha256:cc454cdc647df16e4da708e2a7992bf96118ed846284a6561d46739064ab845c"
 },
 "nbformat": 3,
 "nbformat_minor": 0,
 "worksheets": [
  {
   "cells": [
    {
     "cell_type": "markdown",
     "metadata": {},
     "source": [
      "Elastic basis pursuit"
     ]
    },
    {
     "cell_type": "code",
     "collapsed": false,
     "input": [
      "import os\n",
      "import numpy as np\n",
      "import scipy as sp\n",
      "import scipy.stats as spst\n",
      "import scipy.special as sps\n",
      "import numpy.random as npr\n",
      "import matplotlib.pyplot as plt\n",
      "import numpy.random as npr\n",
      "import scipy.optimize as spo\n",
      "\n",
      "os.chdir(\"..\")\n",
      "import donuts.deconv.splines as spl"
     ],
     "language": "python",
     "metadata": {},
     "outputs": [
      {
       "output_type": "stream",
       "stream": "stderr",
       "text": [
        "/usr/local/lib/python2.7/dist-packages/setuptools-7.0-py2.7.egg/pkg_resources.py:1045: UserWarning: /home/snarles/.python-eggs is writable by group/others and vulnerable to attack when used with get_resource_filename. Consider a more secure location (set with .set_extraction_path or the PYTHON_EGG_CACHE environment variable).\n",
        "  warnings.warn(msg, UserWarning)\n"
       ]
      }
     ],
     "prompt_number": 39
    },
    {
     "cell_type": "code",
     "collapsed": false,
     "input": [
      "#ncx code\n",
      "\n",
      "def numderiv2(f,x,delta):\n",
      "    return (f(x+delta)+f(x-delta)-2*f(x))/(delta**2)\n",
      "\n",
      "def numderiv(f,x,delta):\n",
      "    return (f(x+delta)-f(x))/delta\n",
      "\n",
      "def logivy(v,y):\n",
      "    y = np.atleast_1d(y)\n",
      "    ans = np.array(y)\n",
      "    ans[y < 500] = np.log(sps.iv(v,y[y < 500]))\n",
      "    ans[y >= 500] = y[y >= 500] - np.log(2*np.pi*y[y >= 500])\n",
      "    return ans\n",
      "\n",
      "def logncx2pdf_x(x,df,nc): #only x varies\n",
      "    if nc==0:\n",
      "        return spst.chi2.logpdf(x,df)\n",
      "    else:\n",
      "        return -np.log(2.0) -(x+nc)/2.0 + (df/4 - .5)*np.log(x/nc) + logivy((df/2-1),np.sqrt(nc*x))\n",
      "\n",
      "def logncx2pdf_nc(x,df,nc0): #only nc varies\n",
      "    nc0 =np.atleast_1d(nc0) \n",
      "    nc = np.array(nc0)\n",
      "    nc[nc0 < 1e-5] = 1e-5\n",
      "    ans= -np.log(2.0) -(x+nc)/2.0 + (df/4 - .5)*np.log(x/nc) + logivy((df/2-1),np.sqrt(nc*x))\n",
      "    return ans\n",
      "\n",
      "def convex_nc_loss(x,df):\n",
      "    def ff(mu):\n",
      "        return -logncx2pdf_nc(x,df,mu**2)\n",
      "    def f2(mu):\n",
      "        return numderiv2(ff,mu,1e-3) - 1e-2\n",
      "    mugrid = np.arange(0.0,2*df,df*0.01)\n",
      "    res = np.where(f2(mugrid) < 1e-2)[0]\n",
      "    if len(res) > 0:\n",
      "        imin = np.where(f2(mugrid) < 1e-2)[0][-1]\n",
      "        muinf = mugrid[imin]\n",
      "    else:\n",
      "        muinf = 0.0\n",
      "    val = ff(muinf)\n",
      "    dval = numderiv(ff,muinf,1e-3)\n",
      "    d2val = 1e-2\n",
      "    #print(muinf)\n",
      "    def cff(mu):\n",
      "        mu = np.atleast_1d(mu)\n",
      "        ans = np.array(mu)\n",
      "        ans[mu > muinf] = -logncx2pdf_nc(x,df,mu[mu > muinf]**2)\n",
      "        ans[mu <= muinf] = val + (mu[mu <= muinf]-muinf)*dval + .5*d2val*(mu[mu <= muinf]-muinf)**2\n",
      "        return ans\n",
      "    return cff"
     ],
     "language": "python",
     "metadata": {},
     "outputs": [],
     "prompt_number": 128
    },
    {
     "cell_type": "code",
     "collapsed": false,
     "input": [
      "def pruneroutine(v1,v2):\n",
      "    # finds the minimum convex combination of v1 and v2 so that exactly one element is nonpositive (zero)\n",
      "    # v1 is nonnegative\n",
      "    mina = np.array(v2)*0\n",
      "    mina[v1 != v2]= -v1[v1 != v2]/(v2[v1 != v2]-v1[v1 != v2])\n",
      "    mina[v2 >= 0] = 2\n",
      "    mina[v2==v1] = 2\n",
      "    a = min(mina)\n",
      "    o = np.where(mina == a)[0][0]\n",
      "    return (1-a)*v1 + a*v2, o\n",
      "\n",
      "def subrefitting(amat,ls,x0,newind): # refit x0 so that grad(x0)=0 where x0 positive\n",
      "    oldx0 = np.array(x0)\n",
      "    s = np.zeros(p,dtype=bool)\n",
      "    s[np.squeeze(x0) > 1e-20] = True\n",
      "    s[newind] = True\n",
      "    amat2 = amat[:,s]\n",
      "    x02 = np.array(x0[s])\n",
      "    x02 = bfgssolve(amat2,ls,np.array(x02),-1.0)[0]\n",
      "    oldx02 = np.array(x02)\n",
      "    x0[~s] = 0.0\n",
      "    x0[s]=x02\n",
      "    flag = min(x0) < 0\n",
      "    x0 = pruneroutine(oldx0,np.array(x0))[0]\n",
      "    while flag:\n",
      "        oldx0 = np.array(x0)\n",
      "        s = np.zeros(p,dtype=bool)\n",
      "        s[np.squeeze(x0) > 1e-20] = True\n",
      "        amat2 = amat[:,s]\n",
      "        x02 = np.array(x0[s])\n",
      "        x02 = bfgssolve(amat2,ls,np.array(x02),-1.0)[0]\n",
      "        x0[~s] = 0.0\n",
      "        x0[s]=x02\n",
      "        flag = min(x0) < 0\n",
      "        x0new = np.array(x0)\n",
      "        #print(min(x0))\n",
      "        x0 = pruneroutine(oldx0,np.array(x0))[0]\n",
      "    return x0\n",
      "\n",
      "def ebp(amat,ls,x0): # ls is a list of loss functions, x0 is initial guess\n",
      "    x0seq = [np.array(x0)]\n",
      "    newind = np.where(x0==max(x0))[0]\n",
      "    p = np.shape(amat)[1]\n",
      "    flag = True\n",
      "    count = 0\n",
      "    while flag:\n",
      "        count = count + 1\n",
      "        # **** refitting step ****\n",
      "        x0 = subrefitting(amat,ls,np.array(x0),newind)\n",
      "        # next candidate step\n",
      "        yh = np.dot(amat,x0)\n",
      "        rawg = np.array([ls[i](yh[i])[1] for i in range(n)])\n",
      "        g = np.dot(rawg.T,amat)\n",
      "        if min(g) > -1e-5:\n",
      "            flag=False\n",
      "        else:\n",
      "            newind = np.where(g==min(g))[0][0]\n",
      "        if count > 1000:\n",
      "            flag = False\n",
      "        x0seq = x0seq + [np.array(x0)]\n",
      "    return x0,x0seq\n",
      "\n",
      "def bfgssolve(amat,ls,x0,lb=0.0): # use LBFS-G to solve\n",
      "    def f(x0):\n",
      "        yh = np.dot(amat,x0)\n",
      "        return sum(np.array([ls[i](yh[i])[0] for i in range(len(yh))]))\n",
      "    def fprime(x0):\n",
      "        yh = np.dot(amat,x0)\n",
      "        rawg= np.array([ls[i](yh[i])[1] for i in range(len(yh))])\n",
      "        return np.dot(rawg.T,amat)\n",
      "    bounds = [(lb,100.0)] * len(x0)\n",
      "    res = spo.fmin_l_bfgs_b(f,np.squeeze(x0),fprime=fprime,bounds=bounds)\n",
      "    return res\n",
      "    \n",
      "\n",
      "def ncxlosses(df,y):\n",
      "    n = len(y)\n",
      "    ans = [0.] * n\n",
      "    for ii in range(n):\n",
      "        x = y[ii]\n",
      "        mmax = np.sqrt(x)*3\n",
      "        mugrid = np.arange(0,mmax,mmax/100)\n",
      "        clos = convex_nc_loss(n,x)\n",
      "        pts = clos(mugrid)\n",
      "        f = spl.convspline(mugrid,pts)\n",
      "        ans[ii]=f\n",
      "    return ans"
     ],
     "language": "python",
     "metadata": {},
     "outputs": [],
     "prompt_number": 376
    },
    {
     "cell_type": "code",
     "collapsed": false,
     "input": [
      "n = 20\n",
      "p = 500\n",
      "amat = np.absolute(npr.normal(0,1,(n,p)))\n",
      "bt0 = np.zeros((p,1))\n",
      "bt0[:2] = 1\n",
      "df = 10\n",
      "mu = np.dot(amat,bt0)\n",
      "ysq = spst.ncx2.rvs(df,mu**2)\n",
      "ls = ncxlosses(df,ysq)\n",
      "\n",
      "def f(x0):\n",
      "    yh = np.dot(amat,x0)\n",
      "    return sum(np.array([ls[i](yh[i])[0] for i in range(len(yh))]))\n",
      "def fprime(x0):\n",
      "    yh = np.dot(amat,x0)\n",
      "    rawg= np.array([ls[i](yh[i])[1] for i in range(len(yh))])\n",
      "    return np.dot(rawg.T,amat)"
     ],
     "language": "python",
     "metadata": {},
     "outputs": [],
     "prompt_number": 63
    },
    {
     "cell_type": "code",
     "collapsed": false,
     "input": [
      "bt = spo.nnls(amat,np.squeeze(np.sqrt(ysq)))[0]\n",
      "#print(f(bt))\n",
      "res = bfgssolve(amat,ls,np.array(bt),0.0)\n",
      "x0 = res[0]\n",
      "(f(x0),sum(x0 > 0))"
     ],
     "language": "python",
     "metadata": {},
     "outputs": [
      {
       "metadata": {},
       "output_type": "pyout",
       "prompt_number": 377,
       "text": [
        "(59.093333593462773, 32)"
       ]
      }
     ],
     "prompt_number": 377
    },
    {
     "cell_type": "code",
     "collapsed": false,
     "input": [
      "resebp = ebp(amat,ls,np.array(bt))\n",
      "x0 = resebp[0]\n",
      "(f(x0),sum(x0 > 0))"
     ],
     "language": "python",
     "metadata": {},
     "outputs": []
    },
    {
     "cell_type": "code",
     "collapsed": false,
     "input": [],
     "language": "python",
     "metadata": {},
     "outputs": []
    },
    {
     "cell_type": "markdown",
     "metadata": {},
     "source": [
      "Testing EBP"
     ]
    },
    {
     "cell_type": "code",
     "collapsed": false,
     "input": [
      "x0 = np.array(bt)\n",
      "x0seq = [np.array(x0)]\n",
      "newind = np.where(x0==max(x0))[0]\n",
      "newinds = [newind]\n",
      "p = np.shape(amat)[1]\n",
      "flag = True\n",
      "count = 0\n",
      "f(x0)"
     ],
     "language": "python",
     "metadata": {},
     "outputs": [
      {
       "metadata": {},
       "output_type": "pyout",
       "prompt_number": 378,
       "text": [
        "74.579729607938319"
       ]
      }
     ],
     "prompt_number": 378
    },
    {
     "cell_type": "code",
     "collapsed": false,
     "input": [
      "count = count + 1\n",
      "# **** refitting step ****\n",
      "x0 = subrefitting(amat,ls,np.array(x0),newind)\n",
      "# next candidate step\n",
      "yh = np.dot(amat,x0)\n",
      "rawg = np.array([ls[i](yh[i])[1] for i in range(n)])\n",
      "g = np.dot(rawg.T,amat)\n",
      "if min(g) > -1e-5:\n",
      "    flag=False\n",
      "else:\n",
      "    newind = np.where(g==min(g))[0][0]\n",
      "    newinds = newinds + [newind]\n",
      "if count > 1000:\n",
      "    flag = False\n",
      "x0seq = x0seq + [np.array(x0)]\n",
      "(f(x0),sum(x0 > 0),min(g),count)"
     ],
     "language": "python",
     "metadata": {},
     "outputs": [
      {
       "metadata": {},
       "output_type": "pyout",
       "prompt_number": 394,
       "text": [
        "(59.77299605391277, 11, -1.4088456405007608, 16)"
       ]
      }
     ],
     "prompt_number": 394
    },
    {
     "cell_type": "code",
     "collapsed": false,
     "input": [
      "(f(x0seq[43]),newinds[43])"
     ],
     "language": "python",
     "metadata": {},
     "outputs": [
      {
       "metadata": {},
       "output_type": "pyout",
       "prompt_number": 273,
       "text": [
        "(59.091141102290592, 25)"
       ]
      }
     ],
     "prompt_number": 273
    },
    {
     "cell_type": "code",
     "collapsed": false,
     "input": [
      "indark = 43\n",
      "x0ark = x0seq[43]\n",
      "newindark = newinds[43]"
     ],
     "language": "python",
     "metadata": {},
     "outputs": [],
     "prompt_number": 297
    },
    {
     "cell_type": "code",
     "collapsed": false,
     "input": [
      "x0ark = x0seq[-3]\n"
     ],
     "language": "python",
     "metadata": {},
     "outputs": [
      {
       "metadata": {},
       "output_type": "pyout",
       "prompt_number": 210,
       "text": [
        "59.091141256795694"
       ]
      }
     ],
     "prompt_number": 210
    },
    {
     "cell_type": "code",
     "collapsed": false,
     "input": [
      "(f(x0ark),min(x0ark))"
     ],
     "language": "python",
     "metadata": {},
     "outputs": [
      {
       "metadata": {},
       "output_type": "pyout",
       "prompt_number": 214,
       "text": [
        "(59.091141256795694, 0.0)"
       ]
      }
     ],
     "prompt_number": 214
    },
    {
     "cell_type": "code",
     "collapsed": false,
     "input": [
      "x0 = np.array(x0ark)\n",
      "newind = newindark"
     ],
     "language": "python",
     "metadata": {},
     "outputs": [],
     "prompt_number": 298
    },
    {
     "cell_type": "markdown",
     "metadata": {},
     "source": [
      "Testing subroutine"
     ]
    },
    {
     "cell_type": "code",
     "collapsed": false,
     "input": [
      "#x0 = np.array(x0ark)\n",
      "#newind = newindark\n",
      "\n",
      "x0 = np.array(bt)\n",
      "print(f(x0))\n",
      "newind = np.where(x0==max(x0))[0]\n",
      "oldx0 = np.array(x0)\n",
      "s = np.zeros(p,dtype=bool)\n",
      "s[np.squeeze(x0) > 1e-20] = True\n",
      "s[newind] = True\n",
      "amat2 = amat[:,s]\n",
      "x02 = np.array(x0[s])\n",
      "x02 = bfgssolve(amat2,ls,np.array(x02),-1.0)[0]\n",
      "oldx02 = np.array(x02)\n",
      "x0[~s] = 0.0\n",
      "x0[s]=x02\n",
      "flag = min(x0) < 0\n",
      "x0 = pruneroutine(oldx0,np.array(x0))[0]\n",
      "(f(x0),flag)"
     ],
     "language": "python",
     "metadata": {},
     "outputs": [
      {
       "output_type": "stream",
       "stream": "stdout",
       "text": [
        "74.5797296079\n"
       ]
      },
      {
       "metadata": {},
       "output_type": "pyout",
       "prompt_number": 364,
       "text": [
        "(74.026986542777422, True)"
       ]
      }
     ],
     "prompt_number": 364
    },
    {
     "cell_type": "code",
     "collapsed": false,
     "input": [
      "oldx0 = np.array(x0)\n",
      "s = np.zeros(p,dtype=bool)\n",
      "s[np.squeeze(x0) > 1e-20] = True\n",
      "amat2 = amat[:,s]\n",
      "x02 = np.array(x0[s])\n",
      "x02 = bfgssolve(amat2,ls,np.array(x02),-1.0)[0]\n",
      "x0[~s] = 0.0\n",
      "x0[s]=x02\n",
      "flag = min(x0) < 0\n",
      "x0new = np.array(x0)\n",
      "print(min(x0))\n",
      "x0 = pruneroutine(oldx0,np.array(x0))[0]\n",
      "(f(x0),flag)"
     ],
     "language": "python",
     "metadata": {},
     "outputs": [
      {
       "output_type": "stream",
       "stream": "stdout",
       "text": [
        "0.0\n"
       ]
      },
      {
       "metadata": {},
       "output_type": "pyout",
       "prompt_number": 375,
       "text": [
        "(63.250621975163575, False)"
       ]
      }
     ],
     "prompt_number": 375
    },
    {
     "cell_type": "code",
     "collapsed": false,
     "input": [
      "x0new[s]"
     ],
     "language": "python",
     "metadata": {},
     "outputs": [
      {
       "metadata": {},
       "output_type": "pyout",
       "prompt_number": 362,
       "text": [
        "array([-0.10506345,  0.5501807 ,  0.11715688, -0.08283377,  0.17583834,\n",
        "       -0.29381685, -0.50938756,  0.84747827, -0.30582553,  0.29435681,\n",
        "       -0.29329957,  1.85197973,  0.19563369, -0.81881465,  0.04033095,\n",
        "        0.39345424, -1.        ,  0.23736429,  0.29460637,  1.07917614])"
       ]
      }
     ],
     "prompt_number": 362
    },
    {
     "cell_type": "code",
     "collapsed": false,
     "input": [
      "x0[s]"
     ],
     "language": "python",
     "metadata": {},
     "outputs": [
      {
       "metadata": {},
       "output_type": "pyout",
       "prompt_number": 363,
       "text": [
        "array([  3.09443836e-001,   3.39179106e-002,   2.22691967e-003,\n",
        "         1.14636390e-001,   8.97754569e-002,   2.72756942e-001,\n",
        "         1.56464762e-001,   9.05035198e-002,   2.73976169e-194,\n",
        "         6.66546422e-003,   1.25249114e-001,   1.36328466e-001,\n",
        "         2.32809080e-002,   4.82349166e-001,   8.38789646e-002,\n",
        "         3.35434493e-002,   6.21468144e-001,   1.39023728e-001,\n",
        "         5.44056749e-001,   4.71546615e-001])"
       ]
      }
     ],
     "prompt_number": 363
    },
    {
     "cell_type": "code",
     "collapsed": false,
     "input": [
      "resebp = ebp(amat,ls,np.array(bt))\n",
      "x0 = resebp[0]\n",
      "f(x0)"
     ],
     "language": "python",
     "metadata": {},
     "outputs": []
    },
    {
     "cell_type": "code",
     "collapsed": false,
     "input": [
      "[sum(resebp[0] > 0),sum(res[0] > 0)]"
     ],
     "language": "python",
     "metadata": {},
     "outputs": [
      {
       "metadata": {},
       "output_type": "pyout",
       "prompt_number": 49,
       "text": [
        "[17, 18]"
       ]
      }
     ],
     "prompt_number": 49
    },
    {
     "cell_type": "code",
     "collapsed": false,
     "input": [
      "fprime(x02)[x02 > 0]"
     ],
     "language": "python",
     "metadata": {},
     "outputs": [
      {
       "metadata": {},
       "output_type": "pyout",
       "prompt_number": 354,
       "text": [
        "array([  2.31243524e-05,   1.79270371e-05,   1.53864876e-06,\n",
        "         1.12106956e-05])"
       ]
      }
     ],
     "prompt_number": 354
    },
    {
     "cell_type": "code",
     "collapsed": false,
     "input": [
      "fprime(res[0])"
     ],
     "language": "python",
     "metadata": {},
     "outputs": [
      {
       "metadata": {},
       "output_type": "pyout",
       "prompt_number": 345,
       "text": [
        "array([  3.99364630e-01,  -3.09226073e-04,   7.73182357e-01,\n",
        "         1.74471296e+00,   1.03643085e+00,   2.10586148e-05,\n",
        "         1.13097663e+00,   3.56040954e+00,   1.53363885e+00,\n",
        "         6.88656365e-01,   5.70117040e-02,   2.44839121e+00,\n",
        "         1.93246482e+00,   1.28812489e+00,   3.75937363e-01,\n",
        "         2.50614167e+00,   7.14514672e-01,   7.18007471e-05,\n",
        "         7.80825760e-01,   1.80548021e+00,   1.06478627e+00,\n",
        "         9.90569691e-01,   1.33522849e+00,   1.02688863e+00,\n",
        "         1.41995241e+00,   3.50632248e-01,   1.88792772e-01,\n",
        "         1.21341736e+00,   9.43430087e-01,   9.44738604e-01,\n",
        "         1.35952557e+00,   9.23825914e-01,   1.63315541e+00,\n",
        "         1.41722389e+00,   7.24538326e-01,   1.42027495e+00,\n",
        "         1.37027386e+00,   2.34512129e+00,   1.26214092e+00,\n",
        "         4.32565809e-01,   1.61736499e+00,   1.96060367e+00,\n",
        "         1.86992715e+00,   1.39756294e+00,  -1.00155566e-04,\n",
        "        -1.28536442e-04,   1.10912127e-01,   7.07345295e-01,\n",
        "         7.80844747e-01,   1.72308676e-01])"
       ]
      }
     ],
     "prompt_number": 345
    },
    {
     "cell_type": "code",
     "collapsed": false,
     "input": [
      "resebp[1]"
     ],
     "language": "python",
     "metadata": {},
     "outputs": [
      {
       "metadata": {},
       "output_type": "pyout",
       "prompt_number": 319,
       "text": [
        "[array([ 0.        ,  1.0664185 ,  2.16817493,  0.        ,  0.86690074,\n",
        "         0.29303668,  0.        ,  0.        ,  0.15695727,  0.        ]),\n",
        " array([ 0.        ,  1.0664185 ,  2.16817493,  0.        ,  0.86690074,\n",
        "         0.29303668,  0.        ,  0.        ,  0.15695727,  0.        ])]"
       ]
      }
     ],
     "prompt_number": 319
    },
    {
     "cell_type": "code",
     "collapsed": false,
     "input": [
      "x0 = np.array(bt)\n",
      "p = np.shape(amat)[1]\n",
      "flag = True\n",
      "s = np.zeros(p,dtype=bool)\n",
      "s[np.squeeze(x0) > 1e-20] = True\n",
      "x0seq = [np.array(x0)]"
     ],
     "language": "python",
     "metadata": {},
     "outputs": [],
     "prompt_number": 322
    },
    {
     "cell_type": "code",
     "collapsed": false,
     "input": [
      "amat2 = amat[:,s]\n",
      "x02 = np.array(x0[s])\n",
      "res02 = bfgssolve(amat2,ls,x02,0.0)\n",
      "x02 =res02[0]\n",
      "x0[s]=x02\n",
      "\n",
      "yh = np.dot(amat,x0)\n",
      "rawg = np.array([ls[i](yh[i])[1] for i in range(n)])\n",
      "\n",
      "g = np.dot(rawg.T,amat)\n",
      "print([loss(x0),min(g),x0])\n",
      "\n",
      "if min(g) > -1e-5:\n",
      "    flag=False\n",
      "else:\n",
      "    ind = np.where(g==min(g))[0][0]\n",
      "    s[ind]=True\n",
      "    if x0[ind] < 1e-20:\n",
      "        x0[ind]=1e-5\n",
      "x0seq = x0seq + [np.array(x0)]\n"
     ],
     "language": "python",
     "metadata": {},
     "outputs": [
      {
       "output_type": "stream",
       "stream": "stdout",
       "text": [
        "[13.761844147550029, -1.8228589925418447e-05, array([  1.34832349e-05,   5.44153734e-01,   1.29704312e+00,\n",
        "         0.00000000e+00,   2.76881515e-07,   8.91047117e-01,\n",
        "         0.00000000e+00,   0.00000000e+00,   3.29950258e-01,\n",
        "         9.82124967e-01])]\n"
       ]
      }
     ],
     "prompt_number": 327
    },
    {
     "cell_type": "code",
     "collapsed": false,
     "input": [
      "[13.415306944768647, -0.0051969849982899143]"
     ],
     "language": "python",
     "metadata": {},
     "outputs": []
    },
    {
     "cell_type": "code",
     "collapsed": false,
     "input": [
      "x0a = np.array(x0)"
     ],
     "language": "python",
     "metadata": {},
     "outputs": [],
     "prompt_number": 297
    },
    {
     "cell_type": "code",
     "collapsed": false,
     "input": [
      "x0seq"
     ],
     "language": "python",
     "metadata": {},
     "outputs": [
      {
       "metadata": {},
       "output_type": "pyout",
       "prompt_number": 245,
       "text": [
        "[array([ 1.41998223,  1.72365872,  0.        ,  0.        ,  0.53438818,\n",
        "         1.57003076,  0.26824449,  0.        ,  0.        ,  0.        ]),\n",
        " array([ 0.80516192,  1.82208437,  0.        ,  0.        ,  0.17032513,\n",
        "         1.00212187,  0.50965594,  0.        ,  0.        ,  0.        ]),\n",
        " array([  6.60306229e-01,   1.91363654e+00,   0.00000000e+00,\n",
        "          0.00000000e+00,   1.73472348e-18,   7.75516833e-01,\n",
        "          6.84718374e-01,   0.00000000e+00,   0.00000000e+00,\n",
        "          0.00000000e+00]),\n",
        " array([  6.60306229e-01,   1.91363654e+00,   0.00000000e+00,\n",
        "          0.00000000e+00,   0.00000000e+00,   7.75516833e-01,\n",
        "          6.84718374e-01,   0.00000000e+00,   0.00000000e+00,\n",
        "          1.56584324e-18]),\n",
        " array([ 0.46061314,  1.96042997,  0.        ,  0.        ,  0.        ,\n",
        "         0.61295692,  0.76191144,  0.        ,  0.        ,  0.12041759]),\n",
        " array([ 0.27655719,  1.99325472,  0.        ,  0.        ,  0.        ,\n",
        "         0.49570295,  0.8182561 ,  0.        ,  0.06254708,  0.1905992 ]),\n",
        " array([ 0.12638143,  2.01472207,  0.        ,  0.        ,  0.        ,\n",
        "         0.40652785,  0.86364519,  0.        ,  0.10626235,  0.25318492]),\n",
        " array([ 0.00221631,  2.03248869,  0.        ,  0.        ,  0.        ,\n",
        "         0.33481141,  0.90007236,  0.        ,  0.14200837,  0.30519808]),\n",
        " array([ 0.        ,  2.03281665,  0.        ,  0.        ,  0.        ,\n",
        "         0.33357614,  0.9006943 ,  0.        ,  0.14264997,  0.30612937]),\n",
        " array([ 0.        ,  2.03032903,  0.        ,  0.        ,  0.        ,\n",
        "         0.29639208,  0.92157875,  0.        ,  0.13564036,  0.30988847]),\n",
        " array([ 0.        ,  2.02758524,  0.        ,  0.01396413,  0.        ,\n",
        "         0.27380682,  0.9293028 ,  0.        ,  0.1240678 ,  0.31029576]),\n",
        " array([ 0.        ,  2.02872656,  0.        ,  0.02487049,  0.        ,\n",
        "         0.25942337,  0.93194925,  0.        ,  0.11521313,  0.31106173]),\n",
        " array([ 0.        ,  2.03218419,  0.        ,  0.03408911,  0.        ,\n",
        "         0.25006877,  0.93180997,  0.        ,  0.10788211,  0.31183345]),\n",
        " array([ 0.        ,  2.03701754,  0.        ,  0.0422999 ,  0.        ,\n",
        "         0.24371855,  0.93001352,  0.        ,  0.10145957,  0.31261917]),\n",
        " array([ 0.        ,  2.04267074,  0.        ,  0.04990347,  0.        ,\n",
        "         0.23917164,  0.92722535,  0.        ,  0.09558219,  0.31341629]),\n",
        " array([ 0.        ,  2.04881313,  0.        ,  0.05713876,  0.        ,\n",
        "         0.23571052,  0.92384259,  0.        ,  0.09003428,  0.31422104]),\n",
        " array([ 0.        ,  2.05524685,  0.        ,  0.06414906,  0.        ,\n",
        "         0.2329046 ,  0.92010349,  0.        ,  0.08468695,  0.31503043]),\n",
        " array([ 0.        ,  2.061853  ,  0.        ,  0.07102061,  0.        ,\n",
        "         0.23049467,  0.91615147,  0.        ,  0.07946282,  0.31584233]),\n",
        " array([ 0.        ,  2.06785099,  0.00213101,  0.07736974,  0.        ,\n",
        "         0.22703633,  0.91261308,  0.        ,  0.07455094,  0.31480996]),\n",
        " array([ 0.        ,  2.07359893,  0.0031876 ,  0.08398848,  0.        ,\n",
        "         0.22318625,  0.90951563,  0.        ,  0.06955245,  0.31440475]),\n",
        " array([ 0.        ,  2.07921023,  0.00406905,  0.09059199,  0.        ,\n",
        "         0.21927977,  0.90638967,  0.        ,  0.06443245,  0.31406762]),\n",
        " array([ 0.        ,  2.08482093,  0.00526714,  0.09723035,  0.        ,\n",
        "         0.21562261,  0.90373368,  0.        ,  0.0596509 ,  0.3141266 ]),\n",
        " array([ 0.        ,  2.09043053,  0.00619095,  0.10386649,  0.        ,\n",
        "         0.21174504,  0.90069371,  0.        ,  0.05456216,  0.31388844]),\n",
        " array([ 0.        ,  2.09599456,  0.00703371,  0.11044812,  0.        ,\n",
        "         0.20783975,  0.89757515,  0.        ,  0.04943236,  0.31357199]),\n",
        " array([ 0.        ,  2.10159138,  0.00824271,  0.11707686,  0.        ,\n",
        "         0.20420152,  0.89495006,  0.        ,  0.0446746 ,  0.31365609]),\n",
        " array([ 0.        ,  2.10717779,  0.00915585,  0.12368674,  0.        ,\n",
        "         0.20033419,  0.89191383,  0.        ,  0.03959847,  0.31341321]),\n",
        " array([ 0.        ,  2.11271643,  0.00998263,  0.13023835,  0.        ,\n",
        "         0.19643692,  0.88879243,  0.        ,  0.03447834,  0.31308504]),\n",
        " array([ 0.        ,  2.1183037 ,  0.01120707,  0.13685624,  0.        ,\n",
        "         0.19281893,  0.8861966 ,  0.        ,  0.02974807,  0.31318852]),\n",
        " array([ 0.        ,  2.1238678 ,  0.01211026,  0.14343963,  0.        ,\n",
        "         0.18896197,  0.8831635 ,  0.        ,  0.02468509,  0.31293958]),\n",
        " array([ 0.        ,  2.12938111,  0.01292076,  0.14996102,  0.        ,\n",
        "         0.18507248,  0.88003866,  0.        ,  0.0195744 ,  0.31259899]),\n",
        " array([ 0.        ,  2.13495918,  0.0141611 ,  0.15656843,  0.        ,\n",
        "         0.18147484,  0.87747247,  0.        ,  0.01487186,  0.31272225]),\n",
        " array([ 0.        ,  2.14050049,  0.01505317,  0.16312467,  0.        ,\n",
        "         0.17762768,  0.87444118,  0.        ,  0.00982125,  0.31246598]),\n",
        " array([ 0.        ,  2.14600616,  0.0161674 ,  0.16964386,  0.        ,\n",
        "         0.17398844,  0.87175256,  0.        ,  0.00505727,  0.3124652 ])]"
       ]
      }
     ],
     "prompt_number": 245
    },
    {
     "cell_type": "code",
     "collapsed": false,
     "input": [
      "x02"
     ],
     "language": "python",
     "metadata": {},
     "outputs": [
      {
       "metadata": {},
       "output_type": "pyout",
       "prompt_number": 130,
       "text": [
        "array([ 1.02209522,  0.98257249,  2.16381201,  0.47245812])"
       ]
      }
     ],
     "prompt_number": 130
    },
    {
     "cell_type": "code",
     "collapsed": false,
     "input": [
      "pruneroutine(x02old,x02)"
     ],
     "language": "python",
     "metadata": {},
     "outputs": [
      {
       "metadata": {},
       "output_type": "pyout",
       "prompt_number": 131,
       "text": [
        "(array([ 1.01623394,  0.97027142,  2.15458253,  0.47730043]), 0)"
       ]
      }
     ],
     "prompt_number": 131
    },
    {
     "cell_type": "code",
     "collapsed": false,
     "input": [
      "amat2"
     ],
     "language": "python",
     "metadata": {},
     "outputs": [
      {
       "metadata": {},
       "output_type": "pyout",
       "prompt_number": 77,
       "text": [
        "array([[ 0.78704991,  0.72717056,  0.34022448],\n",
        "       [ 0.57777142,  0.66648198,  0.58797243],\n",
        "       [ 0.95991539,  0.03975101,  0.27871945],\n",
        "       [ 1.2130095 ,  1.02209947,  0.21570625],\n",
        "       [ 0.34107076,  0.596097  ,  1.29039437]])"
       ]
      }
     ],
     "prompt_number": 77
    },
    {
     "cell_type": "code",
     "collapsed": false,
     "input": [
      "amat2 = amat[:,s]\n",
      "x02 = x0[s]\n",
      "x02old = x02\n",
      "x02,ls0 = gd(amat2,ls,x02)\n",
      "x02,ls1 = gd(amat2,ls,x02)\n",
      "while (ls0 - ls1) > 1e-3:\n",
      "    ls0 = ls1\n",
      "    x02,ls1 = gd(amat2,ls,x02)"
     ],
     "language": "python",
     "metadata": {},
     "outputs": [],
     "prompt_number": 236
    },
    {
     "cell_type": "code",
     "collapsed": false,
     "input": [
      "x0seq"
     ],
     "language": "python",
     "metadata": {},
     "outputs": [
      {
       "metadata": {},
       "output_type": "pyout",
       "prompt_number": 52,
       "text": [
        "[array([ 2.89851685,  0.42807301,  0.        ,  1.24165962,  0.        ,\n",
        "         0.16532922,  0.        ,  0.        ,  0.        ,  0.        ]),\n",
        " array([  2.78929675e+00,   3.60419061e-01,   0.00000000e+00,\n",
        "          1.27441727e+00,   0.00000000e+00,   2.77555756e-17,\n",
        "          0.00000000e+00,   0.00000000e+00,   0.00000000e+00,\n",
        "          0.00000000e+00]),\n",
        " array([ 2.78929675,  0.36041906,  0.        ,  1.27441727,  0.        ,\n",
        "         0.        ,  0.        ,  0.        ,  0.        ,  0.        ])]"
       ]
      }
     ],
     "prompt_number": 52
    },
    {
     "cell_type": "code",
     "collapsed": false,
     "input": [
      "bt"
     ],
     "language": "python",
     "metadata": {},
     "outputs": [
      {
       "metadata": {},
       "output_type": "pyout",
       "prompt_number": 47,
       "text": [
        "array([ 2.89851685,  0.42807301,  0.        ,  1.24165962,  0.        ,\n",
        "        0.16532922,  0.        ,  0.        ,  0.        ,  0.        ])"
       ]
      }
     ],
     "prompt_number": 47
    },
    {
     "cell_type": "code",
     "collapsed": false,
     "input": [
      "x0"
     ],
     "language": "python",
     "metadata": {},
     "outputs": [
      {
       "metadata": {},
       "output_type": "pyout",
       "prompt_number": 48,
       "text": [
        "array([  2.78929675e+00,   3.60419061e-01,   0.00000000e+00,\n",
        "         1.27441727e+00,   0.00000000e+00,   2.77555756e-17,\n",
        "         0.00000000e+00,   0.00000000e+00,   0.00000000e+00,\n",
        "         0.00000000e+00])"
       ]
      }
     ],
     "prompt_number": 48
    },
    {
     "cell_type": "code",
     "collapsed": false,
     "input": [
      "mugrid=np.arange(0,3,.1)\n",
      "mkmk = [ls[0](x)[0] for x in mugrid]\n",
      "plt.scatter(mugrid,mkmk)\n",
      "plt.show()"
     ],
     "language": "python",
     "metadata": {},
     "outputs": [],
     "prompt_number": 95
    },
    {
     "cell_type": "code",
     "collapsed": false,
     "input": [
      "x0 = bt\n",
      "def f(x0):\n",
      "    yh = np.dot(amat,x0)\n",
      "    return sum(np.array([ls[i](yh[i])[0] for i in range(len(yh))]))\n",
      "def fprime(x0):\n",
      "    yh = np.dot(amat,x0)\n",
      "    rawg= np.array([ls[i](yh[i])[1] for i in range(len(yh))])\n",
      "    return np.dot(rawg.T,amat)\n",
      "bounds = [(0.0,100.0)] * len(x0)\n",
      "res = spo.fmin_l_bfgs_b(f,np.squeeze(x0),fprime=fprime,bounds=bounds)\n"
     ],
     "language": "python",
     "metadata": {},
     "outputs": [],
     "prompt_number": 120
    },
    {
     "cell_type": "code",
     "collapsed": false,
     "input": [
      "res"
     ],
     "language": "python",
     "metadata": {},
     "outputs": [
      {
       "metadata": {},
       "output_type": "pyout",
       "prompt_number": 121,
       "text": [
        "(array([ 2.0186227 ,  0.        ,  0.        ,  0.        ,  0.        ,\n",
        "         0.61353646,  3.08337257,  0.16916887,  0.        ,  0.        ]),\n",
        " 14.400339341247355,\n",
        " {'funcalls': 32,\n",
        "  'grad': array([  2.03732614e-05,   5.04307039e-02,   7.85928734e-03,\n",
        "           3.29657294e-02,   3.78908633e-02,   2.39820571e-05,\n",
        "          -9.32518397e-06,   1.63477234e-05,   4.22533748e-02,\n",
        "           1.17631994e-02]),\n",
        "  'nit': 28,\n",
        "  'task': 'CONVERGENCE: REL_REDUCTION_OF_F_<=_FACTR*EPSMCH',\n",
        "  'warnflag': 0})"
       ]
      }
     ],
     "prompt_number": 121
    },
    {
     "cell_type": "code",
     "collapsed": false,
     "input": [
      "len(x0)"
     ],
     "language": "python",
     "metadata": {},
     "outputs": [
      {
       "metadata": {},
       "output_type": "pyout",
       "prompt_number": 101,
       "text": [
        "10"
       ]
      }
     ],
     "prompt_number": 101
    },
    {
     "cell_type": "code",
     "collapsed": false,
     "input": [
      "x0 = bt\n",
      "fprime(x0)"
     ],
     "language": "python",
     "metadata": {},
     "outputs": [
      {
       "metadata": {},
       "output_type": "pyout",
       "prompt_number": 109,
       "text": [
        "array([ 1.91295272,  1.52233617,  1.37382692])"
       ]
      }
     ],
     "prompt_number": 109
    },
    {
     "cell_type": "code",
     "collapsed": false,
     "input": [
      "x0"
     ],
     "language": "python",
     "metadata": {},
     "outputs": [
      {
       "metadata": {},
       "output_type": "pyout",
       "prompt_number": 122,
       "text": [
        "array([ 0.        ,  0.        ,  1.26448505,  0.        ,  0.        ,\n",
        "        1.16071484,  2.2498373 ,  0.46709332,  0.        ,  0.0745338 ])"
       ]
      }
     ],
     "prompt_number": 122
    },
    {
     "cell_type": "code",
     "collapsed": false,
     "input": [
      "n = 5\n",
      "p = 3\n",
      "amat = np.absolute(npr.normal(0,1,(n,p)))\n",
      "bt0 = np.zeros((p,1))\n",
      "bt0[:2] = 1\n",
      "mu = np.dot(amat,bt0)\n",
      "ysq = spst.ncx2.rvs(10,mu**2)\n",
      "ls = ncxlosses(10,ysq)\n",
      "bt = spo.nnls(amat,np.squeeze(np.sqrt(ysq)))[0]\n",
      "x0 = np.array(bt)\n",
      "def loss(x0):\n",
      "    yh = np.dot(amat,x0)\n",
      "    return sum(np.array([ls[i](yh[i])[0] for i in range(len(yh))]))\n",
      "res = bfgssolve(amat,ls,bt,0.0)"
     ],
     "language": "python",
     "metadata": {},
     "outputs": [],
     "prompt_number": 136
    },
    {
     "cell_type": "code",
     "collapsed": false,
     "input": [
      "res"
     ],
     "language": "python",
     "metadata": {},
     "outputs": [
      {
       "metadata": {},
       "output_type": "pyout",
       "prompt_number": 137,
       "text": [
        "(array([ 1.48059861,  0.99021978,  1.55658785]),\n",
        " 14.223414168898945,\n",
        " {'funcalls': 8,\n",
        "  'grad': array([ -1.67004136e-06,  -3.28501209e-07,  -6.84309889e-07]),\n",
        "  'nit': 6,\n",
        "  'task': 'CONVERGENCE: NORM_OF_PROJECTED_GRADIENT_<=_PGTOL',\n",
        "  'warnflag': 0})"
       ]
      }
     ],
     "prompt_number": 137
    },
    {
     "cell_type": "code",
     "collapsed": false,
     "input": [
      "gd(amat,ls,bt,20)"
     ],
     "language": "python",
     "metadata": {},
     "outputs": [
      {
       "metadata": {},
       "output_type": "pyout",
       "prompt_number": 141,
       "text": [
        "(array([ 1.47878171,  0.99154165,  1.55778628]), 14.223420933408791)"
       ]
      }
     ],
     "prompt_number": 141
    },
    {
     "cell_type": "code",
     "collapsed": false,
     "input": [],
     "language": "python",
     "metadata": {},
     "outputs": []
    }
   ],
   "metadata": {}
  }
 ]
}