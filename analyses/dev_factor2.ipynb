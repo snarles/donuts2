{
 "metadata": {
  "name": "",
  "signature": "sha256:657640a786764f6c7b3f561b4475217f22787099150ad4fb76aec06edd215a0c"
 },
 "nbformat": 3,
 "nbformat_minor": 0,
 "worksheets": [
  {
   "cells": [
    {
     "cell_type": "code",
     "collapsed": false,
     "input": [
      "import sys\n",
      "sys.version"
     ],
     "language": "python",
     "metadata": {},
     "outputs": [
      {
       "metadata": {},
       "output_type": "pyout",
       "prompt_number": 1,
       "text": [
        "'2.7.6 (default, Mar 22 2014, 22:59:56) \\n[GCC 4.8.2]'"
       ]
      }
     ],
     "prompt_number": 1
    },
    {
     "cell_type": "code",
     "collapsed": false,
     "input": [
      "cd .."
     ],
     "language": "python",
     "metadata": {},
     "outputs": [
      {
       "output_type": "stream",
       "stream": "stdout",
       "text": [
        "/home/snarles/github/donuts\n"
       ]
      }
     ],
     "prompt_number": 2
    },
    {
     "cell_type": "code",
     "collapsed": false,
     "input": [
      "import donuts.deconv.utils as du\n",
      "import numpy as np\n",
      "import numpy.random as npr\n",
      "import scipy.optimize as spo"
     ],
     "language": "python",
     "metadata": {},
     "outputs": [],
     "prompt_number": 3
    },
    {
     "cell_type": "code",
     "collapsed": false,
     "input": [
      "# load bvecs\n",
      "bvecs1 = np.loadtxt('/home/snarles/predator/chris1_bvec.csv').T\n",
      "bvecs2 = np.loadtxt('/home/snarles/predator/chris2_bvec.csv').T\n",
      "b0_inds = np.where(sum(bvecs1**2, 1) == 0)[0]\n",
      "b0_inds = b0_inds[2:]\n",
      "diff_inds = np.where(sum(bvecs1**2, 1) > 0)[0]\n",
      "# form design matrix\n",
      "ggrid = du.georandsphere(4, 5)\n",
      "pp = np.shape(ggrid)[0]\n",
      "amat1 = du.ste_tan_kappa(2*ggrid, bvecs1[diff_inds, :])\n",
      "amat2 = du.ste_tan_kappa(2*ggrid, bvecs2[diff_inds, :])"
     ],
     "language": "python",
     "metadata": {},
     "outputs": [],
     "prompt_number": 43
    },
    {
     "cell_type": "code",
     "collapsed": false,
     "input": [
      "clusters = np.loadtxt('/home/snarles/predator/clusters.csv')"
     ],
     "language": "python",
     "metadata": {},
     "outputs": [],
     "prompt_number": 5
    },
    {
     "cell_type": "code",
     "collapsed": false,
     "input": [
      "np.shape(clusters)"
     ],
     "language": "python",
     "metadata": {},
     "outputs": [
      {
       "metadata": {},
       "output_type": "pyout",
       "prompt_number": 6,
       "text": [
        "(34506, 397)"
       ]
      }
     ],
     "prompt_number": 6
    },
    {
     "cell_type": "code",
     "collapsed": false,
     "input": [
      "nclust = int(max(clusters[:, 0])) + 1"
     ],
     "language": "python",
     "metadata": {},
     "outputs": [],
     "prompt_number": 9
    },
    {
     "cell_type": "code",
     "collapsed": false,
     "input": [
      "clust_list = []"
     ],
     "language": "python",
     "metadata": {},
     "outputs": [],
     "prompt_number": 10
    },
    {
     "cell_type": "code",
     "collapsed": false,
     "input": [
      "i = 1\n",
      "ex = clusters[clusters[:, 0]==i, 1:]\n",
      "coords = np.array(ex[:, 0:3], dtype = int)\n",
      "wms = np.array(ex[:, 3], dtype = int)\n",
      "diff1 = ex[:, 4:154]\n",
      "diff2 = ex[:, 154:304]"
     ],
     "language": "python",
     "metadata": {},
     "outputs": [],
     "prompt_number": 38
    },
    {
     "cell_type": "code",
     "collapsed": false,
     "input": [
      "coords"
     ],
     "language": "python",
     "metadata": {},
     "outputs": [
      {
       "metadata": {},
       "output_type": "pyout",
       "prompt_number": 40,
       "text": [
        "array([[22, 64, 15],\n",
        "       [23, 69, 50],\n",
        "       [24, 67, 52],\n",
        "       ..., \n",
        "       [95, 54, 27],\n",
        "       [95, 54, 28],\n",
        "       [95, 58, 31]])"
       ]
      }
     ],
     "prompt_number": 40
    },
    {
     "cell_type": "code",
     "collapsed": false,
     "input": [
      "np.shape(diff2)"
     ],
     "language": "python",
     "metadata": {},
     "outputs": [
      {
       "metadata": {},
       "output_type": "pyout",
       "prompt_number": 20,
       "text": [
        "(639, 150)"
       ]
      }
     ],
     "prompt_number": 20
    },
    {
     "cell_type": "code",
     "collapsed": false,
     "input": [
      "np.shape(ex)"
     ],
     "language": "python",
     "metadata": {},
     "outputs": [
      {
       "metadata": {},
       "output_type": "pyout",
       "prompt_number": 15,
       "text": [
        "(639, 396)"
       ]
      }
     ],
     "prompt_number": 15
    },
    {
     "cell_type": "code",
     "collapsed": false,
     "input": [
      "150 + 150 + 46 + 46"
     ],
     "language": "python",
     "metadata": {},
     "outputs": [
      {
       "metadata": {},
       "output_type": "pyout",
       "prompt_number": 16,
       "text": [
        "392"
       ]
      }
     ],
     "prompt_number": 16
    },
    {
     "cell_type": "code",
     "collapsed": false,
     "input": [
      "clust_list = []\n",
      "for i in range(nclust):\n",
      "    ex = clusters[clusters[:, 0]==i, 1:]\n",
      "    wms = ex[:, 0]\n",
      "    coords = ex[:, 1:4]\n",
      "    diff1 = ex[:, 5:155]\n",
      "    diff2 = ex[:, 155:305]\n",
      "    clust_list.append([wms, coords, diff1, diff2])"
     ],
     "language": "python",
     "metadata": {},
     "outputs": [],
     "prompt_number": 50
    },
    {
     "cell_type": "code",
     "collapsed": false,
     "input": [
      "len(clust_list)"
     ],
     "language": "python",
     "metadata": {},
     "outputs": [
      {
       "metadata": {},
       "output_type": "pyout",
       "prompt_number": 51,
       "text": [
        "54"
       ]
      }
     ],
     "prompt_number": 51
    },
    {
     "cell_type": "code",
     "collapsed": false,
     "input": [
      "wm, coords, diff1, diff2 = clust_list[2]"
     ],
     "language": "python",
     "metadata": {},
     "outputs": [],
     "prompt_number": 52
    },
    {
     "cell_type": "code",
     "collapsed": false,
     "input": [
      "np.shape(wm)"
     ],
     "language": "python",
     "metadata": {},
     "outputs": [
      {
       "metadata": {},
       "output_type": "pyout",
       "prompt_number": 53,
       "text": [
        "(639,)"
       ]
      }
     ],
     "prompt_number": 53
    },
    {
     "cell_type": "markdown",
     "metadata": {},
     "source": [
      "# Problem\n",
      "\n",
      "Solve\n",
      "\n",
      "$$\n",
      "Y = AX + UV\n",
      "$$\n",
      "where $A$ is fixed, $X$ is nonnegative, and $U$, $V$ are low-rank"
     ]
    },
    {
     "cell_type": "code",
     "collapsed": false,
     "input": [],
     "language": "python",
     "metadata": {},
     "outputs": []
    }
   ],
   "metadata": {}
  }
 ]
}