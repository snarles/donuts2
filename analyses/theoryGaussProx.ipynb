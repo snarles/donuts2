{
 "metadata": {
  "name": "",
  "signature": "sha256:9d8754eef2685de2b62de6d277592bfe56826ae7dc74270a1c61ce4899f780ac"
 },
 "nbformat": 3,
 "nbformat_minor": 0,
 "worksheets": [
  {
   "cells": [
    {
     "cell_type": "code",
     "collapsed": false,
     "input": [
      "import os\n",
      "import numpy as np\n",
      "import scipy as sp\n",
      "import scipy.stats as spst\n",
      "import scipy.special as sps\n",
      "import numpy.random as npr\n",
      "import matplotlib.pyplot as plt\n",
      "import numpy.random as npr\n",
      "import scipy.optimize as spo"
     ],
     "language": "python",
     "metadata": {},
     "outputs": [],
     "prompt_number": 1
    },
    {
     "cell_type": "code",
     "collapsed": false,
     "input": [
      "def scalarize(x):\n",
      "    x = np.atleast_1d(x)\n",
      "    if len(x)==1:\n",
      "        return x[0]\n",
      "    else:\n",
      "        return x\n",
      "\n",
      "def numderiv(f,x,delta):\n",
      "    return (f(x+delta)-f(x))/delta\n",
      "\n",
      "def bfgssolve(amat,ls,x0,lb=0.0,nd = True): # use LBFS-G to solve, lb = lower bound, nd = numerical derivative\n",
      "    if nd:\n",
      "        def f(x0):\n",
      "            yh = np.dot(amat,x0)\n",
      "            return sum(np.array([ls[i](yh[i]) for i in range(len(yh))]))\n",
      "        def fprime(x0):\n",
      "            yh = np.dot(amat,x0)\n",
      "            rawg= np.array([numderiv(ls[i],yh[i],1e-3) for i in range(len(yh))])\n",
      "            return np.dot(rawg.T,amat)\n",
      "    else:\n",
      "        def f(x0):\n",
      "            yh = np.dot(amat,x0)\n",
      "            return sum(np.array([ls[i](yh[i])[0] for i in range(len(yh))]))\n",
      "        def fprime(x0):\n",
      "            yh = np.dot(amat,x0)\n",
      "            rawg= np.array([ls[i](yh[i])[1] for i in range(len(yh))])\n",
      "            return np.dot(rawg.T,amat)\n",
      "    bounds = [(lb,100.0)] * len(x0)\n",
      "    res = spo.fmin_l_bfgs_b(f,np.squeeze(x0),fprime=fprime,bounds=bounds)\n",
      "    return res\n",
      "\n",
      "def ncx2gauss(x,df):\n",
      "    def ff(nc):\n",
      "        val= .5*np.log(2*np.pi*(2*df+4*nc)) + .5*(nc+df-x)**2/(4*df+8*nc)\n",
      "        ncx2der= 1/(df + 2*nc) + .5*2*(nc + df-x)/(4*df + 8*nc) - .5*8*((nc+df-x)/(4*df+8*nc))**2\n",
      "        return val, ncx2der\n",
      "    return ff\n",
      "\n",
      "\n",
      "def ncxloss_gauss(x,df): # gaussian approximation to -ncx log likelihood\n",
      "    def ff(mu):\n",
      "        nc = mu**2\n",
      "        val= .5*np.log(2*np.pi*(2*df+4*nc)) + .5*(nc+df-x)**2/(4*df+8*nc)\n",
      "        ncx2der= 1/(df + 2*nc) + .5*2*(nc + df-x)/(4*df + 8*nc) - .5*8*((nc+df-x)/(4*df+8*nc))**2\n",
      "        der = 2*mu*ncx2der\n",
      "        return val,der\n",
      "    return ff\n",
      "\n",
      "def ncx2true(x,df):\n",
      "    val0 = -spst.chi2.logpdf(x,df)\n",
      "    def ff(nc):\n",
      "        def calcval(ncc):\n",
      "            val = np.zeros(len(ncc))\n",
      "            val[ncc !=0] = -spst.ncx2.logpdf(x,df,ncc[ncc!=0])\n",
      "            val[ncc ==0] = val0\n",
      "            return val\n",
      "        val = calcval(np.atleast_1d(nc))\n",
      "        dval = calcval(np.atleast_1d(nc + 1e-3))\n",
      "        ncx2der = 1e3*(dval-val)\n",
      "        return scalarize(val), scalarize(ncx2der)\n",
      "    return ff\n",
      "\n",
      "def ncxloss_true(x,df): # true ncx loss calculated using spst\n",
      "    val0 = -spst.chi2.logpdf(x,df)\n",
      "    def ff(mu):\n",
      "        nc = mu**2\n",
      "        def calcval(ncc):\n",
      "            val = np.zeros(len(ncc))\n",
      "            val[ncc !=0] = -spst.ncx2.logpdf(x,df,ncc[ncc!=0])\n",
      "            val[ncc ==0] = val0\n",
      "            return val\n",
      "        val = calcval(np.atleast_1d(nc))\n",
      "        dval = calcval(np.atleast_1d(nc + 1e-3))\n",
      "        ncx2der = 1e3*(dval-val)\n",
      "        der = 2*mu*ncx2der\n",
      "        return scalarize(val),scalarize(der)\n",
      "    return ff"
     ],
     "language": "python",
     "metadata": {},
     "outputs": [],
     "prompt_number": 205
    },
    {
     "cell_type": "code",
     "collapsed": false,
     "input": [
      "x = 80000.0\n",
      "df = 10\n",
      "ub = 4*x\n",
      "ncs = np.arange(ub/100,ub,ub/100)\n",
      "ll_true = ncx2true(x,df)\n",
      "ll_gauss = ncx2gauss(x,df)\n",
      "plt.scatter(ncs,ll_true(ncs)[0])\n",
      "plt.scatter(ncs,ll_gauss(ncs)[0],color=\"green\")\n",
      "plt.scatter(ncs[np.isnan(ll_true(ncs)[0])],0.0*ncs[np.isnan(ll_true(ncs)[0])],color=\"red\")\n",
      "plt.show()\n",
      "(max(ll_true(ncs)[0]),min(ll_true(ncs)[0]))"
     ],
     "language": "python",
     "metadata": {},
     "outputs": [
      {
       "metadata": {},
       "output_type": "pyout",
       "prompt_number": 235,
       "text": [
        "(-1.7976931348623157e+308, -1.7976931348623157e+308)"
       ]
      }
     ],
     "prompt_number": 235
    },
    {
     "cell_type": "code",
     "collapsed": false,
     "input": [
      "#ll = ncx2gauss(10.0,10)\n",
      "#ncs = np.arange(0,10,.1)\n",
      "#def f0(ncs):\n",
      "#    return ll(ncs)[0]\n",
      "#zip(ll(ncs)[1],numderiv(f0,ncs,1e-5))\n",
      "\n",
      "ll = ncxloss_true(10.0,10)\n",
      "mus = np.arange(-3,3,.1)\n",
      "def f0(mus):\n",
      "    return ll(mus)[0]\n",
      "ll(.5)\n",
      "#zip(ll(mus)[1],numderiv(f0,mus,1e-5))"
     ],
     "language": "python",
     "metadata": {},
     "outputs": [
      {
       "metadata": {},
       "output_type": "pyout",
       "prompt_number": 207,
       "text": [
        "(2.4347213505249647, 0.01007848176914905)"
       ]
      }
     ],
     "prompt_number": 207
    },
    {
     "cell_type": "code",
     "collapsed": false,
     "input": [
      "df = 10\n",
      "x = 50.0\n",
      "mus = np.arange(-10,10,0.5)\n",
      "plt.scatter(mus,ncxloss_gauss(x,df)(mus))\n",
      "plt.show()"
     ],
     "language": "python",
     "metadata": {},
     "outputs": [],
     "prompt_number": 21
    },
    {
     "cell_type": "code",
     "collapsed": false,
     "input": [
      "n = 20\n",
      "p = 500\n",
      "amat = np.absolute(npr.normal(0,1,(n,p)))\n",
      "bt0 = np.zeros(p)\n",
      "bt0[:2] = 10\n",
      "df = 10\n",
      "mu = np.dot(amat,bt0)\n",
      "ysq = spst.ncx2.rvs(df,mu**2)\n",
      "ls_gauss = [ncxloss_gauss(y,df) for y in ysq]\n",
      "ls_true = [ncxloss_true(y,df) for y in ysq]\n",
      "def recovery_score(x0): # higher score is better\n",
      "    diff = x0-bt0\n",
      "    return (-sum(diff[diff > 0]), sum(diff[diff <0]))\n",
      "bt = np.squeeze(spo.nnls(amat,np.squeeze(np.sqrt(ysq)))[0])\n",
      "res_gauss = bfgssolve(amat,ls_gauss,np.array(bt),0.0,False)\n",
      "res_true = bfgssolve(amat,ls_true,np.array(bt),0.0,False)\n",
      "[recovery_score(bt),recovery_score(res_gauss[0]),recovery_score(res_true[0])]"
     ],
     "language": "python",
     "metadata": {},
     "outputs": []
    },
    {
     "cell_type": "code",
     "collapsed": false,
     "input": [],
     "language": "python",
     "metadata": {},
     "outputs": [
      {
       "metadata": {},
       "output_type": "pyout",
       "prompt_number": 135,
       "text": [
        "[(-1.9647426042602274, -0.97471130326243483),\n",
        " (-1.0698679042678605, -0.76509560030088863)]"
       ]
      }
     ],
     "prompt_number": 135
    },
    {
     "cell_type": "code",
     "collapsed": false,
     "input": [],
     "language": "python",
     "metadata": {},
     "outputs": [
      {
       "metadata": {},
       "output_type": "pyout",
       "prompt_number": 126,
       "text": [
        "[(17.314355579029765, 4.4603492076039428),\n",
        " (17.523844434922012, 3.8050717858314842)]"
       ]
      }
     ],
     "prompt_number": 126
    },
    {
     "cell_type": "code",
     "collapsed": false,
     "input": [],
     "language": "python",
     "metadata": {},
     "outputs": []
    }
   ],
   "metadata": {}
  }
 ]
}