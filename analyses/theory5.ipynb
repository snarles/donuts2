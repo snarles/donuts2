{
 "metadata": {
  "name": "",
  "signature": "sha256:5464c955de1ca58ec37bdd334e77cb8953fbc456235d0579f5fb305d070effac"
 },
 "nbformat": 3,
 "nbformat_minor": 0,
 "worksheets": [
  {
   "cells": [
    {
     "cell_type": "markdown",
     "metadata": {},
     "source": [
      "MLE test for noncentral chi squared"
     ]
    },
    {
     "cell_type": "code",
     "collapsed": false,
     "input": [
      "import os\n",
      "import numpy as np\n",
      "import scipy as sp\n",
      "import scipy.stats as spst\n",
      "import scipy.special as sps\n",
      "import scipy.optimize as spo\n",
      "import numpy.random as npr\n",
      "import matplotlib.pyplot as plt"
     ],
     "language": "python",
     "metadata": {},
     "outputs": [],
     "prompt_number": 58
    },
    {
     "cell_type": "code",
     "collapsed": false,
     "input": [
      "def numderiv2(f,x,delta):\n",
      "    return (f(x+delta)+f(x-delta)-2*f(x))/(delta**2)\n",
      "\n",
      "def numderiv(f,x,delta):\n",
      "    return (f(x+delta)-f(x))/delta\n",
      "\n",
      "def logivy(v,y):\n",
      "    y = np.atleast_1d(y)\n",
      "    ans = np.array(y)\n",
      "    ans[y < 500] = np.log(sps.iv(v,y[y < 500]))\n",
      "    ans[y >= 500] = y[y >= 500] - np.log(2*np.pi*y[y >= 500])\n",
      "    return ans\n",
      "\n",
      "def logncx2pdf_x(x,df,nc): #only x varies\n",
      "    if nc==0:\n",
      "        return spst.chi2.logpdf(x,df)\n",
      "    else:\n",
      "        return -np.log(2.0) -(x+nc)/2.0 + (df/4 - .5)*np.log(x/nc) + logivy((df/2-1),np.sqrt(nc*x))\n",
      "\n",
      "def logncx2pdf_nc(x,df,nc): #only nc varies\n",
      "    nc = np.atleast_1d(nc)\n",
      "    ans= -np.log(2.0) -(x+nc)/2.0 + (df/4 - .5)*np.log(x/nc) + logivy((df/2-1),np.sqrt(nc*x))\n",
      "    ans[nc==0] = spst.chi2.logpdf(x,df)\n",
      "    return ans\n",
      "\n",
      "def convex_nc_loss(x,df):\n",
      "    def ff(mu):\n",
      "        return -logncx2pdf_nc(x,df,mu**2)\n",
      "    def f2(mu):\n",
      "        return numderiv2(ff,mu,1e-3) - 1e-2\n",
      "    mugrid = np.arange(0.0,2*df,df*0.01)\n",
      "    res = np.where(f2(mugrid) < 1e-2)[0]\n",
      "    if len(res) > 0:\n",
      "        imin = np.where(f2(mugrid) < 1e-2)[0][-1]\n",
      "        muinf = mugrid[imin]\n",
      "    else:\n",
      "        muinf = 0.0\n",
      "    val = ff(muinf)\n",
      "    dval = numderiv(ff,muinf,1e-3)\n",
      "    d2val = 1e-2\n",
      "    #print(muinf)\n",
      "    def cff(mu):\n",
      "        mu = np.atleast_1d(mu)\n",
      "        ans = np.array(mu)\n",
      "        ans[mu > muinf] = -logncx2pdf_nc(x,df,mu[mu > muinf]**2)\n",
      "        ans[mu <= muinf] = val + (mu[mu <= muinf]-muinf)*dval + .5*d2val*(mu[mu <= muinf]-muinf)**2\n",
      "        return ans\n",
      "    return cff"
     ],
     "language": "python",
     "metadata": {},
     "outputs": [],
     "prompt_number": 159
    },
    {
     "cell_type": "code",
     "collapsed": false,
     "input": [
      "nc = 10000\n",
      "df = 10\n",
      "n = 100\n",
      "x = spst.ncx2.rvs(df,nc,size=n)\n",
      "def likelihood(nc):\n",
      "    return sum(logncx2pdf_x(x,df,nc))"
     ],
     "language": "python",
     "metadata": {},
     "outputs": [],
     "prompt_number": 35
    },
    {
     "cell_type": "code",
     "collapsed": false,
     "input": [
      "ncs = np.arange(0.0,nc*2,nc*0.1)\n",
      "lks = np.array([likelihood(nch) for nch in ncs])\n",
      "plt.scatter(ncs,lks)\n",
      "plt.scatter(nc,likelihood(nc),color=\"green\")\n",
      "imax = np.where(lks==max(lks))[0][0]\n",
      "plt.scatter(ncs[imax],lks[imax],color=\"red\")\n",
      "plt.show()"
     ],
     "language": "python",
     "metadata": {},
     "outputs": [],
     "prompt_number": 36
    },
    {
     "cell_type": "code",
     "collapsed": false,
     "input": [],
     "language": "python",
     "metadata": {},
     "outputs": [
      {
       "metadata": {},
       "output_type": "pyout",
       "prompt_number": 25,
       "text": [
        "39"
       ]
      }
     ],
     "prompt_number": 25
    },
    {
     "cell_type": "markdown",
     "metadata": {},
     "source": [
      "Inflection point finding test"
     ]
    },
    {
     "cell_type": "code",
     "collapsed": false,
     "input": [
      "def numderiv2(f,x,delta):\n",
      "    return (f(x+delta)+f(x-delta)-2*f(x))/(delta**2)\n",
      "\n",
      "df = 10\n",
      "x = 1000.0\n",
      "\n",
      "def ff(mu):\n",
      "    return -logncx2pdf_nc(x,df,mu**2)\n",
      "def f2(mu):\n",
      "    return numderiv2(ff,mu,1e-3)\n",
      "\n",
      "mus = np.arange(0.08,10.0,.01)\n",
      "y = logncx2pdf_nc(x,df,mus**2)\n",
      "d2y = f2(mus)\n",
      "\n",
      "#plt.scatter(mus,y)\n",
      "#plt.scatter(mus,d2y)\n",
      "#plt.show()\n",
      "\n",
      "muinf = spo.newton(f2,1e-2)[0]\n",
      "mus = np.arange(0.0,5*muinf,muinf*0.01)\n",
      "y = ff(mus)\n",
      "plt.scatter(mus,y)\n",
      "plt.show()    "
     ],
     "language": "python",
     "metadata": {},
     "outputs": [],
     "prompt_number": 66
    },
    {
     "cell_type": "code",
     "collapsed": false,
     "input": [
      "df = 10\n",
      "x = 1000.0\n",
      "def ff(mu):\n",
      "    return -logncx2pdf_nc(x,df,mu**2)\n",
      "cff = convex_nc_loss(x,df)\n",
      "mus = np.arange(-20.0,20.0,.1)\n",
      "plt.scatter(mus,ff(mus))\n",
      "plt.scatter(mus,cff(mus),color=\"red\")\n",
      "plt.show()"
     ],
     "language": "python",
     "metadata": {},
     "outputs": [],
     "prompt_number": 144
    },
    {
     "cell_type": "code",
     "collapsed": false,
     "input": [
      "def ff(mu):\n",
      "    return -logncx2pdf_nc(x,df,mu**2)\n",
      "def f2(mu):\n",
      "    return numderiv2(ff,mu,1e-3) - 1e-2\n",
      "oguess = df/2\n",
      "muinf = spo.newton(f2,oguess)[0]\n",
      "while np.absolute(muinf) > df/2:\n",
      "    oguess = oguess*.9\n",
      "    muinf = spo.newton(f2,oguess)[0]\n",
      "muinf=np.absolute(muinf)\n",
      "val = ff(muinf)\n",
      "dval = numderiv(ff,muinf,1e-3)\n",
      "d2val = 1e-2\n",
      "muinf\n",
      "mus = np.arange(-100,100,1.0)\n",
      "plt.scatter(mus,ff(mus))\n",
      "plt.scatter(muinf,ff(muinf),color=\"red\")\n",
      "plt.show()\n",
      "muinf"
     ],
     "language": "python",
     "metadata": {},
     "outputs": [
      {
       "metadata": {},
       "output_type": "pyout",
       "prompt_number": 121,
       "text": [
        "1.802605832650553"
       ]
      }
     ],
     "prompt_number": 121
    },
    {
     "cell_type": "code",
     "collapsed": false,
     "input": [
      "muinf = spo.newton(f2,df/3)[0]\n",
      "muinf"
     ],
     "language": "python",
     "metadata": {},
     "outputs": [
      {
       "metadata": {},
       "output_type": "pyout",
       "prompt_number": 117,
       "text": [
        "1.8026058332239596"
       ]
      }
     ],
     "prompt_number": 117
    },
    {
     "cell_type": "markdown",
     "metadata": {},
     "source": [
      "MLE using convex loss"
     ]
    },
    {
     "cell_type": "code",
     "collapsed": false,
     "input": [
      "n = 1000\n",
      "df = 10\n",
      "mu = 2.0\n",
      "x = spst.ncx2.rvs(df,mu**2,size=n)\n",
      "ls=[convex_nc_loss(xx,df) for xx in x]\n",
      "def likelihood(mu):\n",
      "    return sum([ll(mu) for ll in ls])"
     ],
     "language": "python",
     "metadata": {},
     "outputs": [],
     "prompt_number": 169
    },
    {
     "cell_type": "code",
     "collapsed": false,
     "input": [
      "mus = np.arange(1e-3,mu*2,mu*0.01)\n",
      "lks = np.array([likelihood(muh) for muh in mus])\n",
      "plt.scatter(mus,lks)\n",
      "plt.scatter(mu,likelihood(mu),color=\"green\")\n",
      "imax = np.where(lks==min(lks))[0][0]\n",
      "plt.scatter(mus[imax],lks[imax],color=\"red\")\n",
      "plt.show()"
     ],
     "language": "python",
     "metadata": {},
     "outputs": []
    },
    {
     "cell_type": "code",
     "collapsed": false,
     "input": [],
     "language": "python",
     "metadata": {},
     "outputs": []
    }
   ],
   "metadata": {}
  }
 ]
}