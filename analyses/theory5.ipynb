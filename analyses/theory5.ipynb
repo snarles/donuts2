{
 "metadata": {
  "name": "",
  "signature": "sha256:dc2eb85e9436558ed20687bd8c3ac87e3b97aeac7468c9c07e18cb5593108234"
 },
 "nbformat": 3,
 "nbformat_minor": 0,
 "worksheets": [
  {
   "cells": [
    {
     "cell_type": "markdown",
     "metadata": {},
     "source": [
      "MLE test for noncentral chi squared"
     ]
    },
    {
     "cell_type": "code",
     "collapsed": false,
     "input": [
      "import os\n",
      "import numpy as np\n",
      "import scipy as sp\n",
      "import scipy.stats as spst\n",
      "import scipy.special as sps\n",
      "import scipy.optimize as spo\n",
      "import numpy.random as npr\n",
      "import matplotlib.pyplot as plt"
     ],
     "language": "python",
     "metadata": {},
     "outputs": [],
     "prompt_number": 58
    },
    {
     "cell_type": "code",
     "collapsed": false,
     "input": [
      "def numderiv2(f,x,delta):\n",
      "    return (f(x+delta)+f(x-delta)-2*f(x))/(delta**2)\n",
      "\n",
      "def numderiv(f,x,delta):\n",
      "    return (f(x+delta)-f(x))/delta\n",
      "\n",
      "def logivy(v,y):\n",
      "    y = np.atleast_1d(y)\n",
      "    ans = np.array(y)\n",
      "    ans[y < 500] = np.log(sps.iv(v,y[y < 500]))\n",
      "    ans[y >= 500] = y[y >= 500] - np.log(2*np.pi*y[y >= 500])\n",
      "    return ans\n",
      "\n",
      "def logncx2pdf_x(x,df,nc): #only x varies\n",
      "    if nc==0:\n",
      "        return spst.chi2.logpdf(x,df)\n",
      "    else:\n",
      "        return -np.log(2.0) -(x+nc)/2.0 + (df/4 - .5)*np.log(x/nc) + logivy((df/2-1),np.sqrt(nc*x))\n",
      "\n",
      "def logncx2pdf_nc(x,df,nc): #only nc varies\n",
      "    nc = np.atleast_1d(nc)\n",
      "    ans= -np.log(2.0) -(x+nc)/2.0 + (df/4 - .5)*np.log(x/nc) + logivy((df/2-1),np.sqrt(nc*x))\n",
      "    ans[nc==0] = spst.chi2.logpdf(x,df)\n",
      "    return ans\n",
      "\n",
      "def convex_nc_loss(x,df):\n",
      "    def ff(mu):\n",
      "        return -logncx2pdf_nc(x,df,mu**2)\n",
      "    def f2(mu):\n",
      "        return numderiv2(ff,mu,1e-3) - 1e-2\n",
      "    oguess = df/2\n",
      "    muinf = spo.newton(f2,oguess)[0]\n",
      "    while np.absolute(muinf) > df/2:\n",
      "        oguess = oguess*.9\n",
      "        muinf = spo.newton(f2,oguess)[0]\n",
      "    muinf=np.absolute(muinf)\n",
      "    val = ff(muinf)\n",
      "    dval = numderiv(ff,muinf,1e-3)\n",
      "    d2val = 1e-2\n",
      "    #print(muinf)\n",
      "    def cff(mu):\n",
      "        mu = np.atleast_1d(mu)\n",
      "        ans = np.array(mu)\n",
      "        ans[mu > muinf] = -logncx2pdf_nc(x,df,mu[mu > muinf]**2)\n",
      "        ans[mu <= muinf] = val + (mu[mu <= muinf]-muinf)*dval + .5*d2val*(mu[mu <= muinf]-muinf)**2\n",
      "        return ans\n",
      "    return cff"
     ],
     "language": "python",
     "metadata": {},
     "outputs": [],
     "prompt_number": 130
    },
    {
     "cell_type": "code",
     "collapsed": false,
     "input": [
      "nc = 10000\n",
      "df = 10\n",
      "n = 100\n",
      "x = spst.ncx2.rvs(df,nc,size=n)\n",
      "def likelihood(nc):\n",
      "    return sum(logncx2pdf_x(x,df,nc))"
     ],
     "language": "python",
     "metadata": {},
     "outputs": [],
     "prompt_number": 35
    },
    {
     "cell_type": "code",
     "collapsed": false,
     "input": [
      "ncs = np.arange(0.0,nc*2,nc*0.1)\n",
      "lks = np.array([likelihood(nch) for nch in ncs])\n",
      "plt.scatter(ncs,lks)\n",
      "plt.scatter(nc,likelihood(nc),color=\"green\")\n",
      "imax = np.where(lks==max(lks))[0][0]\n",
      "plt.scatter(ncs[imax],lks[imax],color=\"red\")\n",
      "plt.show()"
     ],
     "language": "python",
     "metadata": {},
     "outputs": [],
     "prompt_number": 36
    },
    {
     "cell_type": "code",
     "collapsed": false,
     "input": [],
     "language": "python",
     "metadata": {},
     "outputs": [
      {
       "metadata": {},
       "output_type": "pyout",
       "prompt_number": 25,
       "text": [
        "39"
       ]
      }
     ],
     "prompt_number": 25
    },
    {
     "cell_type": "markdown",
     "metadata": {},
     "source": [
      "Inflection point finding test"
     ]
    },
    {
     "cell_type": "code",
     "collapsed": false,
     "input": [
      "def numderiv2(f,x,delta):\n",
      "    return (f(x+delta)+f(x-delta)-2*f(x))/(delta**2)\n",
      "\n",
      "df = 10\n",
      "x = 1000.0\n",
      "\n",
      "def ff(mu):\n",
      "    return -logncx2pdf_nc(x,df,mu**2)\n",
      "def f2(mu):\n",
      "    return numderiv2(ff,mu,1e-3)\n",
      "\n",
      "mus = np.arange(0.08,10.0,.01)\n",
      "y = logncx2pdf_nc(x,df,mus**2)\n",
      "d2y = f2(mus)\n",
      "\n",
      "#plt.scatter(mus,y)\n",
      "#plt.scatter(mus,d2y)\n",
      "#plt.show()\n",
      "\n",
      "muinf = spo.newton(f2,1e-2)[0]\n",
      "mus = np.arange(0.0,5*muinf,muinf*0.01)\n",
      "y = ff(mus)\n",
      "plt.scatter(mus,y)\n",
      "plt.show()    "
     ],
     "language": "python",
     "metadata": {},
     "outputs": [],
     "prompt_number": 66
    },
    {
     "cell_type": "code",
     "collapsed": false,
     "input": [
      "df = 10\n",
      "x = 1000.0\n",
      "def ff(mu):\n",
      "    return -logncx2pdf_nc(x,df,mu**2)\n",
      "cff = convex_nc_loss(x,df)\n",
      "mus = np.arange(-20.0,20.0,.1)\n",
      "plt.scatter(mus,ff(mus))\n",
      "plt.scatter(mus,cff(mus),color=\"red\")\n",
      "plt.show()"
     ],
     "language": "python",
     "metadata": {},
     "outputs": [
      {
       "output_type": "stream",
       "stream": "stdout",
       "text": [
        "1.80260583265\n"
       ]
      }
     ],
     "prompt_number": 125
    },
    {
     "cell_type": "code",
     "collapsed": false,
     "input": [
      "def ff(mu):\n",
      "    return -logncx2pdf_nc(x,df,mu**2)\n",
      "def f2(mu):\n",
      "    return numderiv2(ff,mu,1e-3) - 1e-2\n",
      "oguess = df/2\n",
      "muinf = spo.newton(f2,oguess)[0]\n",
      "while np.absolute(muinf) > df/2:\n",
      "    oguess = oguess*.9\n",
      "    muinf = spo.newton(f2,oguess)[0]\n",
      "muinf=np.absolute(muinf)\n",
      "val = ff(muinf)\n",
      "dval = numderiv(ff,muinf,1e-3)\n",
      "d2val = 1e-2\n",
      "muinf\n",
      "mus = np.arange(-100,100,1.0)\n",
      "plt.scatter(mus,ff(mus))\n",
      "plt.scatter(muinf,ff(muinf),color=\"red\")\n",
      "plt.show()\n",
      "muinf"
     ],
     "language": "python",
     "metadata": {},
     "outputs": [
      {
       "metadata": {},
       "output_type": "pyout",
       "prompt_number": 121,
       "text": [
        "1.802605832650553"
       ]
      }
     ],
     "prompt_number": 121
    },
    {
     "cell_type": "code",
     "collapsed": false,
     "input": [
      "muinf = spo.newton(f2,df/3)[0]\n",
      "muinf"
     ],
     "language": "python",
     "metadata": {},
     "outputs": [
      {
       "metadata": {},
       "output_type": "pyout",
       "prompt_number": 117,
       "text": [
        "1.8026058332239596"
       ]
      }
     ],
     "prompt_number": 117
    },
    {
     "cell_type": "code",
     "collapsed": false,
     "input": [
      "df/3"
     ],
     "language": "python",
     "metadata": {},
     "outputs": [
      {
       "metadata": {},
       "output_type": "pyout",
       "prompt_number": 115,
       "text": [
        "3"
       ]
      }
     ],
     "prompt_number": 115
    },
    {
     "cell_type": "code",
     "collapsed": false,
     "input": [
      "n = 10\n",
      "df = 10\n",
      "mu = 10.0\n",
      "x = spst.ncx2.rvs(df,mu**2,size=n)\n",
      "ls=[convex_nc_loss(xx,df) for xx in x]"
     ],
     "language": "python",
     "metadata": {},
     "outputs": [
      {
       "output_type": "stream",
       "stream": "stderr",
       "text": [
        "/usr/local/lib/python2.7/dist-packages/scipy/optimize/zeros.py:150: RuntimeWarning: Tolerance of [ 207438.69157225] reached\n",
        "  warnings.warn(msg, RuntimeWarning)\n",
        "/usr/local/lib/python2.7/dist-packages/scipy/optimize/zeros.py:150: RuntimeWarning: Tolerance of [ 2684.97754931] reached\n",
        "  warnings.warn(msg, RuntimeWarning)\n",
        "/usr/local/lib/python2.7/dist-packages/scipy/optimize/zeros.py:150: RuntimeWarning: Tolerance of [-69061.53770519] reached\n",
        "  warnings.warn(msg, RuntimeWarning)\n",
        "/usr/local/lib/python2.7/dist-packages/scipy/optimize/zeros.py:150: RuntimeWarning: Tolerance of [-127.75039104] reached\n",
        "  warnings.warn(msg, RuntimeWarning)\n",
        "/usr/local/lib/python2.7/dist-packages/scipy/optimize/zeros.py:150: RuntimeWarning: Tolerance of [-43722.64813038] reached\n",
        "  warnings.warn(msg, RuntimeWarning)\n",
        "/usr/local/lib/python2.7/dist-packages/scipy/optimize/zeros.py:150: RuntimeWarning: Tolerance of [-0.14841399] reached\n",
        "  warnings.warn(msg, RuntimeWarning)\n"
       ]
      },
      {
       "output_type": "stream",
       "stream": "stderr",
       "text": [
        "/usr/local/lib/python2.7/dist-packages/scipy/optimize/zeros.py:150: RuntimeWarning: Tolerance of [-2004.98527231] reached\n",
        "  warnings.warn(msg, RuntimeWarning)\n",
        "/usr/local/lib/python2.7/dist-packages/scipy/optimize/zeros.py:150: RuntimeWarning: Tolerance of [-27599.59825898] reached\n",
        "  warnings.warn(msg, RuntimeWarning)\n",
        "/usr/local/lib/python2.7/dist-packages/scipy/optimize/zeros.py:150: RuntimeWarning: Tolerance of [ 4.95252198] reached\n",
        "  warnings.warn(msg, RuntimeWarning)\n",
        "/usr/local/lib/python2.7/dist-packages/scipy/optimize/zeros.py:150: RuntimeWarning: Tolerance of [ 1412.48318969] reached\n",
        "  warnings.warn(msg, RuntimeWarning)\n",
        "/usr/local/lib/python2.7/dist-packages/scipy/optimize/zeros.py:150: RuntimeWarning: Tolerance of [ 4935.91141655] reached\n",
        "  warnings.warn(msg, RuntimeWarning)\n",
        "/usr/local/lib/python2.7/dist-packages/scipy/optimize/zeros.py:150: RuntimeWarning: Tolerance of [-27865.83584623] reached\n",
        "  warnings.warn(msg, RuntimeWarning)\n",
        "/usr/local/lib/python2.7/dist-packages/scipy/optimize/zeros.py:150: RuntimeWarning: Tolerance of [-874.08610488] reached\n",
        "  warnings.warn(msg, RuntimeWarning)\n"
       ]
      },
      {
       "output_type": "stream",
       "stream": "stderr",
       "text": [
        "/usr/local/lib/python2.7/dist-packages/scipy/optimize/zeros.py:150: RuntimeWarning: Tolerance of [-53947.67862644] reached\n",
        "  warnings.warn(msg, RuntimeWarning)\n",
        "/usr/local/lib/python2.7/dist-packages/scipy/optimize/zeros.py:150: RuntimeWarning: Tolerance of [ 18377.09025563] reached\n",
        "  warnings.warn(msg, RuntimeWarning)\n",
        "/usr/local/lib/python2.7/dist-packages/scipy/optimize/zeros.py:150: RuntimeWarning: Tolerance of [ 0.08391088] reached\n",
        "  warnings.warn(msg, RuntimeWarning)\n",
        "/usr/local/lib/python2.7/dist-packages/scipy/optimize/zeros.py:150: RuntimeWarning: Tolerance of [ 8184.29388057] reached\n",
        "  warnings.warn(msg, RuntimeWarning)\n",
        "/usr/local/lib/python2.7/dist-packages/scipy/optimize/zeros.py:150: RuntimeWarning: Tolerance of [ 5110.12629721] reached\n",
        "  warnings.warn(msg, RuntimeWarning)\n",
        "/usr/local/lib/python2.7/dist-packages/scipy/optimize/zeros.py:150: RuntimeWarning: Tolerance of [-0.16626024] reached\n",
        "  warnings.warn(msg, RuntimeWarning)\n"
       ]
      },
      {
       "output_type": "stream",
       "stream": "stderr",
       "text": [
        "/usr/local/lib/python2.7/dist-packages/scipy/optimize/zeros.py:150: RuntimeWarning: Tolerance of [ 0.20693969] reached\n",
        "  warnings.warn(msg, RuntimeWarning)\n",
        "/usr/local/lib/python2.7/dist-packages/scipy/optimize/zeros.py:150: RuntimeWarning: Tolerance of [ 1557.16096171] reached\n",
        "  warnings.warn(msg, RuntimeWarning)\n",
        "/usr/local/lib/python2.7/dist-packages/scipy/optimize/zeros.py:150: RuntimeWarning: Tolerance of [-13105.06190486] reached\n",
        "  warnings.warn(msg, RuntimeWarning)\n",
        "/usr/local/lib/python2.7/dist-packages/scipy/optimize/zeros.py:150: RuntimeWarning: Tolerance of [ 0.00047658] reached\n",
        "  warnings.warn(msg, RuntimeWarning)\n",
        "/usr/local/lib/python2.7/dist-packages/scipy/optimize/zeros.py:150: RuntimeWarning: Tolerance of [-0.29925072] reached\n",
        "  warnings.warn(msg, RuntimeWarning)\n"
       ]
      },
      {
       "output_type": "stream",
       "stream": "stderr",
       "text": [
        "/usr/local/lib/python2.7/dist-packages/scipy/optimize/zeros.py:150: RuntimeWarning: Tolerance of [-4853.27248374] reached\n",
        "  warnings.warn(msg, RuntimeWarning)\n",
        "/usr/local/lib/python2.7/dist-packages/scipy/optimize/zeros.py:150: RuntimeWarning: Tolerance of [-2946.54760865] reached\n",
        "  warnings.warn(msg, RuntimeWarning)\n",
        "/usr/local/lib/python2.7/dist-packages/scipy/optimize/zeros.py:150: RuntimeWarning: Tolerance of [-41350.03916606] reached\n",
        "  warnings.warn(msg, RuntimeWarning)\n",
        "/usr/local/lib/python2.7/dist-packages/scipy/optimize/zeros.py:150: RuntimeWarning: Tolerance of [ 3756.0432488] reached\n",
        "  warnings.warn(msg, RuntimeWarning)\n",
        "/usr/local/lib/python2.7/dist-packages/scipy/optimize/zeros.py:150: RuntimeWarning: Tolerance of [ 0.00190903] reached\n",
        "  warnings.warn(msg, RuntimeWarning)\n"
       ]
      },
      {
       "output_type": "stream",
       "stream": "stderr",
       "text": [
        "/usr/local/lib/python2.7/dist-packages/scipy/optimize/zeros.py:150: RuntimeWarning: Tolerance of [ 1734.13464788] reached\n",
        "  warnings.warn(msg, RuntimeWarning)\n",
        "/usr/local/lib/python2.7/dist-packages/scipy/optimize/zeros.py:150: RuntimeWarning: Tolerance of [ 0.77199285] reached\n",
        "  warnings.warn(msg, RuntimeWarning)\n",
        "/usr/local/lib/python2.7/dist-packages/scipy/optimize/zeros.py:150: RuntimeWarning: Tolerance of [ 0.18612169] reached\n",
        "  warnings.warn(msg, RuntimeWarning)\n",
        "/usr/local/lib/python2.7/dist-packages/scipy/optimize/zeros.py:150: RuntimeWarning: Tolerance of [-1.18258716] reached\n",
        "  warnings.warn(msg, RuntimeWarning)\n",
        "/usr/local/lib/python2.7/dist-packages/scipy/optimize/zeros.py:150: RuntimeWarning: Tolerance of [ 16497.36767731] reached\n",
        "  warnings.warn(msg, RuntimeWarning)\n",
        "/usr/local/lib/python2.7/dist-packages/scipy/optimize/zeros.py:150: RuntimeWarning: Tolerance of [-3527.85871951] reached\n",
        "  warnings.warn(msg, RuntimeWarning)\n"
       ]
      },
      {
       "output_type": "stream",
       "stream": "stderr",
       "text": [
        "/usr/local/lib/python2.7/dist-packages/scipy/optimize/zeros.py:150: RuntimeWarning: Tolerance of [-95481.08126077] reached\n",
        "  warnings.warn(msg, RuntimeWarning)\n",
        "/usr/local/lib/python2.7/dist-packages/scipy/optimize/zeros.py:150: RuntimeWarning: Tolerance of [-33997.24869488] reached\n",
        "  warnings.warn(msg, RuntimeWarning)\n",
        "/usr/local/lib/python2.7/dist-packages/scipy/optimize/zeros.py:150: RuntimeWarning: Tolerance of [-1.35466696] reached\n",
        "  warnings.warn(msg, RuntimeWarning)\n",
        "/usr/local/lib/python2.7/dist-packages/scipy/optimize/zeros.py:150: RuntimeWarning: Tolerance of [ 56010.71477697] reached\n",
        "  warnings.warn(msg, RuntimeWarning)\n",
        "/usr/local/lib/python2.7/dist-packages/scipy/optimize/zeros.py:150: RuntimeWarning: Tolerance of [-15675.97233775] reached\n",
        "  warnings.warn(msg, RuntimeWarning)\n",
        "/usr/local/lib/python2.7/dist-packages/scipy/optimize/zeros.py:150: RuntimeWarning: Tolerance of [-27619.00808652] reached\n",
        "  warnings.warn(msg, RuntimeWarning)\n",
        "/usr/local/lib/python2.7/dist-packages/scipy/optimize/zeros.py:150: RuntimeWarning: Tolerance of [ 19830.00131655] reached\n",
        "  warnings.warn(msg, RuntimeWarning)\n"
       ]
      }
     ],
     "prompt_number": 131
    },
    {
     "cell_type": "code",
     "collapsed": false,
     "input": [
      "x"
     ],
     "language": "python",
     "metadata": {},
     "outputs": [
      {
       "metadata": {},
       "output_type": "pyout",
       "prompt_number": 132,
       "text": [
        "array([ 127.40050426,   95.53185423,   97.02744448,  105.57699718,\n",
        "         87.764719  ,  102.19065252,   87.03242401,  123.24457499,\n",
        "        117.65607185,   94.76238071])"
       ]
      }
     ],
     "prompt_number": 132
    },
    {
     "cell_type": "code",
     "collapsed": false,
     "input": [
      "n = 10\n",
      "df = 10\n",
      "x = 100.0\n",
      "def ff(mu):\n",
      "    return -logncx2pdf_nc(x,df,mu**2)\n",
      "def f2(mu):\n",
      "    return numderiv2(ff,mu,1e-3) - 1e-2\n",
      "oguess = df/2\n",
      "muinf = spo.newton(f2,oguess)[0]\n",
      "while np.absolute(muinf) > df/2:\n",
      "    oguess = oguess*.9\n",
      "    muinf = spo.newton(f2,oguess)[0]\n",
      "muinf=np.absolute(muinf)\n",
      "val = ff(muinf)\n",
      "dval = numderiv(ff,muinf,1e-3)\n",
      "d2val = 1e-2\n",
      "muinf"
     ],
     "language": "python",
     "metadata": {},
     "outputs": [
      {
       "output_type": "stream",
       "stream": "stderr",
       "text": [
        "/usr/local/lib/python2.7/dist-packages/scipy/optimize/zeros.py:150: RuntimeWarning: Tolerance of [-13235.64624935] reached\n",
        "  warnings.warn(msg, RuntimeWarning)\n",
        "/usr/local/lib/python2.7/dist-packages/scipy/optimize/zeros.py:150: RuntimeWarning: Tolerance of [-38719.82302001] reached\n",
        "  warnings.warn(msg, RuntimeWarning)\n",
        "/usr/local/lib/python2.7/dist-packages/scipy/optimize/zeros.py:150: RuntimeWarning: Tolerance of [-0.29290369] reached\n",
        "  warnings.warn(msg, RuntimeWarning)\n",
        "/usr/local/lib/python2.7/dist-packages/scipy/optimize/zeros.py:150: RuntimeWarning: Tolerance of [-7914.29781346] reached\n",
        "  warnings.warn(msg, RuntimeWarning)\n"
       ]
      },
      {
       "metadata": {},
       "output_type": "pyout",
       "prompt_number": 133,
       "text": [
        "1.5655217427849135"
       ]
      }
     ],
     "prompt_number": 133
    },
    {
     "cell_type": "code",
     "collapsed": false,
     "input": [],
     "language": "python",
     "metadata": {},
     "outputs": []
    }
   ],
   "metadata": {}
  }
 ]
}