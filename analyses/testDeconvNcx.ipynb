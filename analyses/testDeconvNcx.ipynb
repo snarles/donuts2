{
 "metadata": {
  "name": "",
  "signature": "sha256:33958327cccf1113b94c13c8550ed22099b195cd7cee2827e2c85cb4a0f64b24"
 },
 "nbformat": 3,
 "nbformat_minor": 0,
 "worksheets": [
  {
   "cells": [
    {
     "cell_type": "code",
     "collapsed": false,
     "input": [
      "import os\n",
      "import numpy as np\n",
      "import scipy.optimize as spo\n",
      "import scipy.stats as spst\n",
      "import numpy.random as npr\n",
      "import matplotlib.pyplot as plt\n",
      "\n",
      "os.chdir(\"..\")\n",
      "import donuts.deconv.utils as du\n",
      "import donuts.deconv.ncx as nc"
     ],
     "language": "python",
     "metadata": {},
     "outputs": [],
     "prompt_number": 5
    },
    {
     "cell_type": "code",
     "collapsed": false,
     "input": [
      "v = du.geosphere(5)"
     ],
     "language": "python",
     "metadata": {},
     "outputs": [],
     "prompt_number": 2
    },
    {
     "cell_type": "code",
     "collapsed": false,
     "input": [
      "n = 20\n",
      "p = 500\n",
      "amat = np.absolute(npr.normal(0,1,(n,p)))\n",
      "bt0 = np.zeros((p,1))\n",
      "bt0[:2] = 1\n",
      "df = 10\n",
      "mu = np.dot(amat,bt0)\n",
      "ysq = spst.ncx2.rvs(df,mu**2)\n",
      "ls = nc.ncxlosses(df,ysq)\n",
      "\n",
      "def f(x0):\n",
      "    yh = np.dot(amat,x0)\n",
      "    return sum(np.array([ls[i](yh[i])[0] for i in range(len(yh))]))\n",
      "def fprime(x0):\n",
      "    yh = np.dot(amat,x0)\n",
      "    rawg= np.array([ls[i](yh[i])[1] for i in range(len(yh))])\n",
      "    return np.dot(rawg.T,amat)"
     ],
     "language": "python",
     "metadata": {},
     "outputs": [],
     "prompt_number": 6
    },
    {
     "cell_type": "code",
     "collapsed": false,
     "input": [
      "bt = spo.nnls(amat,np.squeeze(np.sqrt(ysq)))[0]\n",
      "#print(f(bt))\n",
      "res = nc.bfgssolve(amat,ls,np.array(bt),0.0)\n",
      "x0 = res[0]\n",
      "(f(x0),sum(x0 > 0))"
     ],
     "language": "python",
     "metadata": {},
     "outputs": [
      {
       "metadata": {},
       "output_type": "pyout",
       "prompt_number": 7,
       "text": [
        "(64.041474329709757, 16)"
       ]
      }
     ],
     "prompt_number": 7
    },
    {
     "cell_type": "code",
     "collapsed": false,
     "input": [],
     "language": "python",
     "metadata": {},
     "outputs": []
    }
   ],
   "metadata": {}
  }
 ]
}