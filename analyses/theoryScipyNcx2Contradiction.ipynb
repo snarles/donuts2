{
 "metadata": {
  "name": "",
  "signature": "sha256:110b74a71bc7dcefc7a49f0ed8689e88fcbab047c8292f0a638dcf5dca7f7e1f"
 },
 "nbformat": 3,
 "nbformat_minor": 0,
 "worksheets": [
  {
   "cells": [
    {
     "cell_type": "heading",
     "level": 1,
     "metadata": {},
     "source": [
      "Try to approximate loss function using builtin ncx2"
     ]
    },
    {
     "cell_type": "markdown",
     "metadata": {},
     "source": [
      "This code demonstrates a contradiction between two different ways of computing the ncx2 log pdf using scipy built-in functions, [iv] the modified Bessel and [hyp0f1] the limit hypergeometric function/also ncx2.logpdf"
     ]
    },
    {
     "cell_type": "code",
     "collapsed": false,
     "input": [
      "import os\n",
      "import numpy as np\n",
      "import scipy as sp\n",
      "import scipy.stats as spst\n",
      "import scipy.special as sps\n",
      "import numpy.random as npr\n",
      "import matplotlib.pyplot as plt\n",
      "os.chdir(\"..\")\n",
      "import donuts.deconv.splines as spl"
     ],
     "language": "python",
     "metadata": {},
     "outputs": [
      {
       "output_type": "stream",
       "stream": "stderr",
       "text": [
        "/usr/local/lib/python2.7/dist-packages/setuptools-7.0-py2.7.egg/pkg_resources.py:1045: UserWarning: /home/snarles/.python-eggs is writable by group/others and vulnerable to attack when used with get_resource_filename. Consider a more secure location (set with .set_extraction_path or the PYTHON_EGG_CACHE environment variable).\n",
        "  warnings.warn(msg, UserWarning)\n"
       ]
      }
     ],
     "prompt_number": 1
    },
    {
     "cell_type": "code",
     "collapsed": false,
     "input": [
      "import donuts.deconv.ncx as ncx"
     ],
     "language": "python",
     "metadata": {},
     "outputs": [],
     "prompt_number": 2
    },
    {
     "cell_type": "code",
     "collapsed": false,
     "input": [
      "def logncx2pdf(x,df,nc):\n",
      "    return -np.log(2.0) -(x+nc)/2.0 + (df/4 - .5)*np.log(x/nc) + logivy((df/2-1),np.sqrt(nc*x))\n",
      "\n",
      "def logivy(v,y):\n",
      "    y = np.atleast_1d(y)\n",
      "    ans = y\n",
      "    ans[y < 500] = np.log(sps.iv(v,y[y < 500]))\n",
      "    ans[y >= 500] = y[y >= 500] - np.log(2*np.pi*y[y >= 500])\n",
      "    return ans"
     ],
     "language": "python",
     "metadata": {},
     "outputs": [],
     "prompt_number": 112
    },
    {
     "cell_type": "code",
     "collapsed": false,
     "input": [
      "df = 4\n",
      "x = 1000.0\n",
      "ncs = np.arange(0,10000.0,10.0)\n",
      "#plt.scatter(ncs,np.array([logncx2pdf(x,df,nc) for nc in ncs]))\n",
      "plt.scatter(ncs,logncx2pdf(x,df,ncs))\n",
      "plt.show()"
     ],
     "language": "python",
     "metadata": {},
     "outputs": [
      {
       "output_type": "stream",
       "stream": "stderr",
       "text": [
        "-c:2: RuntimeWarning: divide by zero encountered in divide\n"
       ]
      }
     ],
     "prompt_number": 115
    },
    {
     "cell_type": "code",
     "collapsed": false,
     "input": [
      "nc = 600\n",
      "-np.log(2.0) -(x+nc)/2.0 + (df/4 - .5)*np.log(x/nc)\n",
      "logivy((df/2-1),np.sqrt(nc*x))\n",
      "v = (df/2-1)\n",
      "y = np.sqrt(nc*x)\n",
      "y - np.log(2*np.pi*y)"
     ],
     "language": "python",
     "metadata": {},
     "outputs": [
      {
       "metadata": {},
       "output_type": "pyout",
       "prompt_number": 105,
       "text": [
        "766.10644970797489"
       ]
      }
     ],
     "prompt_number": 105
    },
    {
     "cell_type": "code",
     "collapsed": false,
     "input": [
      "logncx2pdf(x,df,600)"
     ],
     "language": "python",
     "metadata": {},
     "outputs": [
      {
       "metadata": {},
       "output_type": "pyout",
       "prompt_number": 102,
       "text": [
        "inf"
       ]
      }
     ],
     "prompt_number": 102
    },
    {
     "cell_type": "code",
     "collapsed": false,
     "input": [
      "jj = np.arange(0.0,100.0,1.0)\n",
      "np.power(y[0]**2/4.0,jj)"
     ],
     "language": "python",
     "metadata": {},
     "outputs": [
      {
       "metadata": {},
       "output_type": "pyout",
       "prompt_number": 26,
       "text": [
        "array([ 1.,  0.,  0.,  0.,  0.,  0.,  0.,  0.,  0.,  0.,  0.,  0.,  0.,\n",
        "        0.,  0.,  0.,  0.,  0.,  0.,  0.,  0.,  0.,  0.,  0.,  0.,  0.,\n",
        "        0.,  0.,  0.,  0.,  0.,  0.,  0.,  0.,  0.,  0.,  0.,  0.,  0.,\n",
        "        0.,  0.,  0.,  0.,  0.,  0.,  0.,  0.,  0.,  0.,  0.,  0.,  0.,\n",
        "        0.,  0.,  0.,  0.,  0.,  0.,  0.,  0.,  0.,  0.,  0.,  0.,  0.,\n",
        "        0.,  0.,  0.,  0.,  0.,  0.,  0.,  0.,  0.,  0.,  0.,  0.,  0.,\n",
        "        0.,  0.,  0.,  0.,  0.,  0.,  0.,  0.,  0.,  0.,  0.,  0.,  0.,\n",
        "        0.,  0.,  0.,  0.,  0.,  0.,  0.,  0.,  0.])"
       ]
      }
     ],
     "prompt_number": 26
    },
    {
     "cell_type": "code",
     "collapsed": false,
     "input": [
      "#def ncx2pdf(x,df,nc):\n",
      "#    return .5*np.exp(-(x+nc)/2)*np.power((x/nc),df/4 - .5)*sps.iv((df/2-1),np.sqrt(nc*x))\n",
      "\n",
      "def ncx2pdf(x,df,nc):\n",
      "    return .5*np.exp(-(x+nc)/2.0)*np.power((x/nc),df/4 - .5)*sps.iv((df/2-1),np.sqrt(nc*x))\n",
      "\n",
      "def ncx2pdf2(x,df,nc):\n",
      "    return np.exp(-(x+nc)/2)*np.power(x,df/2-1)*np.power(.5,df/2)/sps.gamma(df/2) * sps.hyp0f1(df/2,nc*x/4.0)\n",
      "\n",
      "\n",
      "\n",
      "def ivy_sub(v,y):\n",
      "    jj = np.arange(0.0,100.0,1.0)\n",
      "    return ((y/2)**v) * sum(np.power(y**2/4.0,jj)/(sps.gamma(jj+1)*sps.gamma(v+jj+1)))\n",
      "def ivy(v,y):\n",
      "    return np.array([ivy_sub(v,yy) for yy in y])\n",
      "\n",
      "def logivy(v,y):\n",
      "    return np.log(sps.iv(v,y))\n",
      "\n",
      "def logivy_a(v,y): # asymptotic approximation\n",
      "    return y - np.log(2*np.pi*y)\n",
      "\n",
      "def logivy_a2(v,y): # asymptotic approximation\n",
      "    return -sps.gammaln(v+1) + v*np.log(y/2)\n",
      "\n",
      "df = 10\n",
      "nc = 7000\n",
      "x = np.arange(0,100,1.0)\n",
      "\n",
      "v = df/2 - 1\n",
      "y = np.sqrt(nc*x)\n",
      "\n",
      "\n",
      "\n",
      "#zip(spst.ncx2.pdf(x,df,nc),ncx2pdf(x,df,nc))\n",
      "#zip(sps.iv(v,y),ivy(v,y))\n",
      "#plt.scatter(x,spst.ncx2.pdf(x,df,nc))\n",
      "#plt.scatter(x,ncx2pdf2(x,df,nc),color=\"red\")\n",
      "#plt.show()\n",
      "\n",
      "#plt.scatter(y,logivy(v,y))\n",
      "#plt.scatter(y,logivy_a(v,y),color=\"red\")\n",
      "#plt.scatter(y,logivy_a2(v,y),color=\"green\")\n",
      "#plt.show()\n",
      "\n",
      "\n",
      "v = 1.0\n",
      "ys = np.arange(0.0,1000.0,10.0)\n",
      "plt.scatter(ys,np.array([logivy_a(v,y) for y in ys]),color=\"red\")\n",
      "#plt.scatter(ys,np.array([logivy_a2(v,y) for y in ys]),color=\"green\")\n",
      "plt.scatter(ys,np.array([logivy(v,y) for y in ys]))\n",
      "plt.show()\n"
     ],
     "language": "python",
     "metadata": {},
     "outputs": [],
     "prompt_number": 85
    },
    {
     "cell_type": "raw",
     "metadata": {},
     "source": []
    },
    {
     "cell_type": "code",
     "collapsed": false,
     "input": [],
     "language": "python",
     "metadata": {},
     "outputs": [
      {
       "output_type": "stream",
       "stream": "stderr",
       "text": [
        "-c:24: RuntimeWarning: divide by zero encountered in log\n"
       ]
      }
     ],
     "prompt_number": 41
    },
    {
     "cell_type": "code",
     "collapsed": false,
     "input": [
      "import timeit\n",
      "%timeit ncx2pdf(x,df,nc)"
     ],
     "language": "python",
     "metadata": {},
     "outputs": [
      {
       "output_type": "stream",
       "stream": "stdout",
       "text": [
        "10000 loops, best of 3: 83.9 \u00b5s per loop\n"
       ]
      }
     ],
     "prompt_number": 33
    },
    {
     "cell_type": "code",
     "collapsed": false,
     "input": [
      "%timeit ncx2pdf2(x,df,nc)"
     ],
     "language": "python",
     "metadata": {},
     "outputs": [
      {
       "output_type": "stream",
       "stream": "stdout",
       "text": [
        "1000 loops, best of 3: 628 \u00b5s per loop\n"
       ]
      }
     ],
     "prompt_number": 34
    },
    {
     "cell_type": "code",
     "collapsed": false,
     "input": [
      "\n",
      "def sq(x):\n",
      "    return x**2\n",
      "def logderivs(f,df,d2f,x):\n",
      "    return [np.log(f(x)),df(x)/f(x), -(df(x)/f(x))**2 + d2f(x)/f(x)]\n",
      "def x2derivs(f,df,d2f,x):\n",
      "    return [f(x**2),2*x*df(x**2),2*df(x**2) + ((2*x)**2)*d2f(x**2)]\n",
      "def logx2derivs(f,df,d2f,x):\n",
      "    return [np.log(f(x**2)),\n",
      "            2*x*df(x**2)/f(x**2),\n",
      "            2*df(x**2)/f(x**2) + ((2*x)**2)*(-(df(x**2)/f(x**2))**2 + d2f(x**2)/f(x**2))]"
     ],
     "language": "python",
     "metadata": {},
     "outputs": [],
     "prompt_number": 3
    },
    {
     "cell_type": "code",
     "collapsed": false,
     "input": [
      "def logncx2pdf(x,df,nc):\n",
      "    return -log(2.0) -(x+nc)/2.0 + (df/4 - .5)*np.log(x/nc) + logivy((df/2-1),np.sqrt(nc*x))\n",
      "\n",
      "def logivy(v,y):\n",
      "    if v < 500:\n",
      "        return np.log(sps.iv(v,y))\n",
      "    else:\n",
      "        return y - np.log(2*np.pi*y)\n",
      "\n",
      "def numderiv(f,x,delta):\n",
      "    return (f(x+delta)-f(x))/delta\n",
      "def numderiv2(f,x,delta):\n",
      "    return (f(x+delta)+f(x-delta)-2*f(x))/(delta**2)\n",
      "\n",
      "def logncx2(n,nc,x):\n",
      "    def ff(x):\n",
      "        return spst.ncx2.logpdf(x,n,nc)\n",
      "    l0 =ff(x)\n",
      "    l1=numderiv(ff,x,1e-3)\n",
      "    l2=numderiv2(ff,x,1e-3)\n",
      "    return l0,l1,l2\n",
      "\n",
      "def losschi2(n,mu,x):\n",
      "    nc = mu**2.0\n",
      "    l0,l1,l2 = logncx2(n,nc,x)\n",
      "    return -1.0*np.array([l0,2*mu*l1,2*l1 + ((2*mu)**2)*l2])\n",
      "\n",
      "def genconvexchi2(n,x): # returns a function which is the convex relaxation of losschi2\n",
      "    mmax = np.sqrt(x)*3\n",
      "    mugrid = np.arange(-mmax,mmax,mmax/100)\n",
      "    evalu = losschi2(n,mugrid,x)\n",
      "    \n",
      "    def convloss(mu):\n",
      "        if mu > muinf:\n",
      "            return losschi2(n,mu,x)\n",
      "        else:\n",
      "            return [res[0] + res[1]*(mu-muinf)+res[2]*(mu-muinf)**2,res[1] + res[2]*(mu-muinf),res[2]]\n",
      "    return convloss"
     ],
     "language": "python",
     "metadata": {},
     "outputs": [],
     "prompt_number": 2
    },
    {
     "cell_type": "code",
     "collapsed": false,
     "input": [
      "n=10.0\n",
      "mu=100.0\n",
      "nc=mu**2\n",
      "x=1000.0\n",
      "\n",
      "mmax = np.sqrt(x)*3\n",
      "mugrid = np.arange(-mmax,mmax,mmax/100)\n",
      "evalu = losschi2(n,mugrid,x)\n",
      "evalu"
     ],
     "language": "python",
     "metadata": {},
     "outputs": [
      {
       "metadata": {},
       "output_type": "pyout",
       "prompt_number": 6,
       "text": [
        "array([[ -1.79769313e+308,  -1.79769313e+308,  -1.79769313e+308,\n",
        "         -1.79769313e+308,  -1.79769313e+308,  -1.79769313e+308,\n",
        "         -1.79769313e+308,  -1.79769313e+308,  -1.79769313e+308,\n",
        "         -1.79769313e+308,  -1.79769313e+308,  -1.79769313e+308,\n",
        "         -1.79769313e+308,  -1.79769313e+308,  -1.79769313e+308,\n",
        "         -1.79769313e+308,  -1.79769313e+308,  -1.79769313e+308,\n",
        "         -1.79769313e+308,  -1.79769313e+308,  -1.79769313e+308,\n",
        "         -1.79769313e+308,  -1.79769313e+308,  -1.79769313e+308,\n",
        "         -1.79769313e+308,  -1.79769313e+308,  -1.79769313e+308,\n",
        "         -1.79769313e+308,  -1.79769313e+308,  -1.79769313e+308,\n",
        "         -1.79769313e+308,  -1.79769313e+308,  -1.79769313e+308,\n",
        "         -1.79769313e+308,  -1.79769313e+308,  -1.79769313e+308,\n",
        "         -1.79769313e+308,  -1.79769313e+308,  -1.79769313e+308,\n",
        "         -1.79769313e+308,  -1.79769313e+308,  -1.79769313e+308,\n",
        "         -1.79769313e+308,  -1.79769313e+308,  -1.79769313e+308,\n",
        "         -1.79769313e+308,  -1.79769313e+308,  -1.79769313e+308,\n",
        "         -1.79769313e+308,  -1.79769313e+308,  -1.79769313e+308,\n",
        "         -1.79769313e+308,  -1.79769313e+308,  -1.79769313e+308,\n",
        "         -1.79769313e+308,  -1.79769313e+308,  -1.79769313e+308,\n",
        "         -1.79769313e+308,  -1.79769313e+308,  -1.79769313e+308,\n",
        "         -1.79769313e+308,  -1.79769313e+308,  -1.79769313e+308,\n",
        "         -1.79769313e+308,  -1.79769313e+308,  -1.79769313e+308,\n",
        "         -1.79769313e+308,  -1.79769313e+308,  -1.79769313e+308,\n",
        "         -1.79769313e+308,  -1.79769313e+308,  -1.79769313e+308,\n",
        "         -1.79769313e+308,  -1.79769313e+308,  -1.79769313e+308,\n",
        "         -1.79769313e+308,  -1.79769313e+308,   5.14575981e+001,\n",
        "          6.10080847e+001,   7.14493137e+001,   8.27803840e+001,\n",
        "          9.50002561e+001,   1.08107723e+002,   1.22101369e+002,\n",
        "          1.36979525e+002,   1.52740198e+002,   1.69380983e+002,\n",
        "          1.86898943e+002,   2.05290438e+002,   2.24550881e+002,\n",
        "          2.44674379e+002,   2.65653184e+002,   2.87476820e+002,\n",
        "          3.10130637e+002,   3.33593241e+002,   3.57831596e+002,\n",
        "          3.82790672e+002,   4.08368185e+002,   4.34337927e+002,\n",
        "          4.60003059e+002,   4.79012769e+002,   4.60003059e+002,\n",
        "          4.34337927e+002,   4.08368185e+002,   3.82790672e+002,\n",
        "          3.57831596e+002,   3.33593241e+002,   3.10130637e+002,\n",
        "          2.87476820e+002,   2.65653184e+002,   2.44674379e+002,\n",
        "          2.24550881e+002,   2.05290438e+002,   1.86898943e+002,\n",
        "          1.69380983e+002,   1.52740198e+002,   1.36979525e+002,\n",
        "          1.22101369e+002,   1.08107723e+002,   9.50002561e+001,\n",
        "          8.27803840e+001,   7.14493137e+001,   6.10080847e+001,\n",
        "          5.14575981e+001,  -1.79769313e+308,  -1.79769313e+308,\n",
        "         -1.79769313e+308,  -1.79769313e+308,  -1.79769313e+308,\n",
        "         -1.79769313e+308,  -1.79769313e+308,  -1.79769313e+308,\n",
        "         -1.79769313e+308,  -1.79769313e+308,  -1.79769313e+308,\n",
        "         -1.79769313e+308,  -1.79769313e+308,  -1.79769313e+308,\n",
        "         -1.79769313e+308,  -1.79769313e+308,  -1.79769313e+308,\n",
        "         -1.79769313e+308,  -1.79769313e+308,  -1.79769313e+308,\n",
        "         -1.79769313e+308,  -1.79769313e+308,  -1.79769313e+308,\n",
        "         -1.79769313e+308,  -1.79769313e+308,  -1.79769313e+308,\n",
        "         -1.79769313e+308,  -1.79769313e+308,  -1.79769313e+308,\n",
        "         -1.79769313e+308,  -1.79769313e+308,  -1.79769313e+308,\n",
        "         -1.79769313e+308,  -1.79769313e+308,  -1.79769313e+308,\n",
        "         -1.79769313e+308,  -1.79769313e+308,  -1.79769313e+308,\n",
        "         -1.79769313e+308,  -1.79769313e+308,  -1.79769313e+308,\n",
        "         -1.79769313e+308,  -1.79769313e+308,  -1.79769313e+308,\n",
        "         -1.79769313e+308,  -1.79769313e+308,  -1.79769313e+308,\n",
        "         -1.79769313e+308,  -1.79769313e+308,  -1.79769313e+308,\n",
        "         -1.79769313e+308,  -1.79769313e+308,  -1.79769313e+308,\n",
        "         -1.79769313e+308,  -1.79769313e+308,  -1.79769313e+308,\n",
        "         -1.79769313e+308,  -1.79769313e+308,  -1.79769313e+308,\n",
        "         -1.79769313e+308,  -1.79769313e+308,  -1.79769313e+308,\n",
        "         -1.79769313e+308,  -1.79769313e+308,  -1.79769313e+308,\n",
        "         -1.79769313e+308,  -1.79769313e+308,  -1.79769313e+308,\n",
        "         -1.79769313e+308,  -1.79769313e+308,  -1.79769313e+308,\n",
        "         -1.79769313e+308,  -1.79769313e+308,  -1.79769313e+308,\n",
        "         -1.79769313e+308,  -1.79769313e+308],\n",
        "       [  0.00000000e+000,   0.00000000e+000,   0.00000000e+000,\n",
        "          0.00000000e+000,   0.00000000e+000,   0.00000000e+000,\n",
        "          0.00000000e+000,   0.00000000e+000,   0.00000000e+000,\n",
        "          0.00000000e+000,   0.00000000e+000,   0.00000000e+000,\n",
        "          0.00000000e+000,   0.00000000e+000,   0.00000000e+000,\n",
        "          0.00000000e+000,   0.00000000e+000,   0.00000000e+000,\n",
        "          0.00000000e+000,   0.00000000e+000,   0.00000000e+000,\n",
        "          0.00000000e+000,   0.00000000e+000,   0.00000000e+000,\n",
        "          0.00000000e+000,   0.00000000e+000,   0.00000000e+000,\n",
        "          0.00000000e+000,   0.00000000e+000,   0.00000000e+000,\n",
        "          0.00000000e+000,   0.00000000e+000,   0.00000000e+000,\n",
        "          0.00000000e+000,   0.00000000e+000,   0.00000000e+000,\n",
        "          0.00000000e+000,   0.00000000e+000,   0.00000000e+000,\n",
        "          0.00000000e+000,   0.00000000e+000,   0.00000000e+000,\n",
        "          0.00000000e+000,   0.00000000e+000,   0.00000000e+000,\n",
        "          0.00000000e+000,   0.00000000e+000,   0.00000000e+000,\n",
        "          0.00000000e+000,   0.00000000e+000,   0.00000000e+000,\n",
        "          0.00000000e+000,   0.00000000e+000,   0.00000000e+000,\n",
        "          0.00000000e+000,   0.00000000e+000,   0.00000000e+000,\n",
        "          0.00000000e+000,   0.00000000e+000,   0.00000000e+000,\n",
        "          0.00000000e+000,   0.00000000e+000,   0.00000000e+000,\n",
        "          0.00000000e+000,   0.00000000e+000,   0.00000000e+000,\n",
        "          0.00000000e+000,   0.00000000e+000,   0.00000000e+000,\n",
        "          0.00000000e+000,   0.00000000e+000,   0.00000000e+000,\n",
        "          0.00000000e+000,   0.00000000e+000,   0.00000000e+000,\n",
        "          0.00000000e+000,   0.00000000e+000,  -6.68749733e+000,\n",
        "         -7.02285652e+000,  -7.30129475e+000,  -7.52281199e+000,\n",
        "         -7.68740824e+000,  -7.79508351e+000,  -7.84583778e+000,\n",
        "         -7.83967108e+000,  -7.77658338e+000,  -7.65657470e+000,\n",
        "         -7.47964502e+000,  -7.24579436e+000,  -6.95502270e+000,\n",
        "         -6.60733005e+000,  -6.20271639e+000,  -5.74118173e+000,\n",
        "         -5.22272606e+000,  -4.64734935e+000,  -4.01505158e+000,\n",
        "         -3.32583270e+000,  -2.57969258e+000,  -1.77663085e+000,\n",
        "         -9.16645882e-001,  -2.39651855e-013,   9.16645882e-001,\n",
        "          1.77663085e+000,   2.57969258e+000,   3.32583270e+000,\n",
        "          4.01505158e+000,   4.64734935e+000,   5.22272606e+000,\n",
        "          5.74118173e+000,   6.20271639e+000,   6.60733005e+000,\n",
        "          6.95502270e+000,   7.24579436e+000,   7.47964502e+000,\n",
        "          7.65657470e+000,   7.77658338e+000,   7.83967108e+000,\n",
        "          7.84583779e+000,   7.79508350e+000,   7.68740825e+000,\n",
        "          7.52281198e+000,   7.30129475e+000,   7.02285653e+000,\n",
        "          6.68749732e+000,  -0.00000000e+000,  -0.00000000e+000,\n",
        "         -0.00000000e+000,  -0.00000000e+000,  -0.00000000e+000,\n",
        "         -0.00000000e+000,  -0.00000000e+000,  -0.00000000e+000,\n",
        "         -0.00000000e+000,  -0.00000000e+000,  -0.00000000e+000,\n",
        "         -0.00000000e+000,  -0.00000000e+000,  -0.00000000e+000,\n",
        "         -0.00000000e+000,  -0.00000000e+000,  -0.00000000e+000,\n",
        "         -0.00000000e+000,  -0.00000000e+000,  -0.00000000e+000,\n",
        "         -0.00000000e+000,  -0.00000000e+000,  -0.00000000e+000,\n",
        "         -0.00000000e+000,  -0.00000000e+000,  -0.00000000e+000,\n",
        "         -0.00000000e+000,  -0.00000000e+000,  -0.00000000e+000,\n",
        "         -0.00000000e+000,  -0.00000000e+000,  -0.00000000e+000,\n",
        "         -0.00000000e+000,  -0.00000000e+000,  -0.00000000e+000,\n",
        "         -0.00000000e+000,  -0.00000000e+000,  -0.00000000e+000,\n",
        "         -0.00000000e+000,  -0.00000000e+000,  -0.00000000e+000,\n",
        "         -0.00000000e+000,  -0.00000000e+000,  -0.00000000e+000,\n",
        "         -0.00000000e+000,  -0.00000000e+000,  -0.00000000e+000,\n",
        "         -0.00000000e+000,  -0.00000000e+000,  -0.00000000e+000,\n",
        "         -0.00000000e+000,  -0.00000000e+000,  -0.00000000e+000,\n",
        "         -0.00000000e+000,  -0.00000000e+000,  -0.00000000e+000,\n",
        "         -0.00000000e+000,  -0.00000000e+000,  -0.00000000e+000,\n",
        "         -0.00000000e+000,  -0.00000000e+000,  -0.00000000e+000,\n",
        "         -0.00000000e+000,  -0.00000000e+000,  -0.00000000e+000,\n",
        "         -0.00000000e+000,  -0.00000000e+000,  -0.00000000e+000,\n",
        "         -0.00000000e+000,  -0.00000000e+000,  -0.00000000e+000,\n",
        "         -0.00000000e+000,  -0.00000000e+000,  -0.00000000e+000,\n",
        "         -0.00000000e+000,  -0.00000000e+000],\n",
        "       [              nan,               nan,               nan,\n",
        "                      nan,               nan,               nan,\n",
        "                      nan,               nan,               nan,\n",
        "                      nan,               nan,               nan,\n",
        "                      nan,               nan,               nan,\n",
        "                      nan,               nan,               nan,\n",
        "                      nan,               nan,               nan,\n",
        "                      nan,               nan,               nan,\n",
        "                      nan,               nan,               nan,\n",
        "                      nan,               nan,               nan,\n",
        "                      nan,               nan,               nan,\n",
        "                      nan,               nan,               nan,\n",
        "                      nan,               nan,               nan,\n",
        "                      nan,               nan,               nan,\n",
        "                      nan,               nan,               nan,\n",
        "                      nan,               nan,               nan,\n",
        "                      nan,               nan,               nan,\n",
        "                      nan,               nan,               nan,\n",
        "                      nan,               nan,               nan,\n",
        "                      nan,               nan,               nan,\n",
        "                      nan,               nan,               nan,\n",
        "                      nan,               nan,               nan,\n",
        "                      nan,               nan,               nan,\n",
        "                      nan,               nan,               nan,\n",
        "                      nan,               nan,               nan,\n",
        "                      nan,               nan,   6.38391238e-001,\n",
        "          6.26687058e-001,   6.18992063e-001,   6.15038582e-001,\n",
        "          6.14125521e-001,   6.16273741e-001,   6.20968774e-001,\n",
        "          6.28748797e-001,   6.39121432e-001,   6.51845590e-001,\n",
        "          6.66931876e-001,   6.84097844e-001,   7.03122419e-001,\n",
        "          7.24140569e-001,   7.46692956e-001,   7.70690156e-001,\n",
        "          7.96008252e-001,   8.22526389e-001,   8.49987403e-001,\n",
        "          8.78267413e-001,   9.07199839e-001,   9.36608966e-001,\n",
        "          9.66263568e-001,   9.92000004e-001,   9.66263568e-001,\n",
        "          9.36608966e-001,   9.07199839e-001,   8.78267413e-001,\n",
        "          8.49987403e-001,   8.22511655e-001,   7.96028307e-001,\n",
        "          7.70690156e-001,   7.46692956e-001,   7.24161033e-001,\n",
        "          7.03221463e-001,   6.84038908e-001,   6.66828126e-001,\n",
        "          6.51765373e-001,   6.39029346e-001,   6.28801184e-001,\n",
        "          6.20909635e-001,   6.15478115e-001,   6.14125521e-001,\n",
        "          6.14547454e-001,   6.19172552e-001,   6.27083234e-001,\n",
        "          6.38607743e-001,               nan,               nan,\n",
        "                      nan,               nan,               nan,\n",
        "                      nan,               nan,               nan,\n",
        "                      nan,               nan,               nan,\n",
        "                      nan,               nan,               nan,\n",
        "                      nan,               nan,               nan,\n",
        "                      nan,               nan,               nan,\n",
        "                      nan,               nan,               nan,\n",
        "                      nan,               nan,               nan,\n",
        "                      nan,               nan,               nan,\n",
        "                      nan,               nan,               nan,\n",
        "                      nan,               nan,               nan,\n",
        "                      nan,               nan,               nan,\n",
        "                      nan,               nan,               nan,\n",
        "                      nan,               nan,               nan,\n",
        "                      nan,               nan,               nan,\n",
        "                      nan,               nan,               nan,\n",
        "                      nan,               nan,               nan,\n",
        "                      nan,               nan,               nan,\n",
        "                      nan,               nan,               nan,\n",
        "                      nan,               nan,               nan,\n",
        "                      nan,               nan,               nan,\n",
        "                      nan,               nan,               nan,\n",
        "                      nan,               nan,               nan,\n",
        "                      nan,               nan,               nan,\n",
        "                      nan,               nan]])"
       ]
      }
     ],
     "prompt_number": 6
    },
    {
     "cell_type": "markdown",
     "metadata": {},
     "source": [
      "Tests"
     ]
    },
    {
     "cell_type": "code",
     "collapsed": false,
     "input": [
      "n=10.0\n",
      "mu=100.0\n",
      "nc=mu**2\n",
      "x=10000.0\n",
      "def f(nc):\n",
      "    return logncx2(n,nc,x)[0]\n",
      "\n",
      "def f0(nc):\n",
      "    return np.log(spst.ncx2.pdf(x,n,nc))\n",
      "\n",
      "\n",
      "print([f0(nc),numderiv(f0,nc,0.001),numderiv2(f0,nc,0.001)])\n",
      "print(logncx2(n,nc,x))\n",
      "#print(logncx2prox(n,nc,x))\n",
      "print([f(nc),numderiv(f,nc,0.01),numderiv2(f,nc,0.01)])"
     ],
     "language": "python",
     "metadata": {},
     "outputs": [
      {
       "output_type": "stream",
       "stream": "stdout",
       "text": [
        "[inf, nan, nan]\n",
        "(-175.74924925918066, -0.088709228134640189, -4.1064781022108849e-05)\n",
        "[-175.74924925918066, -0.088709433660483228, -4.1188741306541488e-05]\n"
       ]
      }
     ],
     "prompt_number": 19
    },
    {
     "cell_type": "code",
     "collapsed": false,
     "input": [
      "def g(mu):\n",
      "    return logncx2(n,mu**2,x)[0]\n",
      "\n",
      "print(-1.0*losschi2(n,mu,x))\n",
      "print([g(mu),numderiv(g,mu,0.01),numderiv2(g,mu,0.01)])"
     ],
     "language": "python",
     "metadata": {},
     "outputs": [
      {
       "output_type": "stream",
       "stream": "stdout",
       "text": [
        "[ -4.59269912e+03  -8.00208798e+01  -1.19977283e+00]\n",
        "[-4592.6991236097974, -80.026878622993536, -1.1997727960988414]\n"
       ]
      }
     ],
     "prompt_number": 6
    },
    {
     "cell_type": "code",
     "collapsed": false,
     "input": [
      "n=10.0\n",
      "x=3000.0\n",
      "\n",
      "clos = genconvexchi2(n,x)\n",
      "mu = 0.0\n",
      "print(clos(mu))\n",
      "print(losschi2(n,mu,x))"
     ],
     "language": "python",
     "metadata": {},
     "outputs": [
      {
       "output_type": "stream",
       "stream": "stdout",
       "text": [
        "[1484.4136963225424, -50.581928480787425, 0.0093565037358018799]\n",
        "[ 1474.61831946    -0.          -299.        ]\n"
       ]
      }
     ],
     "prompt_number": 36
    },
    {
     "cell_type": "code",
     "collapsed": false,
     "input": [
      "n=10.0\n",
      "x=8000.0\n",
      "\n",
      "mugrid = np.arange(-200.0,200.0,1.0)\n",
      "pts = [losschi2(n,mu,x)[0] for mu in mugrid]\n",
      "clos = genconvexchi2(n,x)\n",
      "#pts2 = [clos(mu)[0] for mu in mugrid]\n",
      "#pts = [np.log(spst.ncx2.pdf(x=15.0,df=10.0,nc=mu**2)) for mu in mugrid]\n",
      "plt.scatter(mugrid,pts)\n",
      "#plt.scatter(mugrid,pts2)\n",
      "plt.show()"
     ],
     "language": "python",
     "metadata": {},
     "outputs": [
      {
       "output_type": "stream",
       "stream": "stderr",
       "text": [
        "-c:4: RuntimeWarning: overflow encountered in double_scalars\n",
        "-c:4: RuntimeWarning: invalid value encountered in double_scalars\n"
       ]
      },
      {
       "ename": "NameError",
       "evalue": "name 'genconvexchi2' is not defined",
       "output_type": "pyerr",
       "traceback": [
        "\u001b[1;31m---------------------------------------------------------------------------\u001b[0m\n\u001b[1;31mNameError\u001b[0m                                 Traceback (most recent call last)",
        "\u001b[1;32m<ipython-input-3-26faeddc8049>\u001b[0m in \u001b[0;36m<module>\u001b[1;34m()\u001b[0m\n\u001b[0;32m      4\u001b[0m \u001b[0mmugrid\u001b[0m \u001b[1;33m=\u001b[0m \u001b[0mnp\u001b[0m\u001b[1;33m.\u001b[0m\u001b[0marange\u001b[0m\u001b[1;33m(\u001b[0m\u001b[1;33m-\u001b[0m\u001b[1;36m200.0\u001b[0m\u001b[1;33m,\u001b[0m\u001b[1;36m200.0\u001b[0m\u001b[1;33m,\u001b[0m\u001b[1;36m1.0\u001b[0m\u001b[1;33m)\u001b[0m\u001b[1;33m\u001b[0m\u001b[0m\n\u001b[0;32m      5\u001b[0m \u001b[0mpts\u001b[0m \u001b[1;33m=\u001b[0m \u001b[1;33m[\u001b[0m\u001b[0mlosschi2\u001b[0m\u001b[1;33m(\u001b[0m\u001b[0mn\u001b[0m\u001b[1;33m,\u001b[0m\u001b[0mmu\u001b[0m\u001b[1;33m,\u001b[0m\u001b[0mx\u001b[0m\u001b[1;33m)\u001b[0m\u001b[1;33m[\u001b[0m\u001b[1;36m0\u001b[0m\u001b[1;33m]\u001b[0m \u001b[1;32mfor\u001b[0m \u001b[0mmu\u001b[0m \u001b[1;32min\u001b[0m \u001b[0mmugrid\u001b[0m\u001b[1;33m]\u001b[0m\u001b[1;33m\u001b[0m\u001b[0m\n\u001b[1;32m----> 6\u001b[1;33m \u001b[0mclos\u001b[0m \u001b[1;33m=\u001b[0m \u001b[0mgenconvexchi2\u001b[0m\u001b[1;33m(\u001b[0m\u001b[0mn\u001b[0m\u001b[1;33m,\u001b[0m\u001b[0mx\u001b[0m\u001b[1;33m)\u001b[0m\u001b[1;33m\u001b[0m\u001b[0m\n\u001b[0m\u001b[0;32m      7\u001b[0m \u001b[1;31m#pts2 = [clos(mu)[0] for mu in mugrid]\u001b[0m\u001b[1;33m\u001b[0m\u001b[1;33m\u001b[0m\u001b[0m\n\u001b[0;32m      8\u001b[0m \u001b[1;31m#pts = [np.log(spst.ncx2.pdf(x=15.0,df=10.0,nc=mu**2)) for mu in mugrid]\u001b[0m\u001b[1;33m\u001b[0m\u001b[1;33m\u001b[0m\u001b[0m\n",
        "\u001b[1;31mNameError\u001b[0m: name 'genconvexchi2' is not defined"
       ]
      }
     ],
     "prompt_number": 3
    },
    {
     "cell_type": "code",
     "collapsed": false,
     "input": [
      "zip(mugrid,pts)\n",
      "mu=33\n",
      "losschi2(n,mu,x)[0]"
     ],
     "language": "python",
     "metadata": {},
     "outputs": [
      {
       "metadata": {},
       "output_type": "pyout",
       "prompt_number": 98,
       "text": [
        "101.2432780953945"
       ]
      }
     ],
     "prompt_number": 98
    },
    {
     "cell_type": "code",
     "collapsed": false,
     "input": [
      "mu = 33.0\n",
      "nc = mu**2\n",
      "eps = 30.0\n",
      "if nc < 1e-20:\n",
      "    nc = 1e-20\n",
      "a = n/2.0\n",
      "temp0 = -(nc+x)/2.0 - a*np.log(2.0) + (a-1)*np.log(x)\n",
      "\n",
      "# adaptive choose sum indices\n",
      "def f0(z):\n",
      "    return -sps.gammaln(a + z) + z*np.log(nc*x/4) - sps.gammaln(z+1)\n",
      "lb,ub = boundseq(f0,eps)\n",
      "iz0 = np.arange(lb,ub,1.0)\n",
      "#iz0 = np.arange(0,1000,1.0)\n",
      "tempA = -sps.gammaln(a + iz0) + iz0*np.log(nc*x/4)\n",
      "s0 = logsumexp(temp0+tempA - sps.gammaln(iz0+1))\n",
      "    "
     ],
     "language": "python",
     "metadata": {},
     "outputs": [],
     "prompt_number": 129
    },
    {
     "cell_type": "code",
     "collapsed": false,
     "input": [
      "s0"
     ],
     "language": "python",
     "metadata": {},
     "outputs": [
      {
       "metadata": {},
       "output_type": "pyout",
       "prompt_number": 130,
       "text": [
        "-101.2432780953945"
       ]
      }
     ],
     "prompt_number": 130
    },
    {
     "cell_type": "code",
     "collapsed": false,
     "input": [
      "lb,ub = boundseq(f0,eps)\n",
      "(lb,ub)"
     ],
     "language": "python",
     "metadata": {},
     "outputs": [
      {
       "metadata": {},
       "output_type": "pyout",
       "prompt_number": 128,
       "text": [
        "(448.0, 603.0)"
       ]
      }
     ],
     "prompt_number": 128
    },
    {
     "cell_type": "code",
     "collapsed": false,
     "input": [
      "maxseq(f0)"
     ],
     "language": "python",
     "metadata": {},
     "outputs": [
      {
       "metadata": {},
       "output_type": "pyout",
       "prompt_number": 126,
       "text": [
        "512.0"
       ]
      }
     ],
     "prompt_number": 126
    },
    {
     "cell_type": "code",
     "collapsed": false,
     "input": [
      "f=f0\n",
      "diff = 1\n",
      "ub=1\n",
      "eps=0.1\n",
      "while diff > 0:\n",
      "    ub=2*ub\n",
      "    diff = f(ub*(1+eps))-f(ub)"
     ],
     "language": "python",
     "metadata": {},
     "outputs": [],
     "prompt_number": 133
    },
    {
     "cell_type": "code",
     "collapsed": false,
     "input": [
      "ub"
     ],
     "language": "python",
     "metadata": {},
     "outputs": [
      {
       "metadata": {},
       "output_type": "pyout",
       "prompt_number": 134,
       "text": [
        "1024"
       ]
      }
     ],
     "prompt_number": 134
    },
    {
     "cell_type": "code",
     "collapsed": false,
     "input": [
      "\n",
      "# bisection search\n",
      "lb=0\n",
      "x = (ub+lb)/2.0\n",
      "while (f(ub)-f(lb)) > eps:\n",
      "    x = (ub+lb)/2.0\n",
      "    diff = f(x*(1+eps))-f(x)\n",
      "    if diff < 0:\n",
      "        ub = x\n",
      "    if diff >= 0:\n",
      "        lb = x\n",
      "x"
     ],
     "language": "python",
     "metadata": {},
     "outputs": [
      {
       "metadata": {},
       "output_type": "pyout",
       "prompt_number": 136,
       "text": [
        "512.0"
       ]
      }
     ],
     "prompt_number": 136
    },
    {
     "cell_type": "code",
     "collapsed": false,
     "input": [
      "(lb,ub)"
     ],
     "language": "python",
     "metadata": {},
     "outputs": [
      {
       "metadata": {},
       "output_type": "pyout",
       "prompt_number": 137,
       "text": [
        "(0, 1024)"
       ]
      }
     ],
     "prompt_number": 137
    },
    {
     "cell_type": "code",
     "collapsed": false,
     "input": [
      "(f(ub)-f(lb))"
     ],
     "language": "python",
     "metadata": {},
     "outputs": [
      {
       "metadata": {},
       "output_type": "pyout",
       "prompt_number": 138,
       "text": [
        "-51.654878105960393"
       ]
      }
     ],
     "prompt_number": 138
    },
    {
     "cell_type": "code",
     "collapsed": false,
     "input": [
      "f0(513.0)-f0(512.0)"
     ],
     "language": "python",
     "metadata": {},
     "outputs": [
      {
       "metadata": {},
       "output_type": "pyout",
       "prompt_number": 132,
       "text": [
        "0.71930450167565141"
       ]
      }
     ],
     "prompt_number": 132
    },
    {
     "cell_type": "code",
     "collapsed": false,
     "input": [
      "plt.scatter(iz0,f0(iz0))\n",
      "plt.show()"
     ],
     "language": "python",
     "metadata": {},
     "outputs": [],
     "prompt_number": 131
    },
    {
     "cell_type": "code",
     "collapsed": false,
     "input": [
      "plt.scatter(iz0,tempA- sps.gammaln(iz0+1))\n",
      "plt.show()"
     ],
     "language": "python",
     "metadata": {},
     "outputs": [],
     "prompt_number": 124
    },
    {
     "cell_type": "code",
     "collapsed": false,
     "input": [
      "eps = 30.0\n",
      "if nc < 1e-20:\n",
      "    nc = 1e-20\n",
      "a = n/2.0\n",
      "temp0 = -(nc+x)/2.0 - a*np.log(2.0) + (a-1)*np.log(x)\n",
      "\n",
      "# adaptive choose sum indices\n",
      "def f0(z):\n",
      "    return -sps.gammaln(a + z) + z*np.log(nc*x/4) - sps.gammaln(z+1)\n",
      "lb,ub = boundseq(f0,eps)"
     ],
     "language": "python",
     "metadata": {},
     "outputs": [],
     "prompt_number": 99
    },
    {
     "cell_type": "code",
     "collapsed": false,
     "input": [
      "(lb,ub)"
     ],
     "language": "python",
     "metadata": {},
     "outputs": [
      {
       "metadata": {},
       "output_type": "pyout",
       "prompt_number": 101,
       "text": [
        "(0.0, 11.0)"
       ]
      }
     ],
     "prompt_number": 101
    },
    {
     "cell_type": "code",
     "collapsed": false,
     "input": [
      "f = f0\n",
      "eps=20.0\n",
      "x0=maxseq(f)\n",
      "lb = lbseq(f,x0,eps)\n",
      "ub = ubseq(f,x0,eps)\n",
      "[x0,lb,ub]"
     ],
     "language": "python",
     "metadata": {},
     "outputs": [
      {
       "metadata": {},
       "output_type": "pyout",
       "prompt_number": 78,
       "text": [
        "[1.0, 0.0, 1.0]"
       ]
      }
     ],
     "prompt_number": 78
    },
    {
     "cell_type": "code",
     "collapsed": false,
     "input": [
      "\n",
      "n=10.0\n",
      "nc=0.0\n",
      "x=2.0\n",
      "if True:\n",
      "    a = n/2.0\n",
      "    iz = np.arange(0,100,1)\n",
      "    temp0 = -(nc+x)/2.0 - a*np.log(2.0) + (a-1)*np.log(x)\n",
      "    temp = -sps.gammaln(a + iz) + iz*np.log(nc*x/4)\n",
      "    s0 = sum(np.exp(temp - sps.gammaln(iz+1)))\n",
      "    s1 = sum(np.exp(temp - sps.gammaln(iz)))\n",
      "    tempalt = -sps.gammaln(a + iz) + iz*np.log(x/4) - sps.gammaln(iz)\n",
      "    #return np.exp(temp0)*(-.5*s0 + (1.0/nc)*s1)\n",
      "np.exp(temp0)*(-.5*s0 + sum(np.exp(tempalt)))"
     ],
     "language": "python",
     "metadata": {},
     "outputs": [
      {
       "metadata": {},
       "output_type": "pyout",
       "prompt_number": 172,
       "text": [
        "nan"
       ]
      }
     ],
     "prompt_number": 172
    },
    {
     "cell_type": "code",
     "collapsed": false,
     "input": [
      "-.5*s0 "
     ],
     "language": "python",
     "metadata": {},
     "outputs": [
      {
       "metadata": {},
       "output_type": "pyout",
       "prompt_number": 170,
       "text": [
        "nan"
       ]
      }
     ],
     "prompt_number": 170
    },
    {
     "cell_type": "code",
     "collapsed": false,
     "input": [
      "losschi2(10.0,3.0,2.0)"
     ],
     "language": "python",
     "metadata": {},
     "outputs": [
      {
       "metadata": {},
       "output_type": "pyout",
       "prompt_number": 183,
       "text": [
        "[-8.5291642798643839, -2.7191735130423904, -2.2280755037050906]"
       ]
      }
     ],
     "prompt_number": 183
    },
    {
     "cell_type": "code",
     "collapsed": false,
     "input": [
      "losschi2(10.0,1e-20,2.0)"
     ],
     "language": "python",
     "metadata": {},
     "outputs": [
      {
       "metadata": {},
       "output_type": "pyout",
       "prompt_number": 179,
       "text": [
        "[-4.8712010109078907, -7.8272552047574014e-21, -0.78272552047574018]"
       ]
      }
     ],
     "prompt_number": 179
    },
    {
     "cell_type": "code",
     "collapsed": false,
     "input": [],
     "language": "python",
     "metadata": {},
     "outputs": [],
     "prompt_number": 13
    },
    {
     "cell_type": "code",
     "collapsed": false,
     "input": [
      "mugrid = np.arange(0,5,0.01)\n",
      "pts = [losschi2(10.0,mu,2.0)[2] for mu in mugrid]\n",
      "#pts = [np.log(spst.ncx2.pdf(x=15.0,df=10.0,nc=mu)) for mu in mugrid]\n",
      "plt.scatter(mugrid,pts)\n",
      "plt.show()"
     ],
     "language": "python",
     "metadata": {},
     "outputs": [],
     "prompt_number": 194
    },
    {
     "cell_type": "code",
     "collapsed": false,
     "input": [],
     "language": "python",
     "metadata": {},
     "outputs": []
    }
   ],
   "metadata": {}
  }
 ]
}