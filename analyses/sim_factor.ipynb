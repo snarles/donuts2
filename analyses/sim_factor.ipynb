{
 "metadata": {
  "name": "",
  "signature": "sha256:919dc57a81a3f59268c2ed93dc4fabfa6bb1c545a4a2df40201e69917eb55ed0"
 },
 "nbformat": 3,
 "nbformat_minor": 0,
 "worksheets": [
  {
   "cells": [
    {
     "cell_type": "markdown",
     "metadata": {},
     "source": [
      "# Simulating factor removal on twin datasets"
     ]
    },
    {
     "cell_type": "code",
     "collapsed": false,
     "input": [
      "import os\n",
      "import subprocess\n",
      "import donuts.deconv.utils as du\n",
      "import donuts.deconv.ncx as dn\n",
      "import nibabel as nib\n",
      "import numpy as np\n",
      "import numpy.random as npr\n",
      "import scipy.optimize as spo\n",
      "import numpy.linalg as nla\n",
      "from operator import add"
     ],
     "language": "python",
     "metadata": {},
     "outputs": [],
     "prompt_number": 18
    },
    {
     "cell_type": "code",
     "collapsed": false,
     "input": [
      "def sdot(a, b):\n",
      "    return np.squeeze(np.dot(a, b))\n",
      "\n",
      "def par(st):\n",
      "    return np.array([float(v) for v in str(st).split(' ')])\n",
      "\n",
      "def depar(x):\n",
      "    return ' '.join(str(xx) for xx in x)\n",
      "\n",
      "def arr_red(x, y):\n",
      "    return np.vstack([x, y])\n",
      "\n",
      "def array_to_rdd(a, parts = 48, rm = False, fn = 0):\n",
      "    if fn == 0:\n",
      "        fn = 'temp' + str(npr.randint(0, 999999)) + '.txt'\n",
      "    os.chdir('/root/ephemeral-hdfs/bin')\n",
      "    np.savetxt(fn, a, fmt = '%.9e')\n",
      "    os.system('./hadoop fs -put ' + fn + ' ' + fn)\n",
      "    rawrdd = sc.textFile(fn, parts).map(par).cache()\n",
      "    rawrdd.count()\n",
      "    if rm:\n",
      "        os.system('rm ' + fn)\n",
      "    return rawrdd\n",
      "\n",
      "def rdd_to_array(rawrdd, parts = 48, rm = False, fn = 0):\n",
      "    if fn == 0:\n",
      "        fn = 'temp' + str(npr.randint(0, 999999)) + '.txt'\n",
      "    os.chdir('/root/ephemeral-hdfs/bin')\n",
      "    rawrdd.map(depar).saveAsTextFile(fn)\n",
      "    os.system('./hadoop fs -getmerge ' + fn + ' ' + fn)\n",
      "    a = np.loadtxt(fn)\n",
      "    # cleanup\n",
      "    os.system('rm ' + fn)\n",
      "    os.system('./hadoop fs -rmr ' + fn)\n",
      "    return a\n",
      "\n",
      "def rank1_approx(a):\n",
      "    u, s, v = nla.svd(a, False)\n",
      "    return s[0] * np.outer(u[:, 0], v[0, :])"
     ],
     "language": "python",
     "metadata": {},
     "outputs": [],
     "prompt_number": 2
    },
    {
     "cell_type": "code",
     "collapsed": false,
     "input": [
      "subprocess.check_output('aws s3 cp s3://chris1data/chris1_bvec.csv /root/data/chris1_bvec.csv', shell=True)"
     ],
     "language": "python",
     "metadata": {},
     "outputs": [
      {
       "metadata": {},
       "output_type": "pyout",
       "prompt_number": 3,
       "text": [
        "'download: s3://chris1data/chris1_bvec.csv to ../../data/chris1_bvec.csv\\n'"
       ]
      }
     ],
     "prompt_number": 3
    },
    {
     "cell_type": "code",
     "collapsed": false,
     "input": [
      "bvecs = np.loadtxt('/root/data/chris1_bvec.csv').T\n",
      "diff_inds = np.where(sum(bvecs**2, 1) > 0)[0]\n",
      "bvecs = bvecs[diff_inds, :]\n",
      "n = np.shape(bvecs)[0]\n",
      "n"
     ],
     "language": "python",
     "metadata": {},
     "outputs": [
      {
       "metadata": {},
       "output_type": "pyout",
       "prompt_number": 4,
       "text": [
        "138"
       ]
      }
     ],
     "prompt_number": 4
    },
    {
     "cell_type": "code",
     "collapsed": false,
     "input": [
      "ggrid = du.georandsphere(4, 5)\n",
      "pp = np.shape(ggrid)[0]\n",
      "pp"
     ],
     "language": "python",
     "metadata": {},
     "outputs": [
      {
       "metadata": {},
       "output_type": "pyout",
       "prompt_number": 5,
       "text": [
        "810"
       ]
      }
     ],
     "prompt_number": 5
    },
    {
     "cell_type": "markdown",
     "metadata": {},
     "source": [
      "# generating twin datasets"
     ]
    },
    {
     "cell_type": "code",
     "collapsed": false,
     "input": [
      "nvox = 1000\n",
      "y0s = np.zeros((nvox, n))\n",
      "# factor loadings\n",
      "fls1 = 0.5 * npr.randn(nvox)\n",
      "fls2 = 0.5 * npr.randn(nvox)\n",
      "# factor\n",
      "fact_c = .9 * npr.randn(n)\n",
      "fact1 = .3 * npr.randn(n) + fact_c\n",
      "fact2 = .3 * npr.randn(n) + fact_c\n",
      "pnoise1 = np.outer(fls1, fact1)\n",
      "pnoise2 = np.outer(fls2, fact2)\n",
      "ys1 = np.zeros((nvox, n))\n",
      "ys2 = np.zeros((nvox, n))\n",
      "amat = du.ste_tan_kappa(ggrid, bvecs)"
     ],
     "language": "python",
     "metadata": {},
     "outputs": [],
     "prompt_number": 60
    },
    {
     "cell_type": "code",
     "collapsed": false,
     "input": [
      "for i in range(nvox):\n",
      "    bt = np.zeros(pp)\n",
      "    inds_bt = npr.randint(0, pp, 2)\n",
      "    bt[inds_bt] = npr.rand(2)\n",
      "    bt = bt/sum(bt)\n",
      "    y0 = sdot(amat, bt)\n",
      "    y1 = np.sqrt(dn.rvs_ncx2(2, y0, sigma = 0.1))\n",
      "    y2 = np.sqrt(dn.rvs_ncx2(2, y0, sigma = 0.1))\n",
      "    y0s[i, :] = y0\n",
      "    ys1[i, :] = y1\n",
      "    ys2[i, :] = y2"
     ],
     "language": "python",
     "metadata": {},
     "outputs": [],
     "prompt_number": 61
    },
    {
     "cell_type": "markdown",
     "metadata": {},
     "source": [
      "# case 1: no factor"
     ]
    },
    {
     "cell_type": "code",
     "collapsed": false,
     "input": [
      "cdata = np.hstack([ys1, ys2, y0s])\n",
      "cdata_rdd = array_to_rdd(cdata)"
     ],
     "language": "python",
     "metadata": {},
     "outputs": [],
     "prompt_number": 62
    },
    {
     "cell_type": "code",
     "collapsed": false,
     "input": [
      "def proc(x):\n",
      "    y1 = x[:138]\n",
      "    y2 = x[138:276]\n",
      "    y0 = x[276:]\n",
      "    return y1, y2, y0\n",
      "\n",
      "def rel_emd(x):\n",
      "    y1, y2, y3 = proc(x)\n",
      "    bt1 = spo.nnls(amat, y1)[0]\n",
      "    bt2 = spo.nnls(amat, y2)[0]   \n",
      "#    bt0 = spo.nnls(amat, y0)[0]\n",
      "    return du.arc_emd(ggrid, bt1, ggrid, bt2)\n",
      "\n",
      "def fitted(x):\n",
      "    y1, y2, y3 = proc(x)\n",
      "    bt1 = spo.nnls(amat, y1)[0]\n",
      "    bt2 = spo.nnls(amat, y2)[0]   \n",
      "    yh1 = sdot(amat, bt1)\n",
      "    yh2 = sdot(amat, bt2)\n",
      "    return np.hstack([yh1, yh2])"
     ],
     "language": "python",
     "metadata": {},
     "outputs": [],
     "prompt_number": 63
    },
    {
     "cell_type": "code",
     "collapsed": false,
     "input": [
      "cdata_rdd.map(rel_emd).reduce(add)"
     ],
     "language": "python",
     "metadata": {},
     "outputs": [
      {
       "metadata": {},
       "output_type": "pyout",
       "prompt_number": 64,
       "text": [
        "247.1392108015716"
       ]
      }
     ],
     "prompt_number": 64
    },
    {
     "cell_type": "code",
     "collapsed": false,
     "input": [
      "fits = rdd_to_array(cdata_rdd.map(fitted))"
     ],
     "language": "python",
     "metadata": {},
     "outputs": [],
     "prompt_number": 65
    },
    {
     "cell_type": "code",
     "collapsed": false,
     "input": [
      "xresids1 = cdata[:, :138] - fits[:, 138:276]\n",
      "xresids2 = cdata[:, 138:276] - fits[:, :138]\n",
      "sum(xresids1.ravel()**2) + sum(xresids2.ravel() ** 2)"
     ],
     "language": "python",
     "metadata": {},
     "outputs": [
      {
       "metadata": {},
       "output_type": "pyout",
       "prompt_number": 66,
       "text": [
        "2838.4215919735511"
       ]
      }
     ],
     "prompt_number": 66
    },
    {
     "cell_type": "code",
     "collapsed": false,
     "input": [
      "resids1 = cdata[:, :138] - fits[:, :138]\n",
      "resids2 = cdata[:, 138:276] - fits[:, 138:276]\n",
      "cdata2 = cdata\n",
      "cdata2[:, :276] = cdata2[:, :276] - np.hstack([rank1_approx(resids1), rank1_approx(resids2)])"
     ],
     "language": "python",
     "metadata": {},
     "outputs": [],
     "prompt_number": 67
    },
    {
     "cell_type": "code",
     "collapsed": false,
     "input": [
      "cdata2_rdd = array_to_rdd(cdata2)"
     ],
     "language": "python",
     "metadata": {},
     "outputs": [],
     "prompt_number": 68
    },
    {
     "cell_type": "code",
     "collapsed": false,
     "input": [
      "cdata2_rdd.map(rel_emd).reduce(add)"
     ],
     "language": "python",
     "metadata": {},
     "outputs": [
      {
       "metadata": {},
       "output_type": "pyout",
       "prompt_number": 69,
       "text": [
        "247.23712785728276"
       ]
      }
     ],
     "prompt_number": 69
    },
    {
     "cell_type": "code",
     "collapsed": false,
     "input": [
      "fits2 = rdd_to_array(cdata2_rdd.map(fitted))"
     ],
     "language": "python",
     "metadata": {},
     "outputs": [],
     "prompt_number": 70
    },
    {
     "cell_type": "code",
     "collapsed": false,
     "input": [
      "xresids1 = cdata[:, :138] - fits2[:, 138:276]\n",
      "xresids2 = cdata[:, 138:276] - fits2[:, :138]\n",
      "sum(xresids1.ravel()**2) + sum(xresids2.ravel() ** 2)"
     ],
     "language": "python",
     "metadata": {},
     "outputs": [
      {
       "metadata": {},
       "output_type": "pyout",
       "prompt_number": 71,
       "text": [
        "2801.9903219761618"
       ]
      }
     ],
     "prompt_number": 71
    },
    {
     "cell_type": "markdown",
     "metadata": {},
     "source": [
      "# case 2 : factor"
     ]
    },
    {
     "cell_type": "code",
     "collapsed": false,
     "input": [
      "cdata = np.hstack([ys1 + pnoise1, ys2 + pnoise2, y0s])\n",
      "cdata_rdd = array_to_rdd(cdata)"
     ],
     "language": "python",
     "metadata": {},
     "outputs": [],
     "prompt_number": 72
    },
    {
     "cell_type": "code",
     "collapsed": false,
     "input": [
      "cdata_rdd.map(rel_emd).reduce(add)"
     ],
     "language": "python",
     "metadata": {},
     "outputs": [
      {
       "metadata": {},
       "output_type": "pyout",
       "prompt_number": 73,
       "text": [
        "437.0986682958901"
       ]
      }
     ],
     "prompt_number": 73
    },
    {
     "cell_type": "code",
     "collapsed": false,
     "input": [
      "xresids1 = cdata[:, :138] - fits[:, 138:276]\n",
      "xresids2 = cdata[:, 138:276] - fits[:, :138]\n",
      "sum(xresids1.ravel()**2) + sum(xresids2.ravel() ** 2)"
     ],
     "language": "python",
     "metadata": {},
     "outputs": [
      {
       "metadata": {},
       "output_type": "pyout",
       "prompt_number": 74,
       "text": [
        "72814.425306852936"
       ]
      }
     ],
     "prompt_number": 74
    },
    {
     "cell_type": "code",
     "collapsed": false,
     "input": [
      "fits = rdd_to_array(cdata_rdd.map(fitted))\n",
      "resids1 = cdata[:, :138] - fits[:, :138]\n",
      "resids2 = cdata[:, 138:276] - fits[:, 138:276]\n",
      "cdata2 = cdata\n",
      "cdata2[:, :276] = cdata2[:, :276] - np.hstack([rank1_approx(resids1), rank1_approx(resids2)])"
     ],
     "language": "python",
     "metadata": {},
     "outputs": [],
     "prompt_number": 75
    },
    {
     "cell_type": "code",
     "collapsed": false,
     "input": [
      "cdata2_rdd = array_to_rdd(cdata2)"
     ],
     "language": "python",
     "metadata": {},
     "outputs": [],
     "prompt_number": 76
    },
    {
     "cell_type": "code",
     "collapsed": false,
     "input": [
      "cdata2_rdd.map(rel_emd).reduce(add)"
     ],
     "language": "python",
     "metadata": {},
     "outputs": [
      {
       "metadata": {},
       "output_type": "pyout",
       "prompt_number": 77,
       "text": [
        "342.0208939239383"
       ]
      }
     ],
     "prompt_number": 77
    },
    {
     "cell_type": "code",
     "collapsed": false,
     "input": [
      "fits2 = rdd_to_array(cdata2_rdd.map(fitted))"
     ],
     "language": "python",
     "metadata": {},
     "outputs": [],
     "prompt_number": 78
    },
    {
     "cell_type": "code",
     "collapsed": false,
     "input": [
      "xresids1 = cdata[:, :138] - fits2[:, 138:276]\n",
      "xresids2 = cdata[:, 138:276] - fits2[:, :138]\n",
      "sum(xresids1.ravel()**2) + sum(xresids2.ravel() ** 2)"
     ],
     "language": "python",
     "metadata": {},
     "outputs": [
      {
       "metadata": {},
       "output_type": "pyout",
       "prompt_number": 79,
       "text": [
        "5245.0972339218242"
       ]
      }
     ],
     "prompt_number": 79
    },
    {
     "cell_type": "code",
     "collapsed": false,
     "input": [],
     "language": "python",
     "metadata": {},
     "outputs": []
    }
   ],
   "metadata": {}
  }
 ]
}