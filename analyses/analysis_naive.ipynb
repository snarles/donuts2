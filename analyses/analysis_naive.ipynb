{
 "metadata": {
  "name": "",
  "signature": "sha256:0df76f274a419c8e0ce5f6dfcc8428d8ccc1307d79b1a9c6635b1af764b671eb"
 },
 "nbformat": 3,
 "nbformat_minor": 0,
 "worksheets": [
  {
   "cells": [
    {
     "cell_type": "heading",
     "level": 2,
     "metadata": {},
     "source": [
      "Analysis of real data: comparison of signal prediction NNLS vs Guassian prox"
     ]
    },
    {
     "cell_type": "code",
     "collapsed": false,
     "input": [
      "import os\n",
      "import numpy as np\n",
      "import numpy.random as npr\n",
      "import numpy.linalg as nla\n",
      "import scipy as sp\n",
      "import scipy.stats as spst\n",
      "import scipy.special as sps\n",
      "import matplotlib.pyplot as plt\n",
      "import numpy.random as npr\n",
      "import scipy.optimize as spo\n",
      "import matplotlib as mpl\n",
      "from mpl_toolkits.mplot3d import Axes3D\n",
      "os.chdir(\"..\")\n",
      "import donuts.deconv.utils as du\n",
      "import donuts.deconv.ncx as ncx"
     ],
     "language": "python",
     "metadata": {},
     "outputs": [],
     "prompt_number": 1
    },
    {
     "cell_type": "code",
     "collapsed": false,
     "input": [
      "def tncsolve(amat,ls,x0,ft = 1e-3): # use TNC to solve\n",
      "    def f(x0):\n",
      "        yh = np.dot(amat,x0)\n",
      "        return sum(np.array([ls[i](yh[i])[0] for i in range(len(yh))]))\n",
      "    def fprime(x0):\n",
      "        yh = np.dot(amat,x0)\n",
      "        rawg= np.array([ls[i](yh[i])[1] for i in range(len(yh))])\n",
      "        return np.dot(rawg.T,amat)\n",
      "    bounds = [(0.0,100.0)] * len(x0)\n",
      "    res = spo.fmin_tnc(f,np.squeeze(x0),fprime=fprime,bounds=bounds,ftol=ft)\n",
      "    return res[0]"
     ],
     "language": "python",
     "metadata": {},
     "outputs": [],
     "prompt_number": 42
    },
    {
     "cell_type": "code",
     "collapsed": false,
     "input": [
      "df = 32\n",
      "bvecs = np.loadtxt('donuts/data/roi1_bvecs.csv',delimiter=',')\n",
      "n = np.shape(bvecs)[0]\n",
      "data = np.loadtxt('donuts/data/roi1_data.csv',delimiter=',')\n",
      "nvox = np.shape(data)[0]"
     ],
     "language": "python",
     "metadata": {},
     "outputs": [],
     "prompt_number": 15
    },
    {
     "cell_type": "code",
     "collapsed": false,
     "input": [
      "def plotz(z=np.ones(n)):\n",
      "    fig = plt.figure()\n",
      "    zz = np.ones(n)\n",
      "    ax = fig.gca(projection='3d')\n",
      "    ax.scatter(zz*bvecs[:,0],zz*bvecs[:,1],zz*bvecs[:,2])\n",
      "    plt.show()"
     ],
     "language": "python",
     "metadata": {},
     "outputs": [],
     "prompt_number": 18
    },
    {
     "cell_type": "code",
     "collapsed": false,
     "input": [
      "#plotz()\n",
      "plotz(data[200,15:])"
     ],
     "language": "python",
     "metadata": {},
     "outputs": [],
     "prompt_number": 27
    },
    {
     "cell_type": "code",
     "collapsed": false,
     "input": [
      "sgrid = du.geosphere(8)\n",
      "sgrid = sgrid[sgrid[:,2] >= 0,:]\n",
      "\n",
      "def est_vox(ii, inds_te,inds_tr, amat, sigma):\n",
      "    y = data[200,15:]\n",
      "    y_tr = y[inds_tr]\n",
      "    y_te = y[inds_te]\n",
      "    amat_tr = amat[inds_tr,:]\n",
      "    amat_te = amat[inds_te,:]\n",
      "    ls = [ncx.ncxloss_gauss(yy,df,sigma) for yy in y_tr]\n",
      "    bt_nnls = spo.nnls(amat_tr,np.sqrt(y_tr))[0]\n",
      "    mu_tr_nnls = np.squeeze(np.dot(amat_tr,bt_nnls))\n",
      "    sigma_nnls = nla.norm(np.sqrt(y_tr) - mu_tr_nnls)**2/n_tr\n",
      "    mu_nnls = np.squeeze(np.dot(amat_te,bt_nnls))\n",
      "    yh_nnls = mu_nnls**2 + sigma_nnls**2\n",
      "    mse_nnls = nla.norm(y_te - yh_nnls)**2\n",
      "    bt_gp = tncsolve(amat_tr,ls,np.array(bt_nnls))\n",
      "    mu_gp = np.squeeze(np.dot(amat_te,bt_gp))\n",
      "    yh_gp = mu_gp**2 + df*sigma**2\n",
      "    mse_gp = nla.norm(y_te - yh_gp)**2\n",
      "    return mse_nnls,mse_gp\n",
      "\n",
      "def search_sigma(ii, inds_te,inds_tr, amat, sigmas):\n",
      "    res = np.array([est_vox(ii, inds_te,inds_tr, amat, sigma)[1] for sigma in sigmas])\n",
      "    return res, sigmas[np.where(res==min(res))[0][0]], min(res)"
     ],
     "language": "python",
     "metadata": {},
     "outputs": [],
     "prompt_number": 73
    },
    {
     "cell_type": "code",
     "collapsed": false,
     "input": [
      "data[200,15:]"
     ],
     "language": "python",
     "metadata": {},
     "outputs": [
      {
       "metadata": {},
       "output_type": "pyout",
       "prompt_number": 28,
       "text": [
        "array([  78.,   18.,   31.,   70.,   35.,   16.,   61.,   25.,   44.,\n",
        "         74.,   53.,   17.,   55.,   27.,   44.,   52.,   77.,   39.,\n",
        "         32.,   28.,   18.,   14.,   35.,   29.,   38.,   13.,   25.,\n",
        "         54.,   47.,   34.,   52.,   45.,   13.,   52.,   52.,   32.,\n",
        "         15.,   68.,   15.,   29.,   36.,   29.,   19.,   49.,   26.,\n",
        "         19.,   32.,   13.,   10.,   67.,   12.,   44.,   34.,    6.,\n",
        "         30.,   43.,   56.,   24.,   38.,   11.,   29.,   19.,   48.,\n",
        "         28.,   52.,   36.,   66.,   34.,   51.,   26.,   32.,  106.,\n",
        "         44.,   32.,   52.,   44.,   19.,   89.,   20.,   12.,   26.,\n",
        "         39.,   55.,   89.,   37.,   21.,   30.,   69.,   52.,   11.,\n",
        "         45.,   21.,   82.,   16.,   47.,   36.,   23.,   70.,   67.,\n",
        "         15.,   35.,   31.,   23.,   25.,   15.,   46.,   22.,   48.,\n",
        "         70.,   28.,   41.,   44.,   14.,   30.,   54.,   25.,   23.,\n",
        "         70.,   87.,   28.,   20.,   49.,   11.,   21.,   44.,   20.,\n",
        "         48.,   37.,   58.,   48.,   16.,   32.,   30.,   20.,   46.,\n",
        "         40.,   19.,   48.,   30.,   42.,   30.,   35.,   60.,   70.,\n",
        "         50.,   23.,   18.,   54.,   93.,   26.])"
       ]
      }
     ],
     "prompt_number": 28
    },
    {
     "cell_type": "code",
     "collapsed": false,
     "input": [
      "nsub = 100\n",
      "\n",
      "\n",
      "\n",
      "inds = npr.permutation(150)\n",
      "inds_te = inds[:10]\n",
      "inds_tr = inds[10:]\n",
      "vox_sel = npr.permutation(nvox)[:nsub]\n",
      "n_tr = sum(inds_tr) + 0.0\n",
      "\n"
     ],
     "language": "python",
     "metadata": {},
     "outputs": [],
     "prompt_number": 54
    },
    {
     "cell_type": "code",
     "collapsed": false,
     "input": [
      "ii=200\n",
      "sigma = 0.15\n",
      "kappa = 4.0\n",
      "amat = du.ste_tan_kappa(sgrid,np.sqrt(kappa)*bvecs)\n",
      "print est_vox(200, inds_te,inds_tr, amat, sigma)\n"
     ],
     "language": "python",
     "metadata": {},
     "outputs": [
      {
       "output_type": "stream",
       "stream": "stdout",
       "text": [
        "(1356.2071870852833, 1364.5609650260724)\n"
       ]
      }
     ],
     "prompt_number": 72
    },
    {
     "cell_type": "code",
     "collapsed": false,
     "input": [
      "ii=200\n",
      "sigmas = np.arange(0.01,0.2,0.01)\n",
      "kappa = 4.0\n",
      "amat = du.ste_tan_kappa(sgrid,np.sqrt(kappa)*bvecs)\n",
      "print search_sigma(ii, inds_te,inds_tr, amat, sigmas)"
     ],
     "language": "python",
     "metadata": {},
     "outputs": []
    },
    {
     "cell_type": "code",
     "collapsed": false,
     "input": [
      "\n"
     ],
     "language": "python",
     "metadata": {},
     "outputs": [
      {
       "metadata": {},
       "output_type": "pyout",
       "prompt_number": 45,
       "text": [
        "(150,)"
       ]
      }
     ],
     "prompt_number": 45
    },
    {
     "cell_type": "code",
     "collapsed": false,
     "input": [],
     "language": "python",
     "metadata": {},
     "outputs": []
    }
   ],
   "metadata": {}
  }
 ]
}