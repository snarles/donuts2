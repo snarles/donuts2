{
 "metadata": {
  "name": "",
  "signature": "sha256:04472ce49ab281efa2bd2e90dbb6b97486d8a5b17943a121af9e18bb643a1e65"
 },
 "nbformat": 3,
 "nbformat_minor": 0,
 "worksheets": [
  {
   "cells": [
    {
     "cell_type": "heading",
     "level": 2,
     "metadata": {},
     "source": [
      "Analysis of real data: comparison of signal prediction NNLS vs Guassian prox"
     ]
    },
    {
     "cell_type": "code",
     "collapsed": false,
     "input": [
      "import os\n",
      "import numpy as np\n",
      "import numpy.random as npr\n",
      "import numpy.linalg as nla\n",
      "import scipy as sp\n",
      "import scipy.stats as spst\n",
      "import scipy.special as sps\n",
      "import matplotlib.pyplot as plt\n",
      "import numpy.random as npr\n",
      "import scipy.optimize as spo\n",
      "import matplotlib as mpl\n",
      "from mpl_toolkits.mplot3d import Axes3D\n",
      "os.chdir(\"..\")\n",
      "import donuts.deconv.utils as du\n",
      "import donuts.deconv.ncx as ncx"
     ],
     "language": "python",
     "metadata": {},
     "outputs": [],
     "prompt_number": 1
    },
    {
     "cell_type": "code",
     "collapsed": false,
     "input": [
      "bvecs = np.loadtxt('donuts/data/roi1_bvecs.csv',delimiter=',')\n",
      "n = np.shape(bvecs)[0]\n",
      "data = np.loadtxt('donuts/data/roi1_data.csv',delimiter=',')\n",
      "nvox = np.shape(data)[0]"
     ],
     "language": "python",
     "metadata": {},
     "outputs": [],
     "prompt_number": 9
    },
    {
     "cell_type": "code",
     "collapsed": false,
     "input": [
      "fig = plt.figure()\n",
      "zz = np.ones(n)\n",
      "ax = fig.gca(projection='3d')\n",
      "ax.scatter(zz*bvecs[:,0],zz*bvecs[:,1],zz*bvecs[:,2])\n",
      "plt.show()\n"
     ],
     "language": "python",
     "metadata": {},
     "outputs": [],
     "prompt_number": 8
    },
    {
     "cell_type": "code",
     "collapsed": false,
     "input": [],
     "language": "python",
     "metadata": {},
     "outputs": []
    }
   ],
   "metadata": {}
  }
 ]
}