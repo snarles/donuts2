{
 "metadata": {
  "name": "",
  "signature": "sha256:a9e7f06ce1b3ffa826054a9181145a3cf92fcb55f2f94e2958e10e4a2faaa9d0"
 },
 "nbformat": 3,
 "nbformat_minor": 0,
 "worksheets": [
  {
   "cells": [
    {
     "cell_type": "code",
     "collapsed": false,
     "input": [
      "import numpy as np\n",
      "import scipy as sp\n",
      "import scipy.stats as spst\n",
      "import scipy.special as sps\n",
      "import numpy.random as npr\n",
      "import matplotlib.pyplot as plt"
     ],
     "language": "python",
     "metadata": {},
     "outputs": [],
     "prompt_number": 1
    },
    {
     "cell_type": "code",
     "collapsed": false,
     "input": [
      "def numderiv(f,x,delta):\n",
      "    return (f(x+delta)-f(x))/delta\n",
      "def numderiv2(f,x,delta):\n",
      "    return (f(x+delta)+f(x-delta)-2*f(x))/(delta**2)\n",
      "def sq(x):\n",
      "    return x**2\n",
      "def logderivs(f,df,d2f,x):\n",
      "    return [np.log(f(x)),df(x)/f(x), -(df(x)/f(x))**2 + d2f(x)/f(x)]\n",
      "def x2derivs(f,df,d2f,x):\n",
      "    return [f(x**2),2*x*df(x**2),2*df(x**2) + ((2*x)**2)*d2f(x**2)]\n",
      "def logx2derivs(f,df,d2f,x):\n",
      "    return [np.log(f(x**2)),\n",
      "            2*x*df(x**2)/f(x**2),\n",
      "            2*df(x**2)/f(x**2) + ((2*x)**2)*(-(df(x**2)/f(x**2))**2 + d2f(x**2)/f(x**2))]"
     ],
     "language": "python",
     "metadata": {},
     "outputs": [],
     "prompt_number": 2
    },
    {
     "cell_type": "code",
     "collapsed": false,
     "input": [
      "def maxseq(f): # finds the max of a unimodal function\n",
      "    # find an upper bound\n",
      "    diff = 1\n",
      "    ub=1\n",
      "    eps=0.1\n",
      "    while diff > 0:\n",
      "        ub=2*ub\n",
      "        diff = f(ub*(1+eps))-f(ub)\n",
      "    # bisection search\n",
      "    lb=0\n",
      "    x = (ub+lb)/2.0\n",
      "    while (ub-lb)/ub > eps:\n",
      "        x = (ub+lb)/2.0\n",
      "        diff = f(x*(1+eps))-f(x)\n",
      "        if diff < 0:\n",
      "            ub = x\n",
      "        if diff >= 0:\n",
      "            lb = x\n",
      "    return x\n",
      "\n",
      "def lbseq(f,x0,eps): # finds lower bound subject to precision\n",
      "    diff = x0/2\n",
      "    x = x0-diff\n",
      "    while abs(f(x0) - f(x)) > eps:\n",
      "        diff = diff/2\n",
      "        x = x0-diff\n",
      "    diff = diff*2\n",
      "    x = x0-diff\n",
      "    x = max([0,x])\n",
      "    x = np.floor(x)\n",
      "    return x\n",
      "\n",
      "def ubseq(f,x0,eps): # finds upper bound subject to precision\n",
      "    diff = (x0 + 100.0)**2\n",
      "    x=x0 + diff\n",
      "    while abs(f(x0) - f(x)) > eps:\n",
      "        diff = diff/2\n",
      "        x = x0+diff\n",
      "    diff = diff*2\n",
      "    x = x0+diff\n",
      "    x = np.floor(x)\n",
      "    x = max([x,np.floor(x0)+10.0])\n",
      "    return x\n",
      "\n",
      "def boundseq(f,eps): # finds lower and upper bounds\n",
      "    x0=maxseq(f)\n",
      "    lb = lbseq(f,x0,eps)\n",
      "    ub = ubseq(f,x0,eps)\n",
      "    return lb,ub\n",
      "\n",
      "def windowsize(f,x,eps): # finds a window size so that |f(x+s)-f(x)| > eps\n",
      "    s=1.0\n",
      "    while abs(f(x+s)-f(x)) < eps:\n",
      "        s=2*s\n",
      "    return s\n",
      "\n",
      "def losssq(mu,x):\n",
      "    return [(mu-x)**2,2*(mu-x),2]\n",
      "\n",
      "def logsumexp(xs):\n",
      "    xs = np.array(xs)\n",
      "    return max(xs) + np.log(sum(np.exp(xs-max(xs))))\n",
      "\n",
      "def logsumdiff(x,y): # computes log(e^x - e^y) with sign\n",
      "    sgn = np.sign(x-y)\n",
      "    m = max([x,y])\n",
      "    ans = m + np.log(abs(np.exp(x-m)-np.exp(y-m)))\n",
      "    return sgn,ans\n",
      "\n",
      "def logncx2(n,nc,x):\n",
      "    ws = 200.0\n",
      "    eps = 30.0\n",
      "    if nc < 1e-20:\n",
      "        nc = 1e-20\n",
      "    a = n/2.0\n",
      "    temp0 = -(nc+x)/2.0 - a*np.log(2.0) + (a-1)*np.log(x)\n",
      "    \n",
      "    # adaptive choose sum indices\n",
      "    def f0(z):\n",
      "        return -sps.gammaln(a + z) + z*np.log(nc*x/4) - sps.gammaln(z+1)\n",
      "    lb,ub = boundseq(f0,eps)\n",
      "    iz0 = np.arange(lb,ub,1.0)\n",
      "    tempA = -sps.gammaln(a + iz0) + iz0*np.log(nc*x/4)\n",
      "    s0 = logsumexp(temp0+tempA - sps.gammaln(iz0+1))\n",
      "    \n",
      "    def f1(z):\n",
      "        return -sps.gammaln(a + z) + z*np.log(nc*x/4) - sps.gammaln(z+1) + np.log(z)\n",
      "    lb,ub = boundseq(f1,eps)\n",
      "    iz1 = np.arange(lb,ub,1.0)\n",
      "    tempB = -sps.gammaln(a + iz1) + iz1*np.log(nc*x/4)\n",
      "    s1 = logsumexp(temp0+tempB - sps.gammaln(iz1))\n",
      "    \n",
      "    def f2(z):\n",
      "        return -sps.gammaln(a + z) + z*np.log(nc*x/4) - sps.gammaln(z+1) + 2.0*np.log(z)\n",
      "    lb,ub = boundseq(f2,eps)\n",
      "    iz2 = np.arange(lb,ub,1.0)\n",
      "    tempC = -sps.gammaln(a + iz2) + iz2*np.log(nc*x/4)\n",
      "    s2 = logsumexp(temp0+tempC - sps.gammaln(iz2+1)+2*np.log(iz2))\n",
      "    \n",
      "    templ = np.log((nc**(-2.0) + nc**(-1.0)))\n",
      "    l0= s0 # log likelihood\n",
      "    sgnraw1,lraw1= logsumdiff(s1 - np.log(nc),s0-np.log(2.0)) # derivative of likelihood\n",
      "    l1= sgnraw1*np.exp(lraw1-l0) # first derivative of log likelihood\n",
      "    sub1 = logsumexp([-2.0*np.log(nc)+s2,np.log(.25)+s0])\n",
      "    sgnraw2,lraw2 = logsumdiff(sub1,templ+s1) # second derivative of likelihood\n",
      "    if sgnraw2 > 0:\n",
      "        sgn2,ll2 = logsumdiff(lraw2-l0, 2.0*(lraw1-l0))\n",
      "        l2 = sgn2*np.exp(ll2)\n",
      "    if sgnraw2 <= 0:\n",
      "        l2 = -1.0*np.exp(logsumexp([lraw2-l0, 2.0*(lraw1-l0)]))\n",
      "    return l0,l1,l2\n",
      "\n",
      "def logncx2prox(n,nc,x): # normal approximation\n",
      "    mm = n+nc\n",
      "    vv = 2*n + 4*nc\n",
      "    l0 = -.5*np.log(2*np.pi*vv) - .5*(x - mm)**2/vv\n",
      "    return l0\n",
      "\n",
      "def losschi2(n,mu,x):\n",
      "    nc = mu**2.0\n",
      "    l0,l1,l2 = logncx2(n,nc,x)\n",
      "    return -1.0*np.array([l0,2*mu*l1,2*l1 + ((2*mu)**2)*l2])"
     ],
     "language": "python",
     "metadata": {},
     "outputs": [],
     "prompt_number": 139
    },
    {
     "cell_type": "code",
     "collapsed": false,
     "input": [
      "def minchi2(n,mu0,x): # finds the min of chi2\n",
      "#    return 0\n",
      "#mu0 = ex\n",
      "#if True:\n",
      "    mu = mu0\n",
      "    for i in range(40):\n",
      "        res = losschi2(n,mu,x)\n",
      "        #print [res[0],mu]\n",
      "        mu = mu-res[1]/res[2]\n",
      "    return mu\n",
      "\n",
      "def inflchi2(n,mu0,x): # finds the inflection point of chi2\n",
      "    lb = 0\n",
      "    ub = mu0\n",
      "    for i in range(40):\n",
      "        mu = (lb+ub)/2\n",
      "        res = losschi2(n,mu,x)[2]\n",
      "        if res < 0:\n",
      "            lb = mu\n",
      "        if res >= 0:\n",
      "            ub = mu\n",
      "    return mu\n",
      "\n",
      "def genconvexchi2(n,x): # returns a function which is the convex relaxation of losschi2\n",
      "    mustar = minchi2(n,n/2.0,x)\n",
      "    muinf = inflchi2(n,mustar,x) + 0.01\n",
      "    res = losschi2(n,muinf,x)\n",
      "    def convloss(mu):\n",
      "        if mu > muinf:\n",
      "            return losschi2(n,mu,x)\n",
      "        else:\n",
      "            return [res[0] + res[1]*(mu-muinf)+res[2]*(mu-muinf)**2,res[1] + res[2]*(mu-muinf),res[2]]\n",
      "    return convloss"
     ],
     "language": "python",
     "metadata": {},
     "outputs": [],
     "prompt_number": 4
    },
    {
     "cell_type": "markdown",
     "metadata": {},
     "source": [
      "Tests"
     ]
    },
    {
     "cell_type": "code",
     "collapsed": false,
     "input": [
      "n=10.0\n",
      "mu=100.0\n",
      "nc=mu**2\n",
      "x=10000.0\n",
      "def f(nc):\n",
      "    return logncx2(n,nc,x)[0]\n",
      "\n",
      "def f0(nc):\n",
      "    return np.log(spst.ncx2.pdf(x,n,nc))\n",
      "\n",
      "\n",
      "print([f0(nc),numderiv(f0,nc,0.001),numderiv2(f0,nc,0.001)])\n",
      "print(logncx2(n,nc,x))\n",
      "#print(logncx2prox(n,nc,x))\n",
      "print([f(nc),numderiv(f,nc,0.01),numderiv2(f,nc,0.01)])"
     ],
     "language": "python",
     "metadata": {},
     "outputs": [
      {
       "output_type": "stream",
       "stream": "stdout",
       "text": [
        "[inf, nan, nan]\n",
        "(-175.74924925918066, -0.088709228134640189, -4.1064781022108849e-05)\n",
        "[-175.74924925918066, -0.088709433660483228, -4.1188741306541488e-05]\n"
       ]
      }
     ],
     "prompt_number": 19
    },
    {
     "cell_type": "code",
     "collapsed": false,
     "input": [
      "def g(mu):\n",
      "    return logncx2(n,mu**2,x)[0]\n",
      "\n",
      "print(-1.0*losschi2(n,mu,x))\n",
      "print([g(mu),numderiv(g,mu,0.01),numderiv2(g,mu,0.01)])"
     ],
     "language": "python",
     "metadata": {},
     "outputs": [
      {
       "output_type": "stream",
       "stream": "stdout",
       "text": [
        "[ -4.59269912e+03  -8.00208798e+01  -1.19977283e+00]\n",
        "[-4592.6991236097974, -80.026878622993536, -1.1997727960988414]\n"
       ]
      }
     ],
     "prompt_number": 6
    },
    {
     "cell_type": "code",
     "collapsed": false,
     "input": [
      "n=10.0\n",
      "x=3000.0\n",
      "\n",
      "clos = genconvexchi2(n,x)\n",
      "mu = 0.0\n",
      "print(clos(mu))\n",
      "print(losschi2(n,mu,x))"
     ],
     "language": "python",
     "metadata": {},
     "outputs": [
      {
       "output_type": "stream",
       "stream": "stdout",
       "text": [
        "[1484.4136963225424, -50.581928480787425, 0.0093565037358018799]\n",
        "[ 1474.61831946    -0.          -299.        ]\n"
       ]
      }
     ],
     "prompt_number": 36
    },
    {
     "cell_type": "code",
     "collapsed": false,
     "input": [
      "n=10.0\n",
      "x=8000.0\n",
      "\n",
      "mugrid = np.arange(-200.0,200.0,1.0)\n",
      "pts = [losschi2(n,mu,x)[0] for mu in mugrid]\n",
      "clos = genconvexchi2(n,x)\n",
      "#pts2 = [clos(mu)[0] for mu in mugrid]\n",
      "#pts = [np.log(spst.ncx2.pdf(x=15.0,df=10.0,nc=mu**2)) for mu in mugrid]\n",
      "plt.scatter(mugrid,pts)\n",
      "#plt.scatter(mugrid,pts2)\n",
      "plt.show()"
     ],
     "language": "python",
     "metadata": {},
     "outputs": [],
     "prompt_number": 143
    },
    {
     "cell_type": "code",
     "collapsed": false,
     "input": [
      "zip(mugrid,pts)\n",
      "mu=33\n",
      "losschi2(n,mu,x)[0]"
     ],
     "language": "python",
     "metadata": {},
     "outputs": [
      {
       "metadata": {},
       "output_type": "pyout",
       "prompt_number": 98,
       "text": [
        "101.2432780953945"
       ]
      }
     ],
     "prompt_number": 98
    },
    {
     "cell_type": "code",
     "collapsed": false,
     "input": [
      "mu = 33.0\n",
      "nc = mu**2\n",
      "eps = 30.0\n",
      "if nc < 1e-20:\n",
      "    nc = 1e-20\n",
      "a = n/2.0\n",
      "temp0 = -(nc+x)/2.0 - a*np.log(2.0) + (a-1)*np.log(x)\n",
      "\n",
      "# adaptive choose sum indices\n",
      "def f0(z):\n",
      "    return -sps.gammaln(a + z) + z*np.log(nc*x/4) - sps.gammaln(z+1)\n",
      "lb,ub = boundseq(f0,eps)\n",
      "iz0 = np.arange(lb,ub,1.0)\n",
      "#iz0 = np.arange(0,1000,1.0)\n",
      "tempA = -sps.gammaln(a + iz0) + iz0*np.log(nc*x/4)\n",
      "s0 = logsumexp(temp0+tempA - sps.gammaln(iz0+1))\n",
      "    "
     ],
     "language": "python",
     "metadata": {},
     "outputs": [],
     "prompt_number": 129
    },
    {
     "cell_type": "code",
     "collapsed": false,
     "input": [
      "s0"
     ],
     "language": "python",
     "metadata": {},
     "outputs": [
      {
       "metadata": {},
       "output_type": "pyout",
       "prompt_number": 130,
       "text": [
        "-101.2432780953945"
       ]
      }
     ],
     "prompt_number": 130
    },
    {
     "cell_type": "code",
     "collapsed": false,
     "input": [
      "lb,ub = boundseq(f0,eps)\n",
      "(lb,ub)"
     ],
     "language": "python",
     "metadata": {},
     "outputs": [
      {
       "metadata": {},
       "output_type": "pyout",
       "prompt_number": 128,
       "text": [
        "(448.0, 603.0)"
       ]
      }
     ],
     "prompt_number": 128
    },
    {
     "cell_type": "code",
     "collapsed": false,
     "input": [
      "maxseq(f0)"
     ],
     "language": "python",
     "metadata": {},
     "outputs": [
      {
       "metadata": {},
       "output_type": "pyout",
       "prompt_number": 126,
       "text": [
        "512.0"
       ]
      }
     ],
     "prompt_number": 126
    },
    {
     "cell_type": "code",
     "collapsed": false,
     "input": [
      "f=f0\n",
      "diff = 1\n",
      "ub=1\n",
      "eps=0.1\n",
      "while diff > 0:\n",
      "    ub=2*ub\n",
      "    diff = f(ub*(1+eps))-f(ub)"
     ],
     "language": "python",
     "metadata": {},
     "outputs": [],
     "prompt_number": 133
    },
    {
     "cell_type": "code",
     "collapsed": false,
     "input": [
      "ub"
     ],
     "language": "python",
     "metadata": {},
     "outputs": [
      {
       "metadata": {},
       "output_type": "pyout",
       "prompt_number": 134,
       "text": [
        "1024"
       ]
      }
     ],
     "prompt_number": 134
    },
    {
     "cell_type": "code",
     "collapsed": false,
     "input": [
      "\n",
      "# bisection search\n",
      "lb=0\n",
      "x = (ub+lb)/2.0\n",
      "while (f(ub)-f(lb)) > eps:\n",
      "    x = (ub+lb)/2.0\n",
      "    diff = f(x*(1+eps))-f(x)\n",
      "    if diff < 0:\n",
      "        ub = x\n",
      "    if diff >= 0:\n",
      "        lb = x\n",
      "x"
     ],
     "language": "python",
     "metadata": {},
     "outputs": [
      {
       "metadata": {},
       "output_type": "pyout",
       "prompt_number": 136,
       "text": [
        "512.0"
       ]
      }
     ],
     "prompt_number": 136
    },
    {
     "cell_type": "code",
     "collapsed": false,
     "input": [
      "(lb,ub)"
     ],
     "language": "python",
     "metadata": {},
     "outputs": [
      {
       "metadata": {},
       "output_type": "pyout",
       "prompt_number": 137,
       "text": [
        "(0, 1024)"
       ]
      }
     ],
     "prompt_number": 137
    },
    {
     "cell_type": "code",
     "collapsed": false,
     "input": [
      "(f(ub)-f(lb))"
     ],
     "language": "python",
     "metadata": {},
     "outputs": [
      {
       "metadata": {},
       "output_type": "pyout",
       "prompt_number": 138,
       "text": [
        "-51.654878105960393"
       ]
      }
     ],
     "prompt_number": 138
    },
    {
     "cell_type": "code",
     "collapsed": false,
     "input": [
      "f0(513.0)-f0(512.0)"
     ],
     "language": "python",
     "metadata": {},
     "outputs": [
      {
       "metadata": {},
       "output_type": "pyout",
       "prompt_number": 132,
       "text": [
        "0.71930450167565141"
       ]
      }
     ],
     "prompt_number": 132
    },
    {
     "cell_type": "code",
     "collapsed": false,
     "input": [
      "plt.scatter(iz0,f0(iz0))\n",
      "plt.show()"
     ],
     "language": "python",
     "metadata": {},
     "outputs": [],
     "prompt_number": 131
    },
    {
     "cell_type": "code",
     "collapsed": false,
     "input": [
      "plt.scatter(iz0,tempA- sps.gammaln(iz0+1))\n",
      "plt.show()"
     ],
     "language": "python",
     "metadata": {},
     "outputs": [],
     "prompt_number": 124
    },
    {
     "cell_type": "code",
     "collapsed": false,
     "input": [
      "eps = 30.0\n",
      "if nc < 1e-20:\n",
      "    nc = 1e-20\n",
      "a = n/2.0\n",
      "temp0 = -(nc+x)/2.0 - a*np.log(2.0) + (a-1)*np.log(x)\n",
      "\n",
      "# adaptive choose sum indices\n",
      "def f0(z):\n",
      "    return -sps.gammaln(a + z) + z*np.log(nc*x/4) - sps.gammaln(z+1)\n",
      "lb,ub = boundseq(f0,eps)"
     ],
     "language": "python",
     "metadata": {},
     "outputs": [],
     "prompt_number": 99
    },
    {
     "cell_type": "code",
     "collapsed": false,
     "input": [
      "(lb,ub)"
     ],
     "language": "python",
     "metadata": {},
     "outputs": [
      {
       "metadata": {},
       "output_type": "pyout",
       "prompt_number": 101,
       "text": [
        "(0.0, 11.0)"
       ]
      }
     ],
     "prompt_number": 101
    },
    {
     "cell_type": "code",
     "collapsed": false,
     "input": [
      "f = f0\n",
      "eps=20.0\n",
      "x0=maxseq(f)\n",
      "lb = lbseq(f,x0,eps)\n",
      "ub = ubseq(f,x0,eps)\n",
      "[x0,lb,ub]"
     ],
     "language": "python",
     "metadata": {},
     "outputs": [
      {
       "metadata": {},
       "output_type": "pyout",
       "prompt_number": 78,
       "text": [
        "[1.0, 0.0, 1.0]"
       ]
      }
     ],
     "prompt_number": 78
    },
    {
     "cell_type": "code",
     "collapsed": false,
     "input": [
      "\n",
      "n=10.0\n",
      "nc=0.0\n",
      "x=2.0\n",
      "if True:\n",
      "    a = n/2.0\n",
      "    iz = np.arange(0,100,1)\n",
      "    temp0 = -(nc+x)/2.0 - a*np.log(2.0) + (a-1)*np.log(x)\n",
      "    temp = -sps.gammaln(a + iz) + iz*np.log(nc*x/4)\n",
      "    s0 = sum(np.exp(temp - sps.gammaln(iz+1)))\n",
      "    s1 = sum(np.exp(temp - sps.gammaln(iz)))\n",
      "    tempalt = -sps.gammaln(a + iz) + iz*np.log(x/4) - sps.gammaln(iz)\n",
      "    #return np.exp(temp0)*(-.5*s0 + (1.0/nc)*s1)\n",
      "np.exp(temp0)*(-.5*s0 + sum(np.exp(tempalt)))"
     ],
     "language": "python",
     "metadata": {},
     "outputs": [
      {
       "metadata": {},
       "output_type": "pyout",
       "prompt_number": 172,
       "text": [
        "nan"
       ]
      }
     ],
     "prompt_number": 172
    },
    {
     "cell_type": "code",
     "collapsed": false,
     "input": [
      "-.5*s0 "
     ],
     "language": "python",
     "metadata": {},
     "outputs": [
      {
       "metadata": {},
       "output_type": "pyout",
       "prompt_number": 170,
       "text": [
        "nan"
       ]
      }
     ],
     "prompt_number": 170
    },
    {
     "cell_type": "code",
     "collapsed": false,
     "input": [
      "losschi2(10.0,3.0,2.0)"
     ],
     "language": "python",
     "metadata": {},
     "outputs": [
      {
       "metadata": {},
       "output_type": "pyout",
       "prompt_number": 183,
       "text": [
        "[-8.5291642798643839, -2.7191735130423904, -2.2280755037050906]"
       ]
      }
     ],
     "prompt_number": 183
    },
    {
     "cell_type": "code",
     "collapsed": false,
     "input": [
      "losschi2(10.0,1e-20,2.0)"
     ],
     "language": "python",
     "metadata": {},
     "outputs": [
      {
       "metadata": {},
       "output_type": "pyout",
       "prompt_number": 179,
       "text": [
        "[-4.8712010109078907, -7.8272552047574014e-21, -0.78272552047574018]"
       ]
      }
     ],
     "prompt_number": 179
    },
    {
     "cell_type": "code",
     "collapsed": false,
     "input": [],
     "language": "python",
     "metadata": {},
     "outputs": [],
     "prompt_number": 13
    },
    {
     "cell_type": "code",
     "collapsed": false,
     "input": [
      "mugrid = np.arange(0,5,0.01)\n",
      "pts = [losschi2(10.0,mu,2.0)[2] for mu in mugrid]\n",
      "#pts = [np.log(spst.ncx2.pdf(x=15.0,df=10.0,nc=mu)) for mu in mugrid]\n",
      "plt.scatter(mugrid,pts)\n",
      "plt.show()"
     ],
     "language": "python",
     "metadata": {},
     "outputs": [],
     "prompt_number": 194
    },
    {
     "cell_type": "code",
     "collapsed": false,
     "input": [],
     "language": "python",
     "metadata": {},
     "outputs": []
    }
   ],
   "metadata": {}
  }
 ]
}