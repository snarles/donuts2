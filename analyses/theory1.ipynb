{
 "metadata": {
  "name": "",
  "signature": "sha256:f4092feb7223daaef1124be7a5bc7a5ebcd947af30d0a06aa317b582f696671b"
 },
 "nbformat": 3,
 "nbformat_minor": 0,
 "worksheets": [
  {
   "cells": [
    {
     "cell_type": "code",
     "collapsed": false,
     "input": [
      "import numpy as np\n",
      "import scipy as sp\n",
      "import scipy.stats as spst\n",
      "import scipy.special as sps\n",
      "import numpy.random as npr\n",
      "import matplotlib.pyplot as plt"
     ],
     "language": "python",
     "metadata": {},
     "outputs": [],
     "prompt_number": 1
    },
    {
     "cell_type": "code",
     "collapsed": false,
     "input": [
      "def numderiv(f,x,delta):\n",
      "    return (f(x+delta)-f(x))/delta\n",
      "def numderiv2(f,x,delta):\n",
      "    return (f(x+delta)+f(x-delta)-2*f(x))/(delta**2)"
     ],
     "language": "python",
     "metadata": {},
     "outputs": [],
     "prompt_number": 2
    },
    {
     "cell_type": "code",
     "collapsed": false,
     "input": [
      "def sq(x):\n",
      "    return x**2"
     ],
     "language": "python",
     "metadata": {},
     "outputs": [],
     "prompt_number": 3
    },
    {
     "cell_type": "code",
     "collapsed": false,
     "input": [
      "def ff(x):\n",
      "    return 2 + 3*x + 4*x**2\n",
      "def dff(x):\n",
      "    return 3 + 8*x\n",
      "def d2ff(x):\n",
      "    return 8\n",
      "def lff(x):\n",
      "    return np.log(ff(x))\n",
      "def ffx2(x):\n",
      "    return ff(x**2)\n",
      "def lffx2(x):\n",
      "    return np.log(ff(x**2))\n",
      "def logderivs(f,df,d2f,x):\n",
      "    return [np.log(f(x)),df(x)/f(x), -(df(x)/f(x))**2 + d2f(x)/f(x)]\n",
      "def x2derivs(f,df,d2f,x):\n",
      "    return [f(x**2),2*x*df(x**2),2*df(x**2) + ((2*x)**2)*d2f(x**2)]\n",
      "def logx2derivs(f,df,d2f,x):\n",
      "    return [np.log(f(x**2)),\n",
      "            2*x*df(x**2)/f(x**2),\n",
      "            2*df(x**2)/f(x**2) + ((2*x)**2)*(-(df(x**2)/f(x**2))**2 + d2f(x**2)/f(x**2))]"
     ],
     "language": "python",
     "metadata": {},
     "outputs": [],
     "prompt_number": 4
    },
    {
     "cell_type": "code",
     "collapsed": false,
     "input": [
      "[dff(10),numderiv(ff,10,0.01),d2ff(10),numderiv2(ff,10,0.01)]"
     ],
     "language": "python",
     "metadata": {},
     "outputs": [
      {
       "metadata": {},
       "output_type": "pyout",
       "prompt_number": 77,
       "text": [
        "[83, 83.03999999999405, 8, 7.999999999128704]"
       ]
      }
     ],
     "prompt_number": 77
    },
    {
     "cell_type": "code",
     "collapsed": false,
     "input": [
      "[logderivs(ff,dff,d2ff,10.0),[lff(10),numderiv(lff,10,0.01),numderiv2(lff,10,0.01)]]"
     ],
     "language": "python",
     "metadata": {},
     "outputs": [
      {
       "metadata": {},
       "output_type": "pyout",
       "prompt_number": 82,
       "text": [
        "[[6.0684255882441107, 0.19212962962962962, -0.01839527606310014],\n",
        " [6.0684255882441107, 0.19203771171758532, -0.018395284406835799]]"
       ]
      }
     ],
     "prompt_number": 82
    },
    {
     "cell_type": "code",
     "collapsed": false,
     "input": [
      "[x2derivs(ff,dff,d2ff,10.0),[ffx2(10),numderiv(ffx2,10,0.01),numderiv2(ffx2,10,0.01)]]"
     ],
     "language": "python",
     "metadata": {},
     "outputs": [
      {
       "metadata": {},
       "output_type": "pyout",
       "prompt_number": 86,
       "text": [
        "[[40302.0, 16060.0, 4806.0], [40302, 16084.046003999538, 4806.000799871981]]"
       ]
      }
     ],
     "prompt_number": 86
    },
    {
     "cell_type": "code",
     "collapsed": false,
     "input": [
      "z = 5.0\n",
      "[logx2derivs(ff,dff,d2ff,z),[lffx2(z),numderiv(lffx2,z,0.01),numderiv2(lffx2,z,0.01)]]"
     ],
     "language": "python",
     "metadata": {},
     "outputs": [
      {
       "metadata": {},
       "output_type": "pyout",
       "prompt_number": 55,
       "text": [
        "[[7.8543812106523649, 0.7877376794722546, -0.1525446213925793],\n",
        " [7.8543812106523649, 0.78697592074323808, -0.15254489005300798]]"
       ]
      }
     ],
     "prompt_number": 55
    },
    {
     "cell_type": "code",
     "collapsed": false,
     "input": [
      "def loggamma(k,theta,x):\n",
      "    return -sps.gammaln(k) -k*np.log(theta)+(k-1)*np.log(x) - x/theta"
     ],
     "language": "python",
     "metadata": {},
     "outputs": [],
     "prompt_number": 5
    },
    {
     "cell_type": "code",
     "collapsed": false,
     "input": [
      "gammalns = sps.gammaln(np.arange(0,100,.5))\n",
      "\n",
      "def ncchi2(n,nc,x):\n",
      "#    return 0\n",
      "#if True:\n",
      "#    n=4;nc=3;x = 2.2\n",
      "    n=n+0.0;nc=nc+0.0;x=x+0.0\n",
      "    ss = np.arange(n/2,n/2+100,1)\n",
      "    iz = np.arange(0,100,1)\n",
      "    #w = np.exp(-nc/2 + np.log(nc/2)*(iz)-sps.gammaln(iz+1))\n",
      "    if nc > 1e-20:\n",
      "        w= spst.poisson.pmf(iz,mu=nc/2)\n",
      "    if nc < 1e-20:\n",
      "        w= spst.poisson.pmf(iz,mu=1e-20/2)\n",
      "    ch = np.exp(loggamma(ss,2,x))\n",
      "    return sum(ch*w)\n",
      "    #return w,ch\n",
      "\n",
      "def ncchi2alt(n,nc,x):\n",
      "    a = n/2.0\n",
      "    iz = np.arange(0,100,1)\n",
      "    temp0 = -(nc+x)/2.0 - a*np.log(2.0) + (a-1)*np.log(x)\n",
      "    temp = -sps.gammaln(a + iz) + iz*np.log(nc*x/4)\n",
      "    return sum(np.exp(temp0 + temp - sps.gammaln(iz+1)))\n",
      "    #return np.array(temp)\n",
      "    \n",
      "def nctemp(n,nc,x):\n",
      "    a = n/2.0\n",
      "    iz = np.arange(0,100,1)\n",
      "    temp0 = -(nc+x)/2.0 - a*np.log(2.0) + (a-1)*np.log(x)\n",
      "    temp = -sps.gammaln(a + iz) + iz*np.log(nc*x/4)\n",
      "    return temp\n",
      "\n",
      "def ncchi2deriv(n,nc,x):\n",
      "    # derivative with respect to nc\n",
      "    if nc < 1e-20:\n",
      "        nc = 1e-20\n",
      "    a = n/2.0\n",
      "    iz = np.arange(0,100,1)\n",
      "    temp0 = -(nc+x)/2.0 - a*np.log(2.0) + (a-1)*np.log(x)\n",
      "    temp = -sps.gammaln(a + iz) + iz*np.log(nc*x/4)\n",
      "    s0 = sum(np.exp(temp - sps.gammaln(iz+1)))\n",
      "    s1 = sum(np.exp(temp - sps.gammaln(iz)))\n",
      "    #tempalt = -sps.gammaln(a + iz) + iz*np.log(x/4) - sps.gammaln(iz)\n",
      "    return np.exp(temp0)*(-.5*s0 + (1.0/nc)*s1)\n",
      "    #return np.exp(temp0)*(-.5*s0 + sum(np.exp(tempalt)))\n",
      "\n",
      "def ncchi2deriv2(n,nc,x):\n",
      "    # second derivative with respect to nc\n",
      "    if nc < 1e-20:\n",
      "        nc = 1e-20\n",
      "    a = n/2.0\n",
      "    iz = np.arange(0,100,1)\n",
      "    temp0 = -(nc+x)/2.0 - a*np.log(2.0) + (a-1)*np.log(x)\n",
      "    temp = -sps.gammaln(a + iz) + iz*np.log(nc*x/4)\n",
      "    s0 = sum(np.exp(temp - sps.gammaln(iz+1)))\n",
      "    s1 = sum(np.exp(temp - sps.gammaln(iz)))\n",
      "    s2 = sum(np.exp(temp - sps.gammaln(iz+1)+2*np.log(iz)))\n",
      "    return np.exp(temp0)*(nc**(-2.0) * s2 - (nc**(-2.0) + nc**(-1.0))*s1 + .25 * s0)"
     ],
     "language": "python",
     "metadata": {},
     "outputs": [],
     "prompt_number": 6
    },
    {
     "cell_type": "code",
     "collapsed": false,
     "input": [
      "n=10.0\n",
      "x=100.0\n",
      "def f(mu):\n",
      "    return ncchi2(n,mu,x)\n",
      "def df(mu):\n",
      "    return ncchi2deriv(n,mu,x)\n",
      "def d2f(mu):\n",
      "    return ncchi2deriv2(n,mu,x)\n",
      "mu = n/2.0\n",
      "[df(mu),d2f(mu),numderiv(f,mu,0.01),numderiv2(f,mu,0.01)]"
     ],
     "language": "python",
     "metadata": {},
     "outputs": [
      {
       "metadata": {},
       "output_type": "pyout",
       "prompt_number": 12,
       "text": [
        "[1.2683080972189469e-12,\n",
        " 1.5387777921749162e-12,\n",
        " 1.2760304473776666e-12,\n",
        " 1.5387920365792928e-12]"
       ]
      }
     ],
     "prompt_number": 12
    },
    {
     "cell_type": "code",
     "collapsed": false,
     "input": [
      "def losssq(mu,x):\n",
      "    return [(mu-x)**2,2*(mu-x),2]\n",
      "\n",
      "def losschi2(n,mu,x):\n",
      "    def f(mu):\n",
      "        return ncchi2(n,mu,x)\n",
      "    def df(mu):\n",
      "        return ncchi2deriv(n,mu,x)\n",
      "    def d2f(mu):\n",
      "        return ncchi2deriv2(n,mu,x)\n",
      "    return -1.0*np.array(logx2derivs(f,df,d2f,mu))\n"
     ],
     "language": "python",
     "metadata": {},
     "outputs": [],
     "prompt_number": 13
    },
    {
     "cell_type": "code",
     "collapsed": false,
     "input": [
      "def minchi2(n,mu0,x): # finds the min of chi2\n",
      "#    return 0\n",
      "#mu0 = ex\n",
      "#if True:\n",
      "    mu = mu0\n",
      "    for i in range(40):\n",
      "        res = losschi2(n,mu,x)\n",
      "        #print [res[0],mu]\n",
      "        mu = mu-res[1]/res[2]\n",
      "    return mu\n",
      "\n",
      "def inflchi2(n,mu0,x): # finds the inflection point of chi2\n",
      "    lb = 0\n",
      "    ub = mu0\n",
      "    for i in range(40):\n",
      "        mu = (lb+ub)/2\n",
      "        res = losschi2(n,mu,x)[2]\n",
      "        if res < 0:\n",
      "            lb = mu\n",
      "        if res >= 0:\n",
      "            ub = mu\n",
      "    return mu\n",
      "\n",
      "def genconvexchi2(n,x): # returns a function which is the convex relaxation of losschi2\n",
      "    mustar = minchi2(n,n/2.0,x)\n",
      "    muinf = inflchi2(n,mustar,x) + 0.01\n",
      "    res = losschi2(n,muinf,x)\n",
      "    def convloss(mu):\n",
      "        if mu > muinf:\n",
      "            return losschi2(n,mu,x)\n",
      "        else:\n",
      "            return [res[0] + res[1]*(mu-muinf)+res[2]*(mu-muinf)**2,res[1] + res[2]*(mu-muinf),res[2]]\n",
      "    return convloss"
     ],
     "language": "python",
     "metadata": {},
     "outputs": [],
     "prompt_number": 35
    },
    {
     "cell_type": "code",
     "collapsed": false,
     "input": [
      "n=10.0\n",
      "mu=n/2.0\n",
      "x=100.0\n",
      "\n",
      "def f(mu):\n",
      "    return losschi2(n,mu,x)[0]\n",
      "\n",
      "ex=5.0\n",
      "\n",
      "print(losschi2(n,ex,x))\n",
      "print([f(ex),numderiv(f,ex,0.01),numderiv2(f,ex,0.01)])"
     ],
     "language": "python",
     "metadata": {},
     "outputs": [
      {
       "output_type": "stream",
       "stream": "stdout",
       "text": [
        "[ 13.45452821  -4.132096     0.83295013]\n",
        "[13.454528213276918, -4.12793018019606, 0.83294982058390588]\n"
       ]
      }
     ],
     "prompt_number": 21
    },
    {
     "cell_type": "code",
     "collapsed": false,
     "input": [
      "clos = genconvexchi2(n,x)\n",
      "mu = 1.5\n",
      "print(clos(mu))\n",
      "print(losschi2(n,mu,x))"
     ],
     "language": "python",
     "metadata": {},
     "outputs": [
      {
       "output_type": "stream",
       "stream": "stdout",
       "text": [
        "[32.055892751492131, -5.9630383792074113, 0.0091290153246736949]\n",
        "[ 32.04271617  -5.86815279  -0.50140772]\n"
       ]
      }
     ],
     "prompt_number": 36
    },
    {
     "cell_type": "code",
     "collapsed": false,
     "input": [
      "mustar = minchi2(n,ex,x)\n",
      "[losschi2(n,mustar,x), mustar]"
     ],
     "language": "python",
     "metadata": {},
     "outputs": [
      {
       "metadata": {},
       "output_type": "pyout",
       "prompt_number": 22,
       "text": [
        "[array([  3.89152611e+00,   5.77225448e-15,   9.52366835e-01]),\n",
        " 9.5368950311517811]"
       ]
      }
     ],
     "prompt_number": 22
    },
    {
     "cell_type": "code",
     "collapsed": false,
     "input": [
      "muinf = inflchi2(n,mustar,x)\n",
      "[losschi2(n,muinf,x), muinf]"
     ],
     "language": "python",
     "metadata": {},
     "outputs": [
      {
       "metadata": {},
       "output_type": "pyout",
       "prompt_number": 25,
       "text": [
        "[array([  2.96511737e+01,  -5.95931143e+00,  -1.80255810e-12]),\n",
        " 1.9032644834264587]"
       ]
      }
     ],
     "prompt_number": 25
    },
    {
     "cell_type": "code",
     "collapsed": false,
     "input": [
      "mugrid = np.arange(-20,20,0.1)\n",
      "pts = [losschi2(n,mu,x)[0] for mu in mugrid]\n",
      "clos = genconvexchi2(n,x)\n",
      "pts2 = [clos(mu)[0] for mu in mugrid]\n",
      "#pts = [np.log(spst.ncx2.pdf(x=15.0,df=10.0,nc=mu**2)) for mu in mugrid]\n",
      "plt.scatter(mugrid,pts)\n",
      "plt.scatter(mugrid,pts2)\n",
      "plt.show()"
     ],
     "language": "python",
     "metadata": {},
     "outputs": [],
     "prompt_number": 37
    },
    {
     "cell_type": "code",
     "collapsed": false,
     "input": [
      "\n",
      "n=10.0\n",
      "nc=0.0\n",
      "x=2.0\n",
      "if True:\n",
      "    a = n/2.0\n",
      "    iz = np.arange(0,100,1)\n",
      "    temp0 = -(nc+x)/2.0 - a*np.log(2.0) + (a-1)*np.log(x)\n",
      "    temp = -sps.gammaln(a + iz) + iz*np.log(nc*x/4)\n",
      "    s0 = sum(np.exp(temp - sps.gammaln(iz+1)))\n",
      "    s1 = sum(np.exp(temp - sps.gammaln(iz)))\n",
      "    tempalt = -sps.gammaln(a + iz) + iz*np.log(x/4) - sps.gammaln(iz)\n",
      "    #return np.exp(temp0)*(-.5*s0 + (1.0/nc)*s1)\n",
      "np.exp(temp0)*(-.5*s0 + sum(np.exp(tempalt)))"
     ],
     "language": "python",
     "metadata": {},
     "outputs": [
      {
       "metadata": {},
       "output_type": "pyout",
       "prompt_number": 172,
       "text": [
        "nan"
       ]
      }
     ],
     "prompt_number": 172
    },
    {
     "cell_type": "code",
     "collapsed": false,
     "input": [
      "-.5*s0 "
     ],
     "language": "python",
     "metadata": {},
     "outputs": [
      {
       "metadata": {},
       "output_type": "pyout",
       "prompt_number": 170,
       "text": [
        "nan"
       ]
      }
     ],
     "prompt_number": 170
    },
    {
     "cell_type": "code",
     "collapsed": false,
     "input": [
      "losschi2(10.0,3.0,2.0)"
     ],
     "language": "python",
     "metadata": {},
     "outputs": [
      {
       "metadata": {},
       "output_type": "pyout",
       "prompt_number": 183,
       "text": [
        "[-8.5291642798643839, -2.7191735130423904, -2.2280755037050906]"
       ]
      }
     ],
     "prompt_number": 183
    },
    {
     "cell_type": "code",
     "collapsed": false,
     "input": [
      "losschi2(10.0,1e-20,2.0)"
     ],
     "language": "python",
     "metadata": {},
     "outputs": [
      {
       "metadata": {},
       "output_type": "pyout",
       "prompt_number": 179,
       "text": [
        "[-4.8712010109078907, -7.8272552047574014e-21, -0.78272552047574018]"
       ]
      }
     ],
     "prompt_number": 179
    },
    {
     "cell_type": "code",
     "collapsed": false,
     "input": [],
     "language": "python",
     "metadata": {},
     "outputs": [],
     "prompt_number": 13
    },
    {
     "cell_type": "code",
     "collapsed": false,
     "input": [
      "mugrid = np.arange(0,5,0.01)\n",
      "pts = [losschi2(10.0,mu,2.0)[2] for mu in mugrid]\n",
      "#pts = [np.log(spst.ncx2.pdf(x=15.0,df=10.0,nc=mu)) for mu in mugrid]\n",
      "plt.scatter(mugrid,pts)\n",
      "plt.show()"
     ],
     "language": "python",
     "metadata": {},
     "outputs": [],
     "prompt_number": 194
    },
    {
     "cell_type": "code",
     "collapsed": false,
     "input": [],
     "language": "python",
     "metadata": {},
     "outputs": []
    }
   ],
   "metadata": {}
  }
 ]
}