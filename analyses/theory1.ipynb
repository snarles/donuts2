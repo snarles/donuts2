{
 "metadata": {
  "name": "",
  "signature": "sha256:50910089196b680b5517f2f927c935089134086e9cfdf7a49b3bf921a6936675"
 },
 "nbformat": 3,
 "nbformat_minor": 0,
 "worksheets": [
  {
   "cells": [
    {
     "cell_type": "code",
     "collapsed": false,
     "input": [
      "import numpy as np\n",
      "import scipy as sp\n",
      "import scipy.stats as spst\n",
      "import scipy.special as sps\n",
      "import numpy.random as npr\n",
      "import matplotlib.pyplot as plt"
     ],
     "language": "python",
     "metadata": {},
     "outputs": [],
     "prompt_number": 1
    },
    {
     "cell_type": "code",
     "collapsed": false,
     "input": [
      "def numderiv(f,x,delta):\n",
      "    return (f(x+delta)-f(x))/delta\n",
      "def numderiv2(f,x,delta):\n",
      "    return (f(x+delta)+f(x-delta)-2*f(x))/(delta**2)\n",
      "def sq(x):\n",
      "    return x**2\n",
      "def logderivs(f,df,d2f,x):\n",
      "    return [np.log(f(x)),df(x)/f(x), -(df(x)/f(x))**2 + d2f(x)/f(x)]\n",
      "def x2derivs(f,df,d2f,x):\n",
      "    return [f(x**2),2*x*df(x**2),2*df(x**2) + ((2*x)**2)*d2f(x**2)]\n",
      "def logx2derivs(f,df,d2f,x):\n",
      "    return [np.log(f(x**2)),\n",
      "            2*x*df(x**2)/f(x**2),\n",
      "            2*df(x**2)/f(x**2) + ((2*x)**2)*(-(df(x**2)/f(x**2))**2 + d2f(x**2)/f(x**2))]"
     ],
     "language": "python",
     "metadata": {},
     "outputs": [],
     "prompt_number": 4
    },
    {
     "cell_type": "code",
     "collapsed": false,
     "input": [
      "def losssq(mu,x):\n",
      "    return [(mu-x)**2,2*(mu-x),2]\n",
      "\n",
      "def logsumexp(xs):\n",
      "    xs = np.array(xs)\n",
      "    return max(xs) + np.log(sum(np.exp(xs-max(xs))))\n",
      "\n",
      "def logsumdiff(x,y): # computes log(e^x - e^y) with sign\n",
      "    sgn = np.sign(x-y)\n",
      "    m = max([x,y])\n",
      "    ans = m + np.log(abs(np.exp(x-m)-np.exp(y-m)))\n",
      "    return sgn,ans\n",
      "\n",
      "def logncx2(n,nc,x):\n",
      "    if nc < 1e-20:\n",
      "        nc = 1e-20\n",
      "    a = n/2.0\n",
      "    iz = np.arange(0,1000,1)\n",
      "    temp0 = -(nc+x)/2.0 - a*np.log(2.0) + (a-1)*np.log(x)\n",
      "    temp = -sps.gammaln(a + iz) + iz*np.log(nc*x/4)\n",
      "    s0 = logsumexp(temp0+temp - sps.gammaln(iz+1))\n",
      "    s1 = logsumexp(temp0+temp - sps.gammaln(iz))\n",
      "    s2 = logsumexp(temp0+temp - sps.gammaln(iz+1)+2*np.log(iz))\n",
      "    templ = np.log((nc**(-2.0) + nc**(-1.0)))\n",
      "    l0= logsumexp(temp0 + temp - sps.gammaln(iz+1)) # log likelihood\n",
      "    sgnraw1,lraw1= logsumdiff(s1 - np.log(nc),s0-np.log(2.0)) # derivative of likelihood\n",
      "    l1= sgnraw1*np.exp(lraw1-l0) # first derivative of log likelihood\n",
      "    sub1 = logsumexp([-2.0*np.log(nc)+s2,np.log(.25)+s0])\n",
      "    sgnraw2,lraw2 = logsumdiff(sub1,templ+s1) # second derivative of likelihood\n",
      "    if sgnraw2 > 0:\n",
      "        sgn2,ll2 = logsumdiff(lraw2-l0, 2.0*(lraw1-l0))\n",
      "        l2 = sgn2*np.exp(ll2)\n",
      "    if sgnraw2 <= 0:\n",
      "        l2 = -1.0*np.exp(logsumexp([lraw2-l0, 2.0*(lraw1-l0)]))\n",
      "    return l0,l1,l2\n",
      "\n",
      "def losschi2(n,mu,x):\n",
      "    nc = mu**2.0\n",
      "    l0,l1,l2 = logncx2(n,nc,x)\n",
      "    return -1.0*np.array([l0,2*mu*l1,2*l1 + ((2*mu)**2)*l2])"
     ],
     "language": "python",
     "metadata": {},
     "outputs": [],
     "prompt_number": 158
    },
    {
     "cell_type": "code",
     "collapsed": false,
     "input": [
      "def minchi2(n,mu0,x): # finds the min of chi2\n",
      "#    return 0\n",
      "#mu0 = ex\n",
      "#if True:\n",
      "    mu = mu0\n",
      "    for i in range(40):\n",
      "        res = losschi2(n,mu,x)\n",
      "        #print [res[0],mu]\n",
      "        mu = mu-res[1]/res[2]\n",
      "    return mu\n",
      "\n",
      "def inflchi2(n,mu0,x): # finds the inflection point of chi2\n",
      "    lb = 0\n",
      "    ub = mu0\n",
      "    for i in range(40):\n",
      "        mu = (lb+ub)/2\n",
      "        res = losschi2(n,mu,x)[2]\n",
      "        if res < 0:\n",
      "            lb = mu\n",
      "        if res >= 0:\n",
      "            ub = mu\n",
      "    return mu\n",
      "\n",
      "def genconvexchi2(n,x): # returns a function which is the convex relaxation of losschi2\n",
      "    mustar = minchi2(n,n/2.0,x)\n",
      "    muinf = inflchi2(n,mustar,x) + 0.01\n",
      "    res = losschi2(n,muinf,x)\n",
      "    def convloss(mu):\n",
      "        if mu > muinf:\n",
      "            return losschi2(n,mu,x)\n",
      "        else:\n",
      "            return [res[0] + res[1]*(mu-muinf)+res[2]*(mu-muinf)**2,res[1] + res[2]*(mu-muinf),res[2]]\n",
      "    return convloss"
     ],
     "language": "python",
     "metadata": {},
     "outputs": [],
     "prompt_number": 159
    },
    {
     "cell_type": "markdown",
     "metadata": {},
     "source": [
      "Tests"
     ]
    },
    {
     "cell_type": "code",
     "collapsed": false,
     "input": [
      "n=10.0\n",
      "mu=20.0\n",
      "nc=mu**2\n",
      "x=2000.0\n",
      "def f(nc):\n",
      "    return logncx2(n,nc,x)[0]\n",
      "\n",
      "def f0(nc):\n",
      "    return np.log(spst.ncx2.pdf(x,n,nc))\n",
      "\n",
      "\n",
      "print([f0(nc),numderiv(f0,nc,0.001),numderiv2(f0,nc,0.001)])\n",
      "print(logncx2(n,nc,x))\n",
      "print([f(nc),numderiv(f,nc,0.01),numderiv2(f,nc,0.01)])"
     ],
     "language": "python",
     "metadata": {},
     "outputs": [
      {
       "output_type": "stream",
       "stream": "stdout",
       "text": [
        "[inf, nan, nan]\n",
        "(-307.372920071198, 0.61242000666796359, -0.0013835213184772881)\n",
        "[-307.372920071198, 0.61241308907824532, -0.0013835256140737329]\n"
       ]
      }
     ],
     "prompt_number": 160
    },
    {
     "cell_type": "code",
     "collapsed": false,
     "input": [
      "def g(mu):\n",
      "    return logncx2(n,mu**2,x)[0]\n",
      "\n",
      "print(-1.0*losschi2(n,mu,x))\n",
      "print([g(mu),numderiv(g,mu,0.01),numderiv2(g,mu,0.01)])"
     ],
     "language": "python",
     "metadata": {},
     "outputs": [
      {
       "output_type": "stream",
       "stream": "stdout",
       "text": [
        "[ -4.80919108e+02  -1.25153519e-01  -1.99061372e+00]\n",
        "[-480.91910832056374, -0.13510494754314095, -1.9906138345504587]\n"
       ]
      }
     ],
     "prompt_number": 135
    },
    {
     "cell_type": "code",
     "collapsed": false,
     "input": [
      "n=10.0\n",
      "mu=n/2.0\n",
      "x=2000.0\n",
      "#mustar = minchi2(n,n/2.0,x)\n",
      "ncchi2alt(n,(n/2.0)**2,x)\n",
      "0"
     ],
     "language": "python",
     "metadata": {},
     "outputs": [
      {
       "metadata": {},
       "output_type": "pyout",
       "prompt_number": 137,
       "text": [
        "0"
       ]
      }
     ],
     "prompt_number": 137
    },
    {
     "cell_type": "code",
     "collapsed": false,
     "input": [
      "n=10.0\n",
      "x=200000.0\n",
      "\n",
      "clos = genconvexchi2(n,x)\n",
      "mu = 0.0\n",
      "print(clos(mu))\n",
      "print(losschi2(n,mu,x))"
     ],
     "language": "python",
     "metadata": {},
     "outputs": [
      {
       "output_type": "stream",
       "stream": "stdout",
       "text": [
        "[99976.944578406983, -442.99476987008364, 0.0093717966391295704]\n",
        "[ 99957.81949915     -0.         -19998.99999973]\n"
       ]
      }
     ],
     "prompt_number": 161
    },
    {
     "cell_type": "code",
     "collapsed": false,
     "input": [
      "mugrid = np.arange(-200.0,200.0,1.0)\n",
      "pts = [losschi2(n,mu,x)[0] for mu in mugrid]\n",
      "clos = genconvexchi2(n,x)\n",
      "pts2 = [clos(mu)[0] for mu in mugrid]\n",
      "#pts = [np.log(spst.ncx2.pdf(x=15.0,df=10.0,nc=mu**2)) for mu in mugrid]\n",
      "plt.scatter(mugrid,pts)\n",
      "#plt.scatter(mugrid,pts2)\n",
      "plt.show()"
     ],
     "language": "python",
     "metadata": {},
     "outputs": [],
     "prompt_number": 162
    },
    {
     "cell_type": "code",
     "collapsed": false,
     "input": [
      "\n",
      "n=10.0\n",
      "nc=0.0\n",
      "x=2.0\n",
      "if True:\n",
      "    a = n/2.0\n",
      "    iz = np.arange(0,100,1)\n",
      "    temp0 = -(nc+x)/2.0 - a*np.log(2.0) + (a-1)*np.log(x)\n",
      "    temp = -sps.gammaln(a + iz) + iz*np.log(nc*x/4)\n",
      "    s0 = sum(np.exp(temp - sps.gammaln(iz+1)))\n",
      "    s1 = sum(np.exp(temp - sps.gammaln(iz)))\n",
      "    tempalt = -sps.gammaln(a + iz) + iz*np.log(x/4) - sps.gammaln(iz)\n",
      "    #return np.exp(temp0)*(-.5*s0 + (1.0/nc)*s1)\n",
      "np.exp(temp0)*(-.5*s0 + sum(np.exp(tempalt)))"
     ],
     "language": "python",
     "metadata": {},
     "outputs": [
      {
       "metadata": {},
       "output_type": "pyout",
       "prompt_number": 172,
       "text": [
        "nan"
       ]
      }
     ],
     "prompt_number": 172
    },
    {
     "cell_type": "code",
     "collapsed": false,
     "input": [
      "-.5*s0 "
     ],
     "language": "python",
     "metadata": {},
     "outputs": [
      {
       "metadata": {},
       "output_type": "pyout",
       "prompt_number": 170,
       "text": [
        "nan"
       ]
      }
     ],
     "prompt_number": 170
    },
    {
     "cell_type": "code",
     "collapsed": false,
     "input": [
      "losschi2(10.0,3.0,2.0)"
     ],
     "language": "python",
     "metadata": {},
     "outputs": [
      {
       "metadata": {},
       "output_type": "pyout",
       "prompt_number": 183,
       "text": [
        "[-8.5291642798643839, -2.7191735130423904, -2.2280755037050906]"
       ]
      }
     ],
     "prompt_number": 183
    },
    {
     "cell_type": "code",
     "collapsed": false,
     "input": [
      "losschi2(10.0,1e-20,2.0)"
     ],
     "language": "python",
     "metadata": {},
     "outputs": [
      {
       "metadata": {},
       "output_type": "pyout",
       "prompt_number": 179,
       "text": [
        "[-4.8712010109078907, -7.8272552047574014e-21, -0.78272552047574018]"
       ]
      }
     ],
     "prompt_number": 179
    },
    {
     "cell_type": "code",
     "collapsed": false,
     "input": [],
     "language": "python",
     "metadata": {},
     "outputs": [],
     "prompt_number": 13
    },
    {
     "cell_type": "code",
     "collapsed": false,
     "input": [
      "mugrid = np.arange(0,5,0.01)\n",
      "pts = [losschi2(10.0,mu,2.0)[2] for mu in mugrid]\n",
      "#pts = [np.log(spst.ncx2.pdf(x=15.0,df=10.0,nc=mu)) for mu in mugrid]\n",
      "plt.scatter(mugrid,pts)\n",
      "plt.show()"
     ],
     "language": "python",
     "metadata": {},
     "outputs": [],
     "prompt_number": 194
    },
    {
     "cell_type": "code",
     "collapsed": false,
     "input": [],
     "language": "python",
     "metadata": {},
     "outputs": []
    }
   ],
   "metadata": {}
  }
 ]
}