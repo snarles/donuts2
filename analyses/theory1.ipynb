{
 "metadata": {
  "name": "",
  "signature": "sha256:25ebf5e7c69b40ef2873397ed54d6f756175a32df44281cfc208748d3c9f729a"
 },
 "nbformat": 3,
 "nbformat_minor": 0,
 "worksheets": [
  {
   "cells": [
    {
     "cell_type": "code",
     "collapsed": false,
     "input": [
      "import numpy as np\n",
      "import scipy as sp\n",
      "import scipy.stats as spst\n",
      "import scipy.special as sps\n",
      "import numpy.random as npr\n",
      "import matplotlib.pyplot as plt"
     ],
     "language": "python",
     "metadata": {},
     "outputs": [],
     "prompt_number": 1
    },
    {
     "cell_type": "code",
     "collapsed": false,
     "input": [
      "def numderiv(f,x,delta):\n",
      "    return (f(x+delta)-f(x))/delta\n",
      "def numderiv2(f,x,delta):\n",
      "    return (f(x+delta)+f(x-delta)-2*f(x))/(delta**2)"
     ],
     "language": "python",
     "metadata": {},
     "outputs": [],
     "prompt_number": 2
    },
    {
     "cell_type": "code",
     "collapsed": false,
     "input": [
      "def sq(x):\n",
      "    return x**2"
     ],
     "language": "python",
     "metadata": {},
     "outputs": [],
     "prompt_number": 3
    },
    {
     "cell_type": "code",
     "collapsed": false,
     "input": [
      "def ff(x):\n",
      "    return 2 + 3*x + 4*x**2\n",
      "def dff(x):\n",
      "    return 3 + 8*x\n",
      "def d2ff(x):\n",
      "    return 8\n",
      "def lff(x):\n",
      "    return np.log(ff(x))\n",
      "def ffx2(x):\n",
      "    return ff(x**2)\n",
      "def lffx2(x):\n",
      "    return np.log(ff(x**2))\n",
      "def logderivs(f,df,d2f,x):\n",
      "    return [np.log(f(x)),df(x)/f(x), -(df(x)/f(x))**2 + d2f(x)/f(x)]\n",
      "def x2derivs(f,df,d2f,x):\n",
      "    return [f(x**2),2*x*df(x**2),2*df(x**2) + ((2*x)**2)*d2f(x**2)]\n",
      "def logx2derivs(f,df,d2f,x):\n",
      "    return [np.log(f(x**2)),\n",
      "            2*x*df(x**2)/f(x**2),\n",
      "            2*df(x**2)/f(x**2) + ((2*x)**2)*(-(df(x**2)/f(x**2))**2 + d2f(x**2)/f(x**2))]"
     ],
     "language": "python",
     "metadata": {},
     "outputs": [],
     "prompt_number": 87
    },
    {
     "cell_type": "code",
     "collapsed": false,
     "input": [
      "[dff(10),numderiv(ff,10,0.01),d2ff(10),numderiv2(ff,10,0.01)]"
     ],
     "language": "python",
     "metadata": {},
     "outputs": [
      {
       "metadata": {},
       "output_type": "pyout",
       "prompt_number": 77,
       "text": [
        "[83, 83.03999999999405, 8, 7.999999999128704]"
       ]
      }
     ],
     "prompt_number": 77
    },
    {
     "cell_type": "code",
     "collapsed": false,
     "input": [
      "[logderivs(ff,dff,d2ff,10.0),[lff(10),numderiv(lff,10,0.01),numderiv2(lff,10,0.01)]]"
     ],
     "language": "python",
     "metadata": {},
     "outputs": [
      {
       "metadata": {},
       "output_type": "pyout",
       "prompt_number": 82,
       "text": [
        "[[6.0684255882441107, 0.19212962962962962, -0.01839527606310014],\n",
        " [6.0684255882441107, 0.19203771171758532, -0.018395284406835799]]"
       ]
      }
     ],
     "prompt_number": 82
    },
    {
     "cell_type": "code",
     "collapsed": false,
     "input": [
      "[x2derivs(ff,dff,d2ff,10.0),[ffx2(10),numderiv(ffx2,10,0.01),numderiv2(ffx2,10,0.01)]]"
     ],
     "language": "python",
     "metadata": {},
     "outputs": [
      {
       "metadata": {},
       "output_type": "pyout",
       "prompt_number": 86,
       "text": [
        "[[40302.0, 16060.0, 4806.0], [40302, 16084.046003999538, 4806.000799871981]]"
       ]
      }
     ],
     "prompt_number": 86
    },
    {
     "cell_type": "code",
     "collapsed": false,
     "input": [
      "[logx2derivs(ff,dff,d2ff,10.0),[lffx2(10),numderiv(lffx2,10,0.01),numderiv2(lffx2,10,0.01)]]"
     ],
     "language": "python",
     "metadata": {},
     "outputs": [
      {
       "metadata": {},
       "output_type": "pyout",
       "prompt_number": 88,
       "text": [
        "[[10.60415637449492, 0.3984913900054588, -0.03954572287945187],\n",
        " [10.60415637449492, 0.39829379158575762, -0.039545742112068183]]"
       ]
      }
     ],
     "prompt_number": 88
    },
    {
     "cell_type": "code",
     "collapsed": false,
     "input": [
      "def loggamma(k,theta,x):\n",
      "    return -sps.gammaln(k) -k*np.log(theta)+(k-1)*np.log(x) - x/theta"
     ],
     "language": "python",
     "metadata": {},
     "outputs": [],
     "prompt_number": 4
    },
    {
     "cell_type": "code",
     "collapsed": false,
     "input": [
      "gammalns = sps.gammaln(np.arange(0,100,.5))\n",
      "\n",
      "def ncchi2(n,nc,x):\n",
      "#    return 0\n",
      "#if True:\n",
      "#    n=4;nc=3;x = 2.2\n",
      "    n=n+0.0;nc=nc+0.0;x=x+0.0\n",
      "    ss = np.arange(n/2,n/2+100,1)\n",
      "    iz = np.arange(0,100,1)\n",
      "    #w = np.exp(-nc/2 + np.log(nc/2)*(iz)-sps.gammaln(iz+1))\n",
      "    if nc > 1e-20:\n",
      "        w= spst.poisson.pmf(iz,mu=nc/2)\n",
      "    if nc < 1e-20:\n",
      "        w= spst.poisson.pmf(iz,mu=1e-20/2)\n",
      "    ch = np.exp(loggamma(ss,2,x))\n",
      "    return sum(ch*w)\n",
      "    #return w,ch\n",
      "\n",
      "def ncchi2alt(n,nc,x):\n",
      "    a = n/2.0\n",
      "    iz = np.arange(0,100,1)\n",
      "    temp0 = -(nc+x)/2.0 - a*np.log(2.0) + (a-1)*np.log(x)\n",
      "    temp = -sps.gammaln(a + iz) + iz*np.log(nc*x/4)\n",
      "    return sum(np.exp(temp0 + temp - sps.gammaln(iz+1)))\n",
      "    #return np.array(temp)\n",
      "    \n",
      "def nctemp(n,nc,x):\n",
      "    a = n/2.0\n",
      "    iz = np.arange(0,100,1)\n",
      "    temp0 = -(nc+x)/2.0 - a*np.log(2.0) + (a-1)*np.log(x)\n",
      "    temp = -sps.gammaln(a + iz) + iz*np.log(nc*x/4)\n",
      "    return temp\n",
      "\n",
      "def ncchi2deriv(n,nc,x):\n",
      "    # derivative with respect to nc\n",
      "    if nc < 1e-20:\n",
      "        nc = 1e-20\n",
      "    a = n/2.0\n",
      "    iz = np.arange(0,100,1)\n",
      "    temp0 = -(nc+x)/2.0 - a*np.log(2.0) + (a-1)*np.log(x)\n",
      "    temp = -sps.gammaln(a + iz) + iz*np.log(nc*x/4)\n",
      "    s0 = sum(np.exp(temp - sps.gammaln(iz+1)))\n",
      "    s1 = sum(np.exp(temp - sps.gammaln(iz)))\n",
      "    tempalt = -sps.gammaln(a + iz) + iz*np.log(x/4) - sps.gammaln(iz)\n",
      "    #return np.exp(temp0)*(-.5*s0 + (1.0/nc)*s1)\n",
      "    return np.exp(temp0)*(-.5*s0 + sum(np.exp(tempalt)))\n",
      "\n",
      "def ncchi2deriv2(n,nc,x):\n",
      "    # second derivative with respect to nc\n",
      "    if nc < 1e-20:\n",
      "        nc = 1e-20\n",
      "    a = n/2.0\n",
      "    iz = np.arange(0,100,1)\n",
      "    temp0 = -(nc+x)/2.0 - a*np.log(2.0) + (a-1)*np.log(x)\n",
      "    temp = -sps.gammaln(a + iz) + iz*np.log(nc*x/4)\n",
      "    s0 = sum(np.exp(temp - sps.gammaln(iz+1)))\n",
      "    s1 = sum(np.exp(temp - sps.gammaln(iz)))\n",
      "    s2 = sum(np.exp(temp - sps.gammaln(iz+1)+2*np.log(iz)))\n",
      "    return np.exp(temp0)*(nc**(-2.0) * s2 - (nc**(-2.0) + nc**(-1.0))*s1 + .25 * s0)"
     ],
     "language": "python",
     "metadata": {},
     "outputs": [],
     "prompt_number": 174
    },
    {
     "cell_type": "code",
     "collapsed": false,
     "input": [
      "def losssq(mu,x):\n",
      "    return [(mu-x)**2,2*(mu-x),2]\n",
      "\n",
      "def losschi2(n,mu,x):\n",
      "    def f(mu):\n",
      "        return ncchi2(n,mu,x)\n",
      "    def df(mu):\n",
      "        return ncchi2deriv(n,mu,x)\n",
      "    def d2f(mu):\n",
      "        return ncchi2deriv2(n,mu,x)\n",
      "    return logx2derivs(f,df,d2f,mu)\n"
     ],
     "language": "python",
     "metadata": {},
     "outputs": [],
     "prompt_number": 98
    },
    {
     "cell_type": "code",
     "collapsed": false,
     "input": [
      "\n",
      "n=10.0\n",
      "nc=0.0\n",
      "x=2.0\n",
      "if True:\n",
      "    a = n/2.0\n",
      "    iz = np.arange(0,100,1)\n",
      "    temp0 = -(nc+x)/2.0 - a*np.log(2.0) + (a-1)*np.log(x)\n",
      "    temp = -sps.gammaln(a + iz) + iz*np.log(nc*x/4)\n",
      "    s0 = sum(np.exp(temp - sps.gammaln(iz+1)))\n",
      "    s1 = sum(np.exp(temp - sps.gammaln(iz)))\n",
      "    tempalt = -sps.gammaln(a + iz) + iz*np.log(x/4) - sps.gammaln(iz)\n",
      "    #return np.exp(temp0)*(-.5*s0 + (1.0/nc)*s1)\n",
      "np.exp(temp0)*(-.5*s0 + sum(np.exp(tempalt)))"
     ],
     "language": "python",
     "metadata": {},
     "outputs": [
      {
       "metadata": {},
       "output_type": "pyout",
       "prompt_number": 172,
       "text": [
        "nan"
       ]
      }
     ],
     "prompt_number": 172
    },
    {
     "cell_type": "code",
     "collapsed": false,
     "input": [
      "-.5*s0 "
     ],
     "language": "python",
     "metadata": {},
     "outputs": [
      {
       "metadata": {},
       "output_type": "pyout",
       "prompt_number": 170,
       "text": [
        "nan"
       ]
      }
     ],
     "prompt_number": 170
    },
    {
     "cell_type": "code",
     "collapsed": false,
     "input": [
      "losschi2(10.0,3.0,2.0)"
     ],
     "language": "python",
     "metadata": {},
     "outputs": [
      {
       "metadata": {},
       "output_type": "pyout",
       "prompt_number": 183,
       "text": [
        "[-8.5291642798643839, -2.7191735130423904, -2.2280755037050906]"
       ]
      }
     ],
     "prompt_number": 183
    },
    {
     "cell_type": "code",
     "collapsed": false,
     "input": [
      "losschi2(10.0,1e-20,2.0)"
     ],
     "language": "python",
     "metadata": {},
     "outputs": [
      {
       "metadata": {},
       "output_type": "pyout",
       "prompt_number": 179,
       "text": [
        "[-4.8712010109078907, -7.8272552047574014e-21, -0.78272552047574018]"
       ]
      }
     ],
     "prompt_number": 179
    },
    {
     "cell_type": "code",
     "collapsed": false,
     "input": [
      "mugrid = np.arange(-5,5,0.01)\n",
      "pts = [losschi2(10.0,mu,15.0)[2] for mu in mugrid]\n",
      "#pts = [np.log(spst.ncx2.pdf(x=15.0,df=10.0,nc=mu**2)) for mu in mugrid]\n",
      "plt.scatter(mugrid,pts)\n",
      "plt.show()"
     ],
     "language": "python",
     "metadata": {},
     "outputs": []
    },
    {
     "cell_type": "code",
     "collapsed": false,
     "input": [
      "mugrid = np.arange(0,5,0.01)\n",
      "pts = [losschi2(10.0,mu,2.0)[2] for mu in mugrid]\n",
      "#pts = [np.log(spst.ncx2.pdf(x=15.0,df=10.0,nc=mu)) for mu in mugrid]\n",
      "plt.scatter(mugrid,pts)\n",
      "plt.show()"
     ],
     "language": "python",
     "metadata": {},
     "outputs": [],
     "prompt_number": 194
    },
    {
     "cell_type": "code",
     "collapsed": false,
     "input": [],
     "language": "python",
     "metadata": {},
     "outputs": []
    }
   ],
   "metadata": {}
  }
 ]
}