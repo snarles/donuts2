{
 "metadata": {
  "name": "",
  "signature": "sha256:87283c55514934bc3e66ea73a02dd90ed8c2b0a48b0a74d908099ffbdfb324b0"
 },
 "nbformat": 3,
 "nbformat_minor": 0,
 "worksheets": [
  {
   "cells": [
    {
     "cell_type": "code",
     "collapsed": false,
     "input": [
      "import numpy as np\n",
      "import scipy as sp\n",
      "import scipy.stats as spst\n",
      "import scipy.special as sps\n",
      "import numpy.random as npr\n",
      "import matplotlib.pyplot as plt"
     ],
     "language": "python",
     "metadata": {},
     "outputs": [],
     "prompt_number": 1
    },
    {
     "cell_type": "code",
     "collapsed": false,
     "input": [
      "def numderiv(f,x,delta):\n",
      "    return (f(x+delta)-f(x))/delta\n",
      "def numderiv2(f,x,delta):\n",
      "    return (f(x+delta)+f(x-delta)-2*f(x))/(delta**2)\n",
      "def sq(x):\n",
      "    return x**2\n",
      "def logderivs(f,df,d2f,x):\n",
      "    return [np.log(f(x)),df(x)/f(x), -(df(x)/f(x))**2 + d2f(x)/f(x)]\n",
      "def x2derivs(f,df,d2f,x):\n",
      "    return [f(x**2),2*x*df(x**2),2*df(x**2) + ((2*x)**2)*d2f(x**2)]\n",
      "def logx2derivs(f,df,d2f,x):\n",
      "    return [np.log(f(x**2)),\n",
      "            2*x*df(x**2)/f(x**2),\n",
      "            2*df(x**2)/f(x**2) + ((2*x)**2)*(-(df(x**2)/f(x**2))**2 + d2f(x**2)/f(x**2))]"
     ],
     "language": "python",
     "metadata": {},
     "outputs": [],
     "prompt_number": 4
    },
    {
     "cell_type": "code",
     "collapsed": false,
     "input": [
      "gammalns = sps.gammaln(np.arange(0,100,.5))\n",
      "\n",
      "def loggamma(k,theta,x):\n",
      "    return -sps.gammaln(k) -k*np.log(theta)+(k-1)*np.log(x) - x/theta\n",
      "\n",
      "def ncchi2(n,nc,x):\n",
      "#    return 0\n",
      "#if True:\n",
      "#    n=4;nc=3;x = 2.2\n",
      "    n=n+0.0;nc=nc+0.0;x=x+0.0\n",
      "    ss = np.arange(n/2,n/2+100,1)\n",
      "    iz = np.arange(0,100,1)\n",
      "    #w = np.exp(-nc/2 + np.log(nc/2)*(iz)-sps.gammaln(iz+1))\n",
      "    if nc > 1e-20:\n",
      "        w= spst.poisson.pmf(iz,mu=nc/2)\n",
      "    if nc < 1e-20:\n",
      "        w= spst.poisson.pmf(iz,mu=1e-20/2)\n",
      "    ch = np.exp(loggamma(ss,2,x))\n",
      "    return sum(ch*w)\n",
      "    #return w,ch\n",
      "\n",
      "def ncchi2alt(n,nc,x):\n",
      "    a = n/2.0\n",
      "    iz = np.arange(0,100,1)\n",
      "    temp0 = -(nc+x)/2.0 - a*np.log(2.0) + (a-1)*np.log(x)\n",
      "    temp = -sps.gammaln(a + iz) + iz*np.log(nc*x/4)\n",
      "    return sum(np.exp(temp0 + temp - sps.gammaln(iz+1)))\n",
      "    #return (temp0 + temp - sps.gammaln(iz+1))\n",
      "    #return np.array(temp)\n",
      "    \n",
      "def nctemp(n,nc,x):\n",
      "    a = n/2.0\n",
      "    iz = np.arange(0,100,1)\n",
      "    temp0 = -(nc+x)/2.0 - a*np.log(2.0) + (a-1)*np.log(x)\n",
      "    temp = -sps.gammaln(a + iz) + iz*np.log(nc*x/4)\n",
      "    return temp\n",
      "\n",
      "def ncchi2deriv(n,nc,x):\n",
      "    # derivative with respect to nc\n",
      "    if nc < 1e-20:\n",
      "        nc = 1e-20\n",
      "    a = n/2.0\n",
      "    iz = np.arange(0,100,1)\n",
      "    temp0 = -(nc+x)/2.0 - a*np.log(2.0) + (a-1)*np.log(x)\n",
      "    temp = -sps.gammaln(a + iz) + iz*np.log(nc*x/4)\n",
      "    s0 = sum(np.exp(temp - sps.gammaln(iz+1)))\n",
      "    s1 = sum(np.exp(temp - sps.gammaln(iz)))\n",
      "    #tempalt = -sps.gammaln(a + iz) + iz*np.log(x/4) - sps.gammaln(iz)\n",
      "    return np.exp(temp0)*(-.5*s0 + (1.0/nc)*s1)\n",
      "    #return np.exp(temp0)*(-.5*s0 + sum(np.exp(tempalt)))\n",
      "\n",
      "def ncchi2deriv2(n,nc,x):\n",
      "    # second derivative with respect to nc\n",
      "    if nc < 1e-20:\n",
      "        nc = 1e-20\n",
      "    a = n/2.0\n",
      "    iz = np.arange(0,100,1)\n",
      "    temp0 = -(nc+x)/2.0 - a*np.log(2.0) + (a-1)*np.log(x)\n",
      "    temp = -sps.gammaln(a + iz) + iz*np.log(nc*x/4)\n",
      "    s0 = sum(np.exp(temp - sps.gammaln(iz+1)))\n",
      "    s1 = sum(np.exp(temp - sps.gammaln(iz)))\n",
      "    s2 = sum(np.exp(temp - sps.gammaln(iz+1)+2*np.log(iz)))\n",
      "    return np.exp(temp0)*(nc**(-2.0) * s2 - (nc**(-2.0) + nc**(-1.0))*s1 + .25 * s0)"
     ],
     "language": "python",
     "metadata": {},
     "outputs": [],
     "prompt_number": 51
    },
    {
     "cell_type": "code",
     "collapsed": false,
     "input": [
      "def logsumexp(xs):\n",
      "    xs = np.array(xs)\n",
      "    return max(xs) + np.log(sum(np.exp(xs-max(xs))))\n",
      "\n",
      "def logsumdiff(x,y): # computes log(e^x - e^y) with sign\n",
      "    sgn = np.sign(x-y)\n",
      "    m = max([x,y])\n",
      "    ans = m + np.log(abs(np.exp(x-m)-np.exp(y-m)))\n",
      "    return sgn,ans\n",
      "\n",
      "def logncx2(n,nc,x):\n",
      "    a = n/2.0\n",
      "    iz = np.arange(0,200,1)\n",
      "    temp0 = -(nc+x)/2.0 - a*np.log(2.0) + (a-1)*np.log(x)\n",
      "    temp = -sps.gammaln(a + iz) + iz*np.log(nc*x/4)\n",
      "    s0 = logsumexp(temp0+temp - sps.gammaln(iz+1))\n",
      "    s1 = logsumexp(temp0+temp - sps.gammaln(iz))\n",
      "    s2 = logsumexp(temp0+temp - sps.gammaln(iz+1)+2*np.log(iz))\n",
      "    templ = np.log((nc**(-2.0) + nc**(-1.0)))\n",
      "    l0= logsumexp(temp0 + temp - sps.gammaln(iz+1)) # log likelihood\n",
      "    sgnraw1,lraw1= logsumdiff(s1 - np.log(nc),s0-np.log(2.0)) # derivative of likelihood\n",
      "    l1= sgnraw1*np.exp(lraw1-l0) # first derivative of log likelihood\n",
      "    sub1 = logsumexp([-2.0*np.log(nc)+s2,np.log(.25)+s0])\n",
      "    sgnraw2,lraw2 = logsumdiff(sub1,templ+s1) # second derivative of likelihood\n",
      "    if sgnraw2 > 0:\n",
      "        sgn2,ll2 = logsumdiff(lraw2-l0, 2.0*(lraw1-l0))\n",
      "        l2 = sgn2*np.exp(ll2)\n",
      "    if sgnraw2 <= 0:\n",
      "        l2 = -1.0*np.exp(logsumexp([lraw2-l0, 2.0*(lraw1-l0)]))\n",
      "    return l0,l1,l2"
     ],
     "language": "python",
     "metadata": {},
     "outputs": [],
     "prompt_number": 120
    },
    {
     "cell_type": "code",
     "collapsed": false,
     "input": [
      "n=10.0\n",
      "mu=20.0\n",
      "nc=mu**2\n",
      "x=20000.0\n",
      "def f(nc):\n",
      "    return logncx2(n,nc,x)[0]\n",
      "\n",
      "def f0(nc):\n",
      "    return np.log(spst.ncx2.pdf(x,n,nc))\n",
      "\n",
      "print([f0(nc),numderiv(f0,nc,0.001),numderiv2(f0,nc,0.001)])\n",
      "print(logncx2(n,nc,x))\n",
      "print([f(nc),numderiv(f,nc,0.01),numderiv2(f,nc,0.01)])"
     ],
     "language": "python",
     "metadata": {},
     "outputs": [
      {
       "output_type": "stream",
       "stream": "stdout",
       "text": [
        "[inf, nan, nan]\n",
        "(-9013.6989302665406, -0.002551515713299801, -0.0012434898230463151)\n",
        "[-9013.6989302665406, -0.0025577330234227702, -0.0012434975360520184]\n"
       ]
      }
     ],
     "prompt_number": 126
    },
    {
     "cell_type": "code",
     "collapsed": false,
     "input": [
      "def losssq(mu,x):\n",
      "    return [(mu-x)**2,2*(mu-x),2]\n",
      "\n",
      "def losschi2(n,mu,x):\n",
      "    def f(mu):\n",
      "        return ncchi2(n,mu,x)\n",
      "    def df(mu):\n",
      "        return ncchi2deriv(n,mu,x)\n",
      "    def d2f(mu):\n",
      "        return ncchi2deriv2(n,mu,x)\n",
      "    return -1.0*np.array(logx2derivs(f,df,d2f,mu))\n"
     ],
     "language": "python",
     "metadata": {},
     "outputs": [],
     "prompt_number": 13
    },
    {
     "cell_type": "code",
     "collapsed": false,
     "input": [
      "def minchi2(n,mu0,x): # finds the min of chi2\n",
      "#    return 0\n",
      "#mu0 = ex\n",
      "#if True:\n",
      "    mu = mu0\n",
      "    for i in range(40):\n",
      "        res = losschi2(n,mu,x)\n",
      "        #print [res[0],mu]\n",
      "        mu = mu-res[1]/res[2]\n",
      "    return mu\n",
      "\n",
      "def inflchi2(n,mu0,x): # finds the inflection point of chi2\n",
      "    lb = 0\n",
      "    ub = mu0\n",
      "    for i in range(40):\n",
      "        mu = (lb+ub)/2\n",
      "        res = losschi2(n,mu,x)[2]\n",
      "        if res < 0:\n",
      "            lb = mu\n",
      "        if res >= 0:\n",
      "            ub = mu\n",
      "    return mu\n",
      "\n",
      "def genconvexchi2(n,x): # returns a function which is the convex relaxation of losschi2\n",
      "    mustar = minchi2(n,n/2.0,x)\n",
      "    muinf = inflchi2(n,mustar,x) + 0.01\n",
      "    res = losschi2(n,muinf,x)\n",
      "    def convloss(mu):\n",
      "        if mu > muinf:\n",
      "            return losschi2(n,mu,x)\n",
      "        else:\n",
      "            return [res[0] + res[1]*(mu-muinf)+res[2]*(mu-muinf)**2,res[1] + res[2]*(mu-muinf),res[2]]\n",
      "    return convloss"
     ],
     "language": "python",
     "metadata": {},
     "outputs": [],
     "prompt_number": 35
    },
    {
     "cell_type": "code",
     "collapsed": false,
     "input": [
      "n=10.0\n",
      "mu=n/2.0\n",
      "x=2000.0\n",
      "#mustar = minchi2(n,n/2.0,x)\n",
      "ncchi2alt(n,(n/2.0)**2,x)"
     ],
     "language": "python",
     "metadata": {},
     "outputs": [
      {
       "metadata": {},
       "output_type": "pyout",
       "prompt_number": 52,
       "text": [
        "array([-988.74017989, -980.91613388, -973.96755661, -967.57859513,\n",
        "       -961.6108471 , -955.98402567, -950.64488631, -945.55520781,\n",
        "       -940.68607208, -936.01476209, -931.52292059, -927.19538214,\n",
        "       -923.01939359, -918.98407237, -915.08001753, -911.29902279,\n",
        "       -907.63385986, -904.07811172, -900.62604201, -897.27249128,\n",
        "       -894.01279346, -890.8427078 , -887.75836287, -884.75621002,\n",
        "       -881.83298444, -878.98567217, -876.21148217, -873.50782232,\n",
        "       -870.87227881, -868.30259827, -865.79667226, -863.3525236 ,\n",
        "       -860.96829452, -858.64223607, -856.37269883, -854.15812461,\n",
        "       -851.99703908, -849.88804514, -847.82981699, -845.82109483,\n",
        "       -843.86068   , -841.94743063, -840.08025772, -838.25812152,\n",
        "       -836.48002824, -834.7450271 , -833.05220758, -831.40069689,\n",
        "       -829.7896577 , -828.21828599, -826.68580912, -825.19148401,\n",
        "       -823.7345955 , -822.31445475, -820.93039789, -819.58178459,\n",
        "       -818.26799692, -816.98843813, -815.7425316 , -814.52971985,\n",
        "       -813.34946357, -812.20124078, -811.08454599, -809.99888941,\n",
        "       -808.94379628, -807.91880613, -806.92347219, -805.95736076,\n",
        "       -805.02005066, -804.11113268, -803.2302091 , -802.37689316,\n",
        "       -801.5508087 , -800.75158964, -799.97887964, -799.23233168,\n",
        "       -798.51160773, -797.81637838, -797.14632253, -796.50112707,\n",
        "       -795.88048658, -795.28410307, -794.71168569, -794.16295049,\n",
        "       -793.63762018, -793.13542389, -792.65609693, -792.19938063,\n",
        "       -791.7650221 , -791.35277404, -790.96239457, -790.59364704,\n",
        "       -790.24629989, -789.92012644, -789.61490477, -789.33041759,\n",
        "       -789.06645205, -788.82279962, -788.59925599, -788.3956209 ])"
       ]
      }
     ],
     "prompt_number": 52
    },
    {
     "cell_type": "code",
     "collapsed": false,
     "input": [
      "n=10.0\n",
      "mu=n/2.0\n",
      "x=500.0\n",
      "\n",
      "clos = genconvexchi2(n,x)\n",
      "mu = 1.5\n",
      "print(clos(mu))\n",
      "print(losschi2(n,mu,x))"
     ],
     "language": "python",
     "metadata": {},
     "outputs": [
      {
       "output_type": "stream",
       "stream": "stdout",
       "text": [
        "[210.41565164175879, -18.206218451703734, 0.0093259248484240942]\n",
        "[ 210.38319206  -18.02147743   -0.78305438]\n"
       ]
      }
     ],
     "prompt_number": 48
    },
    {
     "cell_type": "code",
     "collapsed": false,
     "input": [
      "mugrid = np.arange(-20,20,0.1)\n",
      "pts = [losschi2(n,mu,x)[0] for mu in mugrid]\n",
      "clos = genconvexchi2(n,x)\n",
      "pts2 = [clos(mu)[0] for mu in mugrid]\n",
      "#pts = [np.log(spst.ncx2.pdf(x=15.0,df=10.0,nc=mu**2)) for mu in mugrid]\n",
      "plt.scatter(mugrid,pts)\n",
      "plt.scatter(mugrid,pts2)\n",
      "plt.show()"
     ],
     "language": "python",
     "metadata": {},
     "outputs": [],
     "prompt_number": 39
    },
    {
     "cell_type": "code",
     "collapsed": false,
     "input": [
      "\n",
      "n=10.0\n",
      "nc=0.0\n",
      "x=2.0\n",
      "if True:\n",
      "    a = n/2.0\n",
      "    iz = np.arange(0,100,1)\n",
      "    temp0 = -(nc+x)/2.0 - a*np.log(2.0) + (a-1)*np.log(x)\n",
      "    temp = -sps.gammaln(a + iz) + iz*np.log(nc*x/4)\n",
      "    s0 = sum(np.exp(temp - sps.gammaln(iz+1)))\n",
      "    s1 = sum(np.exp(temp - sps.gammaln(iz)))\n",
      "    tempalt = -sps.gammaln(a + iz) + iz*np.log(x/4) - sps.gammaln(iz)\n",
      "    #return np.exp(temp0)*(-.5*s0 + (1.0/nc)*s1)\n",
      "np.exp(temp0)*(-.5*s0 + sum(np.exp(tempalt)))"
     ],
     "language": "python",
     "metadata": {},
     "outputs": [
      {
       "metadata": {},
       "output_type": "pyout",
       "prompt_number": 172,
       "text": [
        "nan"
       ]
      }
     ],
     "prompt_number": 172
    },
    {
     "cell_type": "code",
     "collapsed": false,
     "input": [
      "-.5*s0 "
     ],
     "language": "python",
     "metadata": {},
     "outputs": [
      {
       "metadata": {},
       "output_type": "pyout",
       "prompt_number": 170,
       "text": [
        "nan"
       ]
      }
     ],
     "prompt_number": 170
    },
    {
     "cell_type": "code",
     "collapsed": false,
     "input": [
      "losschi2(10.0,3.0,2.0)"
     ],
     "language": "python",
     "metadata": {},
     "outputs": [
      {
       "metadata": {},
       "output_type": "pyout",
       "prompt_number": 183,
       "text": [
        "[-8.5291642798643839, -2.7191735130423904, -2.2280755037050906]"
       ]
      }
     ],
     "prompt_number": 183
    },
    {
     "cell_type": "code",
     "collapsed": false,
     "input": [
      "losschi2(10.0,1e-20,2.0)"
     ],
     "language": "python",
     "metadata": {},
     "outputs": [
      {
       "metadata": {},
       "output_type": "pyout",
       "prompt_number": 179,
       "text": [
        "[-4.8712010109078907, -7.8272552047574014e-21, -0.78272552047574018]"
       ]
      }
     ],
     "prompt_number": 179
    },
    {
     "cell_type": "code",
     "collapsed": false,
     "input": [],
     "language": "python",
     "metadata": {},
     "outputs": [],
     "prompt_number": 13
    },
    {
     "cell_type": "code",
     "collapsed": false,
     "input": [
      "mugrid = np.arange(0,5,0.01)\n",
      "pts = [losschi2(10.0,mu,2.0)[2] for mu in mugrid]\n",
      "#pts = [np.log(spst.ncx2.pdf(x=15.0,df=10.0,nc=mu)) for mu in mugrid]\n",
      "plt.scatter(mugrid,pts)\n",
      "plt.show()"
     ],
     "language": "python",
     "metadata": {},
     "outputs": [],
     "prompt_number": 194
    },
    {
     "cell_type": "code",
     "collapsed": false,
     "input": [],
     "language": "python",
     "metadata": {},
     "outputs": []
    }
   ],
   "metadata": {}
  }
 ]
}