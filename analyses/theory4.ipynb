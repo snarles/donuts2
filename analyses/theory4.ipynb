{
 "metadata": {
  "name": "",
  "signature": "sha256:ba31e52f2206e769526c9402330e04813323c6557ce49508225e975d0abe3586"
 },
 "nbformat": 3,
 "nbformat_minor": 0,
 "worksheets": [
  {
   "cells": [
    {
     "cell_type": "markdown",
     "metadata": {},
     "source": [
      "Elastic basis pursuit"
     ]
    },
    {
     "cell_type": "code",
     "collapsed": false,
     "input": [
      "import os\n",
      "import numpy as np\n",
      "import scipy as sp\n",
      "import scipy.stats as spst\n",
      "import scipy.special as sps\n",
      "import numpy.random as npr\n",
      "import matplotlib.pyplot as plt\n",
      "os.chdir(\"..\")\n",
      "import donuts.deconv.splines as spl\n",
      "import donuts.deconv.ncx as ncx\n",
      "import numpy.random as npr\n",
      "import scipy.optimize as spo"
     ],
     "language": "python",
     "metadata": {},
     "outputs": [
      {
       "output_type": "stream",
       "stream": "stderr",
       "text": [
        "/usr/local/lib/python2.7/dist-packages/setuptools-7.0-py2.7.egg/pkg_resources.py:1045: UserWarning: /home/snarles/.python-eggs is writable by group/others and vulnerable to attack when used with get_resource_filename. Consider a more secure location (set with .set_extraction_path or the PYTHON_EGG_CACHE environment variable).\n",
        "  warnings.warn(msg, UserWarning)\n"
       ]
      }
     ],
     "prompt_number": 1
    },
    {
     "cell_type": "code",
     "collapsed": false,
     "input": [
      "\n",
      "reload(spl)"
     ],
     "language": "python",
     "metadata": {},
     "outputs": [
      {
       "metadata": {},
       "output_type": "pyout",
       "prompt_number": 85,
       "text": [
        "<module 'donuts.deconv.splines' from 'donuts/deconv/splines.pyc'>"
       ]
      }
     ],
     "prompt_number": 85
    },
    {
     "cell_type": "code",
     "collapsed": false,
     "input": [
      "def pruneroutine(v1,v2):\n",
      "    # finds the minimum convex combination of v1 and v2 so that exactly one element is nonpositive (zero)\n",
      "    mina = -v1/(v2-v1)\n",
      "    mina[v2 > 0] = 2\n",
      "    a = min(mina)\n",
      "    o = np.where(mina == a)[0][0]\n",
      "    return (1-a)*v1 + a*v2, o"
     ],
     "language": "python",
     "metadata": {},
     "outputs": [],
     "prompt_number": 218
    },
    {
     "cell_type": "code",
     "collapsed": false,
     "input": [
      "def ncxlosses(df,y):\n",
      "    n = len(y)\n",
      "    ans = [0.] * n\n",
      "    for ii in range(n):\n",
      "        x = y[ii]\n",
      "        mmax = np.sqrt(x)*3\n",
      "        mugrid = np.arange(0,mmax,mmax/100)\n",
      "        clos = ncx.genconvexchi2(n,x)\n",
      "        pts = np.array([clos(mu)[0] for mu in mugrid])\n",
      "        f = spl.convspline(mugrid,pts)\n",
      "        ans[ii]=f\n",
      "    return ans\n",
      "\n",
      "def gd(amat2,ls,x02): # gradient descent\n",
      "    pp = len(x02)\n",
      "    n = len(ls)\n",
      "    def sls(x02):\n",
      "        yh = np.dot(amat2,x02)\n",
      "        ls0 = sum([ls[i](yh[i])[0] for i in range(n)])\n",
      "        rawg = np.array([ls[i](yh[i])[1] for i in range(n)])\n",
      "        g = np.dot(rawg.T,amat2)\n",
      "        return ls0,g\n",
      "    yh = np.dot(amat2,x02)\n",
      "    ls0,g = sls(x02)\n",
      "    eps = 0.1\n",
      "    flag = True\n",
      "    while flag:\n",
      "        ls1 = sls(x02 - eps*g)[0]\n",
      "        if ls1 < ls0:\n",
      "            x02 = x02-eps*g\n",
      "            ls0 = ls1\n",
      "            flag=False\n",
      "        if eps < 1e-20:\n",
      "            flag = False\n",
      "        eps = eps/2.0\n",
      "    return x02,ls0\n",
      "    \n",
      "def ebp(amat,ls,x0): # ls is a list of loss functions, x0 is initial guess\n",
      "    p = np.shape(amat)[1]\n",
      "    flag = True\n",
      "    s = np.zeros(p,dtype=bool)\n",
      "    s[np.squeeze(x0) > 1e-20] = True\n",
      "    while flag:\n",
      "        # refitting step\n",
      "        amat2 = amat[:,s]\n",
      "        x02 = x0[s]\n",
      "        x02old = x02\n",
      "        x02,ls0 = gd(amat2,ls,x02)\n",
      "        x02,ls1 = gd(amat2,ls,x02)\n",
      "        while (ls0 - ls1) > 1e-3:\n",
      "            ls0 = ls1\n",
      "            x02,ls1 = gd(amat2,ls,x02)\n",
      "        # pruning step\n",
      "        if min(x02) < 0:\n",
      "            x02, o = pruneroutine(x02old,x02)\n",
      "        x0[s] = x02\n",
      "        s = np.zeros(p,dtype=bool)\n",
      "        s[np.squeeze(x0) > 1e-20] = True\n",
      "        # next candidate step\n",
      "        yh = np.dot(amat,x0)\n",
      "        rawg = np.array([ls[i](yh[i])[1] for i in range(n)])\n",
      "        g = np.dot(rawg.T,amat)\n",
      "        if min(g) > -1e-5:\n",
      "            flag=False\n",
      "        else:\n",
      "            ind = np.where(g==min(g))[0][0]\n",
      "            s[ind]=True\n",
      "    return x0"
     ],
     "language": "python",
     "metadata": {},
     "outputs": [],
     "prompt_number": 142
    },
    {
     "cell_type": "code",
     "collapsed": false,
     "input": [
      "x0 = bt\n",
      "x0[x0 < max(bt)/20.0] = 0\n",
      "p = np.shape(amat)[1]\n",
      "s = np.zeros(p,dtype=bool)\n",
      "s[np.squeeze(x0) > 0] = True\n",
      "amat2 = amat[:,s]\n",
      "x02 = x0[s]"
     ],
     "language": "python",
     "metadata": {},
     "outputs": [],
     "prompt_number": 162
    },
    {
     "cell_type": "code",
     "collapsed": false,
     "input": [
      "x02,ls0 = gd(amat2,ls,x02)\n",
      "x02,ls1 = gd(amat2,ls,x02)\n",
      "while (ls0 - ls1) > 1e-3:\n",
      "    ls0 = ls1\n",
      "    x02,ls1 = gd(amat2,ls,x02)\n"
     ],
     "language": "python",
     "metadata": {},
     "outputs": [],
     "prompt_number": 188
    },
    {
     "cell_type": "code",
     "collapsed": false,
     "input": [
      "ls1"
     ],
     "language": "python",
     "metadata": {},
     "outputs": [
      {
       "metadata": {},
       "output_type": "pyout",
       "prompt_number": 191,
       "text": [
        "1902.5407944056265"
       ]
      }
     ],
     "prompt_number": 191
    },
    {
     "cell_type": "code",
     "collapsed": false,
     "input": [
      "[sls(x02),sls(x02 - 0.001*g)]"
     ],
     "language": "python",
     "metadata": {},
     "outputs": [
      {
       "metadata": {},
       "output_type": "pyout",
       "prompt_number": 138,
       "text": [
        "[2029.8537257756477, 2018.523535360576]"
       ]
      }
     ],
     "prompt_number": 138
    },
    {
     "cell_type": "code",
     "collapsed": false,
     "input": [
      "n=10.0\n",
      "mu = 10.0\n",
      "x=spst.ncx2.rvs(n,mu**2)\n",
      "\n",
      "mugrid = np.arange(0,2*mu,mu/100)\n",
      "clos = ncx.genconvexchi2(n,x)\n",
      "pts = [clos(mu)[0] for mu in mugrid]\n",
      "f = spl.convspline(mugrid,np.array(pts))\n",
      "pts2 = [f(mu)[0] for mu in mugrid]\n",
      "plt.scatter(mugrid,pts)\n",
      "plt.scatter(mugrid,pts2,color='red')\n",
      "plt.show()"
     ],
     "language": "python",
     "metadata": {},
     "outputs": [
      {
       "output_type": "stream",
       "stream": "stdout",
       "text": [
        "     pcost       dcost       gap    pres   dres\n",
        " 0: -5.8320e+04 -5.8321e+04  2e+02  1e+01  6e-03\n",
        " 1: -5.8319e+04 -5.8322e+04  9e+00  5e-01  2e-04\n",
        " 2: -5.8320e+04 -5.8321e+04  1e+00  2e-02  1e-05\n",
        " 3: -5.8320e+04 -5.8320e+04  7e-02  5e-04  2e-07\n",
        " 4: -5.8320e+04 -5.8320e+04  1e-02  6e-05  2e-08"
       ]
      },
      {
       "output_type": "stream",
       "stream": "stdout",
       "text": [
        "\n",
        " 5: -5.8320e+04 -5.8320e+04  3e-03  2e-06  7e-10\n",
        " 6: -5.8320e+04 -5.8320e+04  6e-04  2e-07  1e-10\n",
        " 7: -5.8320e+04 -5.8320e+04  5e-04  2e-07  7e-11\n",
        " 8: -5.8320e+04 -5.8320e+04  2e-04  6e-08  2e-11\n",
        "Optimal solution found.\n"
       ]
      }
     ],
     "prompt_number": 42
    },
    {
     "cell_type": "code",
     "collapsed": false,
     "input": [
      "d1 = np.array([ncx.numderiv(lambda x: f(x)[0],x,0.01) for x in mugrid])\n",
      "d1a = np.array([f(x)[2] for x in mugrid])\n",
      "plt.scatter(mugrid,d1a)\n",
      "plt.show()"
     ],
     "language": "python",
     "metadata": {},
     "outputs": [],
     "prompt_number": 48
    },
    {
     "cell_type": "code",
     "collapsed": false,
     "input": [
      "np.sqrt(x-n)"
     ],
     "language": "python",
     "metadata": {},
     "outputs": [
      {
       "metadata": {},
       "output_type": "pyout",
       "prompt_number": 16,
       "text": [
        "99.192543549863416"
       ]
      }
     ],
     "prompt_number": 16
    },
    {
     "cell_type": "code",
     "collapsed": false,
     "input": [
      "sum([1,2,3])"
     ],
     "language": "python",
     "metadata": {},
     "outputs": [
      {
       "metadata": {},
       "output_type": "pyout",
       "prompt_number": 106,
       "text": [
        "6"
       ]
      }
     ],
     "prompt_number": 106
    },
    {
     "cell_type": "code",
     "collapsed": false,
     "input": [
      "v1 = np.array([5.5,3.2,1.1,4.4])\n",
      "v2 = np.array([6.6,2.2,-1.0,-0.3])"
     ],
     "language": "python",
     "metadata": {},
     "outputs": [],
     "prompt_number": 198
    },
    {
     "cell_type": "code",
     "collapsed": false,
     "input": [
      "w1 = v1[v2 < 0]\n",
      "w2 = v2[v2 < 0]"
     ],
     "language": "python",
     "metadata": {},
     "outputs": [],
     "prompt_number": 199
    },
    {
     "cell_type": "code",
     "collapsed": false,
     "input": [
      "(w1,w2)"
     ],
     "language": "python",
     "metadata": {},
     "outputs": [
      {
       "metadata": {},
       "output_type": "pyout",
       "prompt_number": 201,
       "text": [
        "(array([ 1.1,  4.4]), array([-1. , -0.3]))"
       ]
      }
     ],
     "prompt_number": 201
    },
    {
     "cell_type": "code",
     "collapsed": false,
     "input": [
      "mina = -v1/(v2-v1)\n",
      "mina[v2 > 0] = 2\n",
      "a = min(mina)\n",
      "o = np.where(mina == a)[0][0]"
     ],
     "language": "python",
     "metadata": {},
     "outputs": [],
     "prompt_number": 221
    },
    {
     "cell_type": "code",
     "collapsed": false,
     "input": [
      "o"
     ],
     "language": "python",
     "metadata": {},
     "outputs": [
      {
       "metadata": {},
       "output_type": "pyout",
       "prompt_number": 217,
       "text": [
        "2"
       ]
      }
     ],
     "prompt_number": 217
    },
    {
     "cell_type": "code",
     "collapsed": false,
     "input": [
      "mina"
     ],
     "language": "python",
     "metadata": {},
     "outputs": [
      {
       "metadata": {},
       "output_type": "pyout",
       "prompt_number": 222,
       "text": [
        "array([ 2.        ,  2.        ,  0.52380952,  0.93617021])"
       ]
      }
     ],
     "prompt_number": 222
    },
    {
     "cell_type": "code",
     "collapsed": false,
     "input": [],
     "language": "python",
     "metadata": {},
     "outputs": []
    }
   ],
   "metadata": {}
  }
 ]
}