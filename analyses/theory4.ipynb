{
 "metadata": {
  "name": "",
  "signature": "sha256:30ff4582335eadf038202d1ff8e5c9a7d8d0d3ccc43acc9bfea8dac4a418ae38"
 },
 "nbformat": 3,
 "nbformat_minor": 0,
 "worksheets": [
  {
   "cells": [
    {
     "cell_type": "markdown",
     "metadata": {},
     "source": [
      "Elastic basis pursuit"
     ]
    },
    {
     "cell_type": "code",
     "collapsed": false,
     "input": [
      "import os\n",
      "import numpy as np\n",
      "import scipy as sp\n",
      "import scipy.stats as spst\n",
      "import scipy.special as sps\n",
      "import numpy.random as npr\n",
      "import matplotlib.pyplot as plt\n",
      "os.chdir(\"..\")\n",
      "import donuts.deconv.splines as spl\n",
      "import donuts.deconv.ncx as ncx\n",
      "import numpy.random as npr\n",
      "import scipy.optimize as spo"
     ],
     "language": "python",
     "metadata": {},
     "outputs": [
      {
       "output_type": "stream",
       "stream": "stderr",
       "text": [
        "/usr/local/lib/python2.7/dist-packages/setuptools-7.0-py2.7.egg/pkg_resources.py:1045: UserWarning: /home/snarles/.python-eggs is writable by group/others and vulnerable to attack when used with get_resource_filename. Consider a more secure location (set with .set_extraction_path or the PYTHON_EGG_CACHE environment variable).\n",
        "  warnings.warn(msg, UserWarning)\n"
       ]
      }
     ],
     "prompt_number": 1
    },
    {
     "cell_type": "code",
     "collapsed": false,
     "input": [
      "\n",
      "reload(spl)"
     ],
     "language": "python",
     "metadata": {},
     "outputs": [
      {
       "metadata": {},
       "output_type": "pyout",
       "prompt_number": 86,
       "text": [
        "<module 'donuts.deconv.splines' from 'donuts/deconv/splines.pyc'>"
       ]
      }
     ],
     "prompt_number": 86
    },
    {
     "cell_type": "code",
     "collapsed": false,
     "input": [
      "def pruneroutine(v1,v2):\n",
      "    # finds the minimum convex combination of v1 and v2 so that exactly one element is nonpositive (zero)\n",
      "    mina = -v1/(v2-v1)\n",
      "    mina[v2 > 0] = 2\n",
      "    a = min(mina)\n",
      "    o = np.where(mina == a)[0][0]\n",
      "    return (1-a)*v1 + a*v2, o"
     ],
     "language": "python",
     "metadata": {},
     "outputs": [],
     "prompt_number": 2
    },
    {
     "cell_type": "code",
     "collapsed": false,
     "input": [
      "def ncxlosses(df,y):\n",
      "    n = len(y)\n",
      "    ans = [0.] * n\n",
      "    for ii in range(n):\n",
      "        x = y[ii]\n",
      "        mmax = np.sqrt(x)*3\n",
      "        mugrid = np.arange(0,mmax,mmax/100)\n",
      "        clos = ncx.genconvexchi2(n,x)\n",
      "        pts = np.array([clos(mu)[0] for mu in mugrid])\n",
      "        f = spl.convspline(mugrid,pts)\n",
      "        ans[ii]=f\n",
      "    return ans\n",
      "\n",
      "def gd(amat2,ls,x02): # gradient descent\n",
      "    pp = len(x02)\n",
      "    n = len(ls)\n",
      "    def sls(x02):\n",
      "        yh = np.dot(amat2,x02)\n",
      "        ls0 = sum([ls[i](yh[i])[0] for i in range(n)])\n",
      "        rawg = np.array([ls[i](yh[i])[1] for i in range(n)])\n",
      "        g = np.dot(rawg.T,amat2)\n",
      "        return ls0,g\n",
      "    yh = np.dot(amat2,x02)\n",
      "    ls0,g = sls(x02)\n",
      "    eps = 0.1\n",
      "    flag = True\n",
      "    while flag:\n",
      "        ls1 = sls(x02 - eps*g)[0]\n",
      "        if ls1 < ls0:\n",
      "            x02 = x02-eps*g\n",
      "            ls0 = ls1\n",
      "            flag=False\n",
      "        if eps < 1e-20:\n",
      "            flag = False\n",
      "        eps = eps/2.0\n",
      "    return x02,ls0\n",
      "    \n",
      "def ebp(amat,ls,x0): # ls is a list of loss functions, x0 is initial guess\n",
      "    p = np.shape(amat)[1]\n",
      "    flag = True\n",
      "    s = np.zeros(p,dtype=bool)\n",
      "    s[np.squeeze(x0) > 1e-20] = True\n",
      "    while flag:\n",
      "        # refitting step\n",
      "        amat2 = amat[:,s]\n",
      "        x02 = x0[s]\n",
      "        x02old = x02\n",
      "        x02,ls0 = gd(amat2,ls,x02)\n",
      "        x02,ls1 = gd(amat2,ls,x02)\n",
      "        while (ls0 - ls1) > 1e-3:\n",
      "            ls0 = ls1\n",
      "            x02,ls1 = gd(amat2,ls,x02)\n",
      "        # pruning step\n",
      "        if min(x02) < 0:\n",
      "            x02, o = pruneroutine(x02old,x02)\n",
      "        x0[s] = x02\n",
      "        s = np.zeros(p,dtype=bool)\n",
      "        s[np.squeeze(x0) > 1e-20] = True\n",
      "        # next candidate step\n",
      "        yh = np.dot(amat,x0)\n",
      "        rawg = np.array([ls[i](yh[i])[1] for i in range(n)])\n",
      "        g = np.dot(rawg.T,amat)\n",
      "        if min(g) > -1e-5:\n",
      "            flag=False\n",
      "        else:\n",
      "            ind = np.where(g==min(g))[0][0]\n",
      "            s[ind]=True\n",
      "    return x0"
     ],
     "language": "python",
     "metadata": {},
     "outputs": [],
     "prompt_number": 3
    },
    {
     "cell_type": "code",
     "collapsed": false,
     "input": [
      "ysq = spst.ncx2.rvs(10,mu**2)\n",
      "ysq"
     ],
     "language": "python",
     "metadata": {},
     "outputs": [
      {
       "metadata": {},
       "output_type": "pyout",
       "prompt_number": 19,
       "text": [
        "array([[ 10.04630504],\n",
        "       [  7.88968293],\n",
        "       [  5.43267344],\n",
        "       [ 13.76201753],\n",
        "       [ 19.18082553]])"
       ]
      }
     ],
     "prompt_number": 19
    },
    {
     "cell_type": "code",
     "collapsed": false,
     "input": [
      "n = 5\n",
      "p = 10\n",
      "amat = np.absolute(npr.normal(0,1,(n,p)))\n",
      "bt0 = np.zeros((p,1))\n",
      "bt0[:2] = 1\n",
      "mu = np.dot(amat,bt0)\n",
      "ysq = spst.ncx2.rvs(10,mu**2)\n",
      "ls = ncxlosses(10,ysq)\n",
      "def loss(x0):\n",
      "    yh = np.dot(amat,x0)\n",
      "    return sum(np.array([ls[i](yh[i])[0] for i in range(len(yh))]))"
     ],
     "language": "python",
     "metadata": {},
     "outputs": [],
     "prompt_number": 88
    },
    {
     "cell_type": "code",
     "collapsed": false,
     "input": [
      "bt = spo.nnls(amat,np.squeeze(np.sqrt(ysq)))[0]\n",
      "loss(bt)"
     ],
     "language": "python",
     "metadata": {},
     "outputs": [
      {
       "metadata": {},
       "output_type": "pyout",
       "prompt_number": 78,
       "text": [
        "16.449865460146608"
       ]
      }
     ],
     "prompt_number": 78
    },
    {
     "cell_type": "code",
     "collapsed": false,
     "input": [
      "x0 = np.array(bt)\n",
      "x0[x0 < max(bt)/20.0] = 0\n",
      "p = np.shape(amat)[1]\n",
      "flag = True\n",
      "s = np.zeros(p,dtype=bool)\n",
      "s[np.squeeze(x0) > 1e-20] = True\n",
      "x0seq = [np.array(x0)]"
     ],
     "language": "python",
     "metadata": {},
     "outputs": [],
     "prompt_number": 79
    },
    {
     "cell_type": "code",
     "collapsed": false,
     "input": [
      "amat2 = amat[:,s]\n",
      "x02 = x0[s]\n",
      "x02old = x02\n",
      "x02,ls0 = gd(amat2,ls,x02)\n",
      "x02,ls1 = gd(amat2,ls,x02)\n",
      "while (ls0 - ls1) > 1e-3:\n",
      "    ls0 = ls1\n",
      "    x02,ls1 = gd(amat2,ls,x02)\n",
      "# pruning step\n",
      "if min(x02) < 0:\n",
      "    x02, o = pruneroutine(x02old,x02)\n",
      "x0[s] = x02\n",
      "s = np.zeros(p,dtype=bool)\n",
      "s[np.squeeze(x0) > 1e-20] = True\n",
      "# next candidate step\n",
      "yh = np.dot(amat,x0)\n",
      "rawg = np.array([ls[i](yh[i])[1] for i in range(n)])\n",
      "g = np.dot(rawg.T,amat)\n",
      "if min(g) > -1e-5:\n",
      "    flag=False\n",
      "else:\n",
      "    ind = np.where(g==min(g))[0][0]\n",
      "    s[ind]=True\n",
      "x0seq = x0seq + [np.array(x0)]\n",
      "loss(x0)"
     ],
     "language": "python",
     "metadata": {},
     "outputs": [
      {
       "metadata": {},
       "output_type": "pyout",
       "prompt_number": 81,
       "text": [
        "15.736565207483483"
       ]
      }
     ],
     "prompt_number": 81
    },
    {
     "cell_type": "code",
     "collapsed": false,
     "input": [
      "zip(yh,np.dot(amat2,x02))"
     ],
     "language": "python",
     "metadata": {},
     "outputs": [
      {
       "metadata": {},
       "output_type": "pyout",
       "prompt_number": 82,
       "text": [
        "[(3.416425098193403, 3.416425098193403),\n",
        " (3.3027258214998718, 3.3027258214998718),\n",
        " (1.7708684348673578, 1.770868434867358),\n",
        " (4.5988711282644843, 4.5988711282644843),\n",
        " (3.7285285944935369, 3.7285285944935374)]"
       ]
      }
     ],
     "prompt_number": 82
    },
    {
     "cell_type": "code",
     "collapsed": false,
     "input": [
      "amat2"
     ],
     "language": "python",
     "metadata": {},
     "outputs": [
      {
       "metadata": {},
       "output_type": "pyout",
       "prompt_number": 77,
       "text": [
        "array([[ 0.78704991,  0.72717056,  0.34022448],\n",
        "       [ 0.57777142,  0.66648198,  0.58797243],\n",
        "       [ 0.95991539,  0.03975101,  0.27871945],\n",
        "       [ 1.2130095 ,  1.02209947,  0.21570625],\n",
        "       [ 0.34107076,  0.596097  ,  1.29039437]])"
       ]
      }
     ],
     "prompt_number": 77
    },
    {
     "cell_type": "code",
     "collapsed": false,
     "input": [
      "amat2 = amat[:,s]\n",
      "x02 = x0[s]\n",
      "x02old = x02\n",
      "x02,ls0 = gd(amat2,ls,x02)\n",
      "x02,ls1 = gd(amat2,ls,x02)\n",
      "while (ls0 - ls1) > 1e-3:\n",
      "    ls0 = ls1\n",
      "    x02,ls1 = gd(amat2,ls,x02)"
     ],
     "language": "python",
     "metadata": {},
     "outputs": [],
     "prompt_number": 236
    },
    {
     "cell_type": "code",
     "collapsed": false,
     "input": [
      "x0seq"
     ],
     "language": "python",
     "metadata": {},
     "outputs": [
      {
       "metadata": {},
       "output_type": "pyout",
       "prompt_number": 52,
       "text": [
        "[array([ 2.89851685,  0.42807301,  0.        ,  1.24165962,  0.        ,\n",
        "         0.16532922,  0.        ,  0.        ,  0.        ,  0.        ]),\n",
        " array([  2.78929675e+00,   3.60419061e-01,   0.00000000e+00,\n",
        "          1.27441727e+00,   0.00000000e+00,   2.77555756e-17,\n",
        "          0.00000000e+00,   0.00000000e+00,   0.00000000e+00,\n",
        "          0.00000000e+00]),\n",
        " array([ 2.78929675,  0.36041906,  0.        ,  1.27441727,  0.        ,\n",
        "         0.        ,  0.        ,  0.        ,  0.        ,  0.        ])]"
       ]
      }
     ],
     "prompt_number": 52
    },
    {
     "cell_type": "code",
     "collapsed": false,
     "input": [
      "bt"
     ],
     "language": "python",
     "metadata": {},
     "outputs": [
      {
       "metadata": {},
       "output_type": "pyout",
       "prompt_number": 47,
       "text": [
        "array([ 2.89851685,  0.42807301,  0.        ,  1.24165962,  0.        ,\n",
        "        0.16532922,  0.        ,  0.        ,  0.        ,  0.        ])"
       ]
      }
     ],
     "prompt_number": 47
    },
    {
     "cell_type": "code",
     "collapsed": false,
     "input": [
      "x0"
     ],
     "language": "python",
     "metadata": {},
     "outputs": [
      {
       "metadata": {},
       "output_type": "pyout",
       "prompt_number": 48,
       "text": [
        "array([  2.78929675e+00,   3.60419061e-01,   0.00000000e+00,\n",
        "         1.27441727e+00,   0.00000000e+00,   2.77555756e-17,\n",
        "         0.00000000e+00,   0.00000000e+00,   0.00000000e+00,\n",
        "         0.00000000e+00])"
       ]
      }
     ],
     "prompt_number": 48
    },
    {
     "cell_type": "code",
     "collapsed": false,
     "input": [
      "mugrid=np.arange(0,3,.1)\n",
      "mkmk = [ls[0](x)[0] for x in mugrid]\n",
      "plt.scatter(mugrid,mkmk)\n",
      "plt.show()"
     ],
     "language": "python",
     "metadata": {},
     "outputs": [],
     "prompt_number": 95
    },
    {
     "cell_type": "code",
     "collapsed": false,
     "input": [],
     "language": "python",
     "metadata": {},
     "outputs": []
    }
   ],
   "metadata": {}
  }
 ]
}