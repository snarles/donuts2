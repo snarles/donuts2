{
 "metadata": {
  "name": "",
  "signature": "sha256:86ba3cf26d94aa903edd4c0e7900e693f1bde336ade17c695b4fa3537b7f793f"
 },
 "nbformat": 3,
 "nbformat_minor": 0,
 "worksheets": [
  {
   "cells": [
    {
     "cell_type": "markdown",
     "metadata": {},
     "source": [
      "Elastic basis pursuit"
     ]
    },
    {
     "cell_type": "code",
     "collapsed": false,
     "input": [
      "import os\n",
      "import numpy as np\n",
      "import scipy as sp\n",
      "import scipy.stats as spst\n",
      "import scipy.special as sps\n",
      "import numpy.random as npr\n",
      "import matplotlib.pyplot as plt\n",
      "os.chdir(\"..\")\n",
      "import donuts.deconv.splines as spl\n",
      "import donuts.deconv.ncx as ncx\n",
      "import numpy.random as npr\n",
      "import scipy.optimize as spo"
     ],
     "language": "python",
     "metadata": {},
     "outputs": [
      {
       "output_type": "stream",
       "stream": "stderr",
       "text": [
        "/usr/local/lib/python2.7/dist-packages/setuptools-7.0-py2.7.egg/pkg_resources.py:1045: UserWarning: /home/snarles/.python-eggs is writable by group/others and vulnerable to attack when used with get_resource_filename. Consider a more secure location (set with .set_extraction_path or the PYTHON_EGG_CACHE environment variable).\n",
        "  warnings.warn(msg, UserWarning)\n"
       ]
      }
     ],
     "prompt_number": 1
    },
    {
     "cell_type": "code",
     "collapsed": false,
     "input": [
      "\n",
      "reload(spl)"
     ],
     "language": "python",
     "metadata": {},
     "outputs": [
      {
       "metadata": {},
       "output_type": "pyout",
       "prompt_number": 86,
       "text": [
        "<module 'donuts.deconv.splines' from 'donuts/deconv/splines.pyc'>"
       ]
      }
     ],
     "prompt_number": 86
    },
    {
     "cell_type": "code",
     "collapsed": false,
     "input": [
      "def pruneroutine(v1,v2):\n",
      "    # finds the minimum convex combination of v1 and v2 so that exactly one element is nonpositive (zero)\n",
      "    mina = -v1/(v2-v1)\n",
      "    mina[v2 > 0] = 2\n",
      "    a = min(mina)\n",
      "    o = np.where(mina == a)[0][0]\n",
      "    return (1-a)*v1 + a*v2, o"
     ],
     "language": "python",
     "metadata": {},
     "outputs": [],
     "prompt_number": 2
    },
    {
     "cell_type": "code",
     "collapsed": false,
     "input": [
      "def ncxlosses(df,y):\n",
      "    n = len(y)\n",
      "    ans = [0.] * n\n",
      "    for ii in range(n):\n",
      "        x = y[ii]\n",
      "        mmax = np.sqrt(x)*3\n",
      "        mugrid = np.arange(0,mmax,mmax/100)\n",
      "        clos = ncx.genconvexchi2(n,x)\n",
      "        pts = np.array([clos(mu)[0] for mu in mugrid])\n",
      "        f = spl.convspline(mugrid,pts)\n",
      "        ans[ii]=f\n",
      "    return ans\n",
      "\n",
      "def gd(amat2,ls,x02,nits=1): # gradient descent\n",
      "    pp = len(x02)\n",
      "    n = len(ls)\n",
      "    def sls(x02):\n",
      "        yh = np.dot(amat2,x02)\n",
      "        ls0 = sum([ls[i](yh[i])[0] for i in range(n)])\n",
      "        rawg = np.array([ls[i](yh[i])[1] for i in range(n)])\n",
      "        g = np.dot(rawg.T,amat2)\n",
      "        return ls0,g\n",
      "    for ii in range(nits):\n",
      "        yh = np.dot(amat2,x02)\n",
      "        ls0,g = sls(x02)\n",
      "        eps = 0.1\n",
      "        flag = True\n",
      "        while flag:\n",
      "            ls1 = sls(x02 - eps*g)[0]\n",
      "            if ls1 < ls0:\n",
      "                x02 = x02-eps*g\n",
      "                ls0 = ls1\n",
      "                flag=False\n",
      "            if eps < 1e-20:\n",
      "                flag = False\n",
      "            eps = eps/2.0\n",
      "    return x02,ls0\n",
      "\n",
      "def subrefitting(amat,ls,x0): # refit x0 so that grad(x0)=0 where x0 positive\n",
      "    s = np.zeros(p,dtype=bool)\n",
      "    s[np.squeeze(x0) > 1e-20] = True\n",
      "    amat2 = amat[:,s]\n",
      "    x02 = np.array(x0[s])\n",
      "    x02 = bfgssolve(amat2,ls,np.array(x02),0.0)[0]\n",
      "    x0[~s] = 0.0\n",
      "    x0[s]=x02\n",
      "    return x0\n",
      "    \n",
      "\n",
      "def ebp(amat,ls,x0): # ls is a list of loss functions, x0 is initial guess\n",
      "    x0seq = [np.array(x0)]\n",
      "    p = np.shape(amat)[1]\n",
      "    flag = True\n",
      "    count = 0\n",
      "    while flag:\n",
      "        count = count + 1\n",
      "        # **** refitting step ****\n",
      "        x0 = subrefitting(amat,ls,np.array(x0))\n",
      "        # next candidate step\n",
      "        yh = np.dot(amat,x0)\n",
      "        rawg = np.array([ls[i](yh[i])[1] for i in range(n)])\n",
      "        g = np.dot(rawg.T,amat)\n",
      "        if min(g) > -1e-5:\n",
      "            flag=False\n",
      "        else:\n",
      "            ind = np.where(g==min(g))[0][0]\n",
      "            x0[ind]=max([1e-3,x0[ind]])\n",
      "        if count > 1000:\n",
      "            flag = False\n",
      "        x0seq = x0seq + [np.array(x0)]\n",
      "    return x0,x0seq\n",
      "\n",
      "def bfgssolve(amat,ls,x0,lb=0.0): # use LBFS-G to solve\n",
      "    def f(x0):\n",
      "        yh = np.dot(amat,x0)\n",
      "        return sum(np.array([ls[i](yh[i])[0] for i in range(len(yh))]))\n",
      "    def fprime(x0):\n",
      "        yh = np.dot(amat,x0)\n",
      "        rawg= np.array([ls[i](yh[i])[1] for i in range(len(yh))])\n",
      "        return np.dot(rawg.T,amat)\n",
      "    bounds = [(lb,100.0)] * len(x0)\n",
      "    res = spo.fmin_l_bfgs_b(f,np.squeeze(x0),fprime=fprime,bounds=bounds)\n",
      "    return res\n",
      "    \n",
      "\n",
      "    "
     ],
     "language": "python",
     "metadata": {},
     "outputs": [],
     "prompt_number": 9
    },
    {
     "cell_type": "code",
     "collapsed": false,
     "input": [
      "n = 20\n",
      "p = 500\n",
      "amat = np.absolute(npr.normal(0,1,(n,p)))\n",
      "bt0 = np.zeros((p,1))\n",
      "bt0[:2] = 1\n",
      "mu = np.dot(amat,bt0)\n",
      "ysq = spst.ncx2.rvs(10,mu**2)\n",
      "ls = ncxlosses(10,ysq)\n",
      "\n",
      "def f(x0):\n",
      "    yh = np.dot(amat,x0)\n",
      "    return sum(np.array([ls[i](yh[i])[0] for i in range(len(yh))]))\n",
      "def fprime(x0):\n",
      "    yh = np.dot(amat,x0)\n",
      "    rawg= np.array([ls[i](yh[i])[1] for i in range(len(yh))])\n",
      "    return np.dot(rawg.T,amat)"
     ],
     "language": "python",
     "metadata": {},
     "outputs": [],
     "prompt_number": 10
    },
    {
     "cell_type": "code",
     "collapsed": false,
     "input": [
      "bt = spo.nnls(amat,np.squeeze(np.sqrt(ysq)))[0]\n",
      "#print(f(bt))\n",
      "res = bfgssolve(amat,ls,np.array(bt),0.0)\n",
      "res[1]"
     ],
     "language": "python",
     "metadata": {},
     "outputs": [
      {
       "metadata": {},
       "output_type": "pyout",
       "prompt_number": 5,
       "text": [
        "88.867936750549106"
       ]
      }
     ],
     "prompt_number": 5
    },
    {
     "cell_type": "code",
     "collapsed": false,
     "input": [
      "sum(res[0] > 0)"
     ],
     "language": "python",
     "metadata": {},
     "outputs": [
      {
       "metadata": {},
       "output_type": "pyout",
       "prompt_number": 8,
       "text": [
        "34"
       ]
      }
     ],
     "prompt_number": 8
    },
    {
     "cell_type": "code",
     "collapsed": false,
     "input": [
      "resebp = ebp(amat,ls,np.array(bt))\n",
      "x0 = resebp[0]\n",
      "f(x0)"
     ],
     "language": "python",
     "metadata": {},
     "outputs": [
      {
       "ename": "KeyboardInterrupt",
       "evalue": "",
       "output_type": "pyerr",
       "traceback": [
        "\u001b[1;31m---------------------------------------------------------------------------\u001b[0m\n\u001b[1;31mKeyboardInterrupt\u001b[0m                         Traceback (most recent call last)",
        "\u001b[1;32m<ipython-input-6-4a749a4cf40b>\u001b[0m in \u001b[0;36m<module>\u001b[1;34m()\u001b[0m\n\u001b[1;32m----> 1\u001b[1;33m \u001b[0mresebp\u001b[0m \u001b[1;33m=\u001b[0m \u001b[0mebp\u001b[0m\u001b[1;33m(\u001b[0m\u001b[0mamat\u001b[0m\u001b[1;33m,\u001b[0m\u001b[0mls\u001b[0m\u001b[1;33m,\u001b[0m\u001b[0mnp\u001b[0m\u001b[1;33m.\u001b[0m\u001b[0marray\u001b[0m\u001b[1;33m(\u001b[0m\u001b[0mbt\u001b[0m\u001b[1;33m)\u001b[0m\u001b[1;33m)\u001b[0m\u001b[1;33m\u001b[0m\u001b[0m\n\u001b[0m\u001b[0;32m      2\u001b[0m \u001b[0mx0\u001b[0m \u001b[1;33m=\u001b[0m \u001b[0mresebp\u001b[0m\u001b[1;33m[\u001b[0m\u001b[1;36m0\u001b[0m\u001b[1;33m]\u001b[0m\u001b[1;33m\u001b[0m\u001b[0m\n\u001b[0;32m      3\u001b[0m \u001b[0mf\u001b[0m\u001b[1;33m(\u001b[0m\u001b[0mx0\u001b[0m\u001b[1;33m)\u001b[0m\u001b[1;33m\u001b[0m\u001b[0m\n",
        "\u001b[1;32m<ipython-input-3-582bf4ec425c>\u001b[0m in \u001b[0;36mebp\u001b[1;34m(amat, ls, x0)\u001b[0m\n\u001b[0;32m     54\u001b[0m     \u001b[1;32mwhile\u001b[0m \u001b[0mflag\u001b[0m\u001b[1;33m:\u001b[0m\u001b[1;33m\u001b[0m\u001b[0m\n\u001b[0;32m     55\u001b[0m         \u001b[1;31m# **** refitting step ****\u001b[0m\u001b[1;33m\u001b[0m\u001b[1;33m\u001b[0m\u001b[0m\n\u001b[1;32m---> 56\u001b[1;33m         \u001b[0mx0\u001b[0m \u001b[1;33m=\u001b[0m \u001b[0msubrefitting\u001b[0m\u001b[1;33m(\u001b[0m\u001b[0mamat\u001b[0m\u001b[1;33m,\u001b[0m\u001b[0mls\u001b[0m\u001b[1;33m,\u001b[0m\u001b[0mnp\u001b[0m\u001b[1;33m.\u001b[0m\u001b[0marray\u001b[0m\u001b[1;33m(\u001b[0m\u001b[0mx0\u001b[0m\u001b[1;33m)\u001b[0m\u001b[1;33m)\u001b[0m\u001b[1;33m\u001b[0m\u001b[0m\n\u001b[0m\u001b[0;32m     57\u001b[0m         \u001b[1;31m# next candidate step\u001b[0m\u001b[1;33m\u001b[0m\u001b[1;33m\u001b[0m\u001b[0m\n\u001b[0;32m     58\u001b[0m         \u001b[0myh\u001b[0m \u001b[1;33m=\u001b[0m \u001b[0mnp\u001b[0m\u001b[1;33m.\u001b[0m\u001b[0mdot\u001b[0m\u001b[1;33m(\u001b[0m\u001b[0mamat\u001b[0m\u001b[1;33m,\u001b[0m\u001b[0mx0\u001b[0m\u001b[1;33m)\u001b[0m\u001b[1;33m\u001b[0m\u001b[0m\n",
        "\u001b[1;32m<ipython-input-3-582bf4ec425c>\u001b[0m in \u001b[0;36msubrefitting\u001b[1;34m(amat, ls, x0)\u001b[0m\n\u001b[0;32m     42\u001b[0m     \u001b[0mamat2\u001b[0m \u001b[1;33m=\u001b[0m \u001b[0mamat\u001b[0m\u001b[1;33m[\u001b[0m\u001b[1;33m:\u001b[0m\u001b[1;33m,\u001b[0m\u001b[0ms\u001b[0m\u001b[1;33m]\u001b[0m\u001b[1;33m\u001b[0m\u001b[0m\n\u001b[0;32m     43\u001b[0m     \u001b[0mx02\u001b[0m \u001b[1;33m=\u001b[0m \u001b[0mnp\u001b[0m\u001b[1;33m.\u001b[0m\u001b[0marray\u001b[0m\u001b[1;33m(\u001b[0m\u001b[0mx0\u001b[0m\u001b[1;33m[\u001b[0m\u001b[0ms\u001b[0m\u001b[1;33m]\u001b[0m\u001b[1;33m)\u001b[0m\u001b[1;33m\u001b[0m\u001b[0m\n\u001b[1;32m---> 44\u001b[1;33m     \u001b[0mx02\u001b[0m \u001b[1;33m=\u001b[0m \u001b[0mbfgssolve\u001b[0m\u001b[1;33m(\u001b[0m\u001b[0mamat2\u001b[0m\u001b[1;33m,\u001b[0m\u001b[0mls\u001b[0m\u001b[1;33m,\u001b[0m\u001b[0mnp\u001b[0m\u001b[1;33m.\u001b[0m\u001b[0marray\u001b[0m\u001b[1;33m(\u001b[0m\u001b[0mx02\u001b[0m\u001b[1;33m)\u001b[0m\u001b[1;33m,\u001b[0m\u001b[1;36m0.0\u001b[0m\u001b[1;33m)\u001b[0m\u001b[1;33m[\u001b[0m\u001b[1;36m0\u001b[0m\u001b[1;33m]\u001b[0m\u001b[1;33m\u001b[0m\u001b[0m\n\u001b[0m\u001b[0;32m     45\u001b[0m     \u001b[0mx0\u001b[0m\u001b[1;33m[\u001b[0m\u001b[1;33m~\u001b[0m\u001b[0ms\u001b[0m\u001b[1;33m]\u001b[0m \u001b[1;33m=\u001b[0m \u001b[1;36m0.0\u001b[0m\u001b[1;33m\u001b[0m\u001b[0m\n\u001b[0;32m     46\u001b[0m     \u001b[0mx0\u001b[0m\u001b[1;33m[\u001b[0m\u001b[0ms\u001b[0m\u001b[1;33m]\u001b[0m\u001b[1;33m=\u001b[0m\u001b[0mx02\u001b[0m\u001b[1;33m\u001b[0m\u001b[0m\n",
        "\u001b[1;32m<ipython-input-3-582bf4ec425c>\u001b[0m in \u001b[0;36mbfgssolve\u001b[1;34m(amat, ls, x0, lb)\u001b[0m\n\u001b[0;32m     76\u001b[0m         \u001b[1;32mreturn\u001b[0m \u001b[0mnp\u001b[0m\u001b[1;33m.\u001b[0m\u001b[0mdot\u001b[0m\u001b[1;33m(\u001b[0m\u001b[0mrawg\u001b[0m\u001b[1;33m.\u001b[0m\u001b[0mT\u001b[0m\u001b[1;33m,\u001b[0m\u001b[0mamat\u001b[0m\u001b[1;33m)\u001b[0m\u001b[1;33m\u001b[0m\u001b[0m\n\u001b[0;32m     77\u001b[0m     \u001b[0mbounds\u001b[0m \u001b[1;33m=\u001b[0m \u001b[1;33m[\u001b[0m\u001b[1;33m(\u001b[0m\u001b[0mlb\u001b[0m\u001b[1;33m,\u001b[0m\u001b[1;36m100.0\u001b[0m\u001b[1;33m)\u001b[0m\u001b[1;33m]\u001b[0m \u001b[1;33m*\u001b[0m \u001b[0mlen\u001b[0m\u001b[1;33m(\u001b[0m\u001b[0mx0\u001b[0m\u001b[1;33m)\u001b[0m\u001b[1;33m\u001b[0m\u001b[0m\n\u001b[1;32m---> 78\u001b[1;33m     \u001b[0mres\u001b[0m \u001b[1;33m=\u001b[0m \u001b[0mspo\u001b[0m\u001b[1;33m.\u001b[0m\u001b[0mfmin_l_bfgs_b\u001b[0m\u001b[1;33m(\u001b[0m\u001b[0mf\u001b[0m\u001b[1;33m,\u001b[0m\u001b[0mnp\u001b[0m\u001b[1;33m.\u001b[0m\u001b[0msqueeze\u001b[0m\u001b[1;33m(\u001b[0m\u001b[0mx0\u001b[0m\u001b[1;33m)\u001b[0m\u001b[1;33m,\u001b[0m\u001b[0mfprime\u001b[0m\u001b[1;33m=\u001b[0m\u001b[0mfprime\u001b[0m\u001b[1;33m,\u001b[0m\u001b[0mbounds\u001b[0m\u001b[1;33m=\u001b[0m\u001b[0mbounds\u001b[0m\u001b[1;33m)\u001b[0m\u001b[1;33m\u001b[0m\u001b[0m\n\u001b[0m\u001b[0;32m     79\u001b[0m     \u001b[1;32mreturn\u001b[0m \u001b[0mres\u001b[0m\u001b[1;33m\u001b[0m\u001b[0m\n\u001b[0;32m     80\u001b[0m \u001b[1;33m\u001b[0m\u001b[0m\n",
        "\u001b[1;32m/usr/local/lib/python2.7/dist-packages/scipy/optimize/lbfgsb.pyc\u001b[0m in \u001b[0;36mfmin_l_bfgs_b\u001b[1;34m(func, x0, fprime, args, approx_grad, bounds, m, factr, pgtol, epsilon, iprint, maxfun, maxiter, disp, callback)\u001b[0m\n\u001b[0;32m    184\u001b[0m \u001b[1;33m\u001b[0m\u001b[0m\n\u001b[0;32m    185\u001b[0m     res = _minimize_lbfgsb(fun, x0, args=args, jac=jac, bounds=bounds,\n\u001b[1;32m--> 186\u001b[1;33m                            **opts)\n\u001b[0m\u001b[0;32m    187\u001b[0m     d = {'grad': res['jac'],\n\u001b[0;32m    188\u001b[0m          \u001b[1;34m'task'\u001b[0m\u001b[1;33m:\u001b[0m \u001b[0mres\u001b[0m\u001b[1;33m[\u001b[0m\u001b[1;34m'message'\u001b[0m\u001b[1;33m]\u001b[0m\u001b[1;33m,\u001b[0m\u001b[1;33m\u001b[0m\u001b[0m\n",
        "\u001b[1;32m/usr/local/lib/python2.7/dist-packages/scipy/optimize/lbfgsb.pyc\u001b[0m in \u001b[0;36m_minimize_lbfgsb\u001b[1;34m(fun, x0, args, jac, bounds, disp, maxcor, ftol, gtol, eps, maxfun, maxiter, iprint, callback, **unknown_options)\u001b[0m\n\u001b[0;32m    312\u001b[0m                 \u001b[1;31m# minimization routine wants f and g at the current x\u001b[0m\u001b[1;33m\u001b[0m\u001b[1;33m\u001b[0m\u001b[0m\n\u001b[0;32m    313\u001b[0m                 \u001b[1;31m# Overwrite f and g:\u001b[0m\u001b[1;33m\u001b[0m\u001b[1;33m\u001b[0m\u001b[0m\n\u001b[1;32m--> 314\u001b[1;33m                 \u001b[0mf\u001b[0m\u001b[1;33m,\u001b[0m \u001b[0mg\u001b[0m \u001b[1;33m=\u001b[0m \u001b[0mfunc_and_grad\u001b[0m\u001b[1;33m(\u001b[0m\u001b[0mx\u001b[0m\u001b[1;33m)\u001b[0m\u001b[1;33m\u001b[0m\u001b[0m\n\u001b[0m\u001b[0;32m    315\u001b[0m         \u001b[1;32melif\u001b[0m \u001b[0mtask_str\u001b[0m\u001b[1;33m.\u001b[0m\u001b[0mstartswith\u001b[0m\u001b[1;33m(\u001b[0m\u001b[0mb\u001b[0m\u001b[1;34m'NEW_X'\u001b[0m\u001b[1;33m)\u001b[0m\u001b[1;33m:\u001b[0m\u001b[1;33m\u001b[0m\u001b[0m\n\u001b[0;32m    316\u001b[0m             \u001b[1;31m# new iteration\u001b[0m\u001b[1;33m\u001b[0m\u001b[1;33m\u001b[0m\u001b[0m\n",
        "\u001b[1;32m/usr/local/lib/python2.7/dist-packages/scipy/optimize/lbfgsb.pyc\u001b[0m in \u001b[0;36mfunc_and_grad\u001b[1;34m(x)\u001b[0m\n\u001b[0;32m    263\u001b[0m     \u001b[1;32melse\u001b[0m\u001b[1;33m:\u001b[0m\u001b[1;33m\u001b[0m\u001b[0m\n\u001b[0;32m    264\u001b[0m         \u001b[1;32mdef\u001b[0m \u001b[0mfunc_and_grad\u001b[0m\u001b[1;33m(\u001b[0m\u001b[0mx\u001b[0m\u001b[1;33m)\u001b[0m\u001b[1;33m:\u001b[0m\u001b[1;33m\u001b[0m\u001b[0m\n\u001b[1;32m--> 265\u001b[1;33m             \u001b[0mf\u001b[0m \u001b[1;33m=\u001b[0m \u001b[0mfun\u001b[0m\u001b[1;33m(\u001b[0m\u001b[0mx\u001b[0m\u001b[1;33m,\u001b[0m \u001b[1;33m*\u001b[0m\u001b[0margs\u001b[0m\u001b[1;33m)\u001b[0m\u001b[1;33m\u001b[0m\u001b[0m\n\u001b[0m\u001b[0;32m    266\u001b[0m             \u001b[0mg\u001b[0m \u001b[1;33m=\u001b[0m \u001b[0mjac\u001b[0m\u001b[1;33m(\u001b[0m\u001b[0mx\u001b[0m\u001b[1;33m,\u001b[0m \u001b[1;33m*\u001b[0m\u001b[0margs\u001b[0m\u001b[1;33m)\u001b[0m\u001b[1;33m\u001b[0m\u001b[0m\n\u001b[0;32m    267\u001b[0m             \u001b[1;32mreturn\u001b[0m \u001b[0mf\u001b[0m\u001b[1;33m,\u001b[0m \u001b[0mg\u001b[0m\u001b[1;33m\u001b[0m\u001b[0m\n",
        "\u001b[1;32m/usr/local/lib/python2.7/dist-packages/scipy/optimize/optimize.pyc\u001b[0m in \u001b[0;36mfunction_wrapper\u001b[1;34m(*wrapper_args)\u001b[0m\n\u001b[0;32m    279\u001b[0m     \u001b[1;32mdef\u001b[0m \u001b[0mfunction_wrapper\u001b[0m\u001b[1;33m(\u001b[0m\u001b[1;33m*\u001b[0m\u001b[0mwrapper_args\u001b[0m\u001b[1;33m)\u001b[0m\u001b[1;33m:\u001b[0m\u001b[1;33m\u001b[0m\u001b[0m\n\u001b[0;32m    280\u001b[0m         \u001b[0mncalls\u001b[0m\u001b[1;33m[\u001b[0m\u001b[1;36m0\u001b[0m\u001b[1;33m]\u001b[0m \u001b[1;33m+=\u001b[0m \u001b[1;36m1\u001b[0m\u001b[1;33m\u001b[0m\u001b[0m\n\u001b[1;32m--> 281\u001b[1;33m         \u001b[1;32mreturn\u001b[0m \u001b[0mfunction\u001b[0m\u001b[1;33m(\u001b[0m\u001b[1;33m*\u001b[0m\u001b[1;33m(\u001b[0m\u001b[0mwrapper_args\u001b[0m \u001b[1;33m+\u001b[0m \u001b[0margs\u001b[0m\u001b[1;33m)\u001b[0m\u001b[1;33m)\u001b[0m\u001b[1;33m\u001b[0m\u001b[0m\n\u001b[0m\u001b[0;32m    282\u001b[0m \u001b[1;33m\u001b[0m\u001b[0m\n\u001b[0;32m    283\u001b[0m     \u001b[1;32mreturn\u001b[0m \u001b[0mncalls\u001b[0m\u001b[1;33m,\u001b[0m \u001b[0mfunction_wrapper\u001b[0m\u001b[1;33m\u001b[0m\u001b[0m\n",
        "\u001b[1;32m<ipython-input-3-582bf4ec425c>\u001b[0m in \u001b[0;36mf\u001b[1;34m(x0)\u001b[0m\n\u001b[0;32m     70\u001b[0m     \u001b[1;32mdef\u001b[0m \u001b[0mf\u001b[0m\u001b[1;33m(\u001b[0m\u001b[0mx0\u001b[0m\u001b[1;33m)\u001b[0m\u001b[1;33m:\u001b[0m\u001b[1;33m\u001b[0m\u001b[0m\n\u001b[0;32m     71\u001b[0m         \u001b[0myh\u001b[0m \u001b[1;33m=\u001b[0m \u001b[0mnp\u001b[0m\u001b[1;33m.\u001b[0m\u001b[0mdot\u001b[0m\u001b[1;33m(\u001b[0m\u001b[0mamat\u001b[0m\u001b[1;33m,\u001b[0m\u001b[0mx0\u001b[0m\u001b[1;33m)\u001b[0m\u001b[1;33m\u001b[0m\u001b[0m\n\u001b[1;32m---> 72\u001b[1;33m         \u001b[1;32mreturn\u001b[0m \u001b[0msum\u001b[0m\u001b[1;33m(\u001b[0m\u001b[0mnp\u001b[0m\u001b[1;33m.\u001b[0m\u001b[0marray\u001b[0m\u001b[1;33m(\u001b[0m\u001b[1;33m[\u001b[0m\u001b[0mls\u001b[0m\u001b[1;33m[\u001b[0m\u001b[0mi\u001b[0m\u001b[1;33m]\u001b[0m\u001b[1;33m(\u001b[0m\u001b[0myh\u001b[0m\u001b[1;33m[\u001b[0m\u001b[0mi\u001b[0m\u001b[1;33m]\u001b[0m\u001b[1;33m)\u001b[0m\u001b[1;33m[\u001b[0m\u001b[1;36m0\u001b[0m\u001b[1;33m]\u001b[0m \u001b[1;32mfor\u001b[0m \u001b[0mi\u001b[0m \u001b[1;32min\u001b[0m \u001b[0mrange\u001b[0m\u001b[1;33m(\u001b[0m\u001b[0mlen\u001b[0m\u001b[1;33m(\u001b[0m\u001b[0myh\u001b[0m\u001b[1;33m)\u001b[0m\u001b[1;33m)\u001b[0m\u001b[1;33m]\u001b[0m\u001b[1;33m)\u001b[0m\u001b[1;33m)\u001b[0m\u001b[1;33m\u001b[0m\u001b[0m\n\u001b[0m\u001b[0;32m     73\u001b[0m     \u001b[1;32mdef\u001b[0m \u001b[0mfprime\u001b[0m\u001b[1;33m(\u001b[0m\u001b[0mx0\u001b[0m\u001b[1;33m)\u001b[0m\u001b[1;33m:\u001b[0m\u001b[1;33m\u001b[0m\u001b[0m\n\u001b[0;32m     74\u001b[0m         \u001b[0myh\u001b[0m \u001b[1;33m=\u001b[0m \u001b[0mnp\u001b[0m\u001b[1;33m.\u001b[0m\u001b[0mdot\u001b[0m\u001b[1;33m(\u001b[0m\u001b[0mamat\u001b[0m\u001b[1;33m,\u001b[0m\u001b[0mx0\u001b[0m\u001b[1;33m)\u001b[0m\u001b[1;33m\u001b[0m\u001b[0m\n",
        "\u001b[1;32m/home/snarles/github/donuts/donuts/deconv/splines.pyc\u001b[0m in \u001b[0;36mf\u001b[1;34m(x)\u001b[0m\n\u001b[0;32m     49\u001b[0m             \u001b[1;32mif\u001b[0m \u001b[1;33m(\u001b[0m\u001b[0mh\u001b[0m\u001b[1;33m+\u001b[0m\u001b[0mj\u001b[0m\u001b[1;33m)\u001b[0m \u001b[1;33m>=\u001b[0m\u001b[1;36m0\u001b[0m \u001b[1;32mand\u001b[0m \u001b[1;33m(\u001b[0m\u001b[0mh\u001b[0m\u001b[1;33m+\u001b[0m\u001b[0mj\u001b[0m\u001b[1;33m)\u001b[0m \u001b[1;33m<\u001b[0m \u001b[0mlen\u001b[0m\u001b[1;33m(\u001b[0m\u001b[0mbt\u001b[0m\u001b[1;33m)\u001b[0m\u001b[1;33m:\u001b[0m\u001b[1;33m\u001b[0m\u001b[0m\n\u001b[0;32m     50\u001b[0m                 \u001b[0mcf\u001b[0m \u001b[1;33m=\u001b[0m \u001b[0mbt\u001b[0m\u001b[1;33m[\u001b[0m\u001b[0mh\u001b[0m\u001b[1;33m+\u001b[0m\u001b[0mj\u001b[0m\u001b[1;33m]\u001b[0m\u001b[1;33m\u001b[0m\u001b[0m\n\u001b[1;32m---> 51\u001b[1;33m                 \u001b[0me0\u001b[0m\u001b[1;33m,\u001b[0m\u001b[0me1\u001b[0m\u001b[1;33m,\u001b[0m\u001b[0me2\u001b[0m \u001b[1;33m=\u001b[0m \u001b[0mbs4d\u001b[0m\u001b[1;33m(\u001b[0m\u001b[0mzr\u001b[0m\u001b[1;33m-\u001b[0m\u001b[0mj\u001b[0m\u001b[1;33m)\u001b[0m\u001b[1;33m\u001b[0m\u001b[0m\n\u001b[0m\u001b[0;32m     52\u001b[0m                 \u001b[0mval0\u001b[0m \u001b[1;33m+=\u001b[0m \u001b[0mcf\u001b[0m\u001b[1;33m*\u001b[0m\u001b[0me0\u001b[0m\u001b[1;33m\u001b[0m\u001b[0m\n\u001b[0;32m     53\u001b[0m                 \u001b[0mval1\u001b[0m \u001b[1;33m+=\u001b[0m \u001b[0mcf\u001b[0m\u001b[1;33m*\u001b[0m\u001b[0me1\u001b[0m\u001b[1;33m\u001b[0m\u001b[0m\n",
        "\u001b[1;32m/home/snarles/github/donuts/donuts/deconv/splines.pyc\u001b[0m in \u001b[0;36mbs4d\u001b[1;34m(z)\u001b[0m\n\u001b[0;32m     11\u001b[0m \u001b[1;33m\u001b[0m\u001b[0m\n\u001b[0;32m     12\u001b[0m \u001b[1;32mdef\u001b[0m \u001b[0mbs4d\u001b[0m\u001b[1;33m(\u001b[0m\u001b[0mz\u001b[0m\u001b[1;33m)\u001b[0m\u001b[1;33m:\u001b[0m \u001b[1;31m# standard basis function with derivatives\u001b[0m\u001b[1;33m\u001b[0m\u001b[0m\n\u001b[1;32m---> 13\u001b[1;33m     \u001b[0mi1\u001b[0m \u001b[1;33m=\u001b[0m \u001b[0mnp\u001b[0m\u001b[1;33m.\u001b[0m\u001b[0marray\u001b[0m\u001b[1;33m(\u001b[0m\u001b[1;33m(\u001b[0m\u001b[0mz\u001b[0m \u001b[1;33m>=\u001b[0m \u001b[1;36m0\u001b[0m\u001b[1;33m)\u001b[0m \u001b[1;33m&\u001b[0m \u001b[1;33m(\u001b[0m\u001b[0mz\u001b[0m \u001b[1;33m<\u001b[0m \u001b[1;36m1\u001b[0m\u001b[1;33m)\u001b[0m\u001b[1;33m,\u001b[0m\u001b[0mdtype\u001b[0m \u001b[1;33m=\u001b[0m \u001b[0mfloat\u001b[0m\u001b[1;33m)\u001b[0m\u001b[1;33m\u001b[0m\u001b[0m\n\u001b[0m\u001b[0;32m     14\u001b[0m     \u001b[0mi2\u001b[0m \u001b[1;33m=\u001b[0m \u001b[0mnp\u001b[0m\u001b[1;33m.\u001b[0m\u001b[0marray\u001b[0m\u001b[1;33m(\u001b[0m\u001b[1;33m(\u001b[0m\u001b[0mz\u001b[0m \u001b[1;33m>=\u001b[0m \u001b[1;36m1\u001b[0m\u001b[1;33m)\u001b[0m \u001b[1;33m&\u001b[0m \u001b[1;33m(\u001b[0m\u001b[0mz\u001b[0m \u001b[1;33m<\u001b[0m \u001b[1;36m2\u001b[0m\u001b[1;33m)\u001b[0m\u001b[1;33m,\u001b[0m\u001b[0mdtype\u001b[0m \u001b[1;33m=\u001b[0m \u001b[0mfloat\u001b[0m\u001b[1;33m)\u001b[0m\u001b[1;33m\u001b[0m\u001b[0m\n\u001b[0;32m     15\u001b[0m     \u001b[0mi3\u001b[0m \u001b[1;33m=\u001b[0m \u001b[0mnp\u001b[0m\u001b[1;33m.\u001b[0m\u001b[0marray\u001b[0m\u001b[1;33m(\u001b[0m\u001b[1;33m(\u001b[0m\u001b[0mz\u001b[0m \u001b[1;33m>=\u001b[0m \u001b[1;36m2\u001b[0m\u001b[1;33m)\u001b[0m \u001b[1;33m&\u001b[0m \u001b[1;33m(\u001b[0m\u001b[0mz\u001b[0m \u001b[1;33m<\u001b[0m \u001b[1;36m3\u001b[0m\u001b[1;33m)\u001b[0m\u001b[1;33m,\u001b[0m\u001b[0mdtype\u001b[0m \u001b[1;33m=\u001b[0m \u001b[0mfloat\u001b[0m\u001b[1;33m)\u001b[0m\u001b[1;33m\u001b[0m\u001b[0m\n",
        "\u001b[1;31mKeyboardInterrupt\u001b[0m: "
       ]
      }
     ],
     "prompt_number": 6
    },
    {
     "cell_type": "code",
     "collapsed": false,
     "input": [
      "x02 = subrefitting(amat,ls,np.array(x0))"
     ],
     "language": "python",
     "metadata": {},
     "outputs": [],
     "prompt_number": 352
    },
    {
     "cell_type": "code",
     "collapsed": false,
     "input": [
      "x02"
     ],
     "language": "python",
     "metadata": {},
     "outputs": [
      {
       "metadata": {},
       "output_type": "pyout",
       "prompt_number": 353,
       "text": [
        "array([ 0.        ,  0.49406772,  0.        ,  0.        ,  0.        ,\n",
        "        0.2986824 ,  0.        ,  0.        ,  0.        ,  0.        ,\n",
        "        0.        ,  0.        ,  0.        ,  0.        ,  0.        ,\n",
        "        0.        ,  0.        ,  0.85177024,  0.        ,  0.        ,\n",
        "        0.        ,  0.        ,  0.        ,  0.        ,  0.        ,\n",
        "        0.        ,  0.        ,  0.        ,  0.        ,  0.        ,\n",
        "        0.        ,  0.        ,  0.        ,  0.        ,  0.        ,\n",
        "        0.        ,  0.        ,  0.        ,  0.        ,  0.        ,\n",
        "        0.        ,  0.        ,  0.        ,  0.        ,  0.        ,\n",
        "        0.42096309,  0.        ,  0.        ,  0.        ,  0.        ])"
       ]
      }
     ],
     "prompt_number": 353
    },
    {
     "cell_type": "code",
     "collapsed": false,
     "input": [
      "fprime(x02)[x02 > 0]"
     ],
     "language": "python",
     "metadata": {},
     "outputs": [
      {
       "metadata": {},
       "output_type": "pyout",
       "prompt_number": 354,
       "text": [
        "array([  2.31243524e-05,   1.79270371e-05,   1.53864876e-06,\n",
        "         1.12106956e-05])"
       ]
      }
     ],
     "prompt_number": 354
    },
    {
     "cell_type": "code",
     "collapsed": false,
     "input": [
      "fprime(res[0])"
     ],
     "language": "python",
     "metadata": {},
     "outputs": [
      {
       "metadata": {},
       "output_type": "pyout",
       "prompt_number": 345,
       "text": [
        "array([  3.99364630e-01,  -3.09226073e-04,   7.73182357e-01,\n",
        "         1.74471296e+00,   1.03643085e+00,   2.10586148e-05,\n",
        "         1.13097663e+00,   3.56040954e+00,   1.53363885e+00,\n",
        "         6.88656365e-01,   5.70117040e-02,   2.44839121e+00,\n",
        "         1.93246482e+00,   1.28812489e+00,   3.75937363e-01,\n",
        "         2.50614167e+00,   7.14514672e-01,   7.18007471e-05,\n",
        "         7.80825760e-01,   1.80548021e+00,   1.06478627e+00,\n",
        "         9.90569691e-01,   1.33522849e+00,   1.02688863e+00,\n",
        "         1.41995241e+00,   3.50632248e-01,   1.88792772e-01,\n",
        "         1.21341736e+00,   9.43430087e-01,   9.44738604e-01,\n",
        "         1.35952557e+00,   9.23825914e-01,   1.63315541e+00,\n",
        "         1.41722389e+00,   7.24538326e-01,   1.42027495e+00,\n",
        "         1.37027386e+00,   2.34512129e+00,   1.26214092e+00,\n",
        "         4.32565809e-01,   1.61736499e+00,   1.96060367e+00,\n",
        "         1.86992715e+00,   1.39756294e+00,  -1.00155566e-04,\n",
        "        -1.28536442e-04,   1.10912127e-01,   7.07345295e-01,\n",
        "         7.80844747e-01,   1.72308676e-01])"
       ]
      }
     ],
     "prompt_number": 345
    },
    {
     "cell_type": "code",
     "collapsed": false,
     "input": [
      "resebp[1]"
     ],
     "language": "python",
     "metadata": {},
     "outputs": [
      {
       "metadata": {},
       "output_type": "pyout",
       "prompt_number": 319,
       "text": [
        "[array([ 0.        ,  1.0664185 ,  2.16817493,  0.        ,  0.86690074,\n",
        "         0.29303668,  0.        ,  0.        ,  0.15695727,  0.        ]),\n",
        " array([ 0.        ,  1.0664185 ,  2.16817493,  0.        ,  0.86690074,\n",
        "         0.29303668,  0.        ,  0.        ,  0.15695727,  0.        ])]"
       ]
      }
     ],
     "prompt_number": 319
    },
    {
     "cell_type": "code",
     "collapsed": false,
     "input": [
      "x0 = np.array(bt)\n",
      "p = np.shape(amat)[1]\n",
      "flag = True\n",
      "s = np.zeros(p,dtype=bool)\n",
      "s[np.squeeze(x0) > 1e-20] = True\n",
      "x0seq = [np.array(x0)]"
     ],
     "language": "python",
     "metadata": {},
     "outputs": [],
     "prompt_number": 322
    },
    {
     "cell_type": "code",
     "collapsed": false,
     "input": [
      "amat2 = amat[:,s]\n",
      "x02 = np.array(x0[s])\n",
      "res02 = bfgssolve(amat2,ls,x02,0.0)\n",
      "x02 =res02[0]\n",
      "x0[s]=x02\n",
      "\n",
      "yh = np.dot(amat,x0)\n",
      "rawg = np.array([ls[i](yh[i])[1] for i in range(n)])\n",
      "\n",
      "g = np.dot(rawg.T,amat)\n",
      "print([loss(x0),min(g),x0])\n",
      "\n",
      "if min(g) > -1e-5:\n",
      "    flag=False\n",
      "else:\n",
      "    ind = np.where(g==min(g))[0][0]\n",
      "    s[ind]=True\n",
      "    if x0[ind] < 1e-20:\n",
      "        x0[ind]=1e-5\n",
      "x0seq = x0seq + [np.array(x0)]\n"
     ],
     "language": "python",
     "metadata": {},
     "outputs": [
      {
       "output_type": "stream",
       "stream": "stdout",
       "text": [
        "[13.761844147550029, -1.8228589925418447e-05, array([  1.34832349e-05,   5.44153734e-01,   1.29704312e+00,\n",
        "         0.00000000e+00,   2.76881515e-07,   8.91047117e-01,\n",
        "         0.00000000e+00,   0.00000000e+00,   3.29950258e-01,\n",
        "         9.82124967e-01])]\n"
       ]
      }
     ],
     "prompt_number": 327
    },
    {
     "cell_type": "code",
     "collapsed": false,
     "input": [
      "[13.415306944768647, -0.0051969849982899143]"
     ],
     "language": "python",
     "metadata": {},
     "outputs": []
    },
    {
     "cell_type": "code",
     "collapsed": false,
     "input": [
      "x0a = np.array(x0)"
     ],
     "language": "python",
     "metadata": {},
     "outputs": [],
     "prompt_number": 297
    },
    {
     "cell_type": "code",
     "collapsed": false,
     "input": [
      "x0seq"
     ],
     "language": "python",
     "metadata": {},
     "outputs": [
      {
       "metadata": {},
       "output_type": "pyout",
       "prompt_number": 245,
       "text": [
        "[array([ 1.41998223,  1.72365872,  0.        ,  0.        ,  0.53438818,\n",
        "         1.57003076,  0.26824449,  0.        ,  0.        ,  0.        ]),\n",
        " array([ 0.80516192,  1.82208437,  0.        ,  0.        ,  0.17032513,\n",
        "         1.00212187,  0.50965594,  0.        ,  0.        ,  0.        ]),\n",
        " array([  6.60306229e-01,   1.91363654e+00,   0.00000000e+00,\n",
        "          0.00000000e+00,   1.73472348e-18,   7.75516833e-01,\n",
        "          6.84718374e-01,   0.00000000e+00,   0.00000000e+00,\n",
        "          0.00000000e+00]),\n",
        " array([  6.60306229e-01,   1.91363654e+00,   0.00000000e+00,\n",
        "          0.00000000e+00,   0.00000000e+00,   7.75516833e-01,\n",
        "          6.84718374e-01,   0.00000000e+00,   0.00000000e+00,\n",
        "          1.56584324e-18]),\n",
        " array([ 0.46061314,  1.96042997,  0.        ,  0.        ,  0.        ,\n",
        "         0.61295692,  0.76191144,  0.        ,  0.        ,  0.12041759]),\n",
        " array([ 0.27655719,  1.99325472,  0.        ,  0.        ,  0.        ,\n",
        "         0.49570295,  0.8182561 ,  0.        ,  0.06254708,  0.1905992 ]),\n",
        " array([ 0.12638143,  2.01472207,  0.        ,  0.        ,  0.        ,\n",
        "         0.40652785,  0.86364519,  0.        ,  0.10626235,  0.25318492]),\n",
        " array([ 0.00221631,  2.03248869,  0.        ,  0.        ,  0.        ,\n",
        "         0.33481141,  0.90007236,  0.        ,  0.14200837,  0.30519808]),\n",
        " array([ 0.        ,  2.03281665,  0.        ,  0.        ,  0.        ,\n",
        "         0.33357614,  0.9006943 ,  0.        ,  0.14264997,  0.30612937]),\n",
        " array([ 0.        ,  2.03032903,  0.        ,  0.        ,  0.        ,\n",
        "         0.29639208,  0.92157875,  0.        ,  0.13564036,  0.30988847]),\n",
        " array([ 0.        ,  2.02758524,  0.        ,  0.01396413,  0.        ,\n",
        "         0.27380682,  0.9293028 ,  0.        ,  0.1240678 ,  0.31029576]),\n",
        " array([ 0.        ,  2.02872656,  0.        ,  0.02487049,  0.        ,\n",
        "         0.25942337,  0.93194925,  0.        ,  0.11521313,  0.31106173]),\n",
        " array([ 0.        ,  2.03218419,  0.        ,  0.03408911,  0.        ,\n",
        "         0.25006877,  0.93180997,  0.        ,  0.10788211,  0.31183345]),\n",
        " array([ 0.        ,  2.03701754,  0.        ,  0.0422999 ,  0.        ,\n",
        "         0.24371855,  0.93001352,  0.        ,  0.10145957,  0.31261917]),\n",
        " array([ 0.        ,  2.04267074,  0.        ,  0.04990347,  0.        ,\n",
        "         0.23917164,  0.92722535,  0.        ,  0.09558219,  0.31341629]),\n",
        " array([ 0.        ,  2.04881313,  0.        ,  0.05713876,  0.        ,\n",
        "         0.23571052,  0.92384259,  0.        ,  0.09003428,  0.31422104]),\n",
        " array([ 0.        ,  2.05524685,  0.        ,  0.06414906,  0.        ,\n",
        "         0.2329046 ,  0.92010349,  0.        ,  0.08468695,  0.31503043]),\n",
        " array([ 0.        ,  2.061853  ,  0.        ,  0.07102061,  0.        ,\n",
        "         0.23049467,  0.91615147,  0.        ,  0.07946282,  0.31584233]),\n",
        " array([ 0.        ,  2.06785099,  0.00213101,  0.07736974,  0.        ,\n",
        "         0.22703633,  0.91261308,  0.        ,  0.07455094,  0.31480996]),\n",
        " array([ 0.        ,  2.07359893,  0.0031876 ,  0.08398848,  0.        ,\n",
        "         0.22318625,  0.90951563,  0.        ,  0.06955245,  0.31440475]),\n",
        " array([ 0.        ,  2.07921023,  0.00406905,  0.09059199,  0.        ,\n",
        "         0.21927977,  0.90638967,  0.        ,  0.06443245,  0.31406762]),\n",
        " array([ 0.        ,  2.08482093,  0.00526714,  0.09723035,  0.        ,\n",
        "         0.21562261,  0.90373368,  0.        ,  0.0596509 ,  0.3141266 ]),\n",
        " array([ 0.        ,  2.09043053,  0.00619095,  0.10386649,  0.        ,\n",
        "         0.21174504,  0.90069371,  0.        ,  0.05456216,  0.31388844]),\n",
        " array([ 0.        ,  2.09599456,  0.00703371,  0.11044812,  0.        ,\n",
        "         0.20783975,  0.89757515,  0.        ,  0.04943236,  0.31357199]),\n",
        " array([ 0.        ,  2.10159138,  0.00824271,  0.11707686,  0.        ,\n",
        "         0.20420152,  0.89495006,  0.        ,  0.0446746 ,  0.31365609]),\n",
        " array([ 0.        ,  2.10717779,  0.00915585,  0.12368674,  0.        ,\n",
        "         0.20033419,  0.89191383,  0.        ,  0.03959847,  0.31341321]),\n",
        " array([ 0.        ,  2.11271643,  0.00998263,  0.13023835,  0.        ,\n",
        "         0.19643692,  0.88879243,  0.        ,  0.03447834,  0.31308504]),\n",
        " array([ 0.        ,  2.1183037 ,  0.01120707,  0.13685624,  0.        ,\n",
        "         0.19281893,  0.8861966 ,  0.        ,  0.02974807,  0.31318852]),\n",
        " array([ 0.        ,  2.1238678 ,  0.01211026,  0.14343963,  0.        ,\n",
        "         0.18896197,  0.8831635 ,  0.        ,  0.02468509,  0.31293958]),\n",
        " array([ 0.        ,  2.12938111,  0.01292076,  0.14996102,  0.        ,\n",
        "         0.18507248,  0.88003866,  0.        ,  0.0195744 ,  0.31259899]),\n",
        " array([ 0.        ,  2.13495918,  0.0141611 ,  0.15656843,  0.        ,\n",
        "         0.18147484,  0.87747247,  0.        ,  0.01487186,  0.31272225]),\n",
        " array([ 0.        ,  2.14050049,  0.01505317,  0.16312467,  0.        ,\n",
        "         0.17762768,  0.87444118,  0.        ,  0.00982125,  0.31246598]),\n",
        " array([ 0.        ,  2.14600616,  0.0161674 ,  0.16964386,  0.        ,\n",
        "         0.17398844,  0.87175256,  0.        ,  0.00505727,  0.3124652 ])]"
       ]
      }
     ],
     "prompt_number": 245
    },
    {
     "cell_type": "code",
     "collapsed": false,
     "input": [
      "x02"
     ],
     "language": "python",
     "metadata": {},
     "outputs": [
      {
       "metadata": {},
       "output_type": "pyout",
       "prompt_number": 130,
       "text": [
        "array([ 1.02209522,  0.98257249,  2.16381201,  0.47245812])"
       ]
      }
     ],
     "prompt_number": 130
    },
    {
     "cell_type": "code",
     "collapsed": false,
     "input": [
      "pruneroutine(x02old,x02)"
     ],
     "language": "python",
     "metadata": {},
     "outputs": [
      {
       "metadata": {},
       "output_type": "pyout",
       "prompt_number": 131,
       "text": [
        "(array([ 1.01623394,  0.97027142,  2.15458253,  0.47730043]), 0)"
       ]
      }
     ],
     "prompt_number": 131
    },
    {
     "cell_type": "code",
     "collapsed": false,
     "input": [
      "amat2"
     ],
     "language": "python",
     "metadata": {},
     "outputs": [
      {
       "metadata": {},
       "output_type": "pyout",
       "prompt_number": 77,
       "text": [
        "array([[ 0.78704991,  0.72717056,  0.34022448],\n",
        "       [ 0.57777142,  0.66648198,  0.58797243],\n",
        "       [ 0.95991539,  0.03975101,  0.27871945],\n",
        "       [ 1.2130095 ,  1.02209947,  0.21570625],\n",
        "       [ 0.34107076,  0.596097  ,  1.29039437]])"
       ]
      }
     ],
     "prompt_number": 77
    },
    {
     "cell_type": "code",
     "collapsed": false,
     "input": [
      "amat2 = amat[:,s]\n",
      "x02 = x0[s]\n",
      "x02old = x02\n",
      "x02,ls0 = gd(amat2,ls,x02)\n",
      "x02,ls1 = gd(amat2,ls,x02)\n",
      "while (ls0 - ls1) > 1e-3:\n",
      "    ls0 = ls1\n",
      "    x02,ls1 = gd(amat2,ls,x02)"
     ],
     "language": "python",
     "metadata": {},
     "outputs": [],
     "prompt_number": 236
    },
    {
     "cell_type": "code",
     "collapsed": false,
     "input": [
      "x0seq"
     ],
     "language": "python",
     "metadata": {},
     "outputs": [
      {
       "metadata": {},
       "output_type": "pyout",
       "prompt_number": 52,
       "text": [
        "[array([ 2.89851685,  0.42807301,  0.        ,  1.24165962,  0.        ,\n",
        "         0.16532922,  0.        ,  0.        ,  0.        ,  0.        ]),\n",
        " array([  2.78929675e+00,   3.60419061e-01,   0.00000000e+00,\n",
        "          1.27441727e+00,   0.00000000e+00,   2.77555756e-17,\n",
        "          0.00000000e+00,   0.00000000e+00,   0.00000000e+00,\n",
        "          0.00000000e+00]),\n",
        " array([ 2.78929675,  0.36041906,  0.        ,  1.27441727,  0.        ,\n",
        "         0.        ,  0.        ,  0.        ,  0.        ,  0.        ])]"
       ]
      }
     ],
     "prompt_number": 52
    },
    {
     "cell_type": "code",
     "collapsed": false,
     "input": [
      "bt"
     ],
     "language": "python",
     "metadata": {},
     "outputs": [
      {
       "metadata": {},
       "output_type": "pyout",
       "prompt_number": 47,
       "text": [
        "array([ 2.89851685,  0.42807301,  0.        ,  1.24165962,  0.        ,\n",
        "        0.16532922,  0.        ,  0.        ,  0.        ,  0.        ])"
       ]
      }
     ],
     "prompt_number": 47
    },
    {
     "cell_type": "code",
     "collapsed": false,
     "input": [
      "x0"
     ],
     "language": "python",
     "metadata": {},
     "outputs": [
      {
       "metadata": {},
       "output_type": "pyout",
       "prompt_number": 48,
       "text": [
        "array([  2.78929675e+00,   3.60419061e-01,   0.00000000e+00,\n",
        "         1.27441727e+00,   0.00000000e+00,   2.77555756e-17,\n",
        "         0.00000000e+00,   0.00000000e+00,   0.00000000e+00,\n",
        "         0.00000000e+00])"
       ]
      }
     ],
     "prompt_number": 48
    },
    {
     "cell_type": "code",
     "collapsed": false,
     "input": [
      "mugrid=np.arange(0,3,.1)\n",
      "mkmk = [ls[0](x)[0] for x in mugrid]\n",
      "plt.scatter(mugrid,mkmk)\n",
      "plt.show()"
     ],
     "language": "python",
     "metadata": {},
     "outputs": [],
     "prompt_number": 95
    },
    {
     "cell_type": "code",
     "collapsed": false,
     "input": [
      "x0 = bt\n",
      "def f(x0):\n",
      "    yh = np.dot(amat,x0)\n",
      "    return sum(np.array([ls[i](yh[i])[0] for i in range(len(yh))]))\n",
      "def fprime(x0):\n",
      "    yh = np.dot(amat,x0)\n",
      "    rawg= np.array([ls[i](yh[i])[1] for i in range(len(yh))])\n",
      "    return np.dot(rawg.T,amat)\n",
      "bounds = [(0.0,100.0)] * len(x0)\n",
      "res = spo.fmin_l_bfgs_b(f,np.squeeze(x0),fprime=fprime,bounds=bounds)\n"
     ],
     "language": "python",
     "metadata": {},
     "outputs": [],
     "prompt_number": 120
    },
    {
     "cell_type": "code",
     "collapsed": false,
     "input": [
      "res"
     ],
     "language": "python",
     "metadata": {},
     "outputs": [
      {
       "metadata": {},
       "output_type": "pyout",
       "prompt_number": 121,
       "text": [
        "(array([ 2.0186227 ,  0.        ,  0.        ,  0.        ,  0.        ,\n",
        "         0.61353646,  3.08337257,  0.16916887,  0.        ,  0.        ]),\n",
        " 14.400339341247355,\n",
        " {'funcalls': 32,\n",
        "  'grad': array([  2.03732614e-05,   5.04307039e-02,   7.85928734e-03,\n",
        "           3.29657294e-02,   3.78908633e-02,   2.39820571e-05,\n",
        "          -9.32518397e-06,   1.63477234e-05,   4.22533748e-02,\n",
        "           1.17631994e-02]),\n",
        "  'nit': 28,\n",
        "  'task': 'CONVERGENCE: REL_REDUCTION_OF_F_<=_FACTR*EPSMCH',\n",
        "  'warnflag': 0})"
       ]
      }
     ],
     "prompt_number": 121
    },
    {
     "cell_type": "code",
     "collapsed": false,
     "input": [
      "len(x0)"
     ],
     "language": "python",
     "metadata": {},
     "outputs": [
      {
       "metadata": {},
       "output_type": "pyout",
       "prompt_number": 101,
       "text": [
        "10"
       ]
      }
     ],
     "prompt_number": 101
    },
    {
     "cell_type": "code",
     "collapsed": false,
     "input": [
      "x0 = bt\n",
      "fprime(x0)"
     ],
     "language": "python",
     "metadata": {},
     "outputs": [
      {
       "metadata": {},
       "output_type": "pyout",
       "prompt_number": 109,
       "text": [
        "array([ 1.91295272,  1.52233617,  1.37382692])"
       ]
      }
     ],
     "prompt_number": 109
    },
    {
     "cell_type": "code",
     "collapsed": false,
     "input": [
      "x0"
     ],
     "language": "python",
     "metadata": {},
     "outputs": [
      {
       "metadata": {},
       "output_type": "pyout",
       "prompt_number": 122,
       "text": [
        "array([ 0.        ,  0.        ,  1.26448505,  0.        ,  0.        ,\n",
        "        1.16071484,  2.2498373 ,  0.46709332,  0.        ,  0.0745338 ])"
       ]
      }
     ],
     "prompt_number": 122
    },
    {
     "cell_type": "code",
     "collapsed": false,
     "input": [
      "n = 5\n",
      "p = 3\n",
      "amat = np.absolute(npr.normal(0,1,(n,p)))\n",
      "bt0 = np.zeros((p,1))\n",
      "bt0[:2] = 1\n",
      "mu = np.dot(amat,bt0)\n",
      "ysq = spst.ncx2.rvs(10,mu**2)\n",
      "ls = ncxlosses(10,ysq)\n",
      "bt = spo.nnls(amat,np.squeeze(np.sqrt(ysq)))[0]\n",
      "x0 = np.array(bt)\n",
      "def loss(x0):\n",
      "    yh = np.dot(amat,x0)\n",
      "    return sum(np.array([ls[i](yh[i])[0] for i in range(len(yh))]))\n",
      "res = bfgssolve(amat,ls,bt,0.0)"
     ],
     "language": "python",
     "metadata": {},
     "outputs": [],
     "prompt_number": 136
    },
    {
     "cell_type": "code",
     "collapsed": false,
     "input": [
      "res"
     ],
     "language": "python",
     "metadata": {},
     "outputs": [
      {
       "metadata": {},
       "output_type": "pyout",
       "prompt_number": 137,
       "text": [
        "(array([ 1.48059861,  0.99021978,  1.55658785]),\n",
        " 14.223414168898945,\n",
        " {'funcalls': 8,\n",
        "  'grad': array([ -1.67004136e-06,  -3.28501209e-07,  -6.84309889e-07]),\n",
        "  'nit': 6,\n",
        "  'task': 'CONVERGENCE: NORM_OF_PROJECTED_GRADIENT_<=_PGTOL',\n",
        "  'warnflag': 0})"
       ]
      }
     ],
     "prompt_number": 137
    },
    {
     "cell_type": "code",
     "collapsed": false,
     "input": [
      "gd(amat,ls,bt,20)"
     ],
     "language": "python",
     "metadata": {},
     "outputs": [
      {
       "metadata": {},
       "output_type": "pyout",
       "prompt_number": 141,
       "text": [
        "(array([ 1.47878171,  0.99154165,  1.55778628]), 14.223420933408791)"
       ]
      }
     ],
     "prompt_number": 141
    },
    {
     "cell_type": "code",
     "collapsed": false,
     "input": [],
     "language": "python",
     "metadata": {},
     "outputs": []
    }
   ],
   "metadata": {}
  }
 ]
}