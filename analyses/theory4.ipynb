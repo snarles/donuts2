{
 "metadata": {
  "name": "",
  "signature": "sha256:f8d072a5dcca6925c50bfdc451bda6602c1a1897907216cf916727fd04e85376"
 },
 "nbformat": 3,
 "nbformat_minor": 0,
 "worksheets": [
  {
   "cells": [
    {
     "cell_type": "markdown",
     "metadata": {},
     "source": [
      "Elastic basis pursuit"
     ]
    },
    {
     "cell_type": "code",
     "collapsed": false,
     "input": [
      "import os\n",
      "import numpy as np\n",
      "import scipy as sp\n",
      "import scipy.stats as spst\n",
      "import scipy.special as sps\n",
      "import numpy.random as npr\n",
      "import matplotlib.pyplot as plt\n",
      "os.chdir(\"..\")\n",
      "import donuts.deconv.splines as spl\n",
      "import donuts.deconv.ncx as ncx\n",
      "import numpy.random as npr\n",
      "import scipy.optimize as spo"
     ],
     "language": "python",
     "metadata": {},
     "outputs": [
      {
       "output_type": "stream",
       "stream": "stderr",
       "text": [
        "/usr/local/lib/python2.7/dist-packages/setuptools-7.0-py2.7.egg/pkg_resources.py:1045: UserWarning: /home/snarles/.python-eggs is writable by group/others and vulnerable to attack when used with get_resource_filename. Consider a more secure location (set with .set_extraction_path or the PYTHON_EGG_CACHE environment variable).\n",
        "  warnings.warn(msg, UserWarning)\n"
       ]
      }
     ],
     "prompt_number": 1
    },
    {
     "cell_type": "code",
     "collapsed": false,
     "input": [
      "\n",
      "reload(spl)"
     ],
     "language": "python",
     "metadata": {},
     "outputs": [
      {
       "metadata": {},
       "output_type": "pyout",
       "prompt_number": 86,
       "text": [
        "<module 'donuts.deconv.splines' from 'donuts/deconv/splines.pyc'>"
       ]
      }
     ],
     "prompt_number": 86
    },
    {
     "cell_type": "code",
     "collapsed": false,
     "input": [
      "def pruneroutine(v1,v2):\n",
      "    # finds the minimum convex combination of v1 and v2 so that exactly one element is nonpositive (zero)\n",
      "    mina = -v1/(v2-v1)\n",
      "    mina[v2 > 0] = 2\n",
      "    a = min(mina)\n",
      "    o = np.where(mina == a)[0][0]\n",
      "    return (1-a)*v1 + a*v2, o"
     ],
     "language": "python",
     "metadata": {},
     "outputs": [],
     "prompt_number": 2
    },
    {
     "cell_type": "code",
     "collapsed": false,
     "input": [
      "def ncxlosses(df,y):\n",
      "    n = len(y)\n",
      "    ans = [0.] * n\n",
      "    for ii in range(n):\n",
      "        x = y[ii]\n",
      "        mmax = np.sqrt(x)*3\n",
      "        mugrid = np.arange(0,mmax,mmax/100)\n",
      "        clos = ncx.genconvexchi2(n,x)\n",
      "        pts = np.array([clos(mu)[0] for mu in mugrid])\n",
      "        f = spl.convspline(mugrid,pts)\n",
      "        ans[ii]=f\n",
      "    return ans\n",
      "\n",
      "def gd(amat2,ls,x02,nits=1): # gradient descent\n",
      "    pp = len(x02)\n",
      "    n = len(ls)\n",
      "    def sls(x02):\n",
      "        yh = np.dot(amat2,x02)\n",
      "        ls0 = sum([ls[i](yh[i])[0] for i in range(n)])\n",
      "        rawg = np.array([ls[i](yh[i])[1] for i in range(n)])\n",
      "        g = np.dot(rawg.T,amat2)\n",
      "        return ls0,g\n",
      "    for ii in range(nits):\n",
      "        yh = np.dot(amat2,x02)\n",
      "        ls0,g = sls(x02)\n",
      "        eps = 0.1\n",
      "        flag = True\n",
      "        while flag:\n",
      "            ls1 = sls(x02 - eps*g)[0]\n",
      "            if ls1 < ls0:\n",
      "                x02 = x02-eps*g\n",
      "                ls0 = ls1\n",
      "                flag=False\n",
      "            if eps < 1e-20:\n",
      "                flag = False\n",
      "            eps = eps/2.0\n",
      "    return x02,ls0\n",
      "    \n",
      "def ebp(amat,ls,x0): # ls is a list of loss functions, x0 is initial guess\n",
      "    p = np.shape(amat)[1]\n",
      "    flag = True\n",
      "    s = np.zeros(p,dtype=bool)\n",
      "    s[np.squeeze(x0) > 1e-20] = True\n",
      "    while flag:\n",
      "        # refitting step\n",
      "        amat2 = amat[:,s]\n",
      "        x02 = np.array(x0[s])\n",
      "        #x02old = x02\n",
      "        #x02,ls0 = gd(amat2,ls,x02)\n",
      "        #x02,ls1 = gd(amat2,ls,x02)\n",
      "        #while (ls0 - ls1) > 1e-3:\n",
      "        #    ls0 = ls1\n",
      "        #    x02,ls1 = gd(amat2,ls,x02)\n",
      "        x02old = np.array(x02)\n",
      "        x02 = gd(amat2,ls,x02,20)[0]\n",
      "        # pruning step\n",
      "        if min(x02) < 0:\n",
      "            x02, o = pruneroutine(x02old,x02)\n",
      "        x0[s] = x02\n",
      "        s = np.zeros(p,dtype=bool)\n",
      "        s[np.squeeze(x0) > 1e-20] = True\n",
      "        x0[~s] = 0.0\n",
      "        # next candidate step\n",
      "        yh = np.dot(amat,x0)\n",
      "        rawg = np.array([ls[i](yh[i])[1] for i in range(n)])\n",
      "        g = np.dot(rawg.T,amat)\n",
      "        if min(g) > -1e-5:\n",
      "            flag=False\n",
      "        else:\n",
      "            ind = np.where(g==min(g))[0][0]\n",
      "            s[ind]=True\n",
      "    return x0\n",
      "\n",
      "def bfgssolve(amat,ls,x0,lb=0.0): # use LBFS-G to solve\n",
      "    def f(x0):\n",
      "        yh = np.dot(amat,x0)\n",
      "        return sum(np.array([ls[i](yh[i])[0] for i in range(len(yh))]))\n",
      "    def fprime(x0):\n",
      "        yh = np.dot(amat,x0)\n",
      "        rawg= np.array([ls[i](yh[i])[1] for i in range(len(yh))])\n",
      "        return np.dot(rawg.T,amat)\n",
      "    bounds = [(lb,100.0)] * len(x0)\n",
      "    res = spo.fmin_l_bfgs_b(f,np.squeeze(x0),fprime=fprime,bounds=bounds)\n",
      "    return res\n",
      "    \n",
      "\n",
      "    "
     ],
     "language": "python",
     "metadata": {},
     "outputs": [],
     "prompt_number": 209
    },
    {
     "cell_type": "code",
     "collapsed": false,
     "input": [
      "n = 5\n",
      "p = 10\n",
      "amat = np.absolute(npr.normal(0,1,(n,p)))\n",
      "bt0 = np.zeros((p,1))\n",
      "bt0[:2] = 1\n",
      "mu = np.dot(amat,bt0)\n",
      "ysq = spst.ncx2.rvs(10,mu**2)\n",
      "ls = ncxlosses(10,ysq)\n",
      "def loss(x0):\n",
      "    yh = np.dot(amat,x0)\n",
      "    return sum(np.array([ls[i](yh[i])[0] for i in range(len(yh))]))"
     ],
     "language": "python",
     "metadata": {},
     "outputs": [],
     "prompt_number": 205
    },
    {
     "cell_type": "code",
     "collapsed": false,
     "input": [
      "bt = spo.nnls(amat,np.squeeze(np.sqrt(ysq)))[0]\n",
      "print(loss(bt))\n",
      "res = bfgssolve(amat,ls,np.array(bt),0.0)\n",
      "res"
     ],
     "language": "python",
     "metadata": {},
     "outputs": [
      {
       "output_type": "stream",
       "stream": "stdout",
       "text": [
        "14.682812014\n"
       ]
      },
      {
       "metadata": {},
       "output_type": "pyout",
       "prompt_number": 206,
       "text": [
        "(array([ 0.        ,  2.18971105,  0.1224472 ,  1.46326038,  0.        ,\n",
        "         0.        ,  0.19954154,  0.        ,  0.        ,  0.19298657]),\n",
        " 13.411059461863102,\n",
        " {'funcalls': 43,\n",
        "  'grad': array([  7.13413878e-02,   1.21670921e-03,   9.45326056e-02,\n",
        "          -2.47950684e-03,   3.48257321e-02,   3.66163816e-02,\n",
        "           7.58255792e-04,   3.00103798e-02,  -7.67452826e-05,\n",
        "           1.96560563e-02]),\n",
        "  'nit': 35,\n",
        "  'task': 'CONVERGENCE: REL_REDUCTION_OF_F_<=_FACTR*EPSMCH',\n",
        "  'warnflag': 0})"
       ]
      }
     ],
     "prompt_number": 206
    },
    {
     "cell_type": "code",
     "collapsed": false,
     "input": [
      "reporter = [5]"
     ],
     "language": "python",
     "metadata": {},
     "outputs": [],
     "prompt_number": 208
    },
    {
     "cell_type": "code",
     "collapsed": false,
     "input": [
      "x0 = ebp(amat,ls,np.array(bt))\n",
      "[x0,loss(x0)]"
     ],
     "language": "python",
     "metadata": {},
     "outputs": [
      {
       "ename": "KeyboardInterrupt",
       "evalue": "",
       "output_type": "pyerr",
       "traceback": [
        "\u001b[1;31m---------------------------------------------------------------------------\u001b[0m\n\u001b[1;31mKeyboardInterrupt\u001b[0m                         Traceback (most recent call last)",
        "\u001b[1;32m<ipython-input-210-ac59aad75d61>\u001b[0m in \u001b[0;36m<module>\u001b[1;34m()\u001b[0m\n\u001b[1;32m----> 1\u001b[1;33m \u001b[0mx0\u001b[0m \u001b[1;33m=\u001b[0m \u001b[0mebp\u001b[0m\u001b[1;33m(\u001b[0m\u001b[0mamat\u001b[0m\u001b[1;33m,\u001b[0m\u001b[0mls\u001b[0m\u001b[1;33m,\u001b[0m\u001b[0mnp\u001b[0m\u001b[1;33m.\u001b[0m\u001b[0marray\u001b[0m\u001b[1;33m(\u001b[0m\u001b[0mbt\u001b[0m\u001b[1;33m)\u001b[0m\u001b[1;33m)\u001b[0m\u001b[1;33m\u001b[0m\u001b[0m\n\u001b[0m\u001b[0;32m      2\u001b[0m \u001b[1;33m[\u001b[0m\u001b[0mx0\u001b[0m\u001b[1;33m,\u001b[0m\u001b[0mloss\u001b[0m\u001b[1;33m(\u001b[0m\u001b[0mx0\u001b[0m\u001b[1;33m)\u001b[0m\u001b[1;33m]\u001b[0m\u001b[1;33m\u001b[0m\u001b[0m\n",
        "\u001b[1;32m<ipython-input-209-fc6156469c48>\u001b[0m in \u001b[0;36mebp\u001b[1;34m(amat, ls, x0)\u001b[0m\n\u001b[0;32m     53\u001b[0m         \u001b[1;31m#    x02,ls1 = gd(amat2,ls,x02)\u001b[0m\u001b[1;33m\u001b[0m\u001b[1;33m\u001b[0m\u001b[0m\n\u001b[0;32m     54\u001b[0m         \u001b[0mx02old\u001b[0m \u001b[1;33m=\u001b[0m \u001b[0mnp\u001b[0m\u001b[1;33m.\u001b[0m\u001b[0marray\u001b[0m\u001b[1;33m(\u001b[0m\u001b[0mx02\u001b[0m\u001b[1;33m)\u001b[0m\u001b[1;33m\u001b[0m\u001b[0m\n\u001b[1;32m---> 55\u001b[1;33m         \u001b[0mx02\u001b[0m \u001b[1;33m=\u001b[0m \u001b[0mgd\u001b[0m\u001b[1;33m(\u001b[0m\u001b[0mamat2\u001b[0m\u001b[1;33m,\u001b[0m\u001b[0mls\u001b[0m\u001b[1;33m,\u001b[0m\u001b[0mx02\u001b[0m\u001b[1;33m,\u001b[0m\u001b[1;36m20\u001b[0m\u001b[1;33m)\u001b[0m\u001b[1;33m[\u001b[0m\u001b[1;36m0\u001b[0m\u001b[1;33m]\u001b[0m\u001b[1;33m\u001b[0m\u001b[0m\n\u001b[0m\u001b[0;32m     56\u001b[0m         \u001b[1;31m# pruning step\u001b[0m\u001b[1;33m\u001b[0m\u001b[1;33m\u001b[0m\u001b[0m\n\u001b[0;32m     57\u001b[0m         \u001b[1;32mif\u001b[0m \u001b[0mmin\u001b[0m\u001b[1;33m(\u001b[0m\u001b[0mx02\u001b[0m\u001b[1;33m)\u001b[0m \u001b[1;33m<\u001b[0m \u001b[1;36m0\u001b[0m\u001b[1;33m:\u001b[0m\u001b[1;33m\u001b[0m\u001b[0m\n",
        "\u001b[1;32m<ipython-input-209-fc6156469c48>\u001b[0m in \u001b[0;36mgd\u001b[1;34m(amat2, ls, x02, nits)\u001b[0m\n\u001b[0;32m     27\u001b[0m         \u001b[0mflag\u001b[0m \u001b[1;33m=\u001b[0m \u001b[0mTrue\u001b[0m\u001b[1;33m\u001b[0m\u001b[0m\n\u001b[0;32m     28\u001b[0m         \u001b[1;32mwhile\u001b[0m \u001b[0mflag\u001b[0m\u001b[1;33m:\u001b[0m\u001b[1;33m\u001b[0m\u001b[0m\n\u001b[1;32m---> 29\u001b[1;33m             \u001b[0mls1\u001b[0m \u001b[1;33m=\u001b[0m \u001b[0msls\u001b[0m\u001b[1;33m(\u001b[0m\u001b[0mx02\u001b[0m \u001b[1;33m-\u001b[0m \u001b[0meps\u001b[0m\u001b[1;33m*\u001b[0m\u001b[0mg\u001b[0m\u001b[1;33m)\u001b[0m\u001b[1;33m[\u001b[0m\u001b[1;36m0\u001b[0m\u001b[1;33m]\u001b[0m\u001b[1;33m\u001b[0m\u001b[0m\n\u001b[0m\u001b[0;32m     30\u001b[0m             \u001b[1;32mif\u001b[0m \u001b[0mls1\u001b[0m \u001b[1;33m<\u001b[0m \u001b[0mls0\u001b[0m\u001b[1;33m:\u001b[0m\u001b[1;33m\u001b[0m\u001b[0m\n\u001b[0;32m     31\u001b[0m                 \u001b[0mx02\u001b[0m \u001b[1;33m=\u001b[0m \u001b[0mx02\u001b[0m\u001b[1;33m-\u001b[0m\u001b[0meps\u001b[0m\u001b[1;33m*\u001b[0m\u001b[0mg\u001b[0m\u001b[1;33m\u001b[0m\u001b[0m\n",
        "\u001b[1;32m<ipython-input-209-fc6156469c48>\u001b[0m in \u001b[0;36msls\u001b[1;34m(x02)\u001b[0m\n\u001b[0;32m     17\u001b[0m     \u001b[1;32mdef\u001b[0m \u001b[0msls\u001b[0m\u001b[1;33m(\u001b[0m\u001b[0mx02\u001b[0m\u001b[1;33m)\u001b[0m\u001b[1;33m:\u001b[0m\u001b[1;33m\u001b[0m\u001b[0m\n\u001b[0;32m     18\u001b[0m         \u001b[0myh\u001b[0m \u001b[1;33m=\u001b[0m \u001b[0mnp\u001b[0m\u001b[1;33m.\u001b[0m\u001b[0mdot\u001b[0m\u001b[1;33m(\u001b[0m\u001b[0mamat2\u001b[0m\u001b[1;33m,\u001b[0m\u001b[0mx02\u001b[0m\u001b[1;33m)\u001b[0m\u001b[1;33m\u001b[0m\u001b[0m\n\u001b[1;32m---> 19\u001b[1;33m         \u001b[0mls0\u001b[0m \u001b[1;33m=\u001b[0m \u001b[0msum\u001b[0m\u001b[1;33m(\u001b[0m\u001b[1;33m[\u001b[0m\u001b[0mls\u001b[0m\u001b[1;33m[\u001b[0m\u001b[0mi\u001b[0m\u001b[1;33m]\u001b[0m\u001b[1;33m(\u001b[0m\u001b[0myh\u001b[0m\u001b[1;33m[\u001b[0m\u001b[0mi\u001b[0m\u001b[1;33m]\u001b[0m\u001b[1;33m)\u001b[0m\u001b[1;33m[\u001b[0m\u001b[1;36m0\u001b[0m\u001b[1;33m]\u001b[0m \u001b[1;32mfor\u001b[0m \u001b[0mi\u001b[0m \u001b[1;32min\u001b[0m \u001b[0mrange\u001b[0m\u001b[1;33m(\u001b[0m\u001b[0mn\u001b[0m\u001b[1;33m)\u001b[0m\u001b[1;33m]\u001b[0m\u001b[1;33m)\u001b[0m\u001b[1;33m\u001b[0m\u001b[0m\n\u001b[0m\u001b[0;32m     20\u001b[0m         \u001b[0mrawg\u001b[0m \u001b[1;33m=\u001b[0m \u001b[0mnp\u001b[0m\u001b[1;33m.\u001b[0m\u001b[0marray\u001b[0m\u001b[1;33m(\u001b[0m\u001b[1;33m[\u001b[0m\u001b[0mls\u001b[0m\u001b[1;33m[\u001b[0m\u001b[0mi\u001b[0m\u001b[1;33m]\u001b[0m\u001b[1;33m(\u001b[0m\u001b[0myh\u001b[0m\u001b[1;33m[\u001b[0m\u001b[0mi\u001b[0m\u001b[1;33m]\u001b[0m\u001b[1;33m)\u001b[0m\u001b[1;33m[\u001b[0m\u001b[1;36m1\u001b[0m\u001b[1;33m]\u001b[0m \u001b[1;32mfor\u001b[0m \u001b[0mi\u001b[0m \u001b[1;32min\u001b[0m \u001b[0mrange\u001b[0m\u001b[1;33m(\u001b[0m\u001b[0mn\u001b[0m\u001b[1;33m)\u001b[0m\u001b[1;33m]\u001b[0m\u001b[1;33m)\u001b[0m\u001b[1;33m\u001b[0m\u001b[0m\n\u001b[0;32m     21\u001b[0m         \u001b[0mg\u001b[0m \u001b[1;33m=\u001b[0m \u001b[0mnp\u001b[0m\u001b[1;33m.\u001b[0m\u001b[0mdot\u001b[0m\u001b[1;33m(\u001b[0m\u001b[0mrawg\u001b[0m\u001b[1;33m.\u001b[0m\u001b[0mT\u001b[0m\u001b[1;33m,\u001b[0m\u001b[0mamat2\u001b[0m\u001b[1;33m)\u001b[0m\u001b[1;33m\u001b[0m\u001b[0m\n",
        "\u001b[1;32m/home/snarles/github/donuts/donuts/deconv/splines.pyc\u001b[0m in \u001b[0;36mf\u001b[1;34m(x)\u001b[0m\n\u001b[0;32m     49\u001b[0m             \u001b[1;32mif\u001b[0m \u001b[1;33m(\u001b[0m\u001b[0mh\u001b[0m\u001b[1;33m+\u001b[0m\u001b[0mj\u001b[0m\u001b[1;33m)\u001b[0m \u001b[1;33m>=\u001b[0m\u001b[1;36m0\u001b[0m \u001b[1;32mand\u001b[0m \u001b[1;33m(\u001b[0m\u001b[0mh\u001b[0m\u001b[1;33m+\u001b[0m\u001b[0mj\u001b[0m\u001b[1;33m)\u001b[0m \u001b[1;33m<\u001b[0m \u001b[0mlen\u001b[0m\u001b[1;33m(\u001b[0m\u001b[0mbt\u001b[0m\u001b[1;33m)\u001b[0m\u001b[1;33m:\u001b[0m\u001b[1;33m\u001b[0m\u001b[0m\n\u001b[0;32m     50\u001b[0m                 \u001b[0mcf\u001b[0m \u001b[1;33m=\u001b[0m \u001b[0mbt\u001b[0m\u001b[1;33m[\u001b[0m\u001b[0mh\u001b[0m\u001b[1;33m+\u001b[0m\u001b[0mj\u001b[0m\u001b[1;33m]\u001b[0m\u001b[1;33m\u001b[0m\u001b[0m\n\u001b[1;32m---> 51\u001b[1;33m                 \u001b[0me0\u001b[0m\u001b[1;33m,\u001b[0m\u001b[0me1\u001b[0m\u001b[1;33m,\u001b[0m\u001b[0me2\u001b[0m \u001b[1;33m=\u001b[0m \u001b[0mbs4d\u001b[0m\u001b[1;33m(\u001b[0m\u001b[0mzr\u001b[0m\u001b[1;33m-\u001b[0m\u001b[0mj\u001b[0m\u001b[1;33m)\u001b[0m\u001b[1;33m\u001b[0m\u001b[0m\n\u001b[0m\u001b[0;32m     52\u001b[0m                 \u001b[0mval0\u001b[0m \u001b[1;33m+=\u001b[0m \u001b[0mcf\u001b[0m\u001b[1;33m*\u001b[0m\u001b[0me0\u001b[0m\u001b[1;33m\u001b[0m\u001b[0m\n\u001b[0;32m     53\u001b[0m                 \u001b[0mval1\u001b[0m \u001b[1;33m+=\u001b[0m \u001b[0mcf\u001b[0m\u001b[1;33m*\u001b[0m\u001b[0me1\u001b[0m\u001b[1;33m\u001b[0m\u001b[0m\n",
        "\u001b[1;32m/home/snarles/github/donuts/donuts/deconv/splines.pyc\u001b[0m in \u001b[0;36mbs4d\u001b[1;34m(z)\u001b[0m\n\u001b[0;32m     27\u001b[0m     \u001b[0md4\u001b[0m \u001b[1;33m=\u001b[0m \u001b[1;33m-\u001b[0m\u001b[1;36m3\u001b[0m\u001b[1;33m*\u001b[0m\u001b[1;33m(\u001b[0m\u001b[0mz\u001b[0m\u001b[1;33m-\u001b[0m\u001b[1;36m4\u001b[0m\u001b[1;33m)\u001b[0m\u001b[1;33m**\u001b[0m\u001b[1;36m2\u001b[0m\u001b[1;33m\u001b[0m\u001b[0m\n\u001b[0;32m     28\u001b[0m     \u001b[0me4\u001b[0m \u001b[1;33m=\u001b[0m \u001b[1;33m-\u001b[0m\u001b[1;36m6\u001b[0m\u001b[1;33m*\u001b[0m\u001b[1;33m(\u001b[0m\u001b[0mz\u001b[0m\u001b[1;33m-\u001b[0m\u001b[1;36m4\u001b[0m\u001b[1;33m)\u001b[0m\u001b[1;33m\u001b[0m\u001b[0m\n\u001b[1;32m---> 29\u001b[1;33m     \u001b[0mval0\u001b[0m\u001b[1;33m=\u001b[0m \u001b[0mi1\u001b[0m\u001b[1;33m*\u001b[0m\u001b[0mc1\u001b[0m\u001b[1;33m+\u001b[0m\u001b[0mi2\u001b[0m\u001b[1;33m*\u001b[0m\u001b[0mc2\u001b[0m\u001b[1;33m+\u001b[0m\u001b[0mi3\u001b[0m\u001b[1;33m*\u001b[0m\u001b[0mc3\u001b[0m\u001b[1;33m+\u001b[0m\u001b[0mi4\u001b[0m\u001b[1;33m*\u001b[0m\u001b[0mc4\u001b[0m\u001b[1;33m\u001b[0m\u001b[0m\n\u001b[0m\u001b[0;32m     30\u001b[0m     \u001b[0mval1\u001b[0m\u001b[1;33m=\u001b[0m \u001b[0mi1\u001b[0m\u001b[1;33m*\u001b[0m\u001b[0md1\u001b[0m\u001b[1;33m+\u001b[0m\u001b[0mi2\u001b[0m\u001b[1;33m*\u001b[0m\u001b[0md2\u001b[0m\u001b[1;33m+\u001b[0m\u001b[0mi3\u001b[0m\u001b[1;33m*\u001b[0m\u001b[0md3\u001b[0m\u001b[1;33m+\u001b[0m\u001b[0mi4\u001b[0m\u001b[1;33m*\u001b[0m\u001b[0md4\u001b[0m\u001b[1;33m\u001b[0m\u001b[0m\n\u001b[0;32m     31\u001b[0m     \u001b[0mval2\u001b[0m\u001b[1;33m=\u001b[0m \u001b[0mi1\u001b[0m\u001b[1;33m*\u001b[0m\u001b[0me1\u001b[0m\u001b[1;33m+\u001b[0m\u001b[0mi2\u001b[0m\u001b[1;33m*\u001b[0m\u001b[0me2\u001b[0m\u001b[1;33m+\u001b[0m\u001b[0mi3\u001b[0m\u001b[1;33m*\u001b[0m\u001b[0me3\u001b[0m\u001b[1;33m+\u001b[0m\u001b[0mi4\u001b[0m\u001b[1;33m*\u001b[0m\u001b[0me4\u001b[0m\u001b[1;33m\u001b[0m\u001b[0m\n",
        "\u001b[1;31mKeyboardInterrupt\u001b[0m: "
       ]
      }
     ],
     "prompt_number": 210
    },
    {
     "cell_type": "code",
     "collapsed": false,
     "input": [
      "reporter"
     ],
     "language": "python",
     "metadata": {},
     "outputs": [
      {
       "metadata": {},
       "output_type": "pyout",
       "prompt_number": 211,
       "text": [
        "[-0.0041713700590528214]"
       ]
      }
     ],
     "prompt_number": 211
    },
    {
     "cell_type": "code",
     "collapsed": false,
     "input": [
      "x0 = np.array(bt)\n",
      "p = np.shape(amat)[1]\n",
      "flag = True\n",
      "s = np.zeros(p,dtype=bool)\n",
      "s[np.squeeze(x0) > 1e-20] = True\n",
      "x0seq = [np.array(x0)]"
     ],
     "language": "python",
     "metadata": {},
     "outputs": [],
     "prompt_number": 212
    },
    {
     "cell_type": "code",
     "collapsed": false,
     "input": [
      "amat2 = amat[:,s]\n",
      "x02 = np.array(x0[s])\n",
      "#x02old = x02\n",
      "#x02,ls0 = gd(amat2,ls,x02)\n",
      "#x02,ls1 = gd(amat2,ls,x02)\n",
      "#while (ls0 - ls1) > 1e-3:\n",
      "#    ls0 = ls1\n",
      "#    x02,ls1 = gd(amat2,ls,x02)\n",
      "x02old = np.array(x02)\n",
      "x02 = gd(amat2,ls,x02,20)[0]\n",
      "# pruning step\n",
      "if min(x02) < 0:\n",
      "    x02, o = pruneroutine(x02old,x02)\n",
      "x0[s] = x02\n",
      "s = np.zeros(p,dtype=bool)\n",
      "s[np.squeeze(x0) > 1e-20] = True\n",
      "x0[~s] = 0.0\n",
      "# next candidate step\n",
      "yh = np.dot(amat,x0)\n",
      "rawg = np.array([ls[i](yh[i])[1] for i in range(n)])\n",
      "g = np.dot(rawg.T,amat)\n",
      "if min(g) > -1e-5:\n",
      "    flag=False\n",
      "else:\n",
      "    ind = np.where(g==min(g))[0][0]\n",
      "    s[ind]=True\n",
      "x0seq = x0seq + [np.array(x0)]\n",
      "[loss(x0),min(g)]"
     ],
     "language": "python",
     "metadata": {},
     "outputs": [
      {
       "metadata": {},
       "output_type": "pyout",
       "prompt_number": 248,
       "text": [
        "[13.415265990290063, -0.004139730773823745]"
       ]
      }
     ],
     "prompt_number": 248
    },
    {
     "cell_type": "code",
     "collapsed": false,
     "input": [
      "[13.415306944768647, -0.0051969849982899143]"
     ],
     "language": "python",
     "metadata": {},
     "outputs": []
    },
    {
     "cell_type": "code",
     "collapsed": false,
     "input": [
      "x0seq"
     ],
     "language": "python",
     "metadata": {},
     "outputs": [
      {
       "metadata": {},
       "output_type": "pyout",
       "prompt_number": 245,
       "text": [
        "[array([ 1.41998223,  1.72365872,  0.        ,  0.        ,  0.53438818,\n",
        "         1.57003076,  0.26824449,  0.        ,  0.        ,  0.        ]),\n",
        " array([ 0.80516192,  1.82208437,  0.        ,  0.        ,  0.17032513,\n",
        "         1.00212187,  0.50965594,  0.        ,  0.        ,  0.        ]),\n",
        " array([  6.60306229e-01,   1.91363654e+00,   0.00000000e+00,\n",
        "          0.00000000e+00,   1.73472348e-18,   7.75516833e-01,\n",
        "          6.84718374e-01,   0.00000000e+00,   0.00000000e+00,\n",
        "          0.00000000e+00]),\n",
        " array([  6.60306229e-01,   1.91363654e+00,   0.00000000e+00,\n",
        "          0.00000000e+00,   0.00000000e+00,   7.75516833e-01,\n",
        "          6.84718374e-01,   0.00000000e+00,   0.00000000e+00,\n",
        "          1.56584324e-18]),\n",
        " array([ 0.46061314,  1.96042997,  0.        ,  0.        ,  0.        ,\n",
        "         0.61295692,  0.76191144,  0.        ,  0.        ,  0.12041759]),\n",
        " array([ 0.27655719,  1.99325472,  0.        ,  0.        ,  0.        ,\n",
        "         0.49570295,  0.8182561 ,  0.        ,  0.06254708,  0.1905992 ]),\n",
        " array([ 0.12638143,  2.01472207,  0.        ,  0.        ,  0.        ,\n",
        "         0.40652785,  0.86364519,  0.        ,  0.10626235,  0.25318492]),\n",
        " array([ 0.00221631,  2.03248869,  0.        ,  0.        ,  0.        ,\n",
        "         0.33481141,  0.90007236,  0.        ,  0.14200837,  0.30519808]),\n",
        " array([ 0.        ,  2.03281665,  0.        ,  0.        ,  0.        ,\n",
        "         0.33357614,  0.9006943 ,  0.        ,  0.14264997,  0.30612937]),\n",
        " array([ 0.        ,  2.03032903,  0.        ,  0.        ,  0.        ,\n",
        "         0.29639208,  0.92157875,  0.        ,  0.13564036,  0.30988847]),\n",
        " array([ 0.        ,  2.02758524,  0.        ,  0.01396413,  0.        ,\n",
        "         0.27380682,  0.9293028 ,  0.        ,  0.1240678 ,  0.31029576]),\n",
        " array([ 0.        ,  2.02872656,  0.        ,  0.02487049,  0.        ,\n",
        "         0.25942337,  0.93194925,  0.        ,  0.11521313,  0.31106173]),\n",
        " array([ 0.        ,  2.03218419,  0.        ,  0.03408911,  0.        ,\n",
        "         0.25006877,  0.93180997,  0.        ,  0.10788211,  0.31183345]),\n",
        " array([ 0.        ,  2.03701754,  0.        ,  0.0422999 ,  0.        ,\n",
        "         0.24371855,  0.93001352,  0.        ,  0.10145957,  0.31261917]),\n",
        " array([ 0.        ,  2.04267074,  0.        ,  0.04990347,  0.        ,\n",
        "         0.23917164,  0.92722535,  0.        ,  0.09558219,  0.31341629]),\n",
        " array([ 0.        ,  2.04881313,  0.        ,  0.05713876,  0.        ,\n",
        "         0.23571052,  0.92384259,  0.        ,  0.09003428,  0.31422104]),\n",
        " array([ 0.        ,  2.05524685,  0.        ,  0.06414906,  0.        ,\n",
        "         0.2329046 ,  0.92010349,  0.        ,  0.08468695,  0.31503043]),\n",
        " array([ 0.        ,  2.061853  ,  0.        ,  0.07102061,  0.        ,\n",
        "         0.23049467,  0.91615147,  0.        ,  0.07946282,  0.31584233]),\n",
        " array([ 0.        ,  2.06785099,  0.00213101,  0.07736974,  0.        ,\n",
        "         0.22703633,  0.91261308,  0.        ,  0.07455094,  0.31480996]),\n",
        " array([ 0.        ,  2.07359893,  0.0031876 ,  0.08398848,  0.        ,\n",
        "         0.22318625,  0.90951563,  0.        ,  0.06955245,  0.31440475]),\n",
        " array([ 0.        ,  2.07921023,  0.00406905,  0.09059199,  0.        ,\n",
        "         0.21927977,  0.90638967,  0.        ,  0.06443245,  0.31406762]),\n",
        " array([ 0.        ,  2.08482093,  0.00526714,  0.09723035,  0.        ,\n",
        "         0.21562261,  0.90373368,  0.        ,  0.0596509 ,  0.3141266 ]),\n",
        " array([ 0.        ,  2.09043053,  0.00619095,  0.10386649,  0.        ,\n",
        "         0.21174504,  0.90069371,  0.        ,  0.05456216,  0.31388844]),\n",
        " array([ 0.        ,  2.09599456,  0.00703371,  0.11044812,  0.        ,\n",
        "         0.20783975,  0.89757515,  0.        ,  0.04943236,  0.31357199]),\n",
        " array([ 0.        ,  2.10159138,  0.00824271,  0.11707686,  0.        ,\n",
        "         0.20420152,  0.89495006,  0.        ,  0.0446746 ,  0.31365609]),\n",
        " array([ 0.        ,  2.10717779,  0.00915585,  0.12368674,  0.        ,\n",
        "         0.20033419,  0.89191383,  0.        ,  0.03959847,  0.31341321]),\n",
        " array([ 0.        ,  2.11271643,  0.00998263,  0.13023835,  0.        ,\n",
        "         0.19643692,  0.88879243,  0.        ,  0.03447834,  0.31308504]),\n",
        " array([ 0.        ,  2.1183037 ,  0.01120707,  0.13685624,  0.        ,\n",
        "         0.19281893,  0.8861966 ,  0.        ,  0.02974807,  0.31318852]),\n",
        " array([ 0.        ,  2.1238678 ,  0.01211026,  0.14343963,  0.        ,\n",
        "         0.18896197,  0.8831635 ,  0.        ,  0.02468509,  0.31293958]),\n",
        " array([ 0.        ,  2.12938111,  0.01292076,  0.14996102,  0.        ,\n",
        "         0.18507248,  0.88003866,  0.        ,  0.0195744 ,  0.31259899]),\n",
        " array([ 0.        ,  2.13495918,  0.0141611 ,  0.15656843,  0.        ,\n",
        "         0.18147484,  0.87747247,  0.        ,  0.01487186,  0.31272225]),\n",
        " array([ 0.        ,  2.14050049,  0.01505317,  0.16312467,  0.        ,\n",
        "         0.17762768,  0.87444118,  0.        ,  0.00982125,  0.31246598]),\n",
        " array([ 0.        ,  2.14600616,  0.0161674 ,  0.16964386,  0.        ,\n",
        "         0.17398844,  0.87175256,  0.        ,  0.00505727,  0.3124652 ])]"
       ]
      }
     ],
     "prompt_number": 245
    },
    {
     "cell_type": "code",
     "collapsed": false,
     "input": [
      "x02"
     ],
     "language": "python",
     "metadata": {},
     "outputs": [
      {
       "metadata": {},
       "output_type": "pyout",
       "prompt_number": 130,
       "text": [
        "array([ 1.02209522,  0.98257249,  2.16381201,  0.47245812])"
       ]
      }
     ],
     "prompt_number": 130
    },
    {
     "cell_type": "code",
     "collapsed": false,
     "input": [
      "pruneroutine(x02old,x02)"
     ],
     "language": "python",
     "metadata": {},
     "outputs": [
      {
       "metadata": {},
       "output_type": "pyout",
       "prompt_number": 131,
       "text": [
        "(array([ 1.01623394,  0.97027142,  2.15458253,  0.47730043]), 0)"
       ]
      }
     ],
     "prompt_number": 131
    },
    {
     "cell_type": "code",
     "collapsed": false,
     "input": [
      "amat2"
     ],
     "language": "python",
     "metadata": {},
     "outputs": [
      {
       "metadata": {},
       "output_type": "pyout",
       "prompt_number": 77,
       "text": [
        "array([[ 0.78704991,  0.72717056,  0.34022448],\n",
        "       [ 0.57777142,  0.66648198,  0.58797243],\n",
        "       [ 0.95991539,  0.03975101,  0.27871945],\n",
        "       [ 1.2130095 ,  1.02209947,  0.21570625],\n",
        "       [ 0.34107076,  0.596097  ,  1.29039437]])"
       ]
      }
     ],
     "prompt_number": 77
    },
    {
     "cell_type": "code",
     "collapsed": false,
     "input": [
      "amat2 = amat[:,s]\n",
      "x02 = x0[s]\n",
      "x02old = x02\n",
      "x02,ls0 = gd(amat2,ls,x02)\n",
      "x02,ls1 = gd(amat2,ls,x02)\n",
      "while (ls0 - ls1) > 1e-3:\n",
      "    ls0 = ls1\n",
      "    x02,ls1 = gd(amat2,ls,x02)"
     ],
     "language": "python",
     "metadata": {},
     "outputs": [],
     "prompt_number": 236
    },
    {
     "cell_type": "code",
     "collapsed": false,
     "input": [
      "x0seq"
     ],
     "language": "python",
     "metadata": {},
     "outputs": [
      {
       "metadata": {},
       "output_type": "pyout",
       "prompt_number": 52,
       "text": [
        "[array([ 2.89851685,  0.42807301,  0.        ,  1.24165962,  0.        ,\n",
        "         0.16532922,  0.        ,  0.        ,  0.        ,  0.        ]),\n",
        " array([  2.78929675e+00,   3.60419061e-01,   0.00000000e+00,\n",
        "          1.27441727e+00,   0.00000000e+00,   2.77555756e-17,\n",
        "          0.00000000e+00,   0.00000000e+00,   0.00000000e+00,\n",
        "          0.00000000e+00]),\n",
        " array([ 2.78929675,  0.36041906,  0.        ,  1.27441727,  0.        ,\n",
        "         0.        ,  0.        ,  0.        ,  0.        ,  0.        ])]"
       ]
      }
     ],
     "prompt_number": 52
    },
    {
     "cell_type": "code",
     "collapsed": false,
     "input": [
      "bt"
     ],
     "language": "python",
     "metadata": {},
     "outputs": [
      {
       "metadata": {},
       "output_type": "pyout",
       "prompt_number": 47,
       "text": [
        "array([ 2.89851685,  0.42807301,  0.        ,  1.24165962,  0.        ,\n",
        "        0.16532922,  0.        ,  0.        ,  0.        ,  0.        ])"
       ]
      }
     ],
     "prompt_number": 47
    },
    {
     "cell_type": "code",
     "collapsed": false,
     "input": [
      "x0"
     ],
     "language": "python",
     "metadata": {},
     "outputs": [
      {
       "metadata": {},
       "output_type": "pyout",
       "prompt_number": 48,
       "text": [
        "array([  2.78929675e+00,   3.60419061e-01,   0.00000000e+00,\n",
        "         1.27441727e+00,   0.00000000e+00,   2.77555756e-17,\n",
        "         0.00000000e+00,   0.00000000e+00,   0.00000000e+00,\n",
        "         0.00000000e+00])"
       ]
      }
     ],
     "prompt_number": 48
    },
    {
     "cell_type": "code",
     "collapsed": false,
     "input": [
      "mugrid=np.arange(0,3,.1)\n",
      "mkmk = [ls[0](x)[0] for x in mugrid]\n",
      "plt.scatter(mugrid,mkmk)\n",
      "plt.show()"
     ],
     "language": "python",
     "metadata": {},
     "outputs": [],
     "prompt_number": 95
    },
    {
     "cell_type": "code",
     "collapsed": false,
     "input": [
      "x0 = bt\n",
      "def f(x0):\n",
      "    yh = np.dot(amat,x0)\n",
      "    return sum(np.array([ls[i](yh[i])[0] for i in range(len(yh))]))\n",
      "def fprime(x0):\n",
      "    yh = np.dot(amat,x0)\n",
      "    rawg= np.array([ls[i](yh[i])[1] for i in range(len(yh))])\n",
      "    return np.dot(rawg.T,amat)\n",
      "bounds = [(0.0,100.0)] * len(x0)\n",
      "res = spo.fmin_l_bfgs_b(f,np.squeeze(x0),fprime=fprime,bounds=bounds)\n"
     ],
     "language": "python",
     "metadata": {},
     "outputs": [],
     "prompt_number": 120
    },
    {
     "cell_type": "code",
     "collapsed": false,
     "input": [
      "res"
     ],
     "language": "python",
     "metadata": {},
     "outputs": [
      {
       "metadata": {},
       "output_type": "pyout",
       "prompt_number": 121,
       "text": [
        "(array([ 2.0186227 ,  0.        ,  0.        ,  0.        ,  0.        ,\n",
        "         0.61353646,  3.08337257,  0.16916887,  0.        ,  0.        ]),\n",
        " 14.400339341247355,\n",
        " {'funcalls': 32,\n",
        "  'grad': array([  2.03732614e-05,   5.04307039e-02,   7.85928734e-03,\n",
        "           3.29657294e-02,   3.78908633e-02,   2.39820571e-05,\n",
        "          -9.32518397e-06,   1.63477234e-05,   4.22533748e-02,\n",
        "           1.17631994e-02]),\n",
        "  'nit': 28,\n",
        "  'task': 'CONVERGENCE: REL_REDUCTION_OF_F_<=_FACTR*EPSMCH',\n",
        "  'warnflag': 0})"
       ]
      }
     ],
     "prompt_number": 121
    },
    {
     "cell_type": "code",
     "collapsed": false,
     "input": [
      "len(x0)"
     ],
     "language": "python",
     "metadata": {},
     "outputs": [
      {
       "metadata": {},
       "output_type": "pyout",
       "prompt_number": 101,
       "text": [
        "10"
       ]
      }
     ],
     "prompt_number": 101
    },
    {
     "cell_type": "code",
     "collapsed": false,
     "input": [
      "x0 = bt\n",
      "fprime(x0)"
     ],
     "language": "python",
     "metadata": {},
     "outputs": [
      {
       "metadata": {},
       "output_type": "pyout",
       "prompt_number": 109,
       "text": [
        "array([ 1.91295272,  1.52233617,  1.37382692])"
       ]
      }
     ],
     "prompt_number": 109
    },
    {
     "cell_type": "code",
     "collapsed": false,
     "input": [
      "x0"
     ],
     "language": "python",
     "metadata": {},
     "outputs": [
      {
       "metadata": {},
       "output_type": "pyout",
       "prompt_number": 122,
       "text": [
        "array([ 0.        ,  0.        ,  1.26448505,  0.        ,  0.        ,\n",
        "        1.16071484,  2.2498373 ,  0.46709332,  0.        ,  0.0745338 ])"
       ]
      }
     ],
     "prompt_number": 122
    },
    {
     "cell_type": "code",
     "collapsed": false,
     "input": [
      "n = 5\n",
      "p = 3\n",
      "amat = np.absolute(npr.normal(0,1,(n,p)))\n",
      "bt0 = np.zeros((p,1))\n",
      "bt0[:2] = 1\n",
      "mu = np.dot(amat,bt0)\n",
      "ysq = spst.ncx2.rvs(10,mu**2)\n",
      "ls = ncxlosses(10,ysq)\n",
      "bt = spo.nnls(amat,np.squeeze(np.sqrt(ysq)))[0]\n",
      "x0 = np.array(bt)\n",
      "def loss(x0):\n",
      "    yh = np.dot(amat,x0)\n",
      "    return sum(np.array([ls[i](yh[i])[0] for i in range(len(yh))]))\n",
      "res = bfgssolve(amat,ls,bt,0.0)"
     ],
     "language": "python",
     "metadata": {},
     "outputs": [],
     "prompt_number": 136
    },
    {
     "cell_type": "code",
     "collapsed": false,
     "input": [
      "res"
     ],
     "language": "python",
     "metadata": {},
     "outputs": [
      {
       "metadata": {},
       "output_type": "pyout",
       "prompt_number": 137,
       "text": [
        "(array([ 1.48059861,  0.99021978,  1.55658785]),\n",
        " 14.223414168898945,\n",
        " {'funcalls': 8,\n",
        "  'grad': array([ -1.67004136e-06,  -3.28501209e-07,  -6.84309889e-07]),\n",
        "  'nit': 6,\n",
        "  'task': 'CONVERGENCE: NORM_OF_PROJECTED_GRADIENT_<=_PGTOL',\n",
        "  'warnflag': 0})"
       ]
      }
     ],
     "prompt_number": 137
    },
    {
     "cell_type": "code",
     "collapsed": false,
     "input": [
      "gd(amat,ls,bt,20)"
     ],
     "language": "python",
     "metadata": {},
     "outputs": [
      {
       "metadata": {},
       "output_type": "pyout",
       "prompt_number": 141,
       "text": [
        "(array([ 1.47878171,  0.99154165,  1.55778628]), 14.223420933408791)"
       ]
      }
     ],
     "prompt_number": 141
    },
    {
     "cell_type": "code",
     "collapsed": false,
     "input": [],
     "language": "python",
     "metadata": {},
     "outputs": []
    }
   ],
   "metadata": {}
  }
 ]
}