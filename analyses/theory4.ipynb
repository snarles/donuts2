{
 "metadata": {
  "name": "",
  "signature": "sha256:e8e22014d21d6a6b6d041e2674419749ccf18f1f7f85a7e622310874af140612"
 },
 "nbformat": 3,
 "nbformat_minor": 0,
 "worksheets": [
  {
   "cells": [
    {
     "cell_type": "markdown",
     "metadata": {},
     "source": [
      "Elastic basis pursuit"
     ]
    },
    {
     "cell_type": "code",
     "collapsed": false,
     "input": [
      "import os\n",
      "import numpy as np\n",
      "import scipy as sp\n",
      "import scipy.stats as spst\n",
      "import scipy.special as sps\n",
      "import numpy.random as npr\n",
      "import matplotlib.pyplot as plt\n",
      "os.chdir(\"..\")\n",
      "import donuts.deconv.splines as spl\n",
      "import donuts.deconv.ncx as ncx"
     ],
     "language": "python",
     "metadata": {},
     "outputs": [
      {
       "output_type": "stream",
       "stream": "stderr",
       "text": [
        "/usr/local/lib/python2.7/dist-packages/setuptools-7.0-py2.7.egg/pkg_resources.py:1045: UserWarning: /home/snarles/.python-eggs is writable by group/others and vulnerable to attack when used with get_resource_filename. Consider a more secure location (set with .set_extraction_path or the PYTHON_EGG_CACHE environment variable).\n",
        "  warnings.warn(msg, UserWarning)\n"
       ]
      }
     ],
     "prompt_number": 1
    },
    {
     "cell_type": "code",
     "collapsed": false,
     "input": [
      "n=10.0\n",
      "mu = 10.0\n",
      "x=spst.ncx2.rvs(n,mu**2)\n",
      "\n",
      "mugrid = np.arange(0,2*mu,mu/100)\n",
      "clos = ncx.genconvexchi2(n,x)\n",
      "pts = [clos(mu)[0] for mu in mugrid]\n",
      "f = spl.convspline(mugrid,np.array(pts))\n",
      "pts2 = [f(mu)[0] for mu in mugrid]\n",
      "plt.scatter(mugrid,pts)\n",
      "plt.scatter(mugrid,pts2,color='red')\n",
      "plt.show()"
     ],
     "language": "python",
     "metadata": {},
     "outputs": [
      {
       "output_type": "stream",
       "stream": "stdout",
       "text": [
        "     pcost       dcost       gap    pres   dres\n",
        " 0: -5.8092e+04 -5.8094e+04  2e+02  1e+01  6e-03\n",
        " 1: -5.8092e+04 -5.8094e+04  9e+00  5e-01  2e-04\n",
        " 2: -5.8092e+04 -5.8093e+04  1e+00  2e-02  1e-05\n",
        " 3: -5.8092e+04 -5.8092e+04  7e-02  5e-04  2e-07\n",
        " 4: -5.8092e+04 -5.8092e+04  1e-02  6e-05  2e-08"
       ]
      },
      {
       "output_type": "stream",
       "stream": "stdout",
       "text": [
        "\n",
        " 5: -5.8092e+04 -5.8092e+04  3e-03  2e-06  7e-10\n",
        " 6: -5.8092e+04 -5.8092e+04  6e-04  2e-07  1e-10\n",
        " 7: -5.8092e+04 -5.8092e+04  5e-04  2e-07  7e-11\n",
        " 8: -5.8092e+04 -5.8092e+04  2e-04  6e-08  2e-11\n",
        "Optimal solution found.\n"
       ]
      }
     ],
     "prompt_number": 29
    },
    {
     "cell_type": "code",
     "collapsed": false,
     "input": [
      "d1 = np.array([ncx.numderiv(lambda x: f(x)[0],x,0.01) for x in mugrid])\n",
      "d1a = np.array([f(x)[1] for x in mugrid])\n",
      "plt.scatter(d1,d1a)\n",
      "plt.show()"
     ],
     "language": "python",
     "metadata": {},
     "outputs": [],
     "prompt_number": 30
    },
    {
     "cell_type": "code",
     "collapsed": false,
     "input": [
      "mugrid"
     ],
     "language": "python",
     "metadata": {},
     "outputs": [
      {
       "metadata": {},
       "output_type": "pyout",
       "prompt_number": 28,
       "text": [
        "array([   0.,    1.,    2.,    3.,    4.,    5.,    6.,    7.,    8.,\n",
        "          9.,   10.,   11.,   12.,   13.,   14.,   15.,   16.,   17.,\n",
        "         18.,   19.,   20.,   21.,   22.,   23.,   24.,   25.,   26.,\n",
        "         27.,   28.,   29.,   30.,   31.,   32.,   33.,   34.,   35.,\n",
        "         36.,   37.,   38.,   39.,   40.,   41.,   42.,   43.,   44.,\n",
        "         45.,   46.,   47.,   48.,   49.,   50.,   51.,   52.,   53.,\n",
        "         54.,   55.,   56.,   57.,   58.,   59.,   60.,   61.,   62.,\n",
        "         63.,   64.,   65.,   66.,   67.,   68.,   69.,   70.,   71.,\n",
        "         72.,   73.,   74.,   75.,   76.,   77.,   78.,   79.,   80.,\n",
        "         81.,   82.,   83.,   84.,   85.,   86.,   87.,   88.,   89.,\n",
        "         90.,   91.,   92.,   93.,   94.,   95.,   96.,   97.,   98.,\n",
        "         99.,  100.,  101.,  102.,  103.,  104.,  105.,  106.,  107.,\n",
        "        108.,  109.,  110.,  111.,  112.,  113.,  114.,  115.,  116.,\n",
        "        117.,  118.,  119.,  120.,  121.,  122.,  123.,  124.,  125.,\n",
        "        126.,  127.,  128.,  129.,  130.,  131.,  132.,  133.,  134.,\n",
        "        135.,  136.,  137.,  138.,  139.,  140.,  141.,  142.,  143.,\n",
        "        144.,  145.,  146.,  147.,  148.,  149.,  150.,  151.,  152.,\n",
        "        153.,  154.,  155.,  156.,  157.,  158.,  159.,  160.,  161.,\n",
        "        162.,  163.,  164.,  165.,  166.,  167.,  168.,  169.,  170.,\n",
        "        171.,  172.,  173.,  174.,  175.,  176.,  177.,  178.,  179.,\n",
        "        180.,  181.,  182.,  183.,  184.,  185.,  186.,  187.,  188.,\n",
        "        189.,  190.,  191.,  192.,  193.,  194.,  195.,  196.,  197.,\n",
        "        198.,  199.])"
       ]
      }
     ],
     "prompt_number": 28
    },
    {
     "cell_type": "code",
     "collapsed": false,
     "input": [
      "np.sqrt(x-n)"
     ],
     "language": "python",
     "metadata": {},
     "outputs": [
      {
       "metadata": {},
       "output_type": "pyout",
       "prompt_number": 16,
       "text": [
        "99.192543549863416"
       ]
      }
     ],
     "prompt_number": 16
    },
    {
     "cell_type": "code",
     "collapsed": false,
     "input": [],
     "language": "python",
     "metadata": {},
     "outputs": []
    }
   ],
   "metadata": {}
  }
 ]
}