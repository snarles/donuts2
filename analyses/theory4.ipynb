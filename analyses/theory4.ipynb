{
 "metadata": {
  "name": "",
  "signature": "sha256:874ca27aefa38aaf4e6a3bfab49dae6731fb4494e33bb44c56249d1e640991ce"
 },
 "nbformat": 3,
 "nbformat_minor": 0,
 "worksheets": [
  {
   "cells": [
    {
     "cell_type": "markdown",
     "metadata": {},
     "source": [
      "Elastic basis pursuit"
     ]
    },
    {
     "cell_type": "code",
     "collapsed": false,
     "input": [
      "import os\n",
      "import numpy as np\n",
      "import scipy as sp\n",
      "import scipy.stats as spst\n",
      "import scipy.special as sps\n",
      "import numpy.random as npr\n",
      "import matplotlib.pyplot as plt\n",
      "os.chdir(\"..\")\n",
      "import donuts.deconv.splines as spl\n",
      "import donuts.deconv.ncx as ncx\n",
      "import numpy.random as npr\n",
      "import scipy.optimize as spo"
     ],
     "language": "python",
     "metadata": {},
     "outputs": [
      {
       "output_type": "stream",
       "stream": "stderr",
       "text": [
        "/usr/local/lib/python2.7/dist-packages/setuptools-7.0-py2.7.egg/pkg_resources.py:1045: UserWarning: /home/snarles/.python-eggs is writable by group/others and vulnerable to attack when used with get_resource_filename. Consider a more secure location (set with .set_extraction_path or the PYTHON_EGG_CACHE environment variable).\n",
        "  warnings.warn(msg, UserWarning)\n"
       ]
      }
     ],
     "prompt_number": 1
    },
    {
     "cell_type": "code",
     "collapsed": false,
     "input": [
      "\n",
      "reload(spl)"
     ],
     "language": "python",
     "metadata": {},
     "outputs": [
      {
       "metadata": {},
       "output_type": "pyout",
       "prompt_number": 85,
       "text": [
        "<module 'donuts.deconv.splines' from 'donuts/deconv/splines.pyc'>"
       ]
      }
     ],
     "prompt_number": 85
    },
    {
     "cell_type": "code",
     "collapsed": false,
     "input": [
      "def ncxlosses(df,y):\n",
      "    n = len(y)\n",
      "    ans = [0.] * n\n",
      "    for ii in range(n):\n",
      "        x = y[ii]\n",
      "        mmax = np.sqrt(x)*3\n",
      "        mugrid = np.arange(0,mmax,mmax/100)\n",
      "        clos = ncx.genconvexchi2(n,x)\n",
      "        pts = np.array([clos(mu)[0] for mu in mugrid])\n",
      "        f = spl.convspline(mugrid,pts)\n",
      "        ans[ii]=f\n",
      "    return ans\n",
      "\n",
      "def ebp(amat,ls,x0): # ls is a list of loss functions, x0 is initial guess\n",
      "    p = np.shape(amat)[1]\n",
      "    s = np.zeros(p,dtype=bool)\n",
      "    s[np.squeeze(x0) > 0] = True\n",
      "    "
     ],
     "language": "python",
     "metadata": {},
     "outputs": [],
     "prompt_number": 74
    },
    {
     "cell_type": "code",
     "collapsed": false,
     "input": [
      "n = 50\n",
      "p = 100\n",
      "amat = np.absolute(npr.normal(0,1,(n,p)))\n",
      "bt0 = np.zeros((p,1))\n",
      "bt0[:10]=1.0\n",
      "mu = np.dot(amat,bt0)\n",
      "y = spst.ncx2.rvs(df=10,nc=mu**2)\n",
      "ls = ncxlosses(n,y)\n",
      "#plt.scatter(mu**2,y);plt.show()\n",
      "0"
     ],
     "language": "python",
     "metadata": {},
     "outputs": [
      {
       "metadata": {},
       "output_type": "pyout",
       "prompt_number": 78,
       "text": [
        "0"
       ]
      }
     ],
     "prompt_number": 78
    },
    {
     "cell_type": "code",
     "collapsed": false,
     "input": [
      "x0 = bt0\n",
      "p = np.shape(amat)[1]\n",
      "s = np.zeros(p,dtype=bool)\n",
      "s[np.squeeze(x0) > 0]"
     ],
     "language": "python",
     "metadata": {},
     "outputs": [
      {
       "metadata": {},
       "output_type": "pyout",
       "prompt_number": 84,
       "text": [
        "array([False, False, False, False, False, False, False, False, False, False], dtype=bool)"
       ]
      }
     ],
     "prompt_number": 84
    },
    {
     "cell_type": "code",
     "collapsed": false,
     "input": [
      "spl.genspline"
     ],
     "language": "python",
     "metadata": {},
     "outputs": [
      {
       "metadata": {},
       "output_type": "pyout",
       "prompt_number": 36,
       "text": [
        "<function donuts.deconv.splines.genspline>"
       ]
      }
     ],
     "prompt_number": 36
    },
    {
     "cell_type": "code",
     "collapsed": false,
     "input": [
      "n=10.0\n",
      "mu = 10.0\n",
      "x=spst.ncx2.rvs(n,mu**2)\n",
      "\n",
      "mugrid = np.arange(0,2*mu,mu/100)\n",
      "clos = ncx.genconvexchi2(n,x)\n",
      "pts = [clos(mu)[0] for mu in mugrid]\n",
      "f = spl.convspline(mugrid,np.array(pts))\n",
      "pts2 = [f(mu)[0] for mu in mugrid]\n",
      "plt.scatter(mugrid,pts)\n",
      "plt.scatter(mugrid,pts2,color='red')\n",
      "plt.show()"
     ],
     "language": "python",
     "metadata": {},
     "outputs": [
      {
       "output_type": "stream",
       "stream": "stdout",
       "text": [
        "     pcost       dcost       gap    pres   dres\n",
        " 0: -5.8320e+04 -5.8321e+04  2e+02  1e+01  6e-03\n",
        " 1: -5.8319e+04 -5.8322e+04  9e+00  5e-01  2e-04\n",
        " 2: -5.8320e+04 -5.8321e+04  1e+00  2e-02  1e-05\n",
        " 3: -5.8320e+04 -5.8320e+04  7e-02  5e-04  2e-07\n",
        " 4: -5.8320e+04 -5.8320e+04  1e-02  6e-05  2e-08"
       ]
      },
      {
       "output_type": "stream",
       "stream": "stdout",
       "text": [
        "\n",
        " 5: -5.8320e+04 -5.8320e+04  3e-03  2e-06  7e-10\n",
        " 6: -5.8320e+04 -5.8320e+04  6e-04  2e-07  1e-10\n",
        " 7: -5.8320e+04 -5.8320e+04  5e-04  2e-07  7e-11\n",
        " 8: -5.8320e+04 -5.8320e+04  2e-04  6e-08  2e-11\n",
        "Optimal solution found.\n"
       ]
      }
     ],
     "prompt_number": 42
    },
    {
     "cell_type": "code",
     "collapsed": false,
     "input": [
      "d1 = np.array([ncx.numderiv(lambda x: f(x)[0],x,0.01) for x in mugrid])\n",
      "d1a = np.array([f(x)[2] for x in mugrid])\n",
      "plt.scatter(mugrid,d1a)\n",
      "plt.show()"
     ],
     "language": "python",
     "metadata": {},
     "outputs": [],
     "prompt_number": 48
    },
    {
     "cell_type": "code",
     "collapsed": false,
     "input": [
      "np.sqrt(x-n)"
     ],
     "language": "python",
     "metadata": {},
     "outputs": [
      {
       "metadata": {},
       "output_type": "pyout",
       "prompt_number": 16,
       "text": [
        "99.192543549863416"
       ]
      }
     ],
     "prompt_number": 16
    },
    {
     "cell_type": "code",
     "collapsed": false,
     "input": [],
     "language": "python",
     "metadata": {},
     "outputs": []
    }
   ],
   "metadata": {}
  }
 ]
}