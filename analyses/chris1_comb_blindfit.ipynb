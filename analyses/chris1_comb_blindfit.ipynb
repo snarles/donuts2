{
 "metadata": {
  "name": "",
  "signature": "sha256:c761d545a7ff4b112e55e140d4277555ed8a8df8ad3bf71fc9a33ad5c746ce95"
 },
 "nbformat": 3,
 "nbformat_minor": 0,
 "worksheets": [
  {
   "cells": [
    {
     "cell_type": "code",
     "collapsed": false,
     "input": [
      "# get files\n",
      "import os"
     ],
     "language": "python",
     "metadata": {},
     "outputs": [],
     "prompt_number": 1
    },
    {
     "cell_type": "code",
     "collapsed": false,
     "input": [
      "#os.listdir(\"/root/\")"
     ],
     "language": "python",
     "metadata": {},
     "outputs": [],
     "prompt_number": 2
    },
    {
     "cell_type": "code",
     "collapsed": false,
     "input": [
      "import subprocess\n",
      "import donuts.deconv.utils as du"
     ],
     "language": "python",
     "metadata": {},
     "outputs": [],
     "prompt_number": 25
    },
    {
     "cell_type": "code",
     "collapsed": false,
     "input": [
      "os.chdir('/root/')\n",
      "#os.system('mkdir data')\n",
      "os.chdir('data')"
     ],
     "language": "python",
     "metadata": {},
     "outputs": [],
     "prompt_number": 19
    },
    {
     "cell_type": "code",
     "collapsed": false,
     "input": [
      "subprocess.check_output('aws s3 cp s3://rawpredator/8631_2_1_wm_mask.nii.gz .', shell=True)"
     ],
     "language": "python",
     "metadata": {},
     "outputs": [
      {
       "metadata": {},
       "output_type": "pyout",
       "prompt_number": 5,
       "text": [
        "'download: s3://rawpredator/8631_2_1_wm_mask.nii.gz to ./8631_2_1_wm_mask.nii.gz\\n'"
       ]
      }
     ],
     "prompt_number": 5
    },
    {
     "cell_type": "markdown",
     "metadata": {},
     "source": [
      "subprocess.check_output('aws s3 cp s3://rawpredator/chris1/coil_comb_ec.nii.gz .', shell=True)"
     ]
    },
    {
     "cell_type": "code",
     "collapsed": false,
     "input": [
      "subprocess.check_output('aws s3 cp s3://chris1data/chris1_bvec.csv .', shell=True)"
     ],
     "language": "python",
     "metadata": {},
     "outputs": [
      {
       "metadata": {},
       "output_type": "pyout",
       "prompt_number": 20,
       "text": [
        "'download: s3://chris1data/chris1_bvec.csv to ./chris1_bvec.csv\\n'"
       ]
      }
     ],
     "prompt_number": 20
    },
    {
     "cell_type": "code",
     "collapsed": false,
     "input": [
      "import nibabel as nib\n",
      "import numpy as np\n",
      "import numpy.random as npr\n",
      "import scipy.optimize as spo"
     ],
     "language": "python",
     "metadata": {},
     "outputs": [],
     "prompt_number": 61
    },
    {
     "cell_type": "code",
     "collapsed": false,
     "input": [
      "comb_data = nib.load('/root/data/coil_comb_ec.nii.gz').get_data()"
     ],
     "language": "python",
     "metadata": {},
     "outputs": [],
     "prompt_number": 8
    },
    {
     "cell_type": "code",
     "collapsed": false,
     "input": [
      "wm_mask = nib.load('/root/data/8631_2_1_wm_mask.nii.gz').get_data()"
     ],
     "language": "python",
     "metadata": {},
     "outputs": [],
     "prompt_number": 9
    },
    {
     "cell_type": "code",
     "collapsed": false,
     "input": [
      "np.shape(comb_data)"
     ],
     "language": "python",
     "metadata": {},
     "outputs": [
      {
       "metadata": {},
       "output_type": "pyout",
       "prompt_number": 9,
       "text": [
        "(120, 120, 69, 150)"
       ]
      }
     ],
     "prompt_number": 9
    },
    {
     "cell_type": "code",
     "collapsed": false,
     "input": [
      "wm_coords = np.array(np.unravel_index(np.where(wm_mask.ravel()==1)[0], np.shape(wm_mask))).T"
     ],
     "language": "python",
     "metadata": {},
     "outputs": [],
     "prompt_number": 11
    },
    {
     "cell_type": "code",
     "collapsed": false,
     "input": [
      "np.shape(wm_coords)"
     ],
     "language": "python",
     "metadata": {},
     "outputs": [
      {
       "metadata": {},
       "output_type": "pyout",
       "prompt_number": 12,
       "text": [
        "(55418, 3)"
       ]
      }
     ],
     "prompt_number": 12
    },
    {
     "cell_type": "code",
     "collapsed": false,
     "input": [
      "wm_vox = np.hstack([wm_coords, np.array([comb_data[c[0], c[1], c[2], :] for c in wm_coords])])"
     ],
     "language": "python",
     "metadata": {},
     "outputs": [],
     "prompt_number": 13
    },
    {
     "cell_type": "code",
     "collapsed": false,
     "input": [
      "np.shape(wm_vox)"
     ],
     "language": "python",
     "metadata": {},
     "outputs": [
      {
       "metadata": {},
       "output_type": "pyout",
       "prompt_number": 14,
       "text": [
        "(55418, 153)"
       ]
      }
     ],
     "prompt_number": 14
    },
    {
     "cell_type": "code",
     "collapsed": false,
     "input": [
      "np.savetxt('/root/data/flat.txt', wm_vox, fmt = '%.9e')"
     ],
     "language": "python",
     "metadata": {},
     "outputs": [],
     "prompt_number": 15
    },
    {
     "cell_type": "code",
     "collapsed": false,
     "input": [
      "os.chdir('/root/ephemeral-hdfs/bin')"
     ],
     "language": "python",
     "metadata": {},
     "outputs": [],
     "prompt_number": 16
    },
    {
     "cell_type": "code",
     "collapsed": false,
     "input": [
      "os.system('./hadoop fs -put /root/data/flat.txt flat.txt')"
     ],
     "language": "python",
     "metadata": {},
     "outputs": [
      {
       "metadata": {},
       "output_type": "pyout",
       "prompt_number": 17,
       "text": [
        "0"
       ]
      }
     ],
     "prompt_number": 17
    },
    {
     "cell_type": "code",
     "collapsed": false,
     "input": [
      "subprocess.check_output('./hadoop fs -ls', shell=True)"
     ],
     "language": "python",
     "metadata": {},
     "outputs": [
      {
       "metadata": {},
       "output_type": "pyout",
       "prompt_number": 18,
       "text": [
        "'Found 1 items\\n-rw-r--r--   3 root supergroup  135663264 2015-03-05 02:05 /user/root/flat.txt\\n'"
       ]
      }
     ],
     "prompt_number": 18
    },
    {
     "cell_type": "code",
     "collapsed": false,
     "input": [
      "subprocess.check_output('./hadoop fs -rmr flat.txt', shell=True)"
     ],
     "language": "python",
     "metadata": {},
     "outputs": [
      {
       "metadata": {},
       "output_type": "pyout",
       "prompt_number": 10,
       "text": [
        "'Deleted hdfs://ec2-52-11-177-249.us-west-2.compute.amazonaws.com:9000/user/root/flat.txt\\n'"
       ]
      }
     ],
     "prompt_number": 10
    },
    {
     "cell_type": "code",
     "collapsed": false,
     "input": [
      "bvecs = np.loadtxt('/root/data/chris1_bvec.csv').T"
     ],
     "language": "python",
     "metadata": {},
     "outputs": [],
     "prompt_number": 24
    },
    {
     "cell_type": "code",
     "collapsed": false,
     "input": [
      "grid = du.georandsphere(4,3)\n",
      "amat = du.ste_tan_kappa(1.5 * grid, bvecs)"
     ],
     "language": "python",
     "metadata": {},
     "outputs": [],
     "prompt_number": 157
    },
    {
     "cell_type": "code",
     "collapsed": false,
     "input": [
      "diff_inds = np.where(sum(bvecs**2, 1) > 0)[0]\n",
      "perm = npr.permutation(len(diff_inds))\n",
      "tr_inds = diff_inds[perm[:120]]\n",
      "te_inds = diff_inds[perm[120:]]\n",
      "len(tr_inds), len(te_inds)"
     ],
     "language": "python",
     "metadata": {},
     "outputs": [
      {
       "metadata": {},
       "output_type": "pyout",
       "prompt_number": 158,
       "text": [
        "(120, 18)"
       ]
      }
     ],
     "prompt_number": 158
    },
    {
     "cell_type": "code",
     "collapsed": false,
     "input": [
      "tr_amat = amat[tr_inds, :]\n",
      "te_amat = amat[te_inds, :]"
     ],
     "language": "python",
     "metadata": {},
     "outputs": [],
     "prompt_number": 159
    },
    {
     "cell_type": "code",
     "collapsed": false,
     "input": [
      "parts = 48\n",
      "rawrdd = sc.textFile('flat.txt', parts)"
     ],
     "language": "python",
     "metadata": {},
     "outputs": [],
     "prompt_number": 160
    },
    {
     "cell_type": "code",
     "collapsed": false,
     "input": [
      "smp = rawrdd.takeSample(True, 20)"
     ],
     "language": "python",
     "metadata": {},
     "outputs": [],
     "prompt_number": 161
    },
    {
     "cell_type": "code",
     "collapsed": false,
     "input": [
      "st = smp[0]"
     ],
     "language": "python",
     "metadata": {},
     "outputs": [],
     "prompt_number": 162
    },
    {
     "cell_type": "code",
     "collapsed": false,
     "input": [
      "def f00(st):\n",
      "    temp = np.array([float(v) for v in str(st).split(' ')])\n",
      "    coords = temp[:3]\n",
      "    errs = np.zeros(10)\n",
      "    for i in range(10):\n",
      "        const = float(i)/100\n",
      "        ys = np.sqrt(temp[3:])\n",
      "        temp2 = ys**2 - const\n",
      "        temp2[temp2 < 0] = 0\n",
      "        tr_y = np.sqrt(temp2)[tr_inds]\n",
      "        te_y = ys[te_inds]\n",
      "        bt = spo.nnls(tr_amat, tr_y)[0]\n",
      "        pr_y = np.squeeze(np.dot(te_amat, bt))\n",
      "        errs[i] = sum((te_y**2 - pr_y**2)**2)\n",
      "    res = np.hstack([coords, errs])\n",
      "    res_st = ' '.join(str(val) for val in res)\n",
      "    return res_st"
     ],
     "language": "python",
     "metadata": {},
     "outputs": [],
     "prompt_number": 214
    },
    {
     "cell_type": "code",
     "collapsed": false,
     "input": [
      "from operator import add"
     ],
     "language": "python",
     "metadata": {},
     "outputs": [],
     "prompt_number": 215
    },
    {
     "cell_type": "code",
     "collapsed": false,
     "input": [
      "f00(st)"
     ],
     "language": "python",
     "metadata": {},
     "outputs": [
      {
       "metadata": {},
       "output_type": "pyout",
       "prompt_number": 216,
       "text": [
        "'57.0 93.0 33.0 1.73961584941 1.8109800836 1.88600670461 1.96469927305 2.04701915068 2.13292027058 2.2224432343 2.31562556895 2.41248710188 2.51302875373'"
       ]
      }
     ],
     "prompt_number": 216
    },
    {
     "cell_type": "code",
     "collapsed": false,
     "input": [
      "f00(st)"
     ],
     "language": "python",
     "metadata": {},
     "outputs": [
      {
       "metadata": {},
       "output_type": "pyout",
       "prompt_number": 217,
       "text": [
        "'57.0 93.0 33.0 1.73961584941 1.8109800836 1.88600670461 1.96469927305 2.04701915068 2.13292027058 2.2224432343 2.31562556895 2.41248710188 2.51302875373'"
       ]
      }
     ],
     "prompt_number": 217
    },
    {
     "cell_type": "code",
     "collapsed": false,
     "input": [
      "rawrdd.map(f00).saveAsTextFile('c00.txt')"
     ],
     "language": "python",
     "metadata": {},
     "outputs": []
    },
    {
     "cell_type": "code",
     "collapsed": false,
     "input": [
      "os.chdir('/root/ephemeral-hdfs/bin')\n",
      "os.system('rm c00.txt')\n",
      "os.system('./hadoop fs -getmerge c00.txt c00.txt')\n",
      "os.system('./hadoop fs -rmr c00.txt')"
     ],
     "language": "python",
     "metadata": {},
     "outputs": [
      {
       "metadata": {},
       "output_type": "pyout",
       "prompt_number": 209,
       "text": [
        "0"
       ]
      }
     ],
     "prompt_number": 209
    },
    {
     "cell_type": "code",
     "collapsed": false,
     "input": [
      "res00 = np.loadtxt('/root/ephemeral-hdfs/bin/c00.txt')"
     ],
     "language": "python",
     "metadata": {},
     "outputs": [],
     "prompt_number": 210
    },
    {
     "cell_type": "code",
     "collapsed": false,
     "input": [
      "np.shape(res00)"
     ],
     "language": "python",
     "metadata": {},
     "outputs": [
      {
       "metadata": {},
       "output_type": "pyout",
       "prompt_number": 211,
       "text": [
        "(55418, 13)"
       ]
      }
     ],
     "prompt_number": 211
    },
    {
     "cell_type": "code",
     "collapsed": false,
     "input": [
      "avgs = np.mean(res00, 0)"
     ],
     "language": "python",
     "metadata": {},
     "outputs": [],
     "prompt_number": 212
    },
    {
     "cell_type": "code",
     "collapsed": false,
     "input": [
      "avgs"
     ],
     "language": "python",
     "metadata": {},
     "outputs": [
      {
       "metadata": {},
       "output_type": "pyout",
       "prompt_number": 213,
       "text": [
        "array([ 59.16148183,  70.66635389,  35.77797827,   1.32043814,\n",
        "         1.55811725,   2.17581974,   3.19030061,   4.62089015,\n",
        "         6.42762355,   8.52710235,  10.82171202,  13.1868014 ,  15.47832954])"
       ]
      }
     ],
     "prompt_number": 213
    },
    {
     "cell_type": "code",
     "collapsed": false,
     "input": [
      "res00[2000, :]"
     ],
     "language": "python",
     "metadata": {},
     "outputs": [
      {
       "metadata": {},
       "output_type": "pyout",
       "prompt_number": 156,
       "text": [
        "array([ 35.        ,  86.        ,  39.        ,   0.17264791,\n",
        "         0.17414371,   0.17576308,   0.17742625,   0.17910699,\n",
        "         0.18066647,   0.18225746,   0.18388072,   0.18555001,   0.18726741])"
       ]
      }
     ],
     "prompt_number": 156
    },
    {
     "cell_type": "code",
     "collapsed": false,
     "input": [],
     "language": "python",
     "metadata": {},
     "outputs": []
    }
   ],
   "metadata": {}
  }
 ]
}