{
 "metadata": {
  "name": "",
  "signature": "sha256:99421e547f634c59eb3b1e1e0efcc8a9d4edd6c802e64a29dd4fe90c0a679c83"
 },
 "nbformat": 3,
 "nbformat_minor": 0,
 "worksheets": [
  {
   "cells": [
    {
     "cell_type": "markdown",
     "metadata": {},
     "source": [
      "MLE test for noncentral chi squared"
     ]
    },
    {
     "cell_type": "code",
     "collapsed": false,
     "input": [
      "import os\n",
      "import numpy as np\n",
      "import numpy.random as npr\n",
      "import numpy.linalg as nla\n",
      "import scipy as sp\n",
      "import scipy.stats as spst\n",
      "import scipy.special as sps\n",
      "import matplotlib.pyplot as plt\n",
      "import numpy.random as npr\n",
      "import scipy.optimize as spo\n",
      "import matplotlib as mpl\n",
      "from mpl_toolkits.mplot3d import Axes3D\n",
      "os.chdir(\"..\")\n",
      "import donuts.deconv.utils as du\n",
      "import donuts.deconv.ncx as ncx"
     ],
     "language": "python",
     "metadata": {},
     "outputs": [],
     "prompt_number": 2
    },
    {
     "cell_type": "code",
     "collapsed": false,
     "input": [
      "def numderiv2(f,x,delta):\n",
      "    return (f(x+delta)+f(x-delta)-2*f(x))/(delta**2)\n",
      "\n",
      "def numderiv(f,x,delta):\n",
      "    return (f(x+delta)-f(x))/delta\n",
      "\n",
      "def ncx2loss_gauss(x,df): \n",
      "    \"\"\"gaussian approximation to -ncx log likelihood\n",
      "    \n",
      "    Parameters:\n",
      "    -----------\n",
      "    x: observed value of X in data, a noncentral chi squared variable\n",
      "    df: known degrees of freedom of X\n",
      "    sigma: noise level\n",
      "\n",
      "    Output:\n",
      "    -------\n",
      "    ff : function with one argument\n",
      "         Inputs: mu, square root of noncentrality\n",
      "         Outputs: val, negative log likelihood of mu\n",
      "                  der, derivative with respect to mu\n",
      "    \"\"\"\n",
      "    def ff(theta):\n",
      "        nc = theta[0]\n",
      "        s2 = theta[1]\n",
      "        s4 = s2**2\n",
      "        vv = 2*s4*df+4*s2*nc\n",
      "        numer = nc+s2*df-x\n",
      "        val= .5*np.log(2*np.pi*(vv)) + (numer)**2/(2*vv)\n",
      "        nc_der= 2*s2/vv + numer/vv - 2*s2*(numer/vv)**2\n",
      "        nc_der2 = - 8*(s4 + s2*numer)/(vv**2) + 1/vv + 16*(s2**2)*(numer)**2/(vv**3)\n",
      "        return val,der,der2\n",
      "    return ff"
     ],
     "language": "python",
     "metadata": {},
     "outputs": []
    },
    {
     "cell_type": "code",
     "collapsed": false,
     "input": [],
     "language": "python",
     "metadata": {},
     "outputs": []
    },
    {
     "cell_type": "code",
     "collapsed": false,
     "input": [
      "nc = 10000\n",
      "df = 10\n",
      "n = 100\n",
      "x = spst.ncx2.rvs(df,nc,size=n)\n",
      "def likelihood(nc):\n",
      "    return sum(logncx2pdf_x(x,df,nc))"
     ],
     "language": "python",
     "metadata": {},
     "outputs": [],
     "prompt_number": 3
    },
    {
     "cell_type": "code",
     "collapsed": false,
     "input": [
      "ncs = np.arange(0.0,nc*2,nc*0.1)\n",
      "lks = np.array([likelihood(nch) for nch in ncs])\n",
      "plt.scatter(ncs,lks)\n",
      "plt.scatter(nc,likelihood(nc),color=\"green\")\n",
      "imax = np.where(lks==max(lks))[0][0]\n",
      "plt.scatter(ncs[imax],lks[imax],color=\"red\")\n",
      "plt.show()"
     ],
     "language": "python",
     "metadata": {},
     "outputs": [],
     "prompt_number": 36
    },
    {
     "cell_type": "code",
     "collapsed": false,
     "input": [],
     "language": "python",
     "metadata": {},
     "outputs": [
      {
       "metadata": {},
       "output_type": "pyout",
       "prompt_number": 25,
       "text": [
        "39"
       ]
      }
     ],
     "prompt_number": 25
    },
    {
     "cell_type": "markdown",
     "metadata": {},
     "source": [
      "Inflection point finding test"
     ]
    },
    {
     "cell_type": "code",
     "collapsed": false,
     "input": [
      "def numderiv2(f,x,delta):\n",
      "    return (f(x+delta)+f(x-delta)-2*f(x))/(delta**2)\n",
      "\n",
      "df = 10\n",
      "x = 1000.0\n",
      "\n",
      "def ff(mu):\n",
      "    return -logncx2pdf_nc(x,df,mu**2)\n",
      "def f2(mu):\n",
      "    return numderiv2(ff,mu,1e-3)\n",
      "\n",
      "mus = np.arange(0.08,10.0,.01)\n",
      "y = logncx2pdf_nc(x,df,mus**2)\n",
      "d2y = f2(mus)\n",
      "\n",
      "#plt.scatter(mus,y)\n",
      "#plt.scatter(mus,d2y)\n",
      "#plt.show()\n",
      "\n",
      "muinf = spo.newton(f2,1e-2)[0]\n",
      "mus = np.arange(0.0,5*muinf,muinf*0.01)\n",
      "y = ff(mus)\n",
      "plt.scatter(mus,y)\n",
      "plt.show()"
     ],
     "language": "python",
     "metadata": {},
     "outputs": [],
     "prompt_number": 66
    },
    {
     "cell_type": "code",
     "collapsed": false,
     "input": [
      "df = 10\n",
      "x = 1000.0\n",
      "def ff(mu):\n",
      "    return -logncx2pdf_nc(x,df,mu**2)\n",
      "cff = convex_nc_loss(x,df)\n",
      "mus = np.arange(-20.0,20.0,.1)\n",
      "plt.scatter(mus,ff(mus))\n",
      "plt.scatter(mus,cff(mus),color=\"red\")\n",
      "plt.show()"
     ],
     "language": "python",
     "metadata": {},
     "outputs": [],
     "prompt_number": 144
    },
    {
     "cell_type": "code",
     "collapsed": false,
     "input": [
      "def ff(mu):\n",
      "    return -logncx2pdf_nc(x,df,mu**2)\n",
      "def f2(mu):\n",
      "    return numderiv2(ff,mu,1e-3) - 1e-2\n",
      "oguess = df/2\n",
      "muinf = spo.newton(f2,oguess)[0]\n",
      "while np.absolute(muinf) > df/2:\n",
      "    oguess = oguess*.9\n",
      "    muinf = spo.newton(f2,oguess)[0]\n",
      "muinf=np.absolute(muinf)\n",
      "val = ff(muinf)\n",
      "dval = numderiv(ff,muinf,1e-3)\n",
      "d2val = 1e-2\n",
      "muinf\n",
      "mus = np.arange(-100,100,1.0)\n",
      "plt.scatter(mus,ff(mus))\n",
      "plt.scatter(muinf,ff(muinf),color=\"red\")\n",
      "plt.show()\n",
      "muinf"
     ],
     "language": "python",
     "metadata": {},
     "outputs": [
      {
       "metadata": {},
       "output_type": "pyout",
       "prompt_number": 121,
       "text": [
        "1.802605832650553"
       ]
      }
     ],
     "prompt_number": 121
    },
    {
     "cell_type": "code",
     "collapsed": false,
     "input": [
      "muinf = spo.newton(f2,df/3)[0]\n",
      "muinf"
     ],
     "language": "python",
     "metadata": {},
     "outputs": [
      {
       "metadata": {},
       "output_type": "pyout",
       "prompt_number": 117,
       "text": [
        "1.8026058332239596"
       ]
      }
     ],
     "prompt_number": 117
    },
    {
     "cell_type": "markdown",
     "metadata": {},
     "source": [
      "MLE using convex loss"
     ]
    },
    {
     "cell_type": "code",
     "collapsed": false,
     "input": [
      "n = 1000\n",
      "df = 10\n",
      "mu = 2.0\n",
      "x = spst.ncx2.rvs(df,mu**2,size=n)\n",
      "ls=[convex_nc_loss(xx,df) for xx in x]\n",
      "def likelihood(mu):\n",
      "    return sum([ll(mu) for ll in ls])"
     ],
     "language": "python",
     "metadata": {},
     "outputs": [],
     "prompt_number": 169
    },
    {
     "cell_type": "code",
     "collapsed": false,
     "input": [
      "mus = np.arange(1e-3,mu*2,mu*0.01)\n",
      "lks = np.array([likelihood(muh) for muh in mus])\n",
      "plt.scatter(mus,lks)\n",
      "plt.scatter(mu,likelihood(mu),color=\"green\")\n",
      "imax = np.where(lks==min(lks))[0][0]\n",
      "plt.scatter(mus[imax],lks[imax],color=\"red\")\n",
      "plt.show()"
     ],
     "language": "python",
     "metadata": {},
     "outputs": [],
     "prompt_number": 170
    },
    {
     "cell_type": "code",
     "collapsed": false,
     "input": [],
     "language": "python",
     "metadata": {},
     "outputs": []
    }
   ],
   "metadata": {}
  }
 ]
}