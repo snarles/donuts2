{
 "metadata": {
  "name": "",
  "signature": "sha256:70e9a8f4bd3cc8f2aa2e7d1ff49c11318edcf12c34f967d1b43bad8a7c167391"
 },
 "nbformat": 3,
 "nbformat_minor": 0,
 "worksheets": [
  {
   "cells": [
    {
     "cell_type": "code",
     "collapsed": false,
     "input": [
      "import os\n",
      "import numpy as np\n",
      "import numpy.random as npr\n",
      "import numpy.linalg as nla\n",
      "import numpy.testing as npt\n",
      "import scipy as sp\n",
      "import scipy.stats as spst\n",
      "import scipy.special as sps\n",
      "import matplotlib.pyplot as plt\n",
      "import scipy.optimize as spo\n",
      "import matplotlib as mpl\n",
      "from mpl_toolkits.mplot3d import Axes3D\n",
      "os.chdir(\"..\")\n",
      "import donuts.deconv.utils as du\n",
      "import donuts.deconv.ncx as ncx"
     ],
     "language": "python",
     "metadata": {},
     "outputs": [],
     "prompt_number": 1
    },
    {
     "cell_type": "code",
     "collapsed": false,
     "input": [
      "sps.sph_harm(1,1,.1,.1)"
     ],
     "language": "python",
     "metadata": {},
     "outputs": [
      {
       "metadata": {},
       "output_type": "pyout",
       "prompt_number": 2,
       "text": [
        "array((-0.03431954573453935-0.003443440367396629j))"
       ]
      }
     ],
     "prompt_number": 2
    },
    {
     "cell_type": "code",
     "collapsed": false,
     "input": [
      "bvecs = du.geosphere(4)\n",
      "n = np.shape(bvecs)[0]\n",
      "sgrid = du.geosphere(10)\n",
      "pp = np.shape(sgrid)[0]\n",
      "\n",
      "def plotz(zz=np.ones(n)):\n",
      "    fig = plt.figure()\n",
      "    ax = fig.gca(projection='3d')\n",
      "    ax.scatter(zz*bvecs[:,0],zz*bvecs[:,1],zz*bvecs[:,2])\n",
      "    plt.show()\n",
      "def plotb(zz=np.ones(pp)):\n",
      "    fig = plt.figure()\n",
      "    ax = fig.gca(projection='3d')\n",
      "    ax.scatter(zz*sgrid[:,0],zz*sgrid[:,1],zz*sgrid[:,2])\n",
      "    plt.show()\n",
      "    \n",
      "def cart2sph(xyz): # rtp[:,1] is polar, rtp[:,2] is azimuthal\n",
      "    rtp = np.reshape(xyz,(-1,3))\n",
      "    xy = xyz[:,0]**2 + xyz[:,1]**2\n",
      "    r = np.sqrt(xy + xyz[:,2]**2)\n",
      "    theta = np.arctan2(np.sqrt(xy),xyz[:,2])\n",
      "    phi = np.arctan2(xyz[:,1],xyz[:,0])\n",
      "    rtp = np.vstack([r,theta,phi]).T\n",
      "    return rtp\n",
      "\n",
      "def sph2cart(rtp):\n",
      "    rtp = np.reshape(rtp,(-1,3))\n",
      "    st = np.sin(rtp[:,1])\n",
      "    x = rtp[:,0]*st*np.cos(rtp[:,2])\n",
      "    y = rtp[:,0]*st*np.sin(rtp[:,2])\n",
      "    z = rtp[:,0]*np.cos(rtp[:,1])\n",
      "    xyz = np.vstack([x,y,z]).T\n",
      "    return xyz\n",
      "\n",
      "def test_sph2cart():\n",
      "    xyz0 = du.geosphere(4)\n",
      "    rtp = cart2sph(xyz0)\n",
      "    xyz = sph2cart(rtp)\n",
      "    npt.assert_almost_equal(xyz,xyz0,decimal=10)\n",
      "    return\n",
      "\n",
      "geosphere = du.geosphere\n",
      "rand_ortho = du.rand_ortho\n",
      "    \n",
      "\n",
      "def georandsphere(n,k):\n",
      "    temp = [0]*k\n",
      "    grid0 = geosphere(n)\n",
      "    for ii in range(k):\n",
      "        temp[ii] = np.dot(grid0,rand_ortho(3))\n",
      "    ans = np.vstack(temp)\n",
      "    return ans\n",
      "\n",
      "def real_sph_harm(m,n,rtp):\n",
      "    rtp = np.reshape(rtp,(-1,3))\n",
      "    p = rtp[:,2]\n",
      "    t = rtp[:,1]\n",
      "    if m==0:\n",
      "        return np.sqrt(2)*sps.sph_harm(m,n,p,t).real\n",
      "    if m > 0:\n",
      "        return sps.sph_harm(m,n,p,t).real\n",
      "    if m < 0:\n",
      "        return np.sqrt(2)*sps.sph_harm(m,n,p,t).imag\n",
      "    \n",
      "def randfunc(k,bandwidth):\n",
      "    pos = du.normalize_rows(npr.normal(0,1,(k,3)))\n",
      "    ws = np.ones((k,1))/k\n",
      "    # generates a function on the sphere which is a mixture of \"gaussians\"\n",
      "    def f(grid):\n",
      "        y = np.squeeze(np.dot(np.exp(-(1-np.dot(grid,pos.T))**2/bandwidth),ws))\n",
      "        return y\n",
      "    return f\n",
      "\n",
      "def rsh_basis(grid,n0):\n",
      "    rtp = cart2sph(grid)\n",
      "    temp = [0]*(n0+1)**2\n",
      "    count = 0\n",
      "    for n in range(n0+1):\n",
      "        for m in range(-n,(n+1)):\n",
      "            temp[count] = real_sph_harm(m,n,rtp)\n",
      "            temp[count] = temp[count]/nla.norm(temp[count])\n",
      "            count = count+1\n",
      "    ans = np.vstack(temp).T\n",
      "    return ans\n",
      "\n",
      "def test_rsh_basis():\n",
      "    sgrid = du.georandsphere(5,8)\n",
      "    xs = du.rsh_basis(sgrid,4)\n",
      "    fudge = .5\n",
      "    npt.assert_almost_equal(fudge*np.dot(xs.T,xs),fudge*np.eye(np.shape(xs)[1]),decimal=2)\n",
      "    return"
     ],
     "language": "python",
     "metadata": {},
     "outputs": [],
     "prompt_number": 180
    },
    {
     "cell_type": "code",
     "collapsed": false,
     "input": [
      "reload(du)\n",
      "test_rsh_basis()"
     ],
     "language": "python",
     "metadata": {},
     "outputs": [],
     "prompt_number": 182
    },
    {
     "cell_type": "code",
     "collapsed": false,
     "input": [
      "sgrid = georandsphere(5,6)\n",
      "rtp = cart2sph(sgrid)\n",
      "f = randfunc(30.0,0.1)\n",
      "plotb(f(sgrid))"
     ],
     "language": "python",
     "metadata": {},
     "outputs": [],
     "prompt_number": 169
    },
    {
     "cell_type": "code",
     "collapsed": false,
     "input": [
      "np.set_printoptions(suppress=True)\n",
      "sgrid = georandsphere(6,20)\n",
      "rtp = cart2sph(sgrid)\n",
      "xs = rsh_basis(sgrid,3)\n",
      "cc=np.dot(xs.T,xs)\n",
      "cc"
     ],
     "language": "python",
     "metadata": {},
     "outputs": [
      {
       "metadata": {},
       "output_type": "pyout",
       "prompt_number": 174,
       "text": [
        "array([[ 1.        , -0.        , -0.        , -0.        ,  0.        ,\n",
        "         0.        ,  0.        , -0.        ,  0.        , -0.        ,\n",
        "        -0.        , -0.        ,  0.        , -0.        , -0.        ,\n",
        "         0.        ],\n",
        "       [-0.        ,  1.        ,  0.        , -0.        ,  0.        ,\n",
        "        -0.        , -0.        ,  0.        ,  0.        ,  0.        ,\n",
        "         0.        ,  0.        , -0.        ,  0.        , -0.        ,\n",
        "         0.        ],\n",
        "       [-0.        ,  0.        ,  1.        , -0.        , -0.        ,\n",
        "        -0.        , -0.        , -0.        , -0.        ,  0.        ,\n",
        "         0.        ,  0.        , -0.        , -0.        ,  0.        ,\n",
        "        -0.        ],\n",
        "       [-0.        , -0.        , -0.        ,  1.        , -0.        ,\n",
        "         0.        ,  0.        , -0.        , -0.        , -0.        ,\n",
        "        -0.        ,  0.        , -0.        , -0.        , -0.        ,\n",
        "         0.        ],\n",
        "       [ 0.        ,  0.        , -0.        , -0.        ,  1.        ,\n",
        "         0.        , -0.        , -0.        ,  0.        ,  0.        ,\n",
        "        -0.        ,  0.        ,  0.        , -0.        ,  0.        ,\n",
        "        -0.        ],\n",
        "       [ 0.        , -0.        , -0.        ,  0.        ,  0.        ,\n",
        "         1.        ,  0.        , -0.        , -0.        , -0.        ,\n",
        "        -0.        , -0.        , -0.        ,  0.        ,  0.        ,\n",
        "        -0.        ],\n",
        "       [ 0.        , -0.        , -0.        ,  0.        , -0.        ,\n",
        "         0.        ,  1.        , -0.        , -0.        ,  0.        ,\n",
        "         0.        , -0.        ,  0.        ,  0.        ,  0.        ,\n",
        "         0.        ],\n",
        "       [-0.        ,  0.        , -0.        , -0.        , -0.        ,\n",
        "        -0.        , -0.        ,  1.        , -0.        , -0.        ,\n",
        "        -0.        ,  0.        ,  0.        , -0.        , -0.        ,\n",
        "        -0.        ],\n",
        "       [ 0.        ,  0.        , -0.        , -0.        ,  0.        ,\n",
        "        -0.        , -0.        , -0.        ,  1.        ,  0.        ,\n",
        "         0.        ,  0.        ,  0.        ,  0.        ,  0.        ,\n",
        "         0.        ],\n",
        "       [-0.        ,  0.        ,  0.        , -0.        ,  0.        ,\n",
        "        -0.        ,  0.        , -0.        ,  0.        ,  1.        ,\n",
        "         0.00676751, -0.00119634, -0.00404736,  0.00339427,  0.00711755,\n",
        "        -0.01027191],\n",
        "       [-0.        ,  0.        ,  0.        , -0.        , -0.        ,\n",
        "        -0.        ,  0.        , -0.        ,  0.        ,  0.00676751,\n",
        "         1.        , -0.00253327, -0.00782605,  0.00667846, -0.00829802,\n",
        "        -0.00691998],\n",
        "       [-0.        ,  0.        ,  0.        ,  0.        ,  0.        ,\n",
        "        -0.        , -0.        ,  0.        ,  0.        , -0.00119634,\n",
        "        -0.00253327,  1.        ,  0.00139415,  0.00767172, -0.00560546,\n",
        "         0.00741352],\n",
        "       [ 0.        , -0.        , -0.        , -0.        ,  0.        ,\n",
        "        -0.        ,  0.        ,  0.        ,  0.        , -0.00404736,\n",
        "        -0.00782605,  0.00139415,  1.        , -0.0113075 ,  0.0024265 ,\n",
        "         0.00124499],\n",
        "       [-0.        ,  0.        , -0.        , -0.        , -0.        ,\n",
        "         0.        ,  0.        , -0.        ,  0.        ,  0.00339427,\n",
        "         0.00667846,  0.00767172, -0.0113075 ,  1.        ,  0.00625773,\n",
        "        -0.00002435],\n",
        "       [-0.        , -0.        ,  0.        , -0.        ,  0.        ,\n",
        "         0.        ,  0.        , -0.        ,  0.        ,  0.00711755,\n",
        "        -0.00829802, -0.00560546,  0.0024265 ,  0.00625773,  1.        ,\n",
        "         0.00455838],\n",
        "       [ 0.        ,  0.        , -0.        ,  0.        , -0.        ,\n",
        "        -0.        ,  0.        , -0.        ,  0.        , -0.01027191,\n",
        "        -0.00691998,  0.00741352,  0.00124499, -0.00002435,  0.00455838,\n",
        "         1.        ]])"
       ]
      }
     ],
     "prompt_number": 174
    },
    {
     "cell_type": "code",
     "collapsed": false,
     "input": [
      "npt.assert_almost_equal(np.dot(xs.T,xs),np.eye(np.shape(xs)[1]))"
     ],
     "language": "python",
     "metadata": {},
     "outputs": [
      {
       "ename": "AssertionError",
       "evalue": "\nArrays are not almost equal to 7 decimals\n\n(mismatch 5.55555555556%)\n x: array([[  1.0000000e+00,   4.0007060e-17,   5.7029034e-17, ...,\n         -8.3551330e-18,   1.0706496e-18,   2.2833997e-17],\n       [  4.0007060e-17,   1.0000000e+00,  -2.8026626e-17, ...,...\n y: array([[ 1.,  0.,  0., ...,  0.,  0.,  0.],\n       [ 0.,  1.,  0., ...,  0.,  0.,  0.],\n       [ 0.,  0.,  1., ...,  0.,  0.,  0.],...",
       "output_type": "pyerr",
       "traceback": [
        "\u001b[1;31m---------------------------------------------------------------------------\u001b[0m\n\u001b[1;31mAssertionError\u001b[0m                            Traceback (most recent call last)",
        "\u001b[1;32m<ipython-input-155-45a84a64d9fe>\u001b[0m in \u001b[0;36m<module>\u001b[1;34m()\u001b[0m\n\u001b[1;32m----> 1\u001b[1;33m \u001b[0mnpt\u001b[0m\u001b[1;33m.\u001b[0m\u001b[0massert_almost_equal\u001b[0m\u001b[1;33m(\u001b[0m\u001b[0mnp\u001b[0m\u001b[1;33m.\u001b[0m\u001b[0mdot\u001b[0m\u001b[1;33m(\u001b[0m\u001b[0mxs\u001b[0m\u001b[1;33m.\u001b[0m\u001b[0mT\u001b[0m\u001b[1;33m,\u001b[0m\u001b[0mxs\u001b[0m\u001b[1;33m)\u001b[0m\u001b[1;33m,\u001b[0m\u001b[0mnp\u001b[0m\u001b[1;33m.\u001b[0m\u001b[0meye\u001b[0m\u001b[1;33m(\u001b[0m\u001b[0mnp\u001b[0m\u001b[1;33m.\u001b[0m\u001b[0mshape\u001b[0m\u001b[1;33m(\u001b[0m\u001b[0mxs\u001b[0m\u001b[1;33m)\u001b[0m\u001b[1;33m[\u001b[0m\u001b[1;36m1\u001b[0m\u001b[1;33m]\u001b[0m\u001b[1;33m)\u001b[0m\u001b[1;33m)\u001b[0m\u001b[1;33m\u001b[0m\u001b[0m\n\u001b[0m",
        "\u001b[1;32m/usr/local/lib/python2.7/dist-packages/numpy/testing/utils.pyc\u001b[0m in \u001b[0;36massert_almost_equal\u001b[1;34m(actual, desired, decimal, err_msg, verbose)\u001b[0m\n\u001b[0;32m    472\u001b[0m     \u001b[1;32mif\u001b[0m \u001b[0misinstance\u001b[0m\u001b[1;33m(\u001b[0m\u001b[0mactual\u001b[0m\u001b[1;33m,\u001b[0m \u001b[1;33m(\u001b[0m\u001b[0mndarray\u001b[0m\u001b[1;33m,\u001b[0m \u001b[0mtuple\u001b[0m\u001b[1;33m,\u001b[0m \u001b[0mlist\u001b[0m\u001b[1;33m)\u001b[0m\u001b[1;33m)\u001b[0m\u001b[0;31m \u001b[0m\u001b[0;31m\\\u001b[0m\u001b[1;33m\u001b[0m\u001b[0m\n\u001b[0;32m    473\u001b[0m             \u001b[1;32mor\u001b[0m \u001b[0misinstance\u001b[0m\u001b[1;33m(\u001b[0m\u001b[0mdesired\u001b[0m\u001b[1;33m,\u001b[0m \u001b[1;33m(\u001b[0m\u001b[0mndarray\u001b[0m\u001b[1;33m,\u001b[0m \u001b[0mtuple\u001b[0m\u001b[1;33m,\u001b[0m \u001b[0mlist\u001b[0m\u001b[1;33m)\u001b[0m\u001b[1;33m)\u001b[0m\u001b[1;33m:\u001b[0m\u001b[1;33m\u001b[0m\u001b[0m\n\u001b[1;32m--> 474\u001b[1;33m         \u001b[1;32mreturn\u001b[0m \u001b[0massert_array_almost_equal\u001b[0m\u001b[1;33m(\u001b[0m\u001b[0mactual\u001b[0m\u001b[1;33m,\u001b[0m \u001b[0mdesired\u001b[0m\u001b[1;33m,\u001b[0m \u001b[0mdecimal\u001b[0m\u001b[1;33m,\u001b[0m \u001b[0merr_msg\u001b[0m\u001b[1;33m)\u001b[0m\u001b[1;33m\u001b[0m\u001b[0m\n\u001b[0m\u001b[0;32m    475\u001b[0m     \u001b[1;32mtry\u001b[0m\u001b[1;33m:\u001b[0m\u001b[1;33m\u001b[0m\u001b[0m\n\u001b[0;32m    476\u001b[0m         \u001b[1;31m# If one of desired/actual is not finite, handle it specially here:\u001b[0m\u001b[1;33m\u001b[0m\u001b[1;33m\u001b[0m\u001b[0m\n",
        "\u001b[1;32m/usr/local/lib/python2.7/dist-packages/numpy/testing/utils.pyc\u001b[0m in \u001b[0;36massert_array_almost_equal\u001b[1;34m(x, y, decimal, err_msg, verbose)\u001b[0m\n\u001b[0;32m    840\u001b[0m     assert_array_compare(compare, x, y, err_msg=err_msg, verbose=verbose,\n\u001b[0;32m    841\u001b[0m              \u001b[0mheader\u001b[0m\u001b[1;33m=\u001b[0m\u001b[1;33m(\u001b[0m\u001b[1;34m'Arrays are not almost equal to %d decimals'\u001b[0m \u001b[1;33m%\u001b[0m \u001b[0mdecimal\u001b[0m\u001b[1;33m)\u001b[0m\u001b[1;33m,\u001b[0m\u001b[1;33m\u001b[0m\u001b[0m\n\u001b[1;32m--> 842\u001b[1;33m              precision=decimal)\n\u001b[0m\u001b[0;32m    843\u001b[0m \u001b[1;33m\u001b[0m\u001b[0m\n\u001b[0;32m    844\u001b[0m \u001b[1;33m\u001b[0m\u001b[0m\n",
        "\u001b[1;32m/usr/local/lib/python2.7/dist-packages/numpy/testing/utils.pyc\u001b[0m in \u001b[0;36massert_array_compare\u001b[1;34m(comparison, x, y, err_msg, verbose, header, precision)\u001b[0m\n\u001b[0;32m    663\u001b[0m                                 names=('x', 'y'), precision=precision)\n\u001b[0;32m    664\u001b[0m             \u001b[1;32mif\u001b[0m \u001b[1;32mnot\u001b[0m \u001b[0mcond\u001b[0m \u001b[1;33m:\u001b[0m\u001b[1;33m\u001b[0m\u001b[0m\n\u001b[1;32m--> 665\u001b[1;33m                 \u001b[1;32mraise\u001b[0m \u001b[0mAssertionError\u001b[0m\u001b[1;33m(\u001b[0m\u001b[0mmsg\u001b[0m\u001b[1;33m)\u001b[0m\u001b[1;33m\u001b[0m\u001b[0m\n\u001b[0m\u001b[0;32m    666\u001b[0m     \u001b[1;32mexcept\u001b[0m \u001b[0mValueError\u001b[0m \u001b[1;32mas\u001b[0m \u001b[0me\u001b[0m\u001b[1;33m:\u001b[0m\u001b[1;33m\u001b[0m\u001b[0m\n\u001b[0;32m    667\u001b[0m         \u001b[1;32mimport\u001b[0m \u001b[0mtraceback\u001b[0m\u001b[1;33m\u001b[0m\u001b[0m\n",
        "\u001b[1;31mAssertionError\u001b[0m: \nArrays are not almost equal to 7 decimals\n\n(mismatch 5.55555555556%)\n x: array([[  1.0000000e+00,   4.0007060e-17,   5.7029034e-17, ...,\n         -8.3551330e-18,   1.0706496e-18,   2.2833997e-17],\n       [  4.0007060e-17,   1.0000000e+00,  -2.8026626e-17, ...,...\n y: array([[ 1.,  0.,  0., ...,  0.,  0.,  0.],\n       [ 0.,  1.,  0., ...,  0.,  0.,  0.],\n       [ 0.,  0.,  1., ...,  0.,  0.,  0.],..."
       ]
      }
     ],
     "prompt_number": 155
    },
    {
     "cell_type": "code",
     "collapsed": false,
     "input": [
      "h11 = real_sph_harm(1,1,rtp)\n",
      "h12 = real_sph_harm(-1,2,rtp)\n",
      "np.dot(h11.T,h12),np.dot(h11.T,h11),np.dot(h12.T,h12)"
     ],
     "language": "python",
     "metadata": {},
     "outputs": [
      {
       "metadata": {},
       "output_type": "pyout",
       "prompt_number": 106,
       "text": [
        "(-3.5648567431323386e-16, 144.03522349816566, 288.07044699632962)"
       ]
      }
     ],
     "prompt_number": 106
    },
    {
     "cell_type": "code",
     "collapsed": false,
     "input": [
      "np.shape(h11)"
     ],
     "language": "python",
     "metadata": {},
     "outputs": [
      {
       "metadata": {},
       "output_type": "pyout",
       "prompt_number": 132,
       "text": [
        "(3620,)"
       ]
      }
     ],
     "prompt_number": 132
    },
    {
     "cell_type": "code",
     "collapsed": false,
     "input": [],
     "language": "python",
     "metadata": {},
     "outputs": [
      {
       "metadata": {},
       "output_type": "pyout",
       "prompt_number": 45,
       "text": [
        "1976.8318573239651"
       ]
      }
     ],
     "prompt_number": 45
    },
    {
     "cell_type": "code",
     "collapsed": false,
     "input": [
      "\n",
      "\n",
      "sgrid = georandsphere(5,3)\n",
      "\n"
     ],
     "language": "python",
     "metadata": {},
     "outputs": [],
     "prompt_number": 125
    },
    {
     "cell_type": "code",
     "collapsed": false,
     "input": [
      "k =20.0\n",
      "bandwidth = .5\n",
      "f = randfunc(k,bandwidth)"
     ],
     "language": "python",
     "metadata": {},
     "outputs": [],
     "prompt_number": 126
    },
    {
     "cell_type": "code",
     "collapsed": false,
     "input": [
      "grid"
     ],
     "language": "python",
     "metadata": {},
     "outputs": [
      {
       "ename": "NameError",
       "evalue": "name 'grid' is not defined",
       "output_type": "pyerr",
       "traceback": [
        "\u001b[1;31m---------------------------------------------------------------------------\u001b[0m\n\u001b[1;31mNameError\u001b[0m                                 Traceback (most recent call last)",
        "\u001b[1;32m<ipython-input-123-0816eed6a2d8>\u001b[0m in \u001b[0;36m<module>\u001b[1;34m()\u001b[0m\n\u001b[1;32m----> 1\u001b[1;33m \u001b[0mgrid\u001b[0m\u001b[1;33m\u001b[0m\u001b[0m\n\u001b[0m",
        "\u001b[1;31mNameError\u001b[0m: name 'grid' is not defined"
       ]
      }
     ],
     "prompt_number": 123
    },
    {
     "cell_type": "code",
     "collapsed": false,
     "input": [],
     "language": "python",
     "metadata": {},
     "outputs": []
    }
   ],
   "metadata": {}
  }
 ]
}