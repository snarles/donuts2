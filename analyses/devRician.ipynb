{
 "metadata": {
  "name": "",
  "signature": "sha256:c7419e1eeccfcf1bf59cea9f5291dfdd321b77e36e48f0d1e4dad9dfe348aff1"
 },
 "nbformat": 3,
 "nbformat_minor": 0,
 "worksheets": [
  {
   "cells": [
    {
     "cell_type": "code",
     "collapsed": false,
     "input": [
      "import numpy as np\n",
      "import numpy.random as npr\n",
      "import scipy as sp\n",
      "import scipy.stats as spst"
     ],
     "language": "python",
     "metadata": {},
     "outputs": [],
     "prompt_number": 1
    },
    {
     "cell_type": "code",
     "collapsed": false,
     "input": [
      "def rician_logpdf(x, nc, resolution = 100):\n",
      "    pts = 2 * np.pi * np.arange(0, 1.0, 1.0/resolution)\n",
      "    x_coords = x * np.cos(pts)\n",
      "    y_coords = x * np.sin(pts)\n",
      "    exponent = -0.5 * ((x_coords - np.sqrt(nc))**2 + y_coords**2)\n",
      "    exponent_max = max(exponent)\n",
      "    logave = np.log(sum(np.exp(exponent - exponent_max))) + exponent_max - np.log(resolution)\n",
      "    ans = np.log(x) + logave\n",
      "    return ans"
     ],
     "language": "python",
     "metadata": {},
     "outputs": [],
     "prompt_number": 36
    },
    {
     "cell_type": "code",
     "collapsed": false,
     "input": [
      "x = 2.0\n",
      "spst.chi.logpdf(x, df = 2), rician_logpdf(x, 0.0, 100)"
     ],
     "language": "python",
     "metadata": {},
     "outputs": [
      {
       "metadata": {},
       "output_type": "pyout",
       "prompt_number": 43,
       "text": [
        "(-1.3068528194400546, -1.3068528194400555)"
       ]
      }
     ],
     "prompt_number": 43
    },
    {
     "cell_type": "code",
     "collapsed": false,
     "input": [
      "xs = np.arange(0, 20.0, 0.05)\n",
      "nc = 100\n",
      "lps = np.array([rician_logpdf(x, nc) for x in xs])\n",
      "ps = np.exp(lps)\n",
      "nsize = 100000\n",
      "smp = np.sqrt(spst.ncx2.rvs(df = 2, nc = nc, size = nsize))"
     ],
     "language": "python",
     "metadata": {},
     "outputs": [],
     "prompt_number": 70
    },
    {
     "cell_type": "code",
     "collapsed": false,
     "input": [
      "import matplotlib.pyplot as plt\n",
      "%matplotlib inline\n",
      "\n",
      "hist = plt.hist(smp, bins = 50)\n",
      "binwidth = hist[1][1] - hist[1][0]\n",
      "plt.plot(xs, ps * nsize * binwidth, lw = 3)\n",
      "plt.show()"
     ],
     "language": "python",
     "metadata": {},
     "outputs": [
      {
       "metadata": {},
       "output_type": "display_data",
       "png": "[encoded data removed]",
       "text": [
        "<matplotlib.figure.Figure at 0x379d9d0>"
       ]
      }
     ],
     "prompt_number": 71
    },
    {
     "cell_type": "code",
     "collapsed": false,
     "input": [],
     "language": "python",
     "metadata": {},
     "outputs": []
    }
   ],
   "metadata": {}
  }
 ]
}