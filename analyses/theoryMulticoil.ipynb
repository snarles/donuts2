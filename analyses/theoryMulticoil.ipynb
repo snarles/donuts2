{
 "metadata": {
  "name": "",
  "signature": "sha256:a32715d068a2a760e3129623175674f2875fa8258340f25b981784974e628ed2"
 },
 "nbformat": 3,
 "nbformat_minor": 0,
 "worksheets": []
}