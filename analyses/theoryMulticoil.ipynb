{
 "metadata": {
  "name": "",
  "signature": "sha256:4f1ec90f20b2c0e5521c1abb5c817d4e93c5641f8c4ac4d58fd993f058bec2de"
 },
 "nbformat": 3,
 "nbformat_minor": 0,
 "worksheets": [
  {
   "cells": [
    {
     "cell_type": "markdown",
     "metadata": {},
     "source": [
      "# Single-voxel noise estimation with multiple coils and directions"
     ]
    },
    {
     "cell_type": "code",
     "collapsed": false,
     "input": [
      "f = open('../spark/sparkDonuts.py', 'r')\n",
      "exec(f.read())\n",
      "f.close()"
     ],
     "language": "python",
     "metadata": {},
     "outputs": [],
     "prompt_number": 2
    },
    {
     "cell_type": "markdown",
     "metadata": {},
     "source": [
      "# Introduction"
     ]
    },
    {
     "cell_type": "markdown",
     "metadata": {},
     "source": [
      "## Model\n",
      " * Consider a single voxel, with measurements in directions $d = 1, ... ,n_d$ and coils $c = 1, ... , n_c$.\n",
      " * The B=0 case is treated as a direction (the 'zero' direction)\n",
      " * The coils have correlated noise, $\\epsilon_dc$\n",
      " * The noise vector for a given direction $\\epsilon_d$ has covariance $\\Omega$, and $\\epsilon_d$ are independent for $d = 1,..., n_d$\n",
      " * Each coil also has a specific sensitivity $s_c \\in [0,1]$\n",
      " * Each direction has an 'ideal signal' $\\mu_d$\n",
      " * Define the separate coil measurements as $$y_{dc} = (s_c\\mu_d + \\epsilon_{dc})^2$$\n",
      " * Define the combined-coil measurement as $$Y_d = \\sum_{c} y_{dc}$$\n",
      " * There might be replicate measurements for a given direction.  \n",
      "    For example, if $d=1$ is the B0 direction, and if 10 B0 measurements were taken, we would write them as \n",
      "    $$Y_1^{(1)}, Y_1^{(2)}, ..., Y_1^{(10)}$$\n",
      "Reference: Aviv et al (2014), Wright and Wald (1997)"
     ]
    },
    {
     "cell_type": "markdown",
     "metadata": {},
     "source": [
      "## Problem\n",
      "\n",
      "We wish to estimate $\\sigma^2_d = Var(Y_d)$ for a given direction.\n",
      "\n",
      "## Option 1: Combined-coil\n",
      "\n",
      "The first option is to make use of multiple **combined-coil** estimates for the same direction.\n",
      "That is,\n",
      "$$\\hat{Var}(Y_d) = \\frac{1}{m-1} \\sum_{i=1}^m (Y_d^{(m)} - \\bar{Y}_d)^2$$\n",
      "This is clearly an unbiased estimated.\n",
      "\n",
      "## Option 2: Multiple-coil\n",
      "\n",
      "The second option is to estimate the covariances of the *separate coils*, and then make use of the fact that since\n",
      "\n",
      "$$Y_d = \\sum_c y_{dc}$$\n",
      "\n",
      "that\n",
      "\n",
      "$$Var(Y_d) = \\sum_{c, c'} Cov(y_{dc}, y_{dc'})$$\n",
      "\n",
      "But how can we estimate the covariance matrix  $\\Sigma_d = (Cov(y_{dc}, y_{dc'}))_{cc'}$?\n",
      "\n",
      "We can do so by combining information from **multiple directions** and **multiple coils**."
     ]
    },
    {
     "cell_type": "markdown",
     "metadata": {},
     "source": [
      "## Estimating the covariance for multiple coils\n",
      "\n",
      "Let us write the coil measurements in a $n_d \\times n_c$ matrix $M$\n",
      "$$\n",
      "M = \\begin{bmatrix}\n",
      "y_{11} & ...& y_{1 c} & ... & y_{1 n_c} \\\\\n",
      "...& ... & ... & ...& ... \\\\\n",
      "y_{d1} & ...& y_{dc} & ... & y_{d n_c} \\\\\n",
      "... & ... & ...& ... & ... \\\\\n",
      "y_{n_d 1} & ...& y_{n_d c} & ... & y_{n_d n_c}\\end{bmatrix}\n",
      "$$\n",
      "\n",
      "The first step is to estimate $E(y_{dc})$ .\n",
      "To do so, note that $$E[y_{dc}] = s_c^2 \\mu_d^2 + \\sigma^2$$\n",
      "where $\\sigma^2 = Var(\\epsilon_{dc})$ (assumed constant).\n",
      "\n",
      "Therefore\n",
      "$$\n",
      "E(M) = \n",
      "\\begin{bmatrix}\n",
      "\\mu_1^2 s_1^2 & ...& \\mu_1^2 s_c^2 & ... & \\mu_1^2 s_{n_c}^2 \\\\\n",
      "...& ... & ... & ...& ... \\\\\n",
      "\\mu_d^2 s_1^2 & ...& \\mu_d^2 s_c^2 & ... & \\mu_d^2 s_{n_c}^2 \\\\\n",
      "... & ... & ...& ... & ... \\\\\n",
      "\\mu_{n_d}^2 s_1^2 & ...& \\mu_{n_d}^2 s_c^2 & ... & \\mu_{n_d}^2 s_{n_c}^2\n",
      "\\end{bmatrix} + \\sigma^2\n",
      "$$\n",
      "**which is a rank two matrix.**\n",
      "\n",
      "That is, \n",
      "$$\n",
      "E(M) = \\sigma^2\n",
      "\\begin{bmatrix}1 \\\\ ... \\\\1\\end{bmatrix} \\begin{bmatrix}1 & ... & 1\\end{bmatrix} + \n",
      "\\begin{bmatrix}\\mu_1^2 \\\\ ... \\\\mu_{n_d}^2\\end{bmatrix} \\begin{bmatrix}s_1^2 & ... & s_{n_c}^2\\end{bmatrix}\n",
      "$$\n",
      "\n",
      "### Therefore, estimate E(M) by the rank-two approximation of M.\n",
      "\n",
      "Let $\\hat{M}$ denote this rank-two estimate, with entries $m_{dc}$\n",
      "\n",
      "Then estimate $\\hat{Cov}(y_{dc}, y_{dc'}) = (y_{dc} - m_{dc})(y_{dc'} - m_{dc'})$.\n",
      "\n",
      "**Note:** This is not an unbiased estimate, but we can work out a correction factor."
     ]
    },
    {
     "cell_type": "code",
     "collapsed": false,
     "input": [],
     "language": "python",
     "metadata": {},
     "outputs": []
    }
   ],
   "metadata": {}
  }
 ]
}