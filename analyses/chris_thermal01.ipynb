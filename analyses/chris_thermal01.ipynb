{
 "metadata": {
  "name": "",
  "signature": "sha256:08497baa6c377e6d66b5b4fbd44e6365155d0e09965157c71ce8914b4c7f7797"
 },
 "nbformat": 3,
 "nbformat_minor": 0,
 "worksheets": [
  {
   "cells": [
    {
     "cell_type": "markdown",
     "metadata": {},
     "source": [
      "# Thermal noise in white matter"
     ]
    },
    {
     "cell_type": "code",
     "collapsed": false,
     "input": [
      "import os\n",
      "import subprocess\n",
      "import donuts.deconv.utils as du\n",
      "import donuts.deconv.ncx as dn\n",
      "import nibabel as nib\n",
      "import numpy as np\n",
      "import numpy.random as npr\n",
      "import scipy.optimize as spo\n",
      "import numpy.linalg as nla\n",
      "from operator import add\n",
      "from pyspark.mllib.clustering import KMeans\n",
      "import matplotlib.pyplot as plt"
     ],
     "language": "python",
     "metadata": {},
     "outputs": [],
     "prompt_number": 1
    },
    {
     "cell_type": "code",
     "collapsed": false,
     "input": [
      "def standardize(x):\n",
      "    return (x - np.mean(x))/np.std(x)\n",
      "\n",
      "def sdot(a, b):\n",
      "    return np.squeeze(np.dot(a, b))\n",
      "\n",
      "def par(st):\n",
      "    return np.array([float(v) for v in str(st).split(' ')])\n",
      "\n",
      "def depar(x):\n",
      "    return ' '.join(str(xx) for xx in x)\n",
      "\n",
      "def arr_red(x, y):\n",
      "    return np.vstack([x, y])\n",
      "\n",
      "def array_to_rdd(a, parts = 48, rm = False, fn = 0):\n",
      "    if fn == 0:\n",
      "        fn = 'temp' + str(npr.randint(0, 999999)) + '.txt'\n",
      "    os.chdir('/root/ephemeral-hdfs/bin')\n",
      "    np.savetxt(fn, a, fmt = '%.9e')\n",
      "    os.system('./hadoop fs -put ' + fn + ' ' + fn)\n",
      "    rawrdd = sc.textFile(fn, parts).map(par).cache()\n",
      "    rawrdd.count()\n",
      "    if rm:\n",
      "        os.system('rm ' + fn)\n",
      "    return rawrdd\n",
      "\n",
      "def rdd_to_array(rawrdd, parts = 48, rm = False, fn = 0):\n",
      "    if fn == 0:\n",
      "        fn = 'temp' + str(npr.randint(0, 999999)) + '.txt'\n",
      "    os.chdir('/root/ephemeral-hdfs/bin')\n",
      "    rawrdd.map(depar).saveAsTextFile(fn)\n",
      "    os.system('./hadoop fs -getmerge ' + fn + ' ' + fn)\n",
      "    a = np.loadtxt(fn)\n",
      "    # cleanup\n",
      "    os.system('rm ' + fn)\n",
      "    os.system('./hadoop fs -rmr ' + fn)\n",
      "    return a\n",
      "\n",
      "def rank1_approx(a):\n",
      "    u, s, v = nla.svd(a, False)\n",
      "    return s[0] * np.outer(u[:, 0], v[0, :])"
     ],
     "language": "python",
     "metadata": {},
     "outputs": [],
     "prompt_number": 2
    },
    {
     "cell_type": "code",
     "collapsed": false,
     "input": [
      "os.chdir('/root/data')\n",
      "subprocess.check_output('aws s3 cp s3://rawpredator/chris1/coil_comb_ec.nii.gz coil_comb1_ec.nii.gz', shell=True)\n",
      "subprocess.check_output('aws s3 cp s3://rawpredator/chris2/coil_comb_ec.nii.gz coil_comb2_ec.nii.gz', shell=True)\n",
      "subprocess.check_output('aws s3 cp s3://rawpredator/8631_2_1_wm_mask.nii.gz .', shell=True)\n",
      "subprocess.check_output('aws s3 cp s3://chris1data/chris1_bvec.csv .', shell=True)\n",
      "subprocess.check_output('aws s3 cp s3://chris2data/chris2_bvec.csv .', shell=True)"
     ],
     "language": "python",
     "metadata": {},
     "outputs": [
      {
       "metadata": {},
       "output_type": "pyout",
       "prompt_number": 3,
       "text": [
        "'download: s3://chris2data/chris2_bvec.csv to ./chris2_bvec.csv\\n'"
       ]
      }
     ],
     "prompt_number": 3
    },
    {
     "cell_type": "code",
     "collapsed": false,
     "input": [
      "coil_data1 = nib.load('/root/data/coil_comb1_ec.nii.gz').get_data()\n",
      "coil_data2 = nib.load('/root/data/coil_comb2_ec.nii.gz').get_data()\n",
      "bvecs1 = np.loadtxt('/root/data/chris1_bvec.csv').T\n",
      "bvecs2 = np.loadtxt('/root/data/chris1_bvec.csv').T\n",
      "b0_inds = np.where(sum(bvecs1**2, 1) == 0)[0]\n",
      "b0_inds = b0_inds[2:]\n",
      "diff_inds = np.where(sum(bvecs1**2, 1) > 0)[0]\n",
      "wm_mask = nib.load('/root/data/8631_2_1_wm_mask.nii.gz').get_data()\n",
      "ggrid = du.georandsphere(4, 5)\n",
      "pp = np.shape(ggrid)[0]\n",
      "amat1 = du.ste_tan_kappa(2*ggrid, bvecs1)\n",
      "amat2 = du.ste_tan_kappa(2*ggrid, bvecs2)\n",
      "wm_coords = np.array(np.unravel_index(np.where(wm_mask.ravel()==1)[0], np.shape(wm_mask))).T\n",
      "wm_vox1 = np.sqrt(coil_data1[wm_coords[:, 0], wm_coords[:, 1], wm_coords[:, 2], :])\n",
      "wm_vox2 = np.sqrt(coil_data2[wm_coords[:, 0], wm_coords[:, 1], wm_coords[:, 2], :])"
     ],
     "language": "python",
     "metadata": {},
     "outputs": [],
     "prompt_number": 11
    },
    {
     "cell_type": "code",
     "collapsed": false,
     "input": [
      "varis1 = np.array([np.var(x) for x in wm_vox1])\n",
      "varis2 = np.array([np.var(x) for x in wm_vox2])\n",
      "vthres = 0.1\n",
      "f_inds = np.where(varis1 < vthres)[0]\n",
      "wmc_f = wm_coords[f_inds, :]\n",
      "nwf = len(f_inds)\n",
      "nwf"
     ],
     "language": "python",
     "metadata": {},
     "outputs": [
      {
       "metadata": {},
       "output_type": "pyout",
       "prompt_number": 6,
       "text": [
        "14122"
       ]
      }
     ],
     "prompt_number": 6
    },
    {
     "cell_type": "code",
     "collapsed": false,
     "input": [
      "parts = 200\n",
      "wm_diff1 = wm_vox1[f_inds, :]\n",
      "wm_diff2 = wm_vox2[f_inds, :]\n",
      "wm_diff = np.hstack([wm_diff1, wm_diff2])\n",
      "wm_diff_rdd = array_to_rdd(wm_diff, parts)"
     ],
     "language": "python",
     "metadata": {},
     "outputs": [],
     "prompt_number": 19
    },
    {
     "cell_type": "markdown",
     "metadata": {},
     "source": [
      "## CV params"
     ]
    },
    {
     "cell_type": "code",
     "collapsed": false,
     "input": [
      "perm = npr.permutation(len(diff_inds))\n",
      "tr_inds = diff_inds[perm[:120]]\n",
      "te_inds = diff_inds[perm[120:]]\n",
      "len(tr_inds), len(te_inds)"
     ],
     "language": "python",
     "metadata": {},
     "outputs": [
      {
       "metadata": {},
       "output_type": "pyout",
       "prompt_number": 20,
       "text": [
        "(120, 18)"
       ]
      }
     ],
     "prompt_number": 20
    },
    {
     "cell_type": "code",
     "collapsed": false,
     "input": [
      "tr_amat1 = amat1[tr_inds, :]\n",
      "te_amat1 = amat1[te_inds, :]\n",
      "tr_amat2 = amat2[tr_inds, :]\n",
      "te_amat2 = amat2[te_inds, :]"
     ],
     "language": "python",
     "metadata": {},
     "outputs": [],
     "prompt_number": 53
    },
    {
     "cell_type": "code",
     "collapsed": false,
     "input": [
      "noise_delta = 0.05\n",
      "n_noise = 30\n",
      "\n",
      "def proc(x):\n",
      "    y1 = x[:150]\n",
      "    y2 = x[150:300]\n",
      "    return y1, y2\n",
      "\n",
      "# chooses best sigma using CV on data 1, fits data 2 using multiples of best_sigma\n",
      "def f00(x):\n",
      "    y1, y2 = proc(x)\n",
      "    errs = np.zeros(n_noise)\n",
      "    for i in range(n_noise):\n",
      "        const = float(i) * noise_delta\n",
      "        y = y1**2 - const\n",
      "        y[y < 0] = 0\n",
      "        tr_y = y[tr_inds]\n",
      "        te_y = y1[te_inds]\n",
      "        bt = spo.nnls(tr_amat1, tr_y)[0]\n",
      "        pr_y = sdot(te_amat1, bt)\n",
      "        errs[i] = sum((te_y**2 - const - pr_y**2)**2)\n",
      "    best_ind = np.where(errs == min(errs))[0]\n",
      "    new_errs = np.zeros(n_noise)\n",
      "    for i in range(n_noise):\n",
      "        const = 2 * float(i)/n_noise * best_ind * noise_delta\n",
      "        y = y2**2 - const\n",
      "        y[y < 0] = 0\n",
      "        tr_y = y[tr_inds]\n",
      "        te_y = y2[te_inds]\n",
      "        bt = spo.nnls(tr_amat2, tr_y)[0]\n",
      "        pr_y = sdot(te_amat2, bt)\n",
      "        new_errs[i] = sum((te_y**2 - const - pr_y**2)**2)    \n",
      "    return np.hstack([best_ind * noise_delta, errs, new_errs])"
     ],
     "language": "python",
     "metadata": {},
     "outputs": [],
     "prompt_number": 87
    },
    {
     "cell_type": "code",
     "collapsed": false,
     "input": [
      "cv_results = rdd_to_array(wm_diff_rdd.map(f00))"
     ],
     "language": "python",
     "metadata": {},
     "outputs": [],
     "prompt_number": 56
    },
    {
     "cell_type": "code",
     "collapsed": false,
     "input": [
      "np.shape(cv_results)"
     ],
     "language": "python",
     "metadata": {},
     "outputs": [
      {
       "metadata": {},
       "output_type": "pyout",
       "prompt_number": 60,
       "text": [
        "(14122, 61)"
       ]
      }
     ],
     "prompt_number": 60
    },
    {
     "cell_type": "code",
     "collapsed": false,
     "input": [
      "best_sigs = cv_results[:, 0]\n",
      "abs_sigs = cv_results[:, 1:31]\n",
      "rel_sigs = cv_results[:, 31:61]"
     ],
     "language": "python",
     "metadata": {},
     "outputs": [],
     "prompt_number": 61
    },
    {
     "cell_type": "code",
     "collapsed": false,
     "input": [
      "np.mean(rel_sigs[:, 15])"
     ],
     "language": "python",
     "metadata": {},
     "outputs": [
      {
       "metadata": {},
       "output_type": "pyout",
       "prompt_number": 126,
       "text": [
        "1.8266238567050168"
       ]
      }
     ],
     "prompt_number": 126
    },
    {
     "cell_type": "code",
     "collapsed": false,
     "input": [
      "avg = np.mean(rel_sigs, 0)\n",
      "rels = np.array([2 * float(i)/n_noise for i in range(n_noise)])\n",
      "print(avg[rels == 1.0][0])\n",
      "plt.plot(rels, avg)"
     ],
     "language": "python",
     "metadata": {},
     "outputs": [
      {
       "output_type": "stream",
       "stream": "stdout",
       "text": [
        "1.82662385671\n"
       ]
      },
      {
       "metadata": {},
       "output_type": "pyout",
       "prompt_number": 83,
       "text": [
        "[<matplotlib.lines.Line2D at 0x7f589e97a790>]"
       ]
      },
      {
       "metadata": {},
       "output_type": "display_data",
       "png": "[encoded data removed]",
       "text": [
        "<matplotlib.figure.Figure at 0x7f589eb59990>"
       ]
      }
     ],
     "prompt_number": 83
    },
    {
     "cell_type": "code",
     "collapsed": false,
     "input": [
      "sigs = np.array([float(i) * noise_delta for i in range(n_noise)])"
     ],
     "language": "python",
     "metadata": {},
     "outputs": [],
     "prompt_number": 65
    },
    {
     "cell_type": "code",
     "collapsed": false,
     "input": [
      "avg = np.mean(abs_sigs, 0)\n",
      "overall_sig = sigs[avg == min(avg)][0]\n",
      "overall_sig"
     ],
     "language": "python",
     "metadata": {},
     "outputs": [
      {
       "metadata": {},
       "output_type": "pyout",
       "prompt_number": 72,
       "text": [
        "0.70000000000000007"
       ]
      }
     ],
     "prompt_number": 72
    },
    {
     "cell_type": "code",
     "collapsed": false,
     "input": [
      "# fits data2 using best GLOBAL sigma\n",
      "def f01(x):\n",
      "    y1, y2 = proc(x)\n",
      "    const = overall_sig\n",
      "    y = y2**2 - const\n",
      "    y[y < 0] = 0\n",
      "    tr_y = y[tr_inds]\n",
      "    te_y = y2[te_inds]\n",
      "    bt = spo.nnls(tr_amat2, tr_y)[0]\n",
      "    pr_y = sdot(te_amat2, bt)\n",
      "    return np.array([sum((te_y**2 - const - pr_y**2)**2), 0])"
     ],
     "language": "python",
     "metadata": {},
     "outputs": [],
     "prompt_number": 79
    },
    {
     "cell_type": "code",
     "collapsed": false,
     "input": [
      "ov_results = rdd_to_array(wm_diff_rdd.map(f01))"
     ],
     "language": "python",
     "metadata": {},
     "outputs": [],
     "prompt_number": 80
    },
    {
     "cell_type": "code",
     "collapsed": false,
     "input": [
      "np.mean(ov_results, 0)[0]"
     ],
     "language": "python",
     "metadata": {},
     "outputs": [
      {
       "metadata": {},
       "output_type": "pyout",
       "prompt_number": 82,
       "text": [
        "1.7739059181413401"
       ]
      }
     ],
     "prompt_number": 82
    },
    {
     "cell_type": "code",
     "collapsed": false,
     "input": [
      "wm_diff2 = np.hstack([wm_diff, cv_results[:, :2]])\n",
      "wm_diff2_rdd = array_to_rdd(wm_diff2)"
     ],
     "language": "python",
     "metadata": {},
     "outputs": [],
     "prompt_number": 85
    },
    {
     "cell_type": "code",
     "collapsed": false,
     "input": [
      "# fits data 2 using best CV sigma from data 1 shrunk towards best GLOBAL sigma\n",
      "del_prop = 0.1\n",
      "def f02(x):\n",
      "    y1, y2 = proc(x)\n",
      "    best_sig = x[150]\n",
      "    new_errs = np.zeros(n_noise)\n",
      "    for i in range(n_noise):\n",
      "        prop = float(i)/n_noise * del_prop\n",
      "        const = prop * best_sig + (1-prop) * overall_sig\n",
      "        y = y2**2 - const\n",
      "        y[y < 0] = 0\n",
      "        tr_y = y[tr_inds]\n",
      "        te_y = y2[te_inds]\n",
      "        bt = spo.nnls(tr_amat2, tr_y)[0]\n",
      "        pr_y = sdot(te_amat2, bt)\n",
      "        new_errs[i] = sum((te_y**2 - const - pr_y**2)**2)    \n",
      "    return new_errs"
     ],
     "language": "python",
     "metadata": {},
     "outputs": [],
     "prompt_number": 91
    },
    {
     "cell_type": "code",
     "collapsed": false,
     "input": [
      "shrink_results = rdd_to_array(wm_diff2_rdd.map(f02))"
     ],
     "language": "python",
     "metadata": {},
     "outputs": [],
     "prompt_number": 94
    },
    {
     "cell_type": "code",
     "collapsed": false,
     "input": [
      "props = np.array([float(i)/n_noise * del_prop for i in range(n_noise)])\n",
      "avg = np.mean(shrink_results, 0)\n",
      "best_s_ind = np.where(avg == min(avg))[0]\n",
      "plt.plot(props, avg)"
     ],
     "language": "python",
     "metadata": {},
     "outputs": [
      {
       "metadata": {},
       "output_type": "pyout",
       "prompt_number": 111,
       "text": [
        "[<matplotlib.lines.Line2D at 0x7f589e596090>]"
       ]
      },
      {
       "metadata": {},
       "output_type": "display_data",
       "png": "[encoded data removed]",
       "text": [
        "<matplotlib.figure.Figure at 0x7f589e4ab550>"
       ]
      }
     ],
     "prompt_number": 111
    },
    {
     "cell_type": "code",
     "collapsed": false,
     "input": [
      "best_shrink = props[avg == min(avg)][0]\n",
      "best_shrink"
     ],
     "language": "python",
     "metadata": {},
     "outputs": [
      {
       "metadata": {},
       "output_type": "pyout",
       "prompt_number": 99,
       "text": [
        "0.029999999999999999"
       ]
      }
     ],
     "prompt_number": 99
    },
    {
     "cell_type": "code",
     "collapsed": false,
     "input": [
      "# uses CV to fit data 2\n",
      "def f03(x):\n",
      "    y1, y2 = proc(x)\n",
      "    errs = np.zeros(n_noise)\n",
      "    for i in range(n_noise):\n",
      "        const = float(i) * noise_delta\n",
      "        y = y2**2 - const\n",
      "        y[y < 0] = 0\n",
      "        tr_y = y[tr_inds]\n",
      "        te_y = y2[te_inds]\n",
      "        bt = spo.nnls(tr_amat2, tr_y)[0]\n",
      "        pr_y = sdot(te_amat2, bt)\n",
      "        errs[i] = sum((te_y**2 - const - pr_y**2)**2)\n",
      "    best_ind = np.where(errs == min(errs))[0]\n",
      "    return np.hstack([best_ind * noise_delta, errs])"
     ],
     "language": "python",
     "metadata": {},
     "outputs": [],
     "prompt_number": 103
    },
    {
     "cell_type": "code",
     "collapsed": false,
     "input": [
      "cverrs2 = rdd_to_array(wm_diff_rdd.map(f03))"
     ],
     "language": "python",
     "metadata": {},
     "outputs": [],
     "prompt_number": 104
    },
    {
     "cell_type": "code",
     "collapsed": false,
     "input": [
      "avg = np.mean(cverrs2[:, 1:], 0)\n",
      "overall_sig2 = sigs[avg == min(avg)][0]\n",
      "overall_sig2"
     ],
     "language": "python",
     "metadata": {},
     "outputs": [
      {
       "metadata": {},
       "output_type": "pyout",
       "prompt_number": 106,
       "text": [
        "0.70000000000000007"
       ]
      }
     ],
     "prompt_number": 106
    },
    {
     "cell_type": "code",
     "collapsed": false,
     "input": [
      "wm_diff3 = np.hstack([wm_diff, cverrs2[:, :2]])\n",
      "wm_diff3_rdd = array_to_rdd(wm_diff2)"
     ],
     "language": "python",
     "metadata": {},
     "outputs": [],
     "prompt_number": 107
    },
    {
     "cell_type": "code",
     "collapsed": false,
     "input": [
      "# fits data 1 using best CV sigma from data 2 shrunk towards best GLOBAL sigma\n",
      "del_prop = 0.1\n",
      "def f04(x):\n",
      "    y1, y2 = proc(x)\n",
      "    best_sig = x[150]\n",
      "    new_errs = np.zeros(n_noise)\n",
      "    for i in range(n_noise):\n",
      "        prop = float(i)/n_noise * del_prop\n",
      "        const = prop * best_sig + (1-prop) * overall_sig2\n",
      "        y = y1**2 - const\n",
      "        y[y < 0] = 0\n",
      "        tr_y = y[tr_inds]\n",
      "        te_y = y1[te_inds]\n",
      "        bt = spo.nnls(tr_amat1, tr_y)[0]\n",
      "        pr_y = sdot(te_amat1, bt)\n",
      "        new_errs[i] = sum((te_y**2 - const - pr_y**2)**2)    \n",
      "    return new_errs"
     ],
     "language": "python",
     "metadata": {},
     "outputs": [],
     "prompt_number": 108
    },
    {
     "cell_type": "code",
     "collapsed": false,
     "input": [
      "shrink_results2 = rdd_to_array(wm_diff3_rdd.map(f04))"
     ],
     "language": "python",
     "metadata": {},
     "outputs": [],
     "prompt_number": 109
    },
    {
     "cell_type": "code",
     "collapsed": false,
     "input": [
      "avg = np.mean(shrink_results2, 0)\n",
      "print(best_s_ind[0])\n",
      "print(np.where(avg == min(avg)))\n",
      "plt.plot(props, avg)"
     ],
     "language": "python",
     "metadata": {},
     "outputs": [
      {
       "output_type": "stream",
       "stream": "stdout",
       "text": [
        "9\n",
        "(array([6]),)\n"
       ]
      },
      {
       "metadata": {},
       "output_type": "pyout",
       "prompt_number": 130,
       "text": [
        "[<matplotlib.lines.Line2D at 0x7f589e259810>]"
       ]
      },
      {
       "metadata": {},
       "output_type": "display_data",
       "png": "[encoded data removed]",
       "text": [
        "<matplotlib.figure.Figure at 0x7f589e2cc250>"
       ]
      }
     ],
     "prompt_number": 130
    },
    {
     "cell_type": "code",
     "collapsed": false,
     "input": [],
     "language": "python",
     "metadata": {},
     "outputs": []
    },
    {
     "cell_type": "code",
     "collapsed": false,
     "input": [
      "avg[0], avg[best_s_ind][0]"
     ],
     "language": "python",
     "metadata": {},
     "outputs": [
      {
       "metadata": {},
       "output_type": "pyout",
       "prompt_number": 113,
       "text": [
        "(1.7739059181413401, 1.7695615715018314)"
       ]
      }
     ],
     "prompt_number": 113
    },
    {
     "cell_type": "code",
     "collapsed": false,
     "input": [
      "fig = plt.figure()\n",
      "ax = fig.add_subplot(1, 1, 1)\n",
      "ax.scatter(rel_sigs[:, 0], rel_sigs[:, 15])\n",
      "ax.plot([0, 20], [0, 20], color = 'red')"
     ],
     "language": "python",
     "metadata": {},
     "outputs": [
      {
       "metadata": {},
       "output_type": "pyout",
       "prompt_number": 134,
       "text": [
        "[<matplotlib.lines.Line2D at 0x7f589df4fe10>]"
       ]
      },
      {
       "metadata": {},
       "output_type": "display_data",
       "png": "[encoded data removed]",
       "text": [
        "<matplotlib.figure.Figure at 0x7f589e04ce50>"
       ]
      }
     ],
     "prompt_number": 134
    },
    {
     "cell_type": "code",
     "collapsed": false,
     "input": [
      "fig = plt.figure()\n",
      "ax = fig.add_subplot(1, 1, 1)\n",
      "ax.scatter(abs_sigs[:, 0], shrink_results2[:, 9])\n",
      "ax.plot([0, 20], [0, 20], color = 'red')"
     ],
     "language": "python",
     "metadata": {},
     "outputs": [
      {
       "metadata": {},
       "output_type": "pyout",
       "prompt_number": 133,
       "text": [
        "[<matplotlib.lines.Line2D at 0x7f589e015a50>]"
       ]
      },
      {
       "metadata": {},
       "output_type": "display_data",
       "png": "[encoded data removed]",
       "text": [
        "<matplotlib.figure.Figure at 0x7f589e112290>"
       ]
      }
     ],
     "prompt_number": 133
    },
    {
     "cell_type": "code",
     "collapsed": false,
     "input": [],
     "language": "python",
     "metadata": {},
     "outputs": []
    }
   ],
   "metadata": {}
  }
 ]
}