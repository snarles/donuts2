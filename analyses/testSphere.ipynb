{
 "metadata": {
  "name": "",
  "signature": "sha256:99d41d8f88930e36c322d121459cde6585f90fdc9f91a418ace930ce95c17597"
 },
 "nbformat": 3,
 "nbformat_minor": 0,
 "worksheets": [
  {
   "cells": [
    {
     "cell_type": "code",
     "collapsed": false,
     "input": [
      "# demos from tutorial\n",
      "import matplotlib as mpl\n",
      "from mpl_toolkits.mplot3d import Axes3D\n",
      "import numpy as np\n",
      "import matplotlib.pyplot as plt\n",
      "\n",
      "mpl.rcParams['legend.fontsize'] = 10\n",
      "\n",
      "fig = plt.figure()\n",
      "ax = fig.gca(projection='3d')\n",
      "theta = np.linspace(-4 * np.pi, 4 * np.pi, 100)\n",
      "z = np.linspace(-2, 2, 100)\n",
      "r = z**2 + 1\n",
      "x = r * np.sin(theta)\n",
      "y = r * np.cos(theta)\n",
      "ax.plot(x, y, z, label='parametric curve')\n",
      "ax.legend()\n",
      "\n",
      "plt.show()"
     ],
     "language": "python",
     "metadata": {},
     "outputs": [],
     "prompt_number": 1
    },
    {
     "cell_type": "code",
     "collapsed": false,
     "input": [
      "def randrange(n, vmin, vmax):\n",
      "    return (vmax-vmin)*np.random.rand(n) + vmin\n",
      "\n",
      "fig = plt.figure()\n",
      "ax = fig.add_subplot(111, projection='3d')\n",
      "n = 100\n",
      "for c, m, zl, zh in [('r', 'o', -50, -25), ('b', '^', -30, -5)]:\n",
      "    xs = randrange(n, 23, 32)\n",
      "    ys = randrange(n, 0, 100)\n",
      "    zs = randrange(n, zl, zh)\n",
      "    ax.scatter(xs, ys, zs, c=c, marker=m)\n",
      "\n",
      "ax.set_xlabel('X Label')\n",
      "ax.set_ylabel('Y Label')\n",
      "ax.set_zlabel('Z Label')\n",
      "\n",
      "plt.show()"
     ],
     "language": "python",
     "metadata": {},
     "outputs": [],
     "prompt_number": 2
    },
    {
     "cell_type": "code",
     "collapsed": false,
     "input": [
      "import numpy as np\n",
      "import numpy.linalg as nla"
     ],
     "language": "python",
     "metadata": {},
     "outputs": [],
     "prompt_number": 33
    },
    {
     "cell_type": "code",
     "collapsed": false,
     "input": [
      "np.shape(np.zeros((1,1)))"
     ],
     "language": "python",
     "metadata": {},
     "outputs": [
      {
       "metadata": {},
       "output_type": "pyout",
       "prompt_number": 51,
       "text": [
        "(1, 1)"
       ]
      }
     ],
     "prompt_number": 51
    },
    {
     "cell_type": "code",
     "collapsed": false,
     "input": [
      "def ordered_partitions(n,k):\n",
      "    if k==1:\n",
      "        return n*np.ones((1,1))\n",
      "    subparts = [0]*(n+1)\n",
      "    for ii in range(n+1):\n",
      "        temp = ordered_partitions(n-ii,k-1)\n",
      "        temp_p = np.shape(temp)[0]\n",
      "        subparts[ii] = np.hstack([ii*np.ones((temp_p,1)),temp])\n",
      "    return np.vstack(subparts)\n",
      "\n",
      "def geosphere(n):\n",
      "    # returns a 3x?? spherical design\n",
      "    # set up icosahedron\n",
      "    v = np.zeros((3,12))\n",
      "    v[:,0] = [0,0,1]\n",
      "    v[:,11] = [0,0,-1]\n",
      "    seq1 = 2.0*np.arange(1,6,1.0)*np.pi/5\n",
      "    seq2 = seq1 + np.pi/5\n",
      "    v[:,1:6] = 2.0/np.sqrt(5) * np.vstack([np.cos(seq1),np.sin(seq1),0.5*np.ones(5)])\n",
      "    v[:,6:11] = 2.0/np.sqrt(5) * np.vstack([np.cos(seq2),np.sin(seq2),-.5*np.ones(5)])\n",
      "    edges = [0]*30\n",
      "    for ii in range(5):\n",
      "        edges[ii] = (v[:,0],v[:,1+ii])\n",
      "        edges[2*(ii+1)+8] = (v[:,1+ii],v[:,6+ii])\n",
      "        edges[25+ii] = (v[:,11],v[:,6+ii])\n",
      "    for ii in range(4):\n",
      "        edges[ii+5] = (v[:,1+ii],v[:,2+ii])\n",
      "        edges[ii+20] = (v[:,6+ii],v[:,7+ii])\n",
      "        edges[2*(ii+1)+9] = (v[:,2+ii],v[:,6+ii])\n",
      "    edges[9] = (v[:,5],v[:,1])\n",
      "    edges[19] = (v[:,1],v[:,10])\n",
      "    edges[24] = (v[:,10],v[:,6])\n",
      "\n",
      "    faces = [0]*20\n",
      "    for ii in range(4):\n",
      "        faces[ii] = (v[:,0],v[:,1+ii],v[:,2+ii])\n",
      "        faces[15+ii] = (v[:,11],v[:,6+ii],v[:,7+ii])\n",
      "        faces[2*(ii+1)+3] = (v[:,1+ii],v[:,6+ii],v[:,2+ii])\n",
      "        faces[2*(ii+1)+4] = (v[:,6+ii],v[:,2+ii],v[:,7+ii])\n",
      "    faces[4] = (v[:,0],v[:,5],v[:,1])\n",
      "    faces[19] = (v[:,11],v[:,10],v[:,6])\n",
      "    faces[13] = (v[:,5],v[:,10],v[:,1])\n",
      "    faces[14] = (v[:,10],v[:,1],v[:,6])\n",
      "    # interpolate\n",
      "    v_final = [v]\n",
      "    pp = 12+30*(n-1)+10*(n-1)*(n-2)\n",
      "    if n > 1:\n",
      "        seq = np.arange(1,n,1.0)\n",
      "        mat = np.vstack([seq/n,1-(seq/n)])\n",
      "        v_edges = np.hstack([np.dot(np.vstack([x[0],x[1]]).T,mat) for x in edges])\n",
      "        v_final = v_final+[v_edges]\n",
      "    if n > 2:\n",
      "        mat2 = (1.0/n * (ordered_partitions(n-3,3)+1)).T\n",
      "        v_faces = np.hstack([np.dot(np.vstack([x[0],x[1],x[2]]).T,mat2) for x in faces])\n",
      "        v_final = v_final+[v_faces]\n",
      "    v_f = np.hstack(v_final)\n",
      "    v_norm = np.vstack([x/nla.norm(x) for x in v_f.T]).T\n",
      "    return v_norm"
     ],
     "language": "python",
     "metadata": {},
     "outputs": [],
     "prompt_number": 92
    },
    {
     "cell_type": "code",
     "collapsed": false,
     "input": [
      "# test icosahedron (v)\n",
      "v_norm = geosphere(10)\n",
      "fig = plt.figure()\n",
      "ax = fig.gca(projection='3d')\n",
      "ax.scatter(v_norm[0,:],v_norm[1,:],v_norm[2,:])\n",
      "plt.show()"
     ],
     "language": "python",
     "metadata": {},
     "outputs": [],
     "prompt_number": 94
    },
    {
     "cell_type": "code",
     "collapsed": false,
     "input": [],
     "language": "python",
     "metadata": {},
     "outputs": []
    }
   ],
   "metadata": {}
  }
 ]
}