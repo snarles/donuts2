{
 "metadata": {
  "name": "",
  "signature": "sha256:7019aff5beeecaee323ea1ba049ee91e66115873bc0eadbee4e03e2b72d500fb"
 },
 "nbformat": 3,
 "nbformat_minor": 0,
 "worksheets": [
  {
   "cells": [
    {
     "cell_type": "code",
     "collapsed": false,
     "input": [
      "# demos from tutorial\n",
      "import matplotlib as mpl\n",
      "from mpl_toolkits.mplot3d import Axes3D\n",
      "import numpy as np\n",
      "import matplotlib.pyplot as plt\n",
      "\n",
      "mpl.rcParams['legend.fontsize'] = 10\n",
      "\n",
      "fig = plt.figure()\n",
      "ax = fig.gca(projection='3d')\n",
      "theta = np.linspace(-4 * np.pi, 4 * np.pi, 100)\n",
      "z = np.linspace(-2, 2, 100)\n",
      "r = z**2 + 1\n",
      "x = r * np.sin(theta)\n",
      "y = r * np.cos(theta)\n",
      "ax.plot(x, y, z, label='parametric curve')\n",
      "ax.legend()\n",
      "\n",
      "plt.show()"
     ],
     "language": "python",
     "metadata": {},
     "outputs": [],
     "prompt_number": 1
    },
    {
     "cell_type": "code",
     "collapsed": false,
     "input": [
      "def randrange(n, vmin, vmax):\n",
      "    return (vmax-vmin)*np.random.rand(n) + vmin\n",
      "\n",
      "fig = plt.figure()\n",
      "ax = fig.add_subplot(111, projection='3d')\n",
      "n = 100\n",
      "for c, m, zl, zh in [('r', 'o', -50, -25), ('b', '^', -30, -5)]:\n",
      "    xs = randrange(n, 23, 32)\n",
      "    ys = randrange(n, 0, 100)\n",
      "    zs = randrange(n, zl, zh)\n",
      "    ax.scatter(xs, ys, zs, c=c, marker=m)\n",
      "\n",
      "ax.set_xlabel('X Label')\n",
      "ax.set_ylabel('Y Label')\n",
      "ax.set_zlabel('Z Label')\n",
      "\n",
      "plt.show()"
     ],
     "language": "python",
     "metadata": {},
     "outputs": [],
     "prompt_number": 2
    },
    {
     "cell_type": "code",
     "collapsed": false,
     "input": [],
     "language": "python",
     "metadata": {},
     "outputs": []
    }
   ],
   "metadata": {}
  }
 ]
}