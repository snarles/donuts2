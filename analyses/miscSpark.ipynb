{
 "metadata": {
  "name": "",
  "signature": "sha256:37186918454bad8c790ea8a9c913ed214fbbf70f538891e6a37d0212b5da39b3"
 },
 "nbformat": 3,
 "nbformat_minor": 0,
 "worksheets": [
  {
   "cells": [
    {
     "cell_type": "markdown",
     "metadata": {},
     "source": [
      "# Misc functions for spark"
     ]
    },
    {
     "cell_type": "code",
     "collapsed": false,
     "input": [
      "import cvxopt as cvx\n",
      "import numpy as np\n",
      "import numpy.random as npr\n",
      "import scipy as sp\n",
      "import scipy.optimize as spo"
     ],
     "language": "python",
     "metadata": {},
     "outputs": [
      {
       "output_type": "stream",
       "stream": "stderr",
       "text": [
        "/usr/local/lib/python2.7/dist-packages/setuptools-7.0-py2.7.egg/pkg_resources.py:1045: UserWarning: /home/snarles/.python-eggs is writable by group/others and vulnerable to attack when used with get_resource_filename. Consider a more secure location (set with .set_extraction_path or the PYTHON_EGG_CACHE environment variable).\n",
        "  warnings.warn(msg, UserWarning)\n"
       ]
      }
     ],
     "prompt_number": 1
    },
    {
     "cell_type": "code",
     "collapsed": false,
     "input": [
      "cvx.solvers.options['show_progress'] = False"
     ],
     "language": "python",
     "metadata": {},
     "outputs": [],
     "prompt_number": 2
    },
    {
     "cell_type": "code",
     "collapsed": false,
     "input": [
      "def norms(x) :\n",
      "    \"\"\" computes the norms of the rows of x \"\"\"\n",
      "    nms = np.sum(np.abs(x)**2,axis=-1)**(1./2)\n",
      "    return nms\n",
      "\n",
      "def normalize_rows(x):\n",
      "    \"\"\" normalizes the rows of x \"\"\"\n",
      "    n = np.shape(x)[0]\n",
      "    p = np.shape(x)[1]\n",
      "    nms = norms(x).reshape(-1,1)\n",
      "    x = np.multiply(x, 1./np.tile(nms,(1,p)))\n",
      "    return x\n",
      "\n",
      "def arcdist(xx,yy):\n",
      "    \"\"\" Computes pairwise arc-distance matrix\"\"\"\n",
      "    dm = np.absolute(np.dot(xx,yy.T))\n",
      "    dm[dm > .99999999999999999] = .99999999999999999\n",
      "    dd = np.arccos(dm)\n",
      "    return dd\n",
      "\n",
      "def divsum(x):\n",
      "    return x/sum(x)\n"
     ],
     "language": "python",
     "metadata": {},
     "outputs": [],
     "prompt_number": 11
    },
    {
     "cell_type": "code",
     "collapsed": false,
     "input": [
      "k1 = 5\n",
      "k2 = 3\n",
      "pp = 3\n",
      "x1 = normalize_rows(npr.normal(0, 1, (k1, pp)))\n",
      "x2 = normalize_rows(npr.normal(0, 1, (k2, pp)))\n",
      "w1 = divsum(npr.exponential(1, k1))\n",
      "w2 = divsum(npr.exponential(1, k2))"
     ],
     "language": "python",
     "metadata": {},
     "outputs": [],
     "prompt_number": 18
    },
    {
     "cell_type": "code",
     "collapsed": false,
     "input": [
      "dm = arcdist(x1, x2)\n",
      "dd = dm.ravel()\n",
      "k1 = np.shape(x1)[0]\n",
      "k2 = np.shape(x2)[0]\n",
      "a1 = np.kron(np.ones((1,k2)), np.eye(k1))\n",
      "a2 = np.kron(np.eye(k2), np.ones((1,k1)))\n",
      "aeq = np.vstack([a1, a2])\n",
      "beq = np.hstack([w1, w2])\n"
     ],
     "language": "python",
     "metadata": {},
     "outputs": [],
     "prompt_number": 19
    },
    {
     "cell_type": "code",
     "collapsed": false,
     "input": [
      "np.set_printoptions(linewidth = 120)\n",
      "aeq"
     ],
     "language": "python",
     "metadata": {},
     "outputs": [
      {
       "metadata": {},
       "output_type": "pyout",
       "prompt_number": 22,
       "text": [
        "array([[ 1.,  0.,  0.,  0.,  0.,  1.,  0.,  0.,  0.,  0.,  1.,  0.,  0.,  0.,  0.],\n",
        "       [ 0.,  1.,  0.,  0.,  0.,  0.,  1.,  0.,  0.,  0.,  0.,  1.,  0.,  0.,  0.],\n",
        "       [ 0.,  0.,  1.,  0.,  0.,  0.,  0.,  1.,  0.,  0.,  0.,  0.,  1.,  0.,  0.],\n",
        "       [ 0.,  0.,  0.,  1.,  0.,  0.,  0.,  0.,  1.,  0.,  0.,  0.,  0.,  1.,  0.],\n",
        "       [ 0.,  0.,  0.,  0.,  1.,  0.,  0.,  0.,  0.,  1.,  0.,  0.,  0.,  0.,  1.],\n",
        "       [ 1.,  1.,  1.,  1.,  1.,  0.,  0.,  0.,  0.,  0.,  0.,  0.,  0.,  0.,  0.],\n",
        "       [ 0.,  0.,  0.,  0.,  0.,  1.,  1.,  1.,  1.,  1.,  0.,  0.,  0.,  0.,  0.],\n",
        "       [ 0.,  0.,  0.,  0.,  0.,  0.,  0.,  0.,  0.,  0.,  1.,  1.,  1.,  1.,  1.]])"
       ]
      }
     ],
     "prompt_number": 22
    },
    {
     "cell_type": "code",
     "collapsed": false,
     "input": [
      "np.shape(aeq)"
     ],
     "language": "python",
     "metadata": {},
     "outputs": [
      {
       "metadata": {},
       "output_type": "pyout",
       "prompt_number": 23,
       "text": [
        "(8, 15)"
       ]
      }
     ],
     "prompt_number": 23
    },
    {
     "cell_type": "code",
     "collapsed": false,
     "input": [
      "np.shape(dd)"
     ],
     "language": "python",
     "metadata": {},
     "outputs": [
      {
       "metadata": {},
       "output_type": "pyout",
       "prompt_number": 25,
       "text": [
        "(15,)"
       ]
      }
     ],
     "prompt_number": 25
    },
    {
     "cell_type": "code",
     "collapsed": false,
     "input": [
      "def arc_emd(x1, w1, x2, w2):\n",
      "    dm = arcdist(x1, x2)\n",
      "    dd = dm.ravel()\n",
      "    k1 = np.shape(x1)[0]\n",
      "    k2 = np.shape(x2)[0]\n",
      "    a1 = np.kron(np.ones((1,k2)), np.eye(k1))\n",
      "    a2 = np.kron(np.eye(k2), np.ones((1,k1)))\n",
      "    aeq = np.vstack([a1, a2])\n",
      "    beq = np.hstack([w1, w2])\n",
      "    cvec = cvx.matrix(dd)\n",
      "    Gmat = cvx.matrix(-np.eye(len(dd)))\n",
      "    hvec = cvx.matrix(np.zeros(len(dd)))\n",
      "    Amat = cvx.matrix(aeq)\n",
      "    bvec = cvx.matrix(beq)\n",
      "    sol = cvx.solvers.lp(cvec, Gmat, hvec, Amat, bvec)\n",
      "    return sol"
     ],
     "language": "python",
     "metadata": {},
     "outputs": [],
     "prompt_number": 26
    },
    {
     "cell_type": "code",
     "collapsed": false,
     "input": [
      "arc_emd(x1, w1, x2, w2)"
     ],
     "language": "python",
     "metadata": {},
     "outputs": [
      {
       "ename": "ValueError",
       "evalue": "Rank(A) < p or Rank([G; A]) < n",
       "output_type": "pyerr",
       "traceback": [
        "\u001b[1;31m---------------------------------------------------------------------------\u001b[0m\n\u001b[1;31mValueError\u001b[0m                                Traceback (most recent call last)",
        "\u001b[1;32m<ipython-input-27-450214c3e9ec>\u001b[0m in \u001b[0;36m<module>\u001b[1;34m()\u001b[0m\n\u001b[1;32m----> 1\u001b[1;33m \u001b[0marc_emd\u001b[0m\u001b[1;33m(\u001b[0m\u001b[0mx1\u001b[0m\u001b[1;33m,\u001b[0m \u001b[0mw1\u001b[0m\u001b[1;33m,\u001b[0m \u001b[0mx2\u001b[0m\u001b[1;33m,\u001b[0m \u001b[0mw2\u001b[0m\u001b[1;33m)\u001b[0m\u001b[1;33m\u001b[0m\u001b[0m\n\u001b[0m",
        "\u001b[1;32m<ipython-input-26-288830a562bf>\u001b[0m in \u001b[0;36marc_emd\u001b[1;34m(x1, w1, x2, w2)\u001b[0m\n\u001b[0;32m     13\u001b[0m     \u001b[0mAmat\u001b[0m \u001b[1;33m=\u001b[0m \u001b[0mcvx\u001b[0m\u001b[1;33m.\u001b[0m\u001b[0mmatrix\u001b[0m\u001b[1;33m(\u001b[0m\u001b[0maeq\u001b[0m\u001b[1;33m)\u001b[0m\u001b[1;33m\u001b[0m\u001b[0m\n\u001b[0;32m     14\u001b[0m     \u001b[0mbvec\u001b[0m \u001b[1;33m=\u001b[0m \u001b[0mcvx\u001b[0m\u001b[1;33m.\u001b[0m\u001b[0mmatrix\u001b[0m\u001b[1;33m(\u001b[0m\u001b[0mbeq\u001b[0m\u001b[1;33m)\u001b[0m\u001b[1;33m\u001b[0m\u001b[0m\n\u001b[1;32m---> 15\u001b[1;33m     \u001b[0msol\u001b[0m \u001b[1;33m=\u001b[0m \u001b[0mcvx\u001b[0m\u001b[1;33m.\u001b[0m\u001b[0msolvers\u001b[0m\u001b[1;33m.\u001b[0m\u001b[0mlp\u001b[0m\u001b[1;33m(\u001b[0m\u001b[0mcvec\u001b[0m\u001b[1;33m,\u001b[0m \u001b[0mGmat\u001b[0m\u001b[1;33m,\u001b[0m \u001b[0mhvec\u001b[0m\u001b[1;33m,\u001b[0m \u001b[0mAmat\u001b[0m\u001b[1;33m,\u001b[0m \u001b[0mbvec\u001b[0m\u001b[1;33m)\u001b[0m\u001b[1;33m\u001b[0m\u001b[0m\n\u001b[0m\u001b[0;32m     16\u001b[0m     \u001b[1;32mreturn\u001b[0m \u001b[0msol\u001b[0m\u001b[1;33m\u001b[0m\u001b[0m\n",
        "\u001b[1;32m/usr/local/lib/python2.7/dist-packages/cvxopt-1.1.7-py2.7-linux-x86_64.egg/cvxopt/coneprog.pyc\u001b[0m in \u001b[0;36mlp\u001b[1;34m(c, G, h, A, b, solver, primalstart, dualstart)\u001b[0m\n\u001b[0;32m   3006\u001b[0m \u001b[1;33m\u001b[0m\u001b[0m\n\u001b[0;32m   3007\u001b[0m     return conelp(c, G, h, {'l': m, 'q': [], 's': []}, A,  b, primalstart,\n\u001b[1;32m-> 3008\u001b[1;33m         dualstart)\n\u001b[0m\u001b[0;32m   3009\u001b[0m \u001b[1;33m\u001b[0m\u001b[0m\n\u001b[0;32m   3010\u001b[0m \u001b[1;33m\u001b[0m\u001b[0m\n",
        "\u001b[1;32m/usr/local/lib/python2.7/dist-packages/cvxopt-1.1.7-py2.7-linux-x86_64.egg/cvxopt/coneprog.pyc\u001b[0m in \u001b[0;36mconelp\u001b[1;34m(c, G, h, dims, A, b, primalstart, dualstart, kktsolver, xnewcopy, xdot, xaxpy, xscal, ynewcopy, ydot, yaxpy, yscal)\u001b[0m\n\u001b[0;32m    681\u001b[0m         \u001b[1;32mtry\u001b[0m\u001b[1;33m:\u001b[0m \u001b[0mf\u001b[0m \u001b[1;33m=\u001b[0m \u001b[0mkktsolver\u001b[0m\u001b[1;33m(\u001b[0m\u001b[0mW\u001b[0m\u001b[1;33m)\u001b[0m\u001b[1;33m\u001b[0m\u001b[0m\n\u001b[0;32m    682\u001b[0m         \u001b[1;32mexcept\u001b[0m \u001b[0mArithmeticError\u001b[0m\u001b[1;33m:\u001b[0m\u001b[1;33m\u001b[0m\u001b[0m\n\u001b[1;32m--> 683\u001b[1;33m             \u001b[1;32mraise\u001b[0m \u001b[0mValueError\u001b[0m\u001b[1;33m(\u001b[0m\u001b[1;34m\"Rank(A) < p or Rank([G; A]) < n\"\u001b[0m\u001b[1;33m)\u001b[0m\u001b[1;33m\u001b[0m\u001b[0m\n\u001b[0m\u001b[0;32m    684\u001b[0m \u001b[1;33m\u001b[0m\u001b[0m\n\u001b[0;32m    685\u001b[0m     \u001b[1;32mif\u001b[0m \u001b[0mprimalstart\u001b[0m \u001b[1;32mis\u001b[0m \u001b[0mNone\u001b[0m\u001b[1;33m:\u001b[0m\u001b[1;33m\u001b[0m\u001b[0m\n",
        "\u001b[1;31mValueError\u001b[0m: Rank(A) < p or Rank([G; A]) < n"
       ]
      }
     ],
     "prompt_number": 27
    },
    {
     "cell_type": "code",
     "collapsed": false,
     "input": [],
     "language": "python",
     "metadata": {},
     "outputs": []
    }
   ],
   "metadata": {}
  }
 ]
}