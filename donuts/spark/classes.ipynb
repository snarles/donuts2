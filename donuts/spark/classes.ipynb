{
 "metadata": {
  "name": "",
  "signature": "sha256:ee350f5ae48397a1bbcc6eb7ebb93ea4779b891031941d2e0d394861d063877e"
 },
 "nbformat": 3,
 "nbformat_minor": 0,
 "worksheets": [
  {
   "cells": [
    {
     "cell_type": "code",
     "collapsed": false,
     "input": [
      "import numpy as np"
     ],
     "language": "python",
     "metadata": {},
     "outputs": [],
     "prompt_number": 1
    },
    {
     "cell_type": "code",
     "collapsed": false,
     "input": [
      "class TestClass(object):\n",
      "    a = 5\n",
      "    def __init__(self, a):\n",
      "        self.a = a\n",
      "    def getvalue():\n",
      "        return a\n",
      "    \n",
      "class TestTuple(tuple):\n",
      "    def __new__ (cls, a):\n",
      "        return super(TestTuple, cls).__new__(cls, tuple([a[:2], a[:2]]))\n",
      "\n",
      "    def __init__(self, a):\n",
      "        super(TestTuple, self).__init__(a)\n",
      "        self.a=a\n",
      "    \n",
      "    def getvalue(self):\n",
      "        return a + a"
     ],
     "language": "python",
     "metadata": {},
     "outputs": [],
     "prompt_number": 4
    },
    {
     "cell_type": "code",
     "collapsed": false,
     "input": [
      "def int2str(z):\n",
      "    if (z < 90):\n",
      "        return chr(z+33)\n",
      "    else:\n",
      "        resid = int(z % 90)\n",
      "        z = int(z-resid)/90\n",
      "        return int2str(z)+chr(90+33)+chr(resid+33)\n",
      "    \n",
      "def ints2str(zs):\n",
      "    return ''.join(int2str(z) for z in zs)\n",
      "\n",
      "def str2ints(st): \n",
      "    #st = list([st])[0] # somehow got a list here\n",
      "    os = [ord(c[0])-33 for c in st]\n",
      "    #os = []\n",
      "    #for c in st:\n",
      "    #    if len(c) > 1:\n",
      "    #        print(\"ERROR: THIS IS NOT A STRING: \" + st)\n",
      "    #    os.append(ord(c[0])-33)\n",
      "    zs = []\n",
      "    counter = 0\n",
      "    while counter < len(os):\n",
      "        if os[counter] == 90:\n",
      "            zs[-1] = zs[-1] * 90 + os[counter + 1]\n",
      "            counter = counter + 1\n",
      "        else:\n",
      "            zs.append(os[counter])\n",
      "        counter = counter + 1\n",
      "    return zs\n",
      "\n",
      "def csvrow2array(st):\n",
      "    return np.array([float(s) for s in st.replace(',',' ').replace('  ',' ').split(' ')])\n",
      "\n",
      "def str2array(st):\n",
      "    pts = st.split('|')\n",
      "    arr = np.array([str2ints(pt) for pt in pts]).T\n",
      "    return arr"
     ],
     "language": "python",
     "metadata": {},
     "outputs": [],
     "prompt_number": 5
    },
    {
     "cell_type": "code",
     "collapsed": false,
     "input": [
      "class Voxel(tuple):\n",
      "    'A class representing a single 3-dimensional voxel.  \\\n",
      "    Attributes are coordinates (key) and data. Optionally: cached data.\\\n",
      "    Internally, it uses characters to compress integer-valued data. \\\n",
      "    Initialize with a compressed string of CFF format.'\n",
      "    intRes = 10000.0\n",
      "    minVal = -100.0\n",
      "    \n",
      "    def __new__(cls, initString):\n",
      "        nc = 3 # edit this when changing the number of coords\n",
      "        if len(initString) > 1: # constructed via Spark deserialization\n",
      "            initString = initString[1]\n",
      "        ints = str2ints(initString)\n",
      "        coords = tuple(ints[:nc])\n",
      "        key = ints2str(coords)\n",
      "        kv = (key, initString)\n",
      "        return super(Voxel, cls).__new__(cls, tuple(kv))\n",
      "            \n",
      "    # creates a new voxel with the same coordinates, but different data\n",
      "    def convertData(self, floats, intRes=10000.0, minVal=-100.0):\n",
      "        ints = np.array((floats - minVal) * intRes, dtype=int)\n",
      "        ints[ints < 0] = 0\n",
      "        newDataString = self[0] + ints2str(ints)\n",
      "        newVoxel = Voxel(newDataString)\n",
      "        newVoxel.setConversion(intRes, minVal)\n",
      "        return newVoxel\n",
      "    \n",
      "    def getCoords(self):\n",
      "        nc = 3 # edit this when changing the number of coords\n",
      "        ints = str2ints(self[0])\n",
      "        coords = tuple(ints[:nc])\n",
      "        return coords\n",
      "    \n",
      "    def getData(self):\n",
      "        nc = 3 # edit this when changing the number of coords\n",
      "        ints = np.array(str2ints(self[1]), dtype=int)\n",
      "        return np.array(ints[nc:]/float(self.intRes))+self.minVal\n",
      "    \n",
      "    def setConversion(self, intRes=None, minVal=None):\n",
      "        if intRes is not None:\n",
      "            self.intRes = intRes\n",
      "        if minVal is not None:\n",
      "            self.minVal = minVal"
     ],
     "language": "python",
     "metadata": {},
     "outputs": [],
     "prompt_number": 6
    },
    {
     "cell_type": "code",
     "collapsed": false,
     "input": [
      "#m = Voxel('asadadasfasf')\n",
      "#print(m.getCoords())"
     ],
     "language": "python",
     "metadata": {},
     "outputs": [
      {
       "output_type": "stream",
       "stream": "stdout",
       "text": [
        "(64, 82, 64)\n"
       ]
      }
     ],
     "prompt_number": 7
    },
    {
     "cell_type": "code",
     "collapsed": false,
     "input": [
      "ord(chr(56)[0])"
     ],
     "language": "python",
     "metadata": {},
     "outputs": [
      {
       "metadata": {},
       "output_type": "pyout",
       "prompt_number": 9,
       "text": [
        "56"
       ]
      }
     ],
     "prompt_number": 9
    },
    {
     "cell_type": "code",
     "collapsed": false,
     "input": [],
     "language": "python",
     "metadata": {},
     "outputs": []
    }
   ],
   "metadata": {}
  }
 ]
}