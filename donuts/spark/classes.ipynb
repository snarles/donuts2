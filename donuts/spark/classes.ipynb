{
 "metadata": {
  "name": "",
  "signature": "sha256:1a31e6feab90325210d4dd26b696f41d77f7a27e0abeca8c0b305752f1d6aca5"
 },
 "nbformat": 3,
 "nbformat_minor": 0,
 "worksheets": [
  {
   "cells": [
    {
     "cell_type": "code",
     "collapsed": false,
     "input": [
      "import numpy as np"
     ],
     "language": "python",
     "metadata": {},
     "outputs": [],
     "prompt_number": 1
    },
    {
     "cell_type": "code",
     "collapsed": false,
     "input": [
      "class TestClass(object):\n",
      "    a = 5\n",
      "    def __init__(self, a):\n",
      "        self.a = a\n",
      "    def getvalue():\n",
      "        return a\n",
      "    \n",
      "class Foo(tuple):\n",
      "\n",
      "    def __new__ (cls, a, b):\n",
      "        return super(Foo, cls).__new__(cls, tuple(b))\n",
      "\n",
      "    def __init__(self, a, b):\n",
      "        super(Foo, self).__init__(a,b)\n",
      "        self.a=a\n",
      "        self.b=b"
     ],
     "language": "python",
     "metadata": {},
     "outputs": [],
     "prompt_number": 2
    },
    {
     "cell_type": "code",
     "collapsed": false,
     "input": [
      "class Voxel(tuple):\n",
      "    'A class representing a single 3-dimensional voxel.  \\\n",
      "    Attributes are coordinates (key) and data. Optionally: cached data.\\\n",
      "    Internally, it uses characters to compress integer-valued data. \\\n",
      "    Initialize with a compressed string of CFF format.'\n",
      "    intRes = 10000\n",
      "    offset = 0\n",
      "    ncoords = 3\n",
      "    \n",
      "    def __new__(cls, ncoords, initString):\n",
      "        ints = str2ints(initString)\n",
      "        coords = tuple(ints[0:ncoords]) # edit this when changing the number of coords\n",
      "        key = ints2str(coords)\n",
      "        kv = (key, initString)\n",
      "        return super(Voxel, cls).__new__(cls, tuple(kv))\n",
      "    \n",
      "    def __init__(self, ncoords, initString):\n",
      "        super(Voxel, self).__init__(ncoords, initString)\n",
      "        self.ncoords = ncoords\n",
      "        \n",
      "    def convertInts(self, ints):\n",
      "        newDataString = key + ints2str(ints)\n",
      "        return Voxel(newDataString)\n",
      "    \n",
      "    def convertFloats(self, floats):\n",
      "        ints = np.hstack([floats[range(ncoords)], np.array(floats[3:] * self.intRes)])\n",
      "        return self.convertInts(ints)\n",
      "        \n",
      "    def getCoords(self):\n",
      "        ints = str2ints(self.key)\n",
      "        coords = tuple(ints[range(ncoords)])\n",
      "        return coords\n",
      "\n",
      "    def getIntData(self):\n",
      "        return np.array(str2ints(self[1]), dtype=int)\n",
      "    \n",
      "    def getFloatData(self):\n",
      "        ints = np.array(str2ints(self[1]), dtype=int)\n",
      "        return np.hstack([ints[0:3], np.array(ints[3:]/float(self.intRes))])-offset\n",
      "    \n",
      "    def setConversion(self, intRes=None, offset=None, ncoords=None):\n",
      "        if intRes is not None:\n",
      "            self.intRes = intRes\n",
      "        if offset is not None:\n",
      "            self.offset = offset\n",
      "        if ncoords is not None:\n",
      "            self.ncoords = ncoords"
     ],
     "language": "python",
     "metadata": {},
     "outputs": []
    }
   ],
   "metadata": {}
  }
 ]
}