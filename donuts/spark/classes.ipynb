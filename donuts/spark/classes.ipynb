{
 "metadata": {
  "name": "",
  "signature": "sha256:45dae8a72e0b8c1abd329b2a8d1d5dfc245567af8d4392f1a371b2abbb1d0e77"
 },
 "nbformat": 3,
 "nbformat_minor": 0,
 "worksheets": [
  {
   "cells": [
    {
     "cell_type": "markdown",
     "metadata": {},
     "source": [
      "# Module"
     ]
    },
    {
     "cell_type": "code",
     "collapsed": false,
     "input": [
      "import numpy as np\n",
      "import time\n",
      "import numpy.random as npr\n",
      "from StringIO import StringIO\n",
      "import math\n",
      "import numpy.testing as npt\n",
      "import numpy.random as npr\n",
      "from donuts.spark.fake import *"
     ],
     "language": "python",
     "metadata": {},
     "outputs": [],
     "prompt_number": 6
    },
    {
     "cell_type": "markdown",
     "metadata": {},
     "source": [
      "### Numpy conversion functions"
     ]
    },
    {
     "cell_type": "code",
     "collapsed": false,
     "input": [
      "def np_to_str(a):\n",
      "    \"\"\"\n",
      "    Converts an np array to a binary string without newline\n",
      "    \"\"\"\n",
      "    a = np.array(a, dtype = float16)\n",
      "    si = StringIO()\n",
      "    np.save(si, a)\n",
      "    st =  si.getvalue()\n",
      "    return st\n",
      "\n",
      "def str_to_np(st): \n",
      "    \"\"\"\n",
      "    Converts a binary string to an np array\n",
      "    \"\"\"\n",
      "    return np.load(StringIO(st))\n",
      "\n",
      "def part_to_str(iterator):\n",
      "    arr = np.vstack(list(iterator))\n",
      "    st = np_to_str(arr)\n",
      "    return [st]\n",
      "\n",
      "def str_to_part(iterator):\n",
      "    sts = list(iterator)\n",
      "    return np.vstack([str_to_np(st) for st in sts])"
     ],
     "language": "python",
     "metadata": {},
     "outputs": [],
     "prompt_number": 3
    },
    {
     "cell_type": "markdown",
     "metadata": {},
     "source": [
      "### Helper functions for data classes"
     ]
    },
    {
     "cell_type": "code",
     "collapsed": false,
     "input": [
      "def partition_array3(arr, sz):\n",
      "    \"\"\"\n",
      "    Partitions a 4d array into a list of 4d arrays by the first 3 dimensions\n",
      "    \"\"\"\n",
      "    dims = np.shape(arr)\n",
      "    dim_parts = tuple([int(math.ceil(float(dims[i])/sz[i])) for i in range(3)])\n",
      "    nparts = np.prod(dim_parts)\n",
      "    temp = np.unravel_index(range(nparts), dim_parts)\n",
      "    lcorners = np.array([sz[i] * temp[i] for i in range(3)]).T\n",
      "    ucorners = np.array([sz[i] * temp[i] + sz[i] for i in range(3)]).T\n",
      "    for i in range(3):\n",
      "        ucorners[ucorners[:, i] > dims[i], i] = dims[i]\n",
      "    subarrs = [(tuple(lc), arr[lc[0]:uc[0], lc[1]:uc[1], lc[2]:uc[2]]) \\\n",
      "               for (lc, uc) in zip(lcorners, ucorners)]\n",
      "    return subarrs\n",
      "\n",
      "def _unpickled_to_subarr(tup):\n",
      "    return (tup[0], str_to_np(tup[1]))\n",
      "\n",
      "def _subarr_to_compressed(tup):\n",
      "    return (tup[0], np_to_str(tup[1]))\n",
      "\n",
      "def _apply_func(tup, f, inds):\n",
      "    if inds is None:\n",
      "        return (tup[0], np.apply_over_axes(f, tup[1], [3]))\n",
      "    else:\n",
      "        return (tup[0], np.apply_over_axes(f, tup[1][:, :, :, inds], [3]))\n",
      "    \n",
      "def _apply_funcs(tup, fs, inds):\n",
      "    if inds is None:\n",
      "        arrs = [np.apply_over_axes(f, tup[1], [3]) for f in fs]\n",
      "        arr = np.concatenate(arrs, 3)\n",
      "    else:\n",
      "        arrs = [np.apply_over_axes(f, tup[1][:, :, :, inds], [3]) for f in fs]\n",
      "        arr = np.concatenate(arrs, 3)\n",
      "    return (tup[0], arr)\n"
     ],
     "language": "python",
     "metadata": {},
     "outputs": [],
     "prompt_number": 132
    },
    {
     "cell_type": "markdown",
     "metadata": {},
     "source": [
      "### Specialized RDD container classes"
     ]
    },
    {
     "cell_type": "code",
     "collapsed": false,
     "input": [
      "class VoxelPartition:\n",
      "    \n",
      "    def __init__(self, rdd = None, cont = None, picklef = None, arr = None, sz = None, \\\n",
      "                 parts = 10, picklefs = None):\n",
      "        # 1. Set up needded parameters\n",
      "        if cont is None:\n",
      "            cont = FakeSparkContext()\n",
      "        self.cont = cont\n",
      "        if sz is None:\n",
      "            sz = (10, 10, 10)\n",
      "        self.sz = sz\n",
      "        if parts is None:\n",
      "            parts = 10\n",
      "        self.parts = parts\n",
      "        # 2. form RDD\n",
      "        if rdd is not None:\n",
      "            self.rdd = rdd\n",
      "        elif arr is not None:\n",
      "            self.rdd = cont.parallelize(partition_array3(arr, sz), parts)\n",
      "        elif picklef is not None:\n",
      "            self.rdd = cont.pickleFile(picklef, parts).map(_unpickled_to_subarr)\n",
      "    \n",
      "    # computes a function on each voxel and returns an RDD with that result\n",
      "    def compute_quantity(self, func, inds = None):\n",
      "        new_rdd = self.rdd.map(lambda x : _apply_func(x, func, inds))\n",
      "        return VoxelPartition(cont = self.cont, sz = self.sz, parts = self.parts, rdd = new_rdd)\n",
      "    \n",
      "    def compute_quantities(self, lfuncs, inds = None):\n",
      "        new_rdd = self.rdd.map(lambda x : _apply_funcs(x, lfuncs, inds))\n",
      "        return VoxelPartition(cont = self.cont, sz = self.sz, parts = self.parts, rdd = new_rdd)\n",
      "    \n",
      "    def save_as_pickle_file(self, fname):\n",
      "        self.rdd.map(_subarr_to_compressed).saveAsPickleFile(fname)\n",
      "        \n",
      "    "
     ],
     "language": "python",
     "metadata": {},
     "outputs": [],
     "prompt_number": 135
    },
    {
     "cell_type": "code",
     "collapsed": false,
     "input": [],
     "language": "python",
     "metadata": {},
     "outputs": [],
     "prompt_number": 135
    },
    {
     "cell_type": "code",
     "collapsed": false,
     "input": [],
     "language": "python",
     "metadata": {},
     "outputs": [],
     "prompt_number": 84
    },
    {
     "cell_type": "code",
     "collapsed": false,
     "input": [],
     "language": "python",
     "metadata": {},
     "outputs": [],
     "prompt_number": 84
    },
    {
     "cell_type": "markdown",
     "metadata": {},
     "source": [
      "# Testing"
     ]
    },
    {
     "cell_type": "code",
     "collapsed": false,
     "input": [
      "if __name__ == \"__main__\":\n",
      "    dims = (25, 30, 20, 100)\n",
      "    arr = npr.normal(0, 1, dims)\n",
      "    sz = (10, 10, 10)\n",
      "    voxPart = VoxelPartition(arr=arr, sz=sz, cont = sc)\n",
      "    means = voxPart.compute_quantities([np.mean, np.var], range(1,3))\n",
      "#    means = voxPart.compute_quantity(np.mean, range(1,3))\n",
      "#    means.save_as_pickle_file('means.pickle')\n",
      "#    means2 = VoxelPartition(cont = sc, picklef = 'means.pickle')"
     ],
     "language": "python",
     "metadata": {},
     "outputs": [],
     "prompt_number": 136
    },
    {
     "cell_type": "code",
     "collapsed": false,
     "input": [],
     "language": "python",
     "metadata": {},
     "outputs": []
    }
   ],
   "metadata": {}
  }
 ]
}