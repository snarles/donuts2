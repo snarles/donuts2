{
 "metadata": {
  "name": "",
  "signature": "sha256:6b512499cd053415c48abd69d948808c96f6385bf56bbfe92ecf92c67b7bf4ad"
 },
 "nbformat": 3,
 "nbformat_minor": 0,
 "worksheets": [
  {
   "cells": [
    {
     "cell_type": "code",
     "collapsed": false,
     "input": [
      "import numpy as np"
     ],
     "language": "python",
     "metadata": {},
     "outputs": [],
     "prompt_number": 1
    },
    {
     "cell_type": "code",
     "collapsed": false,
     "input": [
      "class TestClass(object):\n",
      "    a = 5\n",
      "    def __init__(self, a):\n",
      "        self.a = a\n",
      "    def getvalue():\n",
      "        return a\n",
      "    \n",
      "class TestTuple(tuple):\n",
      "    def __new__ (cls, a):\n",
      "        return super(TestTuple, cls).__new__(cls, tuple([a[:2], a[:2]]))\n",
      "\n",
      "    def __init__(self, a):\n",
      "        super(TestTuple, self).__init__(a)\n",
      "        self.a=a\n",
      "    \n",
      "    def getvalue(self):\n",
      "        return a + a"
     ],
     "language": "python",
     "metadata": {},
     "outputs": [],
     "prompt_number": 4
    },
    {
     "cell_type": "code",
     "collapsed": false,
     "input": [
      "print(chr(33+90))"
     ],
     "language": "python",
     "metadata": {},
     "outputs": [
      {
       "output_type": "stream",
       "stream": "stdout",
       "text": [
        "{\n"
       ]
      }
     ],
     "prompt_number": 11
    },
    {
     "cell_type": "code",
     "collapsed": false,
     "input": [
      "def int2str(z):\n",
      "    \"\"\"\n",
      "    Converts an int array or list into an ASCII string, using a base-90 representation\n",
      "    \n",
      "    [Rule 1]: For z < 90, int2str(z) = chr(z + 33)\n",
      "    \n",
      "      int2str(0)  == chr(33) == '!'\n",
      "      int2str(1)  == chr(34) == '\"'\n",
      "      int2str(2)  == chr(35) == '#'\n",
      "      ...\n",
      "      int2str(89) == chr(122) == 'z'\n",
      "    \n",
      "    [Rule 2]: Represent larger numbers by joining digits with chr(123) == '{'\n",
      "      90 == 1*90 + 0\n",
      "      int2str(90) == chr(34) + chr(123) + chr(33) == '\"{!'\n",
      "                        '1'      'join'     '0'\n",
      "    \n",
      "      91 == 1*90 + 1 \n",
      "      int2str(91) == chr(34) + chr(123) + chr(34) == '\"{\"'\n",
      "                        '1'      'join'     '1'\n",
      "    \n",
      "      92 == 1*90 + 2 \n",
      "      int2str(92) == chr(34) + chr(123) + chr(35) == '\"#\"'\n",
      "                        '1'      'join'     '2'\n",
      "    \n",
      "    And so on for higher powers:\n",
      "      16202 == 2*90**2 + 0*90 + 2\n",
      "      int2str(16202) == chr(34) + chr(123) + chr() == '#{!{#'\n",
      "    \"\"\"\n",
      "    if (z < 90):\n",
      "        return chr(z+33)\n",
      "    else:\n",
      "        resid = int(z % 90)\n",
      "        z = int(z-resid)/90\n",
      "        return int2str(z)+chr(90+33)+chr(resid+33)\n",
      "    \n",
      "def ints2str(zs):\n",
      "    return ''.join(int2str(z) for z in zs)\n",
      "\n",
      "def str2ints(st, maxlen = -1): \n",
      "    #st = list([st])[0] # somehow got a list here\n",
      "    os = [ord(c[0])-33 for c in st]\n",
      "    #os = []\n",
      "    #for c in st:\n",
      "    #    if len(c) > 1:\n",
      "    #        print(\"ERROR: THIS IS NOT A STRING: \" + st)\n",
      "    #    os.append(ord(c[0])-33)\n",
      "    zs = []\n",
      "    counter = 0\n",
      "    if maxlen == -1:\n",
      "        maxlen = len(os)\n",
      "    while (counter < len(os)) and (len(zs) < maxlen):\n",
      "        if os[counter] == 90:\n",
      "            zs[-1] = zs[-1] * 90 + os[counter + 1]\n",
      "            counter = counter + 1\n",
      "        else:\n",
      "            zs.append(os[counter])\n",
      "        counter = counter + 1\n",
      "    return zs\n",
      "\n",
      "def csvrow2array(st):\n",
      "    return np.array([float(s) for s in st.replace(',',' ').replace('  ',' ').split(' ')])\n",
      "\n",
      "def str2array(st):\n",
      "    pts = st.split('|')\n",
      "    arr = np.array([str2ints(pt) for pt in pts]).T\n",
      "    return arr"
     ],
     "language": "python",
     "metadata": {},
     "outputs": [],
     "prompt_number": 12
    },
    {
     "cell_type": "code",
     "collapsed": false,
     "input": [
      "class Voxel(tuple):\n",
      "    \"\"\"\n",
      "    A class representing a single 3-dimensional voxel.\n",
      "    Attributes are coordinates (key) and data. Optionally: cached data.\n",
      "    Internally, it uses characters to compress integer-valued data.\n",
      "    Initialize with a compressed string of CFF format.\n",
      "    Intialization:\n",
      "      Option 1) Initialize using a compressed data string (of type str)\n",
      "                Uses default intRes = 10000.0 and minVal = 0.0\n",
      "      Option 2) Initialize using a (Key, Value) str tuple (as is done by Spark automatically)\n",
      "                Same as option 1, with Value used as string\n",
      "      Option 3) Initialize using a dictionary (initOpts)\n",
      "                Dictionary values:\n",
      "                  value (optional): the compressed data string (of type str)\n",
      "                                    if NOT included, must include 'coords' and 'floats' OR 'coords' and 'ints'\n",
      "                  coords (optional): a length 3 int tuple containing the coords\n",
      "                  floats (optional): floating-point values\n",
      "                                     if included, must also include coords\n",
      "                  ints (optional):   an integer list or array\n",
      "                                     if included, must also include coords\n",
      "                  intRes (optional): the numerical precision is parts per intRes\n",
      "                  minVal (optional): values below this float will be truncated\n",
      "    \"\"\"\n",
      "    intRes = 10000.0\n",
      "    minVal = 0.0\n",
      "    \n",
      "    def __new__(cls, initOpts):\n",
      "        nc = 3 # !! edit this when changing the number of coords\n",
      "        initString = ''\n",
      "        if type(initOpts) == tuple: # constructed via Spark deserialization\n",
      "            initString = initOpts[1]\n",
      "        if type(initOpts) == str:\n",
      "            initString = initOpts\n",
      "        if type(initOpts) == dict:\n",
      "            intRes = 10000.0 # ! edit this when changing the defaults\n",
      "            minVal = 0.0     # ! edit this when changing the defaults\n",
      "            if initOpts.has_key('value'):\n",
      "                initString = initOpts['value']\n",
      "        ints = str2ints(initString)\n",
      "        coords = tuple(ints[:nc])\n",
      "        key = ints2str(coords)\n",
      "        kv = (key, initString)\n",
      "        return super(Voxel, cls).__new__(cls, tuple(kv))\n",
      "    \n",
      "    def __init__(self, initOpts):\n",
      "        super(Voxel, self).__init__(initOpts)\n",
      "        if type(initOpts) == dict:\n",
      "            if initOpts.has_key('value'):\n",
      "                initString = initOpts['value']\n",
      "    \n",
      "    # creates a new voxel with the same coordinates, but different data\n",
      "    def convertData(self, floats, intRes=10000.0, minVal=-100.0):\n",
      "        ints = np.array((floats - minVal) * intRes, dtype=int)\n",
      "        ints[ints < 0] = 0\n",
      "        newDataString = self[0] + ints2str(ints)\n",
      "        newVoxel = Voxel(newDataString)\n",
      "        newVoxel.setConversion(intRes, minVal)\n",
      "        return newVoxel\n",
      "    \n",
      "    def getCoords(self):\n",
      "        nc = 3 # !! edit this when changing the number of coords\n",
      "        ints = str2ints(self[0])\n",
      "        coords = tuple(ints[:nc])\n",
      "        return coords\n",
      "    \n",
      "    def getData(self):\n",
      "        nc = 3 # !! edit this when changing the number of coords\n",
      "        ints = np.array(str2ints(self[1]), dtype=int)\n",
      "        return np.array(ints[nc:]/float(self.intRes))+self.minVal\n",
      "    \n",
      "    def setConversion(self, intRes=None, minVal=None):\n",
      "        if intRes is not None:\n",
      "            self.intRes = intRes\n",
      "        if minVal is not None:\n",
      "            self.minVal = minVal"
     ],
     "language": "python",
     "metadata": {},
     "outputs": [],
     "prompt_number": 7
    },
    {
     "cell_type": "code",
     "collapsed": false,
     "input": [
      "#m = Voxel('asadadasfasf')\n",
      "#print(m.getCoords())"
     ],
     "language": "python",
     "metadata": {},
     "outputs": [
      {
       "output_type": "stream",
       "stream": "stdout",
       "text": [
        "(64, 82, 64)\n"
       ]
      }
     ],
     "prompt_number": 7
    },
    {
     "cell_type": "code",
     "collapsed": false,
     "input": [
      "ord(chr(56)[0])"
     ],
     "language": "python",
     "metadata": {},
     "outputs": [
      {
       "metadata": {},
       "output_type": "pyout",
       "prompt_number": 9,
       "text": [
        "56"
       ]
      }
     ],
     "prompt_number": 9
    },
    {
     "cell_type": "code",
     "collapsed": false,
     "input": [
      "dd = {'intRes': 2}\n",
      "dd.has_key('value')"
     ],
     "language": "python",
     "metadata": {},
     "outputs": [
      {
       "metadata": {},
       "output_type": "pyout",
       "prompt_number": 5,
       "text": [
        "False"
       ]
      }
     ],
     "prompt_number": 5
    },
    {
     "cell_type": "code",
     "collapsed": false,
     "input": [
      "st = 'if-included,-must-also-include-coords'\n",
      "str2ints(st)\n",
      "int2str(2)"
     ],
     "language": "python",
     "metadata": {},
     "outputs": [
      {
       "metadata": {},
       "output_type": "pyout",
       "prompt_number": 22,
       "text": [
        "'#'"
       ]
      }
     ],
     "prompt_number": 22
    },
    {
     "cell_type": "code",
     "collapsed": false,
     "input": [
      "if __name__ == \"__main__\":\n",
      "    m = Voxel('asadadasfasf')\n",
      "    print(m.getCoords())"
     ],
     "language": "python",
     "metadata": {},
     "outputs": [
      {
       "ename": "NameError",
       "evalue": "global name 'TestTuple' is not defined",
       "output_type": "pyerr",
       "traceback": [
        "\u001b[1;31m---------------------------------------------------------------------------\u001b[0m\n\u001b[1;31mNameError\u001b[0m                                 Traceback (most recent call last)",
        "\u001b[1;32m<ipython-input-16-ade215b2f355>\u001b[0m in \u001b[0;36m<module>\u001b[1;34m()\u001b[0m\n\u001b[0;32m      1\u001b[0m \u001b[1;32mif\u001b[0m \u001b[0m__name__\u001b[0m \u001b[1;33m==\u001b[0m \u001b[1;34m\"__main__\"\u001b[0m\u001b[1;33m:\u001b[0m\u001b[1;33m\u001b[0m\u001b[0m\n\u001b[1;32m----> 2\u001b[1;33m     \u001b[0mm\u001b[0m \u001b[1;33m=\u001b[0m \u001b[0mVoxel\u001b[0m\u001b[1;33m(\u001b[0m\u001b[1;34m'asadadasfasf'\u001b[0m\u001b[1;33m)\u001b[0m\u001b[1;33m\u001b[0m\u001b[0m\n\u001b[0m\u001b[0;32m      3\u001b[0m     \u001b[1;32mprint\u001b[0m\u001b[1;33m(\u001b[0m\u001b[0mm\u001b[0m\u001b[1;33m.\u001b[0m\u001b[0mgetCoords\u001b[0m\u001b[1;33m(\u001b[0m\u001b[1;33m)\u001b[0m\u001b[1;33m)\u001b[0m\u001b[1;33m\u001b[0m\u001b[0m\n",
        "\u001b[1;32m<ipython-input-7-9ef6d26e7e43>\u001b[0m in \u001b[0;36m__init__\u001b[1;34m(self, initOpts)\u001b[0m\n\u001b[0;32m     42\u001b[0m \u001b[1;33m\u001b[0m\u001b[0m\n\u001b[0;32m     43\u001b[0m     \u001b[1;32mdef\u001b[0m \u001b[0m__init__\u001b[0m\u001b[1;33m(\u001b[0m\u001b[0mself\u001b[0m\u001b[1;33m,\u001b[0m \u001b[0minitOpts\u001b[0m\u001b[1;33m)\u001b[0m\u001b[1;33m:\u001b[0m\u001b[1;33m\u001b[0m\u001b[0m\n\u001b[1;32m---> 44\u001b[1;33m         \u001b[0msuper\u001b[0m\u001b[1;33m(\u001b[0m\u001b[0mTestTuple\u001b[0m\u001b[1;33m,\u001b[0m \u001b[0mself\u001b[0m\u001b[1;33m)\u001b[0m\u001b[1;33m.\u001b[0m\u001b[0m__init__\u001b[0m\u001b[1;33m(\u001b[0m\u001b[0ma\u001b[0m\u001b[1;33m)\u001b[0m\u001b[1;33m\u001b[0m\u001b[0m\n\u001b[0m\u001b[0;32m     45\u001b[0m         \u001b[1;32mif\u001b[0m \u001b[0mtype\u001b[0m\u001b[1;33m(\u001b[0m\u001b[0minitOpts\u001b[0m\u001b[1;33m)\u001b[0m \u001b[1;33m==\u001b[0m \u001b[0mdict\u001b[0m\u001b[1;33m:\u001b[0m\u001b[1;33m\u001b[0m\u001b[0m\n\u001b[0;32m     46\u001b[0m             \u001b[0mself\u001b[0m\u001b[1;33m.\u001b[0m\u001b[0ma\u001b[0m\u001b[1;33m=\u001b[0m\u001b[0ma\u001b[0m\u001b[1;33m\u001b[0m\u001b[0m\n",
        "\u001b[1;31mNameError\u001b[0m: global name 'TestTuple' is not defined"
       ]
      }
     ],
     "prompt_number": 16
    },
    {
     "cell_type": "code",
     "collapsed": false,
     "input": [
      "int2str(16202)"
     ],
     "language": "python",
     "metadata": {},
     "outputs": [
      {
       "metadata": {},
       "output_type": "pyout",
       "prompt_number": 25,
       "text": [
        "'#{!{#'"
       ]
      }
     ],
     "prompt_number": 25
    },
    {
     "cell_type": "code",
     "collapsed": false,
     "input": [],
     "language": "python",
     "metadata": {},
     "outputs": []
    }
   ],
   "metadata": {}
  }
 ]
}