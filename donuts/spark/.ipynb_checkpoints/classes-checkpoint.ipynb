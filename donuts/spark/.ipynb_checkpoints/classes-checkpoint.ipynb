{
 "metadata": {
  "name": "",
  "signature": "sha256:f568d33a5d3a4248f97d3f3323aeb64c3705d493b9c9ce0042808c158009d0e7"
 },
 "nbformat": 3,
 "nbformat_minor": 0,
 "worksheets": [
  {
   "cells": [
    {
     "cell_type": "markdown",
     "metadata": {},
     "source": [
      "# Module"
     ]
    },
    {
     "cell_type": "code",
     "collapsed": false,
     "input": [
      "import numpy as np\n",
      "import time\n",
      "import numpy.random as npr\n",
      "from StringIO import StringIO\n",
      "import math\n",
      "import numpy.testing as npt\n",
      "import numpy.random as npr\n",
      "from donuts.spark.fake import *"
     ],
     "language": "python",
     "metadata": {},
     "outputs": [],
     "prompt_number": 1
    },
    {
     "cell_type": "markdown",
     "metadata": {},
     "source": [
      "### Numpy conversion functions"
     ]
    },
    {
     "cell_type": "code",
     "collapsed": false,
     "input": [
      "def np_to_str(a):\n",
      "    \"\"\"\n",
      "    Converts an np array to a binary string without newline\n",
      "    \"\"\"\n",
      "    a = np.array(a, dtype = np.float16)\n",
      "    si = StringIO()\n",
      "    np.save(si, a)\n",
      "    st =  si.getvalue()\n",
      "    return st\n",
      "\n",
      "def str_to_np(st): \n",
      "    \"\"\"\n",
      "    Converts a binary string to an np array\n",
      "    \"\"\"\n",
      "    return np.load(StringIO(st))\n",
      "\n",
      "def part_to_str(iterator):\n",
      "    arr = np.vstack(list(iterator))\n",
      "    st = np_to_str(arr)\n",
      "    return [st]\n",
      "\n",
      "def str_to_part(iterator):\n",
      "    sts = list(iterator)\n",
      "    return np.vstack([str_to_np(st) for st in sts])"
     ],
     "language": "python",
     "metadata": {},
     "outputs": [],
     "prompt_number": 2
    },
    {
     "cell_type": "code",
     "collapsed": false,
     "input": [],
     "language": "python",
     "metadata": {},
     "outputs": [],
     "prompt_number": 68
    },
    {
     "cell_type": "markdown",
     "metadata": {},
     "source": [
      "### Helper functions for data classes"
     ]
    },
    {
     "cell_type": "code",
     "collapsed": false,
     "input": [
      "def partition_array3(arr, sz):\n",
      "    \"\"\"\n",
      "    Partitions a 4d array into a list of 4d arrays by the first 3 dimensions\n",
      "    \"\"\"\n",
      "    dims = np.shape(arr)\n",
      "    dim_parts = tuple([int(math.ceil(float(dims[i])/sz[i])) for i in range(3)])\n",
      "    nparts = np.prod(dim_parts)\n",
      "    temp = np.unravel_index(range(nparts), dim_parts)\n",
      "    lcorners = np.array([sz[i] * temp[i] for i in range(3)]).T\n",
      "    ucorners = np.array([sz[i] * temp[i] + sz[i] for i in range(3)]).T\n",
      "    for i in range(3):\n",
      "        ucorners[ucorners[:, i] > dims[i], i] = dims[i]\n",
      "    subarrs = [(tuple(lc), arr[lc[0]:uc[0], lc[1]:uc[1], lc[2]:uc[2]]) \\\n",
      "               for (lc, uc) in zip(lcorners, ucorners)]\n",
      "    return subarrs\n",
      "\n",
      "def _unpickled_to_subarr(tup):\n",
      "    return (tup[0], str_to_np(tup[1]))\n",
      "\n",
      "def _subarr_to_compressed(tup):\n",
      "    return (tup[0], np_to_str(tup[1]))\n",
      "\n",
      "def _apply_func(tup, f, inds):\n",
      "    if inds is None:\n",
      "        return (tup[0], np.apply_over_axes(f, tup[1], [3]))\n",
      "    else:\n",
      "        return (tup[0], np.apply_over_axes(f, tup[1][:, :, :, inds], [3]))\n",
      "    \n",
      "def _apply_funcs(tup, fs, inds):\n",
      "    if inds is None:\n",
      "        arrs = [np.apply_over_axes(f, tup[1], [3]) for f in fs]\n",
      "        arr = np.concatenate(arrs, 3)\n",
      "    else:\n",
      "        arrs = [np.apply_over_axes(f, tup[1][:, :, :, inds], [3]) for f in fs]\n",
      "        arr = np.concatenate(arrs, 3)\n",
      "    return (tup[0], arr)\n",
      "\n",
      "def _u_filter_c(tup, inds):\n",
      "    return (tup[0], np_to_str(str_to_np(tup[1])[:, :, :, inds]))\n",
      "\n",
      "def _aug_key(tup, ind):\n",
      "    return (tup[0], [ind, tup[1]])\n",
      "\n",
      "def _sort_combine(tup):\n",
      "    ll = len(tup[1])/2\n",
      "    itups = [tup[1][2*i] for i in range(ll)]\n",
      "    os = sorted(range(ll), key=itups.__getitem__)\n",
      "    sorted_els = [tup[1][2*i+1] for i in os]\n",
      "    arrs = [str_to_np(el) for el in sorted_els]\n",
      "    arr = np.concatenate(arrs, 3)\n",
      "    return (tup[0], arr)\n",
      "\n",
      "def np_to_txt(tup):\n",
      "    \"\"\"\n",
      "    Converts an np array to unraveled txt string\n",
      "    \"\"\"\n",
      "    dims = np.shape(tup[1])\n",
      "    a = np.array(tup[1], dtype = np.float16).ravel()\n",
      "    si = StringIO()\n",
      "    np.savetxt(si, np.hstack([tup[0], dims, a]))\n",
      "    st =  si.getvalue()\n",
      "    st = st.replace('\\n',' ')\n",
      "    return st\n",
      "\n",
      "def txt_to_np(st): \n",
      "    \"\"\"\n",
      "    Converts a binary string to an np array\n",
      "    \"\"\"\n",
      "    st = st.replace(' ','\\n')\n",
      "    seq = np.loadtxt(StringIO(st))\n",
      "    tup = (seq[:3], np.reshape(seq[7:], tuple(seq[3:7])))\n",
      "    return tup"
     ],
     "language": "python",
     "metadata": {},
     "outputs": [],
     "prompt_number": 96
    },
    {
     "cell_type": "code",
     "collapsed": false,
     "input": [
      "arr = npr.normal(0, 1, (20, 20, 20, 15))"
     ],
     "language": "python",
     "metadata": {},
     "outputs": [],
     "prompt_number": 63
    },
    {
     "cell_type": "code",
     "collapsed": false,
     "input": [
      "sz = (10, 10, 10)\n",
      "arrs = partition_array3(arr, sz)\n",
      "strs = [_to_plain_str(subarr) for subarr in arrs]"
     ],
     "language": "python",
     "metadata": {},
     "outputs": [],
     "prompt_number": 64
    },
    {
     "cell_type": "code",
     "collapsed": false,
     "input": [
      "?np.savetxt"
     ],
     "language": "python",
     "metadata": {},
     "outputs": [],
     "prompt_number": 70
    },
    {
     "cell_type": "code",
     "collapsed": false,
     "input": [
      "tup = arrs[0]\n",
      "st = np_to_txt(tup)"
     ],
     "language": "python",
     "metadata": {},
     "outputs": [],
     "prompt_number": 92
    },
    {
     "cell_type": "code",
     "collapsed": false,
     "input": [
      "tup2 = txt_to_np(st)"
     ],
     "language": "python",
     "metadata": {},
     "outputs": [],
     "prompt_number": 93
    },
    {
     "cell_type": "code",
     "collapsed": false,
     "input": [
      "np.shape(tup[1])"
     ],
     "language": "python",
     "metadata": {},
     "outputs": [
      {
       "metadata": {},
       "output_type": "pyout",
       "prompt_number": 94,
       "text": [
        "(10, 10, 10, 15)"
       ]
      }
     ],
     "prompt_number": 94
    },
    {
     "cell_type": "code",
     "collapsed": false,
     "input": [
      "np.shape(tup2[1])"
     ],
     "language": "python",
     "metadata": {},
     "outputs": [
      {
       "metadata": {},
       "output_type": "pyout",
       "prompt_number": 95,
       "text": [
        "(10, 10, 10, 15)"
       ]
      }
     ],
     "prompt_number": 95
    },
    {
     "cell_type": "markdown",
     "metadata": {},
     "source": [
      "### Specialized RDD container classes"
     ]
    },
    {
     "cell_type": "code",
     "collapsed": false,
     "input": [
      "class VoxelPartition:\n",
      "    \n",
      "    def __init__(self, rdd = None, cont = None, picklef = None, sz = None, \\\n",
      "                 parts = 10, picklefs = None, inds = None, textf = None):\n",
      "        # 1. Set up needded parameters\n",
      "        if cont is None:\n",
      "            cont = FakeSparkContext()\n",
      "        self.cont = cont\n",
      "        if sz is None:\n",
      "            sz = (10, 10, 10)\n",
      "        self.sz = sz\n",
      "        if parts is None:\n",
      "            parts = 10\n",
      "        self.parts = parts\n",
      "        # 2. form RDD\n",
      "        if rdd is not None:\n",
      "            self.rdd = rdd\n",
      "        elif picklefs is not None:\n",
      "            rdds = []\n",
      "            for ind in range(len(picklefs)):\n",
      "                if inds is None:\n",
      "                    rdd = cont.pickleFile(picklefs[ind], parts).map(lambda x : _aug_key(x, ind))\n",
      "                else:\n",
      "                    rdd = cont.pickleFile(picklefs[ind], parts).map(lambda x : _u_filter_c(x, inds)).\\\n",
      "                        map(lambda x : _aug_key(x, ind))\n",
      "                rdd.takeSample(False, 1) # Force evaluation\n",
      "                rdds.append(rdd)\n",
      "            new_rdd = cont.union(rdds).\\\n",
      "                combineByKey(lambda x : x, lambda x, y : x + y, lambda x, y: x + y)\n",
      "            self.rdd = new_rdd.map(_sort_combine)                \n",
      "        elif picklef is not None:\n",
      "            self.rdd = cont.pickleFile(picklef, parts).map(_unpickled_to_subarr)\n",
      "        elif textf is not None:\n",
      "            self.rdd = cont.textFile(textf, parts)\n",
      "    \n",
      "    # computes a function on each voxel and returns an RDD with that result\n",
      "    def compute_quantity(self, func, inds = None):\n",
      "        new_rdd = self.rdd.map(lambda x : _apply_func(x, func, inds))\n",
      "        return VoxelPartition(cont = self.cont, sz = self.sz, parts = self.parts, rdd = new_rdd)\n",
      "    \n",
      "    def compute_quantities(self, lfuncs, inds = None):\n",
      "        new_rdd = self.rdd.map(lambda x : _apply_funcs(x, lfuncs, inds))\n",
      "        return VoxelPartition(cont = self.cont, sz = self.sz, parts = self.parts, rdd = new_rdd)\n",
      "    \n",
      "    def save_as_pickle_file(self, fname):\n",
      "        self.rdd.map(_subarr_to_compressed).saveAsPickleFile(fname)\n",
      "    \n",
      "    \n",
      "    "
     ],
     "language": "python",
     "metadata": {},
     "outputs": [],
     "prompt_number": 4
    },
    {
     "cell_type": "markdown",
     "metadata": {},
     "source": [
      "### Script for storing an array to txt"
     ]
    },
    {
     "cell_type": "code",
     "collapsed": false,
     "input": [
      "import os\n",
      "def convscript(arr, sz, tempf, hadoop_dir, outf, cont):\n",
      "    \"\"\"\n",
      "    hadoop_dir: no slash on the end, don't include /bin\n",
      "    cont: spark context\n",
      "    \"\"\"\n",
      "    arrs = partition_array3(arr, sz)\n",
      "    strs = [np_to_txt(tup) for tup in arrs]\n",
      "    os.chdir(hadoop_dir + '/bin')\n",
      "    f = open(tempf, 'w')\n",
      "    f.write('\\n'.join(strs))\n",
      "    f.close()\n",
      "    print('Wrote to file...')\n",
      "    os.system('./hadoop fs -mkdir '+tempf+' temp/'+tempf)\n",
      "    os.system('./hadoop fs -rmr temp/'+tempf)\n",
      "    os.system('./hadoop fs -put '+tempf+' temp/'+tempf)\n",
      "    print('Copied to hadoop... temp/' + tempf)\n",
      "    os.system('rm '+tempf)\n",
      "    print('Cleaning up...')\n",
      "    return"
     ],
     "language": "python",
     "metadata": {},
     "outputs": [],
     "prompt_number": 97
    },
    {
     "cell_type": "code",
     "collapsed": false,
     "input": [
      "    dims = (80, 80, 80, 200)\n",
      "    arr = npr.normal(0, 1, dims)"
     ],
     "language": "python",
     "metadata": {},
     "outputs": []
    },
    {
     "cell_type": "code",
     "collapsed": false,
     "input": [],
     "language": "python",
     "metadata": {},
     "outputs": []
    },
    {
     "cell_type": "markdown",
     "metadata": {},
     "source": [
      "# Testing"
     ]
    },
    {
     "cell_type": "code",
     "collapsed": false,
     "input": [
      "if __name__ == \"__main__\":\n",
      "    import numpy as np\n",
      "    import numpy.random as npr\n",
      "    from donuts.spark.classes import *\n",
      "    dims = (25, 30, 20, 100)\n",
      "    arr1 = npr.normal(0, 1, dims)\n",
      "    arr2 = npr.normal(10, 1, dims)\n",
      "    sz = (10, 10, 10)\n",
      "    VoxelPartition(arr=arr1, sz=sz, cont = sc).save_as_pickle_file('arr1.pickle')\n",
      "    VoxelPartition(arr=arr2, sz=sz, cont = sc).save_as_pickle_file('arr2.pickle')\n",
      "    vp = VoxelPartition(cont = sc, picklefs = ['arr1.pickle', 'arr2.pickle'], inds = range(1,3))\n",
      "#    means = voxPart.compute_quantities([np.mean, np.var], range(1,3))\n",
      "#    means = voxPart.compute_quantity(np.mean, range(1,3))\n",
      "#    means.save_as_pickle_file('means.pickle')\n",
      "#    means2 = VoxelPartition(cont = sc, picklef = 'means.pickle')\n",
      "    print(np.shape(vp.rdd.first()[1]))"
     ],
     "language": "python",
     "metadata": {},
     "outputs": [
      {
       "output_type": "stream",
       "stream": "stdout",
       "text": [
        "(10, 10, 10, 4)\n"
       ]
      }
     ],
     "prompt_number": 2
    },
    {
     "cell_type": "code",
     "collapsed": false,
     "input": [
      "if __name__ == \"__main__\":\n",
      "    dims = (80, 80, 80, 200)\n",
      "    arr = npr.normal(0, 1, dims)\n",
      "    #np.save('/root/ephemeral-hdfs/bin/temp', arr1)"
     ],
     "language": "python",
     "metadata": {},
     "outputs": [],
     "prompt_number": 29
    },
    {
     "cell_type": "code",
     "collapsed": false,
     "input": [
      "?np.save"
     ],
     "language": "python",
     "metadata": {},
     "outputs": [],
     "prompt_number": 5
    },
    {
     "cell_type": "code",
     "collapsed": false,
     "input": [
      "import os\n",
      "os.chdir('/root/ephemeral-hdfs/bin/')\n",
      "os.system('./hadoop fs -mkdir temp')"
     ],
     "language": "python",
     "metadata": {},
     "outputs": [
      {
       "metadata": {},
       "output_type": "pyout",
       "prompt_number": 9,
       "text": [
        "0"
       ]
      }
     ],
     "prompt_number": 9
    },
    {
     "cell_type": "code",
     "collapsed": false,
     "input": [
      "os.system('./hadoop fs -put temp.npy temp/')"
     ],
     "language": "python",
     "metadata": {},
     "outputs": [
      {
       "metadata": {},
       "output_type": "pyout",
       "prompt_number": 12,
       "text": [
        "0"
       ]
      }
     ],
     "prompt_number": 12
    },
    {
     "cell_type": "code",
     "collapsed": false,
     "input": [
      "os.system('./hadoop fs -rmr \"temp/*\"')"
     ],
     "language": "python",
     "metadata": {},
     "outputs": [
      {
       "metadata": {},
       "output_type": "pyout",
       "prompt_number": 11,
       "text": [
        "0"
       ]
      }
     ],
     "prompt_number": 11
    },
    {
     "cell_type": "code",
     "collapsed": false,
     "input": [
      "rt = sc.pickleFile('temp/temp.npy', 100)"
     ],
     "language": "python",
     "metadata": {},
     "outputs": [],
     "prompt_number": 14
    },
    {
     "cell_type": "code",
     "collapsed": false,
     "input": [
      "from operator import add\n",
      "rt.map(lambda x : 1).reduce(add)"
     ],
     "language": "python",
     "metadata": {},
     "outputs": []
    },
    {
     "cell_type": "code",
     "collapsed": false,
     "input": [],
     "language": "python",
     "metadata": {},
     "outputs": []
    }
   ],
   "metadata": {}
  }
 ]
}