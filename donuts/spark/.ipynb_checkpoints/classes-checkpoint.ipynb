{
 "metadata": {
  "name": "",
  "signature": "sha256:0c252be54d36975c3d1fc6751a6113b8c254fdedeaadbf1d9a7b2b53ab87e2b6"
 },
 "nbformat": 3,
 "nbformat_minor": 0,
 "worksheets": [
  {
   "cells": [
    {
     "cell_type": "markdown",
     "metadata": {},
     "source": [
      "# Module"
     ]
    },
    {
     "cell_type": "code",
     "collapsed": false,
     "input": [
      "import numpy as np\n",
      "import time\n",
      "import numpy.random as npr\n",
      "from StringIO import StringIO\n",
      "import math\n",
      "import numpy.testing as npt\n",
      "import numpy.random as npr\n",
      "from donuts.spark.fake import *"
     ],
     "language": "python",
     "metadata": {},
     "outputs": [],
     "prompt_number": 6
    },
    {
     "cell_type": "markdown",
     "metadata": {},
     "source": [
      "### Numpy conversion functions"
     ]
    },
    {
     "cell_type": "code",
     "collapsed": false,
     "input": [
      "def np_to_str(a):\n",
      "    \"\"\"\n",
      "    Converts an np array to a binary string without newline\n",
      "    \"\"\"\n",
      "    a = np.array(a, dtype = float16)\n",
      "    si = StringIO()\n",
      "    np.save(si, a)\n",
      "    st =  si.getvalue()\n",
      "    return st\n",
      "\n",
      "def str_to_np(st): \n",
      "    \"\"\"\n",
      "    Converts a binary string to an np array\n",
      "    \"\"\"\n",
      "    return np.load(StringIO(st))\n",
      "\n",
      "def part_to_str(iterator):\n",
      "    arr = np.vstack(list(iterator))\n",
      "    st = np_to_str(arr)\n",
      "    return [st]\n",
      "\n",
      "def str_to_part(iterator):\n",
      "    sts = list(iterator)\n",
      "    return np.vstack([str_to_np(st) for st in sts])"
     ],
     "language": "python",
     "metadata": {},
     "outputs": [],
     "prompt_number": 3
    },
    {
     "cell_type": "markdown",
     "metadata": {},
     "source": [
      "### Helper functions for data classes"
     ]
    },
    {
     "cell_type": "code",
     "collapsed": false,
     "input": [
      "def partition_array3(arr, sz):\n",
      "    \"\"\"\n",
      "    Partitions a 4d array into a list of 4d arrays by the first 3 dimensions\n",
      "    \"\"\"\n",
      "    dims = np.shape(arr)\n",
      "    dim_parts = tuple([int(math.ceil(float(dims[i])/sz[i])) for i in range(3)])\n",
      "    nparts = np.prod(dim_parts)\n",
      "    temp = np.unravel_index(range(nparts), dim_parts)\n",
      "    lcorners = np.array([sz[i] * temp[i] for i in range(3)]).T\n",
      "    ucorners = np.array([sz[i] * temp[i] + sz[i] for i in range(3)]).T\n",
      "    for i in range(3):\n",
      "        ucorners[ucorners[:, i] > dims[i], i] = dims[i]\n",
      "    subarrs = [(tuple(lc), arr[lc[0]:uc[0], lc[1]:uc[1], lc[2]:uc[2]]) \\\n",
      "               for (lc, uc) in zip(lcorners, ucorners)]\n",
      "    return subarrs"
     ],
     "language": "python",
     "metadata": {},
     "outputs": []
    },
    {
     "cell_type": "markdown",
     "metadata": {},
     "source": [
      "### Specialized RDD container classes"
     ]
    },
    {
     "cell_type": "code",
     "collapsed": false,
     "input": [
      "class VoxelPartition:\n",
      "    \n",
      "    def __init__(self, rdd = None, sc = None, picklef = None, arr = None, sz = None:\n",
      "        if sc is None:\n",
      "            sc = FakeSparkContext()\n",
      "        self.sc = sc\n",
      "        if sz is None:\n",
      "            sz = (10, 10, 10)\n",
      "        self.sz = sz\n",
      "        if rdd is not None:\n",
      "            self.rdd = rdd\n",
      "        elif arr is not None:\n",
      "            self.rdd = "
     ],
     "language": "python",
     "metadata": {},
     "outputs": []
    },
    {
     "cell_type": "code",
     "collapsed": false,
     "input": [],
     "language": "python",
     "metadata": {},
     "outputs": []
    },
    {
     "cell_type": "code",
     "collapsed": false,
     "input": [],
     "language": "python",
     "metadata": {},
     "outputs": []
    },
    {
     "cell_type": "markdown",
     "metadata": {},
     "source": [
      "# Testing"
     ]
    },
    {
     "cell_type": "code",
     "collapsed": false,
     "input": [
      "if __name__ == \"__main__\":\n",
      "    dims = (25, 30, 20, 100)\n",
      "    arr = npr.normal(0, 1, dims)\n",
      "    sz = (10, 10, 10)"
     ],
     "language": "python",
     "metadata": {},
     "outputs": [],
     "prompt_number": 12
    },
    {
     "cell_type": "code",
     "collapsed": false,
     "input": [],
     "language": "python",
     "metadata": {},
     "outputs": [],
     "prompt_number": 29
    },
    {
     "cell_type": "code",
     "collapsed": false,
     "input": [],
     "language": "python",
     "metadata": {},
     "outputs": [],
     "prompt_number": 3
    },
    {
     "cell_type": "code",
     "collapsed": false,
     "input": [],
     "language": "python",
     "metadata": {},
     "outputs": [],
     "prompt_number": 3
    },
    {
     "cell_type": "code",
     "collapsed": false,
     "input": [],
     "language": "python",
     "metadata": {},
     "outputs": []
    }
   ],
   "metadata": {}
  }
 ]
}