{
 "metadata": {
  "name": "",
  "signature": "sha256:e7c1b105ac35a1e3f7c0cb43f7fbec6e10fdbb5ac598aa3a6acaaf5048f998d9"
 },
 "nbformat": 3,
 "nbformat_minor": 0,
 "worksheets": [
  {
   "cells": [
    {
     "cell_type": "markdown",
     "metadata": {},
     "source": [
      "# Module"
     ]
    },
    {
     "cell_type": "code",
     "collapsed": false,
     "input": [
      "import numpy as np\n",
      "import time\n",
      "import numpy.random as npr\n",
      "from StringIO import StringIO\n",
      "import math\n",
      "import numpy.testing as npt\n",
      "import numpy.random as npr\n",
      "from donuts.spark.fake import *\n",
      "import itertools\n",
      "from operator import add"
     ],
     "language": "python",
     "metadata": {},
     "outputs": [],
     "prompt_number": 157
    },
    {
     "cell_type": "markdown",
     "metadata": {},
     "source": [
      "### Numpy conversion functions"
     ]
    },
    {
     "cell_type": "code",
     "collapsed": false,
     "input": [
      "def np_to_str(a):\n",
      "    \"\"\"\n",
      "    Converts an np array to a binary string without newline\n",
      "    \"\"\"\n",
      "    a = np.array(a, dtype = np.float16)\n",
      "    si = StringIO()\n",
      "    np.save(si, a)\n",
      "    st =  si.getvalue()\n",
      "    return st\n",
      "\n",
      "def str_to_np(st): \n",
      "    \"\"\"\n",
      "    Converts a binary string to an np array\n",
      "    \"\"\"\n",
      "    return np.load(StringIO(st))\n",
      "\n",
      "def part_to_str(iterator):\n",
      "    arr = np.vstack(list(iterator))\n",
      "    st = np_to_str(arr)\n",
      "    return [st]\n",
      "\n",
      "def str_to_part(iterator):\n",
      "    sts = list(iterator)\n",
      "    return np.vstack([str_to_np(st) for st in sts])"
     ],
     "language": "python",
     "metadata": {},
     "outputs": [],
     "prompt_number": 2
    },
    {
     "cell_type": "markdown",
     "metadata": {},
     "source": [
      "### Helper functions for data classes"
     ]
    },
    {
     "cell_type": "code",
     "collapsed": false,
     "input": [
      "def partition_array3(arr, sz):\n",
      "    \"\"\"\n",
      "    Partitions a 4d array into a list of 4d arrays by the first 3 dimensions\n",
      "    \"\"\"\n",
      "    dims = np.shape(arr)\n",
      "    dim_parts = tuple([int(math.ceil(float(dims[i])/sz[i])) for i in range(3)])\n",
      "    nparts = np.prod(dim_parts)\n",
      "    temp = np.unravel_index(range(nparts), dim_parts)\n",
      "    lcorners = np.array([sz[i] * temp[i] for i in range(3)]).T\n",
      "    ucorners = np.array([sz[i] * temp[i] + sz[i] for i in range(3)]).T\n",
      "    for i in range(3):\n",
      "        ucorners[ucorners[:, i] > dims[i], i] = dims[i]\n",
      "    subarrs = [(tuple(lc), arr[lc[0]:uc[0], lc[1]:uc[1], lc[2]:uc[2]]) \\\n",
      "               for (lc, uc) in zip(lcorners, ucorners)]\n",
      "    return subarrs\n",
      "\n",
      "def _unpickled_to_subarr(tup):\n",
      "    return (tup[0], str_to_np(tup[1]))\n",
      "\n",
      "def _subarr_to_compressed(tup):\n",
      "    return (tup[0], np_to_str(tup[1]))\n",
      "\n",
      "def _apply_func(tup, f, inds):\n",
      "    if inds is None:\n",
      "        return (tup[0], np.apply_over_axes(f, tup[1], [3]))\n",
      "    else:\n",
      "        return (tup[0], np.apply_over_axes(f, tup[1][:, :, :, inds], [3]))\n",
      "    \n",
      "def _apply_funcs(tup, fs, inds):\n",
      "    if inds is None:\n",
      "        arrs = [np.apply_over_axes(f, tup[1], [3]) for f in fs]\n",
      "        arr = np.concatenate(arrs, 3)\n",
      "    else:\n",
      "        arrs = [np.apply_over_axes(f, tup[1][:, :, :, inds], [3]) for f in fs]\n",
      "        arr = np.concatenate(arrs, 3)\n",
      "    return (tup[0], arr)\n",
      "\n",
      "def _u_filter_c(tup, inds):\n",
      "    return (tup[0], np_to_str(str_to_np(tup[1])[:, :, :, inds]))\n",
      "\n",
      "def _aug_key(tup, ind):\n",
      "    return (tup[0], [ind, tup[1]])\n",
      "\n",
      "def _sort_combine(tup):\n",
      "    ll = len(tup[1])/2\n",
      "    itups = [tup[1][2*i] for i in range(ll)]\n",
      "    os = sorted(range(ll), key=itups.__getitem__)\n",
      "    sorted_els = [tup[1][2*i+1] for i in os]\n",
      "    arrs = [str_to_np(el) for el in sorted_els]\n",
      "    arr = np.concatenate(arrs, 3)\n",
      "    return (tup[0], arr)\n",
      "\n",
      "def np_to_txt(tup):\n",
      "    \"\"\"\n",
      "    Converts an np array to unraveled txt string\n",
      "    \"\"\"\n",
      "    dims = np.shape(tup[1])\n",
      "    a = np.array(tup[1], dtype = np.float16).ravel()\n",
      "    si = StringIO()\n",
      "    np.savetxt(si, np.hstack([tup[0], dims, a]), fmt = '%.6e')\n",
      "    st =  si.getvalue()\n",
      "    st = st.replace('\\n',' ')\n",
      "    return st\n",
      "\n",
      "def txt_to_np(st): \n",
      "    \"\"\"\n",
      "    Converts a binary string to an np array\n",
      "    \"\"\"\n",
      "    st = st.replace(' ','\\n')\n",
      "    seq = np.loadtxt(StringIO(st))\n",
      "    dims = seq[3:7]\n",
      "    coords = seq[:3]\n",
      "    data = seq[7:]\n",
      "    ndata = np.prod(dims)\n",
      "    tup = (tuple(np.array(coords, dtype=int)), np.reshape(data[:ndata], tuple(dims)))\n",
      "    return tup\n",
      "\n",
      "def _coords(tup):\n",
      "    coords = tup[0]\n",
      "    dims = np.shape(tup[1])\n",
      "    return (coords, dims)"
     ],
     "language": "python",
     "metadata": {},
     "outputs": [],
     "prompt_number": 3
    },
    {
     "cell_type": "code",
     "collapsed": false,
     "input": [
      "# for use in flatmap\n",
      "def _extract_slice(tup, x = None, y = None, z = None, w = 0):\n",
      "    coord = tup[0]\n",
      "    coord2 = list(coord)\n",
      "    arr = tup[1]\n",
      "    dims = np.shape(arr)\n",
      "    ucoord = tuple(np.array(coord) + np.array(dims[:3]))\n",
      "    ans = []\n",
      "    if x is not None and x >= coord[0] and x < ucoord[0]:\n",
      "        sub = arr[x - coord[0], : , :, w]\n",
      "        ans = [((coord[1], coord[2]), sub)]\n",
      "    elif y is not None and y >= coord[1] and y < ucoord[1]:\n",
      "        sub = arr[:, y - coord[1] , :, w]\n",
      "        ans =  [((coord[0], coord[2]), sub)]\n",
      "    elif z is not None and z >= coord[2] and z < ucoord[2]:\n",
      "        sub = arr[:, : , z - coord[2], w]\n",
      "        ans =  [((coord[0], coord[1]), sub)]\n",
      "    else:\n",
      "        ans =  []\n",
      "    return ans\n",
      "\n",
      "def _collect_point_cloud(tup, ws, integer_res):\n",
      "    if ws is None:\n",
      "        ws = range(np.shape(tup[1])[3])\n",
      "    pts = np.array(tup[1][:, :, :, ws].reshape(-1, len(ws)) * integer_res, dtype = int)\n",
      "    pts = [str(pt) for pt in pts]\n",
      "    ans =  [(g[0], len(list(g[1]))) for g in itertools.groupby(pts)]\n",
      "    return ans\n",
      "\n",
      "def identity(x):\n",
      "    return x"
     ],
     "language": "python",
     "metadata": {},
     "outputs": [],
     "prompt_number": 175
    },
    {
     "cell_type": "markdown",
     "metadata": {},
     "source": [
      "### Helper classes"
     ]
    },
    {
     "cell_type": "code",
     "collapsed": false,
     "input": [
      "class WeightedPointCloud:\n",
      "    def __init__(self, tups):\n",
      "        self.tups = tups\n",
      "    "
     ],
     "language": "python",
     "metadata": {},
     "outputs": [],
     "prompt_number": 176
    },
    {
     "cell_type": "markdown",
     "metadata": {},
     "source": [
      "### Specialized RDD container classes"
     ]
    },
    {
     "cell_type": "code",
     "collapsed": false,
     "input": [
      "class VoxelPartition:\n",
      "    \n",
      "    def __init__(self, rdd = None, cont = None, picklef = None, sz = None, \\\n",
      "                 parts = 10, picklefs = None, inds = None, textf = None, \\\n",
      "                 bvecs = None):\n",
      "        # 0. Completely optional stuff\n",
      "        self.bvecs = bvecs\n",
      "        # 1. Set up needded parameters\n",
      "        if cont is None:\n",
      "            cont = FakeSparkContext()\n",
      "        self.cont = cont\n",
      "        if sz is None:\n",
      "            sz = (10, 10, 10)\n",
      "        self.sz = sz\n",
      "        if parts is None:\n",
      "            parts = 10\n",
      "        self.parts = parts\n",
      "        # 2. form RDD\n",
      "        if rdd is not None:\n",
      "            self.rdd = rdd\n",
      "        elif picklefs is not None:\n",
      "            rdds = []\n",
      "            for ind in range(len(picklefs)):\n",
      "                if inds is None:\n",
      "                    evalst = 'cont.pickleFile(picklefs[indx], parts).map(lambda x : _aug_key(x, indx))'\n",
      "                else:\n",
      "                    evalst = 'cont.pickleFile(picklefs[indx], parts).map(lambda x : _u_filter_c(x, inds)).\\\n",
      "                        map(lambda x : _aug_key(x, indx))'\n",
      "                rdd = eval(evalst.replace('indx', str(ind)))\n",
      "                rdds.append(rdd)\n",
      "            new_rdd = cont.union(rdds).\\\n",
      "                combineByKey(lambda x : x, lambda x, y : x + y, lambda x, y: x + y)\n",
      "            self.rdd = new_rdd.map(_sort_combine)\n",
      "            self.rdd.cache()\n",
      "        elif picklef is not None:\n",
      "            self.rdd = cont.pickleFile(picklef, parts).map(_unpickled_to_subarr)\n",
      "            self.rdd.cache()\n",
      "        elif textf is not None:\n",
      "            rt = cont.textFile(textf, parts)\n",
      "            self.rdd = rt.map(txt_to_np)\n",
      "        # compute some self-information\n",
      "        self.index = self.rdd.map(_coords).collect()\n",
      "        ucoords = np.array([[a[0] + b[0], a[1] + b[1], a[2] + b[2], b[3]] for (a, b) in self.index])\n",
      "        self.dims = tuple(np.amax(ucoords, 0))\n",
      "\n",
      "    # computes a function on each voxel and returns an RDD with that result\n",
      "    def compute_quantity(self, func, inds = None):\n",
      "        new_rdd = self.rdd.map(lambda x : _apply_func(x, func, inds))\n",
      "        new_rdd.cache()\n",
      "        return VoxelPartition(cont = self.cont, sz = self.sz, parts = self.parts,\\\n",
      "                              rdd = new_rdd)\n",
      "    \n",
      "    def compute_quantities(self, lfuncs, inds = None):\n",
      "        new_rdd = self.rdd.map(lambda x : _apply_funcs(x, lfuncs, inds))\n",
      "        new_rdd.cache()\n",
      "        return VoxelPartition(cont = self.cont, sz = self.sz, parts = self.parts, \\\n",
      "                              rdd = new_rdd)\n",
      "    \n",
      "    def save_as_pickle_file(self, fname):\n",
      "        self.rdd.map(_subarr_to_compressed).saveAsPickleFile(fname)\n",
      "    \n",
      "    # gets a 2d slice as numpy array\n",
      "    def extract_slice(self, x = None, y = None, z = None, w = 0):\n",
      "        tups = self.rdd.flatMap(lambda t : _extract_slice(t, x, y, z, w)).collect()\n",
      "        if x is not None:\n",
      "            ans = np.zeros((self.dims[1], self.dims[2]))\n",
      "        elif y is not None:\n",
      "            ans = np.zeros((self.dims[0], self.dims[2]))\n",
      "        elif z is not None:\n",
      "            ans = np.zeros((self.dims[0], self.dims[1]))\n",
      "        for tup in tups:\n",
      "            lc = tup[0]\n",
      "            uc = np.array(lc) + np.array(np.shape(tup[1])[:2])\n",
      "            ans[lc[0]:uc[0], lc[1]:uc[1]] = tup[1]\n",
      "        return ans\n",
      "    \n",
      "    def collect_point_cloud(self, ws = None, integer_res = 1):\n",
      "        tups = self.rdd.flatMap(lambda x : _collect_point_cloud(x, None, integer_res)).\\\n",
      "               combineByKey(identity, add, add).collect()\n",
      "        return tups"
     ],
     "language": "python",
     "metadata": {},
     "outputs": [],
     "prompt_number": 177
    },
    {
     "cell_type": "code",
     "collapsed": false,
     "input": [
      "if __name__ == \"__main__\":\n",
      "    import matplotlib.pyplot as plt\n",
      "    s3dir = 'chris1data'\n",
      "    bvecsname = 'chris1_bvec.csv'\n",
      "    fname = 'chris1_coil1.pickle'"
     ],
     "language": "python",
     "metadata": {},
     "outputs": [],
     "prompt_number": 71
    },
    {
     "cell_type": "code",
     "collapsed": false,
     "input": [
      "if __name__ == \"__main__\":\n",
      "    import os\n",
      "    os.chdir('/root/ephemeral-hdfs/bin')\n",
      "    os.system('aws s3 cp s3://' + s3dir + '/' + bvecsname + ' ' + bvecsname)\n",
      "    bvecs = np.loadtxt(bvecsname, delimiter = ' ').T\n",
      "    b0_inds = [i for i in range(150) if sum(bvecs[i,:]**2)==0 and i not in [0, 1]]\n",
      "    print(b0_inds)"
     ],
     "language": "python",
     "metadata": {},
     "outputs": [
      {
       "output_type": "stream",
       "stream": "stdout",
       "text": [
        "[16, 31, 46, 61, 75, 90, 105, 120, 135, 149]\n"
       ]
      }
     ],
     "prompt_number": 79
    },
    {
     "cell_type": "code",
     "collapsed": false,
     "input": [
      "if __name__ == \"__main__\":\n",
      "    import os\n",
      "    os.chdir('/root/ephemeral-hdfs/bin')\n",
      "    os.system('aws s3 --recursive cp s3://chris1data/' + fname + ' ' + fname)\n",
      "    os.system('./hadoop fs -mkdir ' + fname)\n",
      "    os.system('./hadoop fs -put ' + fname + '/* ' + fname + '/')"
     ],
     "language": "python",
     "metadata": {},
     "outputs": [],
     "prompt_number": 8
    },
    {
     "cell_type": "code",
     "collapsed": false,
     "input": [
      "if __name__ == \"__main__\":\n",
      "    parts = 24\n",
      "    def sq(x, y):\n",
      "        return x**2\n",
      "    vp = VoxelPartition(cont = sc, parts = parts, picklef = fname).compute_quantity(sq)"
     ],
     "language": "python",
     "metadata": {},
     "outputs": [],
     "prompt_number": 178
    },
    {
     "cell_type": "code",
     "collapsed": false,
     "input": [
      "if __name__ == \"__main__\":\n",
      "    sl = vp.extract_slice(z = 10, w = 4)\n",
      "    plt.imshow(sl, cmap='bone')"
     ],
     "language": "python",
     "metadata": {},
     "outputs": [
      {
       "metadata": {},
       "output_type": "display_data",
       "png": "[encoded data removed]",
       "text": [
        "<matplotlib.figure.Figure at 0x7fbd2ce738d0>"
       ]
      }
     ],
     "prompt_number": 100
    },
    {
     "cell_type": "code",
     "collapsed": false,
     "input": [
      "if __name__ == \"__main__\":\n",
      "    vp2 = vp.compute_quantities([np.mean, np.std], inds = b0_inds)\n",
      "    print(vp2.dims)"
     ],
     "language": "python",
     "metadata": {},
     "outputs": [
      {
       "output_type": "stream",
       "stream": "stdout",
       "text": [
        "(120, 120, 69, 2)\n"
       ]
      }
     ],
     "prompt_number": 179
    },
    {
     "cell_type": "code",
     "collapsed": false,
     "input": [
      "if __name__ == \"__main__\":\n",
      "    tups = vp2.collect_point_cloud(integer_res = 0.5)\n",
      "    print(len(tups))"
     ],
     "language": "python",
     "metadata": {},
     "outputs": [
      {
       "output_type": "stream",
       "stream": "stdout",
       "text": [
        "192\n"
       ]
      }
     ],
     "prompt_number": 180
    },
    {
     "cell_type": "code",
     "collapsed": false,
     "input": [
      "if __name__ == \"__main__\":\n",
      "    fig = plt.figure()\n",
      "    ax0 = fig.add_subplot(121)\n",
      "    ax0.imshow(vp2.extract_slice(x = 60, w = 0), cmap='bone')\n",
      "    ax1 = fig.add_subplot(122)\n",
      "    ax1.imshow(vp2.extract_slice(x = 60, w = 1), cmap='bone')\n",
      "    "
     ],
     "language": "python",
     "metadata": {},
     "outputs": [
      {
       "metadata": {},
       "output_type": "display_data",
       "png": "[encoded data removed]",
       "text": [
        "<matplotlib.figure.Figure at 0x7fbd2c197d90>"
       ]
      }
     ],
     "prompt_number": 103
    },
    {
     "cell_type": "code",
     "collapsed": false,
     "input": [
      "if __name__ == \"__main__\":"
     ],
     "language": "python",
     "metadata": {},
     "outputs": []
    },
    {
     "cell_type": "code",
     "collapsed": false,
     "input": [
      "if __name__ == \"__main__\":\n",
      "    vp = VoxelPartition(rdd = vp.rdd)"
     ],
     "language": "python",
     "metadata": {},
     "outputs": []
    },
    {
     "cell_type": "code",
     "collapsed": false,
     "input": [
      "if __name__ == \"__main__\":\n",
      "    print(vp.keyset)"
     ],
     "language": "python",
     "metadata": {},
     "outputs": []
    },
    {
     "cell_type": "markdown",
     "metadata": {},
     "source": [
      "### Script for storing an array to txt"
     ]
    },
    {
     "cell_type": "code",
     "collapsed": false,
     "input": [
      "import os\n",
      "def convscript(arr, tempf = 'temp.txt', sz = (10, 10, 10), hadoop_dir = '/root/ephemeral-hdfs'):\n",
      "    \"\"\"\n",
      "    hadoop_dir: no slash on the end, don't include /bin\n",
      "    cont: spark context\n",
      "    \"\"\"\n",
      "    arrs = partition_array3(arr, sz)\n",
      "    arrs = partition_array3(arr, sz)\n",
      "    lenmax = np.prod(sz) * np.shape(arr)[3]\n",
      "    flatarr = np.array([np.hstack([tup[0], np.shape(tup[1]), tup[1].ravel(),\\\n",
      "        np.zeros(lenmax - np.prod(np.shape(tup[1])))]) for tup in arrs])\n",
      "    os.chdir(hadoop_dir + '/bin')\n",
      "    np.savetxt(tempf, flatarr)\n",
      "    print('Wrote to file...')\n",
      "    os.system('./hadoop fs -mkdir '+tempf+' temp/'+tempf)\n",
      "    os.system('./hadoop fs -rmr temp/'+tempf)\n",
      "    os.system('./hadoop fs -put '+tempf+' temp/'+tempf)\n",
      "    print('Copied to hadoop... temp/' + tempf)\n",
      "    os.system('rm '+tempf)\n",
      "    print('Cleaning up...')\n",
      "    return"
     ],
     "language": "python",
     "metadata": {},
     "outputs": [],
     "prompt_number": 5
    },
    {
     "cell_type": "code",
     "collapsed": false,
     "input": [
      "if __name__ == \"__main__\":\n",
      "    import numpy as np\n",
      "    import numpy.random as npr\n",
      "    #from donuts.spark.classes import *\n",
      "    import os\n",
      "    import time\n",
      "    # function arguments\n",
      "    dims = (40, 40, 40, 20)\n",
      "    arr = npr.normal(0, 1, dims)\n",
      "    sz = (10, 10, 10)\n",
      "    convscript(arr, 'temp.txt')"
     ],
     "language": "python",
     "metadata": {},
     "outputs": [
      {
       "output_type": "stream",
       "stream": "stdout",
       "text": [
        "Wrote to file...\n",
        "Copied to hadoop... temp/temp.txt"
       ]
      },
      {
       "output_type": "stream",
       "stream": "stdout",
       "text": [
        "\n",
        "Cleaning up..."
       ]
      },
      {
       "output_type": "stream",
       "stream": "stdout",
       "text": [
        "\n"
       ]
      }
     ],
     "prompt_number": 27
    },
    {
     "cell_type": "code",
     "collapsed": false,
     "input": [
      "if __name__ == \"__main__\":\n",
      "    rdd = sc.textFile('temp/temp.txt', 20).map(txt_to_np)\n",
      "    tup = rdd.takeSample(False, 1)[0]\n",
      "    coords = tup[0]\n",
      "    print(arr[coords[0], coords[1], coords[2], :])\n",
      "    print(tup[1][0, 0, 0, :])"
     ],
     "language": "python",
     "metadata": {},
     "outputs": [
      {
       "output_type": "stream",
       "stream": "stdout",
       "text": [
        "[-1.21480154  2.05813269  0.09221659  0.51116435  1.48773645  0.17734219\n",
        " -1.54529451  0.32421841 -2.19298452 -0.89569408  1.55204075  1.2392434\n",
        "  0.12399026  0.25706187  0.14875756  1.08297756  0.6335233  -0.83150431\n",
        "  1.08053339 -0.19214762]\n",
        "[-1.214844    2.058594    0.09222412  0.5112305   1.487305    0.1773682\n",
        " -1.544922    0.3242188  -2.193359   -0.8955078   1.551758    1.239258\n",
        "  0.1239624   0.2570801   0.1488037   1.083008    0.6333008  -0.831543\n",
        "  1.080078   -0.1921387 ]\n"
       ]
      }
     ],
     "prompt_number": 28
    },
    {
     "cell_type": "markdown",
     "metadata": {},
     "source": [
      "```\n",
      "rdds = []\n",
      "parts = 20\n",
      "picklefs = ['arr1.pickle', 'arr2.pickle']\n",
      "cont = sc\n",
      "ind = -1\n",
      "ind = ind + 1\n",
      "evalst = 'cont.pickleFile(picklefs[indx], parts).map(lambda x : _aug_key(x, indx))'\n",
      "rdd = eval(evalst.replace('indx', str(ind)))\n",
      "smp = rdd.takeSample(False, 1)\n",
      "rdds.append(rdd)\n",
      "new_rdd = cont.union(rdds).combineByKey(lambda x : x, lambda x, y : x + y, lambda x, y: x + y)\n",
      "smp = cont.union(rdds).takeSample(False, 10)\n",
      "smp[0][0]\n",
      "```"
     ]
    },
    {
     "cell_type": "markdown",
     "metadata": {},
     "source": [
      "# Testing"
     ]
    },
    {
     "cell_type": "code",
     "collapsed": false,
     "input": [
      "if __name__ == \"__main__\":\n",
      "    import numpy as np\n",
      "    import numpy.random as npr\n",
      "    from donuts.spark.classes import *\n",
      "    dims = (25, 30, 20, 100)\n",
      "    arr1 = npr.normal(0, 1, dims)\n",
      "    arr2 = npr.normal(10, 1, dims)\n",
      "    sz = (10, 10, 10)\n",
      "    VoxelPartition(arr=arr1, sz=sz, cont = sc).save_as_pickle_file('arr1.pickle')\n",
      "    VoxelPartition(arr=arr2, sz=sz, cont = sc).save_as_pickle_file('arr2.pickle')\n",
      "    vp = VoxelPartition(cont = sc, picklefs = ['arr1.pickle', 'arr2.pickle'], inds = range(1,3))\n",
      "#    means = voxPart.compute_quantities([np.mean, np.var], range(1,3))\n",
      "#    means = voxPart.compute_quantity(np.mean, range(1,3))\n",
      "#    means.save_as_pickle_file('means.pickle')\n",
      "#    means2 = VoxelPartition(cont = sc, picklef = 'means.pickle')\n",
      "    print(np.shape(vp.rdd.first()[1]))"
     ],
     "language": "python",
     "metadata": {},
     "outputs": [
      {
       "output_type": "stream",
       "stream": "stdout",
       "text": [
        "(10, 10, 10, 4)\n"
       ]
      }
     ],
     "prompt_number": 2
    },
    {
     "cell_type": "code",
     "collapsed": false,
     "input": [
      "if __name__ == \"__main__\":\n",
      "    import numpy as np\n",
      "    import numpy.random as npr\n",
      "    from donuts.spark.classes import *\n",
      "    import os\n",
      "    dims = (40, 40, 40, 20)\n",
      "    arr1 = npr.normal(0, 1, dims)\n",
      "    sz = (10, 10, 10)\n",
      "    convscript(arr1, 'temp1.txt')\n",
      "    vp = VoxelPartition(textf = 'temp/temp1.txt', cont=sc)\n",
      "    tup = vp.rdd.takeSample(False, 1)[0]\n",
      "    coords = tup[0]\n",
      "    print(arr1[coords[0], coords[1], coords[2], 0:100:10])\n",
      "    print(tup[1][0, 0, 0, 0:100:10])\n",
      "    os.chdir('/root/ephemeral-hdfs/bin')\n",
      "    os.system('./hadoop fs -rmr arr1.pickle')\n",
      "    vp.save_as_pickle_file('arr1.pickle')\n",
      "    arr2 = npr.normal(0, 1, dims)\n",
      "    convscript(arr2, 'temp2.txt')\n",
      "    vp = VoxelPartition(textf = 'temp/temp2.txt', cont=sc)\n",
      "    tup = vp.rdd.takeSample(False, 1)[0]\n",
      "    coords = tup[0]\n",
      "    print(arr2[coords[0], coords[1], coords[2], 0:100:10])\n",
      "    print(tup[1][0, 0, 0, 0:100:10])\n",
      "    os.chdir('/root/ephemeral-hdfs/bin')\n",
      "    os.system('./hadoop fs -rmr arr2.pickle')\n",
      "    vp.save_as_pickle_file('arr2.pickle')\n",
      "    arr3 = npr.normal(0, 1, dims)\n",
      "    convscript(arr3, 'temp3.txt')\n",
      "    vp = VoxelPartition(textf = 'temp/temp3.txt', cont=sc)\n",
      "    tup = vp.rdd.takeSample(False, 1)[0]\n",
      "    coords = tup[0]\n",
      "    print(arr3[coords[0], coords[1], coords[2], 0:100:10])\n",
      "    print(tup[1][0, 0, 0, 0:100:10])\n",
      "    os.chdir('/root/ephemeral-hdfs/bin')\n",
      "    os.system('./hadoop fs -rmr arr3.pickle')\n",
      "    vp.save_as_pickle_file('arr3.pickle')"
     ],
     "language": "python",
     "metadata": {},
     "outputs": [
      {
       "output_type": "stream",
       "stream": "stdout",
       "text": [
        "Wrote to file...\n",
        "Copied to hadoop... temp/temp1.txt"
       ]
      },
      {
       "output_type": "stream",
       "stream": "stdout",
       "text": [
        "\n",
        "Cleaning up...\n",
        "[-1.19754165 -1.07779665]"
       ]
      },
      {
       "output_type": "stream",
       "stream": "stdout",
       "text": [
        "\n",
        "[-1.19754165 -1.07779665]\n",
        "Wrote to file..."
       ]
      },
      {
       "output_type": "stream",
       "stream": "stdout",
       "text": [
        "\n",
        "Copied to hadoop... temp/temp2.txt"
       ]
      },
      {
       "output_type": "stream",
       "stream": "stdout",
       "text": [
        "\n",
        "Cleaning up...\n",
        "[-1.53068172  1.44385167]"
       ]
      },
      {
       "output_type": "stream",
       "stream": "stdout",
       "text": [
        "\n",
        "[-1.53068172  1.44385167]\n",
        "Wrote to file..."
       ]
      },
      {
       "output_type": "stream",
       "stream": "stdout",
       "text": [
        "\n",
        "Copied to hadoop... temp/temp3.txt"
       ]
      },
      {
       "output_type": "stream",
       "stream": "stdout",
       "text": [
        "\n",
        "Cleaning up...\n",
        "[-0.39854741  0.30700296]"
       ]
      },
      {
       "output_type": "stream",
       "stream": "stdout",
       "text": [
        "\n",
        "[-0.39854741  0.30700296]\n"
       ]
      }
     ],
     "prompt_number": 8
    },
    {
     "cell_type": "code",
     "collapsed": false,
     "input": [
      "if __name__ == \"__main__\":\n",
      "    main_arr = np.concatenate([arr1, arr2], axis = 3)\n",
      "    vpm = VoxelPartition(picklefs = ['arr1.pickle', 'arr2.pickle'], cont = sc)\n",
      "    spm = vpm.rdd.takeSample(False, 1)[0]\n",
      "    coords = spm[0]\n",
      "    print(main_arr[coords[0], coords[1], coords[2],0:60:10])\n",
      "    print(spm[1][0, 0, 0, 0:60:10])"
     ],
     "language": "python",
     "metadata": {},
     "outputs": [
      {
       "output_type": "stream",
       "stream": "stdout",
       "text": [
        "[-0.32658075 -0.54662011  0.50886207  1.72487103]\n",
        "[-0.32666016 -0.54638672  0.50878906  1.72460938]\n"
       ]
      }
     ],
     "prompt_number": 9
    }
   ],
   "metadata": {}
  }
 ]
}