{
 "metadata": {
  "name": "",
  "signature": "sha256:ede88638810392ac50d7eb0a19daaa3eb3b1f821aa3d638f9d1c9ae3dbf323e6"
 },
 "nbformat": 3,
 "nbformat_minor": 0,
 "worksheets": []
}